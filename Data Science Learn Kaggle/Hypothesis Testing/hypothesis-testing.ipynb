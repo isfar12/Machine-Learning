{
 "cells": [
  {
   "cell_type": "markdown",
   "id": "7063aed3",
   "metadata": {
    "papermill": {
     "duration": 0.013387,
     "end_time": "2022-09-14T19:03:15.413498",
     "exception": false,
     "start_time": "2022-09-14T19:03:15.400111",
     "status": "completed"
    },
    "tags": []
   },
   "source": [
    "<img src=\"https://miro.medium.com/max/930/0*uj57wvrqEnVe9ijg\" width=2000>\n",
    "\n",
    "# <div style=\"color:white;display:fill;border-radius:5px;background-color:#00B1D2FF;letter-spacing:0.1px;overflow:hidden\"><p style=\"padding:15px;color:white;overflow:hidden;margin:0;font-size:100%;text-align:center\">Table of Contents</p></div>\n",
    "\n",
    "1. [What is Hypothesis Testing](#1)\n",
    "2. [Null Hypothesis vs Alternative Hypothesis](#2)\n",
    "    * [Null Hypothesis](#3)\n",
    "    * [Alternative Hypothesis](#4)\n",
    "        * [Two-sided hypothesis](#5)\n",
    "        * [Left Side hypothesis](#6)\n",
    "        * [Right Side hypothesis](#7)\n",
    "3. [Null Hypothesis vs Alternative Hypothesis: Which Statistical Test to Choose?](#8)\n",
    "4. [Dataset to demonstrate the use of each type of statistical test](#9)\n",
    "5. [Most Popular Types of Statistical Tests in Data Science](#10)\n",
    "    * [Z-test for Population Mean](#11)\n",
    "    * [One-Sample t-test for Population Mean](#12)\n",
    "    * [Paired t-Test](#13)\n",
    "    * [Two-Sample t-Test](#14)\n",
    "    * [ANOVA](#15)\n",
    "    * [Chi-Square Goodness-of-Fit (GoF)](#16)\n",
    "    * [Chi-Square Independence Test](#17)\n",
    "    \n",
    "   \n",
    "# <div style=\"color:white;display:fill;border-radius:5px;background-color:#00B1D2FF;letter-spacing:0.1px;overflow:hidden\"><p id='1' style=\"padding:15px;color:white;overflow:hidden;margin:0;font-size:100%;\">1 | What is Hypothesis Testing</p></div>\n",
    "\n",
    "As we may be aware, when we draw conclusions from data, we do it based on a group of samples rather than the actual population. Can we trust the results from our data to make a broad assumption about the population? is the main query that arises from it. The primary objective of hypothesis testing is this.\n",
    "\n",
    "There are several steps that we should do to properly conduct a hypothesis testing:\n",
    "* First, form our null hypothesis and alternative hypothesis.\n",
    "* Set our significance level. The significance level varies depending on our use case, but the default value is 0.05.\n",
    "* Perform a statistical test that suits our data.\n",
    "* Check the resulting p-Value. If the p-Value is smaller than our significance level, then we reject the null hypothesis in favor of our alternative hypothesis. If the p-Value is higher than our significance level, then we go with our null hypothesis.\n",
    "\n",
    "You've seen the broad methodology for conducting hypothesis testing up to this point. But everything up to this point may have seemed a little abstract to you. How can we correctly create a null hypothesis and an alternative hypothesis given our data? What kind of statistical analysis should we run?\n",
    "\n",
    "# <div style=\"color:white;display:fill;border-radius:5px;background-color:#00B1D2FF;letter-spacing:0.1px;overflow:hidden\"><p id='2' style=\"padding:15px;color:white;overflow:hidden;margin:0;font-size:100%;\">2 | Null Hypothesis vs Alternative Hypothesis</p></div>\n",
    "\n",
    "<h4 id='3'>Null Hypothesis</h4>\n",
    "\n",
    "Null hypothesis is the accepted status quo. It’s the default value. It states that nothing happened, no association exists, no significant difference between the mean or the proportion of our sample and the population.\n",
    "\n",
    "<h4 id='4'>Alternative Hypothesis</h4>\n",
    "\n",
    "The alternative hypothesis is the complete opposite of the null hypothesis. It states that there is something going on, there is a significant difference between the mean or the proportion of our sample and the population\n",
    "\n",
    "<h4 id='5'>Two-sided Hypothesis</h4>\n",
    "\n",
    "When we only want to determine whether there is a significant difference between the mean or proportion of our sample data with the population, we can utilize a two-sided hypothesis.\n",
    "\n",
    "<center><img src='https://cdn.sanity.io/images/oaglaatp/production/b7ede65157deaf288e6a13a977757f550c0a1ced-700x434.png?w=700&h=434&auto=format'></center>\n",
    "\n",
    "<h4 id='6'>Left-sided Hypothesis</h4>\n",
    "\n",
    "Left-sided hypothesis can be used when we want to know if the mean or proportion of the population is smaller than our sample data.\n",
    "\n",
    "<center><img src='https://cdn.sanity.io/images/oaglaatp/production/09db4e87fa4e7ed3f18151e4fdc8959409d4cd9a-597x377.png?w=597&h=377&auto=format'></center>\n",
    "\n",
    "<h4 id='7'>Right-sided Hypothesis</h4>\n",
    "\n",
    "Right-sided hypothesis can be used when we want to know if the mean or proportion of the population is larger than our sample data.\n",
    "\n",
    "<center><img src='https://cdn.sanity.io/images/oaglaatp/production/97f40fce6e4ff626e66c2e5dae077133ed6dd7e2-643x410.png?w=643&h=410&auto=format'></center>\n",
    "\n",
    "\n",
    "# <div style=\"color:white;display:fill;border-radius:5px;background-color:#00B1D2FF;letter-spacing:0.1px;overflow:hidden\"><p id='8' style=\"padding:15px;color:white;overflow:hidden;margin:0;font-size:100%;\">3 | Null Hypothesis vs Alternative Hypothesis: Which Statistical Test to Choose?</p></div>\n",
    "\n",
    "Since the null hypothesis is always going to be our default value, we cannot ‘accept’ the null hypothesis. We can either reject the null hypothesis in favor of the alternative hypothesis, or go with our null hypothesis.\n",
    "\n",
    "Now, to know whether or not we should reject the null hypothesis, it depends on two factors:\n",
    "\n",
    "*  The significance level\n",
    "*  The p-Value\n",
    "    \n",
    "We can set the value of significance level in advance, for example 0.05. Meanwhile, we need to conduct test statistics in order to find the p-Value.\n",
    "\n",
    "The general idea is that if the resulting p-Value is less than our significance level, we reject the null hypothesis. If the p-Value is larger than our significance level, we go with our null hypothesis.\n",
    "\n",
    "The problem is, there are various test statistics out there. Which type of statistical test we should apply is totally dependent on our use case and data. So the natural question that comes next is, which type of statistical test should we choose considering the problem and data that we have?\n",
    "\n",
    "To answer this question, we’re going to show you different types of statistical tests available out there and when you’re going to need each of them with one example dataset as our use case. So, let’s take a look at the dataset first.\n",
    "\n",
    "\n",
    "# <div style=\"color:white;display:fill;border-radius:5px;background-color:#00B1D2FF;letter-spacing:0.1px;overflow:hidden\"><p id='9' style=\"padding:15px;color:white;overflow:hidden;margin:0;font-size:100%;\">4 | Dataset to demonstrate the use of each type of statistical test</p></div>\n",
    "\n",
    "To demonstrate the use of each type of statistical test, of course we need data for it. In this article, we’re going to use a student dataset. Below is the snapshot of what the dataset looks like:"
   ]
  },
  {
   "cell_type": "code",
   "execution_count": 1,
   "id": "7e9c6b47",
   "metadata": {
    "execution": {
     "iopub.execute_input": "2022-09-14T19:03:15.433079Z",
     "iopub.status.busy": "2022-09-14T19:03:15.432056Z",
     "iopub.status.idle": "2022-09-14T19:03:15.544566Z",
     "shell.execute_reply": "2022-09-14T19:03:15.543228Z"
    },
    "papermill": {
     "duration": 0.125714,
     "end_time": "2022-09-14T19:03:15.547649",
     "exception": false,
     "start_time": "2022-09-14T19:03:15.421935",
     "status": "completed"
    },
    "tags": []
   },
   "outputs": [
    {
     "data": {
      "text/html": [
       "<div>\n",
       "<style scoped>\n",
       "    .dataframe tbody tr th:only-of-type {\n",
       "        vertical-align: middle;\n",
       "    }\n",
       "\n",
       "    .dataframe tbody tr th {\n",
       "        vertical-align: top;\n",
       "    }\n",
       "\n",
       "    .dataframe thead th {\n",
       "        text-align: right;\n",
       "    }\n",
       "</style>\n",
       "<table border=\"1\" class=\"dataframe\">\n",
       "  <thead>\n",
       "    <tr style=\"text-align: right;\">\n",
       "      <th></th>\n",
       "      <th>Feaure</th>\n",
       "      <th>Data Type</th>\n",
       "      <th>Num of Nulls</th>\n",
       "      <th>Num of Unique</th>\n",
       "    </tr>\n",
       "  </thead>\n",
       "  <tbody>\n",
       "    <tr>\n",
       "      <th>0</th>\n",
       "      <td>stud.id</td>\n",
       "      <td>int64</td>\n",
       "      <td>0</td>\n",
       "      <td>8239</td>\n",
       "    </tr>\n",
       "    <tr>\n",
       "      <th>1</th>\n",
       "      <td>name</td>\n",
       "      <td>object</td>\n",
       "      <td>0</td>\n",
       "      <td>8174</td>\n",
       "    </tr>\n",
       "    <tr>\n",
       "      <th>2</th>\n",
       "      <td>gender</td>\n",
       "      <td>object</td>\n",
       "      <td>0</td>\n",
       "      <td>2</td>\n",
       "    </tr>\n",
       "    <tr>\n",
       "      <th>3</th>\n",
       "      <td>age</td>\n",
       "      <td>int64</td>\n",
       "      <td>0</td>\n",
       "      <td>47</td>\n",
       "    </tr>\n",
       "    <tr>\n",
       "      <th>4</th>\n",
       "      <td>height</td>\n",
       "      <td>int64</td>\n",
       "      <td>0</td>\n",
       "      <td>67</td>\n",
       "    </tr>\n",
       "    <tr>\n",
       "      <th>5</th>\n",
       "      <td>weight</td>\n",
       "      <td>float64</td>\n",
       "      <td>0</td>\n",
       "      <td>464</td>\n",
       "    </tr>\n",
       "    <tr>\n",
       "      <th>6</th>\n",
       "      <td>religion</td>\n",
       "      <td>object</td>\n",
       "      <td>0</td>\n",
       "      <td>5</td>\n",
       "    </tr>\n",
       "    <tr>\n",
       "      <th>7</th>\n",
       "      <td>nc.score</td>\n",
       "      <td>float64</td>\n",
       "      <td>0</td>\n",
       "      <td>301</td>\n",
       "    </tr>\n",
       "    <tr>\n",
       "      <th>8</th>\n",
       "      <td>semester</td>\n",
       "      <td>object</td>\n",
       "      <td>0</td>\n",
       "      <td>7</td>\n",
       "    </tr>\n",
       "    <tr>\n",
       "      <th>9</th>\n",
       "      <td>major</td>\n",
       "      <td>object</td>\n",
       "      <td>0</td>\n",
       "      <td>6</td>\n",
       "    </tr>\n",
       "    <tr>\n",
       "      <th>10</th>\n",
       "      <td>minor</td>\n",
       "      <td>object</td>\n",
       "      <td>0</td>\n",
       "      <td>6</td>\n",
       "    </tr>\n",
       "    <tr>\n",
       "      <th>11</th>\n",
       "      <td>score1</td>\n",
       "      <td>float64</td>\n",
       "      <td>3347</td>\n",
       "      <td>68</td>\n",
       "    </tr>\n",
       "    <tr>\n",
       "      <th>12</th>\n",
       "      <td>score2</td>\n",
       "      <td>float64</td>\n",
       "      <td>3347</td>\n",
       "      <td>68</td>\n",
       "    </tr>\n",
       "    <tr>\n",
       "      <th>13</th>\n",
       "      <td>online.tutorial</td>\n",
       "      <td>int64</td>\n",
       "      <td>0</td>\n",
       "      <td>2</td>\n",
       "    </tr>\n",
       "    <tr>\n",
       "      <th>14</th>\n",
       "      <td>graduated</td>\n",
       "      <td>int64</td>\n",
       "      <td>0</td>\n",
       "      <td>2</td>\n",
       "    </tr>\n",
       "    <tr>\n",
       "      <th>15</th>\n",
       "      <td>salary</td>\n",
       "      <td>float64</td>\n",
       "      <td>6486</td>\n",
       "      <td>1753</td>\n",
       "    </tr>\n",
       "  </tbody>\n",
       "</table>\n",
       "</div>"
      ],
      "text/plain": [
       "             Feaure Data Type  Num of Nulls  Num of Unique\n",
       "0           stud.id     int64             0           8239\n",
       "1              name    object             0           8174\n",
       "2            gender    object             0              2\n",
       "3               age     int64             0             47\n",
       "4            height     int64             0             67\n",
       "5            weight   float64             0            464\n",
       "6          religion    object             0              5\n",
       "7          nc.score   float64             0            301\n",
       "8          semester    object             0              7\n",
       "9             major    object             0              6\n",
       "10            minor    object             0              6\n",
       "11           score1   float64          3347             68\n",
       "12           score2   float64          3347             68\n",
       "13  online.tutorial     int64             0              2\n",
       "14        graduated     int64             0              2\n",
       "15           salary   float64          6486           1753"
      ]
     },
     "metadata": {},
     "output_type": "display_data"
    }
   ],
   "source": [
    "import pandas as pd\n",
    "\n",
    "df = pd.read_csv('../input/student/students.csv')\n",
    "\n",
    "def basic_summary(df):\n",
    "    summary = pd.DataFrame(df.dtypes, columns=['Data Type']).reset_index().rename(columns={'index':'Feaure'})\n",
    "    summary['Num of Nulls'] = df.isnull().sum().values\n",
    "    summary['Num of Unique'] = df.nunique().values\n",
    "    return summary\n",
    "\n",
    "display(basic_summary(df))"
   ]
  },
  {
   "cell_type": "markdown",
   "id": "f5b720f5",
   "metadata": {
    "papermill": {
     "duration": 0.008659,
     "end_time": "2022-09-14T19:03:15.564973",
     "exception": false,
     "start_time": "2022-09-14T19:03:15.556314",
     "status": "completed"
    },
    "tags": []
   },
   "source": [
    "# <div style=\"color:white;display:fill;border-radius:5px;background-color:#00B1D2FF;letter-spacing:0.1px;overflow:hidden\"><p id='10' style=\"padding:15px;color:white;overflow:hidden;margin:0;font-size:100%;\">5 | Most Popular Types of Statistical Tests in Data Science</p></div>\n",
    "\n",
    "Now that we know the data that we will work with in this article, let’s start with the first statistical test type, which is the Z-test for population mean.\n",
    "\n",
    "# <div style=\"color:white;display:fill;border-radius:5px;background-color:#00B1D2FF;letter-spacing:0.1px;overflow:hidden\"><p id='11' style=\"padding:15px;color:white;overflow:hidden;margin:0;font-size:100%;\">Z-Test for population mean</p></div>\n",
    "\n",
    "Z-test for population mean is the simplest statistical test type out there, which makes it a good subject for us to start learning about hypothesis testing. As the name suggests, Z-test is a statistical test to compare the average of sample mean against the population mean.\n",
    "\n",
    "To properly conduct this test, we need to make sure that our data fulfills the prerequisites as follows:\n",
    "\n",
    "* The variable in our data is a continuous variable and follows a normal distribution or\n",
    "* We have a large sample size for our variable\n",
    "* The sample is randomly selected from its population\n",
    "* The population standard deviation is known\n",
    "    \n",
    "The last point there, which is the population standard deviation must be known, is almost never fulfilled in real-life because normally we don’t know the standard deviation of the population.\n",
    "\n",
    "This is the use case that can be answered with the Z-test because we fulfill the following conditions:\n",
    "\n",
    "* We have gathered a large sample data\n",
    "* Weight is a continuous variable\n",
    "    \n",
    "Let’s say that our significance value is 0.05. Next, we can compute the Z-score and p-Value by using a statistical library in Python or R. In this article, we’re going to use the statsmodels library in Python to conduct the Z-test and compute the p-Value."
   ]
  },
  {
   "cell_type": "code",
   "execution_count": 2,
   "id": "4e7b3568",
   "metadata": {
    "execution": {
     "iopub.execute_input": "2022-09-14T19:03:15.584212Z",
     "iopub.status.busy": "2022-09-14T19:03:15.583715Z",
     "iopub.status.idle": "2022-09-14T19:03:16.705168Z",
     "shell.execute_reply": "2022-09-14T19:03:16.704195Z"
    },
    "papermill": {
     "duration": 1.134349,
     "end_time": "2022-09-14T19:03:16.708169",
     "exception": false,
     "start_time": "2022-09-14T19:03:15.573820",
     "status": "completed"
    },
    "tags": []
   },
   "outputs": [
    {
     "name": "stdout",
     "output_type": "stream",
     "text": [
      "4.0517857849264745e-118\n",
      "\n",
      "We reject Null hypothesis\n"
     ]
    }
   ],
   "source": [
    "from statsmodels.stats.weightstats import ztest\n",
    "\n",
    "test_stats, p_value = ztest(x1=df['weight'], value=70.8)\n",
    "\n",
    "print(p_value)\n",
    "\n",
    "if p_value < 0.05:\n",
    "    print(\"\\nWe reject Null hypothesis\")\n",
    "else:\n",
    "    print(\"\\nWe accept Alternate hypothesis\")"
   ]
  },
  {
   "cell_type": "markdown",
   "id": "51cc2de4",
   "metadata": {
    "papermill": {
     "duration": 0.008255,
     "end_time": "2022-09-14T19:03:16.725372",
     "exception": false,
     "start_time": "2022-09-14T19:03:16.717117",
     "status": "completed"
    },
    "tags": []
   },
   "source": [
    "# <div style=\"color:white;display:fill;border-radius:5px;background-color:#00B1D2FF;letter-spacing:0.1px;overflow:hidden\"><p id='12' style=\"padding:15px;color:white;overflow:hidden;margin:0;font-size:100%;\">One-sample t-test for population mean</p></div>\n",
    "\n",
    "As you can see from the code snippet above, the p-Value that we got is 4.05e-118, which is way smaller than our significant value. Hence, we conclude that our data provides strong evidence to reject the null hypothesis at significance level of 0.05.\n",
    "\n",
    "One-sample t-test is the more general version of the Z-test. As mentioned previously, what makes the Z-test difficult to implement in real-life is its assumption about population standard deviation that we need to fulfill. In real-life, oftentimes we don’t know the population standard deviation. And this is where we can conduct one sample t-test.\n",
    "\n",
    "To properly conduct this test, we need to make sure that our data fulfills the following condition:\n",
    "\n",
    "* The variable in our data is a continuous variable and follows a normal distribution or\n",
    "* We have a large sample size\n",
    "* The sample is randomly selected from its population\n",
    "    \n",
    "Let’s say that we set the significance value to be 0.05. Next, we can compute the test statistics and p-Value with statistical libraries available out there. In this case, we’re going to use Scipy library in Python to compute the test statistic and p-Value."
   ]
  },
  {
   "cell_type": "code",
   "execution_count": 3,
   "id": "8f5812ef",
   "metadata": {
    "execution": {
     "iopub.execute_input": "2022-09-14T19:03:16.743733Z",
     "iopub.status.busy": "2022-09-14T19:03:16.743274Z",
     "iopub.status.idle": "2022-09-14T19:03:16.753202Z",
     "shell.execute_reply": "2022-09-14T19:03:16.751875Z"
    },
    "papermill": {
     "duration": 0.022738,
     "end_time": "2022-09-14T19:03:16.756319",
     "exception": false,
     "start_time": "2022-09-14T19:03:16.733581",
     "status": "completed"
    },
    "tags": []
   },
   "outputs": [
    {
     "name": "stdout",
     "output_type": "stream",
     "text": [
      "1.6709961011966602e-114\n",
      "\n",
      "We Reject Null Hypothesis\n"
     ]
    }
   ],
   "source": [
    "from scipy.stats import ttest_1samp\n",
    "\n",
    "test_statistic, p_value = ttest_1samp(df['weight'], popmean=70.8, alternative='two-sided')\n",
    "\n",
    "print(p_value)\n",
    "\n",
    "if p_value < 0.05:\n",
    "    print(\"\\nWe Reject Null Hypothesis\")\n",
    "else:\n",
    "    print(\"\\nWe Accept Alternate Hypothesis\")"
   ]
  },
  {
   "cell_type": "markdown",
   "id": "89955bbf",
   "metadata": {
    "papermill": {
     "duration": 0.009647,
     "end_time": "2022-09-14T19:03:16.775142",
     "exception": false,
     "start_time": "2022-09-14T19:03:16.765495",
     "status": "completed"
    },
    "tags": []
   },
   "source": [
    "As you can see, the p-Value that we got is extremely small, which is 167e-114. This means that at 0.05 significance level, our data provides very strong evidence to reject the null hypothesis, i.e the average weight of European students is indeed different from the average weight of European adults.\n",
    "\n",
    "# <div style=\"color:white;display:fill;border-radius:5px;background-color:#00B1D2FF;letter-spacing:0.1px;overflow:hidden\"><p id='13' style=\"padding:15px;color:white;overflow:hidden;margin:0;font-size:100%;\">Paired t-tests</p></div>\n",
    "\n",
    "In the previous section, we have seen how we can conduct a statistical test when we want to compare the means of our sample with the general population.\n",
    "\n",
    "With paired t-tests, the goal is different compared to one-sample t-test. Instead of comparing our sample with the population, we want to compare two different conditions on the same variable and then check whether there is any significant difference between the two conditions.\n",
    "\n",
    "To properly conduct this test, we need to make sure that our data fulfill the following conditions:\n",
    "\n",
    "* The variable in our data is a continuous variable and follows a normal distribution or\n",
    "* We have a large sample size\n",
    "* The sample is randomly selected from its population"
   ]
  },
  {
   "cell_type": "code",
   "execution_count": 4,
   "id": "abfe7bc4",
   "metadata": {
    "execution": {
     "iopub.execute_input": "2022-09-14T19:03:16.796441Z",
     "iopub.status.busy": "2022-09-14T19:03:16.795435Z",
     "iopub.status.idle": "2022-09-14T19:03:16.820642Z",
     "shell.execute_reply": "2022-09-14T19:03:16.819654Z"
    },
    "papermill": {
     "duration": 0.038146,
     "end_time": "2022-09-14T19:03:16.823126",
     "exception": false,
     "start_time": "2022-09-14T19:03:16.784980",
     "status": "completed"
    },
    "tags": []
   },
   "outputs": [
    {
     "data": {
      "text/html": [
       "<div>\n",
       "<style scoped>\n",
       "    .dataframe tbody tr th:only-of-type {\n",
       "        vertical-align: middle;\n",
       "    }\n",
       "\n",
       "    .dataframe tbody tr th {\n",
       "        vertical-align: top;\n",
       "    }\n",
       "\n",
       "    .dataframe thead th {\n",
       "        text-align: right;\n",
       "    }\n",
       "</style>\n",
       "<table border=\"1\" class=\"dataframe\">\n",
       "  <thead>\n",
       "    <tr style=\"text-align: right;\">\n",
       "      <th></th>\n",
       "      <th>name</th>\n",
       "      <th>score1</th>\n",
       "      <th>score2</th>\n",
       "      <th>online.tutorial</th>\n",
       "    </tr>\n",
       "  </thead>\n",
       "  <tbody>\n",
       "    <tr>\n",
       "      <th>11</th>\n",
       "      <td>Lang, Mackenzie</td>\n",
       "      <td>62.0</td>\n",
       "      <td>61.0</td>\n",
       "      <td>1</td>\n",
       "    </tr>\n",
       "    <tr>\n",
       "      <th>13</th>\n",
       "      <td>Covar Orendain, Christopher</td>\n",
       "      <td>71.0</td>\n",
       "      <td>76.0</td>\n",
       "      <td>1</td>\n",
       "    </tr>\n",
       "    <tr>\n",
       "      <th>14</th>\n",
       "      <td>Lopez, Monique</td>\n",
       "      <td>66.0</td>\n",
       "      <td>70.0</td>\n",
       "      <td>1</td>\n",
       "    </tr>\n",
       "    <tr>\n",
       "      <th>16</th>\n",
       "      <td>Adams, Jose</td>\n",
       "      <td>87.0</td>\n",
       "      <td>91.0</td>\n",
       "      <td>1</td>\n",
       "    </tr>\n",
       "    <tr>\n",
       "      <th>19</th>\n",
       "      <td>Roybal, Ebony</td>\n",
       "      <td>69.0</td>\n",
       "      <td>46.0</td>\n",
       "      <td>1</td>\n",
       "    </tr>\n",
       "    <tr>\n",
       "      <th>...</th>\n",
       "      <td>...</td>\n",
       "      <td>...</td>\n",
       "      <td>...</td>\n",
       "      <td>...</td>\n",
       "    </tr>\n",
       "    <tr>\n",
       "      <th>8230</th>\n",
       "      <td>Robinson, Clayton</td>\n",
       "      <td>88.0</td>\n",
       "      <td>89.0</td>\n",
       "      <td>1</td>\n",
       "    </tr>\n",
       "    <tr>\n",
       "      <th>8234</th>\n",
       "      <td>Marler, Jalen</td>\n",
       "      <td>71.0</td>\n",
       "      <td>77.0</td>\n",
       "      <td>1</td>\n",
       "    </tr>\n",
       "    <tr>\n",
       "      <th>8237</th>\n",
       "      <td>Villa, Raechelle</td>\n",
       "      <td>77.0</td>\n",
       "      <td>75.0</td>\n",
       "      <td>1</td>\n",
       "    </tr>\n",
       "    <tr>\n",
       "      <th>8238</th>\n",
       "      <td>Ngo, Preston</td>\n",
       "      <td>50.0</td>\n",
       "      <td>46.0</td>\n",
       "      <td>1</td>\n",
       "    </tr>\n",
       "    <tr>\n",
       "      <th>8239</th>\n",
       "      <td>Bernhard, Estela</td>\n",
       "      <td>47.0</td>\n",
       "      <td>59.0</td>\n",
       "      <td>1</td>\n",
       "    </tr>\n",
       "  </tbody>\n",
       "</table>\n",
       "<p>3182 rows × 4 columns</p>\n",
       "</div>"
      ],
      "text/plain": [
       "                             name  score1  score2  online.tutorial\n",
       "11                Lang, Mackenzie    62.0    61.0                1\n",
       "13    Covar Orendain, Christopher    71.0    76.0                1\n",
       "14                 Lopez, Monique    66.0    70.0                1\n",
       "16                    Adams, Jose    87.0    91.0                1\n",
       "19                  Roybal, Ebony    69.0    46.0                1\n",
       "...                           ...     ...     ...              ...\n",
       "8230            Robinson, Clayton    88.0    89.0                1\n",
       "8234                Marler, Jalen    71.0    77.0                1\n",
       "8237             Villa, Raechelle    77.0    75.0                1\n",
       "8238                 Ngo, Preston    50.0    46.0                1\n",
       "8239             Bernhard, Estela    47.0    59.0                1\n",
       "\n",
       "[3182 rows x 4 columns]"
      ]
     },
     "execution_count": 4,
     "metadata": {},
     "output_type": "execute_result"
    }
   ],
   "source": [
    "df_score = df[\n",
    "    (df['online.tutorial'] == 1) & \n",
    "    (df['score1'].notnull()) & \n",
    "    (df['score2'].notnull())\n",
    "][['name','score1','score2','online.tutorial']]\n",
    "df_score"
   ]
  },
  {
   "cell_type": "markdown",
   "id": "40556f6b",
   "metadata": {
    "papermill": {
     "duration": 0.008312,
     "end_time": "2022-09-14T19:03:16.840323",
     "exception": false,
     "start_time": "2022-09-14T19:03:16.832011",
     "status": "completed"
    },
    "tags": []
   },
   "source": [
    "First, as usual, we set our significance level, which in this case let’s set it to 0.05. Next, we form our null hypothesis and alternative hypothesis as follows:\n",
    "\n",
    "* Null hypothesis: the average grades before and after taking an online learning tutorial is the same.\n",
    "* Alternative hypothesis: the average grades after taking an online learning tutorial (score2) is higher than before (score1).\n",
    "\n",
    "Notice that with the way we formulate the alternative hypothesis, we’re conducting a left-sided hypothesis. Now let’s compute the t-statistics by plugging in values to paired t-tests equation above:"
   ]
  },
  {
   "cell_type": "code",
   "execution_count": 5,
   "id": "33f49f94",
   "metadata": {
    "execution": {
     "iopub.execute_input": "2022-09-14T19:03:16.860826Z",
     "iopub.status.busy": "2022-09-14T19:03:16.859603Z",
     "iopub.status.idle": "2022-09-14T19:03:16.868426Z",
     "shell.execute_reply": "2022-09-14T19:03:16.866959Z"
    },
    "papermill": {
     "duration": 0.021256,
     "end_time": "2022-09-14T19:03:16.871017",
     "exception": false,
     "start_time": "2022-09-14T19:03:16.849761",
     "status": "completed"
    },
    "tags": []
   },
   "outputs": [
    {
     "name": "stdout",
     "output_type": "stream",
     "text": [
      "8.946942058314536e-77\n",
      "\n",
      "We Reject Null Hypothesis\n"
     ]
    }
   ],
   "source": [
    "from scipy.stats import ttest_rel\n",
    "\n",
    "test_statistic, p_value = ttest_rel(df_score['score1'], df_score['score2'],alternative='less')\n",
    "\n",
    "print(p_value)\n",
    "\n",
    "if p_value < 0.05:\n",
    "    print(\"\\nWe Reject Null Hypothesis\")\n",
    "else:\n",
    "    print(\"\\nWe Accept Alternate Hypothesis\")"
   ]
  },
  {
   "cell_type": "markdown",
   "id": "3d4af32f",
   "metadata": {
    "papermill": {
     "duration": 0.008597,
     "end_time": "2022-09-14T19:03:16.888474",
     "exception": false,
     "start_time": "2022-09-14T19:03:16.879877",
     "status": "completed"
    },
    "tags": []
   },
   "source": [
    "As you can see, in the end the p-Value is very small, which means that we can say that the average student’s grades after taking an online tutorial is indeed higher than before. At a significance level of 0.01, we reject the null hypothesis in favor of the alternative hypothesis.\n",
    "\n",
    "But sometimes we may have the following hypothesis: probably the second exam is easier than the first exam, thus the students are performing better in the second exam. To prove this hypothesis, we’re going to take the data from students who didn’t take the online tutorial and compare the grades of their first and second exam."
   ]
  },
  {
   "cell_type": "code",
   "execution_count": 6,
   "id": "a97ed5ed",
   "metadata": {
    "execution": {
     "iopub.execute_input": "2022-09-14T19:03:16.908753Z",
     "iopub.status.busy": "2022-09-14T19:03:16.907931Z",
     "iopub.status.idle": "2022-09-14T19:03:16.928512Z",
     "shell.execute_reply": "2022-09-14T19:03:16.927511Z"
    },
    "papermill": {
     "duration": 0.033597,
     "end_time": "2022-09-14T19:03:16.930889",
     "exception": false,
     "start_time": "2022-09-14T19:03:16.897292",
     "status": "completed"
    },
    "tags": []
   },
   "outputs": [
    {
     "data": {
      "text/html": [
       "<div>\n",
       "<style scoped>\n",
       "    .dataframe tbody tr th:only-of-type {\n",
       "        vertical-align: middle;\n",
       "    }\n",
       "\n",
       "    .dataframe tbody tr th {\n",
       "        vertical-align: top;\n",
       "    }\n",
       "\n",
       "    .dataframe thead th {\n",
       "        text-align: right;\n",
       "    }\n",
       "</style>\n",
       "<table border=\"1\" class=\"dataframe\">\n",
       "  <thead>\n",
       "    <tr style=\"text-align: right;\">\n",
       "      <th></th>\n",
       "      <th>name</th>\n",
       "      <th>score1</th>\n",
       "      <th>score2</th>\n",
       "      <th>online.tutorial</th>\n",
       "    </tr>\n",
       "  </thead>\n",
       "  <tbody>\n",
       "    <tr>\n",
       "      <th>3</th>\n",
       "      <td>Williams, Hanh</td>\n",
       "      <td>45.0</td>\n",
       "      <td>46.0</td>\n",
       "      <td>0</td>\n",
       "    </tr>\n",
       "    <tr>\n",
       "      <th>8</th>\n",
       "      <td>Allen, Rebecca Marie</td>\n",
       "      <td>58.0</td>\n",
       "      <td>62.0</td>\n",
       "      <td>0</td>\n",
       "    </tr>\n",
       "    <tr>\n",
       "      <th>9</th>\n",
       "      <td>Tracy, Robert</td>\n",
       "      <td>57.0</td>\n",
       "      <td>67.0</td>\n",
       "      <td>0</td>\n",
       "    </tr>\n",
       "    <tr>\n",
       "      <th>12</th>\n",
       "      <td>Rodriguez, Brianna</td>\n",
       "      <td>76.0</td>\n",
       "      <td>82.0</td>\n",
       "      <td>0</td>\n",
       "    </tr>\n",
       "    <tr>\n",
       "      <th>17</th>\n",
       "      <td>Hines, Haileigh</td>\n",
       "      <td>57.0</td>\n",
       "      <td>54.0</td>\n",
       "      <td>0</td>\n",
       "    </tr>\n",
       "    <tr>\n",
       "      <th>...</th>\n",
       "      <td>...</td>\n",
       "      <td>...</td>\n",
       "      <td>...</td>\n",
       "      <td>...</td>\n",
       "    </tr>\n",
       "    <tr>\n",
       "      <th>8214</th>\n",
       "      <td>Tealer, Ashley</td>\n",
       "      <td>77.0</td>\n",
       "      <td>77.0</td>\n",
       "      <td>0</td>\n",
       "    </tr>\n",
       "    <tr>\n",
       "      <th>8215</th>\n",
       "      <td>Smith, Isaiah</td>\n",
       "      <td>76.0</td>\n",
       "      <td>84.0</td>\n",
       "      <td>0</td>\n",
       "    </tr>\n",
       "    <tr>\n",
       "      <th>8219</th>\n",
       "      <td>Woody, Kin-Lino</td>\n",
       "      <td>65.0</td>\n",
       "      <td>68.0</td>\n",
       "      <td>0</td>\n",
       "    </tr>\n",
       "    <tr>\n",
       "      <th>8229</th>\n",
       "      <td>Hill, Anissa</td>\n",
       "      <td>87.0</td>\n",
       "      <td>86.0</td>\n",
       "      <td>0</td>\n",
       "    </tr>\n",
       "    <tr>\n",
       "      <th>8235</th>\n",
       "      <td>Her, Joshua</td>\n",
       "      <td>73.0</td>\n",
       "      <td>71.0</td>\n",
       "      <td>0</td>\n",
       "    </tr>\n",
       "  </tbody>\n",
       "</table>\n",
       "<p>1710 rows × 4 columns</p>\n",
       "</div>"
      ],
      "text/plain": [
       "                      name  score1  score2  online.tutorial\n",
       "3           Williams, Hanh    45.0    46.0                0\n",
       "8     Allen, Rebecca Marie    58.0    62.0                0\n",
       "9            Tracy, Robert    57.0    67.0                0\n",
       "12      Rodriguez, Brianna    76.0    82.0                0\n",
       "17         Hines, Haileigh    57.0    54.0                0\n",
       "...                    ...     ...     ...              ...\n",
       "8214        Tealer, Ashley    77.0    77.0                0\n",
       "8215         Smith, Isaiah    76.0    84.0                0\n",
       "8219       Woody, Kin-Lino    65.0    68.0                0\n",
       "8229          Hill, Anissa    87.0    86.0                0\n",
       "8235           Her, Joshua    73.0    71.0                0\n",
       "\n",
       "[1710 rows x 4 columns]"
      ]
     },
     "execution_count": 6,
     "metadata": {},
     "output_type": "execute_result"
    }
   ],
   "source": [
    "df_score_no = df[(df['online.tutorial'] == 0) & \n",
    "              (df['score1'].notnull()) & \n",
    "              (df['score2'].notnull())][['name','score1','score2','online.tutorial']]\n",
    "df_score_no"
   ]
  },
  {
   "cell_type": "markdown",
   "id": "800bf9d0",
   "metadata": {
    "papermill": {
     "duration": 0.008627,
     "end_time": "2022-09-14T19:03:16.948753",
     "exception": false,
     "start_time": "2022-09-14T19:03:16.940126",
     "status": "completed"
    },
    "tags": []
   },
   "source": [
    "This is our null and alternative hypothesis:\n",
    "\n",
    "* Null hypothesis: among students who didn’t take an online tutorial, the average grades of the first exam is the same as the second exam.\n",
    "* Alternative hypothesis: among students who didn't take an online tutorial, the average grades of the second exam is higher than the first exam.\n",
    "\n",
    "From the way we formulate our hypothesis, we’re conducting a left-sided hypothesis. With Scipy, we can compute the p-Value as you can see below:"
   ]
  },
  {
   "cell_type": "code",
   "execution_count": 7,
   "id": "b708443f",
   "metadata": {
    "execution": {
     "iopub.execute_input": "2022-09-14T19:03:16.968771Z",
     "iopub.status.busy": "2022-09-14T19:03:16.968006Z",
     "iopub.status.idle": "2022-09-14T19:03:16.975577Z",
     "shell.execute_reply": "2022-09-14T19:03:16.974209Z"
    },
    "papermill": {
     "duration": 0.02083,
     "end_time": "2022-09-14T19:03:16.978529",
     "exception": false,
     "start_time": "2022-09-14T19:03:16.957699",
     "status": "completed"
    },
    "tags": []
   },
   "outputs": [
    {
     "name": "stdout",
     "output_type": "stream",
     "text": [
      "0.7232359247303264\n",
      "\n",
      "We Accept Alternate Hypothesis\n"
     ]
    }
   ],
   "source": [
    "from scipy.stats import ttest_rel\n",
    "\n",
    "test_statistic, p_value = ttest_rel(df_score_no['score1'], df_score_no['score2'],alternative='less')\n",
    "\n",
    "print(p_value)\n",
    "\n",
    "if p_value < 0.05:\n",
    "    print(\"\\nWe Reject Null Hypothesis\")\n",
    "else:\n",
    "    print(\"\\nWe Accept Alternate Hypothesis\")"
   ]
  },
  {
   "cell_type": "markdown",
   "id": "d61bdfac",
   "metadata": {
    "papermill": {
     "duration": 0.00865,
     "end_time": "2022-09-14T19:03:16.996228",
     "exception": false,
     "start_time": "2022-09-14T19:03:16.987578",
     "status": "completed"
    },
    "tags": []
   },
   "source": [
    "As you can see, the p-Value for this case is 0.722, which means that it is higher than our significance level. Hence, we can’t reject our null hypothesis and deny the hypothesis that the students’ grades improvement is due to easier exams.\n",
    "\n",
    "# <div style=\"color:white;display:fill;border-radius:5px;background-color:#00B1D2FF;letter-spacing:0.1px;overflow:hidden\"><p id='14' style=\"padding:15px;color:white;overflow:hidden;margin:0;font-size:100%;\">Two-Sample t-Test</p></div>\n",
    "\n",
    "So far, we have covered the case where we want to infer one variable. In some cases, what we want to do instead is to compare two independent variables and observe whether there is any significant difference between two variables. For this purpose, we can use a two-sample t-test.\n",
    "\n",
    "To properly conduct this test, we need to make sure that our data fulfills the following conditions.\n",
    "\n",
    "* Two variables are independent\n",
    "* Two variables are randomly selected from their population\n",
    "* Two variables are continuous variables and have normal distribution distribution\n",
    "* The result of the statistical test will be more robust or reliable if the sample size of two variables are the same.\n",
    "\n",
    "The t-statistic that comes out from the equation above measures the mean and standard error difference between two samples. This use case can be answered by conducting two sample t-tests. One variable contains the salary of male graduates and another contains the salary of female graduates."
   ]
  },
  {
   "cell_type": "code",
   "execution_count": 8,
   "id": "b416ef34",
   "metadata": {
    "execution": {
     "iopub.execute_input": "2022-09-14T19:03:17.016801Z",
     "iopub.status.busy": "2022-09-14T19:03:17.016014Z",
     "iopub.status.idle": "2022-09-14T19:03:17.043036Z",
     "shell.execute_reply": "2022-09-14T19:03:17.042098Z"
    },
    "papermill": {
     "duration": 0.039985,
     "end_time": "2022-09-14T19:03:17.045391",
     "exception": false,
     "start_time": "2022-09-14T19:03:17.005406",
     "status": "completed"
    },
    "tags": []
   },
   "outputs": [
    {
     "data": {
      "text/html": [
       "<div>\n",
       "<style scoped>\n",
       "    .dataframe tbody tr th:only-of-type {\n",
       "        vertical-align: middle;\n",
       "    }\n",
       "\n",
       "    .dataframe tbody tr th {\n",
       "        vertical-align: top;\n",
       "    }\n",
       "\n",
       "    .dataframe thead th {\n",
       "        text-align: right;\n",
       "    }\n",
       "</style>\n",
       "<table border=\"1\" class=\"dataframe\">\n",
       "  <thead>\n",
       "    <tr style=\"text-align: right;\">\n",
       "      <th></th>\n",
       "      <th>name</th>\n",
       "      <th>gender</th>\n",
       "      <th>salary</th>\n",
       "    </tr>\n",
       "  </thead>\n",
       "  <tbody>\n",
       "    <tr>\n",
       "      <th>1476</th>\n",
       "      <td>Salazar, Rojan</td>\n",
       "      <td>Male</td>\n",
       "      <td>61384.549346</td>\n",
       "    </tr>\n",
       "    <tr>\n",
       "      <th>1026</th>\n",
       "      <td>Revello, Kevin</td>\n",
       "      <td>Male</td>\n",
       "      <td>54631.114240</td>\n",
       "    </tr>\n",
       "    <tr>\n",
       "      <th>7794</th>\n",
       "      <td>Watanabe, Maurice</td>\n",
       "      <td>Male</td>\n",
       "      <td>40894.898232</td>\n",
       "    </tr>\n",
       "    <tr>\n",
       "      <th>3366</th>\n",
       "      <td>Lopez, Tyler</td>\n",
       "      <td>Male</td>\n",
       "      <td>40882.835353</td>\n",
       "    </tr>\n",
       "    <tr>\n",
       "      <th>3764</th>\n",
       "      <td>Salmon, James</td>\n",
       "      <td>Male</td>\n",
       "      <td>49704.767288</td>\n",
       "    </tr>\n",
       "  </tbody>\n",
       "</table>\n",
       "</div>"
      ],
      "text/plain": [
       "                   name gender        salary\n",
       "1476     Salazar, Rojan   Male  61384.549346\n",
       "1026     Revello, Kevin   Male  54631.114240\n",
       "7794  Watanabe, Maurice   Male  40894.898232\n",
       "3366       Lopez, Tyler   Male  40882.835353\n",
       "3764      Salmon, James   Male  49704.767288"
      ]
     },
     "metadata": {},
     "output_type": "display_data"
    },
    {
     "data": {
      "text/html": [
       "<div>\n",
       "<style scoped>\n",
       "    .dataframe tbody tr th:only-of-type {\n",
       "        vertical-align: middle;\n",
       "    }\n",
       "\n",
       "    .dataframe tbody tr th {\n",
       "        vertical-align: top;\n",
       "    }\n",
       "\n",
       "    .dataframe thead th {\n",
       "        text-align: right;\n",
       "    }\n",
       "</style>\n",
       "<table border=\"1\" class=\"dataframe\">\n",
       "  <thead>\n",
       "    <tr style=\"text-align: right;\">\n",
       "      <th></th>\n",
       "      <th>name</th>\n",
       "      <th>gender</th>\n",
       "      <th>salary</th>\n",
       "    </tr>\n",
       "  </thead>\n",
       "  <tbody>\n",
       "    <tr>\n",
       "      <th>1155</th>\n",
       "      <td>Salgado, Tanya</td>\n",
       "      <td>Female</td>\n",
       "      <td>22710.240700</td>\n",
       "    </tr>\n",
       "    <tr>\n",
       "      <th>2209</th>\n",
       "      <td>Jara, Ayrika</td>\n",
       "      <td>Female</td>\n",
       "      <td>49391.375704</td>\n",
       "    </tr>\n",
       "    <tr>\n",
       "      <th>2143</th>\n",
       "      <td>Dominguez, Megan</td>\n",
       "      <td>Female</td>\n",
       "      <td>28453.064409</td>\n",
       "    </tr>\n",
       "    <tr>\n",
       "      <th>4455</th>\n",
       "      <td>Guzman, Shauntece</td>\n",
       "      <td>Female</td>\n",
       "      <td>34830.770997</td>\n",
       "    </tr>\n",
       "    <tr>\n",
       "      <th>6437</th>\n",
       "      <td>Ramos, Nicole</td>\n",
       "      <td>Female</td>\n",
       "      <td>31731.983116</td>\n",
       "    </tr>\n",
       "  </tbody>\n",
       "</table>\n",
       "</div>"
      ],
      "text/plain": [
       "                   name  gender        salary\n",
       "1155     Salgado, Tanya  Female  22710.240700\n",
       "2209       Jara, Ayrika  Female  49391.375704\n",
       "2143   Dominguez, Megan  Female  28453.064409\n",
       "4455  Guzman, Shauntece  Female  34830.770997\n",
       "6437      Ramos, Nicole  Female  31731.983116"
      ]
     },
     "metadata": {},
     "output_type": "display_data"
    }
   ],
   "source": [
    "df_male = df[\n",
    "    (df['gender'] == 'Male') & \n",
    "    (df['salary'].notnull())\n",
    "].sample(n=500)[['name', 'gender','salary']]\n",
    "\n",
    "df_female = df[\n",
    "    (df['gender'] == 'Female') & \n",
    "    (df['salary'].notnull())\n",
    "].sample(n=500)[['name', 'gender','salary']]\n",
    "\n",
    "display(df_male.head())\n",
    "display(df_female.head())"
   ]
  },
  {
   "cell_type": "markdown",
   "id": "0540f729",
   "metadata": {
    "papermill": {
     "duration": 0.009274,
     "end_time": "2022-09-14T19:03:17.065082",
     "exception": false,
     "start_time": "2022-09-14T19:03:17.055808",
     "status": "completed"
    },
    "tags": []
   },
   "source": [
    "Next we can form our null and alternative hypothesis as follows:\n",
    "\n",
    "* Null hypothesis: the average mean salary of male graduates is equal to the average mean salary of female graduates.\n",
    "* Alternative hypothesis: the average mean salary of male graduates is higher than the average mean salary of female graduates.\n",
    "\n",
    "Notice that because of the way we formulate the alternative hypothesis, this means that we conduct a right-sided hypothesis.\n",
    "\n",
    "Let’s define the significance level for this use case to 0.01. Same as before, we need to compute the test statistic and p-Value by using a statistical library. We’re going to use Scipy for this test."
   ]
  },
  {
   "cell_type": "code",
   "execution_count": 9,
   "id": "3443a3be",
   "metadata": {
    "execution": {
     "iopub.execute_input": "2022-09-14T19:03:17.087977Z",
     "iopub.status.busy": "2022-09-14T19:03:17.086512Z",
     "iopub.status.idle": "2022-09-14T19:03:17.096052Z",
     "shell.execute_reply": "2022-09-14T19:03:17.094639Z"
    },
    "papermill": {
     "duration": 0.023577,
     "end_time": "2022-09-14T19:03:17.098794",
     "exception": false,
     "start_time": "2022-09-14T19:03:17.075217",
     "status": "completed"
    },
    "tags": []
   },
   "outputs": [
    {
     "name": "stdout",
     "output_type": "stream",
     "text": [
      "9.173410720914889e-80\n",
      "\n",
      "We Reject Null Hypothesis\n"
     ]
    }
   ],
   "source": [
    "from scipy.stats import ttest_ind\n",
    "\n",
    "test_statistic, p_value = ttest_ind(df_male['salary'], df_female['salary'], alternative='greater')\n",
    "\n",
    "print(p_value)\n",
    "\n",
    "if p_value < 0.05:\n",
    "    print(\"\\nWe Reject Null Hypothesis\")\n",
    "else:\n",
    "    print(\"\\nWe Accept Alternate Hypothesis\")"
   ]
  },
  {
   "cell_type": "markdown",
   "id": "f6a09998",
   "metadata": {
    "papermill": {
     "duration": 0.009335,
     "end_time": "2022-09-14T19:03:17.117811",
     "exception": false,
     "start_time": "2022-09-14T19:03:17.108476",
     "status": "completed"
    },
    "tags": []
   },
   "source": [
    "As you can see from the result of code snippets above, the resulting p-Value is very small. Hence even if we set the significance level to 0.01, our data provides very strong evidence that the mean salary of male graduates is indeed higher than the mean salary of female graduates. Hence, we reject the null hypothesis.\n",
    "\n",
    "# <div style=\"color:white;display:fill;border-radius:5px;background-color:#00B1D2FF;letter-spacing:0.1px;overflow:hidden\"><p id='15' style=\"padding:15px;color:white;overflow:hidden;margin:0;font-size:100%;\">ANOVA</p></div>\n",
    "\n",
    "You’ve seen previously that with a two-sample t-test, we can compare the means of two groups. Now the question is, what if we want to compare the means of more than two groups? In this case, we’ll use a different type of statistical test. We can use ANOVA.\n",
    "\n",
    "There are 3 different types of ANOVA:\n",
    "\n",
    "* One-way ANOVA, if we have just one independent variable.\n",
    "* Two-way ANOVA, if we have two independent variables.\n",
    "* N-way ANOVA, if we have n independent variables.\n",
    "\n",
    "To properly conduct ANOVA, we need to fulfill the same requirements as two-sample t-test, such as:\n",
    "\n",
    "* The variables are independent\n",
    "* The variables are randomly selected\n",
    "* The variables have normal distribution\n",
    "* The result of statistical test will be more robust if the sample size of variables are similar\n",
    "\n",
    "This use case is very similar to the one from a two-sample t-test. However, in the two-sample t-test, we compare salary with gender and gender only consists of two groups: male and female. Meanwhile, here we compare the salary and study major. Study major itself has 6 groups.\n",
    "\n",
    "The use case is also an example of one-way ANOVA, since we only have one independent variable (study major). Meanwhile, if we want to test whether there is any difference in the average salary between university graduates in relation to their study major and gender, then we can implement two-way ANOVA. This is because in this case, we have two independent variables (study major and gender).\n",
    "\n",
    "Let’s prepare our data first. We’re just going to take 200 samples from each group of study majors."
   ]
  },
  {
   "cell_type": "code",
   "execution_count": 10,
   "id": "ae3f53e1",
   "metadata": {
    "execution": {
     "iopub.execute_input": "2022-09-14T19:03:17.138872Z",
     "iopub.status.busy": "2022-09-14T19:03:17.138457Z",
     "iopub.status.idle": "2022-09-14T19:03:17.202358Z",
     "shell.execute_reply": "2022-09-14T19:03:17.201075Z"
    },
    "papermill": {
     "duration": 0.077784,
     "end_time": "2022-09-14T19:03:17.205116",
     "exception": false,
     "start_time": "2022-09-14T19:03:17.127332",
     "status": "completed"
    },
    "tags": []
   },
   "outputs": [
    {
     "data": {
      "text/html": [
       "<div>\n",
       "<style scoped>\n",
       "    .dataframe tbody tr th:only-of-type {\n",
       "        vertical-align: middle;\n",
       "    }\n",
       "\n",
       "    .dataframe tbody tr th {\n",
       "        vertical-align: top;\n",
       "    }\n",
       "\n",
       "    .dataframe thead th {\n",
       "        text-align: right;\n",
       "    }\n",
       "</style>\n",
       "<table border=\"1\" class=\"dataframe\">\n",
       "  <thead>\n",
       "    <tr style=\"text-align: right;\">\n",
       "      <th></th>\n",
       "      <th>name</th>\n",
       "      <th>major</th>\n",
       "      <th>salary</th>\n",
       "    </tr>\n",
       "  </thead>\n",
       "  <tbody>\n",
       "    <tr>\n",
       "      <th>1621</th>\n",
       "      <td>Jacket, Yihang</td>\n",
       "      <td>Biology</td>\n",
       "      <td>51828.657952</td>\n",
       "    </tr>\n",
       "    <tr>\n",
       "      <th>1677</th>\n",
       "      <td>Sandoval, Joseph</td>\n",
       "      <td>Biology</td>\n",
       "      <td>46238.410946</td>\n",
       "    </tr>\n",
       "    <tr>\n",
       "      <th>3485</th>\n",
       "      <td>Rockwell, Brandon</td>\n",
       "      <td>Biology</td>\n",
       "      <td>45942.998393</td>\n",
       "    </tr>\n",
       "    <tr>\n",
       "      <th>5349</th>\n",
       "      <td>Nack, Reece</td>\n",
       "      <td>Biology</td>\n",
       "      <td>55656.780315</td>\n",
       "    </tr>\n",
       "    <tr>\n",
       "      <th>5943</th>\n",
       "      <td>Ingram, Aubrey</td>\n",
       "      <td>Biology</td>\n",
       "      <td>38820.483955</td>\n",
       "    </tr>\n",
       "  </tbody>\n",
       "</table>\n",
       "</div>"
      ],
      "text/plain": [
       "                   name    major        salary\n",
       "1621     Jacket, Yihang  Biology  51828.657952\n",
       "1677   Sandoval, Joseph  Biology  46238.410946\n",
       "3485  Rockwell, Brandon  Biology  45942.998393\n",
       "5349        Nack, Reece  Biology  55656.780315\n",
       "5943     Ingram, Aubrey  Biology  38820.483955"
      ]
     },
     "metadata": {},
     "output_type": "display_data"
    },
    {
     "data": {
      "text/html": [
       "<div>\n",
       "<style scoped>\n",
       "    .dataframe tbody tr th:only-of-type {\n",
       "        vertical-align: middle;\n",
       "    }\n",
       "\n",
       "    .dataframe tbody tr th {\n",
       "        vertical-align: top;\n",
       "    }\n",
       "\n",
       "    .dataframe thead th {\n",
       "        text-align: right;\n",
       "    }\n",
       "</style>\n",
       "<table border=\"1\" class=\"dataframe\">\n",
       "  <thead>\n",
       "    <tr style=\"text-align: right;\">\n",
       "      <th></th>\n",
       "      <th>name</th>\n",
       "      <th>major</th>\n",
       "      <th>salary</th>\n",
       "    </tr>\n",
       "  </thead>\n",
       "  <tbody>\n",
       "    <tr>\n",
       "      <th>2663</th>\n",
       "      <td>Yellowhawk, Ezequiel</td>\n",
       "      <td>Economics and Finance</td>\n",
       "      <td>69348.606874</td>\n",
       "    </tr>\n",
       "    <tr>\n",
       "      <th>4154</th>\n",
       "      <td>Blanco, Brandon</td>\n",
       "      <td>Economics and Finance</td>\n",
       "      <td>51866.925753</td>\n",
       "    </tr>\n",
       "    <tr>\n",
       "      <th>6689</th>\n",
       "      <td>Tran, Andy</td>\n",
       "      <td>Economics and Finance</td>\n",
       "      <td>49528.290473</td>\n",
       "    </tr>\n",
       "    <tr>\n",
       "      <th>3226</th>\n",
       "      <td>Bear, Jethro-Eli</td>\n",
       "      <td>Economics and Finance</td>\n",
       "      <td>50206.141872</td>\n",
       "    </tr>\n",
       "    <tr>\n",
       "      <th>849</th>\n",
       "      <td>Johnson, Loagyn</td>\n",
       "      <td>Economics and Finance</td>\n",
       "      <td>41672.009748</td>\n",
       "    </tr>\n",
       "  </tbody>\n",
       "</table>\n",
       "</div>"
      ],
      "text/plain": [
       "                      name                  major        salary\n",
       "2663  Yellowhawk, Ezequiel  Economics and Finance  69348.606874\n",
       "4154       Blanco, Brandon  Economics and Finance  51866.925753\n",
       "6689            Tran, Andy  Economics and Finance  49528.290473\n",
       "3226      Bear, Jethro-Eli  Economics and Finance  50206.141872\n",
       "849        Johnson, Loagyn  Economics and Finance  41672.009748"
      ]
     },
     "metadata": {},
     "output_type": "display_data"
    },
    {
     "data": {
      "text/html": [
       "<div>\n",
       "<style scoped>\n",
       "    .dataframe tbody tr th:only-of-type {\n",
       "        vertical-align: middle;\n",
       "    }\n",
       "\n",
       "    .dataframe tbody tr th {\n",
       "        vertical-align: top;\n",
       "    }\n",
       "\n",
       "    .dataframe thead th {\n",
       "        text-align: right;\n",
       "    }\n",
       "</style>\n",
       "<table border=\"1\" class=\"dataframe\">\n",
       "  <thead>\n",
       "    <tr style=\"text-align: right;\">\n",
       "      <th></th>\n",
       "      <th>name</th>\n",
       "      <th>major</th>\n",
       "      <th>salary</th>\n",
       "    </tr>\n",
       "  </thead>\n",
       "  <tbody>\n",
       "    <tr>\n",
       "      <th>81</th>\n",
       "      <td>Munoz, Derrick</td>\n",
       "      <td>Environmental Sciences</td>\n",
       "      <td>33068.848645</td>\n",
       "    </tr>\n",
       "    <tr>\n",
       "      <th>3281</th>\n",
       "      <td>Flores, Paris</td>\n",
       "      <td>Environmental Sciences</td>\n",
       "      <td>34077.585525</td>\n",
       "    </tr>\n",
       "    <tr>\n",
       "      <th>7112</th>\n",
       "      <td>Reeves, Uriah</td>\n",
       "      <td>Environmental Sciences</td>\n",
       "      <td>40498.299634</td>\n",
       "    </tr>\n",
       "    <tr>\n",
       "      <th>2046</th>\n",
       "      <td>Simon, Eric</td>\n",
       "      <td>Environmental Sciences</td>\n",
       "      <td>36094.973529</td>\n",
       "    </tr>\n",
       "    <tr>\n",
       "      <th>2670</th>\n",
       "      <td>Starcer, Ji</td>\n",
       "      <td>Environmental Sciences</td>\n",
       "      <td>41598.149858</td>\n",
       "    </tr>\n",
       "  </tbody>\n",
       "</table>\n",
       "</div>"
      ],
      "text/plain": [
       "                name                   major        salary\n",
       "81    Munoz, Derrick  Environmental Sciences  33068.848645\n",
       "3281   Flores, Paris  Environmental Sciences  34077.585525\n",
       "7112   Reeves, Uriah  Environmental Sciences  40498.299634\n",
       "2046     Simon, Eric  Environmental Sciences  36094.973529\n",
       "2670     Starcer, Ji  Environmental Sciences  41598.149858"
      ]
     },
     "metadata": {},
     "output_type": "display_data"
    },
    {
     "data": {
      "text/html": [
       "<div>\n",
       "<style scoped>\n",
       "    .dataframe tbody tr th:only-of-type {\n",
       "        vertical-align: middle;\n",
       "    }\n",
       "\n",
       "    .dataframe tbody tr th {\n",
       "        vertical-align: top;\n",
       "    }\n",
       "\n",
       "    .dataframe thead th {\n",
       "        text-align: right;\n",
       "    }\n",
       "</style>\n",
       "<table border=\"1\" class=\"dataframe\">\n",
       "  <thead>\n",
       "    <tr style=\"text-align: right;\">\n",
       "      <th></th>\n",
       "      <th>name</th>\n",
       "      <th>major</th>\n",
       "      <th>salary</th>\n",
       "    </tr>\n",
       "  </thead>\n",
       "  <tbody>\n",
       "    <tr>\n",
       "      <th>4064</th>\n",
       "      <td>Mullin, Luis</td>\n",
       "      <td>Mathematics and Statistics</td>\n",
       "      <td>61432.208399</td>\n",
       "    </tr>\n",
       "    <tr>\n",
       "      <th>5239</th>\n",
       "      <td>Kim, Joseph</td>\n",
       "      <td>Mathematics and Statistics</td>\n",
       "      <td>45861.410697</td>\n",
       "    </tr>\n",
       "    <tr>\n",
       "      <th>572</th>\n",
       "      <td>Rojas Duarte, Gladys</td>\n",
       "      <td>Mathematics and Statistics</td>\n",
       "      <td>48508.072646</td>\n",
       "    </tr>\n",
       "    <tr>\n",
       "      <th>8142</th>\n",
       "      <td>Nguyen, Eric</td>\n",
       "      <td>Mathematics and Statistics</td>\n",
       "      <td>44367.343815</td>\n",
       "    </tr>\n",
       "    <tr>\n",
       "      <th>2948</th>\n",
       "      <td>Hernandez, Yannell</td>\n",
       "      <td>Mathematics and Statistics</td>\n",
       "      <td>45286.132451</td>\n",
       "    </tr>\n",
       "  </tbody>\n",
       "</table>\n",
       "</div>"
      ],
      "text/plain": [
       "                      name                       major        salary\n",
       "4064          Mullin, Luis  Mathematics and Statistics  61432.208399\n",
       "5239           Kim, Joseph  Mathematics and Statistics  45861.410697\n",
       "572   Rojas Duarte, Gladys  Mathematics and Statistics  48508.072646\n",
       "8142          Nguyen, Eric  Mathematics and Statistics  44367.343815\n",
       "2948    Hernandez, Yannell  Mathematics and Statistics  45286.132451"
      ]
     },
     "metadata": {},
     "output_type": "display_data"
    },
    {
     "data": {
      "text/html": [
       "<div>\n",
       "<style scoped>\n",
       "    .dataframe tbody tr th:only-of-type {\n",
       "        vertical-align: middle;\n",
       "    }\n",
       "\n",
       "    .dataframe tbody tr th {\n",
       "        vertical-align: top;\n",
       "    }\n",
       "\n",
       "    .dataframe thead th {\n",
       "        text-align: right;\n",
       "    }\n",
       "</style>\n",
       "<table border=\"1\" class=\"dataframe\">\n",
       "  <thead>\n",
       "    <tr style=\"text-align: right;\">\n",
       "      <th></th>\n",
       "      <th>name</th>\n",
       "      <th>major</th>\n",
       "      <th>salary</th>\n",
       "    </tr>\n",
       "  </thead>\n",
       "  <tbody>\n",
       "    <tr>\n",
       "      <th>5768</th>\n",
       "      <td>Ramirez, Ashley</td>\n",
       "      <td>Political Science</td>\n",
       "      <td>34444.639948</td>\n",
       "    </tr>\n",
       "    <tr>\n",
       "      <th>7562</th>\n",
       "      <td>Jackson, Colton</td>\n",
       "      <td>Political Science</td>\n",
       "      <td>58614.719538</td>\n",
       "    </tr>\n",
       "    <tr>\n",
       "      <th>140</th>\n",
       "      <td>Brown, Dmitriy</td>\n",
       "      <td>Political Science</td>\n",
       "      <td>44027.967877</td>\n",
       "    </tr>\n",
       "    <tr>\n",
       "      <th>1007</th>\n",
       "      <td>Gear, Kalah</td>\n",
       "      <td>Political Science</td>\n",
       "      <td>37782.864706</td>\n",
       "    </tr>\n",
       "    <tr>\n",
       "      <th>7624</th>\n",
       "      <td>Demmer-White, Gilbert</td>\n",
       "      <td>Political Science</td>\n",
       "      <td>14081.098715</td>\n",
       "    </tr>\n",
       "  </tbody>\n",
       "</table>\n",
       "</div>"
      ],
      "text/plain": [
       "                       name              major        salary\n",
       "5768        Ramirez, Ashley  Political Science  34444.639948\n",
       "7562        Jackson, Colton  Political Science  58614.719538\n",
       "140          Brown, Dmitriy  Political Science  44027.967877\n",
       "1007            Gear, Kalah  Political Science  37782.864706\n",
       "7624  Demmer-White, Gilbert  Political Science  14081.098715"
      ]
     },
     "metadata": {},
     "output_type": "display_data"
    },
    {
     "data": {
      "text/html": [
       "<div>\n",
       "<style scoped>\n",
       "    .dataframe tbody tr th:only-of-type {\n",
       "        vertical-align: middle;\n",
       "    }\n",
       "\n",
       "    .dataframe tbody tr th {\n",
       "        vertical-align: top;\n",
       "    }\n",
       "\n",
       "    .dataframe thead th {\n",
       "        text-align: right;\n",
       "    }\n",
       "</style>\n",
       "<table border=\"1\" class=\"dataframe\">\n",
       "  <thead>\n",
       "    <tr style=\"text-align: right;\">\n",
       "      <th></th>\n",
       "      <th>name</th>\n",
       "      <th>major</th>\n",
       "      <th>salary</th>\n",
       "    </tr>\n",
       "  </thead>\n",
       "  <tbody>\n",
       "    <tr>\n",
       "      <th>5366</th>\n",
       "      <td>Montgomery, Justice</td>\n",
       "      <td>Social Sciences</td>\n",
       "      <td>32462.419758</td>\n",
       "    </tr>\n",
       "    <tr>\n",
       "      <th>3923</th>\n",
       "      <td>Tat, Drew</td>\n",
       "      <td>Social Sciences</td>\n",
       "      <td>40944.508945</td>\n",
       "    </tr>\n",
       "    <tr>\n",
       "      <th>3448</th>\n",
       "      <td>Proctor, Sophearath</td>\n",
       "      <td>Social Sciences</td>\n",
       "      <td>28125.031337</td>\n",
       "    </tr>\n",
       "    <tr>\n",
       "      <th>6245</th>\n",
       "      <td>Gutierrez, Phanath</td>\n",
       "      <td>Social Sciences</td>\n",
       "      <td>36187.221690</td>\n",
       "    </tr>\n",
       "    <tr>\n",
       "      <th>357</th>\n",
       "      <td>Miller, Jordan</td>\n",
       "      <td>Social Sciences</td>\n",
       "      <td>33108.645237</td>\n",
       "    </tr>\n",
       "  </tbody>\n",
       "</table>\n",
       "</div>"
      ],
      "text/plain": [
       "                     name            major        salary\n",
       "5366  Montgomery, Justice  Social Sciences  32462.419758\n",
       "3923            Tat, Drew  Social Sciences  40944.508945\n",
       "3448  Proctor, Sophearath  Social Sciences  28125.031337\n",
       "6245   Gutierrez, Phanath  Social Sciences  36187.221690\n",
       "357        Miller, Jordan  Social Sciences  33108.645237"
      ]
     },
     "metadata": {},
     "output_type": "display_data"
    }
   ],
   "source": [
    "df_biology = df[\n",
    "    (df['major'] == 'Biology') & \n",
    "    (df['salary'].notnull())\n",
    "].sample(n=200)[['name','major','salary']]\n",
    "display(df_biology.head())\n",
    "\n",
    "df_economics = df[\n",
    "    (df['major'] == 'Economics and Finance') & \n",
    "    (df['salary'].notnull())\n",
    "].sample(n=200)[['name','major','salary']]\n",
    "display(df_economics.head())\n",
    "\n",
    "df_environmental = df[\n",
    "    (df['major'] == 'Environmental Sciences') & \n",
    "    (df['salary'].notnull())\n",
    "].sample(n=200)[['name','major','salary']]\n",
    "display(df_environmental.head())\n",
    "\n",
    "df_mathematics = df[\n",
    "    (df['major'] == 'Mathematics and Statistics') & \n",
    "    (df['salary'].notnull())\n",
    "].sample(n=200)[['name','major','salary']]\n",
    "display(df_mathematics.head())\n",
    "\n",
    "df_politics = df[\n",
    "    (df['major'] == 'Political Science') & \n",
    "    (df['salary'].notnull())\n",
    "].sample(n=200)[['name','major','salary']]\n",
    "display(df_politics.head())\n",
    "\n",
    "df_social = df[\n",
    "    (df['major'] == 'Social Sciences') & \n",
    "    (df['salary'].notnull())\n",
    "].sample(n=200)[['name','major','salary']]\n",
    "display(df_social.head())"
   ]
  },
  {
   "cell_type": "markdown",
   "id": "2f59905a",
   "metadata": {
    "papermill": {
     "duration": 0.01088,
     "end_time": "2022-09-14T19:03:17.226813",
     "exception": false,
     "start_time": "2022-09-14T19:03:17.215933",
     "status": "completed"
    },
    "tags": []
   },
   "source": [
    "Now we can form our null and alternative hypothesis as follows:\n",
    "\n",
    "* Null hypothesis: there is no significant difference of average salary between university graduates in relation to their study majors.\n",
    "* Alternative hypothesis: there is a significant difference of average salary between university graduates in relation to their study majors.\n",
    "\n",
    "Next, let’s set the significance level. For this use case, let’s use 0.05 as our significance level. Same as before, we’re going to use Scipy library to conduct the ANOVA test and compute the resulting p-Value."
   ]
  },
  {
   "cell_type": "code",
   "execution_count": 11,
   "id": "9f2a501d",
   "metadata": {
    "execution": {
     "iopub.execute_input": "2022-09-14T19:03:17.251090Z",
     "iopub.status.busy": "2022-09-14T19:03:17.250145Z",
     "iopub.status.idle": "2022-09-14T19:03:17.258813Z",
     "shell.execute_reply": "2022-09-14T19:03:17.257432Z"
    },
    "papermill": {
     "duration": 0.024588,
     "end_time": "2022-09-14T19:03:17.262017",
     "exception": false,
     "start_time": "2022-09-14T19:03:17.237429",
     "status": "completed"
    },
    "tags": []
   },
   "outputs": [
    {
     "name": "stdout",
     "output_type": "stream",
     "text": [
      "4.2388625448202354e-139\n",
      "\n",
      "We Reject Null Hypothesis\n"
     ]
    }
   ],
   "source": [
    "from scipy.stats import f_oneway\n",
    "\n",
    "f_stats, p_value = f_oneway(\n",
    "    df_biology['salary'], df_economics['salary'], df_environmental['salary'] , \n",
    "    df_mathematics['salary'], df_politics['salary'], df_social['salary']\n",
    ")\n",
    "\n",
    "print(p_value)\n",
    "\n",
    "if p_value < 0.05:\n",
    "    print(\"\\nWe Reject Null Hypothesis\")\n",
    "else:\n",
    "    print(\"\\nWe Accept Alternate Hypothesis\")"
   ]
  },
  {
   "cell_type": "markdown",
   "id": "f0f86f71",
   "metadata": {
    "papermill": {
     "duration": 0.010932,
     "end_time": "2022-09-14T19:03:17.284072",
     "exception": false,
     "start_time": "2022-09-14T19:03:17.273140",
     "status": "completed"
    },
    "tags": []
   },
   "source": [
    "As you can see, the resulting p-Value is very small in comparison with our significance level. Thus, our data provides strong evidence that there is a significant difference of average salary between university graduates in relation to study majors. In other words, we reject our null hypothesis.\n",
    "\n",
    "# <div style=\"color:white;display:fill;border-radius:5px;background-color:#00B1D2FF;letter-spacing:0.1px;overflow:hidden\"><p id='16' style=\"padding:15px;color:white;overflow:hidden;margin:0;font-size:100%;\">Chi-Square Goodness-of-Fit (GoF)</p></div>\n",
    "\n",
    "So far, we have seen the types of statistical tests that are relevant if we have continuous data. You might ask, what if my variable is a discrete or a categorical? If we have a categorical variable, then we need to apply a different approach to our statistical test, and Chi-Square Goodness-of-Fit (GoF) is one of them.\n",
    "\n",
    "The basic idea of Chi-Square GoF is to compare the observed frequencies of a sample with its expected frequencies. In order to conduct this test, we need to make sure that our data fulfills the following prerequisites:\n",
    "\n",
    "* The data should be categorical and not continuous\n",
    "* The sample data is large enough in each category. As a rule of thumb, there should be at least 5 samples in each category\n",
    "* The sample is randomly selected\n",
    "\n",
    "The general step that we need to do to conduct Chi-Square GoF is similar to what we’ve seen previously. The test statistic should be computed and then the resulting p-Value will be used to decide whether or not we should reject the null hypothesis.\n",
    "\n",
    "When we conduct a Chi-Square GoF test, we need to know three additional data: observed frequency, relative frequency, and expected frequency.\n",
    "\n",
    "Observed frequency is just the number of samples in each group, as you can see below:"
   ]
  },
  {
   "cell_type": "code",
   "execution_count": 12,
   "id": "4d718492",
   "metadata": {
    "execution": {
     "iopub.execute_input": "2022-09-14T19:03:17.308030Z",
     "iopub.status.busy": "2022-09-14T19:03:17.307628Z",
     "iopub.status.idle": "2022-09-14T19:03:17.322162Z",
     "shell.execute_reply": "2022-09-14T19:03:17.320994Z"
    },
    "papermill": {
     "duration": 0.028931,
     "end_time": "2022-09-14T19:03:17.324625",
     "exception": false,
     "start_time": "2022-09-14T19:03:17.295694",
     "status": "completed"
    },
    "tags": []
   },
   "outputs": [
    {
     "data": {
      "text/html": [
       "<div>\n",
       "<style scoped>\n",
       "    .dataframe tbody tr th:only-of-type {\n",
       "        vertical-align: middle;\n",
       "    }\n",
       "\n",
       "    .dataframe tbody tr th {\n",
       "        vertical-align: top;\n",
       "    }\n",
       "\n",
       "    .dataframe thead th {\n",
       "        text-align: right;\n",
       "    }\n",
       "</style>\n",
       "<table border=\"1\" class=\"dataframe\">\n",
       "  <thead>\n",
       "    <tr style=\"text-align: right;\">\n",
       "      <th></th>\n",
       "      <th>religion</th>\n",
       "      <th>observed_freq</th>\n",
       "    </tr>\n",
       "  </thead>\n",
       "  <tbody>\n",
       "    <tr>\n",
       "      <th>0</th>\n",
       "      <td>Catholic</td>\n",
       "      <td>175</td>\n",
       "    </tr>\n",
       "    <tr>\n",
       "      <th>1</th>\n",
       "      <td>Muslim</td>\n",
       "      <td>10</td>\n",
       "    </tr>\n",
       "    <tr>\n",
       "      <th>2</th>\n",
       "      <td>Orthodox</td>\n",
       "      <td>36</td>\n",
       "    </tr>\n",
       "    <tr>\n",
       "      <th>3</th>\n",
       "      <td>Other</td>\n",
       "      <td>168</td>\n",
       "    </tr>\n",
       "    <tr>\n",
       "      <th>4</th>\n",
       "      <td>Protestant</td>\n",
       "      <td>111</td>\n",
       "    </tr>\n",
       "  </tbody>\n",
       "</table>\n",
       "</div>"
      ],
      "text/plain": [
       "     religion  observed_freq\n",
       "0    Catholic            175\n",
       "1      Muslim             10\n",
       "2    Orthodox             36\n",
       "3       Other            168\n",
       "4  Protestant            111"
      ]
     },
     "metadata": {},
     "output_type": "display_data"
    }
   ],
   "source": [
    "df_sample = df.sample(n=500)\n",
    "\n",
    "df_obs_freq = pd.DataFrame({'observed_freq' : df_sample.groupby(['religion']).size()}).reset_index()\n",
    "\n",
    "display(df_obs_freq.head())"
   ]
  },
  {
   "cell_type": "markdown",
   "id": "c3a63a21",
   "metadata": {
    "papermill": {
     "duration": 0.01058,
     "end_time": "2022-09-14T19:03:17.346099",
     "exception": false,
     "start_time": "2022-09-14T19:03:17.335519",
     "status": "completed"
    },
    "tags": []
   },
   "source": [
    "Meanwhile, relative frequency is the proportion of each group in the population. For the sake of this article, let’s say that the Catholic population in the Europe is 48%, Muslim 2%, Orthodox 8%, Protestant 12%, and other religion 30%.\n",
    "\n",
    "Based on the information above, we can set the relative frequency as below:"
   ]
  },
  {
   "cell_type": "code",
   "execution_count": 13,
   "id": "18c66356",
   "metadata": {
    "execution": {
     "iopub.execute_input": "2022-09-14T19:03:17.371271Z",
     "iopub.status.busy": "2022-09-14T19:03:17.370568Z",
     "iopub.status.idle": "2022-09-14T19:03:17.382522Z",
     "shell.execute_reply": "2022-09-14T19:03:17.381459Z"
    },
    "papermill": {
     "duration": 0.027109,
     "end_time": "2022-09-14T19:03:17.385040",
     "exception": false,
     "start_time": "2022-09-14T19:03:17.357931",
     "status": "completed"
    },
    "tags": []
   },
   "outputs": [
    {
     "data": {
      "text/html": [
       "<div>\n",
       "<style scoped>\n",
       "    .dataframe tbody tr th:only-of-type {\n",
       "        vertical-align: middle;\n",
       "    }\n",
       "\n",
       "    .dataframe tbody tr th {\n",
       "        vertical-align: top;\n",
       "    }\n",
       "\n",
       "    .dataframe thead th {\n",
       "        text-align: right;\n",
       "    }\n",
       "</style>\n",
       "<table border=\"1\" class=\"dataframe\">\n",
       "  <thead>\n",
       "    <tr style=\"text-align: right;\">\n",
       "      <th></th>\n",
       "      <th>religion</th>\n",
       "      <th>rel_freq</th>\n",
       "    </tr>\n",
       "  </thead>\n",
       "  <tbody>\n",
       "    <tr>\n",
       "      <th>0</th>\n",
       "      <td>Catholic</td>\n",
       "      <td>0.48</td>\n",
       "    </tr>\n",
       "    <tr>\n",
       "      <th>1</th>\n",
       "      <td>Muslim</td>\n",
       "      <td>0.02</td>\n",
       "    </tr>\n",
       "    <tr>\n",
       "      <th>2</th>\n",
       "      <td>Orthodox</td>\n",
       "      <td>0.08</td>\n",
       "    </tr>\n",
       "    <tr>\n",
       "      <th>3</th>\n",
       "      <td>Other</td>\n",
       "      <td>0.30</td>\n",
       "    </tr>\n",
       "    <tr>\n",
       "      <th>4</th>\n",
       "      <td>Protestant</td>\n",
       "      <td>0.12</td>\n",
       "    </tr>\n",
       "  </tbody>\n",
       "</table>\n",
       "</div>"
      ],
      "text/plain": [
       "     religion  rel_freq\n",
       "0    Catholic      0.48\n",
       "1      Muslim      0.02\n",
       "2    Orthodox      0.08\n",
       "3       Other      0.30\n",
       "4  Protestant      0.12"
      ]
     },
     "metadata": {},
     "output_type": "display_data"
    }
   ],
   "source": [
    "religion = ['Catholic', 'Muslim', 'Orthodox', 'Other', 'Protestant']\n",
    "rel_freq = [0.48, 0.02, 0.08, 0.30, 0.12]\n",
    "\n",
    "df_rel_freq = pd.DataFrame({'religion' : religion, 'rel_freq': rel_freq})\n",
    "\n",
    "display(df_rel_freq.head())"
   ]
  },
  {
   "cell_type": "markdown",
   "id": "9cf85a48",
   "metadata": {
    "papermill": {
     "duration": 0.01137,
     "end_time": "2022-09-14T19:03:17.408247",
     "exception": false,
     "start_time": "2022-09-14T19:03:17.396877",
     "status": "completed"
    },
    "tags": []
   },
   "source": [
    "Now, expected frequency is the multiplication of relative frequency and the total number of our samples. Hence,"
   ]
  },
  {
   "cell_type": "code",
   "execution_count": 14,
   "id": "cee69ecc",
   "metadata": {
    "execution": {
     "iopub.execute_input": "2022-09-14T19:03:17.434834Z",
     "iopub.status.busy": "2022-09-14T19:03:17.434113Z",
     "iopub.status.idle": "2022-09-14T19:03:17.460001Z",
     "shell.execute_reply": "2022-09-14T19:03:17.458823Z"
    },
    "papermill": {
     "duration": 0.040908,
     "end_time": "2022-09-14T19:03:17.462241",
     "exception": false,
     "start_time": "2022-09-14T19:03:17.421333",
     "status": "completed"
    },
    "tags": []
   },
   "outputs": [
    {
     "data": {
      "text/html": [
       "<div>\n",
       "<style scoped>\n",
       "    .dataframe tbody tr th:only-of-type {\n",
       "        vertical-align: middle;\n",
       "    }\n",
       "\n",
       "    .dataframe tbody tr th {\n",
       "        vertical-align: top;\n",
       "    }\n",
       "\n",
       "    .dataframe thead th {\n",
       "        text-align: right;\n",
       "    }\n",
       "</style>\n",
       "<table border=\"1\" class=\"dataframe\">\n",
       "  <thead>\n",
       "    <tr style=\"text-align: right;\">\n",
       "      <th></th>\n",
       "      <th>religion</th>\n",
       "      <th>observed_freq</th>\n",
       "      <th>rel_freq</th>\n",
       "      <th>expected_freq</th>\n",
       "    </tr>\n",
       "  </thead>\n",
       "  <tbody>\n",
       "    <tr>\n",
       "      <th>0</th>\n",
       "      <td>Catholic</td>\n",
       "      <td>175</td>\n",
       "      <td>0.48</td>\n",
       "      <td>240.0</td>\n",
       "    </tr>\n",
       "    <tr>\n",
       "      <th>1</th>\n",
       "      <td>Muslim</td>\n",
       "      <td>10</td>\n",
       "      <td>0.02</td>\n",
       "      <td>10.0</td>\n",
       "    </tr>\n",
       "    <tr>\n",
       "      <th>2</th>\n",
       "      <td>Orthodox</td>\n",
       "      <td>36</td>\n",
       "      <td>0.08</td>\n",
       "      <td>40.0</td>\n",
       "    </tr>\n",
       "    <tr>\n",
       "      <th>3</th>\n",
       "      <td>Other</td>\n",
       "      <td>168</td>\n",
       "      <td>0.30</td>\n",
       "      <td>150.0</td>\n",
       "    </tr>\n",
       "    <tr>\n",
       "      <th>4</th>\n",
       "      <td>Protestant</td>\n",
       "      <td>111</td>\n",
       "      <td>0.12</td>\n",
       "      <td>60.0</td>\n",
       "    </tr>\n",
       "  </tbody>\n",
       "</table>\n",
       "</div>"
      ],
      "text/plain": [
       "     religion  observed_freq  rel_freq  expected_freq\n",
       "0    Catholic            175      0.48          240.0\n",
       "1      Muslim             10      0.02           10.0\n",
       "2    Orthodox             36      0.08           40.0\n",
       "3       Other            168      0.30          150.0\n",
       "4  Protestant            111      0.12           60.0"
      ]
     },
     "metadata": {},
     "output_type": "display_data"
    }
   ],
   "source": [
    "df_exp_freq = df_obs_freq.merge(df_rel_freq, on='religion')\n",
    "df_exp_freq['expected_freq'] = df_exp_freq['rel_freq'] * 500\n",
    "\n",
    "display(df_exp_freq.head())"
   ]
  },
  {
   "cell_type": "markdown",
   "id": "6039652f",
   "metadata": {
    "papermill": {
     "duration": 0.010877,
     "end_time": "2022-09-14T19:03:17.484399",
     "exception": false,
     "start_time": "2022-09-14T19:03:17.473522",
     "status": "completed"
    },
    "tags": []
   },
   "source": [
    "As you can see, now we have observed frequency and expected frequency in each group and we can use these values to conduct the Chi-Square GoF test.\n",
    "\n",
    "But before that, as usual, we need to set our significance value for this case, which will be 0.01 and then form our hypothesis as follows:\n",
    "\n",
    "* Null hypothesis: The religion distribution among students is similar to the religion distribution among European adults\n",
    "* Alternative hypothesis: The religion distribution among students is different compared to the religion distribution among European adults.\n",
    "\n",
    "Now let’s use Scipy library from Python to conduct this test."
   ]
  },
  {
   "cell_type": "code",
   "execution_count": 15,
   "id": "5d077d7e",
   "metadata": {
    "execution": {
     "iopub.execute_input": "2022-09-14T19:03:17.509956Z",
     "iopub.status.busy": "2022-09-14T19:03:17.508429Z",
     "iopub.status.idle": "2022-09-14T19:03:17.519081Z",
     "shell.execute_reply": "2022-09-14T19:03:17.517027Z"
    },
    "papermill": {
     "duration": 0.026089,
     "end_time": "2022-09-14T19:03:17.521887",
     "exception": false,
     "start_time": "2022-09-14T19:03:17.495798",
     "status": "completed"
    },
    "tags": []
   },
   "outputs": [
    {
     "name": "stdout",
     "output_type": "stream",
     "text": [
      "5.289068266556468e-13\n",
      "\n",
      "We Reject Null Hypothesis\n"
     ]
    }
   ],
   "source": [
    "from scipy.stats import chisquare\n",
    "\n",
    "test_statistic, p_value = chisquare(df_exp_freq['observed_freq'], df_exp_freq['expected_freq'])\n",
    "\n",
    "print(p_value)\n",
    "\n",
    "if p_value < 0.05:\n",
    "    print(\"\\nWe Reject Null Hypothesis\")\n",
    "else:\n",
    "    print(\"\\nWe Accept Alternate Hypothesis\")"
   ]
  },
  {
   "cell_type": "markdown",
   "id": "6f603597",
   "metadata": {
    "papermill": {
     "duration": 0.011504,
     "end_time": "2022-09-14T19:03:17.544867",
     "exception": false,
     "start_time": "2022-09-14T19:03:17.533363",
     "status": "completed"
    },
    "tags": []
   },
   "source": [
    "The resulting p-Value is very small, indicating that even at significance level of 0.01, our data provides strong evidence that the religion distribution among students is different compared to the religion distribution among European adults. Hence, we reject the null hypothesis.\n",
    "\n",
    "# <div style=\"color:white;display:fill;border-radius:5px;background-color:#00B1D2FF;letter-spacing:0.1px;overflow:hidden\"><p id='17' style=\"padding:15px;color:white;overflow:hidden;margin:0;font-size:100%;\">Chi-Square Independence Test</p></div>\n",
    "\n",
    "Although the name of this statistical test is similar to the previous test, the Chi-Square independence test has a different purpose compared to Chi-Square GoF. We use indepence test when we want to observe whether there is an association between two discrete or categorical variables.\n",
    "\n",
    "To properly conduct this statistical test, we need to make sure that our data fulfills the following conditions:\n",
    "\n",
    "* The two variables should be discrete or categorical variables\n",
    "* The sample size of both categories should be large enough. As a rule of thumb, there should be 5 samples in each category\n",
    "* The samples from both categories are randomly selected.\n",
    "\n",
    "The most common practice when we’re dealing with Chi-Square independence test is creating a contingency table of our categorical variables, as you can see below:"
   ]
  },
  {
   "cell_type": "code",
   "execution_count": 16,
   "id": "2554cbef",
   "metadata": {
    "execution": {
     "iopub.execute_input": "2022-09-14T19:03:17.572497Z",
     "iopub.status.busy": "2022-09-14T19:03:17.572019Z",
     "iopub.status.idle": "2022-09-14T19:03:17.603587Z",
     "shell.execute_reply": "2022-09-14T19:03:17.602349Z"
    },
    "papermill": {
     "duration": 0.048442,
     "end_time": "2022-09-14T19:03:17.606387",
     "exception": false,
     "start_time": "2022-09-14T19:03:17.557945",
     "status": "completed"
    },
    "tags": []
   },
   "outputs": [
    {
     "data": {
      "text/html": [
       "<div>\n",
       "<style scoped>\n",
       "    .dataframe tbody tr th:only-of-type {\n",
       "        vertical-align: middle;\n",
       "    }\n",
       "\n",
       "    .dataframe tbody tr th {\n",
       "        vertical-align: top;\n",
       "    }\n",
       "\n",
       "    .dataframe thead th {\n",
       "        text-align: right;\n",
       "    }\n",
       "</style>\n",
       "<table border=\"1\" class=\"dataframe\">\n",
       "  <thead>\n",
       "    <tr style=\"text-align: right;\">\n",
       "      <th>gender</th>\n",
       "      <th>Female</th>\n",
       "      <th>Male</th>\n",
       "    </tr>\n",
       "    <tr>\n",
       "      <th>major</th>\n",
       "      <th></th>\n",
       "      <th></th>\n",
       "    </tr>\n",
       "  </thead>\n",
       "  <tbody>\n",
       "    <tr>\n",
       "      <th>Biology</th>\n",
       "      <td>959</td>\n",
       "      <td>638</td>\n",
       "    </tr>\n",
       "    <tr>\n",
       "      <th>Economics and Finance</th>\n",
       "      <td>461</td>\n",
       "      <td>863</td>\n",
       "    </tr>\n",
       "    <tr>\n",
       "      <th>Environmental Sciences</th>\n",
       "      <td>745</td>\n",
       "      <td>881</td>\n",
       "    </tr>\n",
       "    <tr>\n",
       "      <th>Mathematics and Statistics</th>\n",
       "      <td>276</td>\n",
       "      <td>949</td>\n",
       "    </tr>\n",
       "    <tr>\n",
       "      <th>Political Science</th>\n",
       "      <td>978</td>\n",
       "      <td>477</td>\n",
       "    </tr>\n",
       "    <tr>\n",
       "      <th>Social Sciences</th>\n",
       "      <td>691</td>\n",
       "      <td>321</td>\n",
       "    </tr>\n",
       "  </tbody>\n",
       "</table>\n",
       "</div>"
      ],
      "text/plain": [
       "gender                      Female  Male\n",
       "major                                   \n",
       "Biology                        959   638\n",
       "Economics and Finance          461   863\n",
       "Environmental Sciences         745   881\n",
       "Mathematics and Statistics     276   949\n",
       "Political Science              978   477\n",
       "Social Sciences                691   321"
      ]
     },
     "execution_count": 16,
     "metadata": {},
     "output_type": "execute_result"
    }
   ],
   "source": [
    "df_major = pd.crosstab(df['major'], df['gender'])\n",
    "df_major"
   ]
  },
  {
   "cell_type": "markdown",
   "id": "64cab4b6",
   "metadata": {
    "papermill": {
     "duration": 0.011219,
     "end_time": "2022-09-14T19:03:17.630030",
     "exception": false,
     "start_time": "2022-09-14T19:03:17.618811",
     "status": "completed"
    },
    "tags": []
   },
   "source": [
    "Now that we have a contingency table as above, we are ready to conduct the Chi-Square independence test.\n",
    "\n",
    "But before that, we should set our significance level, which in our case will be 0.05. Next,we formulate our null hypothesis and alternative hypothesis as follows:\n",
    "\n",
    "* Null hypothesis: there is no association between gender and study major of the students.\n",
    "* Alternative hypothesis: there is an association between gender and study major of the students.\n",
    "\n",
    "Now we can compute the resulting p-Value with Scipy library from Python as follows:"
   ]
  },
  {
   "cell_type": "code",
   "execution_count": 17,
   "id": "a4383edc",
   "metadata": {
    "execution": {
     "iopub.execute_input": "2022-09-14T19:03:17.655349Z",
     "iopub.status.busy": "2022-09-14T19:03:17.654295Z",
     "iopub.status.idle": "2022-09-14T19:03:17.662921Z",
     "shell.execute_reply": "2022-09-14T19:03:17.661456Z"
    },
    "papermill": {
     "duration": 0.023838,
     "end_time": "2022-09-14T19:03:17.665311",
     "exception": false,
     "start_time": "2022-09-14T19:03:17.641473",
     "status": "completed"
    },
    "tags": []
   },
   "outputs": [
    {
     "name": "stdout",
     "output_type": "stream",
     "text": [
      "5.501737149286338e-187\n",
      "\n",
      "We Reject Null Hypothesis\n"
     ]
    }
   ],
   "source": [
    "from scipy.stats import chi2_contingency\n",
    "\n",
    "test_statistic, p_value, x, c = chi2_contingency(df_major)\n",
    "\n",
    "print(p_value)\n",
    "\n",
    "if p_value < 0.05:\n",
    "    print(\"\\nWe Reject Null Hypothesis\")\n",
    "else:\n",
    "    print(\"\\nWe Accept Alternate Hypothesis\")"
   ]
  },
  {
   "cell_type": "markdown",
   "id": "5f28c53a",
   "metadata": {
    "papermill": {
     "duration": 0.011225,
     "end_time": "2022-09-14T19:03:17.687994",
     "exception": false,
     "start_time": "2022-09-14T19:03:17.676769",
     "status": "completed"
    },
    "tags": []
   },
   "source": [
    "As you can see, the resulting p-Value is very small. This means that at 5% significance level, our data provides strong evidence that there is an association between gender and study major. Hence, we reject the null hypothesis."
   ]
  }
 ],
 "metadata": {
  "kernelspec": {
   "display_name": "Python 3",
   "language": "python",
   "name": "python3"
  },
  "language_info": {
   "codemirror_mode": {
    "name": "ipython",
    "version": 3
   },
   "file_extension": ".py",
   "mimetype": "text/x-python",
   "name": "python",
   "nbconvert_exporter": "python",
   "pygments_lexer": "ipython3",
   "version": "3.11.4"
  },
  "papermill": {
   "default_parameters": {},
   "duration": 12.873015,
   "end_time": "2022-09-14T19:03:18.421899",
   "environment_variables": {},
   "exception": null,
   "input_path": "__notebook__.ipynb",
   "output_path": "__notebook__.ipynb",
   "parameters": {},
   "start_time": "2022-09-14T19:03:05.548884",
   "version": "2.3.4"
  }
 },
 "nbformat": 4,
 "nbformat_minor": 5
}
