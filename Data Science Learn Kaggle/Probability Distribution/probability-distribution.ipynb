{
 "cells": [
  {
   "cell_type": "markdown",
   "id": "4cf237c4",
   "metadata": {
    "papermill": {
     "duration": 0.006749,
     "end_time": "2024-01-05T03:39:44.462537",
     "exception": false,
     "start_time": "2024-01-05T03:39:44.455788",
     "status": "completed"
    },
    "tags": []
   },
   "source": [
    "<div style=\"background-color: seagreen; padding: 8px; border-radius: 8px\"><h1 style=\"color:white;\" align=\"center\">Probability Distribution</div>"
   ]
  },
  {
   "cell_type": "markdown",
   "id": "6cc5a8d4",
   "metadata": {
    "papermill": {
     "duration": 0.006396,
     "end_time": "2024-01-05T03:39:44.475384",
     "exception": false,
     "start_time": "2024-01-05T03:39:44.468988",
     "status": "completed"
    },
    "tags": []
   },
   "source": [
    "## Probability Distribution\n",
    "\n",
    "- **A probability distribution is a mathematical function that describes the probability of different possible values of a variable.**\n",
    "\n",
    "- **Probability distributions are often depicted using graphs or probability tables.**\n",
    "\n",
    "## What is Probability Distribution?\n",
    "\n",
    "- **A probability distribution is an idealized frequency distribution.**\n",
    "\n",
    "- **A frequency distribution describes a specific sample or dataset. It’s the number of times each possible value of a variable occurs in the dataset.**\n",
    "\n",
    "- **The number of times a value occurs in a sample is determined by its probability of occurrence.**\n",
    "\n",
    "- **Probability is a number between 0 and 1 that says how likely something is to occur :**\n",
    "\n",
    "    - **0 means it’s impossible.**\n",
    "    - **1 means it’s certain.**\n",
    "    - **The higher the probability of a value, the higher its frequency in a sample.**\n",
    "\n",
    "## Random Variables\n",
    "\n",
    "- **A random variable is a variable that can take on many values.**\n",
    "\n",
    "- **A random variable can be defined as a type of variable whose value depends upon the numerical outcomes of a certain random phenomenon. It is also known as a stochastic variable.**\n",
    "\n",
    "## Types of Random Variables\n",
    "\n",
    "- **Random Variables can be divided into two broad categories depending upon the type of data available. These are given as follows :**\n",
    "\n",
    "    - **Discrete Random Variable**\n",
    "    - **Continuous Random Variable**\n",
    "    - **A Probability Mass Function is used to describe a discrete random variable and a Probability Density Function describes a continuous random variable.**"
   ]
  },
  {
   "cell_type": "markdown",
   "id": "b5dabc18",
   "metadata": {
    "papermill": {
     "duration": 0.005834,
     "end_time": "2024-01-05T03:39:44.487411",
     "exception": false,
     "start_time": "2024-01-05T03:39:44.481577",
     "status": "completed"
    },
    "tags": []
   },
   "source": [
    "## Important Notes on Random Variable\n",
    "\n",
    "- **A random variable is a variable that is used to denote the numerical outcome of a random experiment.**\n",
    "  \n",
    "- **Discrete and continuous random variables are types of random variables.**\n",
    "  \n",
    "- **A discrete random variable can take an exact value.**\n",
    "  \n",
    "- **The value of a continuous random variable falls between a range of values.**\n",
    "  \n",
    "## Mean of a Random Variable\n",
    "\n",
    "- **The average value of a random variable is called the mean of a random variable.**\n",
    "\n",
    "- **The mean is also known as the expected value. It is generally denoted by E(X). where X is the random variable.**\n",
    "\n",
    "- **The mean or expected value of a random variable can also be defined as the weighted average of all the values of the variable.**\n",
    "\n",
    "- **The formulas for the mean of a random variable are given below :**\n",
    "\n",
    "    - **Mean of Discrete Random Variable :**\n",
    "    > E(X) = ∑xP(X=x)\n",
    "    - **Here P(X = x) is the probability mass function.**\n",
    "\n",
    "    - **Mean of Continuous Random Variable :**\n",
    "    > E(X) = ∫xf(x)dx\n",
    "    - **Here f(x) is the probability density function.**\n"
   ]
  },
  {
   "cell_type": "markdown",
   "id": "d42e1ffd",
   "metadata": {
    "papermill": {
     "duration": 0.006014,
     "end_time": "2024-01-05T03:39:44.499643",
     "exception": false,
     "start_time": "2024-01-05T03:39:44.493629",
     "status": "completed"
    },
    "tags": []
   },
   "source": [
    "## Variance of a Random Variable\n",
    "\n",
    "- **The variance of a random variable can be defined as the expected value of the square of the difference of the random variable from the mean.**\n",
    "\n",
    "- **The variance of a random variable is given by Var(X) or σ<sup>2</sup>.**\n",
    "\n",
    "- **If μ is the mean then the formula for the variance is given as follows :**\n",
    "\n",
    "    - **Variance of a Discrete Random Variable :**\n",
    "    > Var(X) = ∑(x−μ)<sup>2</sup>P(X=x)\n",
    "    \n",
    "    - **Variance of a Continuous Random Variable :**\n",
    "    > Var(X) = ∫(x−μ)<sup>2</sup>f(x)dx"
   ]
  },
  {
   "cell_type": "markdown",
   "id": "eecc9678",
   "metadata": {
    "papermill": {
     "duration": 0.005938,
     "end_time": "2024-01-05T03:39:44.511877",
     "exception": false,
     "start_time": "2024-01-05T03:39:44.505939",
     "status": "completed"
    },
    "tags": []
   },
   "source": [
    "---"
   ]
  },
  {
   "attachments": {
    "6beb2a64-85d2-4f2b-b049-37895d11aaae.png": {
     "image/png": "[encoded data removed]"
    },
    "fa1710c6-d88c-4c13-ae61-d16c11bc216b.png": {
     "image/png": "[encoded data removed]"
    }
   },
   "cell_type": "markdown",
   "id": "dcd4388a",
   "metadata": {
    "papermill": {
     "duration": 0.005905,
     "end_time": "2024-01-05T03:39:44.524150",
     "exception": false,
     "start_time": "2024-01-05T03:39:44.518245",
     "status": "completed"
    },
    "tags": []
   },
   "source": [
    "## Probability Density Function\n",
    "\n",
    "- **Probability density function is a function that provides the likelihood that the value of a random variable will fall between a certain range of values.**\n",
    "\n",
    "- **We use the probability density function in the case of continuous random variables.**\n",
    "\n",
    "- **The graph of a probability density function is in the form of a bell curve.**\n",
    "\n",
    "- **If we differentiate the cumulative distribution function of a continuous random variable it results in the probability density function.**\n",
    "  \n",
    "- **Conversely, on integrating the probability density function we get the cumulative distribution function.**\n",
    "\n",
    "## Probability Density Function of Continuous Random Variable\n",
    "\n",
    "- **Suppose we have a continuous random variable, X.**\n",
    "\n",
    "- **Let F(x) be the cumulative distribution function of X.**\n",
    "\n",
    "- **Then the formula for the probability density function, f(x), is given as follows :**\n",
    "\n",
    "![image.png](attachment:fa1710c6-d88c-4c13-ae61-d16c11bc216b.png)\n",
    "\n",
    "- **If we want to find the probability that X lies between lower limit 'a' and upper limit 'b' then using the probability density function this can be given as :**\n",
    "\n",
    "![image.png](attachment:6beb2a64-85d2-4f2b-b049-37895d11aaae.png)\n",
    "\n",
    "**Here, F(b) and F(a) represent the cumulative distribution function at b and a respectively.**"
   ]
  },
  {
   "attachments": {
    "6689a141-b9a5-4f03-a0ce-a2a3e9242e3a.png": {
     "image/png": "[encoded data removed]"
    }
   },
   "cell_type": "markdown",
   "id": "b809c80f",
   "metadata": {
    "papermill": {
     "duration": 0.005872,
     "end_time": "2024-01-05T03:39:44.536166",
     "exception": false,
     "start_time": "2024-01-05T03:39:44.530294",
     "status": "completed"
    },
    "tags": []
   },
   "source": [
    "## Probability Density Function of Normal Distribution\n",
    "\n",
    "- **Normal distribution is the most widely used type of continuous probability distribution. The notation for normal distribution is given as :**\n",
    "\n",
    "> X∼N(μ,σ<sup>2</sup>)\n",
    "\n",
    "- **The probability density function of a normal distribution is given below :**\n",
    "\n",
    "![Screenshot 2024-01-04 144812.png](attachment:6689a141-b9a5-4f03-a0ce-a2a3e9242e3a.png)\n",
    "\n",
    "- **Here, μ is the mean and σ is the standard deviation while σ<sup>2</sup> is the variance.**"
   ]
  },
  {
   "attachments": {
    "d9e92610-e8ad-44f6-afee-71072f7e40ad.png": {
     "image/png": "[encoded data removed]"
    }
   },
   "cell_type": "markdown",
   "id": "1adbd94e",
   "metadata": {
    "papermill": {
     "duration": 0.005895,
     "end_time": "2024-01-05T03:39:44.548241",
     "exception": false,
     "start_time": "2024-01-05T03:39:44.542346",
     "status": "completed"
    },
    "tags": []
   },
   "source": [
    "\n",
    "## Probability Density Function Graph\n",
    "\n",
    "- **If X is a continuous random variable then the probability distribution of this variable is given by the probability density function.**\n",
    "\n",
    "- **The graph given below depicts the probability that X will lie between two points a and b.**\n",
    "\n",
    "![probability-density-function-graph-1-1635244935.png](attachment:d9e92610-e8ad-44f6-afee-71072f7e40ad.png)"
   ]
  },
  {
   "attachments": {
    "7186da41-bb0a-4c8e-8cf1-ee875c2c7422.png": {
     "image/png": "[encoded data removed]"
    },
    "8a5f4f11-dc76-4949-95e8-e19a8321fd00.png": {
     "image/png": "[encoded data removed]"
    },
    "e36cab5c-be66-4d9e-9e84-876bee991786.png": {
     "image/png": "[encoded data removed]"
    }
   },
   "cell_type": "markdown",
   "id": "fa065c7b",
   "metadata": {
    "papermill": {
     "duration": 0.005939,
     "end_time": "2024-01-05T03:39:44.560313",
     "exception": false,
     "start_time": "2024-01-05T03:39:44.554374",
     "status": "completed"
    },
    "tags": []
   },
   "source": [
    "## Mean of Probability Density Function\n",
    "\n",
    "- **Mean is the expected value or the average value of the random variable.**\n",
    "\n",
    "- **If f(x) is the probability density function of the random variable X, then mean is given by the following formula :**\n",
    "\n",
    "![image.png](attachment:e36cab5c-be66-4d9e-9e84-876bee991786.png)\n",
    "\n",
    "## Median of Probability Density Function\n",
    "\n",
    "- **Suppose x = m is the value of the median. The area under the curve from −∞ to m will be equal to the area under the curve from m to ∞.**\n",
    "  \n",
    "- **This implies that the value of the median is 1 / 2. Thus, the median of the probability density function is given as follows :**\n",
    "\n",
    "![image.png](attachment:8a5f4f11-dc76-4949-95e8-e19a8321fd00.png)\n",
    "\n",
    "## Variance of Probability Density Function\n",
    "\n",
    "- **The expected value of the squared deviation from the mean is the variance of a random variable. Expressing this definition mathematically we get :**\n",
    "\n",
    "> Var(X) = E((X−μ)<sup>2</sup>)\n",
    "\n",
    "- **To represent this variance with the help of the probability density function, the formula is given as :**\n",
    "\n",
    "![image.png](attachment:7186da41-bb0a-4c8e-8cf1-ee875c2c7422.png)"
   ]
  },
  {
   "attachments": {
    "efa75804-7f55-44f6-b8e7-49645690702f.png": {
     "image/png": "[encoded data removed]"
    }
   },
   "cell_type": "markdown",
   "id": "c36373d8",
   "metadata": {
    "papermill": {
     "duration": 0.005851,
     "end_time": "2024-01-05T03:39:44.572370",
     "exception": false,
     "start_time": "2024-01-05T03:39:44.566519",
     "status": "completed"
    },
    "tags": []
   },
   "source": [
    "## Properties of Probability Density Function\n",
    "\n",
    "- **If f(x) is the probability distribution of a continuous random variable, X, then some of the useful properties are listed below :**\n",
    "\n",
    "    - **f(x) ≥ 0. This implies that the probability density function for all real numbers can be either equal to or greater than 0. But it can never be negative or lesser than 0.**\n",
    "\n",
    "    - **The total area under the probability density curve will be equal to 1, when :**\n",
    "\n",
    "![image.png](attachment:efa75804-7f55-44f6-b8e7-49645690702f.png)"
   ]
  },
  {
   "cell_type": "markdown",
   "id": "95c2388f",
   "metadata": {
    "papermill": {
     "duration": 0.005836,
     "end_time": "2024-01-05T03:39:44.584253",
     "exception": false,
     "start_time": "2024-01-05T03:39:44.578417",
     "status": "completed"
    },
    "tags": []
   },
   "source": [
    "---"
   ]
  },
  {
   "cell_type": "markdown",
   "id": "74164e04",
   "metadata": {
    "papermill": {
     "duration": 0.00579,
     "end_time": "2024-01-05T03:39:44.596156",
     "exception": false,
     "start_time": "2024-01-05T03:39:44.590366",
     "status": "completed"
    },
    "tags": []
   },
   "source": [
    "## Probability Mass Function\n",
    "\n",
    "- **Probability mass function gives the probability that a discrete random variable will be exactly equal to a specific value.**\n",
    "\n",
    "- **The probability mass function is only used for discrete random variables.**\n",
    "\n",
    "- **Probability mass function (pmf) and cumulative distribution function (CDF) are two functions that are needed to describe the distribution of a discrete random variable.**\n",
    "\n",
    "- **The cumulative distribution function can be defined as a function that gives the probabilities of a random variable being lesser than or equal to a specific value.**\n",
    "\n",
    "- **The CDF of a discrete random variable up to a particular value, x, can be obtained from the pmf by summing up the probabilities associated with the variable up to x.**\n",
    "\n",
    "## Probability Mass Function of Discrete Random Variable\n",
    "\n",
    "- **The probability mass function provides all possible values of a discrete random variable as well as the probabilities associated with it.**\n",
    "\n",
    "- **Let X be the discrete random variable. Then the formula for the probability mass function, f(x), evaluated at x, is given as follows :**\n",
    "\n",
    "> f(x) = P(X = x)\n",
    "\n",
    "- **The cumulative distribution function of a discrete random variable is given as follows :**\n",
    "\n",
    "> F(x) = P(X ≤ x)"
   ]
  },
  {
   "attachments": {
    "53b2aac5-deda-41ad-be6d-b2ced044b124.png": {
     "image/png": "[encoded data removed]"
    }
   },
   "cell_type": "markdown",
   "id": "ffd806e6",
   "metadata": {
    "papermill": {
     "duration": 0.005943,
     "end_time": "2024-01-05T03:39:44.608125",
     "exception": false,
     "start_time": "2024-01-05T03:39:44.602182",
     "status": "completed"
    },
    "tags": []
   },
   "source": [
    "## Cumulative Distribution Function\n",
    "\n",
    "- **The cumulative distribution function (CDF) of a random variable is another method to describe the distribution of continuous random variables.**\n",
    "\n",
    "- **The advantage of the CDF is that it can be defined for any kind of random variable (discrete, continuous, and mixed).**\n",
    "\n",
    "- **The cumulative distribution function (CDF) of random variable X is defined as :**\n",
    "\n",
    "![Screenshot 2024-01-04 214702.png](attachment:53b2aac5-deda-41ad-be6d-b2ced044b124.png)\n",
    "\n",
    "- **Note that X indicates that this is the CDF of the random variable X. Also, note that the CDF is defined for all x∈R.**"
   ]
  },
  {
   "attachments": {
    "adf448f5-1592-4697-b34a-ad57b2e8fd27.png": {
     "image/png": "[encoded data removed]"
    },
    "d5346629-be30-4677-a91e-384f87726eaa.png": {
     "image/png": "[encoded data removed]"
    }
   },
   "cell_type": "markdown",
   "id": "21cd2733",
   "metadata": {
    "papermill": {
     "duration": 0.005897,
     "end_time": "2024-01-05T03:39:44.620260",
     "exception": false,
     "start_time": "2024-01-05T03:39:44.614363",
     "status": "completed"
    },
    "tags": []
   },
   "source": [
    "## Probability Mass Function of Binomial Distribution\n",
    "\n",
    "- **Binomial distribution is a discrete distribution that models the number of successes in n Bernoulli trials.**\n",
    "\n",
    "- **These trials are experiments that can have only two outcomes, i.e, success (with probability p) and failure (with probability 1 - p).**\n",
    "\n",
    "- **The probability mass function of a binomial distribution is given as follows :**\n",
    "\n",
    "![image.png](attachment:adf448f5-1592-4697-b34a-ad57b2e8fd27.png)\n",
    "## Probability Mass Function of Poisson Distribution\n",
    "\n",
    "- **Poisson distribution is another type of probability distribution.**\n",
    "\n",
    "- **It models the probability that a given number of events will occur within an interval of time independently and at a constant mean rate.**\n",
    "\n",
    "- **The probability mass function of Poisson distribution with parameter λ > 0 is as follows :**\n",
    "\n",
    "![image.png](attachment:d5346629-be30-4677-a91e-384f87726eaa.png)"
   ]
  },
  {
   "attachments": {
    "601185fe-6026-4b13-a2be-7c447a281f46.png": {
     "image/png": "[encoded data removed]"
    }
   },
   "cell_type": "markdown",
   "id": "7bc3ac9f",
   "metadata": {
    "papermill": {
     "duration": 0.005857,
     "end_time": "2024-01-05T03:39:44.632266",
     "exception": false,
     "start_time": "2024-01-05T03:39:44.626409",
     "status": "completed"
    },
    "tags": []
   },
   "source": [
    "## Probability Mass Function Graph\n",
    "\n",
    "- **The probability mass function graph is used to display the probabilities associated with the possible values of the random variable.**\n",
    "\n",
    "- **A bar graph can be used to represent the probability mass function of the coin toss example as given below.**\n",
    "\n",
    "![probability-mass-function-graph-1639541980.png](attachment:601185fe-6026-4b13-a2be-7c447a281f46.png)"
   ]
  },
  {
   "cell_type": "markdown",
   "id": "91418ff8",
   "metadata": {
    "papermill": {
     "duration": 0.005889,
     "end_time": "2024-01-05T03:39:44.644094",
     "exception": false,
     "start_time": "2024-01-05T03:39:44.638205",
     "status": "completed"
    },
    "tags": []
   },
   "source": [
    "## Properties of Probability Mass Function\n",
    "\n",
    "- **There are three important properties of the probability mass function.**\n",
    "\n",
    "- **The probability mass function properties are given as follows :**\n",
    "\n",
    "    - **P(X = x) = f(x) > 0. This implies that for every element x associated with a sample space, all probabilities must be positive.**\n",
    "    \n",
    "    - **∑<sub>xϵS</sub>f(x)=1. The sum of all probabilities associated with x values of a discrete random variable will be equal to 1.**\n",
    " \n",
    "    - **P(X ∈ T) = ∑<sub>xϵT</sub>f(x). The probability associated with an event T can be determined by adding all the probabilities of the x values in T. This property is used to find the CDF of the discrete random variable.**"
   ]
  }
 ],
 "metadata": {
  "kaggle": {
   "accelerator": "none",
   "dataSources": [],
   "dockerImageVersionId": 30626,
   "isGpuEnabled": false,
   "isInternetEnabled": true,
   "language": "python",
   "sourceType": "notebook"
  },
  "kernelspec": {
   "display_name": "Python 3 (ipykernel)",
   "language": "python",
   "name": "python3"
  },
  "language_info": {
   "codemirror_mode": {
    "name": "ipython",
    "version": 3
   },
   "file_extension": ".py",
   "mimetype": "text/x-python",
   "name": "python",
   "nbconvert_exporter": "python",
   "pygments_lexer": "ipython3",
   "version": "3.10.12"
  },
  "papermill": {
   "default_parameters": {},
   "duration": 4.854427,
   "end_time": "2024-01-05T03:39:44.968760",
   "environment_variables": {},
   "exception": null,
   "input_path": "__notebook__.ipynb",
   "output_path": "__notebook__.ipynb",
   "parameters": {},
   "start_time": "2024-01-05T03:39:40.114333",
   "version": "2.4.0"
  }
 },
 "nbformat": 4,
 "nbformat_minor": 5
}
