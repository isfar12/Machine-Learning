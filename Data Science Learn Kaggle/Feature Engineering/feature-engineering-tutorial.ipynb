{
 "cells": [
  {
   "cell_type": "markdown",
   "metadata": {
    "papermill": {
     "duration": 0.06422,
     "end_time": "2023-05-25T13:54:39.634816",
     "exception": false,
     "start_time": "2023-05-25T13:54:39.570596",
     "status": "completed"
    },
    "tags": []
   },
   "source": [
    "# About this Notebook\n",
    "Hey all,\n",
    "my goal is to write a **compact guide** on feature engineering.\n",
    "\n",
    "\n",
    "<div class=\"alert alert-danger\" role=\"alert\">\n",
    "    <h3>Feel free to <span style=\"color:red\">comment</span> if you have any suggestions   |   motivate me with an <span style=\"color:red\">upvote</span> if you like this project.</h3>\n",
    "</div>\n"
   ]
  },
  {
   "cell_type": "markdown",
   "metadata": {
    "papermill": {
     "duration": 0.062439,
     "end_time": "2023-05-25T13:54:39.759865",
     "exception": false,
     "start_time": "2023-05-25T13:54:39.697426",
     "status": "completed"
    },
    "tags": []
   },
   "source": [
    "<a id='top'></a>"
   ]
  },
  {
   "cell_type": "markdown",
   "metadata": {
    "papermill": {
     "duration": 0.066075,
     "end_time": "2023-05-25T13:54:39.890297",
     "exception": false,
     "start_time": "2023-05-25T13:54:39.824222",
     "status": "completed"
    },
    "tags": []
   },
   "source": [
    "<h1 style=\"background-color:DodgerBlue; color:white\" >-> Topics:</h1>\n",
    "\n",
    "## 1. [Motivation and General Advices](#sec1)\n",
    "#### 1.1. [Feature-Target Relations and Monotony](#sec11)\n",
    "#### 1.2. [Pearson Correlation and Collinearity](#sec12)\n",
    "\n",
    "## 2. [Univariate Transformations on Numerical Data](#sec2)\n",
    "#### 2.1. [Scaling, Centering, and Standardization](#sec21)\n",
    "* [Centering and Standardization](#sec211)\n",
    "* [Range Scaling](#sec212)\n",
    "* [Robust Scaling](#sec213)\n",
    "\n",
    "#### 2.2. [Log Transformation](#sec22)\n",
    "#### 2.3. [Box-Cox Power Transformation](#sec23)\n",
    "#### 2.4. [Binning with Decision Trees](#sec24) \n",
    "\n",
    "## 3. [Encode Categorical Data](#sec3)\n",
    "#### 3.1. [Label Encoding](#sec31)\n",
    "#### 3.2. [One-Hot Encoding](#sec32)\n",
    "#### 3.3. [Target-Mean Encoding](#sec33)\n",
    "\n",
    "\n",
    "## 4. [Combine interacting Features](#sec-2)\n",
    "#### 4.1. [Combine Features using Equations](#sec-21)\n",
    "#### 4.2. [Combine Features using Groupby](#sec-22)\n",
    "#### 4.3. [Combine Features using Conditions](#sec-23)\n",
    "\n",
    "## 5. [Distributions](#sec-5)\n",
    "#### 5.1. [Distribution Tails](#sec51)\n",
    "#### 5.2. [The Quantile-Quantile Plot (qqplot)](#sec52)\n",
    "\n",
    "## 6. [Further Readings & Helpful Videos](#sec6)"
   ]
  },
  {
   "cell_type": "markdown",
   "metadata": {
    "papermill": {
     "duration": 0.061917,
     "end_time": "2023-05-25T13:54:40.029341",
     "exception": false,
     "start_time": "2023-05-25T13:54:39.967424",
     "status": "completed"
    },
    "tags": []
   },
   "source": [
    "loading data sets"
   ]
  },
  {
   "cell_type": "code",
   "execution_count": 1,
   "metadata": {
    "_cell_guid": "79c7e3d0-c299-4dcb-8224-4455121ee9b0",
    "_kg_hide-input": true,
    "_kg_hide-output": true,
    "_uuid": "d629ff2d2480ee46fbb7e2d37f6b5fab8052498a",
    "execution": {
     "iopub.execute_input": "2023-05-25T13:54:40.184823Z",
     "iopub.status.busy": "2023-05-25T13:54:40.183751Z",
     "iopub.status.idle": "2023-05-25T13:54:41.058621Z",
     "shell.execute_reply": "2023-05-25T13:54:41.059215Z",
     "shell.execute_reply.started": "2023-05-25T12:51:07.620977Z"
    },
    "papermill": {
     "duration": 0.968206,
     "end_time": "2023-05-25T13:54:41.059464",
     "exception": false,
     "start_time": "2023-05-25T13:54:40.091258",
     "status": "completed"
    },
    "tags": []
   },
   "outputs": [],
   "source": [
    "import pandas as pd \n",
    "\n",
    "df_heart = pd.read_csv('/kaggle/input/heart-disease-uci/heart.csv')\n",
    "trestbps = df_heart['trestbps']\n",
    "chol = df_heart['chol']\n",
    "target_heart = df_heart['target']\n",
    "\n",
    "df_health = pd.read_csv('/kaggle/input/health-insurance-cross-sell-prediction/train.csv')\n",
    "age = df_health['Age']\n",
    "target_health = df_health['Response']"
   ]
  },
  {
   "cell_type": "markdown",
   "metadata": {
    "papermill": {
     "duration": 0.06184,
     "end_time": "2023-05-25T13:54:41.183817",
     "exception": false,
     "start_time": "2023-05-25T13:54:41.121977",
     "status": "completed"
    },
    "tags": []
   },
   "source": [
    "<a id=\"sec1\"></a>\n",
    "***\n",
    "<h1 style=\"background-color:DodgerBlue; color:white\" >-> 1. Motivation and General Advices</h1>\n",
    "\n",
    "feature engineering refers to transforming input representations, so that the key relationships between the input and the target can be learned easier by a machine learning model.\n",
    "key relationships may be between the target and...\n",
    "* a transformation of *one* feature / different representation of a feature\n",
    "* a functional relationship between *multiple* features e.g. product or ratio\n",
    "\n",
    "In best case we engineer relationships between features and the target as...\n",
    "* **binary flags**\n",
    "* **monotonic functions**, linear if possible\n",
    "\n",
    "feature engineering is part of the machine learning loop:\n",
    "1. collect data\n",
    "2. get insights into the data \n",
    "    - exploratory data analysis\n",
    "    - domain knowledge\n",
    "3. deduct design decisions from data insights and implement them\n",
    "    - data cleaning\n",
    "    - **feature engineering**\n",
    "    - train-val-test splitting\n",
    "    - machine learning model design\n",
    "4. fit the model\n",
    "    - training\n",
    "    - hyperparameter optimization\n",
    "5. evaluate the model\n",
    "    - evaluation scores (accuracy, f1, mse, ...)\n",
    "    - gradcam...\n",
    "6. deduct design decisions from model evaluation\n",
    "    - feature selection\n",
    "    - machine learning model design\n",
    "7. optionally gather more data, and repeat 1. - 6.\n"
   ]
  },
  {
   "cell_type": "markdown",
   "metadata": {
    "papermill": {
     "duration": 0.073559,
     "end_time": "2023-05-25T13:54:41.324958",
     "exception": false,
     "start_time": "2023-05-25T13:54:41.251399",
     "status": "completed"
    },
    "tags": []
   },
   "source": [
    "<a id=\"sec11\"></a>\n",
    "***\n",
    "<h1 style=\"background-color:DodgerBlue; color:white\" >-> 1.1. Feature-Target Relations and Monotony</h1>\n",
    "\n",
    "It is best practice to create features which have a **monotonic relationship** with the target because...\n",
    "\n",
    "* the relationship is easy to interpret for a human\n",
    "* the machine learning models might converge faster\n",
    "* the machine learning models often provide better predictions\n",
    "\n",
    "But what exactly are these monotonic relationships? Let me give you an example:\n",
    "Imagine having data about some employees of your department, and you want to find out the relationship between their employment *years* and their *salary*. You want to predict your salary over the next years (target=*salary*)."
   ]
  },
  {
   "cell_type": "code",
   "execution_count": 2,
   "metadata": {
    "_kg_hide-input": true,
    "execution": {
     "iopub.execute_input": "2023-05-25T13:54:41.457059Z",
     "iopub.status.busy": "2023-05-25T13:54:41.455939Z",
     "iopub.status.idle": "2023-05-25T13:54:41.730290Z",
     "shell.execute_reply": "2023-05-25T13:54:41.730908Z",
     "shell.execute_reply.started": "2023-05-25T12:20:40.333542Z"
    },
    "papermill": {
     "duration": 0.344749,
     "end_time": "2023-05-25T13:54:41.731085",
     "exception": false,
     "start_time": "2023-05-25T13:54:41.386336",
     "status": "completed"
    },
    "tags": []
   },
   "outputs": [
    {
     "data": {
      "image/png": "[encoded data removed]",
      "text/plain": [
       "<Figure size 432x288 with 1 Axes>"
      ]
     },
     "metadata": {
      "needs_background": "light"
     },
     "output_type": "display_data"
    }
   ],
   "source": [
    "import matplotlib.pyplot as plt\n",
    "\n",
    "years = [1, 3, 8]\n",
    "salary = [8, 11, 14]\n",
    "values = list(zip(years, salary))\n",
    "names = ['years', 'salary']\n",
    "df = pd.DataFrame(values, columns=names)\n",
    "df.plot.line('years', 'salary', color='black')\n",
    "plt.show()"
   ]
  },
  {
   "cell_type": "markdown",
   "metadata": {
    "papermill": {
     "duration": 0.063233,
     "end_time": "2023-05-25T13:54:41.859995",
     "exception": false,
     "start_time": "2023-05-25T13:54:41.796762",
     "status": "completed"
    },
    "tags": []
   },
   "source": [
    "**strictly monotonic (increasing)** relationship, because the bigger the value of *years*, the bigger the value of *salary*.\n",
    "\n",
    "Let's consider you collected some more data and plot it:"
   ]
  },
  {
   "cell_type": "code",
   "execution_count": 3,
   "metadata": {
    "_kg_hide-input": true,
    "execution": {
     "iopub.execute_input": "2023-05-25T13:54:42.111431Z",
     "iopub.status.busy": "2023-05-25T13:54:42.032769Z",
     "iopub.status.idle": "2023-05-25T13:54:42.293227Z",
     "shell.execute_reply": "2023-05-25T13:54:42.292177Z",
     "shell.execute_reply.started": "2023-05-25T12:23:07.723338Z"
    },
    "papermill": {
     "duration": 0.356678,
     "end_time": "2023-05-25T13:54:42.293386",
     "exception": false,
     "start_time": "2023-05-25T13:54:41.936708",
     "status": "completed"
    },
    "tags": []
   },
   "outputs": [
    {
     "data": {
      "image/png": "[encoded data removed]",
      "text/plain": [
       "<Figure size 432x288 with 1 Axes>"
      ]
     },
     "metadata": {
      "needs_background": "light"
     },
     "output_type": "display_data"
    }
   ],
   "source": [
    "years = [1, 3, 8, 10, 11]\n",
    "salary = [8, 11, 14, 14, 15]\n",
    "values = list(zip(years, salary))\n",
    "names = ['years', 'salary']\n",
    "df = pd.DataFrame(values, columns=names)\n",
    "df.plot.line('years', 'salary', color='black')\n",
    "plt.show()"
   ]
  },
  {
   "cell_type": "markdown",
   "metadata": {
    "papermill": {
     "duration": 0.064354,
     "end_time": "2023-05-25T13:54:42.422651",
     "exception": false,
     "start_time": "2023-05-25T13:54:42.358297",
     "status": "completed"
    },
    "tags": []
   },
   "source": [
    "This relationship is still called **monotonic (increasing)**, despite the fact that the *salary* is the same for *years* = 8 **and** *years* = 10. The relationship is just not called **strictly monotonic** anymore.\n",
    "\n",
    "Let's consider you collected even more data and this is the resulting relationship:"
   ]
  },
  {
   "cell_type": "code",
   "execution_count": 4,
   "metadata": {
    "_kg_hide-input": true,
    "execution": {
     "iopub.execute_input": "2023-05-25T13:54:42.563743Z",
     "iopub.status.busy": "2023-05-25T13:54:42.562275Z",
     "iopub.status.idle": "2023-05-25T13:54:42.752081Z",
     "shell.execute_reply": "2023-05-25T13:54:42.751359Z",
     "shell.execute_reply.started": "2023-05-25T12:24:05.416842Z"
    },
    "papermill": {
     "duration": 0.266194,
     "end_time": "2023-05-25T13:54:42.752222",
     "exception": false,
     "start_time": "2023-05-25T13:54:42.486028",
     "status": "completed"
    },
    "tags": []
   },
   "outputs": [
    {
     "data": {
      "image/png": "[encoded data removed]",
      "text/plain": [
       "<Figure size 432x288 with 1 Axes>"
      ]
     },
     "metadata": {
      "needs_background": "light"
     },
     "output_type": "display_data"
    }
   ],
   "source": [
    "years = [1, 3, 4, 8, 10, 11]\n",
    "salary = [8, 11, 9, 14, 14, 15]\n",
    "values = list(zip(years, salary))\n",
    "names = ['years', 'salary']\n",
    "df = pd.DataFrame(values, columns=names)\n",
    "df.plot.line('years', 'salary', color='black')\n",
    "plt.show()"
   ]
  },
  {
   "cell_type": "markdown",
   "metadata": {
    "papermill": {
     "duration": 0.06512,
     "end_time": "2023-05-25T13:54:42.884296",
     "exception": false,
     "start_time": "2023-05-25T13:54:42.819176",
     "status": "completed"
    },
    "tags": []
   },
   "source": [
    "The result is a **non-monotonic** function, since the *salary* at *years* = 4 is lower than the *salary* at *years* = 3, *and* lower than the *salary* at *years* = 8. \n",
    "\n",
    "* in reality, most relationships between your feature and the target will *not* be monotonic\n",
    "* we most likely will *not* achieve *perfectly* monotonic relationships using feature engineering \n",
    "* we should still model *as monotonic relationships as possible*\n",
    "* **metrics for monotony** can be used to compare the monotony of the original feature and our engineered features.\n",
    "* my naive metric for monotony counts all **monotony-violations** as seen in the last plot and it is calculated as $montony = 1 - \\frac{|\\text{monotony violations}|}{|\\text{samples}|}$\n"
   ]
  },
  {
   "cell_type": "code",
   "execution_count": 5,
   "metadata": {
    "execution": {
     "iopub.execute_input": "2023-05-25T13:54:43.031227Z",
     "iopub.status.busy": "2023-05-25T13:54:43.024923Z",
     "iopub.status.idle": "2023-05-25T13:54:43.036067Z",
     "shell.execute_reply": "2023-05-25T13:54:43.035254Z",
     "shell.execute_reply.started": "2023-05-25T12:25:38.997092Z"
    },
    "papermill": {
     "duration": 0.084521,
     "end_time": "2023-05-25T13:54:43.036222",
     "exception": false,
     "start_time": "2023-05-25T13:54:42.951701",
     "status": "completed"
    },
    "tags": []
   },
   "outputs": [],
   "source": [
    "import numpy as np\n",
    "from operator import lt, gt\n",
    "\n",
    "def count_monotony_violations(feat_targ: np.ndarray, comparison) -> int:\n",
    "    vio = 0\n",
    "    for i in np.arange(start=1, stop=len(feat_targ)):\n",
    "        if comparison(feat_targ[i-1, 1], feat_targ[i, 1]):\n",
    "            vio += 1\n",
    "    return vio\n",
    "\n",
    "def naive_monotony_score(feature: pd.Series, target: pd.Series) -> dict:\n",
    "    \"\"\"\n",
    "    A naive score for determing the \"amount of monotony\" \n",
    "    in the relationship between a feature and the target\n",
    "    \"\"\"\n",
    "    \n",
    "    # sort with first priority: feature, second priority: target\n",
    "    feat_targ = pd.concat([feature, target], axis=1)\n",
    "    feat_targ_sorted = df.sort_values([feature.name, target.name], ascending=[True, True]).values\n",
    "    \n",
    "    n = len(feat_targ_sorted)\n",
    "    inc_violations = count_monotony_violations(feat_targ=feat_targ_sorted, comparison=gt)\n",
    "    inc_score = 1 - inc_violations / n\n",
    "    \n",
    "    dec_violations = count_monotony_violations(feat_targ=feat_targ_sorted, comparison=lt)\n",
    "    dec_score = 1 - dec_violations / n\n",
    "\n",
    "    return {\"dec_violations\": dec_violations, \"dec_score\": dec_score, \"inc_violations\": inc_violations, \"inc_score\": inc_score}"
   ]
  },
  {
   "cell_type": "code",
   "execution_count": 6,
   "metadata": {
    "execution": {
     "iopub.execute_input": "2023-05-25T13:54:43.176215Z",
     "iopub.status.busy": "2023-05-25T13:54:43.175299Z",
     "iopub.status.idle": "2023-05-25T13:54:43.181777Z",
     "shell.execute_reply": "2023-05-25T13:54:43.180906Z",
     "shell.execute_reply.started": "2023-05-25T12:25:42.353849Z"
    },
    "papermill": {
     "duration": 0.08152,
     "end_time": "2023-05-25T13:54:43.181919",
     "exception": false,
     "start_time": "2023-05-25T13:54:43.100399",
     "status": "completed"
    },
    "tags": []
   },
   "outputs": [
    {
     "name": "stdout",
     "output_type": "stream",
     "text": [
      "{'dec_violations': 3, 'dec_score': 0.5, 'inc_violations': 1, 'inc_score': 0.8333333333333334}\n"
     ]
    }
   ],
   "source": [
    "print(naive_monotony_score(feature=df[\"years\"], target=df[\"salary\"]))"
   ]
  },
  {
   "cell_type": "markdown",
   "metadata": {
    "papermill": {
     "duration": 0.065526,
     "end_time": "2023-05-25T13:54:43.311441",
     "exception": false,
     "start_time": "2023-05-25T13:54:43.245915",
     "status": "completed"
    },
    "tags": []
   },
   "source": [
    "As we can see, the relation is an almost **monotonically increasing function**. However, this approach is pretty naive, since it makes too many assumptions about the data. These are some of the reasons, why simply checking for monotony this way might be **problematically**:\n",
    "\n",
    "* Feature values might be **non-unique** which rises multiple opportunities (E.g. should we use the mean/median target value in these cases?)\n",
    "* Functions might have many local minima and maxima, but they could still follow a monotonic trend when smoothed.\n",
    "\n",
    "We can use a conceptionally pretty similar indicator for approximate (linear) monotony, the so-called **Pearson Correlation Coefficient**."
   ]
  },
  {
   "cell_type": "markdown",
   "metadata": {
    "papermill": {
     "duration": 0.066427,
     "end_time": "2023-05-25T13:54:43.443687",
     "exception": false,
     "start_time": "2023-05-25T13:54:43.377260",
     "status": "completed"
    },
    "tags": []
   },
   "source": [
    "<a id=\"sec12\"></a>\n",
    "***\n",
    "<h1 style=\"background-color:DodgerBlue; color:white\" >-> 1.2. Pearson Correlation and Collinearity</h1>\n",
    "\n",
    "\n",
    "The Pearson Correlation Coefficient indicates the degree to which two variables have a linear relationship. A perfect linear relationship is by definition a [monotonic relationship](#sec11).\n",
    "\n",
    "\n",
    "Our goal is to reach:\n",
    "\n",
    "* as **strong correlations between every single feature and the target** as possible\n",
    "\n",
    "* as **weak correlations between multiple features** (**(multi) collinearity**) as possible."
   ]
  },
  {
   "cell_type": "markdown",
   "metadata": {
    "papermill": {
     "duration": 0.06428,
     "end_time": "2023-05-25T13:54:43.574445",
     "exception": false,
     "start_time": "2023-05-25T13:54:43.510165",
     "status": "completed"
    },
    "tags": []
   },
   "source": [
    "* (Pearson) correlation coefficient attains values between -1 and 1. \n",
    "\n",
    "* high *negative* correlation indicates a linear relationship with *negative* slope\n",
    "\n",
    "* high *positive* correlation indicates a linear relationship with a *positive* slope\n",
    "\n",
    "* the absolute value of the Pearson correlation coefficient tells us the \"amount of linearity\"\n",
    "\n",
    "* **low absolute correlation:** 0.3 to 0.5\n",
    "* **moderate absolute correlation:** 0.5 to 0.7\n",
    "* **high absolute correlation:** 0.7 to 0.9\n",
    "* **very high absolute correlation:** 0.9 to 0.1\n",
    "\n",
    "\n",
    "Take a look at the [this visualization](https://en.wikipedia.org/wiki/Pearson_correlation_coefficient#/media/File:Correlation_examples2.svg) of different pearson correlation values to get some feeling for the way positive and negative correlation works.\n",
    "\n"
   ]
  },
  {
   "cell_type": "markdown",
   "metadata": {
    "papermill": {
     "duration": 0.066174,
     "end_time": "2023-05-25T13:54:43.707247",
     "exception": false,
     "start_time": "2023-05-25T13:54:43.641073",
     "status": "completed"
    },
    "tags": []
   },
   "source": [
    "Let's take a look at an example for visualizing the (absolute) correlation coefficients of three variables, the *years* which an employee used to work in your company, his *motivation*, and his *salary*. The salary is the target variable. "
   ]
  },
  {
   "cell_type": "code",
   "execution_count": 7,
   "metadata": {
    "_kg_hide-input": true,
    "execution": {
     "iopub.execute_input": "2023-05-25T13:54:43.852245Z",
     "iopub.status.busy": "2023-05-25T13:54:43.851420Z",
     "iopub.status.idle": "2023-05-25T13:54:43.869360Z",
     "shell.execute_reply": "2023-05-25T13:54:43.868553Z",
     "shell.execute_reply.started": "2023-05-25T12:31:17.524584Z"
    },
    "papermill": {
     "duration": 0.095558,
     "end_time": "2023-05-25T13:54:43.869502",
     "exception": false,
     "start_time": "2023-05-25T13:54:43.773944",
     "status": "completed"
    },
    "tags": []
   },
   "outputs": [
    {
     "data": {
      "text/html": [
       "<div>\n",
       "<style scoped>\n",
       "    .dataframe tbody tr th:only-of-type {\n",
       "        vertical-align: middle;\n",
       "    }\n",
       "\n",
       "    .dataframe tbody tr th {\n",
       "        vertical-align: top;\n",
       "    }\n",
       "\n",
       "    .dataframe thead th {\n",
       "        text-align: right;\n",
       "    }\n",
       "</style>\n",
       "<table border=\"1\" class=\"dataframe\">\n",
       "  <thead>\n",
       "    <tr style=\"text-align: right;\">\n",
       "      <th></th>\n",
       "      <th>years</th>\n",
       "      <th>motivation</th>\n",
       "      <th>salary</th>\n",
       "    </tr>\n",
       "  </thead>\n",
       "  <tbody>\n",
       "    <tr>\n",
       "      <th>0</th>\n",
       "      <td>1</td>\n",
       "      <td>0.1</td>\n",
       "      <td>8</td>\n",
       "    </tr>\n",
       "    <tr>\n",
       "      <th>1</th>\n",
       "      <td>3</td>\n",
       "      <td>0.4</td>\n",
       "      <td>11</td>\n",
       "    </tr>\n",
       "    <tr>\n",
       "      <th>2</th>\n",
       "      <td>4</td>\n",
       "      <td>0.6</td>\n",
       "      <td>9</td>\n",
       "    </tr>\n",
       "    <tr>\n",
       "      <th>3</th>\n",
       "      <td>8</td>\n",
       "      <td>0.4</td>\n",
       "      <td>14</td>\n",
       "    </tr>\n",
       "    <tr>\n",
       "      <th>4</th>\n",
       "      <td>10</td>\n",
       "      <td>0.9</td>\n",
       "      <td>14</td>\n",
       "    </tr>\n",
       "    <tr>\n",
       "      <th>5</th>\n",
       "      <td>11</td>\n",
       "      <td>1.0</td>\n",
       "      <td>15</td>\n",
       "    </tr>\n",
       "  </tbody>\n",
       "</table>\n",
       "</div>"
      ],
      "text/plain": [
       "   years  motivation  salary\n",
       "0      1         0.1       8\n",
       "1      3         0.4      11\n",
       "2      4         0.6       9\n",
       "3      8         0.4      14\n",
       "4     10         0.9      14\n",
       "5     11         1.0      15"
      ]
     },
     "execution_count": 7,
     "metadata": {},
     "output_type": "execute_result"
    }
   ],
   "source": [
    "years = [1, 3, 4, 8, 10, 11]\n",
    "motivation = [0.1, 0.4, 0.6, 0.4, 0.9, 1]\n",
    "salary = [8, 11, 9, 14, 14, 15]\n",
    "values = list(zip(years, motivation, salary))\n",
    "names = ['years', 'motivation', 'salary']\n",
    "df = pd.DataFrame(values, columns=names)\n",
    "df"
   ]
  },
  {
   "cell_type": "code",
   "execution_count": 8,
   "metadata": {
    "_kg_hide-input": true,
    "execution": {
     "iopub.execute_input": "2023-05-25T13:54:44.013113Z",
     "iopub.status.busy": "2023-05-25T13:54:44.012237Z",
     "iopub.status.idle": "2023-05-25T13:54:45.400989Z",
     "shell.execute_reply": "2023-05-25T13:54:45.401725Z",
     "shell.execute_reply.started": "2023-05-25T12:31:35.631355Z"
    },
    "papermill": {
     "duration": 1.464038,
     "end_time": "2023-05-25T13:54:45.401923",
     "exception": false,
     "start_time": "2023-05-25T13:54:43.937885",
     "status": "completed"
    },
    "tags": []
   },
   "outputs": [
    {
     "data": {
      "image/png": "[encoded data removed]",
      "text/plain": [
       "<Figure size 432x288 with 2 Axes>"
      ]
     },
     "metadata": {
      "needs_background": "light"
     },
     "output_type": "display_data"
    }
   ],
   "source": [
    "import seaborn as sns\n",
    "\n",
    "ax = plt.axes()\n",
    "ax.set_title('Absolute Pearson correlation')\n",
    "sns.heatmap(np.abs(df.corr()), annot=True)\n",
    "plt.savefig('correlation')\n",
    "plt.show()"
   ]
  },
  {
   "cell_type": "markdown",
   "metadata": {
    "papermill": {
     "duration": 0.067633,
     "end_time": "2023-05-25T13:54:45.536851",
     "exception": false,
     "start_time": "2023-05-25T13:54:45.469218",
     "status": "completed"
    },
    "tags": []
   },
   "source": [
    "As we can see, both features (*years, motivation*) are highly correlated to the target (*salary*). Unfortunately, the features are highly correlated to each other as well. We could either try to merge these two features e.g. by using [PCA](https://en.wikipedia.org/wiki/Principal_component_analysis), or discard one feature from the dataset in order to **evade multicollinearity**.\n",
    "\n",
    "In this example we drop the multicollinear feature, which is less correlated to the target: "
   ]
  },
  {
   "cell_type": "code",
   "execution_count": 9,
   "metadata": {
    "_kg_hide-input": true,
    "execution": {
     "iopub.execute_input": "2023-05-25T13:54:45.680808Z",
     "iopub.status.busy": "2023-05-25T13:54:45.679990Z",
     "iopub.status.idle": "2023-05-25T13:54:46.010357Z",
     "shell.execute_reply": "2023-05-25T13:54:46.009500Z",
     "shell.execute_reply.started": "2023-05-25T12:32:21.755695Z"
    },
    "papermill": {
     "duration": 0.404682,
     "end_time": "2023-05-25T13:54:46.010545",
     "exception": false,
     "start_time": "2023-05-25T13:54:45.605863",
     "status": "completed"
    },
    "tags": []
   },
   "outputs": [
    {
     "data": {
      "image/png": "[encoded data removed]",
      "text/plain": [
       "<Figure size 432x288 with 2 Axes>"
      ]
     },
     "metadata": {
      "needs_background": "light"
     },
     "output_type": "display_data"
    }
   ],
   "source": [
    "df = df.drop('motivation', axis=1)\n",
    "ax = plt.axes()\n",
    "ax.set_title('Absolute Pearson correlation')\n",
    "sns.heatmap(np.abs(df.corr()), annot=True);"
   ]
  },
  {
   "cell_type": "markdown",
   "metadata": {
    "papermill": {
     "duration": 0.06872,
     "end_time": "2023-05-25T13:54:46.147473",
     "exception": false,
     "start_time": "2023-05-25T13:54:46.078753",
     "status": "completed"
    },
    "tags": []
   },
   "source": [
    "We end up having no multicollinearity, which might improve the performance of our machine learning model."
   ]
  },
  {
   "cell_type": "markdown",
   "metadata": {
    "papermill": {
     "duration": 0.068868,
     "end_time": "2023-05-25T13:54:46.284638",
     "exception": false,
     "start_time": "2023-05-25T13:54:46.215770",
     "status": "completed"
    },
    "tags": []
   },
   "source": [
    "<a href=\"#top\" class=\"btn btn-info btn-lg active\" role=\"button\" aria-pressed=\"true\" style=\"color:white\" data-toggle=\"popover\" title=\"go to Colors\">Go to Topics</a>"
   ]
  },
  {
   "cell_type": "markdown",
   "metadata": {
    "papermill": {
     "duration": 0.069093,
     "end_time": "2023-05-25T13:54:46.422308",
     "exception": false,
     "start_time": "2023-05-25T13:54:46.353215",
     "status": "completed"
    },
    "tags": []
   },
   "source": [
    "<a id=\"sec2\"></a>\n",
    "***\n",
    "<h1 style=\"background-color:DodgerBlue; color:white\" >-> 2. Univariate Transformations on Numerical Data </h1>\n",
    "\n",
    "\n",
    "Numerical features may...\n",
    "* follow a [long-tailed distribution](#tail) which dominates the underlying calculations in models\n",
    "* have a complex relationship with the target that can be simplified\n",
    "* be represented inefficiently, sometimes simply **normally distributed representations may already improve the performance**\n",
    "\n",
    "### One often wants data to be **normally distributed**, but why?\n",
    "* the distribution conven is defined by the mean and the variance\n",
    "* the normal distribution is [symmetric](#tail), which has some significant impact on the performance of many models \n",
    "* based on the [central limit theorem](https://sphweb.bumc.bu.edu/otlt/mph-modules/bs/bs704_probability/BS704_Probability12.html), many machine learning models [assume the feature values to be drawn from a normally distributed population](https://stackoverflow.com/questions/54071893/a-feature-distribution-is-nearly-normal-what-does-that-imply-for-my-ml-model)"
   ]
  },
  {
   "cell_type": "markdown",
   "metadata": {
    "papermill": {
     "duration": 0.066796,
     "end_time": "2023-05-25T13:54:46.555993",
     "exception": false,
     "start_time": "2023-05-25T13:54:46.489197",
     "status": "completed"
    },
    "tags": []
   },
   "source": [
    "<a id=\"sec21\"></a>\n",
    "***\n",
    "<h1 style=\"background-color:DodgerBlue; color:white\" >-> 2.1. Scaling, Centering, and Standardization </h1>\n",
    "\n",
    "When talking about this topic, people tend to mix the following terms:\n",
    "* [Centering](https://scikit-learn.org/stable/modules/generated/sklearn.preprocessing.StandardScaler.html) refers to subtracting the mean of a feature\n",
    "* [Standardization](https://scikit-learn.org/stable/modules/generated/sklearn.preprocessing.StandardScaler.html) refers to subtracting the mean of a feature and dividing it by its standard deviation\n",
    "* [Range Scaling](https://scikit-learn.org/stable/modules/generated/sklearn.preprocessing.MinMaxScaler.html) refers to using the Minimum and the Maximum value of a feature to rescale the data on a different scale (e.g. between 0 and 1)"
   ]
  },
  {
   "cell_type": "markdown",
   "metadata": {
    "papermill": {
     "duration": 0.070866,
     "end_time": "2023-05-25T13:54:46.693994",
     "exception": false,
     "start_time": "2023-05-25T13:54:46.623128",
     "status": "completed"
    },
    "tags": []
   },
   "source": [
    "<a id=\"sec211\"></a>\n",
    "## Centering and Standardization\n",
    "The transformed numerical feature will...\n",
    "* have a *mean* of $0$\n",
    "* have a standard deviation of $1$ \n",
    "\n",
    "Let's take a look at some data containing the age of some *pets* and whether they are *house trained* or not:"
   ]
  },
  {
   "cell_type": "code",
   "execution_count": 10,
   "metadata": {
    "_kg_hide-input": true,
    "execution": {
     "iopub.execute_input": "2023-05-25T13:54:46.849467Z",
     "iopub.status.busy": "2023-05-25T13:54:46.848267Z",
     "iopub.status.idle": "2023-05-25T13:54:46.854964Z",
     "shell.execute_reply": "2023-05-25T13:54:46.854155Z",
     "shell.execute_reply.started": "2023-05-25T12:40:30.361426Z"
    },
    "papermill": {
     "duration": 0.092968,
     "end_time": "2023-05-25T13:54:46.855114",
     "exception": false,
     "start_time": "2023-05-25T13:54:46.762146",
     "status": "completed"
    },
    "tags": []
   },
   "outputs": [
    {
     "data": {
      "text/html": [
       "<div>\n",
       "<style scoped>\n",
       "    .dataframe tbody tr th:only-of-type {\n",
       "        vertical-align: middle;\n",
       "    }\n",
       "\n",
       "    .dataframe tbody tr th {\n",
       "        vertical-align: top;\n",
       "    }\n",
       "\n",
       "    .dataframe thead th {\n",
       "        text-align: right;\n",
       "    }\n",
       "</style>\n",
       "<table border=\"1\" class=\"dataframe\">\n",
       "  <thead>\n",
       "    <tr style=\"text-align: right;\">\n",
       "      <th></th>\n",
       "      <th>age</th>\n",
       "      <th>house_trained</th>\n",
       "    </tr>\n",
       "  </thead>\n",
       "  <tbody>\n",
       "    <tr>\n",
       "      <th>0</th>\n",
       "      <td>3</td>\n",
       "      <td>1</td>\n",
       "    </tr>\n",
       "    <tr>\n",
       "      <th>1</th>\n",
       "      <td>4</td>\n",
       "      <td>1</td>\n",
       "    </tr>\n",
       "    <tr>\n",
       "      <th>2</th>\n",
       "      <td>2</td>\n",
       "      <td>0</td>\n",
       "    </tr>\n",
       "    <tr>\n",
       "      <th>3</th>\n",
       "      <td>7</td>\n",
       "      <td>1</td>\n",
       "    </tr>\n",
       "    <tr>\n",
       "      <th>4</th>\n",
       "      <td>8</td>\n",
       "      <td>0</td>\n",
       "    </tr>\n",
       "    <tr>\n",
       "      <th>5</th>\n",
       "      <td>104</td>\n",
       "      <td>0</td>\n",
       "    </tr>\n",
       "    <tr>\n",
       "      <th>6</th>\n",
       "      <td>5</td>\n",
       "      <td>1</td>\n",
       "    </tr>\n",
       "  </tbody>\n",
       "</table>\n",
       "</div>"
      ],
      "text/plain": [
       "   age  house_trained\n",
       "0    3              1\n",
       "1    4              1\n",
       "2    2              0\n",
       "3    7              1\n",
       "4    8              0\n",
       "5  104              0\n",
       "6    5              1"
      ]
     },
     "execution_count": 10,
     "metadata": {},
     "output_type": "execute_result"
    }
   ],
   "source": [
    "age = [3, 4, 2, 7, 8, 104,5]\n",
    "house_trained = [1, 1, 0, 1, 0, 0, 1]\n",
    "values = list(zip(age, house_trained))\n",
    "names = ['age', 'house_trained']\n",
    "df = pd.DataFrame(values, columns=names)\n",
    "df"
   ]
  },
  {
   "cell_type": "code",
   "execution_count": 11,
   "metadata": {
    "execution": {
     "iopub.execute_input": "2023-05-25T13:54:47.006908Z",
     "iopub.status.busy": "2023-05-25T13:54:47.006006Z",
     "iopub.status.idle": "2023-05-25T13:54:47.100579Z",
     "shell.execute_reply": "2023-05-25T13:54:47.101271Z",
     "shell.execute_reply.started": "2023-05-25T12:40:38.590858Z"
    },
    "papermill": {
     "duration": 0.174541,
     "end_time": "2023-05-25T13:54:47.101491",
     "exception": false,
     "start_time": "2023-05-25T13:54:46.926950",
     "status": "completed"
    },
    "tags": []
   },
   "outputs": [
    {
     "data": {
      "text/html": [
       "<div>\n",
       "<style scoped>\n",
       "    .dataframe tbody tr th:only-of-type {\n",
       "        vertical-align: middle;\n",
       "    }\n",
       "\n",
       "    .dataframe tbody tr th {\n",
       "        vertical-align: top;\n",
       "    }\n",
       "\n",
       "    .dataframe thead th {\n",
       "        text-align: right;\n",
       "    }\n",
       "</style>\n",
       "<table border=\"1\" class=\"dataframe\">\n",
       "  <thead>\n",
       "    <tr style=\"text-align: right;\">\n",
       "      <th></th>\n",
       "      <th>age</th>\n",
       "      <th>house_trained</th>\n",
       "      <th>centered</th>\n",
       "      <th>standardized</th>\n",
       "    </tr>\n",
       "  </thead>\n",
       "  <tbody>\n",
       "    <tr>\n",
       "      <th>0</th>\n",
       "      <td>3</td>\n",
       "      <td>1</td>\n",
       "      <td>-16.0</td>\n",
       "      <td>-0.460348</td>\n",
       "    </tr>\n",
       "    <tr>\n",
       "      <th>1</th>\n",
       "      <td>4</td>\n",
       "      <td>1</td>\n",
       "      <td>-15.0</td>\n",
       "      <td>-0.431577</td>\n",
       "    </tr>\n",
       "    <tr>\n",
       "      <th>2</th>\n",
       "      <td>2</td>\n",
       "      <td>0</td>\n",
       "      <td>-17.0</td>\n",
       "      <td>-0.489120</td>\n",
       "    </tr>\n",
       "    <tr>\n",
       "      <th>3</th>\n",
       "      <td>7</td>\n",
       "      <td>1</td>\n",
       "      <td>-12.0</td>\n",
       "      <td>-0.345261</td>\n",
       "    </tr>\n",
       "    <tr>\n",
       "      <th>4</th>\n",
       "      <td>8</td>\n",
       "      <td>0</td>\n",
       "      <td>-11.0</td>\n",
       "      <td>-0.316489</td>\n",
       "    </tr>\n",
       "    <tr>\n",
       "      <th>5</th>\n",
       "      <td>104</td>\n",
       "      <td>0</td>\n",
       "      <td>85.0</td>\n",
       "      <td>2.445600</td>\n",
       "    </tr>\n",
       "    <tr>\n",
       "      <th>6</th>\n",
       "      <td>5</td>\n",
       "      <td>1</td>\n",
       "      <td>-14.0</td>\n",
       "      <td>-0.402805</td>\n",
       "    </tr>\n",
       "  </tbody>\n",
       "</table>\n",
       "</div>"
      ],
      "text/plain": [
       "   age  house_trained  centered  standardized\n",
       "0    3              1     -16.0     -0.460348\n",
       "1    4              1     -15.0     -0.431577\n",
       "2    2              0     -17.0     -0.489120\n",
       "3    7              1     -12.0     -0.345261\n",
       "4    8              0     -11.0     -0.316489\n",
       "5  104              0      85.0      2.445600\n",
       "6    5              1     -14.0     -0.402805"
      ]
     },
     "execution_count": 11,
     "metadata": {},
     "output_type": "execute_result"
    }
   ],
   "source": [
    "from sklearn.preprocessing import StandardScaler\n",
    "\n",
    "# centering = subtract the mean\n",
    "center = StandardScaler(with_std=False)\n",
    "df['centered'] = center.fit_transform(df['age'].values.reshape((-1,1)))\n",
    "\n",
    "# standardization = divide a centered feature by its' std\n",
    "std = StandardScaler()\n",
    "df['standardized'] = std.fit_transform(df['age'].values.reshape((-1,1)))\n",
    "df"
   ]
  },
  {
   "cell_type": "markdown",
   "metadata": {
    "papermill": {
     "duration": 0.070634,
     "end_time": "2023-05-25T13:54:47.243788",
     "exception": false,
     "start_time": "2023-05-25T13:54:47.173154",
     "status": "completed"
    },
    "tags": []
   },
   "source": [
    "<a id=\"sec212\"></a>\n",
    "## Range Scaling\n",
    "The transformed numerical feature will...\n",
    "* have a similarly formed distribution as the original feature\n",
    "* still contain outliers\n",
    "* contain values between $0$ and $1$ by default, which enables further transformations like the [Logit Transformation](#sec24)\n",
    "* be especially beneficial for models, which assume the data to be on the same scale (distance-based methods like KNN), if applied to all numerical features"
   ]
  },
  {
   "cell_type": "code",
   "execution_count": 12,
   "metadata": {
    "execution": {
     "iopub.execute_input": "2023-05-25T13:54:47.407613Z",
     "iopub.status.busy": "2023-05-25T13:54:47.406784Z",
     "iopub.status.idle": "2023-05-25T13:54:47.412013Z",
     "shell.execute_reply": "2023-05-25T13:54:47.411352Z",
     "shell.execute_reply.started": "2023-05-25T12:41:45.212091Z"
    },
    "papermill": {
     "duration": 0.095484,
     "end_time": "2023-05-25T13:54:47.412171",
     "exception": false,
     "start_time": "2023-05-25T13:54:47.316687",
     "status": "completed"
    },
    "tags": []
   },
   "outputs": [
    {
     "data": {
      "text/html": [
       "<div>\n",
       "<style scoped>\n",
       "    .dataframe tbody tr th:only-of-type {\n",
       "        vertical-align: middle;\n",
       "    }\n",
       "\n",
       "    .dataframe tbody tr th {\n",
       "        vertical-align: top;\n",
       "    }\n",
       "\n",
       "    .dataframe thead th {\n",
       "        text-align: right;\n",
       "    }\n",
       "</style>\n",
       "<table border=\"1\" class=\"dataframe\">\n",
       "  <thead>\n",
       "    <tr style=\"text-align: right;\">\n",
       "      <th></th>\n",
       "      <th>age</th>\n",
       "      <th>house_trained</th>\n",
       "      <th>centered</th>\n",
       "      <th>standardized</th>\n",
       "      <th>minmax</th>\n",
       "    </tr>\n",
       "  </thead>\n",
       "  <tbody>\n",
       "    <tr>\n",
       "      <th>0</th>\n",
       "      <td>3</td>\n",
       "      <td>1</td>\n",
       "      <td>-16.0</td>\n",
       "      <td>-0.460348</td>\n",
       "      <td>-0.980392</td>\n",
       "    </tr>\n",
       "    <tr>\n",
       "      <th>1</th>\n",
       "      <td>4</td>\n",
       "      <td>1</td>\n",
       "      <td>-15.0</td>\n",
       "      <td>-0.431577</td>\n",
       "      <td>-0.960784</td>\n",
       "    </tr>\n",
       "    <tr>\n",
       "      <th>2</th>\n",
       "      <td>2</td>\n",
       "      <td>0</td>\n",
       "      <td>-17.0</td>\n",
       "      <td>-0.489120</td>\n",
       "      <td>-1.000000</td>\n",
       "    </tr>\n",
       "    <tr>\n",
       "      <th>3</th>\n",
       "      <td>7</td>\n",
       "      <td>1</td>\n",
       "      <td>-12.0</td>\n",
       "      <td>-0.345261</td>\n",
       "      <td>-0.901961</td>\n",
       "    </tr>\n",
       "    <tr>\n",
       "      <th>4</th>\n",
       "      <td>8</td>\n",
       "      <td>0</td>\n",
       "      <td>-11.0</td>\n",
       "      <td>-0.316489</td>\n",
       "      <td>-0.882353</td>\n",
       "    </tr>\n",
       "    <tr>\n",
       "      <th>5</th>\n",
       "      <td>104</td>\n",
       "      <td>0</td>\n",
       "      <td>85.0</td>\n",
       "      <td>2.445600</td>\n",
       "      <td>1.000000</td>\n",
       "    </tr>\n",
       "    <tr>\n",
       "      <th>6</th>\n",
       "      <td>5</td>\n",
       "      <td>1</td>\n",
       "      <td>-14.0</td>\n",
       "      <td>-0.402805</td>\n",
       "      <td>-0.941176</td>\n",
       "    </tr>\n",
       "  </tbody>\n",
       "</table>\n",
       "</div>"
      ],
      "text/plain": [
       "   age  house_trained  centered  standardized    minmax\n",
       "0    3              1     -16.0     -0.460348 -0.980392\n",
       "1    4              1     -15.0     -0.431577 -0.960784\n",
       "2    2              0     -17.0     -0.489120 -1.000000\n",
       "3    7              1     -12.0     -0.345261 -0.901961\n",
       "4    8              0     -11.0     -0.316489 -0.882353\n",
       "5  104              0      85.0      2.445600  1.000000\n",
       "6    5              1     -14.0     -0.402805 -0.941176"
      ]
     },
     "execution_count": 12,
     "metadata": {},
     "output_type": "execute_result"
    }
   ],
   "source": [
    "from sklearn.preprocessing import MinMaxScaler\n",
    "\n",
    "# self defined interval after transformation: [-1,1]\n",
    "scaler = MinMaxScaler(feature_range=(-1, 1)) \n",
    "df['minmax']  = scaler.fit_transform(df['age'].values.reshape((-1,1)))\n",
    "df"
   ]
  },
  {
   "cell_type": "markdown",
   "metadata": {
    "papermill": {
     "duration": 0.072946,
     "end_time": "2023-05-25T13:54:47.556197",
     "exception": false,
     "start_time": "2023-05-25T13:54:47.483251",
     "status": "completed"
    },
    "tags": []
   },
   "source": [
    "<a id=\"sec213\"></a>\n",
    "## Robust Scaling\n",
    "\n",
    "$\\Large\n",
    "     x_{transformed}=\\frac{x - median(x)}{q_{75}(x) - q_{25}(x)} \\text{ ,with } q_{n} \\text{ being the n-th quantile}\n",
    "$\n",
    "\n",
    "This transformation...\n",
    "* centers the feature using the **median** instead of the mean\n",
    "* **median centering** doesn't shift the feature as much into the negative direction of the outlier than **(mean) centering** (i.e. median centering is more robust to outliers)\n",
    "* **outliers will (most likely) stay outliers**\n",
    "* **doesn't ensure the features to be on the same scale**, because it is performed on every feature individually (so maybe a bad choice for distance based algorithms)"
   ]
  },
  {
   "cell_type": "code",
   "execution_count": 13,
   "metadata": {
    "execution": {
     "iopub.execute_input": "2023-05-25T13:54:47.706483Z",
     "iopub.status.busy": "2023-05-25T13:54:47.705472Z",
     "iopub.status.idle": "2023-05-25T13:54:47.746109Z",
     "shell.execute_reply": "2023-05-25T13:54:47.747406Z",
     "shell.execute_reply.started": "2023-05-25T12:42:52.711177Z"
    },
    "papermill": {
     "duration": 0.121743,
     "end_time": "2023-05-25T13:54:47.747625",
     "exception": false,
     "start_time": "2023-05-25T13:54:47.625882",
     "status": "completed"
    },
    "tags": []
   },
   "outputs": [
    {
     "data": {
      "text/html": [
       "<div>\n",
       "<style scoped>\n",
       "    .dataframe tbody tr th:only-of-type {\n",
       "        vertical-align: middle;\n",
       "    }\n",
       "\n",
       "    .dataframe tbody tr th {\n",
       "        vertical-align: top;\n",
       "    }\n",
       "\n",
       "    .dataframe thead th {\n",
       "        text-align: right;\n",
       "    }\n",
       "</style>\n",
       "<table border=\"1\" class=\"dataframe\">\n",
       "  <thead>\n",
       "    <tr style=\"text-align: right;\">\n",
       "      <th></th>\n",
       "      <th>age</th>\n",
       "      <th>house_trained</th>\n",
       "      <th>centered</th>\n",
       "      <th>standardized</th>\n",
       "      <th>minmax</th>\n",
       "      <th>median_centered</th>\n",
       "      <th>robust</th>\n",
       "    </tr>\n",
       "  </thead>\n",
       "  <tbody>\n",
       "    <tr>\n",
       "      <th>0</th>\n",
       "      <td>3</td>\n",
       "      <td>1</td>\n",
       "      <td>-16.0</td>\n",
       "      <td>-0.460348</td>\n",
       "      <td>-0.980392</td>\n",
       "      <td>-2.0</td>\n",
       "      <td>-0.50</td>\n",
       "    </tr>\n",
       "    <tr>\n",
       "      <th>1</th>\n",
       "      <td>4</td>\n",
       "      <td>1</td>\n",
       "      <td>-15.0</td>\n",
       "      <td>-0.431577</td>\n",
       "      <td>-0.960784</td>\n",
       "      <td>-1.0</td>\n",
       "      <td>-0.25</td>\n",
       "    </tr>\n",
       "    <tr>\n",
       "      <th>2</th>\n",
       "      <td>2</td>\n",
       "      <td>0</td>\n",
       "      <td>-17.0</td>\n",
       "      <td>-0.489120</td>\n",
       "      <td>-1.000000</td>\n",
       "      <td>-3.0</td>\n",
       "      <td>-0.75</td>\n",
       "    </tr>\n",
       "    <tr>\n",
       "      <th>3</th>\n",
       "      <td>7</td>\n",
       "      <td>1</td>\n",
       "      <td>-12.0</td>\n",
       "      <td>-0.345261</td>\n",
       "      <td>-0.901961</td>\n",
       "      <td>2.0</td>\n",
       "      <td>0.50</td>\n",
       "    </tr>\n",
       "    <tr>\n",
       "      <th>4</th>\n",
       "      <td>8</td>\n",
       "      <td>0</td>\n",
       "      <td>-11.0</td>\n",
       "      <td>-0.316489</td>\n",
       "      <td>-0.882353</td>\n",
       "      <td>3.0</td>\n",
       "      <td>0.75</td>\n",
       "    </tr>\n",
       "    <tr>\n",
       "      <th>5</th>\n",
       "      <td>104</td>\n",
       "      <td>0</td>\n",
       "      <td>85.0</td>\n",
       "      <td>2.445600</td>\n",
       "      <td>1.000000</td>\n",
       "      <td>99.0</td>\n",
       "      <td>24.75</td>\n",
       "    </tr>\n",
       "    <tr>\n",
       "      <th>6</th>\n",
       "      <td>5</td>\n",
       "      <td>1</td>\n",
       "      <td>-14.0</td>\n",
       "      <td>-0.402805</td>\n",
       "      <td>-0.941176</td>\n",
       "      <td>0.0</td>\n",
       "      <td>0.00</td>\n",
       "    </tr>\n",
       "  </tbody>\n",
       "</table>\n",
       "</div>"
      ],
      "text/plain": [
       "   age  house_trained  centered  standardized    minmax  median_centered  \\\n",
       "0    3              1     -16.0     -0.460348 -0.980392             -2.0   \n",
       "1    4              1     -15.0     -0.431577 -0.960784             -1.0   \n",
       "2    2              0     -17.0     -0.489120 -1.000000             -3.0   \n",
       "3    7              1     -12.0     -0.345261 -0.901961              2.0   \n",
       "4    8              0     -11.0     -0.316489 -0.882353              3.0   \n",
       "5  104              0      85.0      2.445600  1.000000             99.0   \n",
       "6    5              1     -14.0     -0.402805 -0.941176              0.0   \n",
       "\n",
       "   robust  \n",
       "0   -0.50  \n",
       "1   -0.25  \n",
       "2   -0.75  \n",
       "3    0.50  \n",
       "4    0.75  \n",
       "5   24.75  \n",
       "6    0.00  "
      ]
     },
     "execution_count": 13,
     "metadata": {},
     "output_type": "execute_result"
    }
   ],
   "source": [
    "from sklearn.preprocessing import RobustScaler\n",
    "\n",
    "# median centering by subtracting the median instead of the mean\n",
    "df['median_centered'] = df['age'] - np.median(df['age'].values.reshape((-1,1)))\n",
    "\n",
    "df['robust'] = RobustScaler().fit_transform(df['age'].values.reshape((-1,1)))\n",
    "df"
   ]
  },
  {
   "cell_type": "markdown",
   "metadata": {
    "papermill": {
     "duration": 0.071568,
     "end_time": "2023-05-25T13:54:47.893061",
     "exception": false,
     "start_time": "2023-05-25T13:54:47.821493",
     "status": "completed"
    },
    "tags": []
   },
   "source": [
    "<a id=\"sec22\"></a>\n",
    "<a id=\"log\"></a>\n",
    "***\n",
    "<h1 style=\"background-color:DodgerBlue; color:white\" >-> 2.2. Log Transformation </h1>\n",
    "\n",
    "$\\Large\n",
    "     x_{transformed}=ln(x)\n",
    "$\n",
    "* suitable for data which approximately follows a [log-normal distribution](https://en.wikipedia.org/wiki/Log-normal_distribution)\n",
    "* is a special case of the [Box-Cox Power Transformation](#box-cox)"
   ]
  },
  {
   "cell_type": "code",
   "execution_count": 14,
   "metadata": {
    "_kg_hide-input": true,
    "_kg_hide-output": false,
    "execution": {
     "iopub.execute_input": "2023-05-25T13:54:48.119201Z",
     "iopub.status.busy": "2023-05-25T13:54:48.118043Z",
     "iopub.status.idle": "2023-05-25T13:54:48.596281Z",
     "shell.execute_reply": "2023-05-25T13:54:48.595567Z",
     "shell.execute_reply.started": "2023-05-25T12:51:35.472230Z"
    },
    "papermill": {
     "duration": 0.551865,
     "end_time": "2023-05-25T13:54:48.596428",
     "exception": false,
     "start_time": "2023-05-25T13:54:48.044563",
     "status": "completed"
    },
    "tags": []
   },
   "outputs": [
    {
     "data": {
      "image/png": "[encoded data removed]",
      "text/plain": [
       "<Figure size 576x720 with 2 Axes>"
      ]
     },
     "metadata": {
      "needs_background": "light"
     },
     "output_type": "display_data"
    }
   ],
   "source": [
    "from scipy import stats\n",
    "\n",
    "fig, (ax1, ax2) = plt.subplots(nrows=2, ncols=1, figsize=(8, 10))\n",
    "\n",
    "skewness = stats.skew(chol)\n",
    "title = f'original, skewness = {round(skewness, 2)}'\n",
    "chol.plot(kind='hist', ax=ax1, color='red', alpha=0.5, title=title)\n",
    "chol_t = chol.apply(np.log)\n",
    "chol_t = pd.Series(chol_t)\n",
    "skewness_t = stats.skew(chol_t)\n",
    "title_t = f'transformed, skewness = {round(skewness_t, 2)}'\n",
    "chol_t.plot(kind='hist', ax=ax2, color='cyan', alpha=0.8, title=title_t)\n",
    "\n",
    "plt.tight_layout()\n",
    "plt.show()"
   ]
  },
  {
   "cell_type": "markdown",
   "metadata": {
    "papermill": {
     "duration": 0.073622,
     "end_time": "2023-05-25T13:54:48.741705",
     "exception": false,
     "start_time": "2023-05-25T13:54:48.668083",
     "status": "completed"
    },
    "tags": []
   },
   "source": [
    "<a id=\"sec23\"></a>\n",
    "<a id=\"box-cox\"></a>\n",
    "***\n",
    "<h1 style=\"background-color:DodgerBlue; color:white\" >-> 2.3. Box-Cox Power Transformation </h1>\n",
    "\n",
    "$\\Large\n",
    "     x_{transformed}=\\left\\{\\begin{array}{ll} \\frac{x^\\lambda -1}{\\lambda}, & \\lambda\\neq 0 \\\\\n",
    "         ln(x), & \\lambda = 0\\end{array}\\right. \n",
    "$\n",
    "  \n",
    "  \n",
    "  \n",
    "* transforms the feature into normal shape\n",
    "* the parameter $\\lambda$ might be set explicitly or might be estimated to obtain **as normally distributed data as possible**\n",
    "* different $\\lambda$ cover the Identity Transformation, the [Log Transformation](#log), the Square Root Transformation, the Inverse Transformation, and no-name transformations in between\n",
    "* requires the data to be positive\n",
    "* is a [variance stabilizing transformation](https://en.wikipedia.org/wiki/Variance-stabilizing_transformation) \n",
    "* the [scipy implementation](https://docs.scipy.org/doc/scipy/reference/generated/scipy.stats.boxcox.html) allows us to store the best lambda. We can apply a Box-Cox transformation with that lambda value when predicting outcomes for our test data/ validation data\n",
    "\n",
    "Another Power Transformation that might be interesting is the [Yeo Johnson transformation](https://www.stat.umn.edu/arc/yjpower.pdf). It allows the feature to contain negative values"
   ]
  },
  {
   "cell_type": "code",
   "execution_count": 15,
   "metadata": {
    "_kg_hide-input": true,
    "execution": {
     "iopub.execute_input": "2023-05-25T13:54:48.895885Z",
     "iopub.status.busy": "2023-05-25T13:54:48.894442Z",
     "iopub.status.idle": "2023-05-25T13:54:50.207059Z",
     "shell.execute_reply": "2023-05-25T13:54:50.206423Z",
     "shell.execute_reply.started": "2023-05-25T12:52:57.960872Z"
    },
    "papermill": {
     "duration": 1.39172,
     "end_time": "2023-05-25T13:54:50.207202",
     "exception": false,
     "start_time": "2023-05-25T13:54:48.815482",
     "status": "completed"
    },
    "tags": []
   },
   "outputs": [
    {
     "data": {
      "image/png": "[encoded data removed]",
      "text/plain": [
       "<Figure size 360x1440 with 4 Axes>"
      ]
     },
     "metadata": {
      "needs_background": "light"
     },
     "output_type": "display_data"
    }
   ],
   "source": [
    "from scipy import stats\n",
    "from statsmodels.graphics.gofplots import qqplot\n",
    "\n",
    "fig, (ax1, ax2, ax3, ax4) = plt.subplots(nrows=4, ncols=1, figsize=(5, 20))\n",
    "\n",
    "# original\n",
    "skewness = stats.skew(trestbps)\n",
    "title = f'original, skewness = {round(skewness, 2)}'\n",
    "trestbps.plot(kind='hist', ax=ax1, color='red', alpha=0.5, title=title)\n",
    "\n",
    "##qqplot\n",
    "qqplot(data=trestbps, dist=\"norm\", ax=ax2, line='s')\n",
    "\n",
    "# transformation\n",
    "trestbps_t, lmbda_best = stats.boxcox(trestbps)\n",
    "trestbps_t = pd.Series(trestbps_t)\n",
    "skewness_t = stats.skew(trestbps_t)\n",
    "title_t = f'transformed, skewness = {round(skewness_t, 2)}, lambda = {round(lmbda_best, 2)}'\n",
    "trestbps_t.plot(kind='hist', ax=ax3, color='cyan', alpha=0.8, title=title_t)\n",
    "\n",
    "##qqplot\n",
    "qqplot(data=trestbps_t, dist=\"norm\", ax=ax4, line='s')\n",
    "\n",
    "\n",
    "plt.tight_layout()\n",
    "plt.savefig('.png')\n",
    "plt.show()"
   ]
  },
  {
   "cell_type": "markdown",
   "metadata": {
    "papermill": {
     "duration": 0.073575,
     "end_time": "2023-05-25T13:54:50.355902",
     "exception": false,
     "start_time": "2023-05-25T13:54:50.282327",
     "status": "completed"
    },
    "tags": []
   },
   "source": [
    "As we can see in the [qqplots](qqplot), the data used to be [right skewed](#tail) and matches the normal distribution way better now.\n",
    "\n",
    "https://en.wikipedia.org/wiki/Power_transform\n",
    "\n",
    "https://docs.scipy.org/doc/scipy/reference/generated/scipy.stats.boxcox.html\n",
    "\n",
    "https://www.statisticshowto.com/box-cox-transformation/\n",
    "\n",
    "https://en.wikipedia.org/wiki/Variance-stabilizing_transformation"
   ]
  },
  {
   "cell_type": "markdown",
   "metadata": {
    "papermill": {
     "duration": 0.072224,
     "end_time": "2023-05-25T13:54:50.499825",
     "exception": false,
     "start_time": "2023-05-25T13:54:50.427601",
     "status": "completed"
    },
    "tags": []
   },
   "source": [
    "https://docs.scipy.org/doc/scipy-0.13.0/reference/generated/scipy.special.logit.html\n",
    "\n",
    "http://strata.uga.edu/8370/rtips/proportions.html\n",
    "\n",
    "https://www.statsdirect.com/help/data_preparation/transform_logit.htm"
   ]
  },
  {
   "cell_type": "markdown",
   "metadata": {
    "papermill": {
     "duration": 0.073112,
     "end_time": "2023-05-25T13:54:50.644502",
     "exception": false,
     "start_time": "2023-05-25T13:54:50.571390",
     "status": "completed"
    },
    "tags": []
   },
   "source": [
    "<a id=\"sec24\"></a>\n",
    "***\n",
    "<h1 style=\"background-color:DodgerBlue; color:white\" >-> 2.4. Binning with Decision Trees </h1>\n",
    "\n",
    "Binning transforms numerical features into categorical features. There are several approaches like taking Quantiles as bin limits, or any arbitrary numbers. For example if your job is to find out whether patients which are older than 60 have a higher chance to have a specific illness, it might be interesting to bin the numerical age feature using the intervals $(0, 60)$ and $[60,\\text{inf})$. One of the less self-explaining methods of binning is **Binning with Decision Trees:**\n",
    "* The bins will not necessarily contain equal numbers of cases but it instead checks for patterns in the data\n",
    "* Each predicted probability will form one category\n",
    "* Since Predictions are made in the leaf nodes, and multiple leaves could make the same predictions, we end up having as many categories as leaf nodes or fewer\n",
    "* Usually improves the **correlation with the target**, due to having a [monotonical relation with the target](https://www.statisticshowto.com/monotonic-relationship/)\n",
    "* handles outliers, since they are assigned to one of the bins"
   ]
  },
  {
   "cell_type": "code",
   "execution_count": 16,
   "metadata": {
    "execution": {
     "iopub.execute_input": "2023-05-25T13:54:50.795833Z",
     "iopub.status.busy": "2023-05-25T13:54:50.795019Z",
     "iopub.status.idle": "2023-05-25T13:54:51.205845Z",
     "shell.execute_reply": "2023-05-25T13:54:51.206489Z",
     "shell.execute_reply.started": "2023-05-25T12:57:38.317229Z"
    },
    "papermill": {
     "duration": 0.487898,
     "end_time": "2023-05-25T13:54:51.206688",
     "exception": false,
     "start_time": "2023-05-25T13:54:50.718790",
     "status": "completed"
    },
    "tags": []
   },
   "outputs": [],
   "source": [
    "df_heart_failure = pd.read_csv('/kaggle/input/heart-failure-clinical-data/heart_failure_clinical_records_dataset.csv')\n",
    "c_p = df_heart_failure['creatinine_phosphokinase']\n",
    "target_heart_failure = df_heart_failure['DEATH_EVENT']\n",
    "\n",
    "from sklearn.tree import DecisionTreeClassifier\n",
    "from sklearn.model_selection import GridSearchCV\n",
    "x = c_p.values.reshape(-1,1)\n",
    "\n",
    "hyperparameter = {'max_depth' : [1,2,4, 6, 8]}\n",
    "val = GridSearchCV(DecisionTreeClassifier(), \n",
    "                         hyperparameter, cv=5, \n",
    "                         scoring='roc_auc')\n",
    "\n",
    "val.fit(x, target_heart_failure)\n",
    "disc_tree = val.best_estimator_\n",
    "# do this on bith, train and test set:\n",
    "x_binned = pd.Series(disc_tree.predict_proba(x)[:,1], name='x_binned')"
   ]
  },
  {
   "cell_type": "markdown",
   "metadata": {
    "papermill": {
     "duration": 0.07302,
     "end_time": "2023-05-25T13:54:51.355128",
     "exception": false,
     "start_time": "2023-05-25T13:54:51.282108",
     "status": "completed"
    },
    "tags": []
   },
   "source": [
    "Let's take a look at the Resulting categories, the tree, and the correlation improvement."
   ]
  },
  {
   "cell_type": "code",
   "execution_count": 17,
   "metadata": {
    "_kg_hide-input": true,
    "execution": {
     "iopub.execute_input": "2023-05-25T13:54:51.513654Z",
     "iopub.status.busy": "2023-05-25T13:54:51.512599Z",
     "iopub.status.idle": "2023-05-25T13:54:51.717002Z",
     "shell.execute_reply": "2023-05-25T13:54:51.717655Z",
     "shell.execute_reply.started": "2023-05-25T12:58:27.126362Z"
    },
    "papermill": {
     "duration": 0.289272,
     "end_time": "2023-05-25T13:54:51.717844",
     "exception": false,
     "start_time": "2023-05-25T13:54:51.428572",
     "status": "completed"
    },
    "tags": []
   },
   "outputs": [
    {
     "data": {
      "image/png": "[encoded data removed]",
      "text/plain": [
       "<Figure size 432x288 with 1 Axes>"
      ]
     },
     "metadata": {
      "needs_background": "light"
     },
     "output_type": "display_data"
    }
   ],
   "source": [
    "x_binned.value_counts().plot.bar(title='resulting feature categories', alpha=0.5, xlabel=\"category\", ylabel=\"members\")\n",
    "plt.show()"
   ]
  },
  {
   "cell_type": "code",
   "execution_count": 18,
   "metadata": {
    "_kg_hide-input": true,
    "execution": {
     "iopub.execute_input": "2023-05-25T13:54:51.889459Z",
     "iopub.status.busy": "2023-05-25T13:54:51.888424Z",
     "iopub.status.idle": "2023-05-25T13:54:54.451983Z",
     "shell.execute_reply": "2023-05-25T13:54:54.452606Z",
     "shell.execute_reply.started": "2023-05-25T13:00:22.041221Z"
    },
    "papermill": {
     "duration": 2.659813,
     "end_time": "2023-05-25T13:54:54.452773",
     "exception": false,
     "start_time": "2023-05-25T13:54:51.792960",
     "status": "completed"
    },
    "tags": []
   },
   "outputs": [
    {
     "data": {
      "image/png": "[encoded data removed]",
      "text/plain": [
       "<Figure size 1296x1296 with 1 Axes>"
      ]
     },
     "metadata": {
      "needs_background": "light"
     },
     "output_type": "display_data"
    }
   ],
   "source": [
    "from sklearn.tree import export_graphviz\n",
    "import cv2\n",
    "\n",
    "export_graphviz(disc_tree, 'tree.dot', feature_names = ['c_p'])\n",
    "! dot -Tpng tree.dot -o tree.png\n",
    "img = cv2.imread('tree.png')\n",
    "plt.figure(figsize = (18, 18))\n",
    "plt.imshow(img)\n",
    "plt.axis('off')\n",
    "plt.show()"
   ]
  },
  {
   "cell_type": "code",
   "execution_count": 19,
   "metadata": {
    "_kg_hide-input": true,
    "execution": {
     "iopub.execute_input": "2023-05-25T13:54:54.623407Z",
     "iopub.status.busy": "2023-05-25T13:54:54.622569Z",
     "iopub.status.idle": "2023-05-25T13:54:54.631095Z",
     "shell.execute_reply": "2023-05-25T13:54:54.630309Z",
     "shell.execute_reply.started": "2023-05-25T13:02:26.687300Z"
    },
    "papermill": {
     "duration": 0.096781,
     "end_time": "2023-05-25T13:54:54.631229",
     "exception": false,
     "start_time": "2023-05-25T13:54:54.534448",
     "status": "completed"
    },
    "tags": []
   },
   "outputs": [
    {
     "name": "stdout",
     "output_type": "stream",
     "text": [
      "The Pearson Correaltion between the Target and the numerical feature: 0.06\n",
      "The Pearson Correaltion between the Target and the binned feature: 0.44\n"
     ]
    }
   ],
   "source": [
    "cor = np.corrcoef(target_heart_failure, x.flatten())[0][1]\n",
    "cor_transformed = np.corrcoef(target_heart_failure, x_binned)[0][1]\n",
    "print(f'The Pearson Correaltion between the Target and the numerical feature: {round(cor, 2)}')\n",
    "print(f'The Pearson Correaltion between the Target and the binned feature: {round(cor_transformed, 2)}')"
   ]
  },
  {
   "cell_type": "markdown",
   "metadata": {
    "papermill": {
     "duration": 0.082037,
     "end_time": "2023-05-25T13:54:54.794285",
     "exception": false,
     "start_time": "2023-05-25T13:54:54.712248",
     "status": "completed"
    },
    "tags": []
   },
   "source": [
    "Note: I didn't finetune any hyperparameters but in practice you should always do that.\n",
    "\n",
    "\n",
    "further sources: \n",
    "\n",
    "https://www.youtube.com/watch?v=vsKNxbP8R_8?t=1388\n",
    "\n",
    "https://towardsdatascience.com/discretisation-using-decision-trees-21910483fa4b\n",
    "\n"
   ]
  },
  {
   "cell_type": "markdown",
   "metadata": {
    "papermill": {
     "duration": 0.079327,
     "end_time": "2023-05-25T13:54:54.954878",
     "exception": false,
     "start_time": "2023-05-25T13:54:54.875551",
     "status": "completed"
    },
    "tags": []
   },
   "source": [
    "<a href=\"#top\" class=\"btn btn-info btn-lg active\" role=\"button\" aria-pressed=\"true\" style=\"color:white\" data-toggle=\"popover\" title=\"go to Colors\">Go to Topics</a>"
   ]
  },
  {
   "cell_type": "markdown",
   "metadata": {
    "papermill": {
     "duration": 0.079482,
     "end_time": "2023-05-25T13:54:55.118168",
     "exception": false,
     "start_time": "2023-05-25T13:54:55.038686",
     "status": "completed"
    },
    "tags": []
   },
   "source": [
    "<a id=\"sec3\"></a>\n",
    "***\n",
    "<h1 style=\"background-color:DodgerBlue; color:white\" >-> 3. Encode Categorical Data </h1>\n",
    "\n",
    "Categorical features contain discrete values or even strings. The number of unique values a categorical feature contains is called **cardinality**. \n",
    "\n",
    "We might have to use encoding methods to transform the categorical features into a suitable representation."
   ]
  },
  {
   "cell_type": "markdown",
   "metadata": {
    "papermill": {
     "duration": 0.078052,
     "end_time": "2023-05-25T13:54:55.275671",
     "exception": false,
     "start_time": "2023-05-25T13:54:55.197619",
     "status": "completed"
    },
    "tags": []
   },
   "source": [
    "<a id=\"sec31\"></a>\n",
    "***\n",
    "<h1 style=\"background-color:DodgerBlue; color:white\" >-> 3.1. Label Encoding </h1>\n",
    "\n",
    "Label Encoders are probably the most simple way to encode a categorical feature. The Resulting Encoding has the following properties:\n",
    "* encodes the feature into one column (so we don't struggle with having too many features)\n",
    "* consecutive integers, starting at 0. \n",
    "* problem: indicates **non-meaningful** numerical *hierarchies* and *distances* between the categories ($ 1 < 2$ and $1 = 0.5 \\cdot 2$)\n",
    "* some models like *Linear Regression* might assign more meaning to categories with very high or very low identifiers, because they assume *hierarchies* and *distances* to be encoded in the feature\n",
    "* in most cases, it  **violates** the **key idea** of forcing features to have a monotonic relationship with the target.\n",
    "\n",
    "\n",
    "Let's apply our encodings to some data about *pets*, the *houses* in which they live and whether they are *house trained* or not."
   ]
  },
  {
   "cell_type": "code",
   "execution_count": 20,
   "metadata": {
    "_kg_hide-input": true,
    "execution": {
     "iopub.execute_input": "2023-05-25T13:54:55.462795Z",
     "iopub.status.busy": "2023-05-25T13:54:55.461918Z",
     "iopub.status.idle": "2023-05-25T13:54:55.468199Z",
     "shell.execute_reply": "2023-05-25T13:54:55.467513Z",
     "shell.execute_reply.started": "2023-05-25T13:11:05.068756Z"
    },
    "papermill": {
     "duration": 0.109711,
     "end_time": "2023-05-25T13:54:55.468334",
     "exception": false,
     "start_time": "2023-05-25T13:54:55.358623",
     "status": "completed"
    },
    "tags": []
   },
   "outputs": [
    {
     "data": {
      "text/html": [
       "<div>\n",
       "<style scoped>\n",
       "    .dataframe tbody tr th:only-of-type {\n",
       "        vertical-align: middle;\n",
       "    }\n",
       "\n",
       "    .dataframe tbody tr th {\n",
       "        vertical-align: top;\n",
       "    }\n",
       "\n",
       "    .dataframe thead th {\n",
       "        text-align: right;\n",
       "    }\n",
       "</style>\n",
       "<table border=\"1\" class=\"dataframe\">\n",
       "  <thead>\n",
       "    <tr style=\"text-align: right;\">\n",
       "      <th></th>\n",
       "      <th>house_nr</th>\n",
       "      <th>pet</th>\n",
       "      <th>house_trained</th>\n",
       "    </tr>\n",
       "  </thead>\n",
       "  <tbody>\n",
       "    <tr>\n",
       "      <th>0</th>\n",
       "      <td>1</td>\n",
       "      <td>dog</td>\n",
       "      <td>1</td>\n",
       "    </tr>\n",
       "    <tr>\n",
       "      <th>1</th>\n",
       "      <td>3</td>\n",
       "      <td>cat</td>\n",
       "      <td>1</td>\n",
       "    </tr>\n",
       "    <tr>\n",
       "      <th>2</th>\n",
       "      <td>3</td>\n",
       "      <td>dog</td>\n",
       "      <td>0</td>\n",
       "    </tr>\n",
       "    <tr>\n",
       "      <th>3</th>\n",
       "      <td>2</td>\n",
       "      <td>dog</td>\n",
       "      <td>1</td>\n",
       "    </tr>\n",
       "    <tr>\n",
       "      <th>4</th>\n",
       "      <td>1</td>\n",
       "      <td>rabbit</td>\n",
       "      <td>0</td>\n",
       "    </tr>\n",
       "    <tr>\n",
       "      <th>5</th>\n",
       "      <td>1</td>\n",
       "      <td>mouse</td>\n",
       "      <td>1</td>\n",
       "    </tr>\n",
       "    <tr>\n",
       "      <th>6</th>\n",
       "      <td>3</td>\n",
       "      <td>cat</td>\n",
       "      <td>1</td>\n",
       "    </tr>\n",
       "    <tr>\n",
       "      <th>7</th>\n",
       "      <td>2</td>\n",
       "      <td>rabbit</td>\n",
       "      <td>1</td>\n",
       "    </tr>\n",
       "    <tr>\n",
       "      <th>8</th>\n",
       "      <td>2</td>\n",
       "      <td>dog</td>\n",
       "      <td>1</td>\n",
       "    </tr>\n",
       "    <tr>\n",
       "      <th>9</th>\n",
       "      <td>2</td>\n",
       "      <td>cat</td>\n",
       "      <td>0</td>\n",
       "    </tr>\n",
       "    <tr>\n",
       "      <th>10</th>\n",
       "      <td>1</td>\n",
       "      <td>rat</td>\n",
       "      <td>0</td>\n",
       "    </tr>\n",
       "    <tr>\n",
       "      <th>11</th>\n",
       "      <td>1</td>\n",
       "      <td>rat</td>\n",
       "      <td>1</td>\n",
       "    </tr>\n",
       "  </tbody>\n",
       "</table>\n",
       "</div>"
      ],
      "text/plain": [
       "    house_nr     pet  house_trained\n",
       "0          1     dog              1\n",
       "1          3     cat              1\n",
       "2          3     dog              0\n",
       "3          2     dog              1\n",
       "4          1  rabbit              0\n",
       "5          1   mouse              1\n",
       "6          3     cat              1\n",
       "7          2  rabbit              1\n",
       "8          2     dog              1\n",
       "9          2     cat              0\n",
       "10         1     rat              0\n",
       "11         1     rat              1"
      ]
     },
     "execution_count": 20,
     "metadata": {},
     "output_type": "execute_result"
    }
   ],
   "source": [
    "house_nr = [1, 3, 3, 2, 1, 1, 3, 2, 2, 2, 1, 1]\n",
    "pet = ['dog', 'cat', 'dog', 'dog', 'rabbit', 'mouse', 'cat', 'rabbit', 'dog', 'cat', 'rat', 'rat']\n",
    "house_trained = [1, 1, 0, 1, 0, 1, 1, 1, 1, 0, 0, 1]\n",
    "values = list(zip(house_nr, pet, house_trained))\n",
    "names = ['house_nr', 'pet', 'house_trained']\n",
    "df = pd.DataFrame(values, columns=names)\n",
    "df"
   ]
  },
  {
   "cell_type": "code",
   "execution_count": 21,
   "metadata": {
    "execution": {
     "iopub.execute_input": "2023-05-25T13:54:55.639203Z",
     "iopub.status.busy": "2023-05-25T13:54:55.638390Z",
     "iopub.status.idle": "2023-05-25T13:54:55.650276Z",
     "shell.execute_reply": "2023-05-25T13:54:55.651033Z",
     "shell.execute_reply.started": "2023-05-25T13:11:10.237026Z"
    },
    "papermill": {
     "duration": 0.1018,
     "end_time": "2023-05-25T13:54:55.651203",
     "exception": false,
     "start_time": "2023-05-25T13:54:55.549403",
     "status": "completed"
    },
    "tags": []
   },
   "outputs": [
    {
     "data": {
      "text/html": [
       "<div>\n",
       "<style scoped>\n",
       "    .dataframe tbody tr th:only-of-type {\n",
       "        vertical-align: middle;\n",
       "    }\n",
       "\n",
       "    .dataframe tbody tr th {\n",
       "        vertical-align: top;\n",
       "    }\n",
       "\n",
       "    .dataframe thead th {\n",
       "        text-align: right;\n",
       "    }\n",
       "</style>\n",
       "<table border=\"1\" class=\"dataframe\">\n",
       "  <thead>\n",
       "    <tr style=\"text-align: right;\">\n",
       "      <th></th>\n",
       "      <th>house_nr</th>\n",
       "      <th>pet</th>\n",
       "      <th>house_trained</th>\n",
       "    </tr>\n",
       "  </thead>\n",
       "  <tbody>\n",
       "    <tr>\n",
       "      <th>0</th>\n",
       "      <td>0</td>\n",
       "      <td>1</td>\n",
       "      <td>1</td>\n",
       "    </tr>\n",
       "    <tr>\n",
       "      <th>1</th>\n",
       "      <td>2</td>\n",
       "      <td>0</td>\n",
       "      <td>1</td>\n",
       "    </tr>\n",
       "    <tr>\n",
       "      <th>2</th>\n",
       "      <td>2</td>\n",
       "      <td>1</td>\n",
       "      <td>0</td>\n",
       "    </tr>\n",
       "    <tr>\n",
       "      <th>3</th>\n",
       "      <td>1</td>\n",
       "      <td>1</td>\n",
       "      <td>1</td>\n",
       "    </tr>\n",
       "    <tr>\n",
       "      <th>4</th>\n",
       "      <td>0</td>\n",
       "      <td>3</td>\n",
       "      <td>0</td>\n",
       "    </tr>\n",
       "    <tr>\n",
       "      <th>5</th>\n",
       "      <td>0</td>\n",
       "      <td>2</td>\n",
       "      <td>1</td>\n",
       "    </tr>\n",
       "    <tr>\n",
       "      <th>6</th>\n",
       "      <td>2</td>\n",
       "      <td>0</td>\n",
       "      <td>1</td>\n",
       "    </tr>\n",
       "    <tr>\n",
       "      <th>7</th>\n",
       "      <td>1</td>\n",
       "      <td>3</td>\n",
       "      <td>1</td>\n",
       "    </tr>\n",
       "    <tr>\n",
       "      <th>8</th>\n",
       "      <td>1</td>\n",
       "      <td>1</td>\n",
       "      <td>1</td>\n",
       "    </tr>\n",
       "    <tr>\n",
       "      <th>9</th>\n",
       "      <td>1</td>\n",
       "      <td>0</td>\n",
       "      <td>0</td>\n",
       "    </tr>\n",
       "    <tr>\n",
       "      <th>10</th>\n",
       "      <td>0</td>\n",
       "      <td>4</td>\n",
       "      <td>0</td>\n",
       "    </tr>\n",
       "    <tr>\n",
       "      <th>11</th>\n",
       "      <td>0</td>\n",
       "      <td>4</td>\n",
       "      <td>1</td>\n",
       "    </tr>\n",
       "  </tbody>\n",
       "</table>\n",
       "</div>"
      ],
      "text/plain": [
       "    house_nr  pet  house_trained\n",
       "0          0    1              1\n",
       "1          2    0              1\n",
       "2          2    1              0\n",
       "3          1    1              1\n",
       "4          0    3              0\n",
       "5          0    2              1\n",
       "6          2    0              1\n",
       "7          1    3              1\n",
       "8          1    1              1\n",
       "9          1    0              0\n",
       "10         0    4              0\n",
       "11         0    4              1"
      ]
     },
     "execution_count": 21,
     "metadata": {},
     "output_type": "execute_result"
    }
   ],
   "source": [
    "# import a label encoder from sklearn\n",
    "from sklearn.preprocessing import LabelEncoder\n",
    "le = LabelEncoder()\n",
    "\n",
    "df_label = df.copy()\n",
    "\n",
    "# fit -> create parameters for the encoding (which category will be encoded as which integer?)\n",
    "# transform -> encode the feature using the parameters\n",
    "# fit_transform -> performs both, fit and transform\n",
    "# fit_transform on training data, transform on test data\n",
    "df_label['pet'] = le.fit_transform(df_label['pet'])\n",
    "df_label['house_nr'] = le.fit_transform(df_label['house_nr'])\n",
    "df_label"
   ]
  },
  {
   "cell_type": "markdown",
   "metadata": {
    "papermill": {
     "duration": 0.081134,
     "end_time": "2023-05-25T13:54:55.813355",
     "exception": false,
     "start_time": "2023-05-25T13:54:55.732221",
     "status": "completed"
    },
    "tags": []
   },
   "source": [
    "As we can see, each *pet* has a new integer representation. Note that *house_nr* contains now values from a consecutive sequence of integers starting at 0.\n",
    "\n",
    "Let's focus on the feature *pet* and the target *house_trained*. The relationship between these features is not monotonic, as we can see in the following plot:"
   ]
  },
  {
   "cell_type": "code",
   "execution_count": 22,
   "metadata": {
    "execution": {
     "iopub.execute_input": "2023-05-25T13:54:55.982922Z",
     "iopub.status.busy": "2023-05-25T13:54:55.982128Z",
     "iopub.status.idle": "2023-05-25T13:54:56.364411Z",
     "shell.execute_reply": "2023-05-25T13:54:56.363632Z",
     "shell.execute_reply.started": "2023-05-25T13:11:39.411056Z"
    },
    "papermill": {
     "duration": 0.468242,
     "end_time": "2023-05-25T13:54:56.364586",
     "exception": false,
     "start_time": "2023-05-25T13:54:55.896344",
     "status": "completed"
    },
    "tags": []
   },
   "outputs": [
    {
     "data": {
      "image/png": "[encoded data removed]",
      "text/plain": [
       "<Figure size 432x288 with 1 Axes>"
      ]
     },
     "metadata": {
      "needs_background": "light"
     },
     "output_type": "display_data"
    }
   ],
   "source": [
    "grouped_by_pet = df_label.groupby('pet')['house_trained'].mean()\n",
    "\n",
    "plt.bar(x=grouped_by_pet.index, height=grouped_by_pet.values, alpha=0.5)\n",
    "grouped_by_pet.plot.line(color='black', label='non-monotonic function')\n",
    "plt.xlabel('encoded pet')\n",
    "plt.ylabel('chance of being house trained')\n",
    "plt.legend()\n",
    "plt.show()"
   ]
  },
  {
   "cell_type": "markdown",
   "metadata": {
    "papermill": {
     "duration": 0.082365,
     "end_time": "2023-05-25T13:54:56.529792",
     "exception": false,
     "start_time": "2023-05-25T13:54:56.447427",
     "status": "completed"
    },
    "tags": []
   },
   "source": [
    "As we can see, higher feature values don't necessarily relate to higher chances of having a higher target value, so we don't have a *monotonic relationship* with the target. \n",
    "We could simply define a custom Label Encoding, which enforces our encoding to choose *higher values* for categories, which lead to a *higher chance* of belonging to the *positive class*. \n",
    "You should consider using such an encoding method if you want to keep the number of features low."
   ]
  },
  {
   "cell_type": "markdown",
   "metadata": {
    "papermill": {
     "duration": 0.081465,
     "end_time": "2023-05-25T13:54:56.694506",
     "exception": false,
     "start_time": "2023-05-25T13:54:56.613041",
     "status": "completed"
    },
    "tags": []
   },
   "source": [
    "<a id=\"sec32\"></a>\n",
    "***\n",
    "<h1 style=\"background-color:DodgerBlue; color:white\" >-> 3.2. One-Hot Encoder </h1>\n",
    "\n",
    "The encoded feature will have the following properties:\n",
    "* Each *category* is stored in a separate, new column.\n",
    "* Each of these new columns contains solely zeroes and ones.\n",
    "* ones indicate, that the observation is of the respective category.\n",
    "* Each of these new columns has a *monotonic relationship with the target*.\n",
    "\n",
    "Nevertheless, there are still some downsides of using this method:\n",
    "* Huge drawback: multiple new columns, which might lead to a worse model due to the [Curse of Dimensionaility](https://en.wikipedia.org/wiki/Curse_of_dimensionality)\n",
    "* In many cases, it makes sense to merge very uncommon categories into one category called *' other'* in order to evade having many columns containing very few ones. For example, you could merge all categories together, which occur in less than 5% of your *observations*."
   ]
  },
  {
   "cell_type": "code",
   "execution_count": 23,
   "metadata": {
    "execution": {
     "iopub.execute_input": "2023-05-25T13:54:56.883911Z",
     "iopub.status.busy": "2023-05-25T13:54:56.876561Z",
     "iopub.status.idle": "2023-05-25T13:54:56.888784Z",
     "shell.execute_reply": "2023-05-25T13:54:56.888099Z",
     "shell.execute_reply.started": "2023-05-25T13:12:33.603856Z"
    },
    "papermill": {
     "duration": 0.111751,
     "end_time": "2023-05-25T13:54:56.888924",
     "exception": false,
     "start_time": "2023-05-25T13:54:56.777173",
     "status": "completed"
    },
    "tags": []
   },
   "outputs": [
    {
     "data": {
      "text/html": [
       "<div>\n",
       "<style scoped>\n",
       "    .dataframe tbody tr th:only-of-type {\n",
       "        vertical-align: middle;\n",
       "    }\n",
       "\n",
       "    .dataframe tbody tr th {\n",
       "        vertical-align: top;\n",
       "    }\n",
       "\n",
       "    .dataframe thead th {\n",
       "        text-align: right;\n",
       "    }\n",
       "</style>\n",
       "<table border=\"1\" class=\"dataframe\">\n",
       "  <thead>\n",
       "    <tr style=\"text-align: right;\">\n",
       "      <th></th>\n",
       "      <th>pet</th>\n",
       "      <th>house_trained</th>\n",
       "      <th>cat</th>\n",
       "      <th>dog</th>\n",
       "      <th>mouse</th>\n",
       "      <th>rabbit</th>\n",
       "      <th>rat</th>\n",
       "    </tr>\n",
       "  </thead>\n",
       "  <tbody>\n",
       "    <tr>\n",
       "      <th>0</th>\n",
       "      <td>dog</td>\n",
       "      <td>1</td>\n",
       "      <td>0</td>\n",
       "      <td>1</td>\n",
       "      <td>0</td>\n",
       "      <td>0</td>\n",
       "      <td>0</td>\n",
       "    </tr>\n",
       "    <tr>\n",
       "      <th>1</th>\n",
       "      <td>cat</td>\n",
       "      <td>1</td>\n",
       "      <td>1</td>\n",
       "      <td>0</td>\n",
       "      <td>0</td>\n",
       "      <td>0</td>\n",
       "      <td>0</td>\n",
       "    </tr>\n",
       "    <tr>\n",
       "      <th>2</th>\n",
       "      <td>dog</td>\n",
       "      <td>0</td>\n",
       "      <td>0</td>\n",
       "      <td>1</td>\n",
       "      <td>0</td>\n",
       "      <td>0</td>\n",
       "      <td>0</td>\n",
       "    </tr>\n",
       "    <tr>\n",
       "      <th>3</th>\n",
       "      <td>dog</td>\n",
       "      <td>1</td>\n",
       "      <td>0</td>\n",
       "      <td>1</td>\n",
       "      <td>0</td>\n",
       "      <td>0</td>\n",
       "      <td>0</td>\n",
       "    </tr>\n",
       "    <tr>\n",
       "      <th>4</th>\n",
       "      <td>rabbit</td>\n",
       "      <td>0</td>\n",
       "      <td>0</td>\n",
       "      <td>0</td>\n",
       "      <td>0</td>\n",
       "      <td>1</td>\n",
       "      <td>0</td>\n",
       "    </tr>\n",
       "    <tr>\n",
       "      <th>5</th>\n",
       "      <td>mouse</td>\n",
       "      <td>1</td>\n",
       "      <td>0</td>\n",
       "      <td>0</td>\n",
       "      <td>1</td>\n",
       "      <td>0</td>\n",
       "      <td>0</td>\n",
       "    </tr>\n",
       "    <tr>\n",
       "      <th>6</th>\n",
       "      <td>cat</td>\n",
       "      <td>1</td>\n",
       "      <td>1</td>\n",
       "      <td>0</td>\n",
       "      <td>0</td>\n",
       "      <td>0</td>\n",
       "      <td>0</td>\n",
       "    </tr>\n",
       "    <tr>\n",
       "      <th>7</th>\n",
       "      <td>rabbit</td>\n",
       "      <td>1</td>\n",
       "      <td>0</td>\n",
       "      <td>0</td>\n",
       "      <td>0</td>\n",
       "      <td>1</td>\n",
       "      <td>0</td>\n",
       "    </tr>\n",
       "    <tr>\n",
       "      <th>8</th>\n",
       "      <td>dog</td>\n",
       "      <td>1</td>\n",
       "      <td>0</td>\n",
       "      <td>1</td>\n",
       "      <td>0</td>\n",
       "      <td>0</td>\n",
       "      <td>0</td>\n",
       "    </tr>\n",
       "    <tr>\n",
       "      <th>9</th>\n",
       "      <td>cat</td>\n",
       "      <td>0</td>\n",
       "      <td>1</td>\n",
       "      <td>0</td>\n",
       "      <td>0</td>\n",
       "      <td>0</td>\n",
       "      <td>0</td>\n",
       "    </tr>\n",
       "    <tr>\n",
       "      <th>10</th>\n",
       "      <td>rat</td>\n",
       "      <td>0</td>\n",
       "      <td>0</td>\n",
       "      <td>0</td>\n",
       "      <td>0</td>\n",
       "      <td>0</td>\n",
       "      <td>1</td>\n",
       "    </tr>\n",
       "    <tr>\n",
       "      <th>11</th>\n",
       "      <td>rat</td>\n",
       "      <td>1</td>\n",
       "      <td>0</td>\n",
       "      <td>0</td>\n",
       "      <td>0</td>\n",
       "      <td>0</td>\n",
       "      <td>1</td>\n",
       "    </tr>\n",
       "  </tbody>\n",
       "</table>\n",
       "</div>"
      ],
      "text/plain": [
       "       pet  house_trained  cat  dog  mouse  rabbit  rat\n",
       "0      dog              1    0    1      0       0    0\n",
       "1      cat              1    1    0      0       0    0\n",
       "2      dog              0    0    1      0       0    0\n",
       "3      dog              1    0    1      0       0    0\n",
       "4   rabbit              0    0    0      0       1    0\n",
       "5    mouse              1    0    0      1       0    0\n",
       "6      cat              1    1    0      0       0    0\n",
       "7   rabbit              1    0    0      0       1    0\n",
       "8      dog              1    0    1      0       0    0\n",
       "9      cat              0    1    0      0       0    0\n",
       "10     rat              0    0    0      0       0    1\n",
       "11     rat              1    0    0      0       0    1"
      ]
     },
     "execution_count": 23,
     "metadata": {},
     "output_type": "execute_result"
    }
   ],
   "source": [
    "# import a one-hot encoder from sklearn\n",
    "from sklearn.preprocessing import OneHotEncoder\n",
    "enc = OneHotEncoder()\n",
    "\n",
    "# we will focus on the feature 'pet'\n",
    "df_oh = df.copy().drop(['house_nr'], axis=1)\n",
    "\n",
    "# creates the new features\n",
    "dummies = pd.get_dummies(df_oh['pet'])\n",
    "\n",
    "# adds the new features to our dataframe\n",
    "df_oh = pd.concat([df_oh, dummies], axis=1)\n",
    "df_oh"
   ]
  },
  {
   "cell_type": "markdown",
   "metadata": {
    "papermill": {
     "duration": 0.083545,
     "end_time": "2023-05-25T13:54:57.055713",
     "exception": false,
     "start_time": "2023-05-25T13:54:56.972168",
     "status": "completed"
    },
    "tags": []
   },
   "source": [
    "As you can see, each row contains just a single $1$ within the new columns, since each case still belongs solely to one of the categories. \n",
    "\n",
    "Moreover, the common machine learning models can handle this representation of the feature very well, since a category will be either recognized to be absent or not. Last but not least, every new column has either a positive or a negative *monotonic and linear* relationship with the target (for obvious reasons, since there are only two discrete values per column).\n",
    "\n",
    "Let's for example take a look at the relationship between the column *rabbit* and the target:"
   ]
  },
  {
   "cell_type": "code",
   "execution_count": 24,
   "metadata": {
    "execution": {
     "iopub.execute_input": "2023-05-25T13:54:57.229584Z",
     "iopub.status.busy": "2023-05-25T13:54:57.228741Z",
     "iopub.status.idle": "2023-05-25T13:54:57.403251Z",
     "shell.execute_reply": "2023-05-25T13:54:57.402518Z",
     "shell.execute_reply.started": "2023-05-25T13:14:07.148867Z"
    },
    "papermill": {
     "duration": 0.264436,
     "end_time": "2023-05-25T13:54:57.403381",
     "exception": false,
     "start_time": "2023-05-25T13:54:57.138945",
     "status": "completed"
    },
    "tags": []
   },
   "outputs": [
    {
     "data": {
      "image/png": "[encoded data removed]",
      "text/plain": [
       "<Figure size 432x288 with 1 Axes>"
      ]
     },
     "metadata": {
      "needs_background": "light"
     },
     "output_type": "display_data"
    }
   ],
   "source": [
    "grouped_by_rabbit = df_oh.groupby('rabbit')['house_trained'].mean()\n",
    "\n",
    "#fig, ax1 = plt.subplots(nrows=1, ncols=1, figsize=(11,7))\n",
    "plt.bar(x=grouped_by_rabbit.index, height=grouped_by_rabbit.values, alpha=0.5)\n",
    "grouped_by_rabbit.plot.line(color='black', label='monotonic function')\n",
    "plt.ylabel('chance of being house trained')\n",
    "plt.xticks([0, 1], ['is a rabbit', 'is not a rabbit'])\n",
    "plt.legend()\n",
    "plt.show()"
   ]
  },
  {
   "cell_type": "markdown",
   "metadata": {
    "papermill": {
     "duration": 0.085509,
     "end_time": "2023-05-25T13:54:57.573190",
     "exception": false,
     "start_time": "2023-05-25T13:54:57.487681",
     "status": "completed"
    },
    "tags": []
   },
   "source": [
    "As you can see, being a rabbit provides a higher chance of being house trained than not being a rabbit. This relationship is easily interpreted by the model. In a regression task, binary columns like this could indicate either higher or lower target values."
   ]
  },
  {
   "cell_type": "markdown",
   "metadata": {
    "papermill": {
     "duration": 0.082202,
     "end_time": "2023-05-25T13:54:57.741042",
     "exception": false,
     "start_time": "2023-05-25T13:54:57.658840",
     "status": "completed"
    },
    "tags": []
   },
   "source": [
    "<a id=\"sec33\"></a>\n",
    "***\n",
    "<h1 style=\"background-color:DodgerBlue; color:white\" >-> 3.3. Target-Mean Encoding </h1>\n",
    "\n",
    "$\\Large\n",
    "     x_{transformed}=\\frac{|y=1_{X=x}|}{|X=x|} \n",
    "$\n",
    "\n",
    "This encoding method for classification problems with **binary targets** (i.e. two classes) is an elaborate alternative to the commonly used ones.\n",
    "\n",
    "* **Encoding:**  $\n",
    "    \\frac{\\text{observations of the  positive class with the respective feature value}}{\\text{observations with the respective feature value}}\n",
    "$\n",
    "* Provides a monotonic relationship between the feature and the target\n",
    "* Encodes the feature within **one column** and thus doesn't lead to huge amounts of new columns in contrast to [One-Hot Encoding](#sec31)\n",
    "* Might decrease the [cardinality](#sec3) of the categorical feature (e.g. 2 values might be encoded as 0.5 and thus would merge into one category)\n",
    "* **Alternative for non-binary classification tasks:** create one Target-Mean encoded column for each target value and treat the respective target value as positive, and all other target values as negative"
   ]
  },
  {
   "cell_type": "markdown",
   "metadata": {
    "papermill": {
     "duration": 0.085211,
     "end_time": "2023-05-25T13:54:57.911631",
     "exception": false,
     "start_time": "2023-05-25T13:54:57.826420",
     "status": "completed"
    },
    "tags": []
   },
   "source": [
    "Assume we have a dataset containing several pets from your friends and whether they are house trained or not. We want to Target-Mean Encode the categorical feature *pet* with respect to the target *house_trained*."
   ]
  },
  {
   "cell_type": "code",
   "execution_count": 25,
   "metadata": {
    "execution": {
     "iopub.execute_input": "2023-05-25T13:54:58.090914Z",
     "iopub.status.busy": "2023-05-25T13:54:58.090091Z",
     "iopub.status.idle": "2023-05-25T13:54:58.102621Z",
     "shell.execute_reply": "2023-05-25T13:54:58.101786Z",
     "shell.execute_reply.started": "2023-05-25T13:17:33.352143Z"
    },
    "papermill": {
     "duration": 0.107578,
     "end_time": "2023-05-25T13:54:58.102760",
     "exception": false,
     "start_time": "2023-05-25T13:54:57.995182",
     "status": "completed"
    },
    "tags": []
   },
   "outputs": [
    {
     "data": {
      "text/html": [
       "<div>\n",
       "<style scoped>\n",
       "    .dataframe tbody tr th:only-of-type {\n",
       "        vertical-align: middle;\n",
       "    }\n",
       "\n",
       "    .dataframe tbody tr th {\n",
       "        vertical-align: top;\n",
       "    }\n",
       "\n",
       "    .dataframe thead th {\n",
       "        text-align: right;\n",
       "    }\n",
       "</style>\n",
       "<table border=\"1\" class=\"dataframe\">\n",
       "  <thead>\n",
       "    <tr style=\"text-align: right;\">\n",
       "      <th></th>\n",
       "      <th>pet</th>\n",
       "      <th>house_trained</th>\n",
       "    </tr>\n",
       "  </thead>\n",
       "  <tbody>\n",
       "    <tr>\n",
       "      <th>0</th>\n",
       "      <td>dog</td>\n",
       "      <td>1</td>\n",
       "    </tr>\n",
       "    <tr>\n",
       "      <th>1</th>\n",
       "      <td>cat</td>\n",
       "      <td>1</td>\n",
       "    </tr>\n",
       "    <tr>\n",
       "      <th>2</th>\n",
       "      <td>dog</td>\n",
       "      <td>0</td>\n",
       "    </tr>\n",
       "    <tr>\n",
       "      <th>3</th>\n",
       "      <td>dog</td>\n",
       "      <td>1</td>\n",
       "    </tr>\n",
       "    <tr>\n",
       "      <th>4</th>\n",
       "      <td>rabbit</td>\n",
       "      <td>0</td>\n",
       "    </tr>\n",
       "    <tr>\n",
       "      <th>5</th>\n",
       "      <td>mouse</td>\n",
       "      <td>1</td>\n",
       "    </tr>\n",
       "    <tr>\n",
       "      <th>6</th>\n",
       "      <td>cat</td>\n",
       "      <td>1</td>\n",
       "    </tr>\n",
       "    <tr>\n",
       "      <th>7</th>\n",
       "      <td>rabbit</td>\n",
       "      <td>1</td>\n",
       "    </tr>\n",
       "    <tr>\n",
       "      <th>8</th>\n",
       "      <td>dog</td>\n",
       "      <td>1</td>\n",
       "    </tr>\n",
       "    <tr>\n",
       "      <th>9</th>\n",
       "      <td>cat</td>\n",
       "      <td>0</td>\n",
       "    </tr>\n",
       "    <tr>\n",
       "      <th>10</th>\n",
       "      <td>rat</td>\n",
       "      <td>0</td>\n",
       "    </tr>\n",
       "    <tr>\n",
       "      <th>11</th>\n",
       "      <td>rat</td>\n",
       "      <td>1</td>\n",
       "    </tr>\n",
       "  </tbody>\n",
       "</table>\n",
       "</div>"
      ],
      "text/plain": [
       "       pet  house_trained\n",
       "0      dog              1\n",
       "1      cat              1\n",
       "2      dog              0\n",
       "3      dog              1\n",
       "4   rabbit              0\n",
       "5    mouse              1\n",
       "6      cat              1\n",
       "7   rabbit              1\n",
       "8      dog              1\n",
       "9      cat              0\n",
       "10     rat              0\n",
       "11     rat              1"
      ]
     },
     "execution_count": 25,
     "metadata": {},
     "output_type": "execute_result"
    }
   ],
   "source": [
    "pet = ['dog', 'cat', 'dog', 'dog', 'rabbit', 'mouse', 'cat', 'rabbit', 'dog', 'cat', 'rat', 'rat']\n",
    "house_trained = [1, 1, 0, 1, 0, 1, 1, 1, 1, 0, 0, 1]\n",
    "values = list(zip(pet, house_trained))\n",
    "names = ['pet', 'house_trained']\n",
    "df = pd.DataFrame(values, columns=names)\n",
    "df"
   ]
  },
  {
   "cell_type": "code",
   "execution_count": 26,
   "metadata": {
    "execution": {
     "iopub.execute_input": "2023-05-25T13:54:58.278646Z",
     "iopub.status.busy": "2023-05-25T13:54:58.277818Z",
     "iopub.status.idle": "2023-05-25T13:54:58.306322Z",
     "shell.execute_reply": "2023-05-25T13:54:58.305685Z",
     "shell.execute_reply.started": "2023-05-25T13:17:40.056569Z"
    },
    "papermill": {
     "duration": 0.119713,
     "end_time": "2023-05-25T13:54:58.306504",
     "exception": false,
     "start_time": "2023-05-25T13:54:58.186791",
     "status": "completed"
    },
    "tags": []
   },
   "outputs": [
    {
     "data": {
      "text/html": [
       "<div>\n",
       "<style scoped>\n",
       "    .dataframe tbody tr th:only-of-type {\n",
       "        vertical-align: middle;\n",
       "    }\n",
       "\n",
       "    .dataframe tbody tr th {\n",
       "        vertical-align: top;\n",
       "    }\n",
       "\n",
       "    .dataframe thead th {\n",
       "        text-align: right;\n",
       "    }\n",
       "</style>\n",
       "<table border=\"1\" class=\"dataframe\">\n",
       "  <thead>\n",
       "    <tr style=\"text-align: right;\">\n",
       "      <th></th>\n",
       "      <th>pet</th>\n",
       "      <th>house_trained</th>\n",
       "      <th>pet_encoded</th>\n",
       "    </tr>\n",
       "  </thead>\n",
       "  <tbody>\n",
       "    <tr>\n",
       "      <th>0</th>\n",
       "      <td>dog</td>\n",
       "      <td>1</td>\n",
       "      <td>0.750000</td>\n",
       "    </tr>\n",
       "    <tr>\n",
       "      <th>1</th>\n",
       "      <td>cat</td>\n",
       "      <td>1</td>\n",
       "      <td>0.666667</td>\n",
       "    </tr>\n",
       "    <tr>\n",
       "      <th>2</th>\n",
       "      <td>dog</td>\n",
       "      <td>0</td>\n",
       "      <td>0.750000</td>\n",
       "    </tr>\n",
       "    <tr>\n",
       "      <th>3</th>\n",
       "      <td>dog</td>\n",
       "      <td>1</td>\n",
       "      <td>0.750000</td>\n",
       "    </tr>\n",
       "    <tr>\n",
       "      <th>4</th>\n",
       "      <td>rabbit</td>\n",
       "      <td>0</td>\n",
       "      <td>0.500000</td>\n",
       "    </tr>\n",
       "    <tr>\n",
       "      <th>5</th>\n",
       "      <td>mouse</td>\n",
       "      <td>1</td>\n",
       "      <td>1.000000</td>\n",
       "    </tr>\n",
       "    <tr>\n",
       "      <th>6</th>\n",
       "      <td>cat</td>\n",
       "      <td>1</td>\n",
       "      <td>0.666667</td>\n",
       "    </tr>\n",
       "    <tr>\n",
       "      <th>7</th>\n",
       "      <td>rabbit</td>\n",
       "      <td>1</td>\n",
       "      <td>0.500000</td>\n",
       "    </tr>\n",
       "    <tr>\n",
       "      <th>8</th>\n",
       "      <td>dog</td>\n",
       "      <td>1</td>\n",
       "      <td>0.750000</td>\n",
       "    </tr>\n",
       "    <tr>\n",
       "      <th>9</th>\n",
       "      <td>cat</td>\n",
       "      <td>0</td>\n",
       "      <td>0.666667</td>\n",
       "    </tr>\n",
       "    <tr>\n",
       "      <th>10</th>\n",
       "      <td>rat</td>\n",
       "      <td>0</td>\n",
       "      <td>0.500000</td>\n",
       "    </tr>\n",
       "    <tr>\n",
       "      <th>11</th>\n",
       "      <td>rat</td>\n",
       "      <td>1</td>\n",
       "      <td>0.500000</td>\n",
       "    </tr>\n",
       "  </tbody>\n",
       "</table>\n",
       "</div>"
      ],
      "text/plain": [
       "       pet  house_trained  pet_encoded\n",
       "0      dog              1     0.750000\n",
       "1      cat              1     0.666667\n",
       "2      dog              0     0.750000\n",
       "3      dog              1     0.750000\n",
       "4   rabbit              0     0.500000\n",
       "5    mouse              1     1.000000\n",
       "6      cat              1     0.666667\n",
       "7   rabbit              1     0.500000\n",
       "8      dog              1     0.750000\n",
       "9      cat              0     0.666667\n",
       "10     rat              0     0.500000\n",
       "11     rat              1     0.500000"
      ]
     },
     "execution_count": 26,
     "metadata": {},
     "output_type": "execute_result"
    }
   ],
   "source": [
    "def target_mean_encode(feature, target):\n",
    "    encoded = feature\n",
    "    for val in feature.unique():\n",
    "        ser_pure = feature[feature==val]\n",
    "        target_pure = target[ser_pure.index].sum()\n",
    "        encoded = encoded.replace(val, target_pure/len(ser_pure))\n",
    "    return encoded\n",
    "\n",
    "\n",
    "pet_encoded = target_mean_encode(feature=df['pet'], target=df['house_trained'])\n",
    "df_with_encoding = pd.concat([df, pet_encoded.rename('pet_encoded')], axis=1)\n",
    "df_with_encoding"
   ]
  },
  {
   "cell_type": "markdown",
   "metadata": {
    "papermill": {
     "duration": 0.08627,
     "end_time": "2023-05-25T13:54:58.480721",
     "exception": false,
     "start_time": "2023-05-25T13:54:58.394451",
     "status": "completed"
    },
    "tags": []
   },
   "source": [
    "As we can see, rats and rabbits end up having the same encoding. Thus, the encoding has a *cardinality* of 4, whereas the original feature had a *cardinality* of 5."
   ]
  },
  {
   "cell_type": "markdown",
   "metadata": {
    "papermill": {
     "duration": 0.08522,
     "end_time": "2023-05-25T13:54:58.650967",
     "exception": false,
     "start_time": "2023-05-25T13:54:58.565747",
     "status": "completed"
    },
    "tags": []
   },
   "source": [
    "<a href=\"#top\" class=\"btn btn-info btn-lg active\" role=\"button\" aria-pressed=\"true\" style=\"color:white\" data-toggle=\"popover\" title=\"go to Colors\">Go to Topics</a>"
   ]
  },
  {
   "cell_type": "markdown",
   "metadata": {
    "papermill": {
     "duration": 0.085287,
     "end_time": "2023-05-25T13:54:58.825056",
     "exception": false,
     "start_time": "2023-05-25T13:54:58.739769",
     "status": "completed"
    },
    "tags": []
   },
   "source": [
    "<a id=\"sec-2\"></a>\n",
    "***\n",
    "\n",
    "<h1 style=\"background-color:DodgerBlue; color:white\" >-> 4. Combine Features </h1>\n",
    "\n",
    "Many machine learning algorithms utilize feature interactions and combinations implicitly. However, experience has shown that it still might be a good idea to combine features manually, because we can't rely on our model 'doing all the work'.\n",
    "\n",
    "\n",
    "Finding and combining features could be important for standing out in Kaggle competitions, but finding useful combinations might be a non-trivial problem. Suggestions from **domain experts** are oftentimes the best entry point to detecting valuable combinations.\n",
    "\n",
    "Besides relying on domain experts, we could try many possible combination of features to identify model improving ones. This approach takes much time, but at least we can already find many of the most important combinations if we follow these guidelines: \n",
    "* **effect sparsity:** the fewer features are part of the combination, the higher the chance for the combination to be predictive (including singletons, i.e. uncombined features). We should focus on combinations between 2 or 3 features.\n",
    "* **(weak) heredity:** the combination $(feat_1, feat_2)$ should only be considered to be predictive, if at least one of the features, $feat_1$ or $feat_2$, is already known to be predictive.\n",
    "* **priority:** in most cases, the interpretability and the predictivity of a combination is better when the original features aren't transformed ([scaled](#sec21), encoded, [log-transformed](#log)...). Thus we should create the combinations *prior* to any transformations."
   ]
  },
  {
   "cell_type": "markdown",
   "metadata": {
    "papermill": {
     "duration": 0.08621,
     "end_time": "2023-05-25T13:54:58.999456",
     "exception": false,
     "start_time": "2023-05-25T13:54:58.913246",
     "status": "completed"
    },
    "tags": []
   },
   "source": [
    "As suggested by [@anashamoutni](https://www.kaggle.com/anashamoutni), [PCA](https://en.wikipedia.org/wiki/Principal_component_analysis) and other [Dimensionality Reduction](https://en.wikipedia.org/wiki/Dimensionality_reduction) methods can be seen as methods for combining features as well, since they merge multiple features in a more or less meaningful way."
   ]
  },
  {
   "cell_type": "markdown",
   "metadata": {
    "papermill": {
     "duration": 0.083545,
     "end_time": "2023-05-25T13:54:59.169174",
     "exception": false,
     "start_time": "2023-05-25T13:54:59.085629",
     "status": "completed"
    },
    "tags": []
   },
   "source": [
    "Some examples for basic building blocks:\n",
    "\n",
    "* Products of numerical features (E.g. daily cigarettes ⋅ days)\n",
    "* Ratios of numerical features (E.g. $\\frac{price}{gram}$)\n",
    "* Sums of numerical features (E.g. weight of passengers + weight of the transported goods)\n",
    "* Differences of numerical values (E.g. workdays - sick days)\n",
    "\n",
    "The whole equation for a new feature parent\n",
    "that describes the likelihood of an employee going on parental leave (*parent*), given the numerical features *age*, and the years of employment (*empl*), as well as the binary categorical features *sex* (female), and the marital status (*married*) could look like this:\n",
    "\n",
    "$\\large\n",
    "     \\text{parent} =(1+0.7married)\\frac{empl}{age^5} \n",
    "$\n",
    "\n",
    "Take a moment to think about the way the binary categorical features affect this equation.\n",
    "\n",
    "Let's apply this equation to some data to see if it works:"
   ]
  },
  {
   "cell_type": "code",
   "execution_count": 27,
   "metadata": {
    "execution": {
     "iopub.execute_input": "2023-05-25T13:54:59.351392Z",
     "iopub.status.busy": "2023-05-25T13:54:59.350617Z",
     "iopub.status.idle": "2023-05-25T13:54:59.364192Z",
     "shell.execute_reply": "2023-05-25T13:54:59.363510Z",
     "shell.execute_reply.started": "2023-05-25T13:35:57.322645Z"
    },
    "papermill": {
     "duration": 0.109149,
     "end_time": "2023-05-25T13:54:59.364325",
     "exception": false,
     "start_time": "2023-05-25T13:54:59.255176",
     "status": "completed"
    },
    "tags": []
   },
   "outputs": [
    {
     "data": {
      "text/html": [
       "<div>\n",
       "<style scoped>\n",
       "    .dataframe tbody tr th:only-of-type {\n",
       "        vertical-align: middle;\n",
       "    }\n",
       "\n",
       "    .dataframe tbody tr th {\n",
       "        vertical-align: top;\n",
       "    }\n",
       "\n",
       "    .dataframe thead th {\n",
       "        text-align: right;\n",
       "    }\n",
       "</style>\n",
       "<table border=\"1\" class=\"dataframe\">\n",
       "  <thead>\n",
       "    <tr style=\"text-align: right;\">\n",
       "      <th></th>\n",
       "      <th>married</th>\n",
       "      <th>empl</th>\n",
       "      <th>age</th>\n",
       "      <th>female</th>\n",
       "    </tr>\n",
       "  </thead>\n",
       "  <tbody>\n",
       "    <tr>\n",
       "      <th>0</th>\n",
       "      <td>0</td>\n",
       "      <td>2</td>\n",
       "      <td>25</td>\n",
       "      <td>0</td>\n",
       "    </tr>\n",
       "    <tr>\n",
       "      <th>1</th>\n",
       "      <td>1</td>\n",
       "      <td>5</td>\n",
       "      <td>27</td>\n",
       "      <td>1</td>\n",
       "    </tr>\n",
       "    <tr>\n",
       "      <th>2</th>\n",
       "      <td>1</td>\n",
       "      <td>1</td>\n",
       "      <td>43</td>\n",
       "      <td>0</td>\n",
       "    </tr>\n",
       "    <tr>\n",
       "      <th>3</th>\n",
       "      <td>1</td>\n",
       "      <td>6</td>\n",
       "      <td>43</td>\n",
       "      <td>0</td>\n",
       "    </tr>\n",
       "    <tr>\n",
       "      <th>4</th>\n",
       "      <td>0</td>\n",
       "      <td>2</td>\n",
       "      <td>28</td>\n",
       "      <td>1</td>\n",
       "    </tr>\n",
       "    <tr>\n",
       "      <th>5</th>\n",
       "      <td>1</td>\n",
       "      <td>6</td>\n",
       "      <td>29</td>\n",
       "      <td>0</td>\n",
       "    </tr>\n",
       "    <tr>\n",
       "      <th>6</th>\n",
       "      <td>0</td>\n",
       "      <td>1</td>\n",
       "      <td>22</td>\n",
       "      <td>1</td>\n",
       "    </tr>\n",
       "  </tbody>\n",
       "</table>\n",
       "</div>"
      ],
      "text/plain": [
       "   married  empl  age  female\n",
       "0        0     2   25       0\n",
       "1        1     5   27       1\n",
       "2        1     1   43       0\n",
       "3        1     6   43       0\n",
       "4        0     2   28       1\n",
       "5        1     6   29       0\n",
       "6        0     1   22       1"
      ]
     },
     "execution_count": 27,
     "metadata": {},
     "output_type": "execute_result"
    }
   ],
   "source": [
    "married = [0, 1, 1, 1, 0, 1, 0]\n",
    "empl = [2, 5, 1, 6, 2, 6, 1]\n",
    "age = [25, 27, 43, 43, 28, 29, 22]\n",
    "female = [0, 1,  0, 0, 1, 0, 1]\n",
    "values = list(zip(married, empl, age, female))\n",
    "names = ['married', 'empl', 'age', 'female']\n",
    "df = pd.DataFrame(values, columns=names)\n",
    "df"
   ]
  },
  {
   "cell_type": "code",
   "execution_count": 28,
   "metadata": {
    "execution": {
     "iopub.execute_input": "2023-05-25T13:54:59.544472Z",
     "iopub.status.busy": "2023-05-25T13:54:59.543720Z",
     "iopub.status.idle": "2023-05-25T13:54:59.561191Z",
     "shell.execute_reply": "2023-05-25T13:54:59.560353Z",
     "shell.execute_reply.started": "2023-05-25T13:35:59.268437Z"
    },
    "papermill": {
     "duration": 0.110881,
     "end_time": "2023-05-25T13:54:59.561328",
     "exception": false,
     "start_time": "2023-05-25T13:54:59.450447",
     "status": "completed"
    },
    "tags": []
   },
   "outputs": [
    {
     "data": {
      "text/html": [
       "<div>\n",
       "<style scoped>\n",
       "    .dataframe tbody tr th:only-of-type {\n",
       "        vertical-align: middle;\n",
       "    }\n",
       "\n",
       "    .dataframe tbody tr th {\n",
       "        vertical-align: top;\n",
       "    }\n",
       "\n",
       "    .dataframe thead th {\n",
       "        text-align: right;\n",
       "    }\n",
       "</style>\n",
       "<table border=\"1\" class=\"dataframe\">\n",
       "  <thead>\n",
       "    <tr style=\"text-align: right;\">\n",
       "      <th></th>\n",
       "      <th>married</th>\n",
       "      <th>empl</th>\n",
       "      <th>age</th>\n",
       "      <th>female</th>\n",
       "      <th>parent</th>\n",
       "    </tr>\n",
       "  </thead>\n",
       "  <tbody>\n",
       "    <tr>\n",
       "      <th>0</th>\n",
       "      <td>0</td>\n",
       "      <td>2</td>\n",
       "      <td>25</td>\n",
       "      <td>0</td>\n",
       "      <td>2.048000</td>\n",
       "    </tr>\n",
       "    <tr>\n",
       "      <th>1</th>\n",
       "      <td>1</td>\n",
       "      <td>5</td>\n",
       "      <td>27</td>\n",
       "      <td>1</td>\n",
       "      <td>5.923796</td>\n",
       "    </tr>\n",
       "    <tr>\n",
       "      <th>2</th>\n",
       "      <td>1</td>\n",
       "      <td>1</td>\n",
       "      <td>43</td>\n",
       "      <td>0</td>\n",
       "      <td>0.115640</td>\n",
       "    </tr>\n",
       "    <tr>\n",
       "      <th>3</th>\n",
       "      <td>1</td>\n",
       "      <td>6</td>\n",
       "      <td>43</td>\n",
       "      <td>0</td>\n",
       "      <td>0.693838</td>\n",
       "    </tr>\n",
       "    <tr>\n",
       "      <th>4</th>\n",
       "      <td>0</td>\n",
       "      <td>2</td>\n",
       "      <td>28</td>\n",
       "      <td>1</td>\n",
       "      <td>1.162090</td>\n",
       "    </tr>\n",
       "    <tr>\n",
       "      <th>5</th>\n",
       "      <td>1</td>\n",
       "      <td>6</td>\n",
       "      <td>29</td>\n",
       "      <td>0</td>\n",
       "      <td>4.972905</td>\n",
       "    </tr>\n",
       "    <tr>\n",
       "      <th>6</th>\n",
       "      <td>0</td>\n",
       "      <td>1</td>\n",
       "      <td>22</td>\n",
       "      <td>1</td>\n",
       "      <td>1.940379</td>\n",
       "    </tr>\n",
       "  </tbody>\n",
       "</table>\n",
       "</div>"
      ],
      "text/plain": [
       "   married  empl  age  female    parent\n",
       "0        0     2   25       0  2.048000\n",
       "1        1     5   27       1  5.923796\n",
       "2        1     1   43       0  0.115640\n",
       "3        1     6   43       0  0.693838\n",
       "4        0     2   28       1  1.162090\n",
       "5        1     6   29       0  4.972905\n",
       "6        0     1   22       1  1.940379"
      ]
     },
     "execution_count": 28,
     "metadata": {},
     "output_type": "execute_result"
    }
   ],
   "source": [
    "c = 10_000_000 # a constant for better readability\n",
    "\n",
    "def parent(row):\n",
    "    return  c*(1 + 0.7*row['married'])*row['empl']/(row['age']**5)\n",
    "    \n",
    "\n",
    "    \n",
    "parent = df.apply(parent, axis=1) # axis=1 for row-wise operation\n",
    "df_with_parent = pd.concat([df, parent.rename('parent')], axis=1)\n",
    "df_with_parent"
   ]
  },
  {
   "cell_type": "markdown",
   "metadata": {
    "papermill": {
     "duration": 0.086236,
     "end_time": "2023-05-25T13:54:59.733306",
     "exception": false,
     "start_time": "2023-05-25T13:54:59.647070",
     "status": "completed"
    },
    "tags": []
   },
   "source": [
    "As we can see, young people who are employed for several years are very likely to go on parental leave. Moreover, the likelihood increases a lot if the employee is female and even more if the employee is married. Note, that this approach benefits from some implicit constraints. Since we are taking a look at employee data, there will be no Kid in this dataset. According to this equation, kids would be extremely likely to become parents within the next year."
   ]
  },
  {
   "cell_type": "markdown",
   "metadata": {
    "papermill": {
     "duration": 0.087813,
     "end_time": "2023-05-25T13:54:59.908316",
     "exception": false,
     "start_time": "2023-05-25T13:54:59.820503",
     "status": "completed"
    },
    "tags": []
   },
   "source": [
    "<a id=\"sec-22\"></a>\n",
    "***\n",
    "<h1 style=\"background-color:DodgerBlue; color:white\" >-> 4.2. Combine Features using Groupby</h1>\n",
    "\n",
    "Imagine having data about your employees' salary and their department. The salary on its own might already be an important feature, but it might be helpful to have the clerks relative salary per department."
   ]
  },
  {
   "cell_type": "code",
   "execution_count": 29,
   "metadata": {
    "execution": {
     "iopub.execute_input": "2023-05-25T13:55:00.093731Z",
     "iopub.status.busy": "2023-05-25T13:55:00.092884Z",
     "iopub.status.idle": "2023-05-25T13:55:00.103797Z",
     "shell.execute_reply": "2023-05-25T13:55:00.104417Z",
     "shell.execute_reply.started": "2023-05-25T13:38:29.554328Z"
    },
    "papermill": {
     "duration": 0.110231,
     "end_time": "2023-05-25T13:55:00.104609",
     "exception": false,
     "start_time": "2023-05-25T13:54:59.994378",
     "status": "completed"
    },
    "tags": []
   },
   "outputs": [
    {
     "data": {
      "text/html": [
       "<div>\n",
       "<style scoped>\n",
       "    .dataframe tbody tr th:only-of-type {\n",
       "        vertical-align: middle;\n",
       "    }\n",
       "\n",
       "    .dataframe tbody tr th {\n",
       "        vertical-align: top;\n",
       "    }\n",
       "\n",
       "    .dataframe thead th {\n",
       "        text-align: right;\n",
       "    }\n",
       "</style>\n",
       "<table border=\"1\" class=\"dataframe\">\n",
       "  <thead>\n",
       "    <tr style=\"text-align: right;\">\n",
       "      <th></th>\n",
       "      <th>salary</th>\n",
       "      <th>dep</th>\n",
       "    </tr>\n",
       "  </thead>\n",
       "  <tbody>\n",
       "    <tr>\n",
       "      <th>0</th>\n",
       "      <td>40</td>\n",
       "      <td>1</td>\n",
       "    </tr>\n",
       "    <tr>\n",
       "      <th>1</th>\n",
       "      <td>42</td>\n",
       "      <td>1</td>\n",
       "    </tr>\n",
       "    <tr>\n",
       "      <th>2</th>\n",
       "      <td>30</td>\n",
       "      <td>0</td>\n",
       "    </tr>\n",
       "    <tr>\n",
       "      <th>3</th>\n",
       "      <td>32</td>\n",
       "      <td>0</td>\n",
       "    </tr>\n",
       "    <tr>\n",
       "      <th>4</th>\n",
       "      <td>45</td>\n",
       "      <td>2</td>\n",
       "    </tr>\n",
       "    <tr>\n",
       "      <th>5</th>\n",
       "      <td>44</td>\n",
       "      <td>2</td>\n",
       "    </tr>\n",
       "    <tr>\n",
       "      <th>6</th>\n",
       "      <td>31</td>\n",
       "      <td>1</td>\n",
       "    </tr>\n",
       "    <tr>\n",
       "      <th>7</th>\n",
       "      <td>44</td>\n",
       "      <td>0</td>\n",
       "    </tr>\n",
       "    <tr>\n",
       "      <th>8</th>\n",
       "      <td>29</td>\n",
       "      <td>1</td>\n",
       "    </tr>\n",
       "    <tr>\n",
       "      <th>9</th>\n",
       "      <td>33</td>\n",
       "      <td>0</td>\n",
       "    </tr>\n",
       "    <tr>\n",
       "      <th>10</th>\n",
       "      <td>46</td>\n",
       "      <td>2</td>\n",
       "    </tr>\n",
       "    <tr>\n",
       "      <th>11</th>\n",
       "      <td>50</td>\n",
       "      <td>1</td>\n",
       "    </tr>\n",
       "    <tr>\n",
       "      <th>12</th>\n",
       "      <td>33</td>\n",
       "      <td>2</td>\n",
       "    </tr>\n",
       "    <tr>\n",
       "      <th>13</th>\n",
       "      <td>39</td>\n",
       "      <td>0</td>\n",
       "    </tr>\n",
       "  </tbody>\n",
       "</table>\n",
       "</div>"
      ],
      "text/plain": [
       "    salary  dep\n",
       "0       40    1\n",
       "1       42    1\n",
       "2       30    0\n",
       "3       32    0\n",
       "4       45    2\n",
       "5       44    2\n",
       "6       31    1\n",
       "7       44    0\n",
       "8       29    1\n",
       "9       33    0\n",
       "10      46    2\n",
       "11      50    1\n",
       "12      33    2\n",
       "13      39    0"
      ]
     },
     "execution_count": 29,
     "metadata": {},
     "output_type": "execute_result"
    }
   ],
   "source": [
    "salary = [40, 42, 30, 32, 45, 44, 31, 44, 29, 33, 46, 50, 33, 39]\n",
    "dep =[1, 1, 0, 0, 2, 2, 1, 0, 1, 0, 2, 1, 2, 0]\n",
    "values = list(zip(salary, dep))\n",
    "names = ['salary', 'dep']\n",
    "df = pd.DataFrame(values, columns=names)\n",
    "df"
   ]
  },
  {
   "cell_type": "code",
   "execution_count": 30,
   "metadata": {
    "execution": {
     "iopub.execute_input": "2023-05-25T13:55:00.285674Z",
     "iopub.status.busy": "2023-05-25T13:55:00.284844Z",
     "iopub.status.idle": "2023-05-25T13:55:00.308288Z",
     "shell.execute_reply": "2023-05-25T13:55:00.307193Z",
     "shell.execute_reply.started": "2023-05-25T13:44:51.863469Z"
    },
    "papermill": {
     "duration": 0.116332,
     "end_time": "2023-05-25T13:55:00.308445",
     "exception": false,
     "start_time": "2023-05-25T13:55:00.192113",
     "status": "completed"
    },
    "tags": []
   },
   "outputs": [
    {
     "data": {
      "text/html": [
       "<div>\n",
       "<style scoped>\n",
       "    .dataframe tbody tr th:only-of-type {\n",
       "        vertical-align: middle;\n",
       "    }\n",
       "\n",
       "    .dataframe tbody tr th {\n",
       "        vertical-align: top;\n",
       "    }\n",
       "\n",
       "    .dataframe thead th {\n",
       "        text-align: right;\n",
       "    }\n",
       "</style>\n",
       "<table border=\"1\" class=\"dataframe\">\n",
       "  <thead>\n",
       "    <tr style=\"text-align: right;\">\n",
       "      <th></th>\n",
       "      <th>salary</th>\n",
       "      <th>dep</th>\n",
       "      <th>dep_relative_salary</th>\n",
       "    </tr>\n",
       "  </thead>\n",
       "  <tbody>\n",
       "    <tr>\n",
       "      <th>0</th>\n",
       "      <td>40</td>\n",
       "      <td>1</td>\n",
       "      <td>0.208333</td>\n",
       "    </tr>\n",
       "    <tr>\n",
       "      <th>1</th>\n",
       "      <td>42</td>\n",
       "      <td>1</td>\n",
       "      <td>0.218750</td>\n",
       "    </tr>\n",
       "    <tr>\n",
       "      <th>2</th>\n",
       "      <td>30</td>\n",
       "      <td>0</td>\n",
       "      <td>0.168539</td>\n",
       "    </tr>\n",
       "    <tr>\n",
       "      <th>3</th>\n",
       "      <td>32</td>\n",
       "      <td>0</td>\n",
       "      <td>0.179775</td>\n",
       "    </tr>\n",
       "    <tr>\n",
       "      <th>4</th>\n",
       "      <td>45</td>\n",
       "      <td>2</td>\n",
       "      <td>0.267857</td>\n",
       "    </tr>\n",
       "    <tr>\n",
       "      <th>5</th>\n",
       "      <td>44</td>\n",
       "      <td>2</td>\n",
       "      <td>0.261905</td>\n",
       "    </tr>\n",
       "    <tr>\n",
       "      <th>6</th>\n",
       "      <td>31</td>\n",
       "      <td>1</td>\n",
       "      <td>0.161458</td>\n",
       "    </tr>\n",
       "    <tr>\n",
       "      <th>7</th>\n",
       "      <td>44</td>\n",
       "      <td>0</td>\n",
       "      <td>0.247191</td>\n",
       "    </tr>\n",
       "    <tr>\n",
       "      <th>8</th>\n",
       "      <td>29</td>\n",
       "      <td>1</td>\n",
       "      <td>0.151042</td>\n",
       "    </tr>\n",
       "    <tr>\n",
       "      <th>9</th>\n",
       "      <td>33</td>\n",
       "      <td>0</td>\n",
       "      <td>0.185393</td>\n",
       "    </tr>\n",
       "    <tr>\n",
       "      <th>10</th>\n",
       "      <td>46</td>\n",
       "      <td>2</td>\n",
       "      <td>0.273810</td>\n",
       "    </tr>\n",
       "    <tr>\n",
       "      <th>11</th>\n",
       "      <td>50</td>\n",
       "      <td>1</td>\n",
       "      <td>0.260417</td>\n",
       "    </tr>\n",
       "    <tr>\n",
       "      <th>12</th>\n",
       "      <td>33</td>\n",
       "      <td>2</td>\n",
       "      <td>0.196429</td>\n",
       "    </tr>\n",
       "    <tr>\n",
       "      <th>13</th>\n",
       "      <td>39</td>\n",
       "      <td>0</td>\n",
       "      <td>0.219101</td>\n",
       "    </tr>\n",
       "  </tbody>\n",
       "</table>\n",
       "</div>"
      ],
      "text/plain": [
       "    salary  dep  dep_relative_salary\n",
       "0       40    1             0.208333\n",
       "1       42    1             0.218750\n",
       "2       30    0             0.168539\n",
       "3       32    0             0.179775\n",
       "4       45    2             0.267857\n",
       "5       44    2             0.261905\n",
       "6       31    1             0.161458\n",
       "7       44    0             0.247191\n",
       "8       29    1             0.151042\n",
       "9       33    0             0.185393\n",
       "10      46    2             0.273810\n",
       "11      50    1             0.260417\n",
       "12      33    2             0.196429\n",
       "13      39    0             0.219101"
      ]
     },
     "execution_count": 30,
     "metadata": {},
     "output_type": "execute_result"
    }
   ],
   "source": [
    "sum_per_dep = df.groupby('dep')['salary'].sum()\n",
    "\n",
    "sum_per_dep_rows = df['dep'].replace(sum_per_dep.index, sum_per_dep.values)\n",
    "salary_per_dep = df['salary'] / sum_per_dep_rows\n",
    "dep_relative_salary = pd.concat([df, salary_per_dep.rename('dep_relative_salary')], axis=1)\n",
    "dep_relative_salary"
   ]
  },
  {
   "cell_type": "markdown",
   "metadata": {
    "papermill": {
     "duration": 0.092707,
     "end_time": "2023-05-25T13:55:00.493417",
     "exception": false,
     "start_time": "2023-05-25T13:55:00.400710",
     "status": "completed"
    },
    "tags": []
   },
   "source": [
    "<a id=\"sec-23\"></a>\n",
    "***\n",
    "<h1 style=\"background-color:DodgerBlue; color:white\" >-> 4.3. Combine Features using Conditions</h1>\n",
    "\n",
    "One more very common method of creating a new feature by combining the original features is using conditions. This method is especially important if your project demands you to focus on a particular group of observations, or when you already figured out any frequent sets in your Dataset.\n",
    "\n",
    "* Use this method for commonly fulfilled conditions \n",
    "* The conditions should contain multiple features, to evade *collinearity*\n",
    "* Construct the condition based on your project goals or frequent patterns in your data\n",
    "* You can find frequent patterns in your data using the [Apriori Algorithm](https://www.youtube.com/watch?v=guVvtZ7ZClw)\n",
    "\n",
    "Imagine your data exploration reveals the fact that a particular combination of features occurs frequently with a particular outcome. In such a case, it might be interesting to create a *binary flag*, indicating the particular combination. Of course, the algorithm could find this relationship out automatically, but we can never be sure about it. \n",
    "\n",
    "For example, we could have found out, that all young customers, who already bought multiple products from our company are very interested in our new product. Let's call these young people *young fans*. Creating such a feature could look like this:"
   ]
  },
  {
   "cell_type": "code",
   "execution_count": 31,
   "metadata": {
    "_kg_hide-input": true,
    "execution": {
     "iopub.execute_input": "2023-05-25T13:55:00.684182Z",
     "iopub.status.busy": "2023-05-25T13:55:00.683368Z",
     "iopub.status.idle": "2023-05-25T13:55:00.688062Z",
     "shell.execute_reply": "2023-05-25T13:55:00.687242Z",
     "shell.execute_reply.started": "2023-05-25T13:47:16.884477Z"
    },
    "papermill": {
     "duration": 0.106189,
     "end_time": "2023-05-25T13:55:00.688244",
     "exception": false,
     "start_time": "2023-05-25T13:55:00.582055",
     "status": "completed"
    },
    "tags": []
   },
   "outputs": [
    {
     "data": {
      "text/html": [
       "<div>\n",
       "<style scoped>\n",
       "    .dataframe tbody tr th:only-of-type {\n",
       "        vertical-align: middle;\n",
       "    }\n",
       "\n",
       "    .dataframe tbody tr th {\n",
       "        vertical-align: top;\n",
       "    }\n",
       "\n",
       "    .dataframe thead th {\n",
       "        text-align: right;\n",
       "    }\n",
       "</style>\n",
       "<table border=\"1\" class=\"dataframe\">\n",
       "  <thead>\n",
       "    <tr style=\"text-align: right;\">\n",
       "      <th></th>\n",
       "      <th>age</th>\n",
       "      <th>products_bought</th>\n",
       "    </tr>\n",
       "  </thead>\n",
       "  <tbody>\n",
       "    <tr>\n",
       "      <th>0</th>\n",
       "      <td>23</td>\n",
       "      <td>1</td>\n",
       "    </tr>\n",
       "    <tr>\n",
       "      <th>1</th>\n",
       "      <td>24</td>\n",
       "      <td>4</td>\n",
       "    </tr>\n",
       "    <tr>\n",
       "      <th>2</th>\n",
       "      <td>51</td>\n",
       "      <td>3</td>\n",
       "    </tr>\n",
       "    <tr>\n",
       "      <th>3</th>\n",
       "      <td>41</td>\n",
       "      <td>2</td>\n",
       "    </tr>\n",
       "    <tr>\n",
       "      <th>4</th>\n",
       "      <td>24</td>\n",
       "      <td>3</td>\n",
       "    </tr>\n",
       "    <tr>\n",
       "      <th>5</th>\n",
       "      <td>72</td>\n",
       "      <td>1</td>\n",
       "    </tr>\n",
       "    <tr>\n",
       "      <th>6</th>\n",
       "      <td>35</td>\n",
       "      <td>5</td>\n",
       "    </tr>\n",
       "    <tr>\n",
       "      <th>7</th>\n",
       "      <td>21</td>\n",
       "      <td>1</td>\n",
       "    </tr>\n",
       "    <tr>\n",
       "      <th>8</th>\n",
       "      <td>64</td>\n",
       "      <td>2</td>\n",
       "    </tr>\n",
       "    <tr>\n",
       "      <th>9</th>\n",
       "      <td>29</td>\n",
       "      <td>7</td>\n",
       "    </tr>\n",
       "    <tr>\n",
       "      <th>10</th>\n",
       "      <td>27</td>\n",
       "      <td>4</td>\n",
       "    </tr>\n",
       "  </tbody>\n",
       "</table>\n",
       "</div>"
      ],
      "text/plain": [
       "    age  products_bought\n",
       "0    23                1\n",
       "1    24                4\n",
       "2    51                3\n",
       "3    41                2\n",
       "4    24                3\n",
       "5    72                1\n",
       "6    35                5\n",
       "7    21                1\n",
       "8    64                2\n",
       "9    29                7\n",
       "10   27                4"
      ]
     },
     "execution_count": 31,
     "metadata": {},
     "output_type": "execute_result"
    }
   ],
   "source": [
    "age = [23, 24, 51, 41, 24, 72, 35, 21, 64, 29, 27]\n",
    "products_bought =[1, 4, 3, 2, 3, 1, 5, 1, 2, 7, 4]\n",
    "values = list(zip(age, products_bought))\n",
    "names = ['age', 'products_bought']\n",
    "df = pd.DataFrame(values, columns=names)\n",
    "df"
   ]
  },
  {
   "cell_type": "code",
   "execution_count": 32,
   "metadata": {
    "execution": {
     "iopub.execute_input": "2023-05-25T13:55:00.882974Z",
     "iopub.status.busy": "2023-05-25T13:55:00.881861Z",
     "iopub.status.idle": "2023-05-25T13:55:00.887832Z",
     "shell.execute_reply": "2023-05-25T13:55:00.887179Z",
     "shell.execute_reply.started": "2023-05-25T13:47:23.762162Z"
    },
    "papermill": {
     "duration": 0.110967,
     "end_time": "2023-05-25T13:55:00.887982",
     "exception": false,
     "start_time": "2023-05-25T13:55:00.777015",
     "status": "completed"
    },
    "tags": []
   },
   "outputs": [
    {
     "data": {
      "text/html": [
       "<div>\n",
       "<style scoped>\n",
       "    .dataframe tbody tr th:only-of-type {\n",
       "        vertical-align: middle;\n",
       "    }\n",
       "\n",
       "    .dataframe tbody tr th {\n",
       "        vertical-align: top;\n",
       "    }\n",
       "\n",
       "    .dataframe thead th {\n",
       "        text-align: right;\n",
       "    }\n",
       "</style>\n",
       "<table border=\"1\" class=\"dataframe\">\n",
       "  <thead>\n",
       "    <tr style=\"text-align: right;\">\n",
       "      <th></th>\n",
       "      <th>age</th>\n",
       "      <th>products_bought</th>\n",
       "      <th>young_fan</th>\n",
       "    </tr>\n",
       "  </thead>\n",
       "  <tbody>\n",
       "    <tr>\n",
       "      <th>0</th>\n",
       "      <td>23</td>\n",
       "      <td>1</td>\n",
       "      <td>0</td>\n",
       "    </tr>\n",
       "    <tr>\n",
       "      <th>1</th>\n",
       "      <td>24</td>\n",
       "      <td>4</td>\n",
       "      <td>1</td>\n",
       "    </tr>\n",
       "    <tr>\n",
       "      <th>2</th>\n",
       "      <td>51</td>\n",
       "      <td>3</td>\n",
       "      <td>0</td>\n",
       "    </tr>\n",
       "    <tr>\n",
       "      <th>3</th>\n",
       "      <td>41</td>\n",
       "      <td>2</td>\n",
       "      <td>0</td>\n",
       "    </tr>\n",
       "    <tr>\n",
       "      <th>4</th>\n",
       "      <td>24</td>\n",
       "      <td>3</td>\n",
       "      <td>1</td>\n",
       "    </tr>\n",
       "    <tr>\n",
       "      <th>5</th>\n",
       "      <td>72</td>\n",
       "      <td>1</td>\n",
       "      <td>0</td>\n",
       "    </tr>\n",
       "    <tr>\n",
       "      <th>6</th>\n",
       "      <td>35</td>\n",
       "      <td>5</td>\n",
       "      <td>0</td>\n",
       "    </tr>\n",
       "    <tr>\n",
       "      <th>7</th>\n",
       "      <td>21</td>\n",
       "      <td>1</td>\n",
       "      <td>0</td>\n",
       "    </tr>\n",
       "    <tr>\n",
       "      <th>8</th>\n",
       "      <td>64</td>\n",
       "      <td>2</td>\n",
       "      <td>0</td>\n",
       "    </tr>\n",
       "    <tr>\n",
       "      <th>9</th>\n",
       "      <td>29</td>\n",
       "      <td>7</td>\n",
       "      <td>1</td>\n",
       "    </tr>\n",
       "    <tr>\n",
       "      <th>10</th>\n",
       "      <td>27</td>\n",
       "      <td>4</td>\n",
       "      <td>1</td>\n",
       "    </tr>\n",
       "  </tbody>\n",
       "</table>\n",
       "</div>"
      ],
      "text/plain": [
       "    age  products_bought  young_fan\n",
       "0    23                1          0\n",
       "1    24                4          1\n",
       "2    51                3          0\n",
       "3    41                2          0\n",
       "4    24                3          1\n",
       "5    72                1          0\n",
       "6    35                5          0\n",
       "7    21                1          0\n",
       "8    64                2          0\n",
       "9    29                7          1\n",
       "10   27                4          1"
      ]
     },
     "execution_count": 32,
     "metadata": {},
     "output_type": "execute_result"
    }
   ],
   "source": [
    "def is_young_fan(df) : \n",
    "    if df['age'] < 30 and (df['products_bought'] > 1):\n",
    "        return 1\n",
    "    else : \n",
    "        return 0\n",
    "    \n",
    "df['young_fan'] = df.apply(is_young_fan, axis=1)\n",
    "df"
   ]
  },
  {
   "cell_type": "code",
   "execution_count": 33,
   "metadata": {
    "_kg_hide-input": true,
    "execution": {
     "iopub.execute_input": "2023-05-25T13:55:01.075624Z",
     "iopub.status.busy": "2023-05-25T13:55:01.074810Z",
     "iopub.status.idle": "2023-05-25T13:55:01.193825Z",
     "shell.execute_reply": "2023-05-25T13:55:01.194371Z",
     "shell.execute_reply.started": "2023-05-25T13:47:30.166511Z"
    },
    "papermill": {
     "duration": 0.215329,
     "end_time": "2023-05-25T13:55:01.194569",
     "exception": false,
     "start_time": "2023-05-25T13:55:00.979240",
     "status": "completed"
    },
    "tags": []
   },
   "outputs": [
    {
     "data": {
      "image/png": "[encoded data removed]",
      "text/plain": [
       "<Figure size 432x288 with 1 Axes>"
      ]
     },
     "metadata": {},
     "output_type": "display_data"
    }
   ],
   "source": [
    "def is_young(age):\n",
    "    return int(age < 30)\n",
    "\n",
    "young = df['age'].apply(is_young)\n",
    "young_count = young.sum()\n",
    "older_count = len(young) - young_count\n",
    "\n",
    "\n",
    "\n",
    "def is_fan(products_bought):\n",
    "    return int(products_bought > 1)\n",
    "\n",
    "fan = df['products_bought'].apply(is_fan)\n",
    "young_fan_count = df['young_fan'].sum()\n",
    "young_non_fan_count = young_count - young_fan_count\n",
    "older_fan_count = fan.sum() - young_fan_count\n",
    "older_non_fan_count = older_count - older_fan_count\n",
    "\n",
    "\n",
    "\n",
    "# colors by colormap\n",
    "color_f, color_m = [plt.cm.Reds, plt.cm.Blues]\n",
    "\n",
    "# outer\n",
    "outer_names = ['young', 'older'] # female male\n",
    "outer_size = [young_count, older_count]\n",
    "fig, ax = plt.subplots()\n",
    "pie_outer, _ = ax.pie(outer_size, radius=1.5, labels=outer_names, colors=[color_f(0.3), color_m(0.3)] )\n",
    "plt.setp( pie_outer, width=1.2, edgecolor='white')\n",
    " \n",
    "# inner\n",
    "inner_names = ['fan', 'non-fan', 'fan', 'non-fan']\n",
    "inner_size = [young_fan_count, young_non_fan_count, older_fan_count, older_non_fan_count]\n",
    "pie_inner, _ = ax.pie(inner_size, radius=1, labels=inner_names, labeldistance=0.55, colors=[color_f(0.7), color_f(0.5), color_m(0.7), color_m(0.5)])\n",
    "plt.setp(pie_inner, width=0.5, edgecolor='white')\n",
    "plt.margins(0,0)\n",
    "plt.savefig('fan.png')\n",
    "plt.show()"
   ]
  },
  {
   "cell_type": "markdown",
   "metadata": {
    "papermill": {
     "duration": 0.093738,
     "end_time": "2023-05-25T13:55:01.380990",
     "exception": false,
     "start_time": "2023-05-25T13:55:01.287252",
     "status": "completed"
    },
    "tags": []
   },
   "source": [
    "<a id=\"sec-5\"></a>\n",
    "***\n",
    "\n",
    "<h1 style=\"background-color:DodgerBlue; color:white\" >-> 5. Distributions </h1>\n"
   ]
  },
  {
   "cell_type": "markdown",
   "metadata": {
    "papermill": {
     "duration": 0.091086,
     "end_time": "2023-05-25T13:55:01.566731",
     "exception": false,
     "start_time": "2023-05-25T13:55:01.475645",
     "status": "completed"
    },
    "tags": []
   },
   "source": [
    "<a href=\"#top\" class=\"btn btn-info btn-lg active\" role=\"button\" aria-pressed=\"true\" style=\"color:white\" data-toggle=\"popover\" title=\"go to Colors\">Go to Topics</a>"
   ]
  },
  {
   "cell_type": "markdown",
   "metadata": {
    "papermill": {
     "duration": 0.090152,
     "end_time": "2023-05-25T13:55:01.748278",
     "exception": false,
     "start_time": "2023-05-25T13:55:01.658126",
     "status": "completed"
    },
    "tags": []
   },
   "source": [
    "<a id=\"sec51\"></a>\n",
    "<a id=\"tail\"></a>\n",
    "***\n",
    "<h1 style=\"background-color:DodgerBlue; color:white\" >-> 5.1. Distribution Tails</h1>\n",
    "\n",
    "* **tail:** The part on the left side of the modes of the distribution is called the left tail and vice versa.\n",
    "* **heavy-tailed distribution:** A Distribution with a bigger area under the curve in the tails than a normal distribution\n",
    "* **long-tailed distribution:** A distribution with a long tail has some values which are far away from the mean of the distribution on the respective side of the mean(most long tails are also **\"thin\"** for obvious reasons). long-tailed distributions contain many outliers; vice versa:**short and fat** \n",
    "* **skewness:** describes the asymmetry of a distribution\n",
    "* **negative skew:** distribution tends to have a long tail on the left side\n",
    "* **positive skew:** distribution tends to have a long tail on the right side\n",
    "* **zero skewness:** both sides of the modes balance out overall. (e.g. symmetry or one tail is long and thin and the other is short but fat\n",
    "* [**kurtosis:**](https://corporatefinanceinstitute.com/resources/knowledge/other/kurtosis/) measures the conformity of the tails of a distribution with the tails of a normal distribution"
   ]
  },
  {
   "cell_type": "markdown",
   "metadata": {
    "papermill": {
     "duration": 0.094108,
     "end_time": "2023-05-25T13:55:01.935086",
     "exception": false,
     "start_time": "2023-05-25T13:55:01.840978",
     "status": "completed"
    },
    "tags": []
   },
   "source": [
    "<a id=\"sec52\"></a>\n",
    "<a id=\"qqplot\"></a>\n",
    "***\n",
    "<h1 style=\"background-color:DodgerBlue; color:white\" >-> 5.2. The Quantile-Quantile Plot (qqplot)</h1>\n",
    "\n",
    "* plots the [quantiles](https://en.wikipedia.org/wiki/Quantile) (basically just the data sorted in ascending order) of two variables against each other\n",
    "* each axis represents one of these variables\n",
    "* the more similar the distributions of the variables are, the more looks the plot like the line formed by $x=y$\n",
    "* quantile plots underneath the line have lower $y$-variable values than $x$-variable values and vice versa\n",
    "* is oftentimes used to determine graphically, whether the data follows any known distribution like the normal distribution (by plotting these known distributions against the data)\n",
    "* take a look at these [typical qqplot results](https://stats.stackexchange.com/questions/101274/how-to-interpret-a-qq-plot) and the respective interpretations regarding [skewness and kurtosis](#tail)."
   ]
  },
  {
   "cell_type": "markdown",
   "metadata": {
    "papermill": {
     "duration": 0.09212,
     "end_time": "2023-05-25T13:55:02.119919",
     "exception": false,
     "start_time": "2023-05-25T13:55:02.027799",
     "status": "completed"
    },
    "tags": []
   },
   "source": [
    "<a href=\"#top\" class=\"btn btn-info btn-lg active\" role=\"button\" aria-pressed=\"true\" style=\"color:white\" data-toggle=\"popover\" title=\"go to Colors\">Go to Topics</a>"
   ]
  },
  {
   "cell_type": "markdown",
   "metadata": {
    "papermill": {
     "duration": 0.090246,
     "end_time": "2023-05-25T13:55:02.299691",
     "exception": false,
     "start_time": "2023-05-25T13:55:02.209445",
     "status": "completed"
    },
    "tags": []
   },
   "source": [
    "<a id=\"sec6\"></a>\n",
    "***\n",
    "<h1 style=\"background-color:DodgerBlue; color:white\" >-> 6. Further Readings & Helpful Videos</h1>\n",
    "\n",
    "I hope that you noticed, that I tried to add some resources for further readings. Maybe I already linked you to some of them, but I want to emphasize the importance of these sources for this notebook:\n",
    "\n",
    "https://www.youtube.com/watch?v=lUg0dRrlsoA\n",
    "\n",
    "https://www.youtube.com/watch?v=vsKNxbP8R_8\n",
    "\n",
    "https://www.youtube.com/watch?v=X4pWmkxEikM\n",
    "\n",
    "https://www.goodreads.com/book/show/45832399-feature-engineering-and-selection"
   ]
  },
  {
   "cell_type": "markdown",
   "metadata": {
    "papermill": {
     "duration": 0.093407,
     "end_time": "2023-05-25T13:55:02.487095",
     "exception": false,
     "start_time": "2023-05-25T13:55:02.393688",
     "status": "completed"
    },
    "tags": []
   },
   "source": [
    "\n",
    "<div class=\"alert alert-danger\" role=\"alert\">\n",
    "    <h3>Feel free to <span style=\"color:red\">comment</span> if you have any suggestions   |   motivate me with an <span style=\"color:red\">upvote</span> if you like this project.</h3>\n",
    "</div>"
   ]
  },
  {
   "cell_type": "markdown",
   "metadata": {
    "papermill": {
     "duration": 0.090764,
     "end_time": "2023-05-25T13:55:02.670905",
     "exception": false,
     "start_time": "2023-05-25T13:55:02.580141",
     "status": "completed"
    },
    "tags": []
   },
   "source": [
    "<a href=\"#top\" class=\"btn btn-info btn-lg active\" role=\"button\" aria-pressed=\"true\" style=\"color:white\" data-toggle=\"popover\" title=\"go to Colors\">Go to Topics</a>"
   ]
  }
 ],
 "metadata": {
  "kernelspec": {
   "display_name": "Python 3",
   "language": "python",
   "name": "python3"
  },
  "language_info": {
   "codemirror_mode": {
    "name": "ipython",
    "version": 3
   },
   "file_extension": ".py",
   "mimetype": "text/x-python",
   "name": "python",
   "nbconvert_exporter": "python",
   "pygments_lexer": "ipython3",
   "version": "3.7.6"
  },
  "papermill": {
   "duration": 28.732532,
   "end_time": "2023-05-25T13:55:02.869234",
   "environment_variables": {},
   "exception": null,
   "input_path": "__notebook__.ipynb",
   "output_path": "__notebook__.ipynb",
   "parameters": {},
   "start_time": "2023-05-25T13:54:34.136702",
   "version": "2.1.0"
  }
 },
 "nbformat": 4,
 "nbformat_minor": 4
}
