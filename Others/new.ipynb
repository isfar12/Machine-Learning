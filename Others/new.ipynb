{
 "cells": [
  {
   "cell_type": "code",
   "execution_count": 1,
   "metadata": {},
   "outputs": [],
   "source": [
    "import pandas as pd\n"
   ]
  },
  {
   "cell_type": "code",
   "execution_count": 2,
   "metadata": {},
   "outputs": [
    {
     "data": {
      "text/html": [
       "<div>\n",
       "<style scoped>\n",
       "    .dataframe tbody tr th:only-of-type {\n",
       "        vertical-align: middle;\n",
       "    }\n",
       "\n",
       "    .dataframe tbody tr th {\n",
       "        vertical-align: top;\n",
       "    }\n",
       "\n",
       "    .dataframe thead th {\n",
       "        text-align: right;\n",
       "    }\n",
       "</style>\n",
       "<table border=\"1\" class=\"dataframe\">\n",
       "  <thead>\n",
       "    <tr style=\"text-align: right;\">\n",
       "      <th></th>\n",
       "      <th>problem</th>\n",
       "      <th>solution</th>\n",
       "    </tr>\n",
       "  </thead>\n",
       "  <tbody>\n",
       "    <tr>\n",
       "      <th>0</th>\n",
       "      <td>5 জন ছাত্র 3টি খেলার প্রতিযোগিতায় অংশগ্রহণের ...</td>\n",
       "      <td>এই সমস্যা সমাধান করার জন্য, আমরা গুণন নিয়ম ব্...</td>\n",
       "    </tr>\n",
       "    <tr>\n",
       "      <th>1</th>\n",
       "      <td>ক্যাফেটেরিয়ায় 250টি আপেল ছিল। দুপুরের খাবারে, ...</td>\n",
       "      <td>ক্যাফেটেরিয়ায় 250টি আপেল ছিল। তারা ছাত্রদের 42...</td>\n",
       "    </tr>\n",
       "    <tr>\n",
       "      <th>2</th>\n",
       "      <td>একটি বর্গক্ষেত্র এবং একটি বৃত্তের ক্ষেত্রফলের ...</td>\n",
       "      <td>সমস্যাটি সমাধান করার জন্য, আমরা বর্গক্ষেত্র এব...</td>\n",
       "    </tr>\n",
       "    <tr>\n",
       "      <th>3</th>\n",
       "      <td>যদি $\\{a_{n}\\}$ সমান্তর ধারার সাধারণ অন্তর $d$...</td>\n",
       "      <td>এই সমস্যাটি মূলত সমান্তর ধারা, জ্যামিতিক ধারা ...</td>\n",
       "    </tr>\n",
       "    <tr>\n",
       "      <th>4</th>\n",
       "      <td>৫ ঘন ইয়ার্ড কত ঘন ফুট?</td>\n",
       "      <td>প্রথমে, ইয়ার্ড এবং ফুটের মধ্যে রূপান্তর অনুপাত...</td>\n",
       "    </tr>\n",
       "  </tbody>\n",
       "</table>\n",
       "</div>"
      ],
      "text/plain": [
       "                                             problem  \\\n",
       "0  5 জন ছাত্র 3টি খেলার প্রতিযোগিতায় অংশগ্রহণের ...   \n",
       "1  ক্যাফেটেরিয়ায় 250টি আপেল ছিল। দুপুরের খাবারে, ...   \n",
       "2  একটি বর্গক্ষেত্র এবং একটি বৃত্তের ক্ষেত্রফলের ...   \n",
       "3  যদি $\\{a_{n}\\}$ সমান্তর ধারার সাধারণ অন্তর $d$...   \n",
       "4                             ৫ ঘন ইয়ার্ড কত ঘন ফুট?   \n",
       "\n",
       "                                            solution  \n",
       "0  এই সমস্যা সমাধান করার জন্য, আমরা গুণন নিয়ম ব্...  \n",
       "1  ক্যাফেটেরিয়ায় 250টি আপেল ছিল। তারা ছাত্রদের 42...  \n",
       "2  সমস্যাটি সমাধান করার জন্য, আমরা বর্গক্ষেত্র এব...  \n",
       "3  এই সমস্যাটি মূলত সমান্তর ধারা, জ্যামিতিক ধারা ...  \n",
       "4  প্রথমে, ইয়ার্ড এবং ফুটের মধ্যে রূপান্তর অনুপাত...  "
      ]
     },
     "execution_count": 2,
     "metadata": {},
     "output_type": "execute_result"
    }
   ],
   "source": [
    "df=pd.read_csv(\"E:\\\\numina-math-cot-bn.csv\")\n",
    "df.head()"
   ]
  },
  {
   "cell_type": "code",
   "execution_count": null,
   "metadata": {},
   "outputs": [],
   "source": []
  }
 ],
 "metadata": {
  "kernelspec": {
   "display_name": "Python 3",
   "language": "python",
   "name": "python3"
  },
  "language_info": {
   "codemirror_mode": {
    "name": "ipython",
    "version": 3
   },
   "file_extension": ".py",
   "mimetype": "text/x-python",
   "name": "python",
   "nbconvert_exporter": "python",
   "pygments_lexer": "ipython3",
   "version": "3.11.8"
  }
 },
 "nbformat": 4,
 "nbformat_minor": 2
}
