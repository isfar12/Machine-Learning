{
 "cells": [
  {
   "cell_type": "code",
   "execution_count": 19,
   "id": "d3661ef5",
   "metadata": {},
   "outputs": [],
   "source": [
    "import numpy as np\n",
    "import pandas as pd\n",
    "import matplotlib.pyplot as plt\n",
    "import numpy as np\n",
    "import seaborn as sns"
   ]
  },
  {
   "cell_type": "code",
   "execution_count": 20,
   "id": "95369707",
   "metadata": {},
   "outputs": [
    {
     "data": {
      "text/html": [
       "<div>\n",
       "<style scoped>\n",
       "    .dataframe tbody tr th:only-of-type {\n",
       "        vertical-align: middle;\n",
       "    }\n",
       "\n",
       "    .dataframe tbody tr th {\n",
       "        vertical-align: top;\n",
       "    }\n",
       "\n",
       "    .dataframe thead th {\n",
       "        text-align: right;\n",
       "    }\n",
       "</style>\n",
       "<table border=\"1\" class=\"dataframe\">\n",
       "  <thead>\n",
       "    <tr style=\"text-align: right;\">\n",
       "      <th></th>\n",
       "      <th>date</th>\n",
       "      <th>co</th>\n",
       "      <th>no</th>\n",
       "      <th>no2</th>\n",
       "      <th>o3</th>\n",
       "      <th>so2</th>\n",
       "      <th>pm2_5</th>\n",
       "      <th>pm10</th>\n",
       "      <th>nh3</th>\n",
       "    </tr>\n",
       "  </thead>\n",
       "  <tbody>\n",
       "    <tr>\n",
       "      <th>0</th>\n",
       "      <td>2020-11-25 01:00:00</td>\n",
       "      <td>2616.88</td>\n",
       "      <td>2.18</td>\n",
       "      <td>70.60</td>\n",
       "      <td>13.59</td>\n",
       "      <td>38.62</td>\n",
       "      <td>364.61</td>\n",
       "      <td>411.73</td>\n",
       "      <td>28.63</td>\n",
       "    </tr>\n",
       "    <tr>\n",
       "      <th>1</th>\n",
       "      <td>2020-11-25 02:00:00</td>\n",
       "      <td>3631.59</td>\n",
       "      <td>23.25</td>\n",
       "      <td>89.11</td>\n",
       "      <td>0.33</td>\n",
       "      <td>54.36</td>\n",
       "      <td>420.96</td>\n",
       "      <td>486.21</td>\n",
       "      <td>41.04</td>\n",
       "    </tr>\n",
       "    <tr>\n",
       "      <th>2</th>\n",
       "      <td>2020-11-25 03:00:00</td>\n",
       "      <td>4539.49</td>\n",
       "      <td>52.75</td>\n",
       "      <td>100.08</td>\n",
       "      <td>1.11</td>\n",
       "      <td>68.67</td>\n",
       "      <td>463.68</td>\n",
       "      <td>541.95</td>\n",
       "      <td>49.14</td>\n",
       "    </tr>\n",
       "    <tr>\n",
       "      <th>3</th>\n",
       "      <td>2020-11-25 04:00:00</td>\n",
       "      <td>4539.49</td>\n",
       "      <td>50.96</td>\n",
       "      <td>111.04</td>\n",
       "      <td>6.44</td>\n",
       "      <td>78.20</td>\n",
       "      <td>454.81</td>\n",
       "      <td>534.00</td>\n",
       "      <td>48.13</td>\n",
       "    </tr>\n",
       "    <tr>\n",
       "      <th>4</th>\n",
       "      <td>2020-11-25 05:00:00</td>\n",
       "      <td>4379.27</td>\n",
       "      <td>42.92</td>\n",
       "      <td>117.90</td>\n",
       "      <td>17.17</td>\n",
       "      <td>87.74</td>\n",
       "      <td>448.14</td>\n",
       "      <td>529.19</td>\n",
       "      <td>46.61</td>\n",
       "    </tr>\n",
       "  </tbody>\n",
       "</table>\n",
       "</div>"
      ],
      "text/plain": [
       "                  date       co     no     no2     o3    so2   pm2_5    pm10  \\\n",
       "0  2020-11-25 01:00:00  2616.88   2.18   70.60  13.59  38.62  364.61  411.73   \n",
       "1  2020-11-25 02:00:00  3631.59  23.25   89.11   0.33  54.36  420.96  486.21   \n",
       "2  2020-11-25 03:00:00  4539.49  52.75  100.08   1.11  68.67  463.68  541.95   \n",
       "3  2020-11-25 04:00:00  4539.49  50.96  111.04   6.44  78.20  454.81  534.00   \n",
       "4  2020-11-25 05:00:00  4379.27  42.92  117.90  17.17  87.74  448.14  529.19   \n",
       "\n",
       "     nh3  \n",
       "0  28.63  \n",
       "1  41.04  \n",
       "2  49.14  \n",
       "3  48.13  \n",
       "4  46.61  "
      ]
     },
     "execution_count": 20,
     "metadata": {},
     "output_type": "execute_result"
    }
   ],
   "source": [
    "df=pd.read_csv(\"../Dataset/delhi_aqi.csv\")\n",
    "df.head()"
   ]
  },
  {
   "cell_type": "code",
   "execution_count": 21,
   "id": "d1e0c8b0",
   "metadata": {},
   "outputs": [
    {
     "data": {
      "text/plain": [
       "date      object\n",
       "co       float64\n",
       "no       float64\n",
       "no2      float64\n",
       "o3       float64\n",
       "so2      float64\n",
       "pm2_5    float64\n",
       "pm10     float64\n",
       "nh3      float64\n",
       "dtype: object"
      ]
     },
     "execution_count": 21,
     "metadata": {},
     "output_type": "execute_result"
    }
   ],
   "source": [
    "df.dtypes"
   ]
  },
  {
   "cell_type": "code",
   "execution_count": 22,
   "id": "3d831232",
   "metadata": {},
   "outputs": [
    {
     "data": {
      "text/plain": [
       "(18776, 9)"
      ]
     },
     "execution_count": 22,
     "metadata": {},
     "output_type": "execute_result"
    }
   ],
   "source": [
    "df.shape"
   ]
  },
  {
   "cell_type": "code",
   "execution_count": 23,
   "id": "05a70368",
   "metadata": {},
   "outputs": [],
   "source": [
    "df[\"date\"]=pd.to_datetime(df[\"date\"])"
   ]
  },
  {
   "cell_type": "code",
   "execution_count": null,
   "id": "27193e8b",
   "metadata": {},
   "outputs": [],
   "source": [
    "df[\"year\"]=df[\"date\"].dt.year\n",
    "df[\"month\"]=df[\"date\"].dt.month\n",
    "df[\"day\"]=df[\"date\"].dt.day\n",
    "df[\"hour\"]=df[\"date\"].dt.hour\n"
   ]
  },
  {
   "cell_type": "code",
   "execution_count": 26,
   "id": "a12252a7",
   "metadata": {},
   "outputs": [
    {
     "data": {
      "text/html": [
       "<div>\n",
       "<style scoped>\n",
       "    .dataframe tbody tr th:only-of-type {\n",
       "        vertical-align: middle;\n",
       "    }\n",
       "\n",
       "    .dataframe tbody tr th {\n",
       "        vertical-align: top;\n",
       "    }\n",
       "\n",
       "    .dataframe thead th {\n",
       "        text-align: right;\n",
       "    }\n",
       "</style>\n",
       "<table border=\"1\" class=\"dataframe\">\n",
       "  <thead>\n",
       "    <tr style=\"text-align: right;\">\n",
       "      <th></th>\n",
       "      <th>date</th>\n",
       "      <th>co</th>\n",
       "      <th>no</th>\n",
       "      <th>no2</th>\n",
       "      <th>o3</th>\n",
       "      <th>so2</th>\n",
       "      <th>pm2_5</th>\n",
       "      <th>pm10</th>\n",
       "      <th>nh3</th>\n",
       "      <th>year</th>\n",
       "      <th>month</th>\n",
       "      <th>day</th>\n",
       "      <th>hour</th>\n",
       "    </tr>\n",
       "  </thead>\n",
       "  <tbody>\n",
       "    <tr>\n",
       "      <th>0</th>\n",
       "      <td>2020-11-25 01:00:00</td>\n",
       "      <td>2616.88</td>\n",
       "      <td>2.18</td>\n",
       "      <td>70.60</td>\n",
       "      <td>13.59</td>\n",
       "      <td>38.62</td>\n",
       "      <td>364.61</td>\n",
       "      <td>411.73</td>\n",
       "      <td>28.63</td>\n",
       "      <td>2020</td>\n",
       "      <td>11</td>\n",
       "      <td>25</td>\n",
       "      <td>1</td>\n",
       "    </tr>\n",
       "    <tr>\n",
       "      <th>1</th>\n",
       "      <td>2020-11-25 02:00:00</td>\n",
       "      <td>3631.59</td>\n",
       "      <td>23.25</td>\n",
       "      <td>89.11</td>\n",
       "      <td>0.33</td>\n",
       "      <td>54.36</td>\n",
       "      <td>420.96</td>\n",
       "      <td>486.21</td>\n",
       "      <td>41.04</td>\n",
       "      <td>2020</td>\n",
       "      <td>11</td>\n",
       "      <td>25</td>\n",
       "      <td>2</td>\n",
       "    </tr>\n",
       "    <tr>\n",
       "      <th>2</th>\n",
       "      <td>2020-11-25 03:00:00</td>\n",
       "      <td>4539.49</td>\n",
       "      <td>52.75</td>\n",
       "      <td>100.08</td>\n",
       "      <td>1.11</td>\n",
       "      <td>68.67</td>\n",
       "      <td>463.68</td>\n",
       "      <td>541.95</td>\n",
       "      <td>49.14</td>\n",
       "      <td>2020</td>\n",
       "      <td>11</td>\n",
       "      <td>25</td>\n",
       "      <td>3</td>\n",
       "    </tr>\n",
       "    <tr>\n",
       "      <th>3</th>\n",
       "      <td>2020-11-25 04:00:00</td>\n",
       "      <td>4539.49</td>\n",
       "      <td>50.96</td>\n",
       "      <td>111.04</td>\n",
       "      <td>6.44</td>\n",
       "      <td>78.20</td>\n",
       "      <td>454.81</td>\n",
       "      <td>534.00</td>\n",
       "      <td>48.13</td>\n",
       "      <td>2020</td>\n",
       "      <td>11</td>\n",
       "      <td>25</td>\n",
       "      <td>4</td>\n",
       "    </tr>\n",
       "    <tr>\n",
       "      <th>4</th>\n",
       "      <td>2020-11-25 05:00:00</td>\n",
       "      <td>4379.27</td>\n",
       "      <td>42.92</td>\n",
       "      <td>117.90</td>\n",
       "      <td>17.17</td>\n",
       "      <td>87.74</td>\n",
       "      <td>448.14</td>\n",
       "      <td>529.19</td>\n",
       "      <td>46.61</td>\n",
       "      <td>2020</td>\n",
       "      <td>11</td>\n",
       "      <td>25</td>\n",
       "      <td>5</td>\n",
       "    </tr>\n",
       "  </tbody>\n",
       "</table>\n",
       "</div>"
      ],
      "text/plain": [
       "                 date       co     no     no2     o3    so2   pm2_5    pm10  \\\n",
       "0 2020-11-25 01:00:00  2616.88   2.18   70.60  13.59  38.62  364.61  411.73   \n",
       "1 2020-11-25 02:00:00  3631.59  23.25   89.11   0.33  54.36  420.96  486.21   \n",
       "2 2020-11-25 03:00:00  4539.49  52.75  100.08   1.11  68.67  463.68  541.95   \n",
       "3 2020-11-25 04:00:00  4539.49  50.96  111.04   6.44  78.20  454.81  534.00   \n",
       "4 2020-11-25 05:00:00  4379.27  42.92  117.90  17.17  87.74  448.14  529.19   \n",
       "\n",
       "     nh3  year  month  day  hour  \n",
       "0  28.63  2020     11   25     1  \n",
       "1  41.04  2020     11   25     2  \n",
       "2  49.14  2020     11   25     3  \n",
       "3  48.13  2020     11   25     4  \n",
       "4  46.61  2020     11   25     5  "
      ]
     },
     "execution_count": 26,
     "metadata": {},
     "output_type": "execute_result"
    }
   ],
   "source": [
    "df.head()"
   ]
  },
  {
   "cell_type": "code",
   "execution_count": null,
   "id": "6db213cb",
   "metadata": {},
   "outputs": [],
   "source": []
  },
  {
   "cell_type": "code",
   "execution_count": null,
   "id": "c33b2905",
   "metadata": {},
   "outputs": [],
   "source": []
  },
  {
   "cell_type": "markdown",
   "id": "8ac882d6",
   "metadata": {},
   "source": []
  }
 ],
 "metadata": {
  "kernelspec": {
   "display_name": "Python 3",
   "language": "python",
   "name": "python3"
  },
  "language_info": {
   "codemirror_mode": {
    "name": "ipython",
    "version": 3
   },
   "file_extension": ".py",
   "mimetype": "text/x-python",
   "name": "python",
   "nbconvert_exporter": "python",
   "pygments_lexer": "ipython3",
   "version": "3.11.8"
  }
 },
 "nbformat": 4,
 "nbformat_minor": 5
}
