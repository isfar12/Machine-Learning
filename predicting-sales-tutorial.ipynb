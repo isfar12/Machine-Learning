{
 "cells": [
  {
   "cell_type": "code",
   "execution_count": 1,
   "metadata": {
    "_cell_guid": "b1076dfc-b9ad-4769-8c92-a6c4dae69d19",
    "_uuid": "8f2839f25d086af736a60e9eeb907d3b93b6e0e5"
   },
   "outputs": [
    {
     "name": "stdout",
     "output_type": "stream",
     "text": [
      "['shops.csv', 'item_categories.csv', 'sales_train.csv', 'items.csv', 'sample_submission.csv', 'test.csv']\n"
     ]
    }
   ],
   "source": [
    "# This Python 3 environment comes with many helpful analytics libraries installed\n",
    "# It is defined by the kaggle/python docker image: https://github.com/kaggle/docker-python\n",
    "# For example, here's several helpful packages to load in \n",
    "\n",
    "import numpy as np # linear algebra\n",
    "import pandas as pd # data processing, CSV file I/O (e.g. pd.read_csv)\n",
    "import matplotlib.pyplot as plt\n",
    "import seaborn as sns \n",
    "import altair as alt \n",
    "\n",
    "# Input data files are available in the \"../input/\" directory.\n",
    "# For example, running this (by clicking run or pressing Shift+Enter) will list the files in the input directory\n",
    "\n",
    "import os\n",
    "print(os.listdir(\"../input\"))\n",
    "\n",
    "# Any results you write to the current directory are saved as output."
   ]
  },
  {
   "cell_type": "markdown",
   "metadata": {},
   "source": [
    "# Reading Data"
   ]
  },
  {
   "cell_type": "code",
   "execution_count": 2,
   "metadata": {
    "_cell_guid": "79c7e3d0-c299-4dcb-8224-4455121ee9b0",
    "_uuid": "d629ff2d2480ee46fbb7e2d37f6b5fab8052498a"
   },
   "outputs": [],
   "source": [
    "train = pd.read_csv('../input/sales_train.csv')\n",
    "items = pd.read_csv('../input/items.csv')\n",
    "categories = pd.read_csv('../input/item_categories.csv')\n",
    "shops = pd.read_csv('../input/shops.csv')\n",
    "test = pd.read_csv('../input/test.csv')\n",
    "submission = pd.read_csv('../input/sample_submission.csv')"
   ]
  },
  {
   "cell_type": "code",
   "execution_count": 3,
   "metadata": {
    "_kg_hide-input": false,
    "_uuid": "787102b803e8f9831ad6ab819683b04ccbd5dc95"
   },
   "outputs": [
    {
     "data": {
      "text/html": [
       "<div>\n",
       "<style scoped>\n",
       "    .dataframe tbody tr th:only-of-type {\n",
       "        vertical-align: middle;\n",
       "    }\n",
       "\n",
       "    .dataframe tbody tr th {\n",
       "        vertical-align: top;\n",
       "    }\n",
       "\n",
       "    .dataframe thead th {\n",
       "        text-align: right;\n",
       "    }\n",
       "</style>\n",
       "<table border=\"1\" class=\"dataframe\">\n",
       "  <thead>\n",
       "    <tr style=\"text-align: right;\">\n",
       "      <th></th>\n",
       "      <th>date</th>\n",
       "      <th>date_block_num</th>\n",
       "      <th>shop_id</th>\n",
       "      <th>item_id</th>\n",
       "      <th>item_price</th>\n",
       "      <th>item_cnt_day</th>\n",
       "    </tr>\n",
       "  </thead>\n",
       "  <tbody>\n",
       "    <tr>\n",
       "      <th>0</th>\n",
       "      <td>02.01.2013</td>\n",
       "      <td>0</td>\n",
       "      <td>59</td>\n",
       "      <td>22154</td>\n",
       "      <td>999.00</td>\n",
       "      <td>1.0</td>\n",
       "    </tr>\n",
       "    <tr>\n",
       "      <th>1</th>\n",
       "      <td>03.01.2013</td>\n",
       "      <td>0</td>\n",
       "      <td>25</td>\n",
       "      <td>2552</td>\n",
       "      <td>899.00</td>\n",
       "      <td>1.0</td>\n",
       "    </tr>\n",
       "    <tr>\n",
       "      <th>2</th>\n",
       "      <td>05.01.2013</td>\n",
       "      <td>0</td>\n",
       "      <td>25</td>\n",
       "      <td>2552</td>\n",
       "      <td>899.00</td>\n",
       "      <td>-1.0</td>\n",
       "    </tr>\n",
       "    <tr>\n",
       "      <th>3</th>\n",
       "      <td>06.01.2013</td>\n",
       "      <td>0</td>\n",
       "      <td>25</td>\n",
       "      <td>2554</td>\n",
       "      <td>1709.05</td>\n",
       "      <td>1.0</td>\n",
       "    </tr>\n",
       "    <tr>\n",
       "      <th>4</th>\n",
       "      <td>15.01.2013</td>\n",
       "      <td>0</td>\n",
       "      <td>25</td>\n",
       "      <td>2555</td>\n",
       "      <td>1099.00</td>\n",
       "      <td>1.0</td>\n",
       "    </tr>\n",
       "  </tbody>\n",
       "</table>\n",
       "</div>"
      ],
      "text/plain": [
       "         date  date_block_num      ...       item_price  item_cnt_day\n",
       "0  02.01.2013               0      ...           999.00           1.0\n",
       "1  03.01.2013               0      ...           899.00           1.0\n",
       "2  05.01.2013               0      ...           899.00          -1.0\n",
       "3  06.01.2013               0      ...          1709.05           1.0\n",
       "4  15.01.2013               0      ...          1099.00           1.0\n",
       "\n",
       "[5 rows x 6 columns]"
      ]
     },
     "execution_count": 3,
     "metadata": {},
     "output_type": "execute_result"
    }
   ],
   "source": [
    "train.head()"
   ]
  },
  {
   "cell_type": "code",
   "execution_count": 4,
   "metadata": {},
   "outputs": [
    {
     "data": {
      "text/plain": [
       "(2935849, 6)"
      ]
     },
     "execution_count": 4,
     "metadata": {},
     "output_type": "execute_result"
    }
   ],
   "source": [
    "train.shape"
   ]
  },
  {
   "cell_type": "code",
   "execution_count": 5,
   "metadata": {},
   "outputs": [
    {
     "data": {
      "text/html": [
       "<div>\n",
       "<style scoped>\n",
       "    .dataframe tbody tr th:only-of-type {\n",
       "        vertical-align: middle;\n",
       "    }\n",
       "\n",
       "    .dataframe tbody tr th {\n",
       "        vertical-align: top;\n",
       "    }\n",
       "\n",
       "    .dataframe thead th {\n",
       "        text-align: right;\n",
       "    }\n",
       "</style>\n",
       "<table border=\"1\" class=\"dataframe\">\n",
       "  <thead>\n",
       "    <tr style=\"text-align: right;\">\n",
       "      <th></th>\n",
       "      <th>ID</th>\n",
       "      <th>shop_id</th>\n",
       "      <th>item_id</th>\n",
       "    </tr>\n",
       "  </thead>\n",
       "  <tbody>\n",
       "    <tr>\n",
       "      <th>0</th>\n",
       "      <td>0</td>\n",
       "      <td>5</td>\n",
       "      <td>5037</td>\n",
       "    </tr>\n",
       "    <tr>\n",
       "      <th>1</th>\n",
       "      <td>1</td>\n",
       "      <td>5</td>\n",
       "      <td>5320</td>\n",
       "    </tr>\n",
       "    <tr>\n",
       "      <th>2</th>\n",
       "      <td>2</td>\n",
       "      <td>5</td>\n",
       "      <td>5233</td>\n",
       "    </tr>\n",
       "    <tr>\n",
       "      <th>3</th>\n",
       "      <td>3</td>\n",
       "      <td>5</td>\n",
       "      <td>5232</td>\n",
       "    </tr>\n",
       "    <tr>\n",
       "      <th>4</th>\n",
       "      <td>4</td>\n",
       "      <td>5</td>\n",
       "      <td>5268</td>\n",
       "    </tr>\n",
       "  </tbody>\n",
       "</table>\n",
       "</div>"
      ],
      "text/plain": [
       "   ID  shop_id  item_id\n",
       "0   0        5     5037\n",
       "1   1        5     5320\n",
       "2   2        5     5233\n",
       "3   3        5     5232\n",
       "4   4        5     5268"
      ]
     },
     "execution_count": 5,
     "metadata": {},
     "output_type": "execute_result"
    }
   ],
   "source": [
    "test.head()"
   ]
  },
  {
   "cell_type": "code",
   "execution_count": 6,
   "metadata": {},
   "outputs": [
    {
     "data": {
      "text/plain": [
       "(214200, 3)"
      ]
     },
     "execution_count": 6,
     "metadata": {},
     "output_type": "execute_result"
    }
   ],
   "source": [
    "test.shape"
   ]
  },
  {
   "cell_type": "code",
   "execution_count": 7,
   "metadata": {},
   "outputs": [
    {
     "data": {
      "text/html": [
       "<div>\n",
       "<style scoped>\n",
       "    .dataframe tbody tr th:only-of-type {\n",
       "        vertical-align: middle;\n",
       "    }\n",
       "\n",
       "    .dataframe tbody tr th {\n",
       "        vertical-align: top;\n",
       "    }\n",
       "\n",
       "    .dataframe thead th {\n",
       "        text-align: right;\n",
       "    }\n",
       "</style>\n",
       "<table border=\"1\" class=\"dataframe\">\n",
       "  <thead>\n",
       "    <tr style=\"text-align: right;\">\n",
       "      <th></th>\n",
       "      <th>ID</th>\n",
       "      <th>item_cnt_month</th>\n",
       "    </tr>\n",
       "  </thead>\n",
       "  <tbody>\n",
       "    <tr>\n",
       "      <th>0</th>\n",
       "      <td>0</td>\n",
       "      <td>0.5</td>\n",
       "    </tr>\n",
       "    <tr>\n",
       "      <th>1</th>\n",
       "      <td>1</td>\n",
       "      <td>0.5</td>\n",
       "    </tr>\n",
       "    <tr>\n",
       "      <th>2</th>\n",
       "      <td>2</td>\n",
       "      <td>0.5</td>\n",
       "    </tr>\n",
       "    <tr>\n",
       "      <th>3</th>\n",
       "      <td>3</td>\n",
       "      <td>0.5</td>\n",
       "    </tr>\n",
       "    <tr>\n",
       "      <th>4</th>\n",
       "      <td>4</td>\n",
       "      <td>0.5</td>\n",
       "    </tr>\n",
       "  </tbody>\n",
       "</table>\n",
       "</div>"
      ],
      "text/plain": [
       "   ID  item_cnt_month\n",
       "0   0             0.5\n",
       "1   1             0.5\n",
       "2   2             0.5\n",
       "3   3             0.5\n",
       "4   4             0.5"
      ]
     },
     "execution_count": 7,
     "metadata": {},
     "output_type": "execute_result"
    }
   ],
   "source": [
    "submission.head()"
   ]
  },
  {
   "cell_type": "markdown",
   "metadata": {},
   "source": [
    "As we can see, the test set is different in size and structure when compared to the training set. We have the features 'shop_id' and 'item_id' in the test set, which are present in the trianing set as well. Each observation in the test set has an ID associated with it. If we look at our submission file, we need to submit the monthly count (item_cnt_month) for that particular ID. This means we need to predict a number for the monthly sale quantity of a particular item at a particular shop."
   ]
  },
  {
   "cell_type": "markdown",
   "metadata": {},
   "source": [
    "# EDA"
   ]
  },
  {
   "cell_type": "markdown",
   "metadata": {},
   "source": [
    "Let's look at the distribution of the training and test set to understand our dataset better and check for overlap, or lack thereof."
   ]
  },
  {
   "cell_type": "code",
   "execution_count": 8,
   "metadata": {},
   "outputs": [
    {
     "data": {
      "image/png": "[encoded data removed]",
      "text/plain": [
       "<Figure size 1296x648 with 5 Axes>"
      ]
     },
     "metadata": {},
     "output_type": "display_data"
    }
   ],
   "source": [
    "fig = plt.figure(figsize=(18,9))\n",
    "plt.subplots_adjust(hspace=.5)\n",
    "\n",
    "plt.subplot2grid((3,3), (0,0), colspan = 3)\n",
    "train['shop_id'].value_counts(normalize=True).plot(kind='bar', alpha=0.7)\n",
    "plt.title('Shop ID Values in the Training Set (Normalized)')\n",
    "\n",
    "plt.subplot2grid((3,3), (1,0))\n",
    "train['item_id'].plot(kind='hist', alpha=0.7)\n",
    "plt.title('Item ID Histogram')\n",
    "\n",
    "plt.subplot2grid((3,3), (1,1))\n",
    "train['item_price'].plot(kind='hist', alpha=0.7, color='orange')\n",
    "plt.title('Item Price Histogram')\n",
    "\n",
    "plt.subplot2grid((3,3), (1,2))\n",
    "train['item_cnt_day'].plot(kind='hist', alpha=0.7, color='green')\n",
    "plt.title('Item Count Day Histogram')\n",
    "\n",
    "plt.subplot2grid((3,3), (2,0), colspan = 3)\n",
    "train['date_block_num'].value_counts(normalize=True).plot(kind='bar', alpha=0.7)\n",
    "plt.title('Month (date_block_num) Values in the Training Set (Normalized)')\n",
    "\n",
    "plt.show()"
   ]
  },
  {
   "cell_type": "markdown",
   "metadata": {},
   "source": [
    "The above graphs are a nice way to look at the raw distribtion of the test dataset. Here are some observations:\n",
    "\n",
    "1. We have 60 'shop_id's but there is an uneven distribtution of these in the dataset. Four (<7%) of these shops make up ~25 percent of this dataset. These are shops (31, 25, 54, 28).\n",
    "\n",
    "\n",
    "2. The Item IDs seem to have variations in frequency. We can't attribute a reason to this yet but we can inspect this further. Certain cateogeries are bound to sell better and maybe items under the same category are closer to each other as far as their ID distributions are concerned\n",
    "\n",
    "\n",
    "3. From the vast empty spaces in the histograms of 'item_price' and 'item_cnt_day', we can infer that there are outliers in their distribution. **Let's write some simple code below to put a value to these outliers.**\n",
    "\n",
    "\n",
    "4. Plotting the individual months from January 2013 to October 2015, it is interesting to see that the block month 12, corresponding to December 2013, had the highest number of sales. Month 23, which corresponds to December 2014, had the second highest number of sales. Shortly, we will use some better graphs to observe the monthly sale trends."
   ]
  },
  {
   "cell_type": "markdown",
   "metadata": {},
   "source": [
    "## Dealing with Outliers"
   ]
  },
  {
   "cell_type": "code",
   "execution_count": 9,
   "metadata": {},
   "outputs": [
    {
     "data": {
      "text/plain": [
       "20949    31340\n",
       "5822      9408\n",
       "17717     9067\n",
       "2808      7479\n",
       "4181      6853\n",
       "Name: item_id, dtype: int64"
      ]
     },
     "execution_count": 9,
     "metadata": {},
     "output_type": "execute_result"
    }
   ],
   "source": [
    "train['item_id'].value_counts(ascending=False)[:5]"
   ]
  },
  {
   "cell_type": "markdown",
   "metadata": {},
   "source": [
    "Having a look at the item id 20949 that has been sold the most number of times, it is a plastic bag!"
   ]
  },
  {
   "cell_type": "code",
   "execution_count": 10,
   "metadata": {},
   "outputs": [
    {
     "data": {
      "text/html": [
       "<div>\n",
       "<style scoped>\n",
       "    .dataframe tbody tr th:only-of-type {\n",
       "        vertical-align: middle;\n",
       "    }\n",
       "\n",
       "    .dataframe tbody tr th {\n",
       "        vertical-align: top;\n",
       "    }\n",
       "\n",
       "    .dataframe thead th {\n",
       "        text-align: right;\n",
       "    }\n",
       "</style>\n",
       "<table border=\"1\" class=\"dataframe\">\n",
       "  <thead>\n",
       "    <tr style=\"text-align: right;\">\n",
       "      <th></th>\n",
       "      <th>item_name</th>\n",
       "      <th>item_id</th>\n",
       "      <th>item_category_id</th>\n",
       "    </tr>\n",
       "  </thead>\n",
       "  <tbody>\n",
       "    <tr>\n",
       "      <th>20949</th>\n",
       "      <td>Фирменный пакет майка 1С Интерес белый (34*42)...</td>\n",
       "      <td>20949</td>\n",
       "      <td>71</td>\n",
       "    </tr>\n",
       "  </tbody>\n",
       "</table>\n",
       "</div>"
      ],
      "text/plain": [
       "                                               item_name        ...         item_category_id\n",
       "20949  Фирменный пакет майка 1С Интерес белый (34*42)...        ...                       71\n",
       "\n",
       "[1 rows x 3 columns]"
      ]
     },
     "execution_count": 10,
     "metadata": {},
     "output_type": "execute_result"
    }
   ],
   "source": [
    "items.loc[items['item_id']==20949]"
   ]
  },
  {
   "cell_type": "code",
   "execution_count": 11,
   "metadata": {},
   "outputs": [
    {
     "data": {
      "text/html": [
       "<div>\n",
       "<style scoped>\n",
       "    .dataframe tbody tr th:only-of-type {\n",
       "        vertical-align: middle;\n",
       "    }\n",
       "\n",
       "    .dataframe tbody tr th {\n",
       "        vertical-align: top;\n",
       "    }\n",
       "\n",
       "    .dataframe thead th {\n",
       "        text-align: right;\n",
       "    }\n",
       "</style>\n",
       "<table border=\"1\" class=\"dataframe\">\n",
       "  <thead>\n",
       "    <tr style=\"text-align: right;\">\n",
       "      <th></th>\n",
       "      <th>item_category_name</th>\n",
       "      <th>item_category_id</th>\n",
       "    </tr>\n",
       "  </thead>\n",
       "  <tbody>\n",
       "    <tr>\n",
       "      <th>71</th>\n",
       "      <td>Подарки - Сумки, Альбомы, Коврики д/мыши</td>\n",
       "      <td>71</td>\n",
       "    </tr>\n",
       "  </tbody>\n",
       "</table>\n",
       "</div>"
      ],
      "text/plain": [
       "                          item_category_name  item_category_id\n",
       "71  Подарки - Сумки, Альбомы, Коврики д/мыши                71"
      ]
     },
     "execution_count": 11,
     "metadata": {},
     "output_type": "execute_result"
    }
   ],
   "source": [
    "categories.loc[categories['item_category_id']==71]"
   ]
  },
  {
   "cell_type": "code",
   "execution_count": 12,
   "metadata": {},
   "outputs": [
    {
     "data": {
      "text/html": [
       "<div>\n",
       "<style scoped>\n",
       "    .dataframe tbody tr th:only-of-type {\n",
       "        vertical-align: middle;\n",
       "    }\n",
       "\n",
       "    .dataframe tbody tr th {\n",
       "        vertical-align: top;\n",
       "    }\n",
       "\n",
       "    .dataframe thead th {\n",
       "        text-align: right;\n",
       "    }\n",
       "</style>\n",
       "<table border=\"1\" class=\"dataframe\">\n",
       "  <thead>\n",
       "    <tr style=\"text-align: right;\">\n",
       "      <th></th>\n",
       "      <th>ID</th>\n",
       "      <th>shop_id</th>\n",
       "      <th>item_id</th>\n",
       "    </tr>\n",
       "  </thead>\n",
       "  <tbody>\n",
       "    <tr>\n",
       "      <th>460</th>\n",
       "      <td>460</td>\n",
       "      <td>5</td>\n",
       "      <td>20949</td>\n",
       "    </tr>\n",
       "    <tr>\n",
       "      <th>5560</th>\n",
       "      <td>5560</td>\n",
       "      <td>4</td>\n",
       "      <td>20949</td>\n",
       "    </tr>\n",
       "    <tr>\n",
       "      <th>10660</th>\n",
       "      <td>10660</td>\n",
       "      <td>6</td>\n",
       "      <td>20949</td>\n",
       "    </tr>\n",
       "    <tr>\n",
       "      <th>15760</th>\n",
       "      <td>15760</td>\n",
       "      <td>3</td>\n",
       "      <td>20949</td>\n",
       "    </tr>\n",
       "    <tr>\n",
       "      <th>20860</th>\n",
       "      <td>20860</td>\n",
       "      <td>2</td>\n",
       "      <td>20949</td>\n",
       "    </tr>\n",
       "  </tbody>\n",
       "</table>\n",
       "</div>"
      ],
      "text/plain": [
       "          ID  shop_id  item_id\n",
       "460      460        5    20949\n",
       "5560    5560        4    20949\n",
       "10660  10660        6    20949\n",
       "15760  15760        3    20949\n",
       "20860  20860        2    20949"
      ]
     },
     "execution_count": 12,
     "metadata": {},
     "output_type": "execute_result"
    }
   ],
   "source": [
    "test.loc[test['item_id']==20949].head(5)"
   ]
  },
  {
   "cell_type": "markdown",
   "metadata": {},
   "source": [
    "And just to satisfy my curiosity bowels, there is only one item under item category 71 and it is indeed present in the test set!"
   ]
  },
  {
   "cell_type": "code",
   "execution_count": 13,
   "metadata": {},
   "outputs": [
    {
     "data": {
      "text/plain": [
       "2909818    2169.0\n",
       "2326930    1000.0\n",
       "2864235     669.0\n",
       "2851091     637.0\n",
       "2608040     624.0\n",
       "Name: item_cnt_day, dtype: float64"
      ]
     },
     "execution_count": 13,
     "metadata": {},
     "output_type": "execute_result"
    }
   ],
   "source": [
    "train['item_cnt_day'].sort_values(ascending=False)[:5]"
   ]
  },
  {
   "cell_type": "code",
   "execution_count": 14,
   "metadata": {},
   "outputs": [
    {
     "data": {
      "text/html": [
       "<div>\n",
       "<style scoped>\n",
       "    .dataframe tbody tr th:only-of-type {\n",
       "        vertical-align: middle;\n",
       "    }\n",
       "\n",
       "    .dataframe tbody tr th {\n",
       "        vertical-align: top;\n",
       "    }\n",
       "\n",
       "    .dataframe thead th {\n",
       "        text-align: right;\n",
       "    }\n",
       "</style>\n",
       "<table border=\"1\" class=\"dataframe\">\n",
       "  <thead>\n",
       "    <tr style=\"text-align: right;\">\n",
       "      <th></th>\n",
       "      <th>date</th>\n",
       "      <th>date_block_num</th>\n",
       "      <th>shop_id</th>\n",
       "      <th>item_id</th>\n",
       "      <th>item_price</th>\n",
       "      <th>item_cnt_day</th>\n",
       "    </tr>\n",
       "  </thead>\n",
       "  <tbody>\n",
       "    <tr>\n",
       "      <th>2909818</th>\n",
       "      <td>28.10.2015</td>\n",
       "      <td>33</td>\n",
       "      <td>12</td>\n",
       "      <td>11373</td>\n",
       "      <td>0.908714</td>\n",
       "      <td>2169.0</td>\n",
       "    </tr>\n",
       "  </tbody>\n",
       "</table>\n",
       "</div>"
      ],
      "text/plain": [
       "               date  date_block_num      ...       item_price  item_cnt_day\n",
       "2909818  28.10.2015              33      ...         0.908714        2169.0\n",
       "\n",
       "[1 rows x 6 columns]"
      ]
     },
     "execution_count": 14,
     "metadata": {},
     "output_type": "execute_result"
    }
   ],
   "source": [
    "train[train['item_cnt_day'] == 2169]"
   ]
  },
  {
   "cell_type": "markdown",
   "metadata": {},
   "source": [
    "So item 11373 was sold 2169 times at shop 12 on a single day in October. Let's inspect this outlier a bit more."
   ]
  },
  {
   "cell_type": "code",
   "execution_count": 15,
   "metadata": {},
   "outputs": [
    {
     "data": {
      "text/html": [
       "<div>\n",
       "<style scoped>\n",
       "    .dataframe tbody tr th:only-of-type {\n",
       "        vertical-align: middle;\n",
       "    }\n",
       "\n",
       "    .dataframe tbody tr th {\n",
       "        vertical-align: top;\n",
       "    }\n",
       "\n",
       "    .dataframe thead th {\n",
       "        text-align: right;\n",
       "    }\n",
       "</style>\n",
       "<table border=\"1\" class=\"dataframe\">\n",
       "  <thead>\n",
       "    <tr style=\"text-align: right;\">\n",
       "      <th></th>\n",
       "      <th>item_name</th>\n",
       "      <th>item_id</th>\n",
       "      <th>item_category_id</th>\n",
       "    </tr>\n",
       "  </thead>\n",
       "  <tbody>\n",
       "    <tr>\n",
       "      <th>11373</th>\n",
       "      <td>Доставка до пункта выдачи (Boxberry)</td>\n",
       "      <td>11373</td>\n",
       "      <td>9</td>\n",
       "    </tr>\n",
       "  </tbody>\n",
       "</table>\n",
       "</div>"
      ],
      "text/plain": [
       "                                  item_name        ...         item_category_id\n",
       "11373  Доставка до пункта выдачи (Boxberry)        ...                        9\n",
       "\n",
       "[1 rows x 3 columns]"
      ]
     },
     "execution_count": 15,
     "metadata": {},
     "output_type": "execute_result"
    }
   ],
   "source": [
    "items[items['item_id'] == 11373]"
   ]
  },
  {
   "cell_type": "markdown",
   "metadata": {},
   "source": [
    "Using google translate, I understood that this item is related to point of delivery and the Russian shipment company 'Boxberry'. Let's look at some of the other daiy sales for this item"
   ]
  },
  {
   "cell_type": "code",
   "execution_count": 16,
   "metadata": {},
   "outputs": [
    {
     "data": {
      "text/html": [
       "<div>\n",
       "<style scoped>\n",
       "    .dataframe tbody tr th:only-of-type {\n",
       "        vertical-align: middle;\n",
       "    }\n",
       "\n",
       "    .dataframe tbody tr th {\n",
       "        vertical-align: top;\n",
       "    }\n",
       "\n",
       "    .dataframe thead th {\n",
       "        text-align: right;\n",
       "    }\n",
       "</style>\n",
       "<table border=\"1\" class=\"dataframe\">\n",
       "  <thead>\n",
       "    <tr style=\"text-align: right;\">\n",
       "      <th></th>\n",
       "      <th>date</th>\n",
       "      <th>date_block_num</th>\n",
       "      <th>shop_id</th>\n",
       "      <th>item_id</th>\n",
       "      <th>item_price</th>\n",
       "      <th>item_cnt_day</th>\n",
       "    </tr>\n",
       "  </thead>\n",
       "  <tbody>\n",
       "    <tr>\n",
       "      <th>58323</th>\n",
       "      <td>08.01.2013</td>\n",
       "      <td>0</td>\n",
       "      <td>12</td>\n",
       "      <td>11373</td>\n",
       "      <td>1000.0</td>\n",
       "      <td>1.0</td>\n",
       "    </tr>\n",
       "    <tr>\n",
       "      <th>58324</th>\n",
       "      <td>31.01.2013</td>\n",
       "      <td>0</td>\n",
       "      <td>12</td>\n",
       "      <td>11373</td>\n",
       "      <td>97.8</td>\n",
       "      <td>5.0</td>\n",
       "    </tr>\n",
       "    <tr>\n",
       "      <th>176790</th>\n",
       "      <td>01.02.2013</td>\n",
       "      <td>1</td>\n",
       "      <td>12</td>\n",
       "      <td>11373</td>\n",
       "      <td>229.0</td>\n",
       "      <td>1.0</td>\n",
       "    </tr>\n",
       "    <tr>\n",
       "      <th>176791</th>\n",
       "      <td>04.02.2013</td>\n",
       "      <td>1</td>\n",
       "      <td>12</td>\n",
       "      <td>11373</td>\n",
       "      <td>130.0</td>\n",
       "      <td>1.0</td>\n",
       "    </tr>\n",
       "    <tr>\n",
       "      <th>302468</th>\n",
       "      <td>29.03.2013</td>\n",
       "      <td>2</td>\n",
       "      <td>12</td>\n",
       "      <td>11373</td>\n",
       "      <td>139.5</td>\n",
       "      <td>2.0</td>\n",
       "    </tr>\n",
       "  </tbody>\n",
       "</table>\n",
       "</div>"
      ],
      "text/plain": [
       "              date  date_block_num      ...       item_price  item_cnt_day\n",
       "58323   08.01.2013               0      ...           1000.0           1.0\n",
       "58324   31.01.2013               0      ...             97.8           5.0\n",
       "176790  01.02.2013               1      ...            229.0           1.0\n",
       "176791  04.02.2013               1      ...            130.0           1.0\n",
       "302468  29.03.2013               2      ...            139.5           2.0\n",
       "\n",
       "[5 rows x 6 columns]"
      ]
     },
     "execution_count": 16,
     "metadata": {},
     "output_type": "execute_result"
    }
   ],
   "source": [
    "train[train['item_id'] == 11373].head(5)"
   ]
  },
  {
   "cell_type": "markdown",
   "metadata": {},
   "source": [
    "We can see that item 11373 usually has sells much less. I calculated the median of it's 'item_cnt_day' value to be 4. This confirms that the high value of 2169 is an anomaly and we should get rid of it."
   ]
  },
  {
   "cell_type": "code",
   "execution_count": 17,
   "metadata": {},
   "outputs": [],
   "source": [
    "train = train[train['item_cnt_day'] < 2000]"
   ]
  },
  {
   "cell_type": "code",
   "execution_count": 18,
   "metadata": {},
   "outputs": [
    {
     "data": {
      "text/plain": [
       "1163158    307980.0\n",
       "885138      59200.0\n",
       "1488135     50999.0\n",
       "2327159     49782.0\n",
       "2917760     42990.0\n",
       "Name: item_price, dtype: float64"
      ]
     },
     "execution_count": 18,
     "metadata": {},
     "output_type": "execute_result"
    }
   ],
   "source": [
    "train['item_price'].sort_values(ascending=False)[:5]"
   ]
  },
  {
   "cell_type": "markdown",
   "metadata": {},
   "source": [
    "Another outlier! This time with 'item_price'. Let's inspect this a little further before we decide to remove it."
   ]
  },
  {
   "cell_type": "code",
   "execution_count": 19,
   "metadata": {},
   "outputs": [
    {
     "data": {
      "text/html": [
       "<div>\n",
       "<style scoped>\n",
       "    .dataframe tbody tr th:only-of-type {\n",
       "        vertical-align: middle;\n",
       "    }\n",
       "\n",
       "    .dataframe tbody tr th {\n",
       "        vertical-align: top;\n",
       "    }\n",
       "\n",
       "    .dataframe thead th {\n",
       "        text-align: right;\n",
       "    }\n",
       "</style>\n",
       "<table border=\"1\" class=\"dataframe\">\n",
       "  <thead>\n",
       "    <tr style=\"text-align: right;\">\n",
       "      <th></th>\n",
       "      <th>date</th>\n",
       "      <th>date_block_num</th>\n",
       "      <th>shop_id</th>\n",
       "      <th>item_id</th>\n",
       "      <th>item_price</th>\n",
       "      <th>item_cnt_day</th>\n",
       "    </tr>\n",
       "  </thead>\n",
       "  <tbody>\n",
       "    <tr>\n",
       "      <th>1163158</th>\n",
       "      <td>13.12.2013</td>\n",
       "      <td>11</td>\n",
       "      <td>12</td>\n",
       "      <td>6066</td>\n",
       "      <td>307980.0</td>\n",
       "      <td>1.0</td>\n",
       "    </tr>\n",
       "  </tbody>\n",
       "</table>\n",
       "</div>"
      ],
      "text/plain": [
       "               date  date_block_num      ...       item_price  item_cnt_day\n",
       "1163158  13.12.2013              11      ...         307980.0           1.0\n",
       "\n",
       "[1 rows x 6 columns]"
      ]
     },
     "execution_count": 19,
     "metadata": {},
     "output_type": "execute_result"
    }
   ],
   "source": [
    "train[train['item_price'] == 307980]"
   ]
  },
  {
   "cell_type": "code",
   "execution_count": 20,
   "metadata": {},
   "outputs": [
    {
     "data": {
      "text/html": [
       "<div>\n",
       "<style scoped>\n",
       "    .dataframe tbody tr th:only-of-type {\n",
       "        vertical-align: middle;\n",
       "    }\n",
       "\n",
       "    .dataframe tbody tr th {\n",
       "        vertical-align: top;\n",
       "    }\n",
       "\n",
       "    .dataframe thead th {\n",
       "        text-align: right;\n",
       "    }\n",
       "</style>\n",
       "<table border=\"1\" class=\"dataframe\">\n",
       "  <thead>\n",
       "    <tr style=\"text-align: right;\">\n",
       "      <th></th>\n",
       "      <th>item_name</th>\n",
       "      <th>item_id</th>\n",
       "      <th>item_category_id</th>\n",
       "    </tr>\n",
       "  </thead>\n",
       "  <tbody>\n",
       "    <tr>\n",
       "      <th>6066</th>\n",
       "      <td>Radmin 3  - 522 лиц.</td>\n",
       "      <td>6066</td>\n",
       "      <td>75</td>\n",
       "    </tr>\n",
       "  </tbody>\n",
       "</table>\n",
       "</div>"
      ],
      "text/plain": [
       "                 item_name  item_id  item_category_id\n",
       "6066  Radmin 3  - 522 лиц.     6066                75"
      ]
     },
     "execution_count": 20,
     "metadata": {},
     "output_type": "execute_result"
    }
   ],
   "source": [
    "items[items['item_id'] == 6066]"
   ]
  },
  {
   "cell_type": "markdown",
   "metadata": {},
   "source": [
    "Once again, using Google translate, I found that this is an antivirus sold to 522 people and the price is probabaly the cost of one installation times 522. Let's see if there are other transactions related to this software in our training set."
   ]
  },
  {
   "cell_type": "code",
   "execution_count": 21,
   "metadata": {},
   "outputs": [
    {
     "data": {
      "text/html": [
       "<div>\n",
       "<style scoped>\n",
       "    .dataframe tbody tr th:only-of-type {\n",
       "        vertical-align: middle;\n",
       "    }\n",
       "\n",
       "    .dataframe tbody tr th {\n",
       "        vertical-align: top;\n",
       "    }\n",
       "\n",
       "    .dataframe thead th {\n",
       "        text-align: right;\n",
       "    }\n",
       "</style>\n",
       "<table border=\"1\" class=\"dataframe\">\n",
       "  <thead>\n",
       "    <tr style=\"text-align: right;\">\n",
       "      <th></th>\n",
       "      <th>date</th>\n",
       "      <th>date_block_num</th>\n",
       "      <th>shop_id</th>\n",
       "      <th>item_id</th>\n",
       "      <th>item_price</th>\n",
       "      <th>item_cnt_day</th>\n",
       "    </tr>\n",
       "  </thead>\n",
       "  <tbody>\n",
       "    <tr>\n",
       "      <th>1163158</th>\n",
       "      <td>13.12.2013</td>\n",
       "      <td>11</td>\n",
       "      <td>12</td>\n",
       "      <td>6066</td>\n",
       "      <td>307980.0</td>\n",
       "      <td>1.0</td>\n",
       "    </tr>\n",
       "  </tbody>\n",
       "</table>\n",
       "</div>"
      ],
      "text/plain": [
       "               date  date_block_num      ...       item_price  item_cnt_day\n",
       "1163158  13.12.2013              11      ...         307980.0           1.0\n",
       "\n",
       "[1 rows x 6 columns]"
      ]
     },
     "execution_count": 21,
     "metadata": {},
     "output_type": "execute_result"
    }
   ],
   "source": [
    "train[train['item_id'] == 6066]"
   ]
  },
  {
   "cell_type": "markdown",
   "metadata": {},
   "source": [
    "Nope! The outlier is the only transaction. It is justifiable to remove this observation from the training set."
   ]
  },
  {
   "cell_type": "code",
   "execution_count": 22,
   "metadata": {},
   "outputs": [],
   "source": [
    "train = train[train['item_price'] < 300000]"
   ]
  },
  {
   "cell_type": "markdown",
   "metadata": {},
   "source": [
    "Now, we will inspect the 'item_price' field for low priced outliers"
   ]
  },
  {
   "cell_type": "code",
   "execution_count": 23,
   "metadata": {},
   "outputs": [
    {
     "data": {
      "text/plain": [
       "484683   -1.0000\n",
       "608763    0.0700\n",
       "579766    0.0700\n",
       "611400    0.0875\n",
       "673155    0.0900\n",
       "Name: item_price, dtype: float64"
      ]
     },
     "execution_count": 23,
     "metadata": {},
     "output_type": "execute_result"
    }
   ],
   "source": [
    "train['item_price'].sort_values()[:5]"
   ]
  },
  {
   "cell_type": "markdown",
   "metadata": {},
   "source": [
    "And yes, there exists a value of -1. This is an error and we should inspect this observation further"
   ]
  },
  {
   "cell_type": "code",
   "execution_count": 24,
   "metadata": {},
   "outputs": [
    {
     "data": {
      "text/html": [
       "<div>\n",
       "<style scoped>\n",
       "    .dataframe tbody tr th:only-of-type {\n",
       "        vertical-align: middle;\n",
       "    }\n",
       "\n",
       "    .dataframe tbody tr th {\n",
       "        vertical-align: top;\n",
       "    }\n",
       "\n",
       "    .dataframe thead th {\n",
       "        text-align: right;\n",
       "    }\n",
       "</style>\n",
       "<table border=\"1\" class=\"dataframe\">\n",
       "  <thead>\n",
       "    <tr style=\"text-align: right;\">\n",
       "      <th></th>\n",
       "      <th>date</th>\n",
       "      <th>date_block_num</th>\n",
       "      <th>shop_id</th>\n",
       "      <th>item_id</th>\n",
       "      <th>item_price</th>\n",
       "      <th>item_cnt_day</th>\n",
       "    </tr>\n",
       "  </thead>\n",
       "  <tbody>\n",
       "    <tr>\n",
       "      <th>484683</th>\n",
       "      <td>15.05.2013</td>\n",
       "      <td>4</td>\n",
       "      <td>32</td>\n",
       "      <td>2973</td>\n",
       "      <td>-1.0</td>\n",
       "      <td>1.0</td>\n",
       "    </tr>\n",
       "  </tbody>\n",
       "</table>\n",
       "</div>"
      ],
      "text/plain": [
       "              date  date_block_num      ...       item_price  item_cnt_day\n",
       "484683  15.05.2013               4      ...             -1.0           1.0\n",
       "\n",
       "[1 rows x 6 columns]"
      ]
     },
     "execution_count": 24,
     "metadata": {},
     "output_type": "execute_result"
    }
   ],
   "source": [
    "train[train['item_price'] == -1]"
   ]
  },
  {
   "cell_type": "markdown",
   "metadata": {},
   "source": [
    "Let's see if there are other observations for this item (2973) which can help us determine its price"
   ]
  },
  {
   "cell_type": "code",
   "execution_count": 25,
   "metadata": {},
   "outputs": [
    {
     "data": {
      "text/html": [
       "<div>\n",
       "<style scoped>\n",
       "    .dataframe tbody tr th:only-of-type {\n",
       "        vertical-align: middle;\n",
       "    }\n",
       "\n",
       "    .dataframe tbody tr th {\n",
       "        vertical-align: top;\n",
       "    }\n",
       "\n",
       "    .dataframe thead th {\n",
       "        text-align: right;\n",
       "    }\n",
       "</style>\n",
       "<table border=\"1\" class=\"dataframe\">\n",
       "  <thead>\n",
       "    <tr style=\"text-align: right;\">\n",
       "      <th></th>\n",
       "      <th>date</th>\n",
       "      <th>date_block_num</th>\n",
       "      <th>shop_id</th>\n",
       "      <th>item_id</th>\n",
       "      <th>item_price</th>\n",
       "      <th>item_cnt_day</th>\n",
       "    </tr>\n",
       "  </thead>\n",
       "  <tbody>\n",
       "    <tr>\n",
       "      <th>352</th>\n",
       "      <td>15.01.2013</td>\n",
       "      <td>0</td>\n",
       "      <td>25</td>\n",
       "      <td>2973</td>\n",
       "      <td>2499.0</td>\n",
       "      <td>13.0</td>\n",
       "    </tr>\n",
       "    <tr>\n",
       "      <th>353</th>\n",
       "      <td>16.01.2013</td>\n",
       "      <td>0</td>\n",
       "      <td>25</td>\n",
       "      <td>2973</td>\n",
       "      <td>2499.0</td>\n",
       "      <td>5.0</td>\n",
       "    </tr>\n",
       "    <tr>\n",
       "      <th>354</th>\n",
       "      <td>17.01.2013</td>\n",
       "      <td>0</td>\n",
       "      <td>25</td>\n",
       "      <td>2973</td>\n",
       "      <td>2499.0</td>\n",
       "      <td>3.0</td>\n",
       "    </tr>\n",
       "    <tr>\n",
       "      <th>355</th>\n",
       "      <td>18.01.2013</td>\n",
       "      <td>0</td>\n",
       "      <td>25</td>\n",
       "      <td>2973</td>\n",
       "      <td>2499.0</td>\n",
       "      <td>2.0</td>\n",
       "    </tr>\n",
       "    <tr>\n",
       "      <th>356</th>\n",
       "      <td>19.01.2013</td>\n",
       "      <td>0</td>\n",
       "      <td>25</td>\n",
       "      <td>2973</td>\n",
       "      <td>2499.0</td>\n",
       "      <td>3.0</td>\n",
       "    </tr>\n",
       "  </tbody>\n",
       "</table>\n",
       "</div>"
      ],
      "text/plain": [
       "           date  date_block_num      ...       item_price  item_cnt_day\n",
       "352  15.01.2013               0      ...           2499.0          13.0\n",
       "353  16.01.2013               0      ...           2499.0           5.0\n",
       "354  17.01.2013               0      ...           2499.0           3.0\n",
       "355  18.01.2013               0      ...           2499.0           2.0\n",
       "356  19.01.2013               0      ...           2499.0           3.0\n",
       "\n",
       "[5 rows x 6 columns]"
      ]
     },
     "execution_count": 25,
     "metadata": {},
     "output_type": "execute_result"
    }
   ],
   "source": [
    "train[train['item_id'] == 2973].head(5)"
   ]
  },
  {
   "cell_type": "markdown",
   "metadata": {},
   "source": [
    "Indeed, this item seems to have been sold for quite a high price so its value of -1 should be changed. We should replace it with the median of its price, but this should be calculated for the shop (ID 12) for which this outlier exists. If there are other sales for this item in that shop for the same month (date_block_num 4), then we should calculate the median using that"
   ]
  },
  {
   "cell_type": "code",
   "execution_count": 26,
   "metadata": {},
   "outputs": [],
   "source": [
    "price_correction = train[(train['shop_id'] == 32) & (train['item_id'] == 2973) & (train['date_block_num'] == 4) & (train['item_price'] > 0)].item_price.median()\n",
    "train.loc[train['item_price'] < 0, 'item_price'] = price_correction"
   ]
  },
  {
   "cell_type": "markdown",
   "metadata": {},
   "source": [
    "## Test Set Distribution"
   ]
  },
  {
   "cell_type": "markdown",
   "metadata": {},
   "source": [
    "Now, let's do the distribution analysis for the test set and see if we can spot any differences"
   ]
  },
  {
   "cell_type": "code",
   "execution_count": 27,
   "metadata": {},
   "outputs": [
    {
     "data": {
      "image/png": "[encoded data removed]",
      "text/plain": [
       "<Figure size 1296x576 with 2 Axes>"
      ]
     },
     "metadata": {},
     "output_type": "display_data"
    }
   ],
   "source": [
    "fig = plt.figure(figsize=(18,8))\n",
    "plt.subplots_adjust(hspace=.5)\n",
    "\n",
    "plt.subplot2grid((3,3), (0,0), colspan = 3)\n",
    "test['shop_id'].value_counts(normalize=True).plot(kind='bar', alpha=0.7)\n",
    "plt.title('Shop ID Values in the Test Set (Normalized)')\n",
    "\n",
    "plt.subplot2grid((3,3), (1,0))\n",
    "test['item_id'].plot(kind='hist', alpha=0.7)\n",
    "plt.title('Item ID Histogram - Test Set')\n",
    "\n",
    "plt.show()"
   ]
  },
  {
   "cell_type": "markdown",
   "metadata": {},
   "source": [
    "1. The Shop Id's are evenly spread out, unlike the training set. The font size of labels quickly tells me that there are certain Shop Id's missing in the test set as the bars in the training set 'shop_id' plot were more tightly packed.\n",
    "2. While item id's in the histogram are binned, the spikes are less in the test set. The test set is much smaller in shape than the training set, and naturally, the frequency values are significantly lower. It is tough to be draw more insights from this histogram.\n",
    "\n",
    "It seems there might be some values of shop_id and item_id completely missing in the test set. Let's have a closer look and put some numbers or percentages to these missing values."
   ]
  },
  {
   "cell_type": "markdown",
   "metadata": {},
   "source": [
    "## Shops Analysis"
   ]
  },
  {
   "cell_type": "code",
   "execution_count": 28,
   "metadata": {},
   "outputs": [
    {
     "name": "stdout",
     "output_type": "stream",
     "text": [
      "Shops in Training Set:  60\n",
      "Shops in Test Set:  42\n"
     ]
    }
   ],
   "source": [
    "shops_train = train['shop_id'].nunique()\n",
    "shops_test = test['shop_id'].nunique()\n",
    "print('Shops in Training Set: ', shops_train)\n",
    "print('Shops in Test Set: ', shops_test)"
   ]
  },
  {
   "cell_type": "markdown",
   "metadata": {},
   "source": [
    "However, this doesn't mean that the training set contains all of the shops present in the test set. For that, we need to see if every element of the test set is present in the training set. Let's write some simple code to see if the test set list is a subset of the training set list."
   ]
  },
  {
   "cell_type": "code",
   "execution_count": 29,
   "metadata": {},
   "outputs": [
    {
     "name": "stdout",
     "output_type": "stream",
     "text": [
      "Yes, list is subset of other.\n"
     ]
    }
   ],
   "source": [
    "shops_train_list = list(train['shop_id'].unique())\n",
    "shops_test_list = list(test['shop_id'].unique())\n",
    "\n",
    "flag = 0\n",
    "if(set(shops_test_list).issubset(set(shops_train_list))): \n",
    "    flag = 1\n",
    "      \n",
    "if (flag) : \n",
    "    print (\"Yes, list is subset of other.\") \n",
    "else : \n",
    "    print (\"No, list is not subset of other.\") "
   ]
  },
  {
   "cell_type": "markdown",
   "metadata": {},
   "source": [
    "### Duplicate Shops"
   ]
  },
  {
   "cell_type": "markdown",
   "metadata": {},
   "source": [
    "Great, so all shops id's in the test set are also present in the training set. But there is an issue regarding duplicate shops that was talked about in the competition discussions. Let's have a look at the shops dataframe to identify this issue."
   ]
  },
  {
   "cell_type": "code",
   "execution_count": 30,
   "metadata": {},
   "outputs": [
    {
     "data": {
      "text/html": [
       "<div>\n",
       "<style scoped>\n",
       "    .dataframe tbody tr th:only-of-type {\n",
       "        vertical-align: middle;\n",
       "    }\n",
       "\n",
       "    .dataframe tbody tr th {\n",
       "        vertical-align: top;\n",
       "    }\n",
       "\n",
       "    .dataframe thead th {\n",
       "        text-align: right;\n",
       "    }\n",
       "</style>\n",
       "<table border=\"1\" class=\"dataframe\">\n",
       "  <thead>\n",
       "    <tr style=\"text-align: right;\">\n",
       "      <th></th>\n",
       "      <th>0</th>\n",
       "      <th>1</th>\n",
       "      <th>2</th>\n",
       "      <th>3</th>\n",
       "      <th>4</th>\n",
       "      <th>5</th>\n",
       "      <th>6</th>\n",
       "      <th>7</th>\n",
       "      <th>8</th>\n",
       "      <th>9</th>\n",
       "      <th>10</th>\n",
       "      <th>11</th>\n",
       "      <th>12</th>\n",
       "      <th>13</th>\n",
       "      <th>14</th>\n",
       "      <th>15</th>\n",
       "      <th>16</th>\n",
       "      <th>17</th>\n",
       "      <th>18</th>\n",
       "      <th>19</th>\n",
       "      <th>20</th>\n",
       "      <th>21</th>\n",
       "      <th>22</th>\n",
       "      <th>23</th>\n",
       "      <th>24</th>\n",
       "      <th>25</th>\n",
       "      <th>26</th>\n",
       "      <th>27</th>\n",
       "      <th>28</th>\n",
       "      <th>29</th>\n",
       "      <th>30</th>\n",
       "      <th>31</th>\n",
       "      <th>32</th>\n",
       "      <th>33</th>\n",
       "      <th>34</th>\n",
       "      <th>35</th>\n",
       "      <th>36</th>\n",
       "      <th>37</th>\n",
       "      <th>38</th>\n",
       "      <th>39</th>\n",
       "      <th>40</th>\n",
       "      <th>41</th>\n",
       "      <th>42</th>\n",
       "      <th>43</th>\n",
       "      <th>44</th>\n",
       "      <th>45</th>\n",
       "      <th>46</th>\n",
       "      <th>47</th>\n",
       "      <th>48</th>\n",
       "      <th>49</th>\n",
       "      <th>50</th>\n",
       "      <th>51</th>\n",
       "      <th>52</th>\n",
       "      <th>53</th>\n",
       "      <th>54</th>\n",
       "      <th>55</th>\n",
       "      <th>56</th>\n",
       "      <th>57</th>\n",
       "      <th>58</th>\n",
       "      <th>59</th>\n",
       "    </tr>\n",
       "  </thead>\n",
       "  <tbody>\n",
       "    <tr>\n",
       "      <th>shop_name</th>\n",
       "      <td>!Якутск Орджоникидзе, 56 фран</td>\n",
       "      <td>!Якутск ТЦ \"Центральный\" фран</td>\n",
       "      <td>Адыгея ТЦ \"Мега\"</td>\n",
       "      <td>Балашиха ТРК \"Октябрь-Киномир\"</td>\n",
       "      <td>Волжский ТЦ \"Волга Молл\"</td>\n",
       "      <td>Вологда ТРЦ \"Мармелад\"</td>\n",
       "      <td>Воронеж (Плехановская, 13)</td>\n",
       "      <td>Воронеж ТРЦ \"Максимир\"</td>\n",
       "      <td>Воронеж ТРЦ Сити-Парк \"Град\"</td>\n",
       "      <td>Выездная Торговля</td>\n",
       "      <td>Жуковский ул. Чкалова 39м?</td>\n",
       "      <td>Жуковский ул. Чкалова 39м²</td>\n",
       "      <td>Интернет-магазин ЧС</td>\n",
       "      <td>Казань ТЦ \"Бехетле\"</td>\n",
       "      <td>Казань ТЦ \"ПаркХаус\" II</td>\n",
       "      <td>Калуга ТРЦ \"XXI век\"</td>\n",
       "      <td>Коломна ТЦ \"Рио\"</td>\n",
       "      <td>Красноярск ТЦ \"Взлетка Плаза\"</td>\n",
       "      <td>Красноярск ТЦ \"Июнь\"</td>\n",
       "      <td>Курск ТЦ \"Пушкинский\"</td>\n",
       "      <td>Москва \"Распродажа\"</td>\n",
       "      <td>Москва МТРЦ \"Афи Молл\"</td>\n",
       "      <td>Москва Магазин С21</td>\n",
       "      <td>Москва ТК \"Буденовский\" (пав.А2)</td>\n",
       "      <td>Москва ТК \"Буденовский\" (пав.К7)</td>\n",
       "      <td>Москва ТРК \"Атриум\"</td>\n",
       "      <td>Москва ТЦ \"Ареал\" (Беляево)</td>\n",
       "      <td>Москва ТЦ \"МЕГА Белая Дача II\"</td>\n",
       "      <td>Москва ТЦ \"МЕГА Теплый Стан\" II</td>\n",
       "      <td>Москва ТЦ \"Новый век\" (Новокосино)</td>\n",
       "      <td>Москва ТЦ \"Перловский\"</td>\n",
       "      <td>Москва ТЦ \"Семеновский\"</td>\n",
       "      <td>Москва ТЦ \"Серебряный Дом\"</td>\n",
       "      <td>Мытищи ТРК \"XL-3\"</td>\n",
       "      <td>Н.Новгород ТРЦ \"РИО\"</td>\n",
       "      <td>Н.Новгород ТРЦ \"Фантастика\"</td>\n",
       "      <td>Новосибирск ТРЦ \"Галерея Новосибирск\"</td>\n",
       "      <td>Новосибирск ТЦ \"Мега\"</td>\n",
       "      <td>Омск ТЦ \"Мега\"</td>\n",
       "      <td>РостовНаДону ТРК \"Мегацентр Горизонт\"</td>\n",
       "      <td>РостовНаДону ТРК \"Мегацентр Горизонт\" Островной</td>\n",
       "      <td>РостовНаДону ТЦ \"Мега\"</td>\n",
       "      <td>СПб ТК \"Невский Центр\"</td>\n",
       "      <td>СПб ТК \"Сенная\"</td>\n",
       "      <td>Самара ТЦ \"Мелодия\"</td>\n",
       "      <td>Самара ТЦ \"ПаркХаус\"</td>\n",
       "      <td>Сергиев Посад ТЦ \"7Я\"</td>\n",
       "      <td>Сургут ТРЦ \"Сити Молл\"</td>\n",
       "      <td>Томск ТРЦ \"Изумрудный Город\"</td>\n",
       "      <td>Тюмень ТРЦ \"Кристалл\"</td>\n",
       "      <td>Тюмень ТЦ \"Гудвин\"</td>\n",
       "      <td>Тюмень ТЦ \"Зеленый Берег\"</td>\n",
       "      <td>Уфа ТК \"Центральный\"</td>\n",
       "      <td>Уфа ТЦ \"Семья\" 2</td>\n",
       "      <td>Химки ТЦ \"Мега\"</td>\n",
       "      <td>Цифровой склад 1С-Онлайн</td>\n",
       "      <td>Чехов ТРЦ \"Карнавал\"</td>\n",
       "      <td>Якутск Орджоникидзе, 56</td>\n",
       "      <td>Якутск ТЦ \"Центральный\"</td>\n",
       "      <td>Ярославль ТЦ \"Альтаир\"</td>\n",
       "    </tr>\n",
       "    <tr>\n",
       "      <th>shop_id</th>\n",
       "      <td>0</td>\n",
       "      <td>1</td>\n",
       "      <td>2</td>\n",
       "      <td>3</td>\n",
       "      <td>4</td>\n",
       "      <td>5</td>\n",
       "      <td>6</td>\n",
       "      <td>7</td>\n",
       "      <td>8</td>\n",
       "      <td>9</td>\n",
       "      <td>10</td>\n",
       "      <td>11</td>\n",
       "      <td>12</td>\n",
       "      <td>13</td>\n",
       "      <td>14</td>\n",
       "      <td>15</td>\n",
       "      <td>16</td>\n",
       "      <td>17</td>\n",
       "      <td>18</td>\n",
       "      <td>19</td>\n",
       "      <td>20</td>\n",
       "      <td>21</td>\n",
       "      <td>22</td>\n",
       "      <td>23</td>\n",
       "      <td>24</td>\n",
       "      <td>25</td>\n",
       "      <td>26</td>\n",
       "      <td>27</td>\n",
       "      <td>28</td>\n",
       "      <td>29</td>\n",
       "      <td>30</td>\n",
       "      <td>31</td>\n",
       "      <td>32</td>\n",
       "      <td>33</td>\n",
       "      <td>34</td>\n",
       "      <td>35</td>\n",
       "      <td>36</td>\n",
       "      <td>37</td>\n",
       "      <td>38</td>\n",
       "      <td>39</td>\n",
       "      <td>40</td>\n",
       "      <td>41</td>\n",
       "      <td>42</td>\n",
       "      <td>43</td>\n",
       "      <td>44</td>\n",
       "      <td>45</td>\n",
       "      <td>46</td>\n",
       "      <td>47</td>\n",
       "      <td>48</td>\n",
       "      <td>49</td>\n",
       "      <td>50</td>\n",
       "      <td>51</td>\n",
       "      <td>52</td>\n",
       "      <td>53</td>\n",
       "      <td>54</td>\n",
       "      <td>55</td>\n",
       "      <td>56</td>\n",
       "      <td>57</td>\n",
       "      <td>58</td>\n",
       "      <td>59</td>\n",
       "    </tr>\n",
       "  </tbody>\n",
       "</table>\n",
       "</div>"
      ],
      "text/plain": [
       "                                      0            ...                                59\n",
       "shop_name  !Якутск Орджоникидзе, 56 фран           ...            Ярославль ТЦ \"Альтаир\"\n",
       "shop_id                                0           ...                                59\n",
       "\n",
       "[2 rows x 60 columns]"
      ]
     },
     "execution_count": 30,
     "metadata": {},
     "output_type": "execute_result"
    }
   ],
   "source": [
    "shops.T"
   ]
  },
  {
   "cell_type": "markdown",
   "metadata": {},
   "source": [
    "Using [Google translate API](https://pypi.org/project/googletrans/) and measuring pair wise Levenstein distance with a python [library](https://github.com/luozhouyang/python-string-similarity), I generated a matrix plot to observe similarity with the shop names\n",
    "\n",
    "![Matrix Plot](https://i.imgur.com/wIvpacw.png) ![Threshold](https://i.imgur.com/cH94yt2.png)"
   ]
  },
  {
   "cell_type": "markdown",
   "metadata": {},
   "source": [
    "Upon examing the above matrixes and 'similar' shop names, one observes that shops start with their city name! This can be a useful feature. Also, 'shop_id's 0 and 1 are the same as 57 and 58 respectively. The only difference is the Russian word 'фран' attached to both shops 0 and 1. Shops 10 and 11 have the exact same name excpet the last character ('?' vs '2'). These duplicates should be removed!"
   ]
  },
  {
   "cell_type": "code",
   "execution_count": 31,
   "metadata": {},
   "outputs": [],
   "source": [
    "train.loc[train['shop_id'] == 0, 'shop_id'] = 57\n",
    "test.loc[test['shop_id'] == 0, 'shop_id'] = 57\n",
    "\n",
    "train.loc[train['shop_id'] == 1, 'shop_id'] = 58\n",
    "test.loc[test['shop_id'] == 1, 'shop_id'] = 58\n",
    "\n",
    "train.loc[train['shop_id'] == 10, 'shop_id'] = 11\n",
    "test.loc[test['shop_id'] == 10, 'shop_id'] = 11"
   ]
  },
  {
   "cell_type": "markdown",
   "metadata": {},
   "source": [
    "### Extracting City "
   ]
  },
  {
   "cell_type": "code",
   "execution_count": 32,
   "metadata": {},
   "outputs": [
    {
     "data": {
      "text/plain": [
       "array(['!Якутск', 'Адыгея', 'Балашиха', 'Волжский', 'Вологда', 'Воронеж',\n",
       "       'Выездная', 'Жуковский', 'Интернет-магазин', 'Казань', 'Калуга',\n",
       "       'Коломна', 'Красноярск', 'Курск', 'Москва', 'Мытищи', 'Н.Новгород',\n",
       "       'Новосибирск', 'Омск', 'РостовНаДону', 'СПб', 'Самара', 'Сергиев',\n",
       "       'Сургут', 'Томск', 'Тюмень', 'Уфа', 'Химки', 'Цифровой', 'Чехов',\n",
       "       'Якутск', 'Ярославль'], dtype=object)"
      ]
     },
     "execution_count": 32,
     "metadata": {},
     "output_type": "execute_result"
    }
   ],
   "source": [
    "cities = shops['shop_name'].str.split(' ').map(lambda row: row[0])\n",
    "cities.unique()"
   ]
  },
  {
   "cell_type": "markdown",
   "metadata": {},
   "source": [
    "Upon careful observation, the city Yakutsk is represented as *'!Якутск'* and *'Якутск'*. We should make sure they are the same so when we label encode these city names, they will fall under the same cateogory. For reference, the english tranlation of the cities is below.\n",
    "\n",
    "'!Yakutsk', 'Adygea', 'Balashikha', 'Volzhsky', 'Vologda', 'Voronezh', 'Outbound', 'Zhukovsky', 'Online', 'Kazan', 'Kaluga', 'Kolomna', 'Krasnoyarsk', 'Kursk', 'Moscow', 'Mytishchi', 'N.Novgorod', 'Novosibirsk', 'Omsk', 'RostovNaDonu', 'St.', 'Samara', 'Sergiev', 'Surgut', 'Tomsk', 'Tyumen', 'Ufa', 'Khimki', 'Digital', 'Chekhov', 'Yakutsk', 'Yaroslavl'\n",
    "\n",
    "You will notice we only extract the St. from St. Petersburg but that's okay as we will label encode these categorical variables. "
   ]
  },
  {
   "cell_type": "code",
   "execution_count": 33,
   "metadata": {},
   "outputs": [],
   "source": [
    "shops['city'] = shops['shop_name'].str.split(' ').map(lambda row: row[0])\n",
    "shops.loc[shops.city == '!Якутск', 'city'] = 'Якутск'"
   ]
  },
  {
   "cell_type": "code",
   "execution_count": 34,
   "metadata": {},
   "outputs": [
    {
     "data": {
      "text/plain": [
       "array([29, 29,  0,  1,  2,  3,  4,  4,  4,  5,  6,  6,  7,  8,  8,  9, 10,\n",
       "       11, 11, 12, 13, 13, 13, 13, 13, 13, 13, 13, 13, 13, 13, 13, 13, 14,\n",
       "       15, 15, 16, 16, 17, 18, 18, 18, 19, 19, 20, 20, 21, 22, 23, 24, 24,\n",
       "       24, 25, 25, 26, 27, 28, 29, 29, 30])"
      ]
     },
     "execution_count": 34,
     "metadata": {},
     "output_type": "execute_result"
    }
   ],
   "source": [
    "from sklearn import preprocessing\n",
    "le = preprocessing.LabelEncoder()\n",
    "le.fit_transform(shops['city'])"
   ]
  },
  {
   "cell_type": "markdown",
   "metadata": {},
   "source": [
    "Great, that worked! Let's just add these codes to the shops dataframe. We can get rid of *'shop_name'* and *'city'* while preserving the *'shop_id'* and *'city_label'*"
   ]
  },
  {
   "cell_type": "code",
   "execution_count": 35,
   "metadata": {},
   "outputs": [
    {
     "data": {
      "text/html": [
       "<div>\n",
       "<style scoped>\n",
       "    .dataframe tbody tr th:only-of-type {\n",
       "        vertical-align: middle;\n",
       "    }\n",
       "\n",
       "    .dataframe tbody tr th {\n",
       "        vertical-align: top;\n",
       "    }\n",
       "\n",
       "    .dataframe thead th {\n",
       "        text-align: right;\n",
       "    }\n",
       "</style>\n",
       "<table border=\"1\" class=\"dataframe\">\n",
       "  <thead>\n",
       "    <tr style=\"text-align: right;\">\n",
       "      <th></th>\n",
       "      <th>shop_id</th>\n",
       "      <th>city_label</th>\n",
       "    </tr>\n",
       "  </thead>\n",
       "  <tbody>\n",
       "    <tr>\n",
       "      <th>0</th>\n",
       "      <td>0</td>\n",
       "      <td>29</td>\n",
       "    </tr>\n",
       "    <tr>\n",
       "      <th>1</th>\n",
       "      <td>1</td>\n",
       "      <td>29</td>\n",
       "    </tr>\n",
       "    <tr>\n",
       "      <th>2</th>\n",
       "      <td>2</td>\n",
       "      <td>0</td>\n",
       "    </tr>\n",
       "    <tr>\n",
       "      <th>3</th>\n",
       "      <td>3</td>\n",
       "      <td>1</td>\n",
       "    </tr>\n",
       "    <tr>\n",
       "      <th>4</th>\n",
       "      <td>4</td>\n",
       "      <td>2</td>\n",
       "    </tr>\n",
       "  </tbody>\n",
       "</table>\n",
       "</div>"
      ],
      "text/plain": [
       "   shop_id  city_label\n",
       "0        0          29\n",
       "1        1          29\n",
       "2        2           0\n",
       "3        3           1\n",
       "4        4           2"
      ]
     },
     "execution_count": 35,
     "metadata": {},
     "output_type": "execute_result"
    }
   ],
   "source": [
    "shops['city_label'] = le.fit_transform(shops['city'])\n",
    "shops.drop(['shop_name', 'city'], axis = 1, inplace = True)\n",
    "shops.head()"
   ]
  },
  {
   "cell_type": "markdown",
   "metadata": {},
   "source": [
    "## Items Analysis"
   ]
  },
  {
   "cell_type": "markdown",
   "metadata": {},
   "source": [
    "Let's perform a similar train-test analysis for item_ids"
   ]
  },
  {
   "cell_type": "code",
   "execution_count": 36,
   "metadata": {},
   "outputs": [
    {
     "name": "stdout",
     "output_type": "stream",
     "text": [
      "Items in Training Set:  21806\n",
      "Items in Test Set:  5100\n"
     ]
    }
   ],
   "source": [
    "items_train = train['item_id'].nunique()\n",
    "items_test = test['item_id'].nunique()\n",
    "print('Items in Training Set: ', items_train)\n",
    "print('Items in Test Set: ', items_test)"
   ]
  },
  {
   "cell_type": "markdown",
   "metadata": {},
   "source": [
    "There are a lot many more items in the training set than there are in the test set. However, this doesn't mean that the training set contains all of the items in the test set. For that, we need to see if every element of the test set is present in the training set. Let's write some simple code to achieve this."
   ]
  },
  {
   "cell_type": "code",
   "execution_count": 37,
   "metadata": {},
   "outputs": [
    {
     "name": "stdout",
     "output_type": "stream",
     "text": [
      "No, list is not subset of other.\n"
     ]
    }
   ],
   "source": [
    "items_train_list = list(train['item_id'].unique())\n",
    "items_test_list = list(test['item_id'].unique())\n",
    "\n",
    "flag = 0\n",
    "if(set(items_test_list).issubset(set(items_train_list))): \n",
    "    flag = 1\n",
    "      \n",
    "if (flag) : \n",
    "    print (\"Yes, list is subset of other.\") \n",
    "else : \n",
    "    print (\"No, list is not subset of other.\") "
   ]
  },
  {
   "cell_type": "markdown",
   "metadata": {},
   "source": [
    "Well then, this means there are certain items that are present in the test set but completely absent in the training set! Can we put a number to this to get an intuition?"
   ]
  },
  {
   "cell_type": "code",
   "execution_count": 38,
   "metadata": {},
   "outputs": [
    {
     "data": {
      "text/plain": [
       "363"
      ]
     },
     "execution_count": 38,
     "metadata": {},
     "output_type": "execute_result"
    }
   ],
   "source": [
    "len(set(items_test_list).difference(items_train_list))"
   ]
  },
  {
   "cell_type": "markdown",
   "metadata": {},
   "source": [
    "There are 363 items that are present in the test set but completely absent in the training set. This doesn't mean that the sales prediction against those items must be zero as new items can be added to the market or we simply didn't possess the data for those items before. The fascinating questions pops though, how do you go about predicting them? "
   ]
  },
  {
   "cell_type": "markdown",
   "metadata": {},
   "source": [
    "Before we do that, let's find out more about the 5100 items in the test set. What categories to they belong to? What categories do we not have to make predictions in the test set for"
   ]
  },
  {
   "cell_type": "code",
   "execution_count": 39,
   "metadata": {},
   "outputs": [],
   "source": [
    "categories_in_test = items.loc[items['item_id'].isin(sorted(test['item_id'].unique()))].item_category_id.unique()"
   ]
  },
  {
   "cell_type": "code",
   "execution_count": 40,
   "metadata": {},
   "outputs": [
    {
     "data": {
      "text/html": [
       "<div>\n",
       "<style scoped>\n",
       "    .dataframe tbody tr th:only-of-type {\n",
       "        vertical-align: middle;\n",
       "    }\n",
       "\n",
       "    .dataframe tbody tr th {\n",
       "        vertical-align: top;\n",
       "    }\n",
       "\n",
       "    .dataframe thead th {\n",
       "        text-align: right;\n",
       "    }\n",
       "</style>\n",
       "<table border=\"1\" class=\"dataframe\">\n",
       "  <thead>\n",
       "    <tr style=\"text-align: right;\">\n",
       "      <th></th>\n",
       "      <th>1</th>\n",
       "      <th>4</th>\n",
       "      <th>8</th>\n",
       "      <th>10</th>\n",
       "      <th>13</th>\n",
       "      <th>14</th>\n",
       "      <th>17</th>\n",
       "      <th>18</th>\n",
       "      <th>32</th>\n",
       "      <th>39</th>\n",
       "      <th>46</th>\n",
       "      <th>48</th>\n",
       "      <th>50</th>\n",
       "      <th>51</th>\n",
       "      <th>52</th>\n",
       "      <th>53</th>\n",
       "      <th>59</th>\n",
       "      <th>66</th>\n",
       "      <th>68</th>\n",
       "      <th>80</th>\n",
       "      <th>81</th>\n",
       "      <th>82</th>\n",
       "    </tr>\n",
       "  </thead>\n",
       "  <tbody>\n",
       "    <tr>\n",
       "      <th>item_category_name</th>\n",
       "      <td>Аксессуары - PS2</td>\n",
       "      <td>Аксессуары - PSP</td>\n",
       "      <td>Билеты (Цифра)</td>\n",
       "      <td>Игровые консоли - PS2</td>\n",
       "      <td>Игровые консоли - PSP</td>\n",
       "      <td>Игровые консоли - PSVita</td>\n",
       "      <td>Игровые консоли - Прочие</td>\n",
       "      <td>Игры - PS2</td>\n",
       "      <td>Карты оплаты (Кино, Музыка, Игры)</td>\n",
       "      <td>Кино - Blu-Ray 4K</td>\n",
       "      <td>Книги - Бизнес литература</td>\n",
       "      <td>Книги - Компьютерная литература</td>\n",
       "      <td>Книги - Открытки</td>\n",
       "      <td>Книги - Познавательная литература</td>\n",
       "      <td>Книги - Путеводители</td>\n",
       "      <td>Книги - Художественная литература</td>\n",
       "      <td>Музыка - Музыкальное видео</td>\n",
       "      <td>Подарки - Открытки, наклейки</td>\n",
       "      <td>Подарки - Сертификаты, услуги</td>\n",
       "      <td>Служебные - Билеты</td>\n",
       "      <td>Чистые носители (шпиль)</td>\n",
       "      <td>Чистые носители (штучные)</td>\n",
       "    </tr>\n",
       "    <tr>\n",
       "      <th>item_category_id</th>\n",
       "      <td>1</td>\n",
       "      <td>4</td>\n",
       "      <td>8</td>\n",
       "      <td>10</td>\n",
       "      <td>13</td>\n",
       "      <td>14</td>\n",
       "      <td>17</td>\n",
       "      <td>18</td>\n",
       "      <td>32</td>\n",
       "      <td>39</td>\n",
       "      <td>46</td>\n",
       "      <td>48</td>\n",
       "      <td>50</td>\n",
       "      <td>51</td>\n",
       "      <td>52</td>\n",
       "      <td>53</td>\n",
       "      <td>59</td>\n",
       "      <td>66</td>\n",
       "      <td>68</td>\n",
       "      <td>80</td>\n",
       "      <td>81</td>\n",
       "      <td>82</td>\n",
       "    </tr>\n",
       "  </tbody>\n",
       "</table>\n",
       "</div>"
      ],
      "text/plain": [
       "                                  1             ...                                     82\n",
       "item_category_name  Аксессуары - PS2            ...              Чистые носители (штучные)\n",
       "item_category_id                   1            ...                                     82\n",
       "\n",
       "[2 rows x 22 columns]"
      ]
     },
     "execution_count": 40,
     "metadata": {},
     "output_type": "execute_result"
    }
   ],
   "source": [
    "# categories.loc[categories['item_category_id'].isin(categories_in_test)]\n",
    "categories.loc[~categories['item_category_id'].isin(categories_in_test)].T"
   ]
  },
  {
   "cell_type": "markdown",
   "metadata": {},
   "source": [
    "Using the same method, I generated a matrix plot to observe similarity with the shop names\n",
    "\n",
    "![Category Matrix Plot](https://i.imgur.com/O5iTFj2.png) ![Category Matrix Threhsold](https://i.imgur.com/YZQrVRM.png)"
   ]
  },
  {
   "cell_type": "markdown",
   "metadata": {},
   "source": [
    "### Grouping Common Categories and Extracting Sub-Categories"
   ]
  },
  {
   "cell_type": "markdown",
   "metadata": {},
   "source": [
    "Upon examing the above matrices, one can spot a trend of main and sub-categories. These are in the dataframe, before the hyphen. Let's extract them!"
   ]
  },
  {
   "cell_type": "code",
   "execution_count": 41,
   "metadata": {},
   "outputs": [],
   "source": [
    "le = preprocessing.LabelEncoder()\n",
    "\n",
    "main_categories = categories['item_category_name'].str.split('-')\n",
    "categories['main_category_id'] = main_categories.map(lambda row: row[0].strip())\n",
    "categories['main_category_id'] = le.fit_transform(categories['main_category_id'])\n",
    "\n",
    "# Some items don't have sub-categories. For those, we will use the main category as a sub-category\n",
    "categories['sub_category_id'] = main_categories.map(lambda row: row[1].strip() if len(row) > 1 else row[0].strip())\n",
    "categories['sub_category_id'] = le.fit_transform(categories['sub_category_id'])"
   ]
  },
  {
   "cell_type": "code",
   "execution_count": 42,
   "metadata": {},
   "outputs": [
    {
     "data": {
      "text/html": [
       "<div>\n",
       "<style scoped>\n",
       "    .dataframe tbody tr th:only-of-type {\n",
       "        vertical-align: middle;\n",
       "    }\n",
       "\n",
       "    .dataframe tbody tr th {\n",
       "        vertical-align: top;\n",
       "    }\n",
       "\n",
       "    .dataframe thead th {\n",
       "        text-align: right;\n",
       "    }\n",
       "</style>\n",
       "<table border=\"1\" class=\"dataframe\">\n",
       "  <thead>\n",
       "    <tr style=\"text-align: right;\">\n",
       "      <th></th>\n",
       "      <th>item_category_name</th>\n",
       "      <th>item_category_id</th>\n",
       "      <th>main_category_id</th>\n",
       "      <th>sub_category_id</th>\n",
       "    </tr>\n",
       "  </thead>\n",
       "  <tbody>\n",
       "    <tr>\n",
       "      <th>0</th>\n",
       "      <td>PC - Гарнитуры/Наушники</td>\n",
       "      <td>0</td>\n",
       "      <td>0</td>\n",
       "      <td>29</td>\n",
       "    </tr>\n",
       "    <tr>\n",
       "      <th>1</th>\n",
       "      <td>Аксессуары - PS2</td>\n",
       "      <td>1</td>\n",
       "      <td>1</td>\n",
       "      <td>9</td>\n",
       "    </tr>\n",
       "    <tr>\n",
       "      <th>2</th>\n",
       "      <td>Аксессуары - PS3</td>\n",
       "      <td>2</td>\n",
       "      <td>1</td>\n",
       "      <td>10</td>\n",
       "    </tr>\n",
       "    <tr>\n",
       "      <th>3</th>\n",
       "      <td>Аксессуары - PS4</td>\n",
       "      <td>3</td>\n",
       "      <td>1</td>\n",
       "      <td>11</td>\n",
       "    </tr>\n",
       "    <tr>\n",
       "      <th>4</th>\n",
       "      <td>Аксессуары - PSP</td>\n",
       "      <td>4</td>\n",
       "      <td>1</td>\n",
       "      <td>13</td>\n",
       "    </tr>\n",
       "  </tbody>\n",
       "</table>\n",
       "</div>"
      ],
      "text/plain": [
       "        item_category_name       ...         sub_category_id\n",
       "0  PC - Гарнитуры/Наушники       ...                      29\n",
       "1         Аксессуары - PS2       ...                       9\n",
       "2         Аксессуары - PS3       ...                      10\n",
       "3         Аксессуары - PS4       ...                      11\n",
       "4         Аксессуары - PSP       ...                      13\n",
       "\n",
       "[5 rows x 4 columns]"
      ]
     },
     "execution_count": 42,
     "metadata": {},
     "output_type": "execute_result"
    }
   ],
   "source": [
    "categories.head()"
   ]
  },
  {
   "cell_type": "markdown",
   "metadata": {},
   "source": [
    "Now, let's generate sales data for each shop and item present in the training set. We should do this for each month, as the final prediction is for the monthly count of sales for a particular shop and item"
   ]
  },
  {
   "cell_type": "markdown",
   "metadata": {},
   "source": [
    "## Generating prodcuct of Shop-Item pairs for each month in the training data"
   ]
  },
  {
   "cell_type": "code",
   "execution_count": 43,
   "metadata": {},
   "outputs": [],
   "source": [
    "train['date'] =  pd.to_datetime(train['date'], format='%d.%m.%Y')"
   ]
  },
  {
   "cell_type": "code",
   "execution_count": 44,
   "metadata": {},
   "outputs": [],
   "source": [
    "from itertools import product"
   ]
  },
  {
   "cell_type": "code",
   "execution_count": 45,
   "metadata": {},
   "outputs": [],
   "source": [
    "# Testing generation of cartesian product for the month of January in 2013\n",
    "\n",
    "shops_in_jan = train.loc[train['date_block_num']==0, 'shop_id'].unique()\n",
    "items_in_jan = train.loc[train['date_block_num']==0, 'item_id'].unique()\n",
    "jan = list(product(*[shops_in_jan, items_in_jan, [0]]))"
   ]
  },
  {
   "cell_type": "code",
   "execution_count": 46,
   "metadata": {},
   "outputs": [
    {
     "name": "stdout",
     "output_type": "stream",
     "text": [
      "365175\n"
     ]
    }
   ],
   "source": [
    "print(len(jan))"
   ]
  },
  {
   "cell_type": "markdown",
   "metadata": {},
   "source": [
    "As we can see, January 2013 contains 365,175 intersections of shops and items. Most of these will have no sales and we can verify this once we check our training set, which has been grouped by month, to see which 'items' x 'shops' combinations have a sale count associated with them. \n",
    "\n",
    "But before that, we need to generate this cartesian product for all 33 months in the training set. Before generating it for all months, I will generate it for February 2013, concatenate it with January 2013 and produce a dataframe."
   ]
  },
  {
   "cell_type": "code",
   "execution_count": 47,
   "metadata": {},
   "outputs": [],
   "source": [
    "# Testing generation of cartesian product for the month of February in 2013\n",
    "\n",
    "shops_in_feb = train.loc[train['date_block_num']==1, 'shop_id'].unique()\n",
    "items_in_feb = train.loc[train['date_block_num']==1, 'item_id'].unique()\n",
    "feb = list(product(*[shops_in_feb, items_in_feb, [1]]))"
   ]
  },
  {
   "cell_type": "code",
   "execution_count": 48,
   "metadata": {},
   "outputs": [
    {
     "name": "stdout",
     "output_type": "stream",
     "text": [
      "375728\n"
     ]
    }
   ],
   "source": [
    "print(len(feb))"
   ]
  },
  {
   "cell_type": "code",
   "execution_count": 49,
   "metadata": {},
   "outputs": [],
   "source": [
    "cartesian_test = []\n",
    "cartesian_test.append(np.array(jan))\n",
    "cartesian_test.append(np.array(feb))"
   ]
  },
  {
   "cell_type": "code",
   "execution_count": 50,
   "metadata": {},
   "outputs": [
    {
     "data": {
      "text/plain": [
       "[array([[   59, 22154,     0],\n",
       "        [   59,  2552,     0],\n",
       "        [   59,  2554,     0],\n",
       "        ...,\n",
       "        [   45,   628,     0],\n",
       "        [   45,   631,     0],\n",
       "        [   45,   621,     0]]), array([[   50,  3880,     1],\n",
       "        [   50,  4128,     1],\n",
       "        [   50,  4124,     1],\n",
       "        ...,\n",
       "        [   28, 12885,     1],\n",
       "        [   28, 12791,     1],\n",
       "        [   28, 13433,     1]])]"
      ]
     },
     "execution_count": 50,
     "metadata": {},
     "output_type": "execute_result"
    }
   ],
   "source": [
    "cartesian_test"
   ]
  },
  {
   "cell_type": "markdown",
   "metadata": {},
   "source": [
    "Ran out of memory when trying to create a dataframe from january and february lists. The trick was to convert the lists to a numpy array. The handy numpy method 'vstack' will shape the cartesian_test object in the right manner, so we can convert it into a long form dataframe."
   ]
  },
  {
   "cell_type": "code",
   "execution_count": 51,
   "metadata": {},
   "outputs": [],
   "source": [
    "cartesian_test = np.vstack(cartesian_test)"
   ]
  },
  {
   "cell_type": "code",
   "execution_count": 52,
   "metadata": {},
   "outputs": [],
   "source": [
    "cartesian_test_df = pd.DataFrame(cartesian_test, columns = ['shop_id', 'item_id', 'date_block_num'])"
   ]
  },
  {
   "cell_type": "code",
   "execution_count": 53,
   "metadata": {},
   "outputs": [
    {
     "data": {
      "text/html": [
       "<div>\n",
       "<style scoped>\n",
       "    .dataframe tbody tr th:only-of-type {\n",
       "        vertical-align: middle;\n",
       "    }\n",
       "\n",
       "    .dataframe tbody tr th {\n",
       "        vertical-align: top;\n",
       "    }\n",
       "\n",
       "    .dataframe thead th {\n",
       "        text-align: right;\n",
       "    }\n",
       "</style>\n",
       "<table border=\"1\" class=\"dataframe\">\n",
       "  <thead>\n",
       "    <tr style=\"text-align: right;\">\n",
       "      <th></th>\n",
       "      <th>shop_id</th>\n",
       "      <th>item_id</th>\n",
       "      <th>date_block_num</th>\n",
       "    </tr>\n",
       "  </thead>\n",
       "  <tbody>\n",
       "    <tr>\n",
       "      <th>0</th>\n",
       "      <td>59</td>\n",
       "      <td>22154</td>\n",
       "      <td>0</td>\n",
       "    </tr>\n",
       "    <tr>\n",
       "      <th>1</th>\n",
       "      <td>59</td>\n",
       "      <td>2552</td>\n",
       "      <td>0</td>\n",
       "    </tr>\n",
       "    <tr>\n",
       "      <th>2</th>\n",
       "      <td>59</td>\n",
       "      <td>2554</td>\n",
       "      <td>0</td>\n",
       "    </tr>\n",
       "    <tr>\n",
       "      <th>3</th>\n",
       "      <td>59</td>\n",
       "      <td>2555</td>\n",
       "      <td>0</td>\n",
       "    </tr>\n",
       "    <tr>\n",
       "      <th>4</th>\n",
       "      <td>59</td>\n",
       "      <td>2564</td>\n",
       "      <td>0</td>\n",
       "    </tr>\n",
       "  </tbody>\n",
       "</table>\n",
       "</div>"
      ],
      "text/plain": [
       "   shop_id  item_id  date_block_num\n",
       "0       59    22154               0\n",
       "1       59     2552               0\n",
       "2       59     2554               0\n",
       "3       59     2555               0\n",
       "4       59     2564               0"
      ]
     },
     "execution_count": 53,
     "metadata": {},
     "output_type": "execute_result"
    }
   ],
   "source": [
    "cartesian_test_df.head()"
   ]
  },
  {
   "cell_type": "code",
   "execution_count": 54,
   "metadata": {},
   "outputs": [
    {
     "data": {
      "text/plain": [
       "(740903, 3)"
      ]
     },
     "execution_count": 54,
     "metadata": {},
     "output_type": "execute_result"
    }
   ],
   "source": [
    "cartesian_test_df.shape"
   ]
  },
  {
   "cell_type": "markdown",
   "metadata": {},
   "source": [
    "Viola! That worked. Time to extend this to all months using some neat code"
   ]
  },
  {
   "cell_type": "code",
   "execution_count": 55,
   "metadata": {},
   "outputs": [],
   "source": [
    "from tqdm import tqdm_notebook\n",
    "\n",
    "def downcast_dtypes(df):\n",
    "    '''\n",
    "        Changes column types in the dataframe: \n",
    "                \n",
    "                `float64` type to `float32`\n",
    "                `int64`   type to `int32`\n",
    "    '''\n",
    "    \n",
    "    # Select columns to downcast\n",
    "    float_cols = [c for c in df if df[c].dtype == \"float64\"]\n",
    "    int_cols =   [c for c in df if df[c].dtype == \"int64\"]\n",
    "    \n",
    "    # Downcast\n",
    "    df[float_cols] = df[float_cols].astype(np.float16)\n",
    "    df[int_cols]   = df[int_cols].astype(np.int16)\n",
    "    \n",
    "    return df"
   ]
  },
  {
   "cell_type": "code",
   "execution_count": 56,
   "metadata": {},
   "outputs": [],
   "source": [
    "months = train['date_block_num'].unique()"
   ]
  },
  {
   "cell_type": "code",
   "execution_count": 57,
   "metadata": {},
   "outputs": [],
   "source": [
    "cartesian = []\n",
    "for month in months:\n",
    "    shops_in_month = train.loc[train['date_block_num']==month, 'shop_id'].unique()\n",
    "    items_in_month = train.loc[train['date_block_num']==month, 'item_id'].unique()\n",
    "    cartesian.append(np.array(list(product(*[shops_in_month, items_in_month, [month]])), dtype='int32'))"
   ]
  },
  {
   "cell_type": "code",
   "execution_count": 58,
   "metadata": {},
   "outputs": [],
   "source": [
    "cartesian_df = pd.DataFrame(np.vstack(cartesian), columns = ['shop_id', 'item_id', 'date_block_num'], dtype=np.int32)"
   ]
  },
  {
   "cell_type": "code",
   "execution_count": 59,
   "metadata": {},
   "outputs": [
    {
     "data": {
      "text/plain": [
       "(10913804, 3)"
      ]
     },
     "execution_count": 59,
     "metadata": {},
     "output_type": "execute_result"
    }
   ],
   "source": [
    "cartesian_df.shape"
   ]
  },
  {
   "cell_type": "markdown",
   "metadata": {},
   "source": [
    "## Aggregating sales to a monthly level and clipping target variable"
   ]
  },
  {
   "cell_type": "code",
   "execution_count": 60,
   "metadata": {},
   "outputs": [
    {
     "data": {
      "text/html": [
       "<div>\n",
       "<style scoped>\n",
       "    .dataframe tbody tr th:only-of-type {\n",
       "        vertical-align: middle;\n",
       "    }\n",
       "\n",
       "    .dataframe tbody tr th {\n",
       "        vertical-align: top;\n",
       "    }\n",
       "\n",
       "    .dataframe thead th {\n",
       "        text-align: right;\n",
       "    }\n",
       "</style>\n",
       "<table border=\"1\" class=\"dataframe\">\n",
       "  <thead>\n",
       "    <tr style=\"text-align: right;\">\n",
       "      <th></th>\n",
       "      <th>shop_id</th>\n",
       "      <th>item_id</th>\n",
       "      <th>date_block_num</th>\n",
       "      <th>item_cnt_month</th>\n",
       "    </tr>\n",
       "  </thead>\n",
       "  <tbody>\n",
       "    <tr>\n",
       "      <th>0</th>\n",
       "      <td>2</td>\n",
       "      <td>27</td>\n",
       "      <td>0</td>\n",
       "      <td>1.0</td>\n",
       "    </tr>\n",
       "    <tr>\n",
       "      <th>1</th>\n",
       "      <td>2</td>\n",
       "      <td>27</td>\n",
       "      <td>17</td>\n",
       "      <td>1.0</td>\n",
       "    </tr>\n",
       "    <tr>\n",
       "      <th>2</th>\n",
       "      <td>2</td>\n",
       "      <td>30</td>\n",
       "      <td>2</td>\n",
       "      <td>1.0</td>\n",
       "    </tr>\n",
       "    <tr>\n",
       "      <th>3</th>\n",
       "      <td>2</td>\n",
       "      <td>30</td>\n",
       "      <td>5</td>\n",
       "      <td>1.0</td>\n",
       "    </tr>\n",
       "    <tr>\n",
       "      <th>4</th>\n",
       "      <td>2</td>\n",
       "      <td>30</td>\n",
       "      <td>15</td>\n",
       "      <td>1.0</td>\n",
       "    </tr>\n",
       "  </tbody>\n",
       "</table>\n",
       "</div>"
      ],
      "text/plain": [
       "   shop_id  item_id  date_block_num  item_cnt_month\n",
       "0        2       27               0             1.0\n",
       "1        2       27              17             1.0\n",
       "2        2       30               2             1.0\n",
       "3        2       30               5             1.0\n",
       "4        2       30              15             1.0"
      ]
     },
     "execution_count": 60,
     "metadata": {},
     "output_type": "execute_result"
    }
   ],
   "source": [
    "x = train.groupby(['shop_id', 'item_id', 'date_block_num'])['item_cnt_day'].sum().rename('item_cnt_month').reset_index()\n",
    "x.head()"
   ]
  },
  {
   "cell_type": "code",
   "execution_count": 61,
   "metadata": {},
   "outputs": [
    {
     "data": {
      "text/plain": [
       "(1609123, 4)"
      ]
     },
     "execution_count": 61,
     "metadata": {},
     "output_type": "execute_result"
    }
   ],
   "source": [
    "x.shape"
   ]
  },
  {
   "cell_type": "markdown",
   "metadata": {},
   "source": [
    "Now we need to merge our two dataframes. For the intersecting, we will simply put the values that exist in the dataframe x. For the remaining rows, we will sub in zero. Remember, the columns you want to merge on are the intersection of shop_id, item_id, and date_block_num"
   ]
  },
  {
   "cell_type": "code",
   "execution_count": 62,
   "metadata": {},
   "outputs": [],
   "source": [
    "new_train = pd.merge(cartesian_df, x, on=['shop_id', 'item_id', 'date_block_num'], how='left').fillna(0)"
   ]
  },
  {
   "cell_type": "markdown",
   "metadata": {},
   "source": [
    "By default, pandas fills the dataframes with NaN. That's why we use fillna to replace all NaN's with zero."
   ]
  },
  {
   "cell_type": "code",
   "execution_count": 63,
   "metadata": {},
   "outputs": [],
   "source": [
    "new_train['item_cnt_month'] = np.clip(new_train['item_cnt_month'], 0, 20)"
   ]
  },
  {
   "cell_type": "code",
   "execution_count": 64,
   "metadata": {},
   "outputs": [],
   "source": [
    "del x\n",
    "del cartesian_df\n",
    "del cartesian\n",
    "del cartesian_test\n",
    "del cartesian_test_df\n",
    "del feb\n",
    "del jan\n",
    "del items_test_list\n",
    "del items_train_list\n",
    "del train"
   ]
  },
  {
   "cell_type": "code",
   "execution_count": 65,
   "metadata": {},
   "outputs": [
    {
     "data": {
      "text/html": [
       "<div>\n",
       "<style scoped>\n",
       "    .dataframe tbody tr th:only-of-type {\n",
       "        vertical-align: middle;\n",
       "    }\n",
       "\n",
       "    .dataframe tbody tr th {\n",
       "        vertical-align: top;\n",
       "    }\n",
       "\n",
       "    .dataframe thead th {\n",
       "        text-align: right;\n",
       "    }\n",
       "</style>\n",
       "<table border=\"1\" class=\"dataframe\">\n",
       "  <thead>\n",
       "    <tr style=\"text-align: right;\">\n",
       "      <th></th>\n",
       "      <th>shop_id</th>\n",
       "      <th>item_id</th>\n",
       "      <th>date_block_num</th>\n",
       "      <th>item_cnt_month</th>\n",
       "    </tr>\n",
       "  </thead>\n",
       "  <tbody>\n",
       "    <tr>\n",
       "      <th>114910</th>\n",
       "      <td>2</td>\n",
       "      <td>19</td>\n",
       "      <td>0</td>\n",
       "      <td>0.0</td>\n",
       "    </tr>\n",
       "    <tr>\n",
       "      <th>117150</th>\n",
       "      <td>2</td>\n",
       "      <td>27</td>\n",
       "      <td>0</td>\n",
       "      <td>1.0</td>\n",
       "    </tr>\n",
       "    <tr>\n",
       "      <th>120623</th>\n",
       "      <td>2</td>\n",
       "      <td>28</td>\n",
       "      <td>0</td>\n",
       "      <td>0.0</td>\n",
       "    </tr>\n",
       "    <tr>\n",
       "      <th>118316</th>\n",
       "      <td>2</td>\n",
       "      <td>29</td>\n",
       "      <td>0</td>\n",
       "      <td>0.0</td>\n",
       "    </tr>\n",
       "    <tr>\n",
       "      <th>114602</th>\n",
       "      <td>2</td>\n",
       "      <td>32</td>\n",
       "      <td>0</td>\n",
       "      <td>0.0</td>\n",
       "    </tr>\n",
       "  </tbody>\n",
       "</table>\n",
       "</div>"
      ],
      "text/plain": [
       "        shop_id  item_id  date_block_num  item_cnt_month\n",
       "114910        2       19               0             0.0\n",
       "117150        2       27               0             1.0\n",
       "120623        2       28               0             0.0\n",
       "118316        2       29               0             0.0\n",
       "114602        2       32               0             0.0"
      ]
     },
     "execution_count": 65,
     "metadata": {},
     "output_type": "execute_result"
    }
   ],
   "source": [
    "new_train.sort_values(['date_block_num','shop_id','item_id'], inplace = True)\n",
    "new_train.head()"
   ]
  },
  {
   "cell_type": "markdown",
   "metadata": {},
   "source": [
    "## Appending Test Set to Training Set"
   ]
  },
  {
   "cell_type": "markdown",
   "metadata": {},
   "source": [
    "First, let's insert the date_block_num feature for the test set! Using insert method of pandas to place this new column at a specific index. This will allow us to concatenate the test set easily to the training set before we generate mean encodings and lag features"
   ]
  },
  {
   "cell_type": "code",
   "execution_count": 66,
   "metadata": {},
   "outputs": [],
   "source": [
    "test.insert(loc=3, column='date_block_num', value=34)"
   ]
  },
  {
   "cell_type": "code",
   "execution_count": 67,
   "metadata": {},
   "outputs": [],
   "source": [
    "test['item_cnt_month'] = 0"
   ]
  },
  {
   "cell_type": "code",
   "execution_count": 68,
   "metadata": {},
   "outputs": [
    {
     "data": {
      "text/html": [
       "<div>\n",
       "<style scoped>\n",
       "    .dataframe tbody tr th:only-of-type {\n",
       "        vertical-align: middle;\n",
       "    }\n",
       "\n",
       "    .dataframe tbody tr th {\n",
       "        vertical-align: top;\n",
       "    }\n",
       "\n",
       "    .dataframe thead th {\n",
       "        text-align: right;\n",
       "    }\n",
       "</style>\n",
       "<table border=\"1\" class=\"dataframe\">\n",
       "  <thead>\n",
       "    <tr style=\"text-align: right;\">\n",
       "      <th></th>\n",
       "      <th>ID</th>\n",
       "      <th>shop_id</th>\n",
       "      <th>item_id</th>\n",
       "      <th>date_block_num</th>\n",
       "      <th>item_cnt_month</th>\n",
       "    </tr>\n",
       "  </thead>\n",
       "  <tbody>\n",
       "    <tr>\n",
       "      <th>0</th>\n",
       "      <td>0</td>\n",
       "      <td>5</td>\n",
       "      <td>5037</td>\n",
       "      <td>34</td>\n",
       "      <td>0</td>\n",
       "    </tr>\n",
       "    <tr>\n",
       "      <th>1</th>\n",
       "      <td>1</td>\n",
       "      <td>5</td>\n",
       "      <td>5320</td>\n",
       "      <td>34</td>\n",
       "      <td>0</td>\n",
       "    </tr>\n",
       "    <tr>\n",
       "      <th>2</th>\n",
       "      <td>2</td>\n",
       "      <td>5</td>\n",
       "      <td>5233</td>\n",
       "      <td>34</td>\n",
       "      <td>0</td>\n",
       "    </tr>\n",
       "    <tr>\n",
       "      <th>3</th>\n",
       "      <td>3</td>\n",
       "      <td>5</td>\n",
       "      <td>5232</td>\n",
       "      <td>34</td>\n",
       "      <td>0</td>\n",
       "    </tr>\n",
       "    <tr>\n",
       "      <th>4</th>\n",
       "      <td>4</td>\n",
       "      <td>5</td>\n",
       "      <td>5268</td>\n",
       "      <td>34</td>\n",
       "      <td>0</td>\n",
       "    </tr>\n",
       "  </tbody>\n",
       "</table>\n",
       "</div>"
      ],
      "text/plain": [
       "   ID  shop_id  item_id  date_block_num  item_cnt_month\n",
       "0   0        5     5037              34               0\n",
       "1   1        5     5320              34               0\n",
       "2   2        5     5233              34               0\n",
       "3   3        5     5232              34               0\n",
       "4   4        5     5268              34               0"
      ]
     },
     "execution_count": 68,
     "metadata": {},
     "output_type": "execute_result"
    }
   ],
   "source": [
    "test.head()"
   ]
  },
  {
   "cell_type": "code",
   "execution_count": 69,
   "metadata": {},
   "outputs": [],
   "source": [
    "new_train = new_train.append(test.drop('ID', axis = 1))"
   ]
  },
  {
   "cell_type": "markdown",
   "metadata": {},
   "source": [
    "### Merging Shops, Items, Categories dataframes to add the city label, category_id, main category and sub-category feature"
   ]
  },
  {
   "cell_type": "code",
   "execution_count": 70,
   "metadata": {},
   "outputs": [
    {
     "data": {
      "text/html": [
       "<div>\n",
       "<style scoped>\n",
       "    .dataframe tbody tr th:only-of-type {\n",
       "        vertical-align: middle;\n",
       "    }\n",
       "\n",
       "    .dataframe tbody tr th {\n",
       "        vertical-align: top;\n",
       "    }\n",
       "\n",
       "    .dataframe thead th {\n",
       "        text-align: right;\n",
       "    }\n",
       "</style>\n",
       "<table border=\"1\" class=\"dataframe\">\n",
       "  <thead>\n",
       "    <tr style=\"text-align: right;\">\n",
       "      <th></th>\n",
       "      <th>shop_id</th>\n",
       "      <th>item_id</th>\n",
       "      <th>date_block_num</th>\n",
       "      <th>item_cnt_month</th>\n",
       "      <th>city_label</th>\n",
       "    </tr>\n",
       "  </thead>\n",
       "  <tbody>\n",
       "    <tr>\n",
       "      <th>0</th>\n",
       "      <td>2</td>\n",
       "      <td>19</td>\n",
       "      <td>0</td>\n",
       "      <td>0.0</td>\n",
       "      <td>0</td>\n",
       "    </tr>\n",
       "    <tr>\n",
       "      <th>1</th>\n",
       "      <td>2</td>\n",
       "      <td>27</td>\n",
       "      <td>0</td>\n",
       "      <td>1.0</td>\n",
       "      <td>0</td>\n",
       "    </tr>\n",
       "    <tr>\n",
       "      <th>2</th>\n",
       "      <td>2</td>\n",
       "      <td>28</td>\n",
       "      <td>0</td>\n",
       "      <td>0.0</td>\n",
       "      <td>0</td>\n",
       "    </tr>\n",
       "    <tr>\n",
       "      <th>3</th>\n",
       "      <td>2</td>\n",
       "      <td>29</td>\n",
       "      <td>0</td>\n",
       "      <td>0.0</td>\n",
       "      <td>0</td>\n",
       "    </tr>\n",
       "    <tr>\n",
       "      <th>4</th>\n",
       "      <td>2</td>\n",
       "      <td>32</td>\n",
       "      <td>0</td>\n",
       "      <td>0.0</td>\n",
       "      <td>0</td>\n",
       "    </tr>\n",
       "  </tbody>\n",
       "</table>\n",
       "</div>"
      ],
      "text/plain": [
       "   shop_id  item_id  date_block_num  item_cnt_month  city_label\n",
       "0        2       19               0             0.0           0\n",
       "1        2       27               0             1.0           0\n",
       "2        2       28               0             0.0           0\n",
       "3        2       29               0             0.0           0\n",
       "4        2       32               0             0.0           0"
      ]
     },
     "execution_count": 70,
     "metadata": {},
     "output_type": "execute_result"
    }
   ],
   "source": [
    "new_train = pd.merge(new_train, shops, on=['shop_id'], how='left')\n",
    "new_train.head()"
   ]
  },
  {
   "cell_type": "code",
   "execution_count": 71,
   "metadata": {},
   "outputs": [
    {
     "data": {
      "text/html": [
       "<div>\n",
       "<style scoped>\n",
       "    .dataframe tbody tr th:only-of-type {\n",
       "        vertical-align: middle;\n",
       "    }\n",
       "\n",
       "    .dataframe tbody tr th {\n",
       "        vertical-align: top;\n",
       "    }\n",
       "\n",
       "    .dataframe thead th {\n",
       "        text-align: right;\n",
       "    }\n",
       "</style>\n",
       "<table border=\"1\" class=\"dataframe\">\n",
       "  <thead>\n",
       "    <tr style=\"text-align: right;\">\n",
       "      <th></th>\n",
       "      <th>shop_id</th>\n",
       "      <th>item_id</th>\n",
       "      <th>date_block_num</th>\n",
       "      <th>item_cnt_month</th>\n",
       "      <th>city_label</th>\n",
       "      <th>item_category_id</th>\n",
       "    </tr>\n",
       "  </thead>\n",
       "  <tbody>\n",
       "    <tr>\n",
       "      <th>0</th>\n",
       "      <td>2</td>\n",
       "      <td>19</td>\n",
       "      <td>0</td>\n",
       "      <td>0.0</td>\n",
       "      <td>0</td>\n",
       "      <td>40</td>\n",
       "    </tr>\n",
       "    <tr>\n",
       "      <th>1</th>\n",
       "      <td>2</td>\n",
       "      <td>27</td>\n",
       "      <td>0</td>\n",
       "      <td>1.0</td>\n",
       "      <td>0</td>\n",
       "      <td>19</td>\n",
       "    </tr>\n",
       "    <tr>\n",
       "      <th>2</th>\n",
       "      <td>2</td>\n",
       "      <td>28</td>\n",
       "      <td>0</td>\n",
       "      <td>0.0</td>\n",
       "      <td>0</td>\n",
       "      <td>30</td>\n",
       "    </tr>\n",
       "    <tr>\n",
       "      <th>3</th>\n",
       "      <td>2</td>\n",
       "      <td>29</td>\n",
       "      <td>0</td>\n",
       "      <td>0.0</td>\n",
       "      <td>0</td>\n",
       "      <td>23</td>\n",
       "    </tr>\n",
       "    <tr>\n",
       "      <th>4</th>\n",
       "      <td>2</td>\n",
       "      <td>32</td>\n",
       "      <td>0</td>\n",
       "      <td>0.0</td>\n",
       "      <td>0</td>\n",
       "      <td>40</td>\n",
       "    </tr>\n",
       "  </tbody>\n",
       "</table>\n",
       "</div>"
      ],
      "text/plain": [
       "   shop_id  item_id        ...         city_label  item_category_id\n",
       "0        2       19        ...                  0                40\n",
       "1        2       27        ...                  0                19\n",
       "2        2       28        ...                  0                30\n",
       "3        2       29        ...                  0                23\n",
       "4        2       32        ...                  0                40\n",
       "\n",
       "[5 rows x 6 columns]"
      ]
     },
     "execution_count": 71,
     "metadata": {},
     "output_type": "execute_result"
    }
   ],
   "source": [
    "new_train = pd.merge(new_train, items.drop('item_name', axis = 1), on=['item_id'], how='left')\n",
    "new_train.head()"
   ]
  },
  {
   "cell_type": "code",
   "execution_count": 72,
   "metadata": {},
   "outputs": [
    {
     "data": {
      "text/html": [
       "<div>\n",
       "<style scoped>\n",
       "    .dataframe tbody tr th:only-of-type {\n",
       "        vertical-align: middle;\n",
       "    }\n",
       "\n",
       "    .dataframe tbody tr th {\n",
       "        vertical-align: top;\n",
       "    }\n",
       "\n",
       "    .dataframe thead th {\n",
       "        text-align: right;\n",
       "    }\n",
       "</style>\n",
       "<table border=\"1\" class=\"dataframe\">\n",
       "  <thead>\n",
       "    <tr style=\"text-align: right;\">\n",
       "      <th></th>\n",
       "      <th>shop_id</th>\n",
       "      <th>item_id</th>\n",
       "      <th>date_block_num</th>\n",
       "      <th>item_cnt_month</th>\n",
       "      <th>city_label</th>\n",
       "      <th>item_category_id</th>\n",
       "      <th>main_category_id</th>\n",
       "      <th>sub_category_id</th>\n",
       "    </tr>\n",
       "  </thead>\n",
       "  <tbody>\n",
       "    <tr>\n",
       "      <th>0</th>\n",
       "      <td>2</td>\n",
       "      <td>19</td>\n",
       "      <td>0</td>\n",
       "      <td>0.0</td>\n",
       "      <td>0</td>\n",
       "      <td>40</td>\n",
       "      <td>11</td>\n",
       "      <td>4</td>\n",
       "    </tr>\n",
       "    <tr>\n",
       "      <th>1</th>\n",
       "      <td>2</td>\n",
       "      <td>27</td>\n",
       "      <td>0</td>\n",
       "      <td>1.0</td>\n",
       "      <td>0</td>\n",
       "      <td>19</td>\n",
       "      <td>5</td>\n",
       "      <td>10</td>\n",
       "    </tr>\n",
       "    <tr>\n",
       "      <th>2</th>\n",
       "      <td>2</td>\n",
       "      <td>28</td>\n",
       "      <td>0</td>\n",
       "      <td>0.0</td>\n",
       "      <td>0</td>\n",
       "      <td>30</td>\n",
       "      <td>8</td>\n",
       "      <td>55</td>\n",
       "    </tr>\n",
       "    <tr>\n",
       "      <th>3</th>\n",
       "      <td>2</td>\n",
       "      <td>29</td>\n",
       "      <td>0</td>\n",
       "      <td>0.0</td>\n",
       "      <td>0</td>\n",
       "      <td>23</td>\n",
       "      <td>5</td>\n",
       "      <td>16</td>\n",
       "    </tr>\n",
       "    <tr>\n",
       "      <th>4</th>\n",
       "      <td>2</td>\n",
       "      <td>32</td>\n",
       "      <td>0</td>\n",
       "      <td>0.0</td>\n",
       "      <td>0</td>\n",
       "      <td>40</td>\n",
       "      <td>11</td>\n",
       "      <td>4</td>\n",
       "    </tr>\n",
       "  </tbody>\n",
       "</table>\n",
       "</div>"
      ],
      "text/plain": [
       "   shop_id  item_id       ...         main_category_id  sub_category_id\n",
       "0        2       19       ...                       11                4\n",
       "1        2       27       ...                        5               10\n",
       "2        2       28       ...                        8               55\n",
       "3        2       29       ...                        5               16\n",
       "4        2       32       ...                       11                4\n",
       "\n",
       "[5 rows x 8 columns]"
      ]
     },
     "execution_count": 72,
     "metadata": {},
     "output_type": "execute_result"
    }
   ],
   "source": [
    "new_train = pd.merge(new_train, categories.drop('item_category_name', axis = 1), on=['item_category_id'], how='left')\n",
    "new_train.head()"
   ]
  },
  {
   "cell_type": "markdown",
   "metadata": {},
   "source": [
    "## Generating Lag Features and Mean-Encodings"
   ]
  },
  {
   "cell_type": "code",
   "execution_count": 73,
   "metadata": {},
   "outputs": [],
   "source": [
    "def generate_lag(train, months, lag_column):\n",
    "    for month in months:\n",
    "        # Speed up by grabbing only the useful bits\n",
    "        train_shift = train[['date_block_num', 'shop_id', 'item_id', lag_column]].copy()\n",
    "        train_shift.columns = ['date_block_num', 'shop_id', 'item_id', lag_column+'_lag_'+ str(month)]\n",
    "        train_shift['date_block_num'] += month\n",
    "        train = pd.merge(train, train_shift, on=['date_block_num', 'shop_id', 'item_id'], how='left')\n",
    "    return train"
   ]
  },
  {
   "cell_type": "code",
   "execution_count": 74,
   "metadata": {},
   "outputs": [],
   "source": [
    "del items\n",
    "del categories\n",
    "del shops\n",
    "del test"
   ]
  },
  {
   "cell_type": "code",
   "execution_count": 75,
   "metadata": {},
   "outputs": [],
   "source": [
    "new_train = downcast_dtypes(new_train)"
   ]
  },
  {
   "cell_type": "code",
   "execution_count": 76,
   "metadata": {},
   "outputs": [
    {
     "data": {
      "text/plain": [
       "21099"
      ]
     },
     "execution_count": 76,
     "metadata": {},
     "output_type": "execute_result"
    }
   ],
   "source": [
    "import gc\n",
    "gc.collect()"
   ]
  },
  {
   "cell_type": "markdown",
   "metadata": {},
   "source": [
    "### Lag for Target Variable"
   ]
  },
  {
   "cell_type": "code",
   "execution_count": 77,
   "metadata": {},
   "outputs": [
    {
     "name": "stdout",
     "output_type": "stream",
     "text": [
      "CPU times: user 49.5 s, sys: 23.1 s, total: 1min 12s\n",
      "Wall time: 1min 12s\n"
     ]
    }
   ],
   "source": [
    "%%time\n",
    "new_train = generate_lag(new_train, [1,2,3,4,5,6,12], 'item_cnt_month')"
   ]
  },
  {
   "cell_type": "markdown",
   "metadata": {},
   "source": [
    "### Lag for monthly Item-Target mean"
   ]
  },
  {
   "cell_type": "code",
   "execution_count": 78,
   "metadata": {},
   "outputs": [
    {
     "name": "stdout",
     "output_type": "stream",
     "text": [
      "CPU times: user 43.9 s, sys: 26.6 s, total: 1min 10s\n",
      "Wall time: 1min 10s\n"
     ]
    }
   ],
   "source": [
    "%%time\n",
    "group = new_train.groupby(['date_block_num', 'item_id'])['item_cnt_month'].mean().rename('item_month_mean').reset_index()\n",
    "new_train = pd.merge(new_train, group, on=['date_block_num', 'item_id'], how='left')\n",
    "new_train = generate_lag(new_train, [1,2,3,6,12], 'item_month_mean')\n",
    "new_train.drop(['item_month_mean'], axis=1, inplace=True)"
   ]
  },
  {
   "cell_type": "markdown",
   "metadata": {},
   "source": [
    "### Lag for monthly Shop-Target mean"
   ]
  },
  {
   "cell_type": "code",
   "execution_count": 79,
   "metadata": {},
   "outputs": [
    {
     "name": "stdout",
     "output_type": "stream",
     "text": [
      "CPU times: user 45.6 s, sys: 29.7 s, total: 1min 15s\n",
      "Wall time: 1min 15s\n"
     ]
    }
   ],
   "source": [
    "%%time\n",
    "group = new_train.groupby(['date_block_num', 'shop_id'])['item_cnt_month'].mean().rename('shop_month_mean').reset_index()\n",
    "new_train = pd.merge(new_train, group, on=['date_block_num', 'shop_id'], how='left')\n",
    "new_train = generate_lag(new_train, [1,2,3,6,12], 'shop_month_mean')\n",
    "new_train.drop(['shop_month_mean'], axis=1, inplace=True)"
   ]
  },
  {
   "cell_type": "markdown",
   "metadata": {},
   "source": [
    "### Lag for monthly Shop-Category mean"
   ]
  },
  {
   "cell_type": "code",
   "execution_count": 80,
   "metadata": {},
   "outputs": [
    {
     "name": "stdout",
     "output_type": "stream",
     "text": [
      "CPU times: user 22.6 s, sys: 16.8 s, total: 39.4 s\n",
      "Wall time: 39.4 s\n"
     ]
    }
   ],
   "source": [
    "%%time\n",
    "group = new_train.groupby(['date_block_num', 'shop_id', 'item_category_id'])['item_cnt_month'].mean().rename('shop_category_month_mean').reset_index()\n",
    "new_train = pd.merge(new_train, group, on=['date_block_num', 'shop_id', 'item_category_id'], how='left')\n",
    "new_train = generate_lag(new_train, [1, 2], 'shop_category_month_mean')\n",
    "new_train.drop(['shop_category_month_mean'], axis=1, inplace=True)"
   ]
  },
  {
   "cell_type": "markdown",
   "metadata": {},
   "source": [
    "### Lag for Monthly Main-Category mean"
   ]
  },
  {
   "cell_type": "code",
   "execution_count": 81,
   "metadata": {},
   "outputs": [
    {
     "name": "stdout",
     "output_type": "stream",
     "text": [
      "CPU times: user 13.4 s, sys: 11.3 s, total: 24.7 s\n",
      "Wall time: 24.7 s\n"
     ]
    }
   ],
   "source": [
    "%%time\n",
    "group = new_train.groupby(['date_block_num', 'main_category_id'])['item_cnt_month'].mean().rename('main_category_month_mean').reset_index()\n",
    "new_train = pd.merge(new_train, group, on=['date_block_num', 'main_category_id'], how='left')\n",
    "\n",
    "new_train = generate_lag(new_train, [1], 'main_category_month_mean')\n",
    "new_train.drop(['main_category_month_mean'], axis=1, inplace=True)"
   ]
  },
  {
   "cell_type": "markdown",
   "metadata": {},
   "source": [
    "### Lag for Monthly Sub-Category mean"
   ]
  },
  {
   "cell_type": "code",
   "execution_count": 82,
   "metadata": {},
   "outputs": [
    {
     "name": "stdout",
     "output_type": "stream",
     "text": [
      "CPU times: user 13.6 s, sys: 11.4 s, total: 25 s\n",
      "Wall time: 25 s\n"
     ]
    }
   ],
   "source": [
    "%%time\n",
    "group = new_train.groupby(['date_block_num', 'sub_category_id'])['item_cnt_month'].mean().rename('sub_category_month_mean').reset_index()\n",
    "new_train = pd.merge(new_train, group, on=['date_block_num', 'sub_category_id'], how='left')\n",
    "\n",
    "new_train = generate_lag(new_train, [1], 'sub_category_month_mean')\n",
    "new_train.drop(['sub_category_month_mean'], axis=1, inplace=True)"
   ]
  },
  {
   "cell_type": "code",
   "execution_count": 83,
   "metadata": {},
   "outputs": [
    {
     "data": {
      "text/html": [
       "<div>\n",
       "<style scoped>\n",
       "    .dataframe tbody tr th:only-of-type {\n",
       "        vertical-align: middle;\n",
       "    }\n",
       "\n",
       "    .dataframe tbody tr th {\n",
       "        vertical-align: top;\n",
       "    }\n",
       "\n",
       "    .dataframe thead th {\n",
       "        text-align: right;\n",
       "    }\n",
       "</style>\n",
       "<table border=\"1\" class=\"dataframe\">\n",
       "  <thead>\n",
       "    <tr style=\"text-align: right;\">\n",
       "      <th></th>\n",
       "      <th>shop_id</th>\n",
       "      <th>item_id</th>\n",
       "      <th>date_block_num</th>\n",
       "      <th>item_cnt_month</th>\n",
       "      <th>city_label</th>\n",
       "      <th>item_category_id</th>\n",
       "      <th>main_category_id</th>\n",
       "      <th>sub_category_id</th>\n",
       "      <th>item_cnt_month_lag_1</th>\n",
       "      <th>item_cnt_month_lag_2</th>\n",
       "      <th>item_cnt_month_lag_3</th>\n",
       "      <th>item_cnt_month_lag_4</th>\n",
       "      <th>item_cnt_month_lag_5</th>\n",
       "      <th>item_cnt_month_lag_6</th>\n",
       "      <th>item_cnt_month_lag_12</th>\n",
       "      <th>item_month_mean_lag_1</th>\n",
       "      <th>item_month_mean_lag_2</th>\n",
       "      <th>item_month_mean_lag_3</th>\n",
       "      <th>item_month_mean_lag_6</th>\n",
       "      <th>item_month_mean_lag_12</th>\n",
       "      <th>shop_month_mean_lag_1</th>\n",
       "      <th>shop_month_mean_lag_2</th>\n",
       "      <th>shop_month_mean_lag_3</th>\n",
       "      <th>shop_month_mean_lag_6</th>\n",
       "      <th>shop_month_mean_lag_12</th>\n",
       "      <th>shop_category_month_mean_lag_1</th>\n",
       "      <th>shop_category_month_mean_lag_2</th>\n",
       "      <th>main_category_month_mean_lag_1</th>\n",
       "      <th>sub_category_month_mean_lag_1</th>\n",
       "    </tr>\n",
       "  </thead>\n",
       "  <tbody>\n",
       "    <tr>\n",
       "      <th>11127999</th>\n",
       "      <td>45</td>\n",
       "      <td>18454</td>\n",
       "      <td>34</td>\n",
       "      <td>0.0</td>\n",
       "      <td>20</td>\n",
       "      <td>55</td>\n",
       "      <td>13</td>\n",
       "      <td>2</td>\n",
       "      <td>1.0</td>\n",
       "      <td>0.0</td>\n",
       "      <td>0.0</td>\n",
       "      <td>0.0</td>\n",
       "      <td>0.0</td>\n",
       "      <td>0.0</td>\n",
       "      <td>NaN</td>\n",
       "      <td>0.045441</td>\n",
       "      <td>0.023254</td>\n",
       "      <td>0.071411</td>\n",
       "      <td>0.590820</td>\n",
       "      <td>NaN</td>\n",
       "      <td>0.126709</td>\n",
       "      <td>0.128784</td>\n",
       "      <td>0.139038</td>\n",
       "      <td>0.137573</td>\n",
       "      <td>NaN</td>\n",
       "      <td>0.126831</td>\n",
       "      <td>0.074524</td>\n",
       "      <td>0.146973</td>\n",
       "      <td>0.196899</td>\n",
       "    </tr>\n",
       "    <tr>\n",
       "      <th>11128000</th>\n",
       "      <td>45</td>\n",
       "      <td>16188</td>\n",
       "      <td>34</td>\n",
       "      <td>0.0</td>\n",
       "      <td>20</td>\n",
       "      <td>64</td>\n",
       "      <td>14</td>\n",
       "      <td>42</td>\n",
       "      <td>0.0</td>\n",
       "      <td>0.0</td>\n",
       "      <td>NaN</td>\n",
       "      <td>NaN</td>\n",
       "      <td>NaN</td>\n",
       "      <td>NaN</td>\n",
       "      <td>NaN</td>\n",
       "      <td>0.022720</td>\n",
       "      <td>0.069763</td>\n",
       "      <td>NaN</td>\n",
       "      <td>NaN</td>\n",
       "      <td>NaN</td>\n",
       "      <td>0.126709</td>\n",
       "      <td>0.128784</td>\n",
       "      <td>NaN</td>\n",
       "      <td>NaN</td>\n",
       "      <td>NaN</td>\n",
       "      <td>0.094482</td>\n",
       "      <td>0.117126</td>\n",
       "      <td>0.237305</td>\n",
       "      <td>0.155884</td>\n",
       "    </tr>\n",
       "    <tr>\n",
       "      <th>11128001</th>\n",
       "      <td>45</td>\n",
       "      <td>15757</td>\n",
       "      <td>34</td>\n",
       "      <td>0.0</td>\n",
       "      <td>20</td>\n",
       "      <td>55</td>\n",
       "      <td>13</td>\n",
       "      <td>2</td>\n",
       "      <td>0.0</td>\n",
       "      <td>0.0</td>\n",
       "      <td>0.0</td>\n",
       "      <td>0.0</td>\n",
       "      <td>0.0</td>\n",
       "      <td>0.0</td>\n",
       "      <td>0.0</td>\n",
       "      <td>0.113647</td>\n",
       "      <td>0.069763</td>\n",
       "      <td>0.095215</td>\n",
       "      <td>0.250000</td>\n",
       "      <td>0.180054</td>\n",
       "      <td>0.126709</td>\n",
       "      <td>0.128784</td>\n",
       "      <td>0.139038</td>\n",
       "      <td>0.137573</td>\n",
       "      <td>0.181274</td>\n",
       "      <td>0.126831</td>\n",
       "      <td>0.074524</td>\n",
       "      <td>0.146973</td>\n",
       "      <td>0.196899</td>\n",
       "    </tr>\n",
       "    <tr>\n",
       "      <th>11128002</th>\n",
       "      <td>45</td>\n",
       "      <td>19648</td>\n",
       "      <td>34</td>\n",
       "      <td>0.0</td>\n",
       "      <td>20</td>\n",
       "      <td>40</td>\n",
       "      <td>11</td>\n",
       "      <td>4</td>\n",
       "      <td>0.0</td>\n",
       "      <td>0.0</td>\n",
       "      <td>0.0</td>\n",
       "      <td>0.0</td>\n",
       "      <td>0.0</td>\n",
       "      <td>0.0</td>\n",
       "      <td>NaN</td>\n",
       "      <td>0.045441</td>\n",
       "      <td>0.069763</td>\n",
       "      <td>0.166626</td>\n",
       "      <td>0.090881</td>\n",
       "      <td>NaN</td>\n",
       "      <td>0.126709</td>\n",
       "      <td>0.128784</td>\n",
       "      <td>0.139038</td>\n",
       "      <td>0.137573</td>\n",
       "      <td>NaN</td>\n",
       "      <td>0.083740</td>\n",
       "      <td>0.074097</td>\n",
       "      <td>0.224243</td>\n",
       "      <td>0.220825</td>\n",
       "    </tr>\n",
       "    <tr>\n",
       "      <th>11128003</th>\n",
       "      <td>45</td>\n",
       "      <td>969</td>\n",
       "      <td>34</td>\n",
       "      <td>0.0</td>\n",
       "      <td>20</td>\n",
       "      <td>37</td>\n",
       "      <td>11</td>\n",
       "      <td>1</td>\n",
       "      <td>0.0</td>\n",
       "      <td>0.0</td>\n",
       "      <td>0.0</td>\n",
       "      <td>0.0</td>\n",
       "      <td>0.0</td>\n",
       "      <td>0.0</td>\n",
       "      <td>0.0</td>\n",
       "      <td>0.068176</td>\n",
       "      <td>0.116272</td>\n",
       "      <td>0.023804</td>\n",
       "      <td>0.068176</td>\n",
       "      <td>0.119995</td>\n",
       "      <td>0.126709</td>\n",
       "      <td>0.128784</td>\n",
       "      <td>0.139038</td>\n",
       "      <td>0.137573</td>\n",
       "      <td>0.181274</td>\n",
       "      <td>0.128174</td>\n",
       "      <td>0.067444</td>\n",
       "      <td>0.224243</td>\n",
       "      <td>0.240967</td>\n",
       "    </tr>\n",
       "  </tbody>\n",
       "</table>\n",
       "</div>"
      ],
      "text/plain": [
       "          shop_id              ...                sub_category_month_mean_lag_1\n",
       "11127999       45              ...                                     0.196899\n",
       "11128000       45              ...                                     0.155884\n",
       "11128001       45              ...                                     0.196899\n",
       "11128002       45              ...                                     0.220825\n",
       "11128003       45              ...                                     0.240967\n",
       "\n",
       "[5 rows x 29 columns]"
      ]
     },
     "execution_count": 83,
     "metadata": {},
     "output_type": "execute_result"
    }
   ],
   "source": [
    "new_train.tail()"
   ]
  },
  {
   "cell_type": "markdown",
   "metadata": {},
   "source": [
    "### Add month feature!"
   ]
  },
  {
   "cell_type": "code",
   "execution_count": 84,
   "metadata": {},
   "outputs": [],
   "source": [
    "new_train['month'] = new_train['date_block_num'] % 12"
   ]
  },
  {
   "cell_type": "markdown",
   "metadata": {},
   "source": [
    "### Add Holiday feature!"
   ]
  },
  {
   "cell_type": "code",
   "execution_count": 85,
   "metadata": {},
   "outputs": [],
   "source": [
    "holiday_dict = {\n",
    "    0: 6,\n",
    "    1: 3,\n",
    "    2: 2,\n",
    "    3: 8,\n",
    "    4: 3,\n",
    "    5: 3,\n",
    "    6: 2,\n",
    "    7: 8,\n",
    "    8: 4,\n",
    "    9: 8,\n",
    "    10: 5,\n",
    "    11: 4,\n",
    "}"
   ]
  },
  {
   "cell_type": "code",
   "execution_count": 86,
   "metadata": {},
   "outputs": [],
   "source": [
    "new_train['holidays_in_month'] = new_train['month'].map(holiday_dict)"
   ]
  },
  {
   "cell_type": "markdown",
   "metadata": {},
   "source": [
    "### Russian Ruble Price per month!"
   ]
  },
  {
   "cell_type": "code",
   "execution_count": 87,
   "metadata": {},
   "outputs": [],
   "source": [
    "# ruble_dollar = { 12: 33.675610, 13: 35.245171, 14: 36.195442, 15: 35.658811, 16: 34.918525, 17: 34.392044, 18: 34.684944, 19: 36.144526, 20: 37.951523, 21: 40.815324, 22: 46.257598, 23: 55.966912, 24: 63.676710, 25: 64.443511, 26: 60.261687, 27: 53.179035, 28: 50.682796, 29: 54.610770, 30: 57.155767, 31: 65.355082, 32: 66.950360, 33: 63.126499, 34: 65.083095, }"
   ]
  },
  {
   "cell_type": "code",
   "execution_count": 88,
   "metadata": {},
   "outputs": [],
   "source": [
    "# new_train['ruble_value'] = new_train.date_block_num.map(ruble_dollar)"
   ]
  },
  {
   "cell_type": "markdown",
   "metadata": {},
   "source": [
    "### Russian Stock Exchange Trading Volume (in Trillions)"
   ]
  },
  {
   "cell_type": "code",
   "execution_count": 89,
   "metadata": {},
   "outputs": [],
   "source": [
    "moex = {\n",
    "    12: 659, 13: 640, 14: 1231,\n",
    "    15: 881, 16: 764, 17: 663,\n",
    "    18: 743, 19: 627, 20: 692,\n",
    "    21: 736, 22: 680, 23: 1092,\n",
    "    24: 657, 25: 863, 26: 720,\n",
    "    27: 819, 28: 574, 29: 568,\n",
    "    30: 633, 31: 658, 32: 611,\n",
    "    33: 770, 34: 723,\n",
    "}"
   ]
  },
  {
   "cell_type": "code",
   "execution_count": 90,
   "metadata": {},
   "outputs": [],
   "source": [
    "new_train['moex_value'] = new_train.date_block_num.map(moex)"
   ]
  },
  {
   "cell_type": "code",
   "execution_count": 91,
   "metadata": {},
   "outputs": [],
   "source": [
    "new_train = downcast_dtypes(new_train)"
   ]
  },
  {
   "cell_type": "markdown",
   "metadata": {},
   "source": [
    "# Training"
   ]
  },
  {
   "cell_type": "code",
   "execution_count": 92,
   "metadata": {},
   "outputs": [],
   "source": [
    "import xgboost as xgb"
   ]
  },
  {
   "cell_type": "code",
   "execution_count": 93,
   "metadata": {},
   "outputs": [],
   "source": [
    "new_train = new_train[new_train.date_block_num > 11]\n",
    "\n",
    "# x_train = new_train[new_train.date_block_num < 33].drop(['item_cnt_month'], axis=1)\n",
    "# y_train = new_train[new_train.date_block_num < 33]['item_cnt_month']\n",
    "\n",
    "# x_valid = new_train[new_train.date_block_num == 33].drop(['item_cnt_month'], axis=1)\n",
    "# y_valid = new_train[new_train.date_block_num == 33]['item_cnt_month']\n",
    "\n",
    "# x_test = new_train[new_train.date_block_num == 34].drop(['item_cnt_month'], axis=1)"
   ]
  },
  {
   "cell_type": "code",
   "execution_count": 94,
   "metadata": {},
   "outputs": [
    {
     "data": {
      "text/plain": [
       "56"
      ]
     },
     "execution_count": 94,
     "metadata": {},
     "output_type": "execute_result"
    }
   ],
   "source": [
    "import gc\n",
    "gc.collect()"
   ]
  },
  {
   "cell_type": "code",
   "execution_count": 95,
   "metadata": {},
   "outputs": [],
   "source": [
    "def fill_na(df):\n",
    "    for col in df.columns:\n",
    "        if ('_lag_' in col) & (df[col].isnull().any()):\n",
    "            df[col].fillna(0, inplace=True)         \n",
    "    return df\n",
    "\n",
    "new_train = fill_na(new_train)"
   ]
  },
  {
   "cell_type": "raw",
   "metadata": {},
   "source": [
    "new_train = new_train.reset_index(drop = True)\n",
    "new_train.to_feather('new_train_baller')"
   ]
  },
  {
   "cell_type": "code",
   "execution_count": 96,
   "metadata": {},
   "outputs": [],
   "source": [
    "def xgtrain():\n",
    "    regressor = xgb.XGBRegressor(n_estimators = 5000,\n",
    "                                 learning_rate = 0.01,\n",
    "                                 max_depth = 10,\n",
    "                                 subsample = 0.5,\n",
    "                                 colsample_bytree = 0.5)\n",
    "    \n",
    "    regressor_ = regressor.fit(new_train[new_train.date_block_num < 33].drop(['item_cnt_month'], axis=1).values, \n",
    "                               new_train[new_train.date_block_num < 33]['item_cnt_month'].values, \n",
    "                               eval_metric = 'rmse', \n",
    "                               eval_set = [(new_train[new_train.date_block_num < 33].drop(['item_cnt_month'], axis=1).values, \n",
    "                                            new_train[new_train.date_block_num < 33]['item_cnt_month'].values), \n",
    "                                           (new_train[new_train.date_block_num == 33].drop(['item_cnt_month'], axis=1).values, \n",
    "                                            new_train[new_train.date_block_num == 33]['item_cnt_month'].values)\n",
    "                                          ], \n",
    "                               verbose=True,\n",
    "                               early_stopping_rounds = 50,\n",
    "                              )\n",
    "    return regressor_"
   ]
  },
  {
   "cell_type": "code",
   "execution_count": 97,
   "metadata": {
    "_kg_hide-output": false
   },
   "outputs": [
    {
     "name": "stdout",
     "output_type": "stream",
     "text": [
      "[0]\tvalidation_0-rmse:1.16624\tvalidation_1-rmse:1.15849\n",
      "Multiple eval metrics have been passed: 'validation_1-rmse' will be used for early stopping.\n",
      "\n",
      "Will train until validation_1-rmse hasn't improved in 50 rounds.\n",
      "[1]\tvalidation_0-rmse:1.1619\tvalidation_1-rmse:1.15471\n",
      "[2]\tvalidation_0-rmse:1.15849\tvalidation_1-rmse:1.15117\n",
      "[3]\tvalidation_0-rmse:1.15488\tvalidation_1-rmse:1.14692\n",
      "[4]\tvalidation_0-rmse:1.15079\tvalidation_1-rmse:1.14293\n",
      "[5]\tvalidation_0-rmse:1.14681\tvalidation_1-rmse:1.13899\n",
      "[6]\tvalidation_0-rmse:1.14306\tvalidation_1-rmse:1.13576\n",
      "[7]\tvalidation_0-rmse:1.13851\tvalidation_1-rmse:1.13225\n",
      "[8]\tvalidation_0-rmse:1.13465\tvalidation_1-rmse:1.12911\n",
      "[9]\tvalidation_0-rmse:1.13051\tvalidation_1-rmse:1.12544\n",
      "[10]\tvalidation_0-rmse:1.12627\tvalidation_1-rmse:1.12159\n",
      "[11]\tvalidation_0-rmse:1.12301\tvalidation_1-rmse:1.11846\n",
      "[12]\tvalidation_0-rmse:1.1196\tvalidation_1-rmse:1.11478\n",
      "[13]\tvalidation_0-rmse:1.11615\tvalidation_1-rmse:1.1112\n",
      "[14]\tvalidation_0-rmse:1.11236\tvalidation_1-rmse:1.10795\n",
      "[15]\tvalidation_0-rmse:1.10832\tvalidation_1-rmse:1.10531\n",
      "[16]\tvalidation_0-rmse:1.10418\tvalidation_1-rmse:1.10234\n",
      "[17]\tvalidation_0-rmse:1.10047\tvalidation_1-rmse:1.09898\n",
      "[18]\tvalidation_0-rmse:1.09758\tvalidation_1-rmse:1.09623\n",
      "[19]\tvalidation_0-rmse:1.09383\tvalidation_1-rmse:1.09297\n",
      "[20]\tvalidation_0-rmse:1.09017\tvalidation_1-rmse:1.0899\n",
      "[21]\tvalidation_0-rmse:1.08639\tvalidation_1-rmse:1.08657\n",
      "[22]\tvalidation_0-rmse:1.08289\tvalidation_1-rmse:1.08344\n",
      "[23]\tvalidation_0-rmse:1.07932\tvalidation_1-rmse:1.08042\n",
      "[24]\tvalidation_0-rmse:1.07577\tvalidation_1-rmse:1.07761\n",
      "[25]\tvalidation_0-rmse:1.07329\tvalidation_1-rmse:1.07555\n",
      "[26]\tvalidation_0-rmse:1.06993\tvalidation_1-rmse:1.07284\n",
      "[27]\tvalidation_0-rmse:1.06735\tvalidation_1-rmse:1.07047\n",
      "[28]\tvalidation_0-rmse:1.06469\tvalidation_1-rmse:1.06773\n",
      "[29]\tvalidation_0-rmse:1.06158\tvalidation_1-rmse:1.06509\n",
      "[30]\tvalidation_0-rmse:1.05852\tvalidation_1-rmse:1.06236\n",
      "[31]\tvalidation_0-rmse:1.05562\tvalidation_1-rmse:1.05976\n",
      "[32]\tvalidation_0-rmse:1.05276\tvalidation_1-rmse:1.05701\n",
      "[33]\tvalidation_0-rmse:1.04997\tvalidation_1-rmse:1.05464\n",
      "[34]\tvalidation_0-rmse:1.04715\tvalidation_1-rmse:1.05218\n",
      "[35]\tvalidation_0-rmse:1.04274\tvalidation_1-rmse:1.04991\n",
      "[36]\tvalidation_0-rmse:1.03865\tvalidation_1-rmse:1.04812\n",
      "[37]\tvalidation_0-rmse:1.03442\tvalidation_1-rmse:1.0462\n",
      "[38]\tvalidation_0-rmse:1.03071\tvalidation_1-rmse:1.04426\n",
      "[39]\tvalidation_0-rmse:1.02659\tvalidation_1-rmse:1.04203\n",
      "[40]\tvalidation_0-rmse:1.02305\tvalidation_1-rmse:1.03999\n",
      "[41]\tvalidation_0-rmse:1.01949\tvalidation_1-rmse:1.03766\n",
      "[42]\tvalidation_0-rmse:1.01682\tvalidation_1-rmse:1.03608\n",
      "[43]\tvalidation_0-rmse:1.01371\tvalidation_1-rmse:1.0342\n",
      "[44]\tvalidation_0-rmse:1.01062\tvalidation_1-rmse:1.03221\n",
      "[45]\tvalidation_0-rmse:1.00845\tvalidation_1-rmse:1.03062\n",
      "[46]\tvalidation_0-rmse:1.00555\tvalidation_1-rmse:1.0283\n",
      "[47]\tvalidation_0-rmse:1.00269\tvalidation_1-rmse:1.02615\n",
      "[48]\tvalidation_0-rmse:0.999898\tvalidation_1-rmse:1.02433\n",
      "[49]\tvalidation_0-rmse:0.997229\tvalidation_1-rmse:1.02244\n",
      "[50]\tvalidation_0-rmse:0.994612\tvalidation_1-rmse:1.0206\n",
      "[51]\tvalidation_0-rmse:0.992077\tvalidation_1-rmse:1.01897\n",
      "[52]\tvalidation_0-rmse:0.989548\tvalidation_1-rmse:1.01719\n",
      "[53]\tvalidation_0-rmse:0.986742\tvalidation_1-rmse:1.01529\n",
      "[54]\tvalidation_0-rmse:0.984284\tvalidation_1-rmse:1.01344\n",
      "[55]\tvalidation_0-rmse:0.982191\tvalidation_1-rmse:1.01187\n",
      "[56]\tvalidation_0-rmse:0.979945\tvalidation_1-rmse:1.01018\n",
      "[57]\tvalidation_0-rmse:0.977477\tvalidation_1-rmse:1.00847\n",
      "[58]\tvalidation_0-rmse:0.975314\tvalidation_1-rmse:1.00683\n",
      "[59]\tvalidation_0-rmse:0.973218\tvalidation_1-rmse:1.00534\n",
      "[60]\tvalidation_0-rmse:0.970983\tvalidation_1-rmse:1.00382\n",
      "[61]\tvalidation_0-rmse:0.968866\tvalidation_1-rmse:1.00224\n",
      "[62]\tvalidation_0-rmse:0.967138\tvalidation_1-rmse:1.00104\n",
      "[63]\tvalidation_0-rmse:0.964939\tvalidation_1-rmse:0.999747\n",
      "[64]\tvalidation_0-rmse:0.963189\tvalidation_1-rmse:0.998231\n",
      "[65]\tvalidation_0-rmse:0.961116\tvalidation_1-rmse:0.996603\n",
      "[66]\tvalidation_0-rmse:0.959731\tvalidation_1-rmse:0.995505\n",
      "[67]\tvalidation_0-rmse:0.958097\tvalidation_1-rmse:0.994132\n",
      "[68]\tvalidation_0-rmse:0.956248\tvalidation_1-rmse:0.992836\n",
      "[69]\tvalidation_0-rmse:0.954306\tvalidation_1-rmse:0.991492\n",
      "[70]\tvalidation_0-rmse:0.952038\tvalidation_1-rmse:0.990056\n",
      "[71]\tvalidation_0-rmse:0.950277\tvalidation_1-rmse:0.98889\n",
      "[72]\tvalidation_0-rmse:0.948457\tvalidation_1-rmse:0.98773\n",
      "[73]\tvalidation_0-rmse:0.946575\tvalidation_1-rmse:0.986453\n",
      "[74]\tvalidation_0-rmse:0.944667\tvalidation_1-rmse:0.985364\n",
      "[75]\tvalidation_0-rmse:0.942841\tvalidation_1-rmse:0.984312\n",
      "[76]\tvalidation_0-rmse:0.941034\tvalidation_1-rmse:0.983284\n",
      "[77]\tvalidation_0-rmse:0.938953\tvalidation_1-rmse:0.9819\n",
      "[78]\tvalidation_0-rmse:0.937437\tvalidation_1-rmse:0.980883\n",
      "[79]\tvalidation_0-rmse:0.935625\tvalidation_1-rmse:0.979632\n",
      "[80]\tvalidation_0-rmse:0.934238\tvalidation_1-rmse:0.978762\n",
      "[81]\tvalidation_0-rmse:0.932371\tvalidation_1-rmse:0.977486\n",
      "[82]\tvalidation_0-rmse:0.930651\tvalidation_1-rmse:0.976403\n",
      "[83]\tvalidation_0-rmse:0.928876\tvalidation_1-rmse:0.975256\n",
      "[84]\tvalidation_0-rmse:0.927266\tvalidation_1-rmse:0.974356\n",
      "[85]\tvalidation_0-rmse:0.926033\tvalidation_1-rmse:0.973516\n",
      "[86]\tvalidation_0-rmse:0.924625\tvalidation_1-rmse:0.97261\n",
      "[87]\tvalidation_0-rmse:0.923041\tvalidation_1-rmse:0.97169\n",
      "[88]\tvalidation_0-rmse:0.92145\tvalidation_1-rmse:0.970702\n",
      "[89]\tvalidation_0-rmse:0.920101\tvalidation_1-rmse:0.969743\n",
      "[90]\tvalidation_0-rmse:0.918685\tvalidation_1-rmse:0.968862\n",
      "[91]\tvalidation_0-rmse:0.917708\tvalidation_1-rmse:0.968166\n",
      "[92]\tvalidation_0-rmse:0.91628\tvalidation_1-rmse:0.967426\n",
      "[93]\tvalidation_0-rmse:0.914914\tvalidation_1-rmse:0.966561\n",
      "[94]\tvalidation_0-rmse:0.913465\tvalidation_1-rmse:0.965479\n",
      "[95]\tvalidation_0-rmse:0.912021\tvalidation_1-rmse:0.964632\n",
      "[96]\tvalidation_0-rmse:0.910927\tvalidation_1-rmse:0.963796\n",
      "[97]\tvalidation_0-rmse:0.909534\tvalidation_1-rmse:0.962851\n",
      "[98]\tvalidation_0-rmse:0.908178\tvalidation_1-rmse:0.9619\n",
      "[99]\tvalidation_0-rmse:0.907034\tvalidation_1-rmse:0.961124\n",
      "[100]\tvalidation_0-rmse:0.906022\tvalidation_1-rmse:0.96045\n",
      "[101]\tvalidation_0-rmse:0.90481\tvalidation_1-rmse:0.959615\n",
      "[102]\tvalidation_0-rmse:0.903559\tvalidation_1-rmse:0.958801\n",
      "[103]\tvalidation_0-rmse:0.902342\tvalidation_1-rmse:0.958017\n",
      "[104]\tvalidation_0-rmse:0.901035\tvalidation_1-rmse:0.957307\n",
      "[105]\tvalidation_0-rmse:0.89982\tvalidation_1-rmse:0.956563\n",
      "[106]\tvalidation_0-rmse:0.898513\tvalidation_1-rmse:0.955719\n",
      "[107]\tvalidation_0-rmse:0.897242\tvalidation_1-rmse:0.954923\n",
      "[108]\tvalidation_0-rmse:0.895952\tvalidation_1-rmse:0.954164\n",
      "[109]\tvalidation_0-rmse:0.894733\tvalidation_1-rmse:0.953524\n",
      "[110]\tvalidation_0-rmse:0.893591\tvalidation_1-rmse:0.952843\n",
      "[111]\tvalidation_0-rmse:0.892762\tvalidation_1-rmse:0.952313\n",
      "[112]\tvalidation_0-rmse:0.891788\tvalidation_1-rmse:0.951726\n",
      "[113]\tvalidation_0-rmse:0.890932\tvalidation_1-rmse:0.951201\n",
      "[114]\tvalidation_0-rmse:0.889955\tvalidation_1-rmse:0.950703\n",
      "[115]\tvalidation_0-rmse:0.888831\tvalidation_1-rmse:0.950065\n",
      "[116]\tvalidation_0-rmse:0.887688\tvalidation_1-rmse:0.949527\n",
      "[117]\tvalidation_0-rmse:0.88658\tvalidation_1-rmse:0.948986\n",
      "[118]\tvalidation_0-rmse:0.885462\tvalidation_1-rmse:0.948449\n",
      "[119]\tvalidation_0-rmse:0.884482\tvalidation_1-rmse:0.94785\n",
      "[120]\tvalidation_0-rmse:0.883464\tvalidation_1-rmse:0.947226\n",
      "[121]\tvalidation_0-rmse:0.882368\tvalidation_1-rmse:0.946579\n",
      "[122]\tvalidation_0-rmse:0.881421\tvalidation_1-rmse:0.945955\n",
      "[123]\tvalidation_0-rmse:0.880768\tvalidation_1-rmse:0.94549\n",
      "[124]\tvalidation_0-rmse:0.880033\tvalidation_1-rmse:0.944969\n",
      "[125]\tvalidation_0-rmse:0.879051\tvalidation_1-rmse:0.944411\n",
      "[126]\tvalidation_0-rmse:0.878085\tvalidation_1-rmse:0.943898\n",
      "[127]\tvalidation_0-rmse:0.877215\tvalidation_1-rmse:0.943499\n",
      "[128]\tvalidation_0-rmse:0.876333\tvalidation_1-rmse:0.942997\n",
      "[129]\tvalidation_0-rmse:0.875423\tvalidation_1-rmse:0.942575\n",
      "[130]\tvalidation_0-rmse:0.874574\tvalidation_1-rmse:0.942096\n",
      "[131]\tvalidation_0-rmse:0.873842\tvalidation_1-rmse:0.941666\n",
      "[132]\tvalidation_0-rmse:0.872975\tvalidation_1-rmse:0.941189\n",
      "[133]\tvalidation_0-rmse:0.87226\tvalidation_1-rmse:0.940706\n",
      "[134]\tvalidation_0-rmse:0.871483\tvalidation_1-rmse:0.940196\n",
      "[135]\tvalidation_0-rmse:0.870702\tvalidation_1-rmse:0.939813\n",
      "[136]\tvalidation_0-rmse:0.869895\tvalidation_1-rmse:0.939421\n",
      "[137]\tvalidation_0-rmse:0.869062\tvalidation_1-rmse:0.939012\n",
      "[138]\tvalidation_0-rmse:0.868267\tvalidation_1-rmse:0.93858\n",
      "[139]\tvalidation_0-rmse:0.86749\tvalidation_1-rmse:0.938223\n",
      "[140]\tvalidation_0-rmse:0.866795\tvalidation_1-rmse:0.937961\n",
      "[141]\tvalidation_0-rmse:0.865972\tvalidation_1-rmse:0.937627\n",
      "[142]\tvalidation_0-rmse:0.865293\tvalidation_1-rmse:0.937263\n",
      "[143]\tvalidation_0-rmse:0.864545\tvalidation_1-rmse:0.936879\n",
      "[144]\tvalidation_0-rmse:0.86384\tvalidation_1-rmse:0.936518\n",
      "[145]\tvalidation_0-rmse:0.863262\tvalidation_1-rmse:0.936263\n",
      "[146]\tvalidation_0-rmse:0.862829\tvalidation_1-rmse:0.935977\n",
      "[147]\tvalidation_0-rmse:0.862095\tvalidation_1-rmse:0.935619\n",
      "[148]\tvalidation_0-rmse:0.861415\tvalidation_1-rmse:0.935196\n",
      "[149]\tvalidation_0-rmse:0.860711\tvalidation_1-rmse:0.934886\n",
      "[150]\tvalidation_0-rmse:0.860017\tvalidation_1-rmse:0.934545\n",
      "[151]\tvalidation_0-rmse:0.859523\tvalidation_1-rmse:0.934221\n",
      "[152]\tvalidation_0-rmse:0.858807\tvalidation_1-rmse:0.933963\n",
      "[153]\tvalidation_0-rmse:0.858171\tvalidation_1-rmse:0.93362\n",
      "[154]\tvalidation_0-rmse:0.857612\tvalidation_1-rmse:0.933403\n",
      "[155]\tvalidation_0-rmse:0.856964\tvalidation_1-rmse:0.933032\n",
      "[156]\tvalidation_0-rmse:0.856409\tvalidation_1-rmse:0.932761\n",
      "[157]\tvalidation_0-rmse:0.855856\tvalidation_1-rmse:0.932456\n",
      "[158]\tvalidation_0-rmse:0.85517\tvalidation_1-rmse:0.932217\n",
      "[159]\tvalidation_0-rmse:0.854619\tvalidation_1-rmse:0.93208\n",
      "[160]\tvalidation_0-rmse:0.853986\tvalidation_1-rmse:0.931809\n",
      "[161]\tvalidation_0-rmse:0.853417\tvalidation_1-rmse:0.931613\n",
      "[162]\tvalidation_0-rmse:0.852872\tvalidation_1-rmse:0.931378\n",
      "[163]\tvalidation_0-rmse:0.852251\tvalidation_1-rmse:0.931114\n",
      "[164]\tvalidation_0-rmse:0.851677\tvalidation_1-rmse:0.930861\n",
      "[165]\tvalidation_0-rmse:0.851134\tvalidation_1-rmse:0.930566\n",
      "[166]\tvalidation_0-rmse:0.850617\tvalidation_1-rmse:0.930364\n",
      "[167]\tvalidation_0-rmse:0.850071\tvalidation_1-rmse:0.930075\n",
      "[168]\tvalidation_0-rmse:0.849501\tvalidation_1-rmse:0.929888\n",
      "[169]\tvalidation_0-rmse:0.848934\tvalidation_1-rmse:0.929709\n",
      "[170]\tvalidation_0-rmse:0.848521\tvalidation_1-rmse:0.929476\n",
      "[171]\tvalidation_0-rmse:0.847969\tvalidation_1-rmse:0.929307\n",
      "[172]\tvalidation_0-rmse:0.847445\tvalidation_1-rmse:0.929121\n",
      "[173]\tvalidation_0-rmse:0.846891\tvalidation_1-rmse:0.928947\n",
      "[174]\tvalidation_0-rmse:0.846377\tvalidation_1-rmse:0.928668\n",
      "[175]\tvalidation_0-rmse:0.845885\tvalidation_1-rmse:0.928489\n",
      "[176]\tvalidation_0-rmse:0.845535\tvalidation_1-rmse:0.928285\n",
      "[177]\tvalidation_0-rmse:0.84508\tvalidation_1-rmse:0.928079\n",
      "[178]\tvalidation_0-rmse:0.844637\tvalidation_1-rmse:0.927828\n",
      "[179]\tvalidation_0-rmse:0.844136\tvalidation_1-rmse:0.927567\n",
      "[180]\tvalidation_0-rmse:0.843794\tvalidation_1-rmse:0.92735\n",
      "[181]\tvalidation_0-rmse:0.843377\tvalidation_1-rmse:0.927172\n",
      "[182]\tvalidation_0-rmse:0.842952\tvalidation_1-rmse:0.926967\n",
      "[183]\tvalidation_0-rmse:0.842461\tvalidation_1-rmse:0.926747\n",
      "[184]\tvalidation_0-rmse:0.842169\tvalidation_1-rmse:0.926618\n",
      "[185]\tvalidation_0-rmse:0.841864\tvalidation_1-rmse:0.926472\n",
      "[186]\tvalidation_0-rmse:0.841587\tvalidation_1-rmse:0.92635\n",
      "[187]\tvalidation_0-rmse:0.841129\tvalidation_1-rmse:0.926143\n",
      "[188]\tvalidation_0-rmse:0.840632\tvalidation_1-rmse:0.925964\n",
      "[189]\tvalidation_0-rmse:0.840268\tvalidation_1-rmse:0.925751\n",
      "[190]\tvalidation_0-rmse:0.839906\tvalidation_1-rmse:0.925595\n",
      "[191]\tvalidation_0-rmse:0.839378\tvalidation_1-rmse:0.925507\n",
      "[192]\tvalidation_0-rmse:0.838951\tvalidation_1-rmse:0.925369\n",
      "[193]\tvalidation_0-rmse:0.838513\tvalidation_1-rmse:0.925153\n",
      "[194]\tvalidation_0-rmse:0.838143\tvalidation_1-rmse:0.924968\n",
      "[195]\tvalidation_0-rmse:0.837679\tvalidation_1-rmse:0.924837\n",
      "[196]\tvalidation_0-rmse:0.837257\tvalidation_1-rmse:0.924683\n",
      "[197]\tvalidation_0-rmse:0.836852\tvalidation_1-rmse:0.924559\n",
      "[198]\tvalidation_0-rmse:0.83643\tvalidation_1-rmse:0.924455\n",
      "[199]\tvalidation_0-rmse:0.836073\tvalidation_1-rmse:0.924249\n",
      "[200]\tvalidation_0-rmse:0.835714\tvalidation_1-rmse:0.924079\n",
      "[201]\tvalidation_0-rmse:0.835297\tvalidation_1-rmse:0.923944\n",
      "[202]\tvalidation_0-rmse:0.834921\tvalidation_1-rmse:0.923787\n",
      "[203]\tvalidation_0-rmse:0.834522\tvalidation_1-rmse:0.92365\n",
      "[204]\tvalidation_0-rmse:0.834156\tvalidation_1-rmse:0.9235\n",
      "[205]\tvalidation_0-rmse:0.833737\tvalidation_1-rmse:0.923397\n",
      "[206]\tvalidation_0-rmse:0.833287\tvalidation_1-rmse:0.923326\n",
      "[207]\tvalidation_0-rmse:0.832894\tvalidation_1-rmse:0.923142\n",
      "[208]\tvalidation_0-rmse:0.832548\tvalidation_1-rmse:0.923116\n",
      "[209]\tvalidation_0-rmse:0.832088\tvalidation_1-rmse:0.922978\n",
      "[210]\tvalidation_0-rmse:0.831689\tvalidation_1-rmse:0.922894\n",
      "[211]\tvalidation_0-rmse:0.8315\tvalidation_1-rmse:0.922749\n",
      "[212]\tvalidation_0-rmse:0.831118\tvalidation_1-rmse:0.92255\n",
      "[213]\tvalidation_0-rmse:0.830741\tvalidation_1-rmse:0.922497\n",
      "[214]\tvalidation_0-rmse:0.830523\tvalidation_1-rmse:0.922368\n",
      "[215]\tvalidation_0-rmse:0.830239\tvalidation_1-rmse:0.922293\n",
      "[216]\tvalidation_0-rmse:0.829876\tvalidation_1-rmse:0.922202\n",
      "[217]\tvalidation_0-rmse:0.829569\tvalidation_1-rmse:0.922164\n",
      "[218]\tvalidation_0-rmse:0.829234\tvalidation_1-rmse:0.922049\n",
      "[219]\tvalidation_0-rmse:0.828899\tvalidation_1-rmse:0.921965\n",
      "[220]\tvalidation_0-rmse:0.828675\tvalidation_1-rmse:0.921915\n",
      "[221]\tvalidation_0-rmse:0.828414\tvalidation_1-rmse:0.921852\n",
      "[222]\tvalidation_0-rmse:0.828095\tvalidation_1-rmse:0.921776\n",
      "[223]\tvalidation_0-rmse:0.827871\tvalidation_1-rmse:0.921617\n",
      "[224]\tvalidation_0-rmse:0.827604\tvalidation_1-rmse:0.921472\n",
      "[225]\tvalidation_0-rmse:0.827258\tvalidation_1-rmse:0.921444\n",
      "[226]\tvalidation_0-rmse:0.826959\tvalidation_1-rmse:0.921362\n",
      "[227]\tvalidation_0-rmse:0.826753\tvalidation_1-rmse:0.921271\n",
      "[228]\tvalidation_0-rmse:0.826457\tvalidation_1-rmse:0.921173\n",
      "[229]\tvalidation_0-rmse:0.826122\tvalidation_1-rmse:0.921098\n",
      "[230]\tvalidation_0-rmse:0.825775\tvalidation_1-rmse:0.921008\n",
      "[231]\tvalidation_0-rmse:0.825491\tvalidation_1-rmse:0.920946\n",
      "[232]\tvalidation_0-rmse:0.82515\tvalidation_1-rmse:0.920931\n",
      "[233]\tvalidation_0-rmse:0.824905\tvalidation_1-rmse:0.920918\n",
      "[234]\tvalidation_0-rmse:0.824644\tvalidation_1-rmse:0.920856\n",
      "[235]\tvalidation_0-rmse:0.824359\tvalidation_1-rmse:0.920785\n",
      "[236]\tvalidation_0-rmse:0.824051\tvalidation_1-rmse:0.920676\n",
      "[237]\tvalidation_0-rmse:0.823823\tvalidation_1-rmse:0.920642\n",
      "[238]\tvalidation_0-rmse:0.823542\tvalidation_1-rmse:0.920615\n",
      "[239]\tvalidation_0-rmse:0.823249\tvalidation_1-rmse:0.920473\n",
      "[240]\tvalidation_0-rmse:0.822956\tvalidation_1-rmse:0.920444\n",
      "[241]\tvalidation_0-rmse:0.822731\tvalidation_1-rmse:0.920388\n",
      "[242]\tvalidation_0-rmse:0.822479\tvalidation_1-rmse:0.920328\n",
      "[243]\tvalidation_0-rmse:0.822127\tvalidation_1-rmse:0.920362\n",
      "[244]\tvalidation_0-rmse:0.821791\tvalidation_1-rmse:0.920339\n",
      "[245]\tvalidation_0-rmse:0.821546\tvalidation_1-rmse:0.920279\n",
      "[246]\tvalidation_0-rmse:0.821323\tvalidation_1-rmse:0.920226\n",
      "[247]\tvalidation_0-rmse:0.821061\tvalidation_1-rmse:0.920086\n",
      "[248]\tvalidation_0-rmse:0.820816\tvalidation_1-rmse:0.920021\n",
      "[249]\tvalidation_0-rmse:0.820515\tvalidation_1-rmse:0.920051\n",
      "[250]\tvalidation_0-rmse:0.820239\tvalidation_1-rmse:0.920072\n",
      "[251]\tvalidation_0-rmse:0.819954\tvalidation_1-rmse:0.920043\n",
      "[252]\tvalidation_0-rmse:0.819671\tvalidation_1-rmse:0.920038\n",
      "[253]\tvalidation_0-rmse:0.819376\tvalidation_1-rmse:0.919982\n",
      "[254]\tvalidation_0-rmse:0.819081\tvalidation_1-rmse:0.91995\n",
      "[255]\tvalidation_0-rmse:0.818886\tvalidation_1-rmse:0.919866\n",
      "[256]\tvalidation_0-rmse:0.81868\tvalidation_1-rmse:0.919803\n",
      "[257]\tvalidation_0-rmse:0.818423\tvalidation_1-rmse:0.919753\n",
      "[258]\tvalidation_0-rmse:0.818078\tvalidation_1-rmse:0.919743\n",
      "[259]\tvalidation_0-rmse:0.81786\tvalidation_1-rmse:0.919705\n",
      "[260]\tvalidation_0-rmse:0.817605\tvalidation_1-rmse:0.919643\n",
      "[261]\tvalidation_0-rmse:0.81736\tvalidation_1-rmse:0.919632\n",
      "[262]\tvalidation_0-rmse:0.817135\tvalidation_1-rmse:0.91958\n",
      "[263]\tvalidation_0-rmse:0.816927\tvalidation_1-rmse:0.919592\n",
      "[264]\tvalidation_0-rmse:0.816697\tvalidation_1-rmse:0.919584\n",
      "[265]\tvalidation_0-rmse:0.81649\tvalidation_1-rmse:0.919534\n",
      "[266]\tvalidation_0-rmse:0.816247\tvalidation_1-rmse:0.919498\n",
      "[267]\tvalidation_0-rmse:0.816028\tvalidation_1-rmse:0.919487\n",
      "[268]\tvalidation_0-rmse:0.815789\tvalidation_1-rmse:0.919459\n",
      "[269]\tvalidation_0-rmse:0.815504\tvalidation_1-rmse:0.919509\n",
      "[270]\tvalidation_0-rmse:0.815331\tvalidation_1-rmse:0.919482\n",
      "[271]\tvalidation_0-rmse:0.815143\tvalidation_1-rmse:0.919435\n",
      "[272]\tvalidation_0-rmse:0.814912\tvalidation_1-rmse:0.91941\n",
      "[273]\tvalidation_0-rmse:0.81466\tvalidation_1-rmse:0.919364\n",
      "[274]\tvalidation_0-rmse:0.814369\tvalidation_1-rmse:0.919296\n",
      "[275]\tvalidation_0-rmse:0.814115\tvalidation_1-rmse:0.919306\n",
      "[276]\tvalidation_0-rmse:0.813926\tvalidation_1-rmse:0.919276\n",
      "[277]\tvalidation_0-rmse:0.813734\tvalidation_1-rmse:0.919248\n",
      "[278]\tvalidation_0-rmse:0.813491\tvalidation_1-rmse:0.919245\n",
      "[279]\tvalidation_0-rmse:0.813373\tvalidation_1-rmse:0.919187\n",
      "[280]\tvalidation_0-rmse:0.81317\tvalidation_1-rmse:0.91912\n",
      "[281]\tvalidation_0-rmse:0.81299\tvalidation_1-rmse:0.9191\n",
      "[282]\tvalidation_0-rmse:0.812753\tvalidation_1-rmse:0.919089\n",
      "[283]\tvalidation_0-rmse:0.812437\tvalidation_1-rmse:0.91901\n",
      "[284]\tvalidation_0-rmse:0.812247\tvalidation_1-rmse:0.91898\n",
      "[285]\tvalidation_0-rmse:0.812086\tvalidation_1-rmse:0.918937\n",
      "[286]\tvalidation_0-rmse:0.811877\tvalidation_1-rmse:0.918961\n",
      "[287]\tvalidation_0-rmse:0.811596\tvalidation_1-rmse:0.919099\n",
      "[288]\tvalidation_0-rmse:0.811435\tvalidation_1-rmse:0.919042\n",
      "[289]\tvalidation_0-rmse:0.811201\tvalidation_1-rmse:0.918966\n",
      "[290]\tvalidation_0-rmse:0.810989\tvalidation_1-rmse:0.918934\n",
      "[291]\tvalidation_0-rmse:0.810816\tvalidation_1-rmse:0.918825\n",
      "[292]\tvalidation_0-rmse:0.810632\tvalidation_1-rmse:0.918829\n",
      "[293]\tvalidation_0-rmse:0.810394\tvalidation_1-rmse:0.918798\n",
      "[294]\tvalidation_0-rmse:0.810184\tvalidation_1-rmse:0.918793\n",
      "[295]\tvalidation_0-rmse:0.809958\tvalidation_1-rmse:0.918757\n",
      "[296]\tvalidation_0-rmse:0.809709\tvalidation_1-rmse:0.918828\n",
      "[297]\tvalidation_0-rmse:0.809516\tvalidation_1-rmse:0.918774\n",
      "[298]\tvalidation_0-rmse:0.809308\tvalidation_1-rmse:0.918752\n",
      "[299]\tvalidation_0-rmse:0.809142\tvalidation_1-rmse:0.918731\n",
      "[300]\tvalidation_0-rmse:0.809002\tvalidation_1-rmse:0.918705\n",
      "[301]\tvalidation_0-rmse:0.808821\tvalidation_1-rmse:0.918663\n",
      "[302]\tvalidation_0-rmse:0.808564\tvalidation_1-rmse:0.918657\n",
      "[303]\tvalidation_0-rmse:0.808379\tvalidation_1-rmse:0.91863\n",
      "[304]\tvalidation_0-rmse:0.808219\tvalidation_1-rmse:0.918577\n",
      "[305]\tvalidation_0-rmse:0.808049\tvalidation_1-rmse:0.918579\n",
      "[306]\tvalidation_0-rmse:0.807821\tvalidation_1-rmse:0.918635\n",
      "[307]\tvalidation_0-rmse:0.807599\tvalidation_1-rmse:0.918611\n",
      "[308]\tvalidation_0-rmse:0.807269\tvalidation_1-rmse:0.918633\n",
      "[309]\tvalidation_0-rmse:0.807069\tvalidation_1-rmse:0.91865\n",
      "[310]\tvalidation_0-rmse:0.806878\tvalidation_1-rmse:0.918686\n",
      "[311]\tvalidation_0-rmse:0.806634\tvalidation_1-rmse:0.918693\n",
      "[312]\tvalidation_0-rmse:0.806512\tvalidation_1-rmse:0.918645\n",
      "[313]\tvalidation_0-rmse:0.806345\tvalidation_1-rmse:0.918579\n",
      "[314]\tvalidation_0-rmse:0.806214\tvalidation_1-rmse:0.918607\n",
      "[315]\tvalidation_0-rmse:0.806035\tvalidation_1-rmse:0.91866\n",
      "[316]\tvalidation_0-rmse:0.805844\tvalidation_1-rmse:0.918526\n",
      "[317]\tvalidation_0-rmse:0.805615\tvalidation_1-rmse:0.918644\n",
      "[318]\tvalidation_0-rmse:0.805496\tvalidation_1-rmse:0.918616\n",
      "[319]\tvalidation_0-rmse:0.80531\tvalidation_1-rmse:0.918621\n",
      "[320]\tvalidation_0-rmse:0.80515\tvalidation_1-rmse:0.918653\n",
      "[321]\tvalidation_0-rmse:0.804997\tvalidation_1-rmse:0.918624\n",
      "[322]\tvalidation_0-rmse:0.804858\tvalidation_1-rmse:0.918599\n",
      "[323]\tvalidation_0-rmse:0.804674\tvalidation_1-rmse:0.918593\n",
      "[324]\tvalidation_0-rmse:0.804454\tvalidation_1-rmse:0.918513\n",
      "[325]\tvalidation_0-rmse:0.804292\tvalidation_1-rmse:0.918474\n",
      "[326]\tvalidation_0-rmse:0.804179\tvalidation_1-rmse:0.918443\n",
      "[327]\tvalidation_0-rmse:0.803997\tvalidation_1-rmse:0.918457\n",
      "[328]\tvalidation_0-rmse:0.803847\tvalidation_1-rmse:0.918437\n",
      "[329]\tvalidation_0-rmse:0.803715\tvalidation_1-rmse:0.918453\n",
      "[330]\tvalidation_0-rmse:0.803553\tvalidation_1-rmse:0.918449\n",
      "[331]\tvalidation_0-rmse:0.803416\tvalidation_1-rmse:0.918488\n",
      "[332]\tvalidation_0-rmse:0.803311\tvalidation_1-rmse:0.91846\n",
      "[333]\tvalidation_0-rmse:0.803135\tvalidation_1-rmse:0.918465\n",
      "[334]\tvalidation_0-rmse:0.803028\tvalidation_1-rmse:0.918464\n",
      "[335]\tvalidation_0-rmse:0.802899\tvalidation_1-rmse:0.91849\n",
      "[336]\tvalidation_0-rmse:0.802533\tvalidation_1-rmse:0.918592\n",
      "[337]\tvalidation_0-rmse:0.802378\tvalidation_1-rmse:0.918607\n",
      "[338]\tvalidation_0-rmse:0.802187\tvalidation_1-rmse:0.918617\n",
      "[339]\tvalidation_0-rmse:0.801998\tvalidation_1-rmse:0.918522\n",
      "[340]\tvalidation_0-rmse:0.801836\tvalidation_1-rmse:0.91848\n",
      "[341]\tvalidation_0-rmse:0.801702\tvalidation_1-rmse:0.918508\n",
      "[342]\tvalidation_0-rmse:0.801508\tvalidation_1-rmse:0.918489\n",
      "[343]\tvalidation_0-rmse:0.801362\tvalidation_1-rmse:0.918492\n",
      "[344]\tvalidation_0-rmse:0.801133\tvalidation_1-rmse:0.918492\n",
      "[345]\tvalidation_0-rmse:0.801034\tvalidation_1-rmse:0.918522\n",
      "[346]\tvalidation_0-rmse:0.800887\tvalidation_1-rmse:0.918492\n",
      "[347]\tvalidation_0-rmse:0.800636\tvalidation_1-rmse:0.91854\n",
      "[348]\tvalidation_0-rmse:0.800506\tvalidation_1-rmse:0.918563\n",
      "[349]\tvalidation_0-rmse:0.800371\tvalidation_1-rmse:0.918552\n",
      "[350]\tvalidation_0-rmse:0.800227\tvalidation_1-rmse:0.918551\n",
      "[351]\tvalidation_0-rmse:0.800087\tvalidation_1-rmse:0.918549\n",
      "[352]\tvalidation_0-rmse:0.79995\tvalidation_1-rmse:0.918543\n",
      "[353]\tvalidation_0-rmse:0.799785\tvalidation_1-rmse:0.91856\n",
      "[354]\tvalidation_0-rmse:0.799665\tvalidation_1-rmse:0.918587\n",
      "[355]\tvalidation_0-rmse:0.799537\tvalidation_1-rmse:0.918611\n",
      "[356]\tvalidation_0-rmse:0.799336\tvalidation_1-rmse:0.918609\n",
      "[357]\tvalidation_0-rmse:0.799165\tvalidation_1-rmse:0.91856\n",
      "[358]\tvalidation_0-rmse:0.798951\tvalidation_1-rmse:0.918532\n",
      "[359]\tvalidation_0-rmse:0.798757\tvalidation_1-rmse:0.91846\n",
      "[360]\tvalidation_0-rmse:0.798577\tvalidation_1-rmse:0.918442\n",
      "[361]\tvalidation_0-rmse:0.798492\tvalidation_1-rmse:0.918438\n",
      "[362]\tvalidation_0-rmse:0.798379\tvalidation_1-rmse:0.918411\n",
      "[363]\tvalidation_0-rmse:0.798263\tvalidation_1-rmse:0.918403\n",
      "[364]\tvalidation_0-rmse:0.798178\tvalidation_1-rmse:0.918403\n",
      "[365]\tvalidation_0-rmse:0.797991\tvalidation_1-rmse:0.918364\n",
      "[366]\tvalidation_0-rmse:0.797905\tvalidation_1-rmse:0.918351\n",
      "[367]\tvalidation_0-rmse:0.797789\tvalidation_1-rmse:0.918278\n",
      "[368]\tvalidation_0-rmse:0.79764\tvalidation_1-rmse:0.918272\n",
      "[369]\tvalidation_0-rmse:0.79754\tvalidation_1-rmse:0.918262\n",
      "[370]\tvalidation_0-rmse:0.797385\tvalidation_1-rmse:0.918286\n",
      "[371]\tvalidation_0-rmse:0.797234\tvalidation_1-rmse:0.918364\n",
      "[372]\tvalidation_0-rmse:0.796882\tvalidation_1-rmse:0.918575\n",
      "[373]\tvalidation_0-rmse:0.796782\tvalidation_1-rmse:0.918561\n",
      "[374]\tvalidation_0-rmse:0.796689\tvalidation_1-rmse:0.91859\n",
      "[375]\tvalidation_0-rmse:0.796597\tvalidation_1-rmse:0.918578\n",
      "[376]\tvalidation_0-rmse:0.796474\tvalidation_1-rmse:0.918564\n",
      "[377]\tvalidation_0-rmse:0.796313\tvalidation_1-rmse:0.918645\n",
      "[378]\tvalidation_0-rmse:0.796225\tvalidation_1-rmse:0.918596\n",
      "[379]\tvalidation_0-rmse:0.796097\tvalidation_1-rmse:0.918573\n",
      "[380]\tvalidation_0-rmse:0.795974\tvalidation_1-rmse:0.918586\n",
      "[381]\tvalidation_0-rmse:0.79585\tvalidation_1-rmse:0.918568\n",
      "[382]\tvalidation_0-rmse:0.795752\tvalidation_1-rmse:0.918571\n",
      "[383]\tvalidation_0-rmse:0.795636\tvalidation_1-rmse:0.918539\n",
      "[384]\tvalidation_0-rmse:0.795541\tvalidation_1-rmse:0.918537\n",
      "[385]\tvalidation_0-rmse:0.79546\tvalidation_1-rmse:0.918523\n",
      "[386]\tvalidation_0-rmse:0.795315\tvalidation_1-rmse:0.918549\n",
      "[387]\tvalidation_0-rmse:0.795205\tvalidation_1-rmse:0.918545\n",
      "[388]\tvalidation_0-rmse:0.795107\tvalidation_1-rmse:0.918552\n",
      "[389]\tvalidation_0-rmse:0.794973\tvalidation_1-rmse:0.918525\n",
      "[390]\tvalidation_0-rmse:0.79485\tvalidation_1-rmse:0.918523\n",
      "[391]\tvalidation_0-rmse:0.794734\tvalidation_1-rmse:0.918495\n",
      "[392]\tvalidation_0-rmse:0.794634\tvalidation_1-rmse:0.918518\n",
      "[393]\tvalidation_0-rmse:0.794517\tvalidation_1-rmse:0.91855\n",
      "[394]\tvalidation_0-rmse:0.794374\tvalidation_1-rmse:0.918507\n",
      "[395]\tvalidation_0-rmse:0.794289\tvalidation_1-rmse:0.918513\n",
      "[396]\tvalidation_0-rmse:0.794172\tvalidation_1-rmse:0.918493\n",
      "[397]\tvalidation_0-rmse:0.794037\tvalidation_1-rmse:0.918439\n",
      "[398]\tvalidation_0-rmse:0.793933\tvalidation_1-rmse:0.918428\n",
      "[399]\tvalidation_0-rmse:0.793824\tvalidation_1-rmse:0.918459\n",
      "[400]\tvalidation_0-rmse:0.793717\tvalidation_1-rmse:0.918462\n",
      "[401]\tvalidation_0-rmse:0.793579\tvalidation_1-rmse:0.918476\n",
      "[402]\tvalidation_0-rmse:0.793434\tvalidation_1-rmse:0.918396\n",
      "[403]\tvalidation_0-rmse:0.793303\tvalidation_1-rmse:0.918394\n",
      "[404]\tvalidation_0-rmse:0.793188\tvalidation_1-rmse:0.918401\n",
      "[405]\tvalidation_0-rmse:0.79305\tvalidation_1-rmse:0.91838\n",
      "[406]\tvalidation_0-rmse:0.792937\tvalidation_1-rmse:0.918388\n",
      "[407]\tvalidation_0-rmse:0.792828\tvalidation_1-rmse:0.918396\n",
      "[408]\tvalidation_0-rmse:0.792709\tvalidation_1-rmse:0.918396\n",
      "[409]\tvalidation_0-rmse:0.792585\tvalidation_1-rmse:0.918205\n",
      "[410]\tvalidation_0-rmse:0.792485\tvalidation_1-rmse:0.918211\n",
      "[411]\tvalidation_0-rmse:0.792376\tvalidation_1-rmse:0.918178\n",
      "[412]\tvalidation_0-rmse:0.792311\tvalidation_1-rmse:0.918169\n",
      "[413]\tvalidation_0-rmse:0.792208\tvalidation_1-rmse:0.918106\n",
      "[414]\tvalidation_0-rmse:0.792151\tvalidation_1-rmse:0.91807\n",
      "[415]\tvalidation_0-rmse:0.792038\tvalidation_1-rmse:0.91805\n",
      "[416]\tvalidation_0-rmse:0.79193\tvalidation_1-rmse:0.918087\n",
      "[417]\tvalidation_0-rmse:0.791778\tvalidation_1-rmse:0.918062\n",
      "[418]\tvalidation_0-rmse:0.791648\tvalidation_1-rmse:0.91806\n",
      "[419]\tvalidation_0-rmse:0.791531\tvalidation_1-rmse:0.918092\n",
      "[420]\tvalidation_0-rmse:0.791412\tvalidation_1-rmse:0.918111\n",
      "[421]\tvalidation_0-rmse:0.791297\tvalidation_1-rmse:0.91812\n",
      "[422]\tvalidation_0-rmse:0.791191\tvalidation_1-rmse:0.918148\n",
      "[423]\tvalidation_0-rmse:0.791013\tvalidation_1-rmse:0.918129\n",
      "[424]\tvalidation_0-rmse:0.790955\tvalidation_1-rmse:0.918109\n",
      "[425]\tvalidation_0-rmse:0.790861\tvalidation_1-rmse:0.91804\n",
      "[426]\tvalidation_0-rmse:0.790742\tvalidation_1-rmse:0.918012\n",
      "[427]\tvalidation_0-rmse:0.790644\tvalidation_1-rmse:0.918035\n",
      "[428]\tvalidation_0-rmse:0.79056\tvalidation_1-rmse:0.918065\n",
      "[429]\tvalidation_0-rmse:0.790505\tvalidation_1-rmse:0.91807\n",
      "[430]\tvalidation_0-rmse:0.79038\tvalidation_1-rmse:0.918113\n",
      "[431]\tvalidation_0-rmse:0.790259\tvalidation_1-rmse:0.918144\n",
      "[432]\tvalidation_0-rmse:0.790154\tvalidation_1-rmse:0.918177\n",
      "[433]\tvalidation_0-rmse:0.790056\tvalidation_1-rmse:0.918119\n",
      "[434]\tvalidation_0-rmse:0.78994\tvalidation_1-rmse:0.918105\n",
      "[435]\tvalidation_0-rmse:0.789823\tvalidation_1-rmse:0.9181\n",
      "[436]\tvalidation_0-rmse:0.789731\tvalidation_1-rmse:0.918124\n",
      "[437]\tvalidation_0-rmse:0.789489\tvalidation_1-rmse:0.917977\n",
      "[438]\tvalidation_0-rmse:0.789349\tvalidation_1-rmse:0.917995\n",
      "[439]\tvalidation_0-rmse:0.789261\tvalidation_1-rmse:0.91801\n",
      "[440]\tvalidation_0-rmse:0.78917\tvalidation_1-rmse:0.917974\n",
      "[441]\tvalidation_0-rmse:0.789064\tvalidation_1-rmse:0.918009\n",
      "[442]\tvalidation_0-rmse:0.78898\tvalidation_1-rmse:0.918046\n",
      "[443]\tvalidation_0-rmse:0.788843\tvalidation_1-rmse:0.918095\n",
      "[444]\tvalidation_0-rmse:0.788758\tvalidation_1-rmse:0.91811\n",
      "[445]\tvalidation_0-rmse:0.788689\tvalidation_1-rmse:0.918094\n",
      "[446]\tvalidation_0-rmse:0.788584\tvalidation_1-rmse:0.918177\n",
      "[447]\tvalidation_0-rmse:0.788478\tvalidation_1-rmse:0.918189\n",
      "[448]\tvalidation_0-rmse:0.788412\tvalidation_1-rmse:0.918196\n",
      "[449]\tvalidation_0-rmse:0.788331\tvalidation_1-rmse:0.918227\n",
      "[450]\tvalidation_0-rmse:0.788236\tvalidation_1-rmse:0.918208\n",
      "[451]\tvalidation_0-rmse:0.788118\tvalidation_1-rmse:0.918196\n",
      "[452]\tvalidation_0-rmse:0.787919\tvalidation_1-rmse:0.918402\n",
      "[453]\tvalidation_0-rmse:0.787774\tvalidation_1-rmse:0.918453\n",
      "[454]\tvalidation_0-rmse:0.787591\tvalidation_1-rmse:0.918655\n",
      "[455]\tvalidation_0-rmse:0.787493\tvalidation_1-rmse:0.918699\n",
      "[456]\tvalidation_0-rmse:0.787391\tvalidation_1-rmse:0.918747\n",
      "[457]\tvalidation_0-rmse:0.787312\tvalidation_1-rmse:0.918752\n",
      "[458]\tvalidation_0-rmse:0.787233\tvalidation_1-rmse:0.918779\n",
      "[459]\tvalidation_0-rmse:0.78714\tvalidation_1-rmse:0.918671\n",
      "[460]\tvalidation_0-rmse:0.787046\tvalidation_1-rmse:0.918663\n",
      "[461]\tvalidation_0-rmse:0.78695\tvalidation_1-rmse:0.918659\n",
      "[462]\tvalidation_0-rmse:0.78687\tvalidation_1-rmse:0.918672\n",
      "[463]\tvalidation_0-rmse:0.786739\tvalidation_1-rmse:0.918635\n",
      "[464]\tvalidation_0-rmse:0.786638\tvalidation_1-rmse:0.918626\n",
      "[465]\tvalidation_0-rmse:0.786574\tvalidation_1-rmse:0.918615\n",
      "[466]\tvalidation_0-rmse:0.786504\tvalidation_1-rmse:0.918605\n",
      "[467]\tvalidation_0-rmse:0.78643\tvalidation_1-rmse:0.918607\n",
      "[468]\tvalidation_0-rmse:0.786356\tvalidation_1-rmse:0.918622\n",
      "[469]\tvalidation_0-rmse:0.786236\tvalidation_1-rmse:0.918654\n",
      "[470]\tvalidation_0-rmse:0.786133\tvalidation_1-rmse:0.918688\n",
      "[471]\tvalidation_0-rmse:0.786041\tvalidation_1-rmse:0.918518\n",
      "[472]\tvalidation_0-rmse:0.785845\tvalidation_1-rmse:0.918694\n",
      "[473]\tvalidation_0-rmse:0.78574\tvalidation_1-rmse:0.918661\n",
      "[474]\tvalidation_0-rmse:0.785621\tvalidation_1-rmse:0.918641\n",
      "[475]\tvalidation_0-rmse:0.785519\tvalidation_1-rmse:0.918727\n",
      "[476]\tvalidation_0-rmse:0.78543\tvalidation_1-rmse:0.918743\n",
      "[477]\tvalidation_0-rmse:0.785341\tvalidation_1-rmse:0.918614\n",
      "[478]\tvalidation_0-rmse:0.785218\tvalidation_1-rmse:0.918547\n",
      "[479]\tvalidation_0-rmse:0.785108\tvalidation_1-rmse:0.918573\n",
      "[480]\tvalidation_0-rmse:0.785013\tvalidation_1-rmse:0.918625\n",
      "[481]\tvalidation_0-rmse:0.784945\tvalidation_1-rmse:0.918628\n",
      "[482]\tvalidation_0-rmse:0.784846\tvalidation_1-rmse:0.918621\n",
      "[483]\tvalidation_0-rmse:0.784784\tvalidation_1-rmse:0.918649\n",
      "[484]\tvalidation_0-rmse:0.784706\tvalidation_1-rmse:0.918674\n",
      "[485]\tvalidation_0-rmse:0.784579\tvalidation_1-rmse:0.91866\n",
      "[486]\tvalidation_0-rmse:0.784511\tvalidation_1-rmse:0.918607\n",
      "[487]\tvalidation_0-rmse:0.784438\tvalidation_1-rmse:0.918626\n",
      "[488]\tvalidation_0-rmse:0.784387\tvalidation_1-rmse:0.918619\n",
      "[489]\tvalidation_0-rmse:0.784229\tvalidation_1-rmse:0.918698\n",
      "[490]\tvalidation_0-rmse:0.784141\tvalidation_1-rmse:0.91865\n",
      "Stopping. Best iteration:\n",
      "[440]\tvalidation_0-rmse:0.78917\tvalidation_1-rmse:0.917974\n",
      "\n",
      "CPU times: user 5h 49min 36s, sys: 15.8 s, total: 5h 49min 51s\n",
      "Wall time: 5h 49min 48s\n"
     ]
    }
   ],
   "source": [
    "%%time\n",
    "regressor_ = xgtrain()"
   ]
  },
  {
   "cell_type": "code",
   "execution_count": 98,
   "metadata": {},
   "outputs": [],
   "source": [
    "predictions = regressor_.predict(new_train[new_train.date_block_num == 34].drop(['item_cnt_month'], axis = 1).values)"
   ]
  },
  {
   "cell_type": "code",
   "execution_count": 99,
   "metadata": {},
   "outputs": [
    {
     "data": {
      "image/png": "[encoded data removed]",
      "text/plain": [
       "<Figure size 842.4x595.44 with 1 Axes>"
      ]
     },
     "metadata": {},
     "output_type": "display_data"
    }
   ],
   "source": [
    "from matplotlib import rcParams\n",
    "rcParams['figure.figsize'] = 11.7,8.27\n",
    "\n",
    "cols = new_train.drop('item_cnt_month', axis = 1).columns\n",
    "plt.barh(cols, regressor_.feature_importances_)\n",
    "plt.show()"
   ]
  },
  {
   "cell_type": "code",
   "execution_count": 100,
   "metadata": {},
   "outputs": [],
   "source": [
    "submission['item_cnt_month'] = predictions"
   ]
  },
  {
   "cell_type": "code",
   "execution_count": 101,
   "metadata": {},
   "outputs": [],
   "source": [
    "submission.to_csv('sales_faster_learn.csv', index=False)"
   ]
  },
  {
   "cell_type": "code",
   "execution_count": 102,
   "metadata": {},
   "outputs": [
    {
     "data": {
      "text/html": [
       "./<br>\n",
       "&nbsp;&nbsp;<a href='./sales_faster_learn.csv' target='_blank'>sales_faster_learn.csv</a><br>\n",
       "&nbsp;&nbsp;<a href='./__output__.json' target='_blank'>__output__.json</a><br>\n",
       "&nbsp;&nbsp;<a href='./__notebook__.ipynb' target='_blank'>__notebook__.ipynb</a><br>"
      ],
      "text/plain": [
       "./\n",
       "  sales_faster_learn.csv\n",
       "  __output__.json\n",
       "  __notebook__.ipynb"
      ]
     },
     "execution_count": 102,
     "metadata": {},
     "output_type": "execute_result"
    }
   ],
   "source": [
    "from IPython.display import FileLinks\n",
    "FileLinks('.')"
   ]
  },
  {
   "cell_type": "markdown",
   "metadata": {
    "_uuid": "3e4b95a3cc701b459a9a6cfc85abf556e143b676"
   },
   "source": [
    "Code to render Altair Charts"
   ]
  },
  {
   "cell_type": "code",
   "execution_count": 103,
   "metadata": {
    "_kg_hide-input": false,
    "_uuid": "dba49fde16cd27114fbadc79caeae8abf5a21af2"
   },
   "outputs": [
    {
     "data": {
      "text/html": [
       "<script>\n",
       "requirejs.config({\n",
       "    baseUrl: 'https://cdn.jsdelivr.net/npm/',\n",
       "    paths: {\"vega\": \"https://cdn.jsdelivr.net/npm/vega@v2.6.0?noext\", \"vega-lib\": \"https://cdn.jsdelivr.net/npm/vega-lib?noext\", \"vega-lite\": \"https://cdn.jsdelivr.net/npm/vega-lite@v2.6.0?noext\", \"vega-embed\": \"https://cdn.jsdelivr.net/npm/vega-embed@3?noext\"}\n",
       "});\n",
       "</script>"
      ],
      "text/plain": [
       "<IPython.core.display.HTML object>"
      ]
     },
     "execution_count": 103,
     "metadata": {},
     "output_type": "execute_result"
    }
   ],
   "source": [
    "import json  # need it for json.dumps\n",
    "from IPython.display import HTML\n",
    "\n",
    "# Create the correct URLs for require.js to find the Javascript libraries\n",
    "vega_url = 'https://cdn.jsdelivr.net/npm/vega@' + alt.SCHEMA_VERSION\n",
    "vega_lib_url = 'https://cdn.jsdelivr.net/npm/vega-lib'\n",
    "vega_lite_url = 'https://cdn.jsdelivr.net/npm/vega-lite@' + alt.SCHEMA_VERSION\n",
    "vega_embed_url = 'https://cdn.jsdelivr.net/npm/vega-embed@3'\n",
    "noext = \"?noext\"\n",
    "\n",
    "altair_paths = {\n",
    "    'vega': vega_url + noext,\n",
    "    'vega-lib': vega_lib_url + noext,\n",
    "    'vega-lite': vega_lite_url + noext,\n",
    "    'vega-embed': vega_embed_url + noext\n",
    "}\n",
    "\n",
    "workaround = \"\"\"\n",
    "requirejs.config({{\n",
    "    baseUrl: 'https://cdn.jsdelivr.net/npm/',\n",
    "    paths: {paths}\n",
    "}});\n",
    "\"\"\"\n",
    "\n",
    "# Define the function for rendering\n",
    "def add_autoincrement(render_func):\n",
    "    # Keep track of unique <div/> IDs\n",
    "    cache = {}\n",
    "    def wrapped(chart, id=\"vega-chart\", autoincrement=True):\n",
    "        \"\"\"Render an altair chart directly via javascript.\n",
    "        \n",
    "        This is a workaround for functioning export to HTML.\n",
    "        (It probably messes up other ways to export.) It will\n",
    "        cache and autoincrement the ID suffixed with a\n",
    "        number (e.g. vega-chart-1) so you don't have to deal\n",
    "        with that.\n",
    "        \"\"\"\n",
    "        if autoincrement:\n",
    "            if id in cache:\n",
    "                counter = 1 + cache[id]\n",
    "                cache[id] = counter\n",
    "            else:\n",
    "                cache[id] = 0\n",
    "            actual_id = id if cache[id] == 0 else id + '-' + str(cache[id])\n",
    "        else:\n",
    "            if id not in cache:\n",
    "                cache[id] = 0\n",
    "            actual_id = id\n",
    "        return render_func(chart, id=actual_id)\n",
    "    # Cache will stay defined and keep track of the unique div Ids\n",
    "    return wrapped\n",
    "\n",
    "\n",
    "@add_autoincrement\n",
    "def render_alt(chart, id=\"vega-chart\"):\n",
    "    # This below is the javascript to make the chart directly using vegaEmbed\n",
    "    chart_str = \"\"\"\n",
    "    <div id=\"{id}\"></div><script>\n",
    "    require([\"vega-embed\"], function(vegaEmbed) {{\n",
    "        const spec = {chart};     \n",
    "        vegaEmbed(\"#{id}\", spec, {{defaultStyle: true}}).catch(console.warn);\n",
    "    }});\n",
    "    </script>\n",
    "    \"\"\"\n",
    "    return HTML(\n",
    "        chart_str.format(\n",
    "            id=id,\n",
    "            chart=json.dumps(chart) if isinstance(chart, dict) else chart.to_json(indent=None)\n",
    "        )\n",
    "    )\n",
    "\n",
    "HTML(\"\".join((\n",
    "    \"<script>\",\n",
    "    workaround.format(paths=json.dumps(altair_paths)),\n",
    "    \"</script>\"\n",
    ")))"
   ]
  },
  {
   "cell_type": "code",
   "execution_count": 104,
   "metadata": {},
   "outputs": [
    {
     "data": {
      "text/plain": [
       "DataTransformerRegistry.enable('default')"
      ]
     },
     "execution_count": 104,
     "metadata": {},
     "output_type": "execute_result"
    }
   ],
   "source": [
    "alt.data_transformers.enable('default', max_rows=None)"
   ]
  },
  {
   "cell_type": "markdown",
   "metadata": {},
   "source": [
    "1. Plotting Ideas: Number of unique items sold each month\n",
    "2. Sales graph, Revenue graph"
   ]
  },
  {
   "cell_type": "code",
   "execution_count": 105,
   "metadata": {},
   "outputs": [],
   "source": [
    "train = pd.read_csv('../input/sales_train.csv')"
   ]
  },
  {
   "cell_type": "code",
   "execution_count": 106,
   "metadata": {},
   "outputs": [
    {
     "data": {
      "text/html": [
       "<div>\n",
       "<style scoped>\n",
       "    .dataframe tbody tr th:only-of-type {\n",
       "        vertical-align: middle;\n",
       "    }\n",
       "\n",
       "    .dataframe tbody tr th {\n",
       "        vertical-align: top;\n",
       "    }\n",
       "\n",
       "    .dataframe thead th {\n",
       "        text-align: right;\n",
       "    }\n",
       "</style>\n",
       "<table border=\"1\" class=\"dataframe\">\n",
       "  <thead>\n",
       "    <tr style=\"text-align: right;\">\n",
       "      <th></th>\n",
       "      <th>date_block_num</th>\n",
       "      <th>sum</th>\n",
       "    </tr>\n",
       "  </thead>\n",
       "  <tbody>\n",
       "    <tr>\n",
       "      <th>0</th>\n",
       "      <td>0</td>\n",
       "      <td>131479.0</td>\n",
       "    </tr>\n",
       "    <tr>\n",
       "      <th>1</th>\n",
       "      <td>1</td>\n",
       "      <td>128090.0</td>\n",
       "    </tr>\n",
       "  </tbody>\n",
       "</table>\n",
       "</div>"
      ],
      "text/plain": [
       "   date_block_num       sum\n",
       "0               0  131479.0\n",
       "1               1  128090.0"
      ]
     },
     "execution_count": 106,
     "metadata": {},
     "output_type": "execute_result"
    }
   ],
   "source": [
    "alt_df = train.groupby('date_block_num')['item_cnt_day'].sum().rename('sum').reset_index()\n",
    "alt_df.head(2)"
   ]
  },
  {
   "cell_type": "code",
   "execution_count": 107,
   "metadata": {},
   "outputs": [],
   "source": [
    "# Generate a mapping for date_block_num to month and year.\n",
    "dict_date_block_num = {0: 'January 2013', 1: 'February 2013', 2: 'March 2013', 3: 'April 2013',\n",
    "4: 'May 2013', 5: 'June 2013', 6: 'July 2013', 7: 'August 2013',\n",
    "8: 'September 2013', 9: 'October 2013', 10: 'November 2013', 11: 'December 2013',\n",
    "12: 'January 2014', 13: 'February 2014', 14: 'March 2014', 15: 'April 2014',\n",
    "16: 'May 2014', 17: 'June 2014', 18: 'July 2014', 19: 'August 2014',\n",
    "20: 'September 2014', 21: 'October 2014', 22: 'November 2014', 23: 'December 2014',\n",
    "24: 'January 2015', 25: 'February 2015', 26: 'March 2015', 27: 'April 2015',\n",
    "28: 'May 2015', 29: 'June 2015', 30: 'July 2015', 31: 'August 2015',\n",
    "32: 'September 2015', 33: 'October 2015'}"
   ]
  },
  {
   "cell_type": "code",
   "execution_count": 108,
   "metadata": {},
   "outputs": [
    {
     "data": {
      "text/html": [
       "<div>\n",
       "<style scoped>\n",
       "    .dataframe tbody tr th:only-of-type {\n",
       "        vertical-align: middle;\n",
       "    }\n",
       "\n",
       "    .dataframe tbody tr th {\n",
       "        vertical-align: top;\n",
       "    }\n",
       "\n",
       "    .dataframe thead th {\n",
       "        text-align: right;\n",
       "    }\n",
       "</style>\n",
       "<table border=\"1\" class=\"dataframe\">\n",
       "  <thead>\n",
       "    <tr style=\"text-align: right;\">\n",
       "      <th></th>\n",
       "      <th>date_block_num</th>\n",
       "      <th>sum</th>\n",
       "    </tr>\n",
       "  </thead>\n",
       "  <tbody>\n",
       "    <tr>\n",
       "      <th>0</th>\n",
       "      <td>January 2013</td>\n",
       "      <td>131479.0</td>\n",
       "    </tr>\n",
       "    <tr>\n",
       "      <th>1</th>\n",
       "      <td>February 2013</td>\n",
       "      <td>128090.0</td>\n",
       "    </tr>\n",
       "  </tbody>\n",
       "</table>\n",
       "</div>"
      ],
      "text/plain": [
       "  date_block_num       sum\n",
       "0   January 2013  131479.0\n",
       "1  February 2013  128090.0"
      ]
     },
     "execution_count": 108,
     "metadata": {},
     "output_type": "execute_result"
    }
   ],
   "source": [
    "alt_df['date_block_num'].replace(dict_date_block_num, inplace=True)\n",
    "alt_df.head(2)"
   ]
  },
  {
   "cell_type": "code",
   "execution_count": 109,
   "metadata": {},
   "outputs": [],
   "source": [
    "split = alt_df['date_block_num'].str.split(\" \", n = 1, expand = True) "
   ]
  },
  {
   "cell_type": "code",
   "execution_count": 110,
   "metadata": {},
   "outputs": [
    {
     "data": {
      "text/html": [
       "<div>\n",
       "<style scoped>\n",
       "    .dataframe tbody tr th:only-of-type {\n",
       "        vertical-align: middle;\n",
       "    }\n",
       "\n",
       "    .dataframe tbody tr th {\n",
       "        vertical-align: top;\n",
       "    }\n",
       "\n",
       "    .dataframe thead th {\n",
       "        text-align: right;\n",
       "    }\n",
       "</style>\n",
       "<table border=\"1\" class=\"dataframe\">\n",
       "  <thead>\n",
       "    <tr style=\"text-align: right;\">\n",
       "      <th></th>\n",
       "      <th>date_block_num</th>\n",
       "      <th>sum</th>\n",
       "      <th>month</th>\n",
       "      <th>year</th>\n",
       "    </tr>\n",
       "  </thead>\n",
       "  <tbody>\n",
       "    <tr>\n",
       "      <th>0</th>\n",
       "      <td>January 2013</td>\n",
       "      <td>131479.0</td>\n",
       "      <td>January</td>\n",
       "      <td>2013</td>\n",
       "    </tr>\n",
       "    <tr>\n",
       "      <th>1</th>\n",
       "      <td>February 2013</td>\n",
       "      <td>128090.0</td>\n",
       "      <td>February</td>\n",
       "      <td>2013</td>\n",
       "    </tr>\n",
       "    <tr>\n",
       "      <th>2</th>\n",
       "      <td>March 2013</td>\n",
       "      <td>147142.0</td>\n",
       "      <td>March</td>\n",
       "      <td>2013</td>\n",
       "    </tr>\n",
       "    <tr>\n",
       "      <th>3</th>\n",
       "      <td>April 2013</td>\n",
       "      <td>107190.0</td>\n",
       "      <td>April</td>\n",
       "      <td>2013</td>\n",
       "    </tr>\n",
       "    <tr>\n",
       "      <th>4</th>\n",
       "      <td>May 2013</td>\n",
       "      <td>106970.0</td>\n",
       "      <td>May</td>\n",
       "      <td>2013</td>\n",
       "    </tr>\n",
       "  </tbody>\n",
       "</table>\n",
       "</div>"
      ],
      "text/plain": [
       "  date_block_num       sum     month  year\n",
       "0   January 2013  131479.0   January  2013\n",
       "1  February 2013  128090.0  February  2013\n",
       "2     March 2013  147142.0     March  2013\n",
       "3     April 2013  107190.0     April  2013\n",
       "4       May 2013  106970.0       May  2013"
      ]
     },
     "execution_count": 110,
     "metadata": {},
     "output_type": "execute_result"
    }
   ],
   "source": [
    "alt_df_two = alt_df.copy()\n",
    "alt_df_two['month'] = split[0]\n",
    "alt_df_two['year'] = split[1]\n",
    "alt_df_two.head()"
   ]
  },
  {
   "cell_type": "code",
   "execution_count": 111,
   "metadata": {},
   "outputs": [],
   "source": [
    "chart1 = alt.Chart(alt_df_two).mark_area().encode(\n",
    "    alt.X('date_block_num:T', axis = alt.Axis(labelAngle=-45), title='Time'),\n",
    "    alt.Y('sum:Q', title='Items Sold'),\n",
    "    alt.Color('month:N', scale=alt.Scale(scheme='category20'), sort = ['Januray'], title='Month')\n",
    ").properties(width=1000, title='Kaggle Data Science Competition: Sales Prediction in Russian Stores')"
   ]
  },
  {
   "cell_type": "code",
   "execution_count": 112,
   "metadata": {},
   "outputs": [
    {
     "data": {
      "text/plain": [
       "ThemeRegistry.enable('opaque')"
      ]
     },
     "execution_count": 112,
     "metadata": {},
     "output_type": "execute_result"
    }
   ],
   "source": [
    "alt.themes.enable('opaque')"
   ]
  },
  {
   "cell_type": "code",
   "execution_count": 113,
   "metadata": {},
   "outputs": [
    {
     "data": {
      "text/html": [
       "\n",
       "    <div id=\"vega-chart\"></div><script>\n",
       "    require([\"vega-embed\"], function(vegaEmbed) {\n",
       "        const spec = {\"$schema\": \"https://vega.github.io/schema/vega-lite/v2.6.0.json\", \"config\": {\"background\": \"white\", \"view\": {\"height\": 300, \"width\": 400}}, \"data\": {\"name\": \"data-7805491c7d1f84e7c00c301f9082ecbd\"}, \"datasets\": {\"data-7805491c7d1f84e7c00c301f9082ecbd\": [{\"date_block_num\": \"January 2013\", \"month\": \"January\", \"sum\": 131479.0, \"year\": \"2013\"}, {\"date_block_num\": \"February 2013\", \"month\": \"February\", \"sum\": 128090.0, \"year\": \"2013\"}, {\"date_block_num\": \"March 2013\", \"month\": \"March\", \"sum\": 147142.0, \"year\": \"2013\"}, {\"date_block_num\": \"April 2013\", \"month\": \"April\", \"sum\": 107190.0, \"year\": \"2013\"}, {\"date_block_num\": \"May 2013\", \"month\": \"May\", \"sum\": 106970.0, \"year\": \"2013\"}, {\"date_block_num\": \"June 2013\", \"month\": \"June\", \"sum\": 125381.0, \"year\": \"2013\"}, {\"date_block_num\": \"July 2013\", \"month\": \"July\", \"sum\": 116966.0, \"year\": \"2013\"}, {\"date_block_num\": \"August 2013\", \"month\": \"August\", \"sum\": 125291.0, \"year\": \"2013\"}, {\"date_block_num\": \"September 2013\", \"month\": \"September\", \"sum\": 133332.0, \"year\": \"2013\"}, {\"date_block_num\": \"October 2013\", \"month\": \"October\", \"sum\": 127541.0, \"year\": \"2013\"}, {\"date_block_num\": \"November 2013\", \"month\": \"November\", \"sum\": 130009.0, \"year\": \"2013\"}, {\"date_block_num\": \"December 2013\", \"month\": \"December\", \"sum\": 183342.0, \"year\": \"2013\"}, {\"date_block_num\": \"January 2014\", \"month\": \"January\", \"sum\": 116899.0, \"year\": \"2014\"}, {\"date_block_num\": \"February 2014\", \"month\": \"February\", \"sum\": 109687.0, \"year\": \"2014\"}, {\"date_block_num\": \"March 2014\", \"month\": \"March\", \"sum\": 115297.0, \"year\": \"2014\"}, {\"date_block_num\": \"April 2014\", \"month\": \"April\", \"sum\": 96556.0, \"year\": \"2014\"}, {\"date_block_num\": \"May 2014\", \"month\": \"May\", \"sum\": 97790.0, \"year\": \"2014\"}, {\"date_block_num\": \"June 2014\", \"month\": \"June\", \"sum\": 97429.0, \"year\": \"2014\"}, {\"date_block_num\": \"July 2014\", \"month\": \"July\", \"sum\": 91280.0, \"year\": \"2014\"}, {\"date_block_num\": \"August 2014\", \"month\": \"August\", \"sum\": 102721.0, \"year\": \"2014\"}, {\"date_block_num\": \"September 2014\", \"month\": \"September\", \"sum\": 99208.0, \"year\": \"2014\"}, {\"date_block_num\": \"October 2014\", \"month\": \"October\", \"sum\": 107422.0, \"year\": \"2014\"}, {\"date_block_num\": \"November 2014\", \"month\": \"November\", \"sum\": 117845.0, \"year\": \"2014\"}, {\"date_block_num\": \"December 2014\", \"month\": \"December\", \"sum\": 168755.0, \"year\": \"2014\"}, {\"date_block_num\": \"January 2015\", \"month\": \"January\", \"sum\": 110971.0, \"year\": \"2015\"}, {\"date_block_num\": \"February 2015\", \"month\": \"February\", \"sum\": 84198.0, \"year\": \"2015\"}, {\"date_block_num\": \"March 2015\", \"month\": \"March\", \"sum\": 82014.0, \"year\": \"2015\"}, {\"date_block_num\": \"April 2015\", \"month\": \"April\", \"sum\": 77827.0, \"year\": \"2015\"}, {\"date_block_num\": \"May 2015\", \"month\": \"May\", \"sum\": 72295.0, \"year\": \"2015\"}, {\"date_block_num\": \"June 2015\", \"month\": \"June\", \"sum\": 64114.0, \"year\": \"2015\"}, {\"date_block_num\": \"July 2015\", \"month\": \"July\", \"sum\": 63187.0, \"year\": \"2015\"}, {\"date_block_num\": \"August 2015\", \"month\": \"August\", \"sum\": 66079.0, \"year\": \"2015\"}, {\"date_block_num\": \"September 2015\", \"month\": \"September\", \"sum\": 72843.0, \"year\": \"2015\"}, {\"date_block_num\": \"October 2015\", \"month\": \"October\", \"sum\": 71056.0, \"year\": \"2015\"}]}, \"encoding\": {\"color\": {\"field\": \"month\", \"scale\": {\"scheme\": \"category20\"}, \"sort\": [\"Januray\"], \"title\": \"Month\", \"type\": \"nominal\"}, \"x\": {\"axis\": {\"labelAngle\": -45}, \"field\": \"date_block_num\", \"title\": \"Time\", \"type\": \"temporal\"}, \"y\": {\"field\": \"sum\", \"title\": \"Items Sold\", \"type\": \"quantitative\"}}, \"mark\": \"area\", \"title\": \"Kaggle Data Science Competition: Sales Prediction in Russian Stores\", \"width\": 1000};     \n",
       "        vegaEmbed(\"#vega-chart\", spec, {defaultStyle: true}).catch(console.warn);\n",
       "    });\n",
       "    </script>\n",
       "    "
      ],
      "text/plain": [
       "<IPython.core.display.HTML object>"
      ]
     },
     "execution_count": 113,
     "metadata": {},
     "output_type": "execute_result"
    }
   ],
   "source": [
    "render_alt(chart1)"
   ]
  },
  {
   "cell_type": "code",
   "execution_count": 114,
   "metadata": {},
   "outputs": [],
   "source": [
    "chart2 = alt.Chart(alt_df_two).mark_bar().encode(\n",
    "    alt.X('year:N'),\n",
    "    alt.Y('sum(sum):Q'),\n",
    "    alt.Color('year:N')\n",
    ").properties(width=1000)"
   ]
  },
  {
   "cell_type": "code",
   "execution_count": 115,
   "metadata": {},
   "outputs": [
    {
     "data": {
      "text/html": [
       "\n",
       "    <div id=\"vega-chart-1\"></div><script>\n",
       "    require([\"vega-embed\"], function(vegaEmbed) {\n",
       "        const spec = {\"$schema\": \"https://vega.github.io/schema/vega-lite/v2.6.0.json\", \"config\": {\"background\": \"white\", \"view\": {\"height\": 300, \"width\": 400}}, \"data\": {\"name\": \"data-7805491c7d1f84e7c00c301f9082ecbd\"}, \"datasets\": {\"data-7805491c7d1f84e7c00c301f9082ecbd\": [{\"date_block_num\": \"January 2013\", \"month\": \"January\", \"sum\": 131479.0, \"year\": \"2013\"}, {\"date_block_num\": \"February 2013\", \"month\": \"February\", \"sum\": 128090.0, \"year\": \"2013\"}, {\"date_block_num\": \"March 2013\", \"month\": \"March\", \"sum\": 147142.0, \"year\": \"2013\"}, {\"date_block_num\": \"April 2013\", \"month\": \"April\", \"sum\": 107190.0, \"year\": \"2013\"}, {\"date_block_num\": \"May 2013\", \"month\": \"May\", \"sum\": 106970.0, \"year\": \"2013\"}, {\"date_block_num\": \"June 2013\", \"month\": \"June\", \"sum\": 125381.0, \"year\": \"2013\"}, {\"date_block_num\": \"July 2013\", \"month\": \"July\", \"sum\": 116966.0, \"year\": \"2013\"}, {\"date_block_num\": \"August 2013\", \"month\": \"August\", \"sum\": 125291.0, \"year\": \"2013\"}, {\"date_block_num\": \"September 2013\", \"month\": \"September\", \"sum\": 133332.0, \"year\": \"2013\"}, {\"date_block_num\": \"October 2013\", \"month\": \"October\", \"sum\": 127541.0, \"year\": \"2013\"}, {\"date_block_num\": \"November 2013\", \"month\": \"November\", \"sum\": 130009.0, \"year\": \"2013\"}, {\"date_block_num\": \"December 2013\", \"month\": \"December\", \"sum\": 183342.0, \"year\": \"2013\"}, {\"date_block_num\": \"January 2014\", \"month\": \"January\", \"sum\": 116899.0, \"year\": \"2014\"}, {\"date_block_num\": \"February 2014\", \"month\": \"February\", \"sum\": 109687.0, \"year\": \"2014\"}, {\"date_block_num\": \"March 2014\", \"month\": \"March\", \"sum\": 115297.0, \"year\": \"2014\"}, {\"date_block_num\": \"April 2014\", \"month\": \"April\", \"sum\": 96556.0, \"year\": \"2014\"}, {\"date_block_num\": \"May 2014\", \"month\": \"May\", \"sum\": 97790.0, \"year\": \"2014\"}, {\"date_block_num\": \"June 2014\", \"month\": \"June\", \"sum\": 97429.0, \"year\": \"2014\"}, {\"date_block_num\": \"July 2014\", \"month\": \"July\", \"sum\": 91280.0, \"year\": \"2014\"}, {\"date_block_num\": \"August 2014\", \"month\": \"August\", \"sum\": 102721.0, \"year\": \"2014\"}, {\"date_block_num\": \"September 2014\", \"month\": \"September\", \"sum\": 99208.0, \"year\": \"2014\"}, {\"date_block_num\": \"October 2014\", \"month\": \"October\", \"sum\": 107422.0, \"year\": \"2014\"}, {\"date_block_num\": \"November 2014\", \"month\": \"November\", \"sum\": 117845.0, \"year\": \"2014\"}, {\"date_block_num\": \"December 2014\", \"month\": \"December\", \"sum\": 168755.0, \"year\": \"2014\"}, {\"date_block_num\": \"January 2015\", \"month\": \"January\", \"sum\": 110971.0, \"year\": \"2015\"}, {\"date_block_num\": \"February 2015\", \"month\": \"February\", \"sum\": 84198.0, \"year\": \"2015\"}, {\"date_block_num\": \"March 2015\", \"month\": \"March\", \"sum\": 82014.0, \"year\": \"2015\"}, {\"date_block_num\": \"April 2015\", \"month\": \"April\", \"sum\": 77827.0, \"year\": \"2015\"}, {\"date_block_num\": \"May 2015\", \"month\": \"May\", \"sum\": 72295.0, \"year\": \"2015\"}, {\"date_block_num\": \"June 2015\", \"month\": \"June\", \"sum\": 64114.0, \"year\": \"2015\"}, {\"date_block_num\": \"July 2015\", \"month\": \"July\", \"sum\": 63187.0, \"year\": \"2015\"}, {\"date_block_num\": \"August 2015\", \"month\": \"August\", \"sum\": 66079.0, \"year\": \"2015\"}, {\"date_block_num\": \"September 2015\", \"month\": \"September\", \"sum\": 72843.0, \"year\": \"2015\"}, {\"date_block_num\": \"October 2015\", \"month\": \"October\", \"sum\": 71056.0, \"year\": \"2015\"}]}, \"encoding\": {\"color\": {\"field\": \"year\", \"type\": \"nominal\"}, \"x\": {\"field\": \"year\", \"type\": \"nominal\"}, \"y\": {\"aggregate\": \"sum\", \"field\": \"sum\", \"type\": \"quantitative\"}}, \"mark\": \"bar\", \"width\": 1000};     \n",
       "        vegaEmbed(\"#vega-chart-1\", spec, {defaultStyle: true}).catch(console.warn);\n",
       "    });\n",
       "    </script>\n",
       "    "
      ],
      "text/plain": [
       "<IPython.core.display.HTML object>"
      ]
     },
     "execution_count": 115,
     "metadata": {},
     "output_type": "execute_result"
    }
   ],
   "source": [
    "render_alt(chart2)"
   ]
  },
  {
   "cell_type": "code",
   "execution_count": 116,
   "metadata": {},
   "outputs": [
    {
     "data": {
      "text/html": [
       "<div>\n",
       "<style scoped>\n",
       "    .dataframe tbody tr th:only-of-type {\n",
       "        vertical-align: middle;\n",
       "    }\n",
       "\n",
       "    .dataframe tbody tr th {\n",
       "        vertical-align: top;\n",
       "    }\n",
       "\n",
       "    .dataframe thead th {\n",
       "        text-align: right;\n",
       "    }\n",
       "</style>\n",
       "<table border=\"1\" class=\"dataframe\">\n",
       "  <thead>\n",
       "    <tr style=\"text-align: right;\">\n",
       "      <th></th>\n",
       "      <th>date_block_num</th>\n",
       "      <th>shop_id</th>\n",
       "      <th>sum</th>\n",
       "      <th>month</th>\n",
       "      <th>year</th>\n",
       "    </tr>\n",
       "  </thead>\n",
       "  <tbody>\n",
       "    <tr>\n",
       "      <th>0</th>\n",
       "      <td>January 2013</td>\n",
       "      <td>0</td>\n",
       "      <td>5578.0</td>\n",
       "      <td>January</td>\n",
       "      <td>2013</td>\n",
       "    </tr>\n",
       "    <tr>\n",
       "      <th>1</th>\n",
       "      <td>January 2013</td>\n",
       "      <td>1</td>\n",
       "      <td>2947.0</td>\n",
       "      <td>January</td>\n",
       "      <td>2013</td>\n",
       "    </tr>\n",
       "  </tbody>\n",
       "</table>\n",
       "</div>"
      ],
      "text/plain": [
       "  date_block_num  shop_id     sum    month  year\n",
       "0   January 2013        0  5578.0  January  2013\n",
       "1   January 2013        1  2947.0  January  2013"
      ]
     },
     "execution_count": 116,
     "metadata": {},
     "output_type": "execute_result"
    }
   ],
   "source": [
    "alt_df_three = train.groupby(['date_block_num', 'shop_id'])['item_cnt_day'].sum().rename('sum').reset_index()\n",
    "alt_df_three['date_block_num'].replace(dict_date_block_num, inplace=True)\n",
    "\n",
    "split = alt_df_three['date_block_num'].str.split(\" \", n = 1, expand = True) \n",
    "alt_df_three['month'] = split[0]\n",
    "alt_df_three['year'] = split[1]\n",
    "\n",
    "alt_df_three.head(2)"
   ]
  },
  {
   "cell_type": "code",
   "execution_count": 117,
   "metadata": {},
   "outputs": [],
   "source": [
    "chart3 = alt.Chart(alt_df_three).mark_rect().encode(\n",
    "    alt.Y('month'),\n",
    "    alt.X('shop_id:N'),\n",
    "    alt.Color('mean(sum):Q')\n",
    ")\n",
    "\n",
    "chart4 = alt.Chart(alt_df_three).mark_rect().encode(\n",
    "    alt.Y('year'),\n",
    "    alt.X('shop_id:N'),\n",
    "    alt.Color('mean(sum):Q')\n",
    ")\n",
    "\n",
    "chart = (chart3 & chart4)"
   ]
  },
  {
   "cell_type": "code",
   "execution_count": 118,
   "metadata": {},
   "outputs": [
    {
     "data": {
      "text/html": [
       "\n",
       "    <div id=\"vega-chart-2\"></div><script>\n",
       "    require([\"vega-embed\"], function(vegaEmbed) {\n",
       "        const spec = {\"$schema\": \"https://vega.github.io/schema/vega-lite/v2.6.0.json\", \"config\": {\"background\": \"white\", \"view\": {\"height\": 300, \"width\": 400}}, \"datasets\": {\"data-96320a5673b0f35f146fc7ba704f6a99\": [{\"date_block_num\": \"January 2013\", \"month\": \"January\", \"shop_id\": 0, \"sum\": 5578.0, \"year\": \"2013\"}, {\"date_block_num\": \"January 2013\", \"month\": \"January\", \"shop_id\": 1, \"sum\": 2947.0, \"year\": \"2013\"}, {\"date_block_num\": \"January 2013\", \"month\": \"January\", \"shop_id\": 2, \"sum\": 1146.0, \"year\": \"2013\"}, {\"date_block_num\": \"January 2013\", \"month\": \"January\", \"shop_id\": 3, \"sum\": 767.0, \"year\": \"2013\"}, {\"date_block_num\": \"January 2013\", \"month\": \"January\", \"shop_id\": 4, \"sum\": 2114.0, \"year\": \"2013\"}, {\"date_block_num\": \"January 2013\", \"month\": \"January\", \"shop_id\": 6, \"sum\": 3686.0, \"year\": \"2013\"}, {\"date_block_num\": \"January 2013\", \"month\": \"January\", \"shop_id\": 7, \"sum\": 2495.0, \"year\": \"2013\"}, {\"date_block_num\": \"January 2013\", \"month\": \"January\", \"shop_id\": 8, \"sum\": 1463.0, \"year\": \"2013\"}, {\"date_block_num\": \"January 2013\", \"month\": \"January\", \"shop_id\": 10, \"sum\": 935.0, \"year\": \"2013\"}, {\"date_block_num\": \"January 2013\", \"month\": \"January\", \"shop_id\": 12, \"sum\": 842.0, \"year\": \"2013\"}, {\"date_block_num\": \"January 2013\", \"month\": \"January\", \"shop_id\": 13, \"sum\": 1178.0, \"year\": \"2013\"}, {\"date_block_num\": \"January 2013\", \"month\": \"January\", \"shop_id\": 14, \"sum\": 1777.0, \"year\": \"2013\"}, {\"date_block_num\": \"January 2013\", \"month\": \"January\", \"shop_id\": 15, \"sum\": 2724.0, \"year\": \"2013\"}, {\"date_block_num\": \"January 2013\", \"month\": \"January\", \"shop_id\": 16, \"sum\": 2978.0, \"year\": \"2013\"}, {\"date_block_num\": \"January 2013\", \"month\": \"January\", \"shop_id\": 18, \"sum\": 2856.0, \"year\": \"2013\"}, {\"date_block_num\": \"January 2013\", \"month\": \"January\", \"shop_id\": 19, \"sum\": 3038.0, \"year\": \"2013\"}, {\"date_block_num\": \"January 2013\", \"month\": \"January\", \"shop_id\": 21, \"sum\": 1495.0, \"year\": \"2013\"}, {\"date_block_num\": \"January 2013\", \"month\": \"January\", \"shop_id\": 22, \"sum\": 1924.0, \"year\": \"2013\"}, {\"date_block_num\": \"January 2013\", \"month\": \"January\", \"shop_id\": 23, \"sum\": 1948.0, \"year\": \"2013\"}, {\"date_block_num\": \"January 2013\", \"month\": \"January\", \"shop_id\": 24, \"sum\": 1768.0, \"year\": \"2013\"}, {\"date_block_num\": \"January 2013\", \"month\": \"January\", \"shop_id\": 25, \"sum\": 8215.0, \"year\": \"2013\"}, {\"date_block_num\": \"January 2013\", \"month\": \"January\", \"shop_id\": 26, \"sum\": 2331.0, \"year\": \"2013\"}, {\"date_block_num\": \"January 2013\", \"month\": \"January\", \"shop_id\": 27, \"sum\": 5548.0, \"year\": \"2013\"}, {\"date_block_num\": \"January 2013\", \"month\": \"January\", \"shop_id\": 28, \"sum\": 7057.0, \"year\": \"2013\"}, {\"date_block_num\": \"January 2013\", \"month\": \"January\", \"shop_id\": 29, \"sum\": 2820.0, \"year\": \"2013\"}, {\"date_block_num\": \"January 2013\", \"month\": \"January\", \"shop_id\": 30, \"sum\": 2978.0, \"year\": \"2013\"}, {\"date_block_num\": \"January 2013\", \"month\": \"January\", \"shop_id\": 31, \"sum\": 10173.0, \"year\": \"2013\"}, {\"date_block_num\": \"January 2013\", \"month\": \"January\", \"shop_id\": 32, \"sum\": 1238.0, \"year\": \"2013\"}, {\"date_block_num\": \"January 2013\", \"month\": \"January\", \"shop_id\": 35, \"sum\": 2127.0, \"year\": \"2013\"}, {\"date_block_num\": \"January 2013\", \"month\": \"January\", \"shop_id\": 37, \"sum\": 2399.0, \"year\": \"2013\"}, {\"date_block_num\": \"January 2013\", \"month\": \"January\", \"shop_id\": 38, \"sum\": 1704.0, \"year\": \"2013\"}, {\"date_block_num\": \"January 2013\", \"month\": \"January\", \"shop_id\": 41, \"sum\": 1998.0, \"year\": \"2013\"}, {\"date_block_num\": \"January 2013\", \"month\": \"January\", \"shop_id\": 42, \"sum\": 3991.0, \"year\": \"2013\"}, {\"date_block_num\": \"January 2013\", \"month\": \"January\", \"shop_id\": 43, \"sum\": 1759.0, \"year\": \"2013\"}, {\"date_block_num\": \"January 2013\", \"month\": \"January\", \"shop_id\": 44, \"sum\": 1708.0, \"year\": \"2013\"}, {\"date_block_num\": \"January 2013\", \"month\": \"January\", \"shop_id\": 45, \"sum\": 1634.0, \"year\": \"2013\"}, {\"date_block_num\": \"January 2013\", \"month\": \"January\", \"shop_id\": 46, \"sum\": 3363.0, \"year\": \"2013\"}, {\"date_block_num\": \"January 2013\", \"month\": \"January\", \"shop_id\": 47, \"sum\": 2115.0, \"year\": \"2013\"}, {\"date_block_num\": \"January 2013\", \"month\": \"January\", \"shop_id\": 50, \"sum\": 3406.0, \"year\": \"2013\"}, {\"date_block_num\": \"January 2013\", \"month\": \"January\", \"shop_id\": 51, \"sum\": 2748.0, \"year\": \"2013\"}, {\"date_block_num\": \"January 2013\", \"month\": \"January\", \"shop_id\": 52, \"sum\": 1812.0, \"year\": \"2013\"}, {\"date_block_num\": \"January 2013\", \"month\": \"January\", \"shop_id\": 53, \"sum\": 2055.0, \"year\": \"2013\"}, {\"date_block_num\": \"January 2013\", \"month\": \"January\", \"shop_id\": 54, \"sum\": 9386.0, \"year\": \"2013\"}, {\"date_block_num\": \"January 2013\", \"month\": \"January\", \"shop_id\": 56, \"sum\": 3238.0, \"year\": \"2013\"}, {\"date_block_num\": \"January 2013\", \"month\": \"January\", \"shop_id\": 59, \"sum\": 2017.0, \"year\": \"2013\"}, {\"date_block_num\": \"February 2013\", \"month\": \"February\", \"shop_id\": 0, \"sum\": 6127.0, \"year\": \"2013\"}, {\"date_block_num\": \"February 2013\", \"month\": \"February\", \"shop_id\": 1, \"sum\": 3364.0, \"year\": \"2013\"}, {\"date_block_num\": \"February 2013\", \"month\": \"February\", \"shop_id\": 2, \"sum\": 488.0, \"year\": \"2013\"}, {\"date_block_num\": \"February 2013\", \"month\": \"February\", \"shop_id\": 3, \"sum\": 798.0, \"year\": \"2013\"}, {\"date_block_num\": \"February 2013\", \"month\": \"February\", \"shop_id\": 4, \"sum\": 2025.0, \"year\": \"2013\"}, {\"date_block_num\": \"February 2013\", \"month\": \"February\", \"shop_id\": 5, \"sum\": 877.0, \"year\": \"2013\"}, {\"date_block_num\": \"February 2013\", \"month\": \"February\", \"shop_id\": 6, \"sum\": 4007.0, \"year\": \"2013\"}, {\"date_block_num\": \"February 2013\", \"month\": \"February\", \"shop_id\": 7, \"sum\": 2513.0, \"year\": \"2013\"}, {\"date_block_num\": \"February 2013\", \"month\": \"February\", \"shop_id\": 8, \"sum\": 1156.0, \"year\": \"2013\"}, {\"date_block_num\": \"February 2013\", \"month\": \"February\", \"shop_id\": 10, \"sum\": 1026.0, \"year\": \"2013\"}, {\"date_block_num\": \"February 2013\", \"month\": \"February\", \"shop_id\": 12, \"sum\": 1209.0, \"year\": \"2013\"}, {\"date_block_num\": \"February 2013\", \"month\": \"February\", \"shop_id\": 13, \"sum\": 1036.0, \"year\": \"2013\"}, {\"date_block_num\": \"February 2013\", \"month\": \"February\", \"shop_id\": 14, \"sum\": 1795.0, \"year\": \"2013\"}, {\"date_block_num\": \"February 2013\", \"month\": \"February\", \"shop_id\": 15, \"sum\": 2746.0, \"year\": \"2013\"}, {\"date_block_num\": \"February 2013\", \"month\": \"February\", \"shop_id\": 16, \"sum\": 2614.0, \"year\": \"2013\"}, {\"date_block_num\": \"February 2013\", \"month\": \"February\", \"shop_id\": 18, \"sum\": 3341.0, \"year\": \"2013\"}, {\"date_block_num\": \"February 2013\", \"month\": \"February\", \"shop_id\": 19, \"sum\": 2834.0, \"year\": \"2013\"}, {\"date_block_num\": \"February 2013\", \"month\": \"February\", \"shop_id\": 21, \"sum\": 1854.0, \"year\": \"2013\"}, {\"date_block_num\": \"February 2013\", \"month\": \"February\", \"shop_id\": 22, \"sum\": 2447.0, \"year\": \"2013\"}, {\"date_block_num\": \"February 2013\", \"month\": \"February\", \"shop_id\": 23, \"sum\": 1941.0, \"year\": \"2013\"}, {\"date_block_num\": \"February 2013\", \"month\": \"February\", \"shop_id\": 24, \"sum\": 1782.0, \"year\": \"2013\"}, {\"date_block_num\": \"February 2013\", \"month\": \"February\", \"shop_id\": 25, \"sum\": 7934.0, \"year\": \"2013\"}, {\"date_block_num\": \"February 2013\", \"month\": \"February\", \"shop_id\": 26, \"sum\": 2597.0, \"year\": \"2013\"}, {\"date_block_num\": \"February 2013\", \"month\": \"February\", \"shop_id\": 27, \"sum\": 4546.0, \"year\": \"2013\"}, {\"date_block_num\": \"February 2013\", \"month\": \"February\", \"shop_id\": 28, \"sum\": 5438.0, \"year\": \"2013\"}, {\"date_block_num\": \"February 2013\", \"month\": \"February\", \"shop_id\": 29, \"sum\": 2834.0, \"year\": \"2013\"}, {\"date_block_num\": \"February 2013\", \"month\": \"February\", \"shop_id\": 30, \"sum\": 2717.0, \"year\": \"2013\"}, {\"date_block_num\": \"February 2013\", \"month\": \"February\", \"shop_id\": 31, \"sum\": 11160.0, \"year\": \"2013\"}, {\"date_block_num\": \"February 2013\", \"month\": \"February\", \"shop_id\": 32, \"sum\": 1494.0, \"year\": \"2013\"}, {\"date_block_num\": \"February 2013\", \"month\": \"February\", \"shop_id\": 35, \"sum\": 2205.0, \"year\": \"2013\"}, {\"date_block_num\": \"February 2013\", \"month\": \"February\", \"shop_id\": 37, \"sum\": 2216.0, \"year\": \"2013\"}, {\"date_block_num\": \"February 2013\", \"month\": \"February\", \"shop_id\": 38, \"sum\": 1670.0, \"year\": \"2013\"}, {\"date_block_num\": \"February 2013\", \"month\": \"February\", \"shop_id\": 41, \"sum\": 1856.0, \"year\": \"2013\"}, {\"date_block_num\": \"February 2013\", \"month\": \"February\", \"shop_id\": 42, \"sum\": 3965.0, \"year\": \"2013\"}, {\"date_block_num\": \"February 2013\", \"month\": \"February\", \"shop_id\": 43, \"sum\": 2033.0, \"year\": \"2013\"}, {\"date_block_num\": \"February 2013\", \"month\": \"February\", \"shop_id\": 44, \"sum\": 1823.0, \"year\": \"2013\"}, {\"date_block_num\": \"February 2013\", \"month\": \"February\", \"shop_id\": 45, \"sum\": 1530.0, \"year\": \"2013\"}, {\"date_block_num\": \"February 2013\", \"month\": \"February\", \"shop_id\": 46, \"sum\": 2660.0, \"year\": \"2013\"}, {\"date_block_num\": \"February 2013\", \"month\": \"February\", \"shop_id\": 47, \"sum\": 1824.0, \"year\": \"2013\"}, {\"date_block_num\": \"February 2013\", \"month\": \"February\", \"shop_id\": 50, \"sum\": 3054.0, \"year\": \"2013\"}, {\"date_block_num\": \"February 2013\", \"month\": \"February\", \"shop_id\": 51, \"sum\": 2284.0, \"year\": \"2013\"}, {\"date_block_num\": \"February 2013\", \"month\": \"February\", \"shop_id\": 52, \"sum\": 1737.0, \"year\": \"2013\"}, {\"date_block_num\": \"February 2013\", \"month\": \"February\", \"shop_id\": 53, \"sum\": 1906.0, \"year\": \"2013\"}, {\"date_block_num\": \"February 2013\", \"month\": \"February\", \"shop_id\": 54, \"sum\": 8075.0, \"year\": \"2013\"}, {\"date_block_num\": \"February 2013\", \"month\": \"February\", \"shop_id\": 56, \"sum\": 2655.0, \"year\": \"2013\"}, {\"date_block_num\": \"February 2013\", \"month\": \"February\", \"shop_id\": 59, \"sum\": 1897.0, \"year\": \"2013\"}, {\"date_block_num\": \"March 2013\", \"month\": \"March\", \"shop_id\": 2, \"sum\": 753.0, \"year\": \"2013\"}, {\"date_block_num\": \"March 2013\", \"month\": \"March\", \"shop_id\": 3, \"sum\": 959.0, \"year\": \"2013\"}, {\"date_block_num\": \"March 2013\", \"month\": \"March\", \"shop_id\": 4, \"sum\": 2060.0, \"year\": \"2013\"}, {\"date_block_num\": \"March 2013\", \"month\": \"March\", \"shop_id\": 5, \"sum\": 1355.0, \"year\": \"2013\"}, {\"date_block_num\": \"March 2013\", \"month\": \"March\", \"shop_id\": 6, \"sum\": 4519.0, \"year\": \"2013\"}, {\"date_block_num\": \"March 2013\", \"month\": \"March\", \"shop_id\": 7, \"sum\": 2460.0, \"year\": \"2013\"}, {\"date_block_num\": \"March 2013\", \"month\": \"March\", \"shop_id\": 8, \"sum\": 977.0, \"year\": \"2013\"}, {\"date_block_num\": \"March 2013\", \"month\": \"March\", \"shop_id\": 10, \"sum\": 1017.0, \"year\": \"2013\"}, {\"date_block_num\": \"March 2013\", \"month\": \"March\", \"shop_id\": 12, \"sum\": 1419.0, \"year\": \"2013\"}, {\"date_block_num\": \"March 2013\", \"month\": \"March\", \"shop_id\": 13, \"sum\": 1245.0, \"year\": \"2013\"}, {\"date_block_num\": \"March 2013\", \"month\": \"March\", \"shop_id\": 14, \"sum\": 1893.0, \"year\": \"2013\"}, {\"date_block_num\": \"March 2013\", \"month\": \"March\", \"shop_id\": 15, \"sum\": 2835.0, \"year\": \"2013\"}, {\"date_block_num\": \"March 2013\", \"month\": \"March\", \"shop_id\": 16, \"sum\": 3088.0, \"year\": \"2013\"}, {\"date_block_num\": \"March 2013\", \"month\": \"March\", \"shop_id\": 18, \"sum\": 3551.0, \"year\": \"2013\"}, {\"date_block_num\": \"March 2013\", \"month\": \"March\", \"shop_id\": 19, \"sum\": 3020.0, \"year\": \"2013\"}, {\"date_block_num\": \"March 2013\", \"month\": \"March\", \"shop_id\": 21, \"sum\": 2233.0, \"year\": \"2013\"}, {\"date_block_num\": \"March 2013\", \"month\": \"March\", \"shop_id\": 22, \"sum\": 2588.0, \"year\": \"2013\"}, {\"date_block_num\": \"March 2013\", \"month\": \"March\", \"shop_id\": 23, \"sum\": 2118.0, \"year\": \"2013\"}, {\"date_block_num\": \"March 2013\", \"month\": \"March\", \"shop_id\": 24, \"sum\": 2014.0, \"year\": \"2013\"}, {\"date_block_num\": \"March 2013\", \"month\": \"March\", \"shop_id\": 25, \"sum\": 9732.0, \"year\": \"2013\"}, {\"date_block_num\": \"March 2013\", \"month\": \"March\", \"shop_id\": 26, \"sum\": 3036.0, \"year\": \"2013\"}, {\"date_block_num\": \"March 2013\", \"month\": \"March\", \"shop_id\": 27, \"sum\": 5454.0, \"year\": \"2013\"}, {\"date_block_num\": \"March 2013\", \"month\": \"March\", \"shop_id\": 28, \"sum\": 6918.0, \"year\": \"2013\"}, {\"date_block_num\": \"March 2013\", \"month\": \"March\", \"shop_id\": 29, \"sum\": 3151.0, \"year\": \"2013\"}, {\"date_block_num\": \"March 2013\", \"month\": \"March\", \"shop_id\": 30, \"sum\": 3026.0, \"year\": \"2013\"}, {\"date_block_num\": \"March 2013\", \"month\": \"March\", \"shop_id\": 31, \"sum\": 12670.0, \"year\": \"2013\"}, {\"date_block_num\": \"March 2013\", \"month\": \"March\", \"shop_id\": 32, \"sum\": 1890.0, \"year\": \"2013\"}, {\"date_block_num\": \"March 2013\", \"month\": \"March\", \"shop_id\": 35, \"sum\": 2568.0, \"year\": \"2013\"}, {\"date_block_num\": \"March 2013\", \"month\": \"March\", \"shop_id\": 37, \"sum\": 2629.0, \"year\": \"2013\"}, {\"date_block_num\": \"March 2013\", \"month\": \"March\", \"shop_id\": 38, \"sum\": 2009.0, \"year\": \"2013\"}, {\"date_block_num\": \"March 2013\", \"month\": \"March\", \"shop_id\": 41, \"sum\": 1816.0, \"year\": \"2013\"}, {\"date_block_num\": \"March 2013\", \"month\": \"March\", \"shop_id\": 42, \"sum\": 4953.0, \"year\": \"2013\"}, {\"date_block_num\": \"March 2013\", \"month\": \"March\", \"shop_id\": 43, \"sum\": 2504.0, \"year\": \"2013\"}, {\"date_block_num\": \"March 2013\", \"month\": \"March\", \"shop_id\": 44, \"sum\": 2131.0, \"year\": \"2013\"}, {\"date_block_num\": \"March 2013\", \"month\": \"March\", \"shop_id\": 45, \"sum\": 1883.0, \"year\": \"2013\"}, {\"date_block_num\": \"March 2013\", \"month\": \"March\", \"shop_id\": 46, \"sum\": 3103.0, \"year\": \"2013\"}, {\"date_block_num\": \"March 2013\", \"month\": \"March\", \"shop_id\": 47, \"sum\": 1977.0, \"year\": \"2013\"}, {\"date_block_num\": \"March 2013\", \"month\": \"March\", \"shop_id\": 50, \"sum\": 3610.0, \"year\": \"2013\"}, {\"date_block_num\": \"March 2013\", \"month\": \"March\", \"shop_id\": 51, \"sum\": 2605.0, \"year\": \"2013\"}, {\"date_block_num\": \"March 2013\", \"month\": \"March\", \"shop_id\": 52, \"sum\": 2034.0, \"year\": \"2013\"}, {\"date_block_num\": \"March 2013\", \"month\": \"March\", \"shop_id\": 53, \"sum\": 2365.0, \"year\": \"2013\"}, {\"date_block_num\": \"March 2013\", \"month\": \"March\", \"shop_id\": 54, \"sum\": 9488.0, \"year\": \"2013\"}, {\"date_block_num\": \"March 2013\", \"month\": \"March\", \"shop_id\": 56, \"sum\": 3099.0, \"year\": \"2013\"}, {\"date_block_num\": \"March 2013\", \"month\": \"March\", \"shop_id\": 57, \"sum\": 6586.0, \"year\": \"2013\"}, {\"date_block_num\": \"March 2013\", \"month\": \"March\", \"shop_id\": 58, \"sum\": 3773.0, \"year\": \"2013\"}, {\"date_block_num\": \"March 2013\", \"month\": \"March\", \"shop_id\": 59, \"sum\": 2028.0, \"year\": \"2013\"}, {\"date_block_num\": \"April 2013\", \"month\": \"April\", \"shop_id\": 2, \"sum\": 583.0, \"year\": \"2013\"}, {\"date_block_num\": \"April 2013\", \"month\": \"April\", \"shop_id\": 3, \"sum\": 647.0, \"year\": \"2013\"}, {\"date_block_num\": \"April 2013\", \"month\": \"April\", \"shop_id\": 4, \"sum\": 285.0, \"year\": \"2013\"}, {\"date_block_num\": \"April 2013\", \"month\": \"April\", \"shop_id\": 5, \"sum\": 1008.0, \"year\": \"2013\"}, {\"date_block_num\": \"April 2013\", \"month\": \"April\", \"shop_id\": 6, \"sum\": 3168.0, \"year\": \"2013\"}, {\"date_block_num\": \"April 2013\", \"month\": \"April\", \"shop_id\": 7, \"sum\": 1540.0, \"year\": \"2013\"}, {\"date_block_num\": \"April 2013\", \"month\": \"April\", \"shop_id\": 8, \"sum\": -1.0, \"year\": \"2013\"}, {\"date_block_num\": \"April 2013\", \"month\": \"April\", \"shop_id\": 10, \"sum\": 756.0, \"year\": \"2013\"}, {\"date_block_num\": \"April 2013\", \"month\": \"April\", \"shop_id\": 12, \"sum\": 1364.0, \"year\": \"2013\"}, {\"date_block_num\": \"April 2013\", \"month\": \"April\", \"shop_id\": 13, \"sum\": 1018.0, \"year\": \"2013\"}, {\"date_block_num\": \"April 2013\", \"month\": \"April\", \"shop_id\": 14, \"sum\": 1247.0, \"year\": \"2013\"}, {\"date_block_num\": \"April 2013\", \"month\": \"April\", \"shop_id\": 15, \"sum\": 2168.0, \"year\": \"2013\"}, {\"date_block_num\": \"April 2013\", \"month\": \"April\", \"shop_id\": 16, \"sum\": 2118.0, \"year\": \"2013\"}, {\"date_block_num\": \"April 2013\", \"month\": \"April\", \"shop_id\": 18, \"sum\": 2421.0, \"year\": \"2013\"}, {\"date_block_num\": \"April 2013\", \"month\": \"April\", \"shop_id\": 19, \"sum\": 2291.0, \"year\": \"2013\"}, {\"date_block_num\": \"April 2013\", \"month\": \"April\", \"shop_id\": 21, \"sum\": 1846.0, \"year\": \"2013\"}, {\"date_block_num\": \"April 2013\", \"month\": \"April\", \"shop_id\": 22, \"sum\": 2297.0, \"year\": \"2013\"}, {\"date_block_num\": \"April 2013\", \"month\": \"April\", \"shop_id\": 23, \"sum\": 1698.0, \"year\": \"2013\"}, {\"date_block_num\": \"April 2013\", \"month\": \"April\", \"shop_id\": 24, \"sum\": 787.0, \"year\": \"2013\"}, {\"date_block_num\": \"April 2013\", \"month\": \"April\", \"shop_id\": 25, \"sum\": 7867.0, \"year\": \"2013\"}, {\"date_block_num\": \"April 2013\", \"month\": \"April\", \"shop_id\": 26, \"sum\": 2381.0, \"year\": \"2013\"}, {\"date_block_num\": \"April 2013\", \"month\": \"April\", \"shop_id\": 27, \"sum\": 3946.0, \"year\": \"2013\"}, {\"date_block_num\": \"April 2013\", \"month\": \"April\", \"shop_id\": 28, \"sum\": 4910.0, \"year\": \"2013\"}, {\"date_block_num\": \"April 2013\", \"month\": \"April\", \"shop_id\": 29, \"sum\": 2252.0, \"year\": \"2013\"}, {\"date_block_num\": \"April 2013\", \"month\": \"April\", \"shop_id\": 30, \"sum\": 2379.0, \"year\": \"2013\"}, {\"date_block_num\": \"April 2013\", \"month\": \"April\", \"shop_id\": 31, \"sum\": 9621.0, \"year\": \"2013\"}, {\"date_block_num\": \"April 2013\", \"month\": \"April\", \"shop_id\": 32, \"sum\": 1364.0, \"year\": \"2013\"}, {\"date_block_num\": \"April 2013\", \"month\": \"April\", \"shop_id\": 35, \"sum\": 1845.0, \"year\": \"2013\"}, {\"date_block_num\": \"April 2013\", \"month\": \"April\", \"shop_id\": 37, \"sum\": 1946.0, \"year\": \"2013\"}, {\"date_block_num\": \"April 2013\", \"month\": \"April\", \"shop_id\": 38, \"sum\": 1375.0, \"year\": \"2013\"}, {\"date_block_num\": \"April 2013\", \"month\": \"April\", \"shop_id\": 41, \"sum\": 1387.0, \"year\": \"2013\"}, {\"date_block_num\": \"April 2013\", \"month\": \"April\", \"shop_id\": 42, \"sum\": 3978.0, \"year\": \"2013\"}, {\"date_block_num\": \"April 2013\", \"month\": \"April\", \"shop_id\": 43, \"sum\": 1880.0, \"year\": \"2013\"}, {\"date_block_num\": \"April 2013\", \"month\": \"April\", \"shop_id\": 44, \"sum\": 1628.0, \"year\": \"2013\"}, {\"date_block_num\": \"April 2013\", \"month\": \"April\", \"shop_id\": 45, \"sum\": 1253.0, \"year\": \"2013\"}, {\"date_block_num\": \"April 2013\", \"month\": \"April\", \"shop_id\": 46, \"sum\": 2160.0, \"year\": \"2013\"}, {\"date_block_num\": \"April 2013\", \"month\": \"April\", \"shop_id\": 47, \"sum\": 1540.0, \"year\": \"2013\"}, {\"date_block_num\": \"April 2013\", \"month\": \"April\", \"shop_id\": 50, \"sum\": 2740.0, \"year\": \"2013\"}, {\"date_block_num\": \"April 2013\", \"month\": \"April\", \"shop_id\": 51, \"sum\": 1945.0, \"year\": \"2013\"}, {\"date_block_num\": \"April 2013\", \"month\": \"April\", \"shop_id\": 52, \"sum\": 1446.0, \"year\": \"2013\"}, {\"date_block_num\": \"April 2013\", \"month\": \"April\", \"shop_id\": 53, \"sum\": 1515.0, \"year\": \"2013\"}, {\"date_block_num\": \"April 2013\", \"month\": \"April\", \"shop_id\": 54, \"sum\": 6726.0, \"year\": \"2013\"}, {\"date_block_num\": \"April 2013\", \"month\": \"April\", \"shop_id\": 56, \"sum\": 2153.0, \"year\": \"2013\"}, {\"date_block_num\": \"April 2013\", \"month\": \"April\", \"shop_id\": 57, \"sum\": 5493.0, \"year\": \"2013\"}, {\"date_block_num\": \"April 2013\", \"month\": \"April\", \"shop_id\": 58, \"sum\": 2831.0, \"year\": \"2013\"}, {\"date_block_num\": \"April 2013\", \"month\": \"April\", \"shop_id\": 59, \"sum\": 1388.0, \"year\": \"2013\"}, {\"date_block_num\": \"May 2013\", \"month\": \"May\", \"shop_id\": 2, \"sum\": 553.0, \"year\": \"2013\"}, {\"date_block_num\": \"May 2013\", \"month\": \"May\", \"shop_id\": 3, \"sum\": 710.0, \"year\": \"2013\"}, {\"date_block_num\": \"May 2013\", \"month\": \"May\", \"shop_id\": 4, \"sum\": 1211.0, \"year\": \"2013\"}, {\"date_block_num\": \"May 2013\", \"month\": \"May\", \"shop_id\": 5, \"sum\": 1110.0, \"year\": \"2013\"}, {\"date_block_num\": \"May 2013\", \"month\": \"May\", \"shop_id\": 6, \"sum\": 3022.0, \"year\": \"2013\"}, {\"date_block_num\": \"May 2013\", \"month\": \"May\", \"shop_id\": 7, \"sum\": 1647.0, \"year\": \"2013\"}, {\"date_block_num\": \"May 2013\", \"month\": \"May\", \"shop_id\": 10, \"sum\": 683.0, \"year\": \"2013\"}, {\"date_block_num\": \"May 2013\", \"month\": \"May\", \"shop_id\": 12, \"sum\": 917.0, \"year\": \"2013\"}, {\"date_block_num\": \"May 2013\", \"month\": \"May\", \"shop_id\": 13, \"sum\": 1104.0, \"year\": \"2013\"}, {\"date_block_num\": \"May 2013\", \"month\": \"May\", \"shop_id\": 14, \"sum\": 1489.0, \"year\": \"2013\"}, {\"date_block_num\": \"May 2013\", \"month\": \"May\", \"shop_id\": 15, \"sum\": 1931.0, \"year\": \"2013\"}, {\"date_block_num\": \"May 2013\", \"month\": \"May\", \"shop_id\": 16, \"sum\": 2261.0, \"year\": \"2013\"}, {\"date_block_num\": \"May 2013\", \"month\": \"May\", \"shop_id\": 18, \"sum\": 2944.0, \"year\": \"2013\"}, {\"date_block_num\": \"May 2013\", \"month\": \"May\", \"shop_id\": 19, \"sum\": 2089.0, \"year\": \"2013\"}, {\"date_block_num\": \"May 2013\", \"month\": \"May\", \"shop_id\": 21, \"sum\": 1646.0, \"year\": \"2013\"}, {\"date_block_num\": \"May 2013\", \"month\": \"May\", \"shop_id\": 22, \"sum\": 1755.0, \"year\": \"2013\"}, {\"date_block_num\": \"May 2013\", \"month\": \"May\", \"shop_id\": 24, \"sum\": 1967.0, \"year\": \"2013\"}, {\"date_block_num\": \"May 2013\", \"month\": \"May\", \"shop_id\": 25, \"sum\": 6860.0, \"year\": \"2013\"}, {\"date_block_num\": \"May 2013\", \"month\": \"May\", \"shop_id\": 26, \"sum\": 2148.0, \"year\": \"2013\"}, {\"date_block_num\": \"May 2013\", \"month\": \"May\", \"shop_id\": 27, \"sum\": 3518.0, \"year\": \"2013\"}, {\"date_block_num\": \"May 2013\", \"month\": \"May\", \"shop_id\": 28, \"sum\": 5703.0, \"year\": \"2013\"}, {\"date_block_num\": \"May 2013\", \"month\": \"May\", \"shop_id\": 29, \"sum\": 2345.0, \"year\": \"2013\"}, {\"date_block_num\": \"May 2013\", \"month\": \"May\", \"shop_id\": 30, \"sum\": 2304.0, \"year\": \"2013\"}, {\"date_block_num\": \"May 2013\", \"month\": \"May\", \"shop_id\": 31, \"sum\": 9423.0, \"year\": \"2013\"}, {\"date_block_num\": \"May 2013\", \"month\": \"May\", \"shop_id\": 32, \"sum\": 1209.0, \"year\": \"2013\"}, {\"date_block_num\": \"May 2013\", \"month\": \"May\", \"shop_id\": 35, \"sum\": 2048.0, \"year\": \"2013\"}, {\"date_block_num\": \"May 2013\", \"month\": \"May\", \"shop_id\": 37, \"sum\": 2019.0, \"year\": \"2013\"}, {\"date_block_num\": \"May 2013\", \"month\": \"May\", \"shop_id\": 38, \"sum\": 1337.0, \"year\": \"2013\"}, {\"date_block_num\": \"May 2013\", \"month\": \"May\", \"shop_id\": 41, \"sum\": 1597.0, \"year\": \"2013\"}, {\"date_block_num\": \"May 2013\", \"month\": \"May\", \"shop_id\": 42, \"sum\": 3594.0, \"year\": \"2013\"}, {\"date_block_num\": \"May 2013\", \"month\": \"May\", \"shop_id\": 43, \"sum\": 1624.0, \"year\": \"2013\"}, {\"date_block_num\": \"May 2013\", \"month\": \"May\", \"shop_id\": 44, \"sum\": 1379.0, \"year\": \"2013\"}, {\"date_block_num\": \"May 2013\", \"month\": \"May\", \"shop_id\": 45, \"sum\": 1333.0, \"year\": \"2013\"}, {\"date_block_num\": \"May 2013\", \"month\": \"May\", \"shop_id\": 46, \"sum\": 2522.0, \"year\": \"2013\"}, {\"date_block_num\": \"May 2013\", \"month\": \"May\", \"shop_id\": 47, \"sum\": 1724.0, \"year\": \"2013\"}, {\"date_block_num\": \"May 2013\", \"month\": \"May\", \"shop_id\": 50, \"sum\": 2839.0, \"year\": \"2013\"}, {\"date_block_num\": \"May 2013\", \"month\": \"May\", \"shop_id\": 51, \"sum\": 2243.0, \"year\": \"2013\"}, {\"date_block_num\": \"May 2013\", \"month\": \"May\", \"shop_id\": 52, \"sum\": 1482.0, \"year\": \"2013\"}, {\"date_block_num\": \"May 2013\", \"month\": \"May\", \"shop_id\": 53, \"sum\": 1767.0, \"year\": \"2013\"}, {\"date_block_num\": \"May 2013\", \"month\": \"May\", \"shop_id\": 54, \"sum\": 7006.0, \"year\": \"2013\"}, {\"date_block_num\": \"May 2013\", \"month\": \"May\", \"shop_id\": 55, \"sum\": 852.0, \"year\": \"2013\"}, {\"date_block_num\": \"May 2013\", \"month\": \"May\", \"shop_id\": 56, \"sum\": 2140.0, \"year\": \"2013\"}, {\"date_block_num\": \"May 2013\", \"month\": \"May\", \"shop_id\": 57, \"sum\": 5233.0, \"year\": \"2013\"}, {\"date_block_num\": \"May 2013\", \"month\": \"May\", \"shop_id\": 58, \"sum\": 2308.0, \"year\": \"2013\"}, {\"date_block_num\": \"May 2013\", \"month\": \"May\", \"shop_id\": 59, \"sum\": 1374.0, \"year\": \"2013\"}, {\"date_block_num\": \"June 2013\", \"month\": \"June\", \"shop_id\": 2, \"sum\": 832.0, \"year\": \"2013\"}, {\"date_block_num\": \"June 2013\", \"month\": \"June\", \"shop_id\": 3, \"sum\": 784.0, \"year\": \"2013\"}, {\"date_block_num\": \"June 2013\", \"month\": \"June\", \"shop_id\": 4, \"sum\": 1464.0, \"year\": \"2013\"}, {\"date_block_num\": \"June 2013\", \"month\": \"June\", \"shop_id\": 5, \"sum\": 1393.0, \"year\": \"2013\"}, {\"date_block_num\": \"June 2013\", \"month\": \"June\", \"shop_id\": 6, \"sum\": 3847.0, \"year\": \"2013\"}, {\"date_block_num\": \"June 2013\", \"month\": \"June\", \"shop_id\": 7, \"sum\": 2085.0, \"year\": \"2013\"}, {\"date_block_num\": \"June 2013\", \"month\": \"June\", \"shop_id\": 10, \"sum\": 764.0, \"year\": \"2013\"}, {\"date_block_num\": \"June 2013\", \"month\": \"June\", \"shop_id\": 12, \"sum\": 1710.0, \"year\": \"2013\"}, {\"date_block_num\": \"June 2013\", \"month\": \"June\", \"shop_id\": 13, \"sum\": 1358.0, \"year\": \"2013\"}, {\"date_block_num\": \"June 2013\", \"month\": \"June\", \"shop_id\": 14, \"sum\": 1863.0, \"year\": \"2013\"}, {\"date_block_num\": \"June 2013\", \"month\": \"June\", \"shop_id\": 15, \"sum\": 2419.0, \"year\": \"2013\"}, {\"date_block_num\": \"June 2013\", \"month\": \"June\", \"shop_id\": 16, \"sum\": 3075.0, \"year\": \"2013\"}, {\"date_block_num\": \"June 2013\", \"month\": \"June\", \"shop_id\": 17, \"sum\": 906.0, \"year\": \"2013\"}, {\"date_block_num\": \"June 2013\", \"month\": \"June\", \"shop_id\": 18, \"sum\": 3144.0, \"year\": \"2013\"}, {\"date_block_num\": \"June 2013\", \"month\": \"June\", \"shop_id\": 19, \"sum\": 2638.0, \"year\": \"2013\"}, {\"date_block_num\": \"June 2013\", \"month\": \"June\", \"shop_id\": 21, \"sum\": 1912.0, \"year\": \"2013\"}, {\"date_block_num\": \"June 2013\", \"month\": \"June\", \"shop_id\": 22, \"sum\": 2243.0, \"year\": \"2013\"}, {\"date_block_num\": \"June 2013\", \"month\": \"June\", \"shop_id\": 24, \"sum\": 2599.0, \"year\": \"2013\"}, {\"date_block_num\": \"June 2013\", \"month\": \"June\", \"shop_id\": 25, \"sum\": 8478.0, \"year\": \"2013\"}, {\"date_block_num\": \"June 2013\", \"month\": \"June\", \"shop_id\": 26, \"sum\": 2661.0, \"year\": \"2013\"}, {\"date_block_num\": \"June 2013\", \"month\": \"June\", \"shop_id\": 27, \"sum\": 275.0, \"year\": \"2013\"}, {\"date_block_num\": \"June 2013\", \"month\": \"June\", \"shop_id\": 28, \"sum\": 7056.0, \"year\": \"2013\"}, {\"date_block_num\": \"June 2013\", \"month\": \"June\", \"shop_id\": 29, \"sum\": 2803.0, \"year\": \"2013\"}, {\"date_block_num\": \"June 2013\", \"month\": \"June\", \"shop_id\": 30, \"sum\": 2794.0, \"year\": \"2013\"}, {\"date_block_num\": \"June 2013\", \"month\": \"June\", \"shop_id\": 31, \"sum\": 10072.0, \"year\": \"2013\"}, {\"date_block_num\": \"June 2013\", \"month\": \"June\", \"shop_id\": 32, \"sum\": 1493.0, \"year\": \"2013\"}, {\"date_block_num\": \"June 2013\", \"month\": \"June\", \"shop_id\": 35, \"sum\": 2280.0, \"year\": \"2013\"}, {\"date_block_num\": \"June 2013\", \"month\": \"June\", \"shop_id\": 37, \"sum\": 1829.0, \"year\": \"2013\"}, {\"date_block_num\": \"June 2013\", \"month\": \"June\", \"shop_id\": 38, \"sum\": 1539.0, \"year\": \"2013\"}, {\"date_block_num\": \"June 2013\", \"month\": \"June\", \"shop_id\": 41, \"sum\": 2185.0, \"year\": \"2013\"}, {\"date_block_num\": \"June 2013\", \"month\": \"June\", \"shop_id\": 42, \"sum\": 4349.0, \"year\": \"2013\"}, {\"date_block_num\": \"June 2013\", \"month\": \"June\", \"shop_id\": 43, \"sum\": 2060.0, \"year\": \"2013\"}, {\"date_block_num\": \"June 2013\", \"month\": \"June\", \"shop_id\": 44, \"sum\": 1666.0, \"year\": \"2013\"}, {\"date_block_num\": \"June 2013\", \"month\": \"June\", \"shop_id\": 45, \"sum\": 1785.0, \"year\": \"2013\"}, {\"date_block_num\": \"June 2013\", \"month\": \"June\", \"shop_id\": 46, \"sum\": 2865.0, \"year\": \"2013\"}, {\"date_block_num\": \"June 2013\", \"month\": \"June\", \"shop_id\": 47, \"sum\": 1654.0, \"year\": \"2013\"}, {\"date_block_num\": \"June 2013\", \"month\": \"June\", \"shop_id\": 50, \"sum\": 3761.0, \"year\": \"2013\"}, {\"date_block_num\": \"June 2013\", \"month\": \"June\", \"shop_id\": 51, \"sum\": 2200.0, \"year\": \"2013\"}, {\"date_block_num\": \"June 2013\", \"month\": \"June\", \"shop_id\": 52, \"sum\": 1815.0, \"year\": \"2013\"}, {\"date_block_num\": \"June 2013\", \"month\": \"June\", \"shop_id\": 53, \"sum\": 2125.0, \"year\": \"2013\"}, {\"date_block_num\": \"June 2013\", \"month\": \"June\", \"shop_id\": 54, \"sum\": 8101.0, \"year\": \"2013\"}, {\"date_block_num\": \"June 2013\", \"month\": \"June\", \"shop_id\": 55, \"sum\": 728.0, \"year\": \"2013\"}, {\"date_block_num\": \"June 2013\", \"month\": \"June\", \"shop_id\": 56, \"sum\": 3105.0, \"year\": \"2013\"}, {\"date_block_num\": \"June 2013\", \"month\": \"June\", \"shop_id\": 57, \"sum\": 5987.0, \"year\": \"2013\"}, {\"date_block_num\": \"June 2013\", \"month\": \"June\", \"shop_id\": 58, \"sum\": 2972.0, \"year\": \"2013\"}, {\"date_block_num\": \"June 2013\", \"month\": \"June\", \"shop_id\": 59, \"sum\": 1707.0, \"year\": \"2013\"}, {\"date_block_num\": \"July 2013\", \"month\": \"July\", \"shop_id\": 2, \"sum\": 807.0, \"year\": \"2013\"}, {\"date_block_num\": \"July 2013\", \"month\": \"July\", \"shop_id\": 3, \"sum\": 721.0, \"year\": \"2013\"}, {\"date_block_num\": \"July 2013\", \"month\": \"July\", \"shop_id\": 4, \"sum\": 1378.0, \"year\": \"2013\"}, {\"date_block_num\": \"July 2013\", \"month\": \"July\", \"shop_id\": 5, \"sum\": 1265.0, \"year\": \"2013\"}, {\"date_block_num\": \"July 2013\", \"month\": \"July\", \"shop_id\": 6, \"sum\": 3360.0, \"year\": \"2013\"}, {\"date_block_num\": \"July 2013\", \"month\": \"July\", \"shop_id\": 7, \"sum\": 2031.0, \"year\": \"2013\"}, {\"date_block_num\": \"July 2013\", \"month\": \"July\", \"shop_id\": 10, \"sum\": 800.0, \"year\": \"2013\"}, {\"date_block_num\": \"July 2013\", \"month\": \"July\", \"shop_id\": 12, \"sum\": 723.0, \"year\": \"2013\"}, {\"date_block_num\": \"July 2013\", \"month\": \"July\", \"shop_id\": 13, \"sum\": 1094.0, \"year\": \"2013\"}, {\"date_block_num\": \"July 2013\", \"month\": \"July\", \"shop_id\": 14, \"sum\": 1709.0, \"year\": \"2013\"}, {\"date_block_num\": \"July 2013\", \"month\": \"July\", \"shop_id\": 15, \"sum\": 2599.0, \"year\": \"2013\"}, {\"date_block_num\": \"July 2013\", \"month\": \"July\", \"shop_id\": 16, \"sum\": 2898.0, \"year\": \"2013\"}, {\"date_block_num\": \"July 2013\", \"month\": \"July\", \"shop_id\": 17, \"sum\": 1044.0, \"year\": \"2013\"}, {\"date_block_num\": \"July 2013\", \"month\": \"July\", \"shop_id\": 18, \"sum\": 2676.0, \"year\": \"2013\"}, {\"date_block_num\": \"July 2013\", \"month\": \"July\", \"shop_id\": 19, \"sum\": 2459.0, \"year\": \"2013\"}, {\"date_block_num\": \"July 2013\", \"month\": \"July\", \"shop_id\": 21, \"sum\": 1860.0, \"year\": \"2013\"}, {\"date_block_num\": \"July 2013\", \"month\": \"July\", \"shop_id\": 22, \"sum\": 1903.0, \"year\": \"2013\"}, {\"date_block_num\": \"July 2013\", \"month\": \"July\", \"shop_id\": 24, \"sum\": 2377.0, \"year\": \"2013\"}, {\"date_block_num\": \"July 2013\", \"month\": \"July\", \"shop_id\": 25, \"sum\": 7361.0, \"year\": \"2013\"}, {\"date_block_num\": \"July 2013\", \"month\": \"July\", \"shop_id\": 26, \"sum\": 2163.0, \"year\": \"2013\"}, {\"date_block_num\": \"July 2013\", \"month\": \"July\", \"shop_id\": 27, \"sum\": 4148.0, \"year\": \"2013\"}, {\"date_block_num\": \"July 2013\", \"month\": \"July\", \"shop_id\": 28, \"sum\": 6739.0, \"year\": \"2013\"}, {\"date_block_num\": \"July 2013\", \"month\": \"July\", \"shop_id\": 29, \"sum\": 2205.0, \"year\": \"2013\"}, {\"date_block_num\": \"July 2013\", \"month\": \"July\", \"shop_id\": 30, \"sum\": 2438.0, \"year\": \"2013\"}, {\"date_block_num\": \"July 2013\", \"month\": \"July\", \"shop_id\": 31, \"sum\": 9500.0, \"year\": \"2013\"}, {\"date_block_num\": \"July 2013\", \"month\": \"July\", \"shop_id\": 32, \"sum\": 93.0, \"year\": \"2013\"}, {\"date_block_num\": \"July 2013\", \"month\": \"July\", \"shop_id\": 35, \"sum\": 2041.0, \"year\": \"2013\"}, {\"date_block_num\": \"July 2013\", \"month\": \"July\", \"shop_id\": 37, \"sum\": 1293.0, \"year\": \"2013\"}, {\"date_block_num\": \"July 2013\", \"month\": \"July\", \"shop_id\": 38, \"sum\": 1453.0, \"year\": \"2013\"}, {\"date_block_num\": \"July 2013\", \"month\": \"July\", \"shop_id\": 41, \"sum\": 1997.0, \"year\": \"2013\"}, {\"date_block_num\": \"July 2013\", \"month\": \"July\", \"shop_id\": 42, \"sum\": 3801.0, \"year\": \"2013\"}, {\"date_block_num\": \"July 2013\", \"month\": \"July\", \"shop_id\": 43, \"sum\": 1632.0, \"year\": \"2013\"}, {\"date_block_num\": \"July 2013\", \"month\": \"July\", \"shop_id\": 44, \"sum\": 1487.0, \"year\": \"2013\"}, {\"date_block_num\": \"July 2013\", \"month\": \"July\", \"shop_id\": 45, \"sum\": 1507.0, \"year\": \"2013\"}, {\"date_block_num\": \"July 2013\", \"month\": \"July\", \"shop_id\": 46, \"sum\": 2966.0, \"year\": \"2013\"}, {\"date_block_num\": \"July 2013\", \"month\": \"July\", \"shop_id\": 47, \"sum\": 1329.0, \"year\": \"2013\"}, {\"date_block_num\": \"July 2013\", \"month\": \"July\", \"shop_id\": 50, \"sum\": 3235.0, \"year\": \"2013\"}, {\"date_block_num\": \"July 2013\", \"month\": \"July\", \"shop_id\": 51, \"sum\": 2273.0, \"year\": \"2013\"}, {\"date_block_num\": \"July 2013\", \"month\": \"July\", \"shop_id\": 52, \"sum\": 1616.0, \"year\": \"2013\"}, {\"date_block_num\": \"July 2013\", \"month\": \"July\", \"shop_id\": 53, \"sum\": 1975.0, \"year\": \"2013\"}, {\"date_block_num\": \"July 2013\", \"month\": \"July\", \"shop_id\": 54, \"sum\": 7225.0, \"year\": \"2013\"}, {\"date_block_num\": \"July 2013\", \"month\": \"July\", \"shop_id\": 55, \"sum\": 795.0, \"year\": \"2013\"}, {\"date_block_num\": \"July 2013\", \"month\": \"July\", \"shop_id\": 56, \"sum\": 3294.0, \"year\": \"2013\"}, {\"date_block_num\": \"July 2013\", \"month\": \"July\", \"shop_id\": 57, \"sum\": 5827.0, \"year\": \"2013\"}, {\"date_block_num\": \"July 2013\", \"month\": \"July\", \"shop_id\": 58, \"sum\": 3122.0, \"year\": \"2013\"}, {\"date_block_num\": \"July 2013\", \"month\": \"July\", \"shop_id\": 59, \"sum\": 1747.0, \"year\": \"2013\"}, {\"date_block_num\": \"August 2013\", \"month\": \"August\", \"shop_id\": 2, \"sum\": 875.0, \"year\": \"2013\"}, {\"date_block_num\": \"August 2013\", \"month\": \"August\", \"shop_id\": 3, \"sum\": 890.0, \"year\": \"2013\"}, {\"date_block_num\": \"August 2013\", \"month\": \"August\", \"shop_id\": 4, \"sum\": 1713.0, \"year\": \"2013\"}, {\"date_block_num\": \"August 2013\", \"month\": \"August\", \"shop_id\": 5, \"sum\": 1510.0, \"year\": \"2013\"}, {\"date_block_num\": \"August 2013\", \"month\": \"August\", \"shop_id\": 6, \"sum\": 3702.0, \"year\": \"2013\"}, {\"date_block_num\": \"August 2013\", \"month\": \"August\", \"shop_id\": 7, \"sum\": 2397.0, \"year\": \"2013\"}, {\"date_block_num\": \"August 2013\", \"month\": \"August\", \"shop_id\": 10, \"sum\": 755.0, \"year\": \"2013\"}, {\"date_block_num\": \"August 2013\", \"month\": \"August\", \"shop_id\": 12, \"sum\": 1599.0, \"year\": \"2013\"}, {\"date_block_num\": \"August 2013\", \"month\": \"August\", \"shop_id\": 13, \"sum\": 944.0, \"year\": \"2013\"}, {\"date_block_num\": \"August 2013\", \"month\": \"August\", \"shop_id\": 14, \"sum\": 2216.0, \"year\": \"2013\"}, {\"date_block_num\": \"August 2013\", \"month\": \"August\", \"shop_id\": 15, \"sum\": 2536.0, \"year\": \"2013\"}, {\"date_block_num\": \"August 2013\", \"month\": \"August\", \"shop_id\": 16, \"sum\": 2457.0, \"year\": \"2013\"}, {\"date_block_num\": \"August 2013\", \"month\": \"August\", \"shop_id\": 17, \"sum\": 1306.0, \"year\": \"2013\"}, {\"date_block_num\": \"August 2013\", \"month\": \"August\", \"shop_id\": 18, \"sum\": 1778.0, \"year\": \"2013\"}, {\"date_block_num\": \"August 2013\", \"month\": \"August\", \"shop_id\": 19, \"sum\": 2675.0, \"year\": \"2013\"}, {\"date_block_num\": \"August 2013\", \"month\": \"August\", \"shop_id\": 21, \"sum\": 2061.0, \"year\": \"2013\"}, {\"date_block_num\": \"August 2013\", \"month\": \"August\", \"shop_id\": 22, \"sum\": 2017.0, \"year\": \"2013\"}, {\"date_block_num\": \"August 2013\", \"month\": \"August\", \"shop_id\": 24, \"sum\": 2304.0, \"year\": \"2013\"}, {\"date_block_num\": \"August 2013\", \"month\": \"August\", \"shop_id\": 25, \"sum\": 7784.0, \"year\": \"2013\"}, {\"date_block_num\": \"August 2013\", \"month\": \"August\", \"shop_id\": 26, \"sum\": 2452.0, \"year\": \"2013\"}, {\"date_block_num\": \"August 2013\", \"month\": \"August\", \"shop_id\": 27, \"sum\": 4925.0, \"year\": \"2013\"}, {\"date_block_num\": \"August 2013\", \"month\": \"August\", \"shop_id\": 28, \"sum\": 7521.0, \"year\": \"2013\"}, {\"date_block_num\": \"August 2013\", \"month\": \"August\", \"shop_id\": 29, \"sum\": 2073.0, \"year\": \"2013\"}, {\"date_block_num\": \"August 2013\", \"month\": \"August\", \"shop_id\": 30, \"sum\": 2799.0, \"year\": \"2013\"}, {\"date_block_num\": \"August 2013\", \"month\": \"August\", \"shop_id\": 31, \"sum\": 9882.0, \"year\": \"2013\"}, {\"date_block_num\": \"August 2013\", \"month\": \"August\", \"shop_id\": 35, \"sum\": 2391.0, \"year\": \"2013\"}, {\"date_block_num\": \"August 2013\", \"month\": \"August\", \"shop_id\": 37, \"sum\": 1472.0, \"year\": \"2013\"}, {\"date_block_num\": \"August 2013\", \"month\": \"August\", \"shop_id\": 38, \"sum\": 1895.0, \"year\": \"2013\"}, {\"date_block_num\": \"August 2013\", \"month\": \"August\", \"shop_id\": 41, \"sum\": 2149.0, \"year\": \"2013\"}, {\"date_block_num\": \"August 2013\", \"month\": \"August\", \"shop_id\": 42, \"sum\": 4035.0, \"year\": \"2013\"}, {\"date_block_num\": \"August 2013\", \"month\": \"August\", \"shop_id\": 43, \"sum\": 1849.0, \"year\": \"2013\"}, {\"date_block_num\": \"August 2013\", \"month\": \"August\", \"shop_id\": 44, \"sum\": 1610.0, \"year\": \"2013\"}, {\"date_block_num\": \"August 2013\", \"month\": \"August\", \"shop_id\": 45, \"sum\": 1649.0, \"year\": \"2013\"}, {\"date_block_num\": \"August 2013\", \"month\": \"August\", \"shop_id\": 46, \"sum\": 3315.0, \"year\": \"2013\"}, {\"date_block_num\": \"August 2013\", \"month\": \"August\", \"shop_id\": 47, \"sum\": 1610.0, \"year\": \"2013\"}, {\"date_block_num\": \"August 2013\", \"month\": \"August\", \"shop_id\": 50, \"sum\": 3718.0, \"year\": \"2013\"}, {\"date_block_num\": \"August 2013\", \"month\": \"August\", \"shop_id\": 51, \"sum\": 2142.0, \"year\": \"2013\"}, {\"date_block_num\": \"August 2013\", \"month\": \"August\", \"shop_id\": 52, \"sum\": 1772.0, \"year\": \"2013\"}, {\"date_block_num\": \"August 2013\", \"month\": \"August\", \"shop_id\": 53, \"sum\": 2367.0, \"year\": \"2013\"}, {\"date_block_num\": \"August 2013\", \"month\": \"August\", \"shop_id\": 54, \"sum\": 7792.0, \"year\": \"2013\"}, {\"date_block_num\": \"August 2013\", \"month\": \"August\", \"shop_id\": 55, \"sum\": 719.0, \"year\": \"2013\"}, {\"date_block_num\": \"August 2013\", \"month\": \"August\", \"shop_id\": 56, \"sum\": 3311.0, \"year\": \"2013\"}, {\"date_block_num\": \"August 2013\", \"month\": \"August\", \"shop_id\": 57, \"sum\": 5413.0, \"year\": \"2013\"}, {\"date_block_num\": \"August 2013\", \"month\": \"August\", \"shop_id\": 58, \"sum\": 2863.0, \"year\": \"2013\"}, {\"date_block_num\": \"August 2013\", \"month\": \"August\", \"shop_id\": 59, \"sum\": 2048.0, \"year\": \"2013\"}, {\"date_block_num\": \"September 2013\", \"month\": \"September\", \"shop_id\": 2, \"sum\": 945.0, \"year\": \"2013\"}, {\"date_block_num\": \"September 2013\", \"month\": \"September\", \"shop_id\": 3, \"sum\": 1026.0, \"year\": \"2013\"}, {\"date_block_num\": \"September 2013\", \"month\": \"September\", \"shop_id\": 4, \"sum\": 1536.0, \"year\": \"2013\"}, {\"date_block_num\": \"September 2013\", \"month\": \"September\", \"shop_id\": 5, \"sum\": 1298.0, \"year\": \"2013\"}, {\"date_block_num\": \"September 2013\", \"month\": \"September\", \"shop_id\": 6, \"sum\": 4208.0, \"year\": \"2013\"}, {\"date_block_num\": \"September 2013\", \"month\": \"September\", \"shop_id\": 7, \"sum\": 2599.0, \"year\": \"2013\"}, {\"date_block_num\": \"September 2013\", \"month\": \"September\", \"shop_id\": 10, \"sum\": 1027.0, \"year\": \"2013\"}, {\"date_block_num\": \"September 2013\", \"month\": \"September\", \"shop_id\": 12, \"sum\": 2032.0, \"year\": \"2013\"}, {\"date_block_num\": \"September 2013\", \"month\": \"September\", \"shop_id\": 13, \"sum\": 1153.0, \"year\": \"2013\"}, {\"date_block_num\": \"September 2013\", \"month\": \"September\", \"shop_id\": 14, \"sum\": 796.0, \"year\": \"2013\"}, {\"date_block_num\": \"September 2013\", \"month\": \"September\", \"shop_id\": 15, \"sum\": 2790.0, \"year\": \"2013\"}, {\"date_block_num\": \"September 2013\", \"month\": \"September\", \"shop_id\": 16, \"sum\": 1924.0, \"year\": \"2013\"}, {\"date_block_num\": \"September 2013\", \"month\": \"September\", \"shop_id\": 17, \"sum\": 1459.0, \"year\": \"2013\"}, {\"date_block_num\": \"September 2013\", \"month\": \"September\", \"shop_id\": 18, \"sum\": 2774.0, \"year\": \"2013\"}, {\"date_block_num\": \"September 2013\", \"month\": \"September\", \"shop_id\": 19, \"sum\": 2801.0, \"year\": \"2013\"}, {\"date_block_num\": \"September 2013\", \"month\": \"September\", \"shop_id\": 21, \"sum\": 2486.0, \"year\": \"2013\"}, {\"date_block_num\": \"September 2013\", \"month\": \"September\", \"shop_id\": 22, \"sum\": 2518.0, \"year\": \"2013\"}, {\"date_block_num\": \"September 2013\", \"month\": \"September\", \"shop_id\": 24, \"sum\": 3072.0, \"year\": \"2013\"}, {\"date_block_num\": \"September 2013\", \"month\": \"September\", \"shop_id\": 25, \"sum\": 9251.0, \"year\": \"2013\"}, {\"date_block_num\": \"September 2013\", \"month\": \"September\", \"shop_id\": 26, \"sum\": 3206.0, \"year\": \"2013\"}, {\"date_block_num\": \"September 2013\", \"month\": \"September\", \"shop_id\": 27, \"sum\": 4981.0, \"year\": \"2013\"}, {\"date_block_num\": \"September 2013\", \"month\": \"September\", \"shop_id\": 28, \"sum\": 6753.0, \"year\": \"2013\"}, {\"date_block_num\": \"September 2013\", \"month\": \"September\", \"shop_id\": 29, \"sum\": 2832.0, \"year\": \"2013\"}, {\"date_block_num\": \"September 2013\", \"month\": \"September\", \"shop_id\": 30, \"sum\": 3023.0, \"year\": \"2013\"}, {\"date_block_num\": \"September 2013\", \"month\": \"September\", \"shop_id\": 31, \"sum\": 11204.0, \"year\": \"2013\"}, {\"date_block_num\": \"September 2013\", \"month\": \"September\", \"shop_id\": 35, \"sum\": 2473.0, \"year\": \"2013\"}, {\"date_block_num\": \"September 2013\", \"month\": \"September\", \"shop_id\": 37, \"sum\": 1666.0, \"year\": \"2013\"}, {\"date_block_num\": \"September 2013\", \"month\": \"September\", \"shop_id\": 38, \"sum\": 1666.0, \"year\": \"2013\"}, {\"date_block_num\": \"September 2013\", \"month\": \"September\", \"shop_id\": 41, \"sum\": 2146.0, \"year\": \"2013\"}, {\"date_block_num\": \"September 2013\", \"month\": \"September\", \"shop_id\": 42, \"sum\": 5093.0, \"year\": \"2013\"}, {\"date_block_num\": \"September 2013\", \"month\": \"September\", \"shop_id\": 43, \"sum\": 2768.0, \"year\": \"2013\"}, {\"date_block_num\": \"September 2013\", \"month\": \"September\", \"shop_id\": 44, \"sum\": 1849.0, \"year\": \"2013\"}, {\"date_block_num\": \"September 2013\", \"month\": \"September\", \"shop_id\": 45, \"sum\": 1725.0, \"year\": \"2013\"}, {\"date_block_num\": \"September 2013\", \"month\": \"September\", \"shop_id\": 46, \"sum\": 2963.0, \"year\": \"2013\"}, {\"date_block_num\": \"September 2013\", \"month\": \"September\", \"shop_id\": 47, \"sum\": 1742.0, \"year\": \"2013\"}, {\"date_block_num\": \"September 2013\", \"month\": \"September\", \"shop_id\": 50, \"sum\": 3655.0, \"year\": \"2013\"}, {\"date_block_num\": \"September 2013\", \"month\": \"September\", \"shop_id\": 51, \"sum\": 1903.0, \"year\": \"2013\"}, {\"date_block_num\": \"September 2013\", \"month\": \"September\", \"shop_id\": 52, \"sum\": 2125.0, \"year\": \"2013\"}, {\"date_block_num\": \"September 2013\", \"month\": \"September\", \"shop_id\": 53, \"sum\": 2440.0, \"year\": \"2013\"}, {\"date_block_num\": \"September 2013\", \"month\": \"September\", \"shop_id\": 54, \"sum\": 7827.0, \"year\": \"2013\"}, {\"date_block_num\": \"September 2013\", \"month\": \"September\", \"shop_id\": 55, \"sum\": 812.0, \"year\": \"2013\"}, {\"date_block_num\": \"September 2013\", \"month\": \"September\", \"shop_id\": 56, \"sum\": 2829.0, \"year\": \"2013\"}, {\"date_block_num\": \"September 2013\", \"month\": \"September\", \"shop_id\": 57, \"sum\": 5213.0, \"year\": \"2013\"}, {\"date_block_num\": \"September 2013\", \"month\": \"September\", \"shop_id\": 58, \"sum\": 2735.0, \"year\": \"2013\"}, {\"date_block_num\": \"September 2013\", \"month\": \"September\", \"shop_id\": 59, \"sum\": 2008.0, \"year\": \"2013\"}, {\"date_block_num\": \"October 2013\", \"month\": \"October\", \"shop_id\": 2, \"sum\": 795.0, \"year\": \"2013\"}, {\"date_block_num\": \"October 2013\", \"month\": \"October\", \"shop_id\": 3, \"sum\": 793.0, \"year\": \"2013\"}, {\"date_block_num\": \"October 2013\", \"month\": \"October\", \"shop_id\": 4, \"sum\": 1482.0, \"year\": \"2013\"}, {\"date_block_num\": \"October 2013\", \"month\": \"October\", \"shop_id\": 5, \"sum\": 1267.0, \"year\": \"2013\"}, {\"date_block_num\": \"October 2013\", \"month\": \"October\", \"shop_id\": 6, \"sum\": 3675.0, \"year\": \"2013\"}, {\"date_block_num\": \"October 2013\", \"month\": \"October\", \"shop_id\": 7, \"sum\": 2236.0, \"year\": \"2013\"}, {\"date_block_num\": \"October 2013\", \"month\": \"October\", \"shop_id\": 9, \"sum\": 6526.0, \"year\": \"2013\"}, {\"date_block_num\": \"October 2013\", \"month\": \"October\", \"shop_id\": 10, \"sum\": 1013.0, \"year\": \"2013\"}, {\"date_block_num\": \"October 2013\", \"month\": \"October\", \"shop_id\": 12, \"sum\": 1890.0, \"year\": \"2013\"}, {\"date_block_num\": \"October 2013\", \"month\": \"October\", \"shop_id\": 13, \"sum\": 1096.0, \"year\": \"2013\"}, {\"date_block_num\": \"October 2013\", \"month\": \"October\", \"shop_id\": 14, \"sum\": 1534.0, \"year\": \"2013\"}, {\"date_block_num\": \"October 2013\", \"month\": \"October\", \"shop_id\": 15, \"sum\": 2612.0, \"year\": \"2013\"}, {\"date_block_num\": \"October 2013\", \"month\": \"October\", \"shop_id\": 16, \"sum\": 1800.0, \"year\": \"2013\"}, {\"date_block_num\": \"October 2013\", \"month\": \"October\", \"shop_id\": 17, \"sum\": 1392.0, \"year\": \"2013\"}, {\"date_block_num\": \"October 2013\", \"month\": \"October\", \"shop_id\": 18, \"sum\": 2145.0, \"year\": \"2013\"}, {\"date_block_num\": \"October 2013\", \"month\": \"October\", \"shop_id\": 19, \"sum\": 2499.0, \"year\": \"2013\"}, {\"date_block_num\": \"October 2013\", \"month\": \"October\", \"shop_id\": 21, \"sum\": 2015.0, \"year\": \"2013\"}, {\"date_block_num\": \"October 2013\", \"month\": \"October\", \"shop_id\": 22, \"sum\": 2364.0, \"year\": \"2013\"}, {\"date_block_num\": \"October 2013\", \"month\": \"October\", \"shop_id\": 24, \"sum\": 2654.0, \"year\": \"2013\"}, {\"date_block_num\": \"October 2013\", \"month\": \"October\", \"shop_id\": 25, \"sum\": 8356.0, \"year\": \"2013\"}, {\"date_block_num\": \"October 2013\", \"month\": \"October\", \"shop_id\": 26, \"sum\": 2441.0, \"year\": \"2013\"}, {\"date_block_num\": \"October 2013\", \"month\": \"October\", \"shop_id\": 27, \"sum\": 4297.0, \"year\": \"2013\"}, {\"date_block_num\": \"October 2013\", \"month\": \"October\", \"shop_id\": 28, \"sum\": 5609.0, \"year\": \"2013\"}, {\"date_block_num\": \"October 2013\", \"month\": \"October\", \"shop_id\": 29, \"sum\": 2151.0, \"year\": \"2013\"}, {\"date_block_num\": \"October 2013\", \"month\": \"October\", \"shop_id\": 30, \"sum\": 2888.0, \"year\": \"2013\"}, {\"date_block_num\": \"October 2013\", \"month\": \"October\", \"shop_id\": 31, \"sum\": 10754.0, \"year\": \"2013\"}, {\"date_block_num\": \"October 2013\", \"month\": \"October\", \"shop_id\": 35, \"sum\": 2083.0, \"year\": \"2013\"}, {\"date_block_num\": \"October 2013\", \"month\": \"October\", \"shop_id\": 37, \"sum\": 1169.0, \"year\": \"2013\"}, {\"date_block_num\": \"October 2013\", \"month\": \"October\", \"shop_id\": 38, \"sum\": 1519.0, \"year\": \"2013\"}, {\"date_block_num\": \"October 2013\", \"month\": \"October\", \"shop_id\": 41, \"sum\": 2061.0, \"year\": \"2013\"}, {\"date_block_num\": \"October 2013\", \"month\": \"October\", \"shop_id\": 42, \"sum\": 4464.0, \"year\": \"2013\"}, {\"date_block_num\": \"October 2013\", \"month\": \"October\", \"shop_id\": 43, \"sum\": 2279.0, \"year\": \"2013\"}, {\"date_block_num\": \"October 2013\", \"month\": \"October\", \"shop_id\": 44, \"sum\": 1678.0, \"year\": \"2013\"}, {\"date_block_num\": \"October 2013\", \"month\": \"October\", \"shop_id\": 45, \"sum\": 1593.0, \"year\": \"2013\"}, {\"date_block_num\": \"October 2013\", \"month\": \"October\", \"shop_id\": 46, \"sum\": 2794.0, \"year\": \"2013\"}, {\"date_block_num\": \"October 2013\", \"month\": \"October\", \"shop_id\": 47, \"sum\": 1647.0, \"year\": \"2013\"}, {\"date_block_num\": \"October 2013\", \"month\": \"October\", \"shop_id\": 50, \"sum\": 3525.0, \"year\": \"2013\"}, {\"date_block_num\": \"October 2013\", \"month\": \"October\", \"shop_id\": 51, \"sum\": 1809.0, \"year\": \"2013\"}, {\"date_block_num\": \"October 2013\", \"month\": \"October\", \"shop_id\": 52, \"sum\": 1965.0, \"year\": \"2013\"}, {\"date_block_num\": \"October 2013\", \"month\": \"October\", \"shop_id\": 53, \"sum\": 2245.0, \"year\": \"2013\"}, {\"date_block_num\": \"October 2013\", \"month\": \"October\", \"shop_id\": 54, \"sum\": 6676.0, \"year\": \"2013\"}, {\"date_block_num\": \"October 2013\", \"month\": \"October\", \"shop_id\": 55, \"sum\": 916.0, \"year\": \"2013\"}, {\"date_block_num\": \"October 2013\", \"month\": \"October\", \"shop_id\": 56, \"sum\": 2375.0, \"year\": \"2013\"}, {\"date_block_num\": \"October 2013\", \"month\": \"October\", \"shop_id\": 57, \"sum\": 5686.0, \"year\": \"2013\"}, {\"date_block_num\": \"October 2013\", \"month\": \"October\", \"shop_id\": 58, \"sum\": 3022.0, \"year\": \"2013\"}, {\"date_block_num\": \"October 2013\", \"month\": \"October\", \"shop_id\": 59, \"sum\": 1751.0, \"year\": \"2013\"}, {\"date_block_num\": \"November 2013\", \"month\": \"November\", \"shop_id\": 2, \"sum\": 862.0, \"year\": \"2013\"}, {\"date_block_num\": \"November 2013\", \"month\": \"November\", \"shop_id\": 3, \"sum\": 970.0, \"year\": \"2013\"}, {\"date_block_num\": \"November 2013\", \"month\": \"November\", \"shop_id\": 4, \"sum\": 1486.0, \"year\": \"2013\"}, {\"date_block_num\": \"November 2013\", \"month\": \"November\", \"shop_id\": 5, \"sum\": 1390.0, \"year\": \"2013\"}, {\"date_block_num\": \"November 2013\", \"month\": \"November\", \"shop_id\": 6, \"sum\": 3938.0, \"year\": \"2013\"}, {\"date_block_num\": \"November 2013\", \"month\": \"November\", \"shop_id\": 7, \"sum\": 2452.0, \"year\": \"2013\"}, {\"date_block_num\": \"November 2013\", \"month\": \"November\", \"shop_id\": 10, \"sum\": 1016.0, \"year\": \"2013\"}, {\"date_block_num\": \"November 2013\", \"month\": \"November\", \"shop_id\": 12, \"sum\": 2875.0, \"year\": \"2013\"}, {\"date_block_num\": \"November 2013\", \"month\": \"November\", \"shop_id\": 13, \"sum\": 1052.0, \"year\": \"2013\"}, {\"date_block_num\": \"November 2013\", \"month\": \"November\", \"shop_id\": 14, \"sum\": 1810.0, \"year\": \"2013\"}, {\"date_block_num\": \"November 2013\", \"month\": \"November\", \"shop_id\": 15, \"sum\": 2732.0, \"year\": \"2013\"}, {\"date_block_num\": \"November 2013\", \"month\": \"November\", \"shop_id\": 16, \"sum\": 2071.0, \"year\": \"2013\"}, {\"date_block_num\": \"November 2013\", \"month\": \"November\", \"shop_id\": 17, \"sum\": 1392.0, \"year\": \"2013\"}, {\"date_block_num\": \"November 2013\", \"month\": \"November\", \"shop_id\": 18, \"sum\": 2450.0, \"year\": \"2013\"}, {\"date_block_num\": \"November 2013\", \"month\": \"November\", \"shop_id\": 19, \"sum\": 2648.0, \"year\": \"2013\"}, {\"date_block_num\": \"November 2013\", \"month\": \"November\", \"shop_id\": 21, \"sum\": 2174.0, \"year\": \"2013\"}, {\"date_block_num\": \"November 2013\", \"month\": \"November\", \"shop_id\": 22, \"sum\": 2224.0, \"year\": \"2013\"}, {\"date_block_num\": \"November 2013\", \"month\": \"November\", \"shop_id\": 24, \"sum\": 2643.0, \"year\": \"2013\"}, {\"date_block_num\": \"November 2013\", \"month\": \"November\", \"shop_id\": 25, \"sum\": 8632.0, \"year\": \"2013\"}, {\"date_block_num\": \"November 2013\", \"month\": \"November\", \"shop_id\": 26, \"sum\": 2409.0, \"year\": \"2013\"}, {\"date_block_num\": \"November 2013\", \"month\": \"November\", \"shop_id\": 27, \"sum\": 4805.0, \"year\": \"2013\"}, {\"date_block_num\": \"November 2013\", \"month\": \"November\", \"shop_id\": 28, \"sum\": 6454.0, \"year\": \"2013\"}, {\"date_block_num\": \"November 2013\", \"month\": \"November\", \"shop_id\": 29, \"sum\": 2421.0, \"year\": \"2013\"}, {\"date_block_num\": \"November 2013\", \"month\": \"November\", \"shop_id\": 30, \"sum\": 2599.0, \"year\": \"2013\"}, {\"date_block_num\": \"November 2013\", \"month\": \"November\", \"shop_id\": 31, \"sum\": 11710.0, \"year\": \"2013\"}, {\"date_block_num\": \"November 2013\", \"month\": \"November\", \"shop_id\": 35, \"sum\": 2435.0, \"year\": \"2013\"}, {\"date_block_num\": \"November 2013\", \"month\": \"November\", \"shop_id\": 37, \"sum\": 1308.0, \"year\": \"2013\"}, {\"date_block_num\": \"November 2013\", \"month\": \"November\", \"shop_id\": 38, \"sum\": 1689.0, \"year\": \"2013\"}, {\"date_block_num\": \"November 2013\", \"month\": \"November\", \"shop_id\": 41, \"sum\": 2319.0, \"year\": \"2013\"}, {\"date_block_num\": \"November 2013\", \"month\": \"November\", \"shop_id\": 42, \"sum\": 4521.0, \"year\": \"2013\"}, {\"date_block_num\": \"November 2013\", \"month\": \"November\", \"shop_id\": 43, \"sum\": 2331.0, \"year\": \"2013\"}, {\"date_block_num\": \"November 2013\", \"month\": \"November\", \"shop_id\": 44, \"sum\": 1811.0, \"year\": \"2013\"}, {\"date_block_num\": \"November 2013\", \"month\": \"November\", \"shop_id\": 45, \"sum\": 1625.0, \"year\": \"2013\"}, {\"date_block_num\": \"November 2013\", \"month\": \"November\", \"shop_id\": 46, \"sum\": 3052.0, \"year\": \"2013\"}, {\"date_block_num\": \"November 2013\", \"month\": \"November\", \"shop_id\": 47, \"sum\": 2092.0, \"year\": \"2013\"}, {\"date_block_num\": \"November 2013\", \"month\": \"November\", \"shop_id\": 50, \"sum\": 3554.0, \"year\": \"2013\"}, {\"date_block_num\": \"November 2013\", \"month\": \"November\", \"shop_id\": 51, \"sum\": 1783.0, \"year\": \"2013\"}, {\"date_block_num\": \"November 2013\", \"month\": \"November\", \"shop_id\": 52, \"sum\": 1897.0, \"year\": \"2013\"}, {\"date_block_num\": \"November 2013\", \"month\": \"November\", \"shop_id\": 53, \"sum\": 2192.0, \"year\": \"2013\"}, {\"date_block_num\": \"November 2013\", \"month\": \"November\", \"shop_id\": 54, \"sum\": 7978.0, \"year\": \"2013\"}, {\"date_block_num\": \"November 2013\", \"month\": \"November\", \"shop_id\": 55, \"sum\": 1228.0, \"year\": \"2013\"}, {\"date_block_num\": \"November 2013\", \"month\": \"November\", \"shop_id\": 56, \"sum\": 2837.0, \"year\": \"2013\"}, {\"date_block_num\": \"November 2013\", \"month\": \"November\", \"shop_id\": 57, \"sum\": 5242.0, \"year\": \"2013\"}, {\"date_block_num\": \"November 2013\", \"month\": \"November\", \"shop_id\": 58, \"sum\": 2947.0, \"year\": \"2013\"}, {\"date_block_num\": \"November 2013\", \"month\": \"November\", \"shop_id\": 59, \"sum\": 1953.0, \"year\": \"2013\"}, {\"date_block_num\": \"December 2013\", \"month\": \"December\", \"shop_id\": 2, \"sum\": 1322.0, \"year\": \"2013\"}, {\"date_block_num\": \"December 2013\", \"month\": \"December\", \"shop_id\": 3, \"sum\": 1134.0, \"year\": \"2013\"}, {\"date_block_num\": \"December 2013\", \"month\": \"December\", \"shop_id\": 4, \"sum\": 2248.0, \"year\": \"2013\"}, {\"date_block_num\": \"December 2013\", \"month\": \"December\", \"shop_id\": 5, \"sum\": 2223.0, \"year\": \"2013\"}, {\"date_block_num\": \"December 2013\", \"month\": \"December\", \"shop_id\": 6, \"sum\": 5467.0, \"year\": \"2013\"}, {\"date_block_num\": \"December 2013\", \"month\": \"December\", \"shop_id\": 7, \"sum\": 3731.0, \"year\": \"2013\"}, {\"date_block_num\": \"December 2013\", \"month\": \"December\", \"shop_id\": 10, \"sum\": 1340.0, \"year\": \"2013\"}, {\"date_block_num\": \"December 2013\", \"month\": \"December\", \"shop_id\": 12, \"sum\": 2621.0, \"year\": \"2013\"}, {\"date_block_num\": \"December 2013\", \"month\": \"December\", \"shop_id\": 13, \"sum\": 1251.0, \"year\": \"2013\"}, {\"date_block_num\": \"December 2013\", \"month\": \"December\", \"shop_id\": 14, \"sum\": 1952.0, \"year\": \"2013\"}, {\"date_block_num\": \"December 2013\", \"month\": \"December\", \"shop_id\": 15, \"sum\": 4186.0, \"year\": \"2013\"}, {\"date_block_num\": \"December 2013\", \"month\": \"December\", \"shop_id\": 16, \"sum\": 2887.0, \"year\": \"2013\"}, {\"date_block_num\": \"December 2013\", \"month\": \"December\", \"shop_id\": 17, \"sum\": 2396.0, \"year\": \"2013\"}, {\"date_block_num\": \"December 2013\", \"month\": \"December\", \"shop_id\": 18, \"sum\": 3500.0, \"year\": \"2013\"}, {\"date_block_num\": \"December 2013\", \"month\": \"December\", \"shop_id\": 19, \"sum\": 3760.0, \"year\": \"2013\"}, {\"date_block_num\": \"December 2013\", \"month\": \"December\", \"shop_id\": 21, \"sum\": 3623.0, \"year\": \"2013\"}, {\"date_block_num\": \"December 2013\", \"month\": \"December\", \"shop_id\": 22, \"sum\": 2618.0, \"year\": \"2013\"}, {\"date_block_num\": \"December 2013\", \"month\": \"December\", \"shop_id\": 24, \"sum\": 3971.0, \"year\": \"2013\"}, {\"date_block_num\": \"December 2013\", \"month\": \"December\", \"shop_id\": 25, \"sum\": 12102.0, \"year\": \"2013\"}, {\"date_block_num\": \"December 2013\", \"month\": \"December\", \"shop_id\": 26, \"sum\": 3391.0, \"year\": \"2013\"}, {\"date_block_num\": \"December 2013\", \"month\": \"December\", \"shop_id\": 27, \"sum\": 7983.0, \"year\": \"2013\"}, {\"date_block_num\": \"December 2013\", \"month\": \"December\", \"shop_id\": 28, \"sum\": 8499.0, \"year\": \"2013\"}, {\"date_block_num\": \"December 2013\", \"month\": \"December\", \"shop_id\": 29, \"sum\": 3057.0, \"year\": \"2013\"}, {\"date_block_num\": \"December 2013\", \"month\": \"December\", \"shop_id\": 30, \"sum\": 3566.0, \"year\": \"2013\"}, {\"date_block_num\": \"December 2013\", \"month\": \"December\", \"shop_id\": 31, \"sum\": 16318.0, \"year\": \"2013\"}, {\"date_block_num\": \"December 2013\", \"month\": \"December\", \"shop_id\": 35, \"sum\": 3571.0, \"year\": \"2013\"}, {\"date_block_num\": \"December 2013\", \"month\": \"December\", \"shop_id\": 37, \"sum\": 1693.0, \"year\": \"2013\"}, {\"date_block_num\": \"December 2013\", \"month\": \"December\", \"shop_id\": 38, \"sum\": 2732.0, \"year\": \"2013\"}, {\"date_block_num\": \"December 2013\", \"month\": \"December\", \"shop_id\": 41, \"sum\": 3184.0, \"year\": \"2013\"}, {\"date_block_num\": \"December 2013\", \"month\": \"December\", \"shop_id\": 42, \"sum\": 6988.0, \"year\": \"2013\"}, {\"date_block_num\": \"December 2013\", \"month\": \"December\", \"shop_id\": 43, \"sum\": 3480.0, \"year\": \"2013\"}, {\"date_block_num\": \"December 2013\", \"month\": \"December\", \"shop_id\": 44, \"sum\": 2256.0, \"year\": \"2013\"}, {\"date_block_num\": \"December 2013\", \"month\": \"December\", \"shop_id\": 45, \"sum\": 2091.0, \"year\": \"2013\"}, {\"date_block_num\": \"December 2013\", \"month\": \"December\", \"shop_id\": 46, \"sum\": 4094.0, \"year\": \"2013\"}, {\"date_block_num\": \"December 2013\", \"month\": \"December\", \"shop_id\": 47, \"sum\": 3037.0, \"year\": \"2013\"}, {\"date_block_num\": \"December 2013\", \"month\": \"December\", \"shop_id\": 49, \"sum\": 197.0, \"year\": \"2013\"}, {\"date_block_num\": \"December 2013\", \"month\": \"December\", \"shop_id\": 50, \"sum\": 4762.0, \"year\": \"2013\"}, {\"date_block_num\": \"December 2013\", \"month\": \"December\", \"shop_id\": 51, \"sum\": 2242.0, \"year\": \"2013\"}, {\"date_block_num\": \"December 2013\", \"month\": \"December\", \"shop_id\": 52, \"sum\": 2384.0, \"year\": \"2013\"}, {\"date_block_num\": \"December 2013\", \"month\": \"December\", \"shop_id\": 53, \"sum\": 3028.0, \"year\": \"2013\"}, {\"date_block_num\": \"December 2013\", \"month\": \"December\", \"shop_id\": 54, \"sum\": 10055.0, \"year\": \"2013\"}, {\"date_block_num\": \"December 2013\", \"month\": \"December\", \"shop_id\": 55, \"sum\": 1383.0, \"year\": \"2013\"}, {\"date_block_num\": \"December 2013\", \"month\": \"December\", \"shop_id\": 56, \"sum\": 3547.0, \"year\": \"2013\"}, {\"date_block_num\": \"December 2013\", \"month\": \"December\", \"shop_id\": 57, \"sum\": 9483.0, \"year\": \"2013\"}, {\"date_block_num\": \"December 2013\", \"month\": \"December\", \"shop_id\": 58, \"sum\": 5599.0, \"year\": \"2013\"}, {\"date_block_num\": \"December 2013\", \"month\": \"December\", \"shop_id\": 59, \"sum\": 2390.0, \"year\": \"2013\"}, {\"date_block_num\": \"January 2014\", \"month\": \"January\", \"shop_id\": 2, \"sum\": 890.0, \"year\": \"2014\"}, {\"date_block_num\": \"January 2014\", \"month\": \"January\", \"shop_id\": 3, \"sum\": 968.0, \"year\": \"2014\"}, {\"date_block_num\": \"January 2014\", \"month\": \"January\", \"shop_id\": 4, \"sum\": 1430.0, \"year\": \"2014\"}, {\"date_block_num\": \"January 2014\", \"month\": \"January\", \"shop_id\": 5, \"sum\": 1639.0, \"year\": \"2014\"}, {\"date_block_num\": \"January 2014\", \"month\": \"January\", \"shop_id\": 6, \"sum\": 3024.0, \"year\": \"2014\"}, {\"date_block_num\": \"January 2014\", \"month\": \"January\", \"shop_id\": 7, \"sum\": 2349.0, \"year\": \"2014\"}, {\"date_block_num\": \"January 2014\", \"month\": \"January\", \"shop_id\": 10, \"sum\": 784.0, \"year\": \"2014\"}, {\"date_block_num\": \"January 2014\", \"month\": \"January\", \"shop_id\": 12, \"sum\": 1103.0, \"year\": \"2014\"}, {\"date_block_num\": \"January 2014\", \"month\": \"January\", \"shop_id\": 13, \"sum\": 960.0, \"year\": \"2014\"}, {\"date_block_num\": \"January 2014\", \"month\": \"January\", \"shop_id\": 14, \"sum\": 1432.0, \"year\": \"2014\"}, {\"date_block_num\": \"January 2014\", \"month\": \"January\", \"shop_id\": 15, \"sum\": 2460.0, \"year\": \"2014\"}, {\"date_block_num\": \"January 2014\", \"month\": \"January\", \"shop_id\": 16, \"sum\": 1913.0, \"year\": \"2014\"}, {\"date_block_num\": \"January 2014\", \"month\": \"January\", \"shop_id\": 17, \"sum\": 1436.0, \"year\": \"2014\"}, {\"date_block_num\": \"January 2014\", \"month\": \"January\", \"shop_id\": 18, \"sum\": 2002.0, \"year\": \"2014\"}, {\"date_block_num\": \"January 2014\", \"month\": \"January\", \"shop_id\": 19, \"sum\": 2596.0, \"year\": \"2014\"}, {\"date_block_num\": \"January 2014\", \"month\": \"January\", \"shop_id\": 21, \"sum\": 1844.0, \"year\": \"2014\"}, {\"date_block_num\": \"January 2014\", \"month\": \"January\", \"shop_id\": 22, \"sum\": 1522.0, \"year\": \"2014\"}, {\"date_block_num\": \"January 2014\", \"month\": \"January\", \"shop_id\": 24, \"sum\": 2463.0, \"year\": \"2014\"}, {\"date_block_num\": \"January 2014\", \"month\": \"January\", \"shop_id\": 25, \"sum\": 6835.0, \"year\": \"2014\"}, {\"date_block_num\": \"January 2014\", \"month\": \"January\", \"shop_id\": 26, \"sum\": 1929.0, \"year\": \"2014\"}, {\"date_block_num\": \"January 2014\", \"month\": \"January\", \"shop_id\": 27, \"sum\": 5451.0, \"year\": \"2014\"}, {\"date_block_num\": \"January 2014\", \"month\": \"January\", \"shop_id\": 28, \"sum\": 6949.0, \"year\": \"2014\"}, {\"date_block_num\": \"January 2014\", \"month\": \"January\", \"shop_id\": 29, \"sum\": 1981.0, \"year\": \"2014\"}, {\"date_block_num\": \"January 2014\", \"month\": \"January\", \"shop_id\": 30, \"sum\": 2383.0, \"year\": \"2014\"}, {\"date_block_num\": \"January 2014\", \"month\": \"January\", \"shop_id\": 31, \"sum\": 10017.0, \"year\": \"2014\"}, {\"date_block_num\": \"January 2014\", \"month\": \"January\", \"shop_id\": 35, \"sum\": 1970.0, \"year\": \"2014\"}, {\"date_block_num\": \"January 2014\", \"month\": \"January\", \"shop_id\": 37, \"sum\": 1125.0, \"year\": \"2014\"}, {\"date_block_num\": \"January 2014\", \"month\": \"January\", \"shop_id\": 38, \"sum\": 1350.0, \"year\": \"2014\"}, {\"date_block_num\": \"January 2014\", \"month\": \"January\", \"shop_id\": 41, \"sum\": 2055.0, \"year\": \"2014\"}, {\"date_block_num\": \"January 2014\", \"month\": \"January\", \"shop_id\": 42, \"sum\": 3994.0, \"year\": \"2014\"}, {\"date_block_num\": \"January 2014\", \"month\": \"January\", \"shop_id\": 43, \"sum\": 1625.0, \"year\": \"2014\"}, {\"date_block_num\": \"January 2014\", \"month\": \"January\", \"shop_id\": 44, \"sum\": 1536.0, \"year\": \"2014\"}, {\"date_block_num\": \"January 2014\", \"month\": \"January\", \"shop_id\": 45, \"sum\": 1367.0, \"year\": \"2014\"}, {\"date_block_num\": \"January 2014\", \"month\": \"January\", \"shop_id\": 46, \"sum\": 2827.0, \"year\": \"2014\"}, {\"date_block_num\": \"January 2014\", \"month\": \"January\", \"shop_id\": 47, \"sum\": 2153.0, \"year\": \"2014\"}, {\"date_block_num\": \"January 2014\", \"month\": \"January\", \"shop_id\": 49, \"sum\": 676.0, \"year\": \"2014\"}, {\"date_block_num\": \"January 2014\", \"month\": \"January\", \"shop_id\": 50, \"sum\": 3002.0, \"year\": \"2014\"}, {\"date_block_num\": \"January 2014\", \"month\": \"January\", \"shop_id\": 51, \"sum\": 1623.0, \"year\": \"2014\"}, {\"date_block_num\": \"January 2014\", \"month\": \"January\", \"shop_id\": 52, \"sum\": 1625.0, \"year\": \"2014\"}, {\"date_block_num\": \"January 2014\", \"month\": \"January\", \"shop_id\": 53, \"sum\": 2144.0, \"year\": \"2014\"}, {\"date_block_num\": \"January 2014\", \"month\": \"January\", \"shop_id\": 54, \"sum\": 8198.0, \"year\": \"2014\"}, {\"date_block_num\": \"January 2014\", \"month\": \"January\", \"shop_id\": 55, \"sum\": 1150.0, \"year\": \"2014\"}, {\"date_block_num\": \"January 2014\", \"month\": \"January\", \"shop_id\": 56, \"sum\": 2983.0, \"year\": \"2014\"}, {\"date_block_num\": \"January 2014\", \"month\": \"January\", \"shop_id\": 57, \"sum\": 4962.0, \"year\": \"2014\"}, {\"date_block_num\": \"January 2014\", \"month\": \"January\", \"shop_id\": 58, \"sum\": 2683.0, \"year\": \"2014\"}, {\"date_block_num\": \"January 2014\", \"month\": \"January\", \"shop_id\": 59, \"sum\": 1491.0, \"year\": \"2014\"}, {\"date_block_num\": \"February 2014\", \"month\": \"February\", \"shop_id\": 2, \"sum\": 911.0, \"year\": \"2014\"}, {\"date_block_num\": \"February 2014\", \"month\": \"February\", \"shop_id\": 3, \"sum\": 873.0, \"year\": \"2014\"}, {\"date_block_num\": \"February 2014\", \"month\": \"February\", \"shop_id\": 4, \"sum\": 1299.0, \"year\": \"2014\"}, {\"date_block_num\": \"February 2014\", \"month\": \"February\", \"shop_id\": 5, \"sum\": 1252.0, \"year\": \"2014\"}, {\"date_block_num\": \"February 2014\", \"month\": \"February\", \"shop_id\": 6, \"sum\": 3129.0, \"year\": \"2014\"}, {\"date_block_num\": \"February 2014\", \"month\": \"February\", \"shop_id\": 7, \"sum\": 2357.0, \"year\": \"2014\"}, {\"date_block_num\": \"February 2014\", \"month\": \"February\", \"shop_id\": 10, \"sum\": 837.0, \"year\": \"2014\"}, {\"date_block_num\": \"February 2014\", \"month\": \"February\", \"shop_id\": 12, \"sum\": 1947.0, \"year\": \"2014\"}, {\"date_block_num\": \"February 2014\", \"month\": \"February\", \"shop_id\": 13, \"sum\": 804.0, \"year\": \"2014\"}, {\"date_block_num\": \"February 2014\", \"month\": \"February\", \"shop_id\": 14, \"sum\": 1488.0, \"year\": \"2014\"}, {\"date_block_num\": \"February 2014\", \"month\": \"February\", \"shop_id\": 15, \"sum\": 2353.0, \"year\": \"2014\"}, {\"date_block_num\": \"February 2014\", \"month\": \"February\", \"shop_id\": 16, \"sum\": 1693.0, \"year\": \"2014\"}, {\"date_block_num\": \"February 2014\", \"month\": \"February\", \"shop_id\": 17, \"sum\": 1474.0, \"year\": \"2014\"}, {\"date_block_num\": \"February 2014\", \"month\": \"February\", \"shop_id\": 18, \"sum\": 1955.0, \"year\": \"2014\"}, {\"date_block_num\": \"February 2014\", \"month\": \"February\", \"shop_id\": 19, \"sum\": 2176.0, \"year\": \"2014\"}, {\"date_block_num\": \"February 2014\", \"month\": \"February\", \"shop_id\": 21, \"sum\": 1822.0, \"year\": \"2014\"}, {\"date_block_num\": \"February 2014\", \"month\": \"February\", \"shop_id\": 22, \"sum\": 2007.0, \"year\": \"2014\"}, {\"date_block_num\": \"February 2014\", \"month\": \"February\", \"shop_id\": 24, \"sum\": 2135.0, \"year\": \"2014\"}, {\"date_block_num\": \"February 2014\", \"month\": \"February\", \"shop_id\": 25, \"sum\": 6686.0, \"year\": \"2014\"}, {\"date_block_num\": \"February 2014\", \"month\": \"February\", \"shop_id\": 26, \"sum\": 2307.0, \"year\": \"2014\"}, {\"date_block_num\": \"February 2014\", \"month\": \"February\", \"shop_id\": 27, \"sum\": 4208.0, \"year\": \"2014\"}, {\"date_block_num\": \"February 2014\", \"month\": \"February\", \"shop_id\": 28, \"sum\": 5498.0, \"year\": \"2014\"}, {\"date_block_num\": \"February 2014\", \"month\": \"February\", \"shop_id\": 29, \"sum\": 1920.0, \"year\": \"2014\"}, {\"date_block_num\": \"February 2014\", \"month\": \"February\", \"shop_id\": 30, \"sum\": 2260.0, \"year\": \"2014\"}, {\"date_block_num\": \"February 2014\", \"month\": \"February\", \"shop_id\": 31, \"sum\": 9728.0, \"year\": \"2014\"}, {\"date_block_num\": \"February 2014\", \"month\": \"February\", \"shop_id\": 35, \"sum\": 2081.0, \"year\": \"2014\"}, {\"date_block_num\": \"February 2014\", \"month\": \"February\", \"shop_id\": 37, \"sum\": 1110.0, \"year\": \"2014\"}, {\"date_block_num\": \"February 2014\", \"month\": \"February\", \"shop_id\": 38, \"sum\": 1561.0, \"year\": \"2014\"}, {\"date_block_num\": \"February 2014\", \"month\": \"February\", \"shop_id\": 41, \"sum\": 1656.0, \"year\": \"2014\"}, {\"date_block_num\": \"February 2014\", \"month\": \"February\", \"shop_id\": 42, \"sum\": 3541.0, \"year\": \"2014\"}, {\"date_block_num\": \"February 2014\", \"month\": \"February\", \"shop_id\": 43, \"sum\": 1970.0, \"year\": \"2014\"}, {\"date_block_num\": \"February 2014\", \"month\": \"February\", \"shop_id\": 44, \"sum\": 1593.0, \"year\": \"2014\"}, {\"date_block_num\": \"February 2014\", \"month\": \"February\", \"shop_id\": 45, \"sum\": 1279.0, \"year\": \"2014\"}, {\"date_block_num\": \"February 2014\", \"month\": \"February\", \"shop_id\": 46, \"sum\": 2367.0, \"year\": \"2014\"}, {\"date_block_num\": \"February 2014\", \"month\": \"February\", \"shop_id\": 47, \"sum\": 1917.0, \"year\": \"2014\"}, {\"date_block_num\": \"February 2014\", \"month\": \"February\", \"shop_id\": 49, \"sum\": 685.0, \"year\": \"2014\"}, {\"date_block_num\": \"February 2014\", \"month\": \"February\", \"shop_id\": 50, \"sum\": 2891.0, \"year\": \"2014\"}, {\"date_block_num\": \"February 2014\", \"month\": \"February\", \"shop_id\": 51, \"sum\": 1380.0, \"year\": \"2014\"}, {\"date_block_num\": \"February 2014\", \"month\": \"February\", \"shop_id\": 52, \"sum\": 1523.0, \"year\": \"2014\"}, {\"date_block_num\": \"February 2014\", \"month\": \"February\", \"shop_id\": 53, \"sum\": 1866.0, \"year\": \"2014\"}, {\"date_block_num\": \"February 2014\", \"month\": \"February\", \"shop_id\": 54, \"sum\": 6325.0, \"year\": \"2014\"}, {\"date_block_num\": \"February 2014\", \"month\": \"February\", \"shop_id\": 55, \"sum\": 1067.0, \"year\": \"2014\"}, {\"date_block_num\": \"February 2014\", \"month\": \"February\", \"shop_id\": 56, \"sum\": 2347.0, \"year\": \"2014\"}, {\"date_block_num\": \"February 2014\", \"month\": \"February\", \"shop_id\": 57, \"sum\": 5157.0, \"year\": \"2014\"}, {\"date_block_num\": \"February 2014\", \"month\": \"February\", \"shop_id\": 58, \"sum\": 2832.0, \"year\": \"2014\"}, {\"date_block_num\": \"February 2014\", \"month\": \"February\", \"shop_id\": 59, \"sum\": 1420.0, \"year\": \"2014\"}, {\"date_block_num\": \"March 2014\", \"month\": \"March\", \"shop_id\": 2, \"sum\": 990.0, \"year\": \"2014\"}, {\"date_block_num\": \"March 2014\", \"month\": \"March\", \"shop_id\": 3, \"sum\": 1105.0, \"year\": \"2014\"}, {\"date_block_num\": \"March 2014\", \"month\": \"March\", \"shop_id\": 4, \"sum\": 1246.0, \"year\": \"2014\"}, {\"date_block_num\": \"March 2014\", \"month\": \"March\", \"shop_id\": 5, \"sum\": 1471.0, \"year\": \"2014\"}, {\"date_block_num\": \"March 2014\", \"month\": \"March\", \"shop_id\": 6, \"sum\": 3105.0, \"year\": \"2014\"}, {\"date_block_num\": \"March 2014\", \"month\": \"March\", \"shop_id\": 7, \"sum\": 2032.0, \"year\": \"2014\"}, {\"date_block_num\": \"March 2014\", \"month\": \"March\", \"shop_id\": 10, \"sum\": 903.0, \"year\": \"2014\"}, {\"date_block_num\": \"March 2014\", \"month\": \"March\", \"shop_id\": 12, \"sum\": 2165.0, \"year\": \"2014\"}, {\"date_block_num\": \"March 2014\", \"month\": \"March\", \"shop_id\": 13, \"sum\": 1000.0, \"year\": \"2014\"}, {\"date_block_num\": \"March 2014\", \"month\": \"March\", \"shop_id\": 14, \"sum\": 1243.0, \"year\": \"2014\"}, {\"date_block_num\": \"March 2014\", \"month\": \"March\", \"shop_id\": 15, \"sum\": 2144.0, \"year\": \"2014\"}, {\"date_block_num\": \"March 2014\", \"month\": \"March\", \"shop_id\": 16, \"sum\": 1665.0, \"year\": \"2014\"}, {\"date_block_num\": \"March 2014\", \"month\": \"March\", \"shop_id\": 17, \"sum\": 1396.0, \"year\": \"2014\"}, {\"date_block_num\": \"March 2014\", \"month\": \"March\", \"shop_id\": 18, \"sum\": 1897.0, \"year\": \"2014\"}, {\"date_block_num\": \"March 2014\", \"month\": \"March\", \"shop_id\": 19, \"sum\": 2179.0, \"year\": \"2014\"}, {\"date_block_num\": \"March 2014\", \"month\": \"March\", \"shop_id\": 21, \"sum\": 2088.0, \"year\": \"2014\"}, {\"date_block_num\": \"March 2014\", \"month\": \"March\", \"shop_id\": 22, \"sum\": 1982.0, \"year\": \"2014\"}, {\"date_block_num\": \"March 2014\", \"month\": \"March\", \"shop_id\": 24, \"sum\": 2541.0, \"year\": \"2014\"}, {\"date_block_num\": \"March 2014\", \"month\": \"March\", \"shop_id\": 25, \"sum\": 6826.0, \"year\": \"2014\"}, {\"date_block_num\": \"March 2014\", \"month\": \"March\", \"shop_id\": 26, \"sum\": 2063.0, \"year\": \"2014\"}, {\"date_block_num\": \"March 2014\", \"month\": \"March\", \"shop_id\": 27, \"sum\": 4475.0, \"year\": \"2014\"}, {\"date_block_num\": \"March 2014\", \"month\": \"March\", \"shop_id\": 28, \"sum\": 5901.0, \"year\": \"2014\"}, {\"date_block_num\": \"March 2014\", \"month\": \"March\", \"shop_id\": 29, \"sum\": 1945.0, \"year\": \"2014\"}, {\"date_block_num\": \"March 2014\", \"month\": \"March\", \"shop_id\": 30, \"sum\": 2361.0, \"year\": \"2014\"}, {\"date_block_num\": \"March 2014\", \"month\": \"March\", \"shop_id\": 31, \"sum\": 9643.0, \"year\": \"2014\"}, {\"date_block_num\": \"March 2014\", \"month\": \"March\", \"shop_id\": 35, \"sum\": 2398.0, \"year\": \"2014\"}, {\"date_block_num\": \"March 2014\", \"month\": \"March\", \"shop_id\": 37, \"sum\": 1246.0, \"year\": \"2014\"}, {\"date_block_num\": \"March 2014\", \"month\": \"March\", \"shop_id\": 38, \"sum\": 1561.0, \"year\": \"2014\"}, {\"date_block_num\": \"March 2014\", \"month\": \"March\", \"shop_id\": 39, \"sum\": 857.0, \"year\": \"2014\"}, {\"date_block_num\": \"March 2014\", \"month\": \"March\", \"shop_id\": 40, \"sum\": 496.0, \"year\": \"2014\"}, {\"date_block_num\": \"March 2014\", \"month\": \"March\", \"shop_id\": 41, \"sum\": 1640.0, \"year\": \"2014\"}, {\"date_block_num\": \"March 2014\", \"month\": \"March\", \"shop_id\": 42, \"sum\": 4210.0, \"year\": \"2014\"}, {\"date_block_num\": \"March 2014\", \"month\": \"March\", \"shop_id\": 43, \"sum\": 2078.0, \"year\": \"2014\"}, {\"date_block_num\": \"March 2014\", \"month\": \"March\", \"shop_id\": 44, \"sum\": 1788.0, \"year\": \"2014\"}, {\"date_block_num\": \"March 2014\", \"month\": \"March\", \"shop_id\": 45, \"sum\": 1401.0, \"year\": \"2014\"}, {\"date_block_num\": \"March 2014\", \"month\": \"March\", \"shop_id\": 46, \"sum\": 2396.0, \"year\": \"2014\"}, {\"date_block_num\": \"March 2014\", \"month\": \"March\", \"shop_id\": 47, \"sum\": 2125.0, \"year\": \"2014\"}, {\"date_block_num\": \"March 2014\", \"month\": \"March\", \"shop_id\": 49, \"sum\": 754.0, \"year\": \"2014\"}, {\"date_block_num\": \"March 2014\", \"month\": \"March\", \"shop_id\": 50, \"sum\": 2934.0, \"year\": \"2014\"}, {\"date_block_num\": \"March 2014\", \"month\": \"March\", \"shop_id\": 51, \"sum\": 1582.0, \"year\": \"2014\"}, {\"date_block_num\": \"March 2014\", \"month\": \"March\", \"shop_id\": 52, \"sum\": 1741.0, \"year\": \"2014\"}, {\"date_block_num\": \"March 2014\", \"month\": \"March\", \"shop_id\": 53, \"sum\": 2059.0, \"year\": \"2014\"}, {\"date_block_num\": \"March 2014\", \"month\": \"March\", \"shop_id\": 54, \"sum\": 6876.0, \"year\": \"2014\"}, {\"date_block_num\": \"March 2014\", \"month\": \"March\", \"shop_id\": 55, \"sum\": 1104.0, \"year\": \"2014\"}, {\"date_block_num\": \"March 2014\", \"month\": \"March\", \"shop_id\": 56, \"sum\": 2280.0, \"year\": \"2014\"}, {\"date_block_num\": \"March 2014\", \"month\": \"March\", \"shop_id\": 57, \"sum\": 5026.0, \"year\": \"2014\"}, {\"date_block_num\": \"March 2014\", \"month\": \"March\", \"shop_id\": 58, \"sum\": 2912.0, \"year\": \"2014\"}, {\"date_block_num\": \"March 2014\", \"month\": \"March\", \"shop_id\": 59, \"sum\": 1467.0, \"year\": \"2014\"}, {\"date_block_num\": \"April 2014\", \"month\": \"April\", \"shop_id\": 2, \"sum\": 791.0, \"year\": \"2014\"}, {\"date_block_num\": \"April 2014\", \"month\": \"April\", \"shop_id\": 3, \"sum\": 685.0, \"year\": \"2014\"}, {\"date_block_num\": \"April 2014\", \"month\": \"April\", \"shop_id\": 4, \"sum\": 1155.0, \"year\": \"2014\"}, {\"date_block_num\": \"April 2014\", \"month\": \"April\", \"shop_id\": 5, \"sum\": 1055.0, \"year\": \"2014\"}, {\"date_block_num\": \"April 2014\", \"month\": \"April\", \"shop_id\": 6, \"sum\": 3093.0, \"year\": \"2014\"}, {\"date_block_num\": \"April 2014\", \"month\": \"April\", \"shop_id\": 7, \"sum\": 1644.0, \"year\": \"2014\"}, {\"date_block_num\": \"April 2014\", \"month\": \"April\", \"shop_id\": 10, \"sum\": 646.0, \"year\": \"2014\"}, {\"date_block_num\": \"April 2014\", \"month\": \"April\", \"shop_id\": 12, \"sum\": 1738.0, \"year\": \"2014\"}, {\"date_block_num\": \"April 2014\", \"month\": \"April\", \"shop_id\": 13, \"sum\": 848.0, \"year\": \"2014\"}, {\"date_block_num\": \"April 2014\", \"month\": \"April\", \"shop_id\": 14, \"sum\": 1024.0, \"year\": \"2014\"}, {\"date_block_num\": \"April 2014\", \"month\": \"April\", \"shop_id\": 15, \"sum\": 1671.0, \"year\": \"2014\"}, {\"date_block_num\": \"April 2014\", \"month\": \"April\", \"shop_id\": 16, \"sum\": 1232.0, \"year\": \"2014\"}, {\"date_block_num\": \"April 2014\", \"month\": \"April\", \"shop_id\": 17, \"sum\": 1201.0, \"year\": \"2014\"}, {\"date_block_num\": \"April 2014\", \"month\": \"April\", \"shop_id\": 18, \"sum\": 1396.0, \"year\": \"2014\"}, {\"date_block_num\": \"April 2014\", \"month\": \"April\", \"shop_id\": 19, \"sum\": 1813.0, \"year\": \"2014\"}, {\"date_block_num\": \"April 2014\", \"month\": \"April\", \"shop_id\": 21, \"sum\": 2144.0, \"year\": \"2014\"}, {\"date_block_num\": \"April 2014\", \"month\": \"April\", \"shop_id\": 22, \"sum\": 1826.0, \"year\": \"2014\"}, {\"date_block_num\": \"April 2014\", \"month\": \"April\", \"shop_id\": 24, \"sum\": 1742.0, \"year\": \"2014\"}, {\"date_block_num\": \"April 2014\", \"month\": \"April\", \"shop_id\": 25, \"sum\": 5939.0, \"year\": \"2014\"}, {\"date_block_num\": \"April 2014\", \"month\": \"April\", \"shop_id\": 26, \"sum\": 1587.0, \"year\": \"2014\"}, {\"date_block_num\": \"April 2014\", \"month\": \"April\", \"shop_id\": 27, \"sum\": 4204.0, \"year\": \"2014\"}, {\"date_block_num\": \"April 2014\", \"month\": \"April\", \"shop_id\": 28, \"sum\": 4581.0, \"year\": \"2014\"}, {\"date_block_num\": \"April 2014\", \"month\": \"April\", \"shop_id\": 29, \"sum\": 1838.0, \"year\": \"2014\"}, {\"date_block_num\": \"April 2014\", \"month\": \"April\", \"shop_id\": 30, \"sum\": 1995.0, \"year\": \"2014\"}, {\"date_block_num\": \"April 2014\", \"month\": \"April\", \"shop_id\": 31, \"sum\": 8897.0, \"year\": \"2014\"}, {\"date_block_num\": \"April 2014\", \"month\": \"April\", \"shop_id\": 35, \"sum\": 1775.0, \"year\": \"2014\"}, {\"date_block_num\": \"April 2014\", \"month\": \"April\", \"shop_id\": 37, \"sum\": 944.0, \"year\": \"2014\"}, {\"date_block_num\": \"April 2014\", \"month\": \"April\", \"shop_id\": 38, \"sum\": 1375.0, \"year\": \"2014\"}, {\"date_block_num\": \"April 2014\", \"month\": \"April\", \"shop_id\": 39, \"sum\": 691.0, \"year\": \"2014\"}, {\"date_block_num\": \"April 2014\", \"month\": \"April\", \"shop_id\": 40, \"sum\": 338.0, \"year\": \"2014\"}, {\"date_block_num\": \"April 2014\", \"month\": \"April\", \"shop_id\": 41, \"sum\": 1222.0, \"year\": \"2014\"}, {\"date_block_num\": \"April 2014\", \"month\": \"April\", \"shop_id\": 42, \"sum\": 3907.0, \"year\": \"2014\"}, {\"date_block_num\": \"April 2014\", \"month\": \"April\", \"shop_id\": 43, \"sum\": 1754.0, \"year\": \"2014\"}, {\"date_block_num\": \"April 2014\", \"month\": \"April\", \"shop_id\": 44, \"sum\": 1423.0, \"year\": \"2014\"}, {\"date_block_num\": \"April 2014\", \"month\": \"April\", \"shop_id\": 45, \"sum\": 1015.0, \"year\": \"2014\"}, {\"date_block_num\": \"April 2014\", \"month\": \"April\", \"shop_id\": 46, \"sum\": 1936.0, \"year\": \"2014\"}, {\"date_block_num\": \"April 2014\", \"month\": \"April\", \"shop_id\": 47, \"sum\": 1517.0, \"year\": \"2014\"}, {\"date_block_num\": \"April 2014\", \"month\": \"April\", \"shop_id\": 48, \"sum\": 341.0, \"year\": \"2014\"}, {\"date_block_num\": \"April 2014\", \"month\": \"April\", \"shop_id\": 49, \"sum\": 583.0, \"year\": \"2014\"}, {\"date_block_num\": \"April 2014\", \"month\": \"April\", \"shop_id\": 50, \"sum\": 2143.0, \"year\": \"2014\"}, {\"date_block_num\": \"April 2014\", \"month\": \"April\", \"shop_id\": 51, \"sum\": 1432.0, \"year\": \"2014\"}, {\"date_block_num\": \"April 2014\", \"month\": \"April\", \"shop_id\": 52, \"sum\": 1249.0, \"year\": \"2014\"}, {\"date_block_num\": \"April 2014\", \"month\": \"April\", \"shop_id\": 53, \"sum\": 1641.0, \"year\": \"2014\"}, {\"date_block_num\": \"April 2014\", \"month\": \"April\", \"shop_id\": 54, \"sum\": 5575.0, \"year\": \"2014\"}, {\"date_block_num\": \"April 2014\", \"month\": \"April\", \"shop_id\": 55, \"sum\": 1271.0, \"year\": \"2014\"}, {\"date_block_num\": \"April 2014\", \"month\": \"April\", \"shop_id\": 56, \"sum\": 1655.0, \"year\": \"2014\"}, {\"date_block_num\": \"April 2014\", \"month\": \"April\", \"shop_id\": 57, \"sum\": 4435.0, \"year\": \"2014\"}, {\"date_block_num\": \"April 2014\", \"month\": \"April\", \"shop_id\": 58, \"sum\": 2361.0, \"year\": \"2014\"}, {\"date_block_num\": \"April 2014\", \"month\": \"April\", \"shop_id\": 59, \"sum\": 1228.0, \"year\": \"2014\"}, {\"date_block_num\": \"May 2014\", \"month\": \"May\", \"shop_id\": 2, \"sum\": 910.0, \"year\": \"2014\"}, {\"date_block_num\": \"May 2014\", \"month\": \"May\", \"shop_id\": 3, \"sum\": 776.0, \"year\": \"2014\"}, {\"date_block_num\": \"May 2014\", \"month\": \"May\", \"shop_id\": 4, \"sum\": 1324.0, \"year\": \"2014\"}, {\"date_block_num\": \"May 2014\", \"month\": \"May\", \"shop_id\": 5, \"sum\": 1206.0, \"year\": \"2014\"}, {\"date_block_num\": \"May 2014\", \"month\": \"May\", \"shop_id\": 6, \"sum\": 2620.0, \"year\": \"2014\"}, {\"date_block_num\": \"May 2014\", \"month\": \"May\", \"shop_id\": 7, \"sum\": 1675.0, \"year\": \"2014\"}, {\"date_block_num\": \"May 2014\", \"month\": \"May\", \"shop_id\": 10, \"sum\": 702.0, \"year\": \"2014\"}, {\"date_block_num\": \"May 2014\", \"month\": \"May\", \"shop_id\": 12, \"sum\": 2040.0, \"year\": \"2014\"}, {\"date_block_num\": \"May 2014\", \"month\": \"May\", \"shop_id\": 13, \"sum\": 801.0, \"year\": \"2014\"}, {\"date_block_num\": \"May 2014\", \"month\": \"May\", \"shop_id\": 14, \"sum\": 1298.0, \"year\": \"2014\"}, {\"date_block_num\": \"May 2014\", \"month\": \"May\", \"shop_id\": 15, \"sum\": 1704.0, \"year\": \"2014\"}, {\"date_block_num\": \"May 2014\", \"month\": \"May\", \"shop_id\": 16, \"sum\": 1294.0, \"year\": \"2014\"}, {\"date_block_num\": \"May 2014\", \"month\": \"May\", \"shop_id\": 17, \"sum\": 1170.0, \"year\": \"2014\"}, {\"date_block_num\": \"May 2014\", \"month\": \"May\", \"shop_id\": 18, \"sum\": 1553.0, \"year\": \"2014\"}, {\"date_block_num\": \"May 2014\", \"month\": \"May\", \"shop_id\": 19, \"sum\": 1825.0, \"year\": \"2014\"}, {\"date_block_num\": \"May 2014\", \"month\": \"May\", \"shop_id\": 21, \"sum\": 1909.0, \"year\": \"2014\"}, {\"date_block_num\": \"May 2014\", \"month\": \"May\", \"shop_id\": 22, \"sum\": 1496.0, \"year\": \"2014\"}, {\"date_block_num\": \"May 2014\", \"month\": \"May\", \"shop_id\": 24, \"sum\": 1667.0, \"year\": \"2014\"}, {\"date_block_num\": \"May 2014\", \"month\": \"May\", \"shop_id\": 25, \"sum\": 5746.0, \"year\": \"2014\"}, {\"date_block_num\": \"May 2014\", \"month\": \"May\", \"shop_id\": 26, \"sum\": 1764.0, \"year\": \"2014\"}, {\"date_block_num\": \"May 2014\", \"month\": \"May\", \"shop_id\": 27, \"sum\": 4505.0, \"year\": \"2014\"}, {\"date_block_num\": \"May 2014\", \"month\": \"May\", \"shop_id\": 28, \"sum\": 4902.0, \"year\": \"2014\"}, {\"date_block_num\": \"May 2014\", \"month\": \"May\", \"shop_id\": 29, \"sum\": 1799.0, \"year\": \"2014\"}, {\"date_block_num\": \"May 2014\", \"month\": \"May\", \"shop_id\": 30, \"sum\": 1960.0, \"year\": \"2014\"}, {\"date_block_num\": \"May 2014\", \"month\": \"May\", \"shop_id\": 31, \"sum\": 7826.0, \"year\": \"2014\"}, {\"date_block_num\": \"May 2014\", \"month\": \"May\", \"shop_id\": 35, \"sum\": 1957.0, \"year\": \"2014\"}, {\"date_block_num\": \"May 2014\", \"month\": \"May\", \"shop_id\": 37, \"sum\": 1040.0, \"year\": \"2014\"}, {\"date_block_num\": \"May 2014\", \"month\": \"May\", \"shop_id\": 38, \"sum\": 1743.0, \"year\": \"2014\"}, {\"date_block_num\": \"May 2014\", \"month\": \"May\", \"shop_id\": 39, \"sum\": 848.0, \"year\": \"2014\"}, {\"date_block_num\": \"May 2014\", \"month\": \"May\", \"shop_id\": 40, \"sum\": 317.0, \"year\": \"2014\"}, {\"date_block_num\": \"May 2014\", \"month\": \"May\", \"shop_id\": 41, \"sum\": 1277.0, \"year\": \"2014\"}, {\"date_block_num\": \"May 2014\", \"month\": \"May\", \"shop_id\": 42, \"sum\": 3742.0, \"year\": \"2014\"}, {\"date_block_num\": \"May 2014\", \"month\": \"May\", \"shop_id\": 43, \"sum\": 1744.0, \"year\": \"2014\"}, {\"date_block_num\": \"May 2014\", \"month\": \"May\", \"shop_id\": 44, \"sum\": 1135.0, \"year\": \"2014\"}, {\"date_block_num\": \"May 2014\", \"month\": \"May\", \"shop_id\": 45, \"sum\": 1174.0, \"year\": \"2014\"}, {\"date_block_num\": \"May 2014\", \"month\": \"May\", \"shop_id\": 46, \"sum\": 1950.0, \"year\": \"2014\"}, {\"date_block_num\": \"May 2014\", \"month\": \"May\", \"shop_id\": 47, \"sum\": 1865.0, \"year\": \"2014\"}, {\"date_block_num\": \"May 2014\", \"month\": \"May\", \"shop_id\": 48, \"sum\": 1773.0, \"year\": \"2014\"}, {\"date_block_num\": \"May 2014\", \"month\": \"May\", \"shop_id\": 49, \"sum\": 689.0, \"year\": \"2014\"}, {\"date_block_num\": \"May 2014\", \"month\": \"May\", \"shop_id\": 50, \"sum\": 1886.0, \"year\": \"2014\"}, {\"date_block_num\": \"May 2014\", \"month\": \"May\", \"shop_id\": 51, \"sum\": 1226.0, \"year\": \"2014\"}, {\"date_block_num\": \"May 2014\", \"month\": \"May\", \"shop_id\": 52, \"sum\": 1338.0, \"year\": \"2014\"}, {\"date_block_num\": \"May 2014\", \"month\": \"May\", \"shop_id\": 53, \"sum\": 1731.0, \"year\": \"2014\"}, {\"date_block_num\": \"May 2014\", \"month\": \"May\", \"shop_id\": 54, \"sum\": 5593.0, \"year\": \"2014\"}, {\"date_block_num\": \"May 2014\", \"month\": \"May\", \"shop_id\": 55, \"sum\": 1223.0, \"year\": \"2014\"}, {\"date_block_num\": \"May 2014\", \"month\": \"May\", \"shop_id\": 56, \"sum\": 1991.0, \"year\": \"2014\"}, {\"date_block_num\": \"May 2014\", \"month\": \"May\", \"shop_id\": 57, \"sum\": 3911.0, \"year\": \"2014\"}, {\"date_block_num\": \"May 2014\", \"month\": \"May\", \"shop_id\": 58, \"sum\": 1981.0, \"year\": \"2014\"}, {\"date_block_num\": \"May 2014\", \"month\": \"May\", \"shop_id\": 59, \"sum\": 1184.0, \"year\": \"2014\"}, {\"date_block_num\": \"June 2014\", \"month\": \"June\", \"shop_id\": 2, \"sum\": 957.0, \"year\": \"2014\"}, {\"date_block_num\": \"June 2014\", \"month\": \"June\", \"shop_id\": 3, \"sum\": 828.0, \"year\": \"2014\"}, {\"date_block_num\": \"June 2014\", \"month\": \"June\", \"shop_id\": 4, \"sum\": 1213.0, \"year\": \"2014\"}, {\"date_block_num\": \"June 2014\", \"month\": \"June\", \"shop_id\": 5, \"sum\": 1326.0, \"year\": \"2014\"}, {\"date_block_num\": \"June 2014\", \"month\": \"June\", \"shop_id\": 6, \"sum\": 2730.0, \"year\": \"2014\"}, {\"date_block_num\": \"June 2014\", \"month\": \"June\", \"shop_id\": 7, \"sum\": 1903.0, \"year\": \"2014\"}, {\"date_block_num\": \"June 2014\", \"month\": \"June\", \"shop_id\": 10, \"sum\": 575.0, \"year\": \"2014\"}, {\"date_block_num\": \"June 2014\", \"month\": \"June\", \"shop_id\": 12, \"sum\": 1079.0, \"year\": \"2014\"}, {\"date_block_num\": \"June 2014\", \"month\": \"June\", \"shop_id\": 13, \"sum\": 847.0, \"year\": \"2014\"}, {\"date_block_num\": \"June 2014\", \"month\": \"June\", \"shop_id\": 14, \"sum\": 1172.0, \"year\": \"2014\"}, {\"date_block_num\": \"June 2014\", \"month\": \"June\", \"shop_id\": 15, \"sum\": 1771.0, \"year\": \"2014\"}, {\"date_block_num\": \"June 2014\", \"month\": \"June\", \"shop_id\": 16, \"sum\": 1517.0, \"year\": \"2014\"}, {\"date_block_num\": \"June 2014\", \"month\": \"June\", \"shop_id\": 17, \"sum\": 989.0, \"year\": \"2014\"}, {\"date_block_num\": \"June 2014\", \"month\": \"June\", \"shop_id\": 18, \"sum\": 1274.0, \"year\": \"2014\"}, {\"date_block_num\": \"June 2014\", \"month\": \"June\", \"shop_id\": 19, \"sum\": 2067.0, \"year\": \"2014\"}, {\"date_block_num\": \"June 2014\", \"month\": \"June\", \"shop_id\": 21, \"sum\": 1849.0, \"year\": \"2014\"}, {\"date_block_num\": \"June 2014\", \"month\": \"June\", \"shop_id\": 22, \"sum\": 1246.0, \"year\": \"2014\"}, {\"date_block_num\": \"June 2014\", \"month\": \"June\", \"shop_id\": 24, \"sum\": 1708.0, \"year\": \"2014\"}, {\"date_block_num\": \"June 2014\", \"month\": \"June\", \"shop_id\": 25, \"sum\": 6405.0, \"year\": \"2014\"}, {\"date_block_num\": \"June 2014\", \"month\": \"June\", \"shop_id\": 26, \"sum\": 1598.0, \"year\": \"2014\"}, {\"date_block_num\": \"June 2014\", \"month\": \"June\", \"shop_id\": 27, \"sum\": 4282.0, \"year\": \"2014\"}, {\"date_block_num\": \"June 2014\", \"month\": \"June\", \"shop_id\": 28, \"sum\": 5701.0, \"year\": \"2014\"}, {\"date_block_num\": \"June 2014\", \"month\": \"June\", \"shop_id\": 29, \"sum\": 1430.0, \"year\": \"2014\"}, {\"date_block_num\": \"June 2014\", \"month\": \"June\", \"shop_id\": 30, \"sum\": 1775.0, \"year\": \"2014\"}, {\"date_block_num\": \"June 2014\", \"month\": \"June\", \"shop_id\": 31, \"sum\": 7701.0, \"year\": \"2014\"}, {\"date_block_num\": \"June 2014\", \"month\": \"June\", \"shop_id\": 35, \"sum\": 1963.0, \"year\": \"2014\"}, {\"date_block_num\": \"June 2014\", \"month\": \"June\", \"shop_id\": 37, \"sum\": 1065.0, \"year\": \"2014\"}, {\"date_block_num\": \"June 2014\", \"month\": \"June\", \"shop_id\": 38, \"sum\": 1467.0, \"year\": \"2014\"}, {\"date_block_num\": \"June 2014\", \"month\": \"June\", \"shop_id\": 39, \"sum\": 734.0, \"year\": \"2014\"}, {\"date_block_num\": \"June 2014\", \"month\": \"June\", \"shop_id\": 40, \"sum\": 332.0, \"year\": \"2014\"}, {\"date_block_num\": \"June 2014\", \"month\": \"June\", \"shop_id\": 41, \"sum\": 1143.0, \"year\": \"2014\"}, {\"date_block_num\": \"June 2014\", \"month\": \"June\", \"shop_id\": 42, \"sum\": 3501.0, \"year\": \"2014\"}, {\"date_block_num\": \"June 2014\", \"month\": \"June\", \"shop_id\": 43, \"sum\": 1580.0, \"year\": \"2014\"}, {\"date_block_num\": \"June 2014\", \"month\": \"June\", \"shop_id\": 44, \"sum\": 1184.0, \"year\": \"2014\"}, {\"date_block_num\": \"June 2014\", \"month\": \"June\", \"shop_id\": 45, \"sum\": 1305.0, \"year\": \"2014\"}, {\"date_block_num\": \"June 2014\", \"month\": \"June\", \"shop_id\": 46, \"sum\": 2308.0, \"year\": \"2014\"}, {\"date_block_num\": \"June 2014\", \"month\": \"June\", \"shop_id\": 47, \"sum\": 1788.0, \"year\": \"2014\"}, {\"date_block_num\": \"June 2014\", \"month\": \"June\", \"shop_id\": 48, \"sum\": 1391.0, \"year\": \"2014\"}, {\"date_block_num\": \"June 2014\", \"month\": \"June\", \"shop_id\": 49, \"sum\": 757.0, \"year\": \"2014\"}, {\"date_block_num\": \"June 2014\", \"month\": \"June\", \"shop_id\": 50, \"sum\": 1722.0, \"year\": \"2014\"}, {\"date_block_num\": \"June 2014\", \"month\": \"June\", \"shop_id\": 51, \"sum\": 1252.0, \"year\": \"2014\"}, {\"date_block_num\": \"June 2014\", \"month\": \"June\", \"shop_id\": 52, \"sum\": 1174.0, \"year\": \"2014\"}, {\"date_block_num\": \"June 2014\", \"month\": \"June\", \"shop_id\": 53, \"sum\": 1815.0, \"year\": \"2014\"}, {\"date_block_num\": \"June 2014\", \"month\": \"June\", \"shop_id\": 54, \"sum\": 6033.0, \"year\": \"2014\"}, {\"date_block_num\": \"June 2014\", \"month\": \"June\", \"shop_id\": 55, \"sum\": 1355.0, \"year\": \"2014\"}, {\"date_block_num\": \"June 2014\", \"month\": \"June\", \"shop_id\": 56, \"sum\": 2583.0, \"year\": \"2014\"}, {\"date_block_num\": \"June 2014\", \"month\": \"June\", \"shop_id\": 57, \"sum\": 3788.0, \"year\": \"2014\"}, {\"date_block_num\": \"June 2014\", \"month\": \"June\", \"shop_id\": 58, \"sum\": 2089.0, \"year\": \"2014\"}, {\"date_block_num\": \"June 2014\", \"month\": \"June\", \"shop_id\": 59, \"sum\": 1157.0, \"year\": \"2014\"}, {\"date_block_num\": \"July 2014\", \"month\": \"July\", \"shop_id\": 2, \"sum\": 838.0, \"year\": \"2014\"}, {\"date_block_num\": \"July 2014\", \"month\": \"July\", \"shop_id\": 3, \"sum\": 758.0, \"year\": \"2014\"}, {\"date_block_num\": \"July 2014\", \"month\": \"July\", \"shop_id\": 4, \"sum\": 1091.0, \"year\": \"2014\"}, {\"date_block_num\": \"July 2014\", \"month\": \"July\", \"shop_id\": 5, \"sum\": 1404.0, \"year\": \"2014\"}, {\"date_block_num\": \"July 2014\", \"month\": \"July\", \"shop_id\": 6, \"sum\": 2543.0, \"year\": \"2014\"}, {\"date_block_num\": \"July 2014\", \"month\": \"July\", \"shop_id\": 7, \"sum\": 1723.0, \"year\": \"2014\"}, {\"date_block_num\": \"July 2014\", \"month\": \"July\", \"shop_id\": 10, \"sum\": 560.0, \"year\": \"2014\"}, {\"date_block_num\": \"July 2014\", \"month\": \"July\", \"shop_id\": 12, \"sum\": 1212.0, \"year\": \"2014\"}, {\"date_block_num\": \"July 2014\", \"month\": \"July\", \"shop_id\": 13, \"sum\": 765.0, \"year\": \"2014\"}, {\"date_block_num\": \"July 2014\", \"month\": \"July\", \"shop_id\": 14, \"sum\": 1130.0, \"year\": \"2014\"}, {\"date_block_num\": \"July 2014\", \"month\": \"July\", \"shop_id\": 15, \"sum\": 1650.0, \"year\": \"2014\"}, {\"date_block_num\": \"July 2014\", \"month\": \"July\", \"shop_id\": 16, \"sum\": 1371.0, \"year\": \"2014\"}, {\"date_block_num\": \"July 2014\", \"month\": \"July\", \"shop_id\": 17, \"sum\": 1157.0, \"year\": \"2014\"}, {\"date_block_num\": \"July 2014\", \"month\": \"July\", \"shop_id\": 18, \"sum\": 1294.0, \"year\": \"2014\"}, {\"date_block_num\": \"July 2014\", \"month\": \"July\", \"shop_id\": 19, \"sum\": 1767.0, \"year\": \"2014\"}, {\"date_block_num\": \"July 2014\", \"month\": \"July\", \"shop_id\": 21, \"sum\": 1603.0, \"year\": \"2014\"}, {\"date_block_num\": \"July 2014\", \"month\": \"July\", \"shop_id\": 22, \"sum\": 1243.0, \"year\": \"2014\"}, {\"date_block_num\": \"July 2014\", \"month\": \"July\", \"shop_id\": 24, \"sum\": 1553.0, \"year\": \"2014\"}, {\"date_block_num\": \"July 2014\", \"month\": \"July\", \"shop_id\": 25, \"sum\": 5620.0, \"year\": \"2014\"}, {\"date_block_num\": \"July 2014\", \"month\": \"July\", \"shop_id\": 26, \"sum\": 1459.0, \"year\": \"2014\"}, {\"date_block_num\": \"July 2014\", \"month\": \"July\", \"shop_id\": 27, \"sum\": 3756.0, \"year\": \"2014\"}, {\"date_block_num\": \"July 2014\", \"month\": \"July\", \"shop_id\": 28, \"sum\": 4536.0, \"year\": \"2014\"}, {\"date_block_num\": \"July 2014\", \"month\": \"July\", \"shop_id\": 29, \"sum\": 1433.0, \"year\": \"2014\"}, {\"date_block_num\": \"July 2014\", \"month\": \"July\", \"shop_id\": 30, \"sum\": 1620.0, \"year\": \"2014\"}, {\"date_block_num\": \"July 2014\", \"month\": \"July\", \"shop_id\": 31, \"sum\": 7056.0, \"year\": \"2014\"}, {\"date_block_num\": \"July 2014\", \"month\": \"July\", \"shop_id\": 34, \"sum\": 2.0, \"year\": \"2014\"}, {\"date_block_num\": \"July 2014\", \"month\": \"July\", \"shop_id\": 35, \"sum\": 1793.0, \"year\": \"2014\"}, {\"date_block_num\": \"July 2014\", \"month\": \"July\", \"shop_id\": 37, \"sum\": 997.0, \"year\": \"2014\"}, {\"date_block_num\": \"July 2014\", \"month\": \"July\", \"shop_id\": 38, \"sum\": 1712.0, \"year\": \"2014\"}, {\"date_block_num\": \"July 2014\", \"month\": \"July\", \"shop_id\": 39, \"sum\": 699.0, \"year\": \"2014\"}, {\"date_block_num\": \"July 2014\", \"month\": \"July\", \"shop_id\": 40, \"sum\": 346.0, \"year\": \"2014\"}, {\"date_block_num\": \"July 2014\", \"month\": \"July\", \"shop_id\": 41, \"sum\": 1152.0, \"year\": \"2014\"}, {\"date_block_num\": \"July 2014\", \"month\": \"July\", \"shop_id\": 42, \"sum\": 3663.0, \"year\": \"2014\"}, {\"date_block_num\": \"July 2014\", \"month\": \"July\", \"shop_id\": 43, \"sum\": 1360.0, \"year\": \"2014\"}, {\"date_block_num\": \"July 2014\", \"month\": \"July\", \"shop_id\": 44, \"sum\": 1055.0, \"year\": \"2014\"}, {\"date_block_num\": \"July 2014\", \"month\": \"July\", \"shop_id\": 45, \"sum\": 1261.0, \"year\": \"2014\"}, {\"date_block_num\": \"July 2014\", \"month\": \"July\", \"shop_id\": 46, \"sum\": 1886.0, \"year\": \"2014\"}, {\"date_block_num\": \"July 2014\", \"month\": \"July\", \"shop_id\": 47, \"sum\": 1807.0, \"year\": \"2014\"}, {\"date_block_num\": \"July 2014\", \"month\": \"July\", \"shop_id\": 48, \"sum\": 1491.0, \"year\": \"2014\"}, {\"date_block_num\": \"July 2014\", \"month\": \"July\", \"shop_id\": 49, \"sum\": 819.0, \"year\": \"2014\"}, {\"date_block_num\": \"July 2014\", \"month\": \"July\", \"shop_id\": 50, \"sum\": 1602.0, \"year\": \"2014\"}, {\"date_block_num\": \"July 2014\", \"month\": \"July\", \"shop_id\": 51, \"sum\": 1342.0, \"year\": \"2014\"}, {\"date_block_num\": \"July 2014\", \"month\": \"July\", \"shop_id\": 52, \"sum\": 1255.0, \"year\": \"2014\"}, {\"date_block_num\": \"July 2014\", \"month\": \"July\", \"shop_id\": 53, \"sum\": 1839.0, \"year\": \"2014\"}, {\"date_block_num\": \"July 2014\", \"month\": \"July\", \"shop_id\": 54, \"sum\": 5188.0, \"year\": \"2014\"}, {\"date_block_num\": \"July 2014\", \"month\": \"July\", \"shop_id\": 55, \"sum\": 1383.0, \"year\": \"2014\"}, {\"date_block_num\": \"July 2014\", \"month\": \"July\", \"shop_id\": 56, \"sum\": 2361.0, \"year\": \"2014\"}, {\"date_block_num\": \"July 2014\", \"month\": \"July\", \"shop_id\": 57, \"sum\": 3813.0, \"year\": \"2014\"}, {\"date_block_num\": \"July 2014\", \"month\": \"July\", \"shop_id\": 58, \"sum\": 2230.0, \"year\": \"2014\"}, {\"date_block_num\": \"July 2014\", \"month\": \"July\", \"shop_id\": 59, \"sum\": 1082.0, \"year\": \"2014\"}, {\"date_block_num\": \"August 2014\", \"month\": \"August\", \"shop_id\": 2, \"sum\": 956.0, \"year\": \"2014\"}, {\"date_block_num\": \"August 2014\", \"month\": \"August\", \"shop_id\": 3, \"sum\": 902.0, \"year\": \"2014\"}, {\"date_block_num\": \"August 2014\", \"month\": \"August\", \"shop_id\": 4, \"sum\": 1387.0, \"year\": \"2014\"}, {\"date_block_num\": \"August 2014\", \"month\": \"August\", \"shop_id\": 5, \"sum\": 1536.0, \"year\": \"2014\"}, {\"date_block_num\": \"August 2014\", \"month\": \"August\", \"shop_id\": 6, \"sum\": 2563.0, \"year\": \"2014\"}, {\"date_block_num\": \"August 2014\", \"month\": \"August\", \"shop_id\": 7, \"sum\": 2001.0, \"year\": \"2014\"}, {\"date_block_num\": \"August 2014\", \"month\": \"August\", \"shop_id\": 10, \"sum\": 646.0, \"year\": \"2014\"}, {\"date_block_num\": \"August 2014\", \"month\": \"August\", \"shop_id\": 12, \"sum\": 1051.0, \"year\": \"2014\"}, {\"date_block_num\": \"August 2014\", \"month\": \"August\", \"shop_id\": 13, \"sum\": 209.0, \"year\": \"2014\"}, {\"date_block_num\": \"August 2014\", \"month\": \"August\", \"shop_id\": 14, \"sum\": 1239.0, \"year\": \"2014\"}, {\"date_block_num\": \"August 2014\", \"month\": \"August\", \"shop_id\": 15, \"sum\": 2009.0, \"year\": \"2014\"}, {\"date_block_num\": \"August 2014\", \"month\": \"August\", \"shop_id\": 16, \"sum\": 1562.0, \"year\": \"2014\"}, {\"date_block_num\": \"August 2014\", \"month\": \"August\", \"shop_id\": 17, \"sum\": 1185.0, \"year\": \"2014\"}, {\"date_block_num\": \"August 2014\", \"month\": \"August\", \"shop_id\": 18, \"sum\": 1558.0, \"year\": \"2014\"}, {\"date_block_num\": \"August 2014\", \"month\": \"August\", \"shop_id\": 19, \"sum\": 2019.0, \"year\": \"2014\"}, {\"date_block_num\": \"August 2014\", \"month\": \"August\", \"shop_id\": 21, \"sum\": 1749.0, \"year\": \"2014\"}, {\"date_block_num\": \"August 2014\", \"month\": \"August\", \"shop_id\": 22, \"sum\": 1260.0, \"year\": \"2014\"}, {\"date_block_num\": \"August 2014\", \"month\": \"August\", \"shop_id\": 24, \"sum\": 1719.0, \"year\": \"2014\"}, {\"date_block_num\": \"August 2014\", \"month\": \"August\", \"shop_id\": 25, \"sum\": 6205.0, \"year\": \"2014\"}, {\"date_block_num\": \"August 2014\", \"month\": \"August\", \"shop_id\": 26, \"sum\": 1527.0, \"year\": \"2014\"}, {\"date_block_num\": \"August 2014\", \"month\": \"August\", \"shop_id\": 27, \"sum\": 4760.0, \"year\": \"2014\"}, {\"date_block_num\": \"August 2014\", \"month\": \"August\", \"shop_id\": 28, \"sum\": 5802.0, \"year\": \"2014\"}, {\"date_block_num\": \"August 2014\", \"month\": \"August\", \"shop_id\": 29, \"sum\": 1559.0, \"year\": \"2014\"}, {\"date_block_num\": \"August 2014\", \"month\": \"August\", \"shop_id\": 30, \"sum\": 1688.0, \"year\": \"2014\"}, {\"date_block_num\": \"August 2014\", \"month\": \"August\", \"shop_id\": 31, \"sum\": 8248.0, \"year\": \"2014\"}, {\"date_block_num\": \"August 2014\", \"month\": \"August\", \"shop_id\": 33, \"sum\": 125.0, \"year\": \"2014\"}, {\"date_block_num\": \"August 2014\", \"month\": \"August\", \"shop_id\": 34, \"sum\": 368.0, \"year\": \"2014\"}, {\"date_block_num\": \"August 2014\", \"month\": \"August\", \"shop_id\": 35, \"sum\": 1984.0, \"year\": \"2014\"}, {\"date_block_num\": \"August 2014\", \"month\": \"August\", \"shop_id\": 37, \"sum\": 1240.0, \"year\": \"2014\"}, {\"date_block_num\": \"August 2014\", \"month\": \"August\", \"shop_id\": 38, \"sum\": 1625.0, \"year\": \"2014\"}, {\"date_block_num\": \"August 2014\", \"month\": \"August\", \"shop_id\": 39, \"sum\": 800.0, \"year\": \"2014\"}, {\"date_block_num\": \"August 2014\", \"month\": \"August\", \"shop_id\": 40, \"sum\": 336.0, \"year\": \"2014\"}, {\"date_block_num\": \"August 2014\", \"month\": \"August\", \"shop_id\": 41, \"sum\": 1119.0, \"year\": \"2014\"}, {\"date_block_num\": \"August 2014\", \"month\": \"August\", \"shop_id\": 42, \"sum\": 3769.0, \"year\": \"2014\"}, {\"date_block_num\": \"August 2014\", \"month\": \"August\", \"shop_id\": 43, \"sum\": 1454.0, \"year\": \"2014\"}, {\"date_block_num\": \"August 2014\", \"month\": \"August\", \"shop_id\": 44, \"sum\": 1082.0, \"year\": \"2014\"}, {\"date_block_num\": \"August 2014\", \"month\": \"August\", \"shop_id\": 45, \"sum\": 1255.0, \"year\": \"2014\"}, {\"date_block_num\": \"August 2014\", \"month\": \"August\", \"shop_id\": 46, \"sum\": 2432.0, \"year\": \"2014\"}, {\"date_block_num\": \"August 2014\", \"month\": \"August\", \"shop_id\": 47, \"sum\": 2109.0, \"year\": \"2014\"}, {\"date_block_num\": \"August 2014\", \"month\": \"August\", \"shop_id\": 48, \"sum\": 1838.0, \"year\": \"2014\"}, {\"date_block_num\": \"August 2014\", \"month\": \"August\", \"shop_id\": 49, \"sum\": 833.0, \"year\": \"2014\"}, {\"date_block_num\": \"August 2014\", \"month\": \"August\", \"shop_id\": 50, \"sum\": 1603.0, \"year\": \"2014\"}, {\"date_block_num\": \"August 2014\", \"month\": \"August\", \"shop_id\": 51, \"sum\": 1371.0, \"year\": \"2014\"}, {\"date_block_num\": \"August 2014\", \"month\": \"August\", \"shop_id\": 52, \"sum\": 1483.0, \"year\": \"2014\"}, {\"date_block_num\": \"August 2014\", \"month\": \"August\", \"shop_id\": 53, \"sum\": 1833.0, \"year\": \"2014\"}, {\"date_block_num\": \"August 2014\", \"month\": \"August\", \"shop_id\": 54, \"sum\": 6190.0, \"year\": \"2014\"}, {\"date_block_num\": \"August 2014\", \"month\": \"August\", \"shop_id\": 55, \"sum\": 1731.0, \"year\": \"2014\"}, {\"date_block_num\": \"August 2014\", \"month\": \"August\", \"shop_id\": 56, \"sum\": 3012.0, \"year\": \"2014\"}, {\"date_block_num\": \"August 2014\", \"month\": \"August\", \"shop_id\": 57, \"sum\": 3801.0, \"year\": \"2014\"}, {\"date_block_num\": \"August 2014\", \"month\": \"August\", \"shop_id\": 58, \"sum\": 2744.0, \"year\": \"2014\"}, {\"date_block_num\": \"August 2014\", \"month\": \"August\", \"shop_id\": 59, \"sum\": 1244.0, \"year\": \"2014\"}, {\"date_block_num\": \"September 2014\", \"month\": \"September\", \"shop_id\": 2, \"sum\": 920.0, \"year\": \"2014\"}, {\"date_block_num\": \"September 2014\", \"month\": \"September\", \"shop_id\": 3, \"sum\": 960.0, \"year\": \"2014\"}, {\"date_block_num\": \"September 2014\", \"month\": \"September\", \"shop_id\": 4, \"sum\": 1090.0, \"year\": \"2014\"}, {\"date_block_num\": \"September 2014\", \"month\": \"September\", \"shop_id\": 5, \"sum\": 1355.0, \"year\": \"2014\"}, {\"date_block_num\": \"September 2014\", \"month\": \"September\", \"shop_id\": 6, \"sum\": 2754.0, \"year\": \"2014\"}, {\"date_block_num\": \"September 2014\", \"month\": \"September\", \"shop_id\": 7, \"sum\": 1718.0, \"year\": \"2014\"}, {\"date_block_num\": \"September 2014\", \"month\": \"September\", \"shop_id\": 10, \"sum\": 744.0, \"year\": \"2014\"}, {\"date_block_num\": \"September 2014\", \"month\": \"September\", \"shop_id\": 12, \"sum\": 3400.0, \"year\": \"2014\"}, {\"date_block_num\": \"September 2014\", \"month\": \"September\", \"shop_id\": 14, \"sum\": 1274.0, \"year\": \"2014\"}, {\"date_block_num\": \"September 2014\", \"month\": \"September\", \"shop_id\": 15, \"sum\": 2033.0, \"year\": \"2014\"}, {\"date_block_num\": \"September 2014\", \"month\": \"September\", \"shop_id\": 16, \"sum\": 1553.0, \"year\": \"2014\"}, {\"date_block_num\": \"September 2014\", \"month\": \"September\", \"shop_id\": 17, \"sum\": 1218.0, \"year\": \"2014\"}, {\"date_block_num\": \"September 2014\", \"month\": \"September\", \"shop_id\": 18, \"sum\": 1359.0, \"year\": \"2014\"}, {\"date_block_num\": \"September 2014\", \"month\": \"September\", \"shop_id\": 19, \"sum\": 1703.0, \"year\": \"2014\"}, {\"date_block_num\": \"September 2014\", \"month\": \"September\", \"shop_id\": 21, \"sum\": 1897.0, \"year\": \"2014\"}, {\"date_block_num\": \"September 2014\", \"month\": \"September\", \"shop_id\": 22, \"sum\": 1754.0, \"year\": \"2014\"}, {\"date_block_num\": \"September 2014\", \"month\": \"September\", \"shop_id\": 24, \"sum\": 1488.0, \"year\": \"2014\"}, {\"date_block_num\": \"September 2014\", \"month\": \"September\", \"shop_id\": 25, \"sum\": 6158.0, \"year\": \"2014\"}, {\"date_block_num\": \"September 2014\", \"month\": \"September\", \"shop_id\": 26, \"sum\": 1910.0, \"year\": \"2014\"}, {\"date_block_num\": \"September 2014\", \"month\": \"September\", \"shop_id\": 27, \"sum\": 4026.0, \"year\": \"2014\"}, {\"date_block_num\": \"September 2014\", \"month\": \"September\", \"shop_id\": 28, \"sum\": 4403.0, \"year\": \"2014\"}, {\"date_block_num\": \"September 2014\", \"month\": \"September\", \"shop_id\": 29, \"sum\": 1723.0, \"year\": \"2014\"}, {\"date_block_num\": \"September 2014\", \"month\": \"September\", \"shop_id\": 30, \"sum\": 1976.0, \"year\": \"2014\"}, {\"date_block_num\": \"September 2014\", \"month\": \"September\", \"shop_id\": 31, \"sum\": 8583.0, \"year\": \"2014\"}, {\"date_block_num\": \"September 2014\", \"month\": \"September\", \"shop_id\": 33, \"sum\": 587.0, \"year\": \"2014\"}, {\"date_block_num\": \"September 2014\", \"month\": \"September\", \"shop_id\": 34, \"sum\": 406.0, \"year\": \"2014\"}, {\"date_block_num\": \"September 2014\", \"month\": \"September\", \"shop_id\": 35, \"sum\": 1941.0, \"year\": \"2014\"}, {\"date_block_num\": \"September 2014\", \"month\": \"September\", \"shop_id\": 37, \"sum\": 1213.0, \"year\": \"2014\"}, {\"date_block_num\": \"September 2014\", \"month\": \"September\", \"shop_id\": 38, \"sum\": 1492.0, \"year\": \"2014\"}, {\"date_block_num\": \"September 2014\", \"month\": \"September\", \"shop_id\": 39, \"sum\": 707.0, \"year\": \"2014\"}, {\"date_block_num\": \"September 2014\", \"month\": \"September\", \"shop_id\": 40, \"sum\": 374.0, \"year\": \"2014\"}, {\"date_block_num\": \"September 2014\", \"month\": \"September\", \"shop_id\": 41, \"sum\": 1001.0, \"year\": \"2014\"}, {\"date_block_num\": \"September 2014\", \"month\": \"September\", \"shop_id\": 42, \"sum\": 3740.0, \"year\": \"2014\"}, {\"date_block_num\": \"September 2014\", \"month\": \"September\", \"shop_id\": 43, \"sum\": 1873.0, \"year\": \"2014\"}, {\"date_block_num\": \"September 2014\", \"month\": \"September\", \"shop_id\": 44, \"sum\": 1039.0, \"year\": \"2014\"}, {\"date_block_num\": \"September 2014\", \"month\": \"September\", \"shop_id\": 45, \"sum\": 992.0, \"year\": \"2014\"}, {\"date_block_num\": \"September 2014\", \"month\": \"September\", \"shop_id\": 46, \"sum\": 1908.0, \"year\": \"2014\"}, {\"date_block_num\": \"September 2014\", \"month\": \"September\", \"shop_id\": 47, \"sum\": 2097.0, \"year\": \"2014\"}, {\"date_block_num\": \"September 2014\", \"month\": \"September\", \"shop_id\": 48, \"sum\": 1308.0, \"year\": \"2014\"}, {\"date_block_num\": \"September 2014\", \"month\": \"September\", \"shop_id\": 49, \"sum\": 753.0, \"year\": \"2014\"}, {\"date_block_num\": \"September 2014\", \"month\": \"September\", \"shop_id\": 50, \"sum\": 1382.0, \"year\": \"2014\"}, {\"date_block_num\": \"September 2014\", \"month\": \"September\", \"shop_id\": 51, \"sum\": 1106.0, \"year\": \"2014\"}, {\"date_block_num\": \"September 2014\", \"month\": \"September\", \"shop_id\": 52, \"sum\": 1303.0, \"year\": \"2014\"}, {\"date_block_num\": \"September 2014\", \"month\": \"September\", \"shop_id\": 53, \"sum\": 1749.0, \"year\": \"2014\"}, {\"date_block_num\": \"September 2014\", \"month\": \"September\", \"shop_id\": 54, \"sum\": 5034.0, \"year\": \"2014\"}, {\"date_block_num\": \"September 2014\", \"month\": \"September\", \"shop_id\": 55, \"sum\": 2249.0, \"year\": \"2014\"}, {\"date_block_num\": \"September 2014\", \"month\": \"September\", \"shop_id\": 56, \"sum\": 1879.0, \"year\": \"2014\"}, {\"date_block_num\": \"September 2014\", \"month\": \"September\", \"shop_id\": 57, \"sum\": 3701.0, \"year\": \"2014\"}, {\"date_block_num\": \"September 2014\", \"month\": \"September\", \"shop_id\": 58, \"sum\": 2214.0, \"year\": \"2014\"}, {\"date_block_num\": \"September 2014\", \"month\": \"September\", \"shop_id\": 59, \"sum\": 1161.0, \"year\": \"2014\"}, {\"date_block_num\": \"October 2014\", \"month\": \"October\", \"shop_id\": 2, \"sum\": 945.0, \"year\": \"2014\"}, {\"date_block_num\": \"October 2014\", \"month\": \"October\", \"shop_id\": 3, \"sum\": 805.0, \"year\": \"2014\"}, {\"date_block_num\": \"October 2014\", \"month\": \"October\", \"shop_id\": 4, \"sum\": 1180.0, \"year\": \"2014\"}, {\"date_block_num\": \"October 2014\", \"month\": \"October\", \"shop_id\": 5, \"sum\": 1187.0, \"year\": \"2014\"}, {\"date_block_num\": \"October 2014\", \"month\": \"October\", \"shop_id\": 6, \"sum\": 2555.0, \"year\": \"2014\"}, {\"date_block_num\": \"October 2014\", \"month\": \"October\", \"shop_id\": 7, \"sum\": 1651.0, \"year\": \"2014\"}, {\"date_block_num\": \"October 2014\", \"month\": \"October\", \"shop_id\": 9, \"sum\": 6155.0, \"year\": \"2014\"}, {\"date_block_num\": \"October 2014\", \"month\": \"October\", \"shop_id\": 10, \"sum\": 640.0, \"year\": \"2014\"}, {\"date_block_num\": \"October 2014\", \"month\": \"October\", \"shop_id\": 12, \"sum\": 2519.0, \"year\": \"2014\"}, {\"date_block_num\": \"October 2014\", \"month\": \"October\", \"shop_id\": 14, \"sum\": 1182.0, \"year\": \"2014\"}, {\"date_block_num\": \"October 2014\", \"month\": \"October\", \"shop_id\": 15, \"sum\": 2017.0, \"year\": \"2014\"}, {\"date_block_num\": \"October 2014\", \"month\": \"October\", \"shop_id\": 16, \"sum\": 1430.0, \"year\": \"2014\"}, {\"date_block_num\": \"October 2014\", \"month\": \"October\", \"shop_id\": 17, \"sum\": 997.0, \"year\": \"2014\"}, {\"date_block_num\": \"October 2014\", \"month\": \"October\", \"shop_id\": 18, \"sum\": 1030.0, \"year\": \"2014\"}, {\"date_block_num\": \"October 2014\", \"month\": \"October\", \"shop_id\": 19, \"sum\": 1835.0, \"year\": \"2014\"}, {\"date_block_num\": \"October 2014\", \"month\": \"October\", \"shop_id\": 20, \"sum\": 3261.0, \"year\": \"2014\"}, {\"date_block_num\": \"October 2014\", \"month\": \"October\", \"shop_id\": 21, \"sum\": 2031.0, \"year\": \"2014\"}, {\"date_block_num\": \"October 2014\", \"month\": \"October\", \"shop_id\": 22, \"sum\": 1633.0, \"year\": \"2014\"}, {\"date_block_num\": \"October 2014\", \"month\": \"October\", \"shop_id\": 24, \"sum\": 1498.0, \"year\": \"2014\"}, {\"date_block_num\": \"October 2014\", \"month\": \"October\", \"shop_id\": 25, \"sum\": 6375.0, \"year\": \"2014\"}, {\"date_block_num\": \"October 2014\", \"month\": \"October\", \"shop_id\": 26, \"sum\": 1900.0, \"year\": \"2014\"}, {\"date_block_num\": \"October 2014\", \"month\": \"October\", \"shop_id\": 27, \"sum\": 3722.0, \"year\": \"2014\"}, {\"date_block_num\": \"October 2014\", \"month\": \"October\", \"shop_id\": 28, \"sum\": 4695.0, \"year\": \"2014\"}, {\"date_block_num\": \"October 2014\", \"month\": \"October\", \"shop_id\": 29, \"sum\": 1641.0, \"year\": \"2014\"}, {\"date_block_num\": \"October 2014\", \"month\": \"October\", \"shop_id\": 30, \"sum\": 1968.0, \"year\": \"2014\"}, {\"date_block_num\": \"October 2014\", \"month\": \"October\", \"shop_id\": 31, \"sum\": 8457.0, \"year\": \"2014\"}, {\"date_block_num\": \"October 2014\", \"month\": \"October\", \"shop_id\": 33, \"sum\": 598.0, \"year\": \"2014\"}, {\"date_block_num\": \"October 2014\", \"month\": \"October\", \"shop_id\": 34, \"sum\": 317.0, \"year\": \"2014\"}, {\"date_block_num\": \"October 2014\", \"month\": \"October\", \"shop_id\": 35, \"sum\": 1808.0, \"year\": \"2014\"}, {\"date_block_num\": \"October 2014\", \"month\": \"October\", \"shop_id\": 37, \"sum\": 1074.0, \"year\": \"2014\"}, {\"date_block_num\": \"October 2014\", \"month\": \"October\", \"shop_id\": 38, \"sum\": 1315.0, \"year\": \"2014\"}, {\"date_block_num\": \"October 2014\", \"month\": \"October\", \"shop_id\": 39, \"sum\": 638.0, \"year\": \"2014\"}, {\"date_block_num\": \"October 2014\", \"month\": \"October\", \"shop_id\": 40, \"sum\": 422.0, \"year\": \"2014\"}, {\"date_block_num\": \"October 2014\", \"month\": \"October\", \"shop_id\": 41, \"sum\": 906.0, \"year\": \"2014\"}, {\"date_block_num\": \"October 2014\", \"month\": \"October\", \"shop_id\": 42, \"sum\": 3915.0, \"year\": \"2014\"}, {\"date_block_num\": \"October 2014\", \"month\": \"October\", \"shop_id\": 43, \"sum\": 1833.0, \"year\": \"2014\"}, {\"date_block_num\": \"October 2014\", \"month\": \"October\", \"shop_id\": 44, \"sum\": 1157.0, \"year\": \"2014\"}, {\"date_block_num\": \"October 2014\", \"month\": \"October\", \"shop_id\": 45, \"sum\": 933.0, \"year\": \"2014\"}, {\"date_block_num\": \"October 2014\", \"month\": \"October\", \"shop_id\": 46, \"sum\": 1842.0, \"year\": \"2014\"}, {\"date_block_num\": \"October 2014\", \"month\": \"October\", \"shop_id\": 47, \"sum\": 2117.0, \"year\": \"2014\"}, {\"date_block_num\": \"October 2014\", \"month\": \"October\", \"shop_id\": 48, \"sum\": 1317.0, \"year\": \"2014\"}, {\"date_block_num\": \"October 2014\", \"month\": \"October\", \"shop_id\": 49, \"sum\": 619.0, \"year\": \"2014\"}, {\"date_block_num\": \"October 2014\", \"month\": \"October\", \"shop_id\": 50, \"sum\": 1299.0, \"year\": \"2014\"}, {\"date_block_num\": \"October 2014\", \"month\": \"October\", \"shop_id\": 51, \"sum\": 1154.0, \"year\": \"2014\"}, {\"date_block_num\": \"October 2014\", \"month\": \"October\", \"shop_id\": 52, \"sum\": 1219.0, \"year\": \"2014\"}, {\"date_block_num\": \"October 2014\", \"month\": \"October\", \"shop_id\": 53, \"sum\": 1691.0, \"year\": \"2014\"}, {\"date_block_num\": \"October 2014\", \"month\": \"October\", \"shop_id\": 54, \"sum\": 4756.0, \"year\": \"2014\"}, {\"date_block_num\": \"October 2014\", \"month\": \"October\", \"shop_id\": 55, \"sum\": 4229.0, \"year\": \"2014\"}, {\"date_block_num\": \"October 2014\", \"month\": \"October\", \"shop_id\": 56, \"sum\": 1881.0, \"year\": \"2014\"}, {\"date_block_num\": \"October 2014\", \"month\": \"October\", \"shop_id\": 57, \"sum\": 3802.0, \"year\": \"2014\"}, {\"date_block_num\": \"October 2014\", \"month\": \"October\", \"shop_id\": 58, \"sum\": 2060.0, \"year\": \"2014\"}, {\"date_block_num\": \"October 2014\", \"month\": \"October\", \"shop_id\": 59, \"sum\": 1211.0, \"year\": \"2014\"}, {\"date_block_num\": \"November 2014\", \"month\": \"November\", \"shop_id\": 2, \"sum\": 1192.0, \"year\": \"2014\"}, {\"date_block_num\": \"November 2014\", \"month\": \"November\", \"shop_id\": 3, \"sum\": 1063.0, \"year\": \"2014\"}, {\"date_block_num\": \"November 2014\", \"month\": \"November\", \"shop_id\": 4, \"sum\": 1371.0, \"year\": \"2014\"}, {\"date_block_num\": \"November 2014\", \"month\": \"November\", \"shop_id\": 5, \"sum\": 1445.0, \"year\": \"2014\"}, {\"date_block_num\": \"November 2014\", \"month\": \"November\", \"shop_id\": 6, \"sum\": 3150.0, \"year\": \"2014\"}, {\"date_block_num\": \"November 2014\", \"month\": \"November\", \"shop_id\": 7, \"sum\": 2113.0, \"year\": \"2014\"}, {\"date_block_num\": \"November 2014\", \"month\": \"November\", \"shop_id\": 10, \"sum\": 760.0, \"year\": \"2014\"}, {\"date_block_num\": \"November 2014\", \"month\": \"November\", \"shop_id\": 12, \"sum\": 3732.0, \"year\": \"2014\"}, {\"date_block_num\": \"November 2014\", \"month\": \"November\", \"shop_id\": 14, \"sum\": 1613.0, \"year\": \"2014\"}, {\"date_block_num\": \"November 2014\", \"month\": \"November\", \"shop_id\": 15, \"sum\": 2158.0, \"year\": \"2014\"}, {\"date_block_num\": \"November 2014\", \"month\": \"November\", \"shop_id\": 16, \"sum\": 1785.0, \"year\": \"2014\"}, {\"date_block_num\": \"November 2014\", \"month\": \"November\", \"shop_id\": 17, \"sum\": 1199.0, \"year\": \"2014\"}, {\"date_block_num\": \"November 2014\", \"month\": \"November\", \"shop_id\": 18, \"sum\": 1498.0, \"year\": \"2014\"}, {\"date_block_num\": \"November 2014\", \"month\": \"November\", \"shop_id\": 19, \"sum\": 2138.0, \"year\": \"2014\"}, {\"date_block_num\": \"November 2014\", \"month\": \"November\", \"shop_id\": 21, \"sum\": 2222.0, \"year\": \"2014\"}, {\"date_block_num\": \"November 2014\", \"month\": \"November\", \"shop_id\": 22, \"sum\": 1906.0, \"year\": \"2014\"}, {\"date_block_num\": \"November 2014\", \"month\": \"November\", \"shop_id\": 24, \"sum\": 2091.0, \"year\": \"2014\"}, {\"date_block_num\": \"November 2014\", \"month\": \"November\", \"shop_id\": 25, \"sum\": 7681.0, \"year\": \"2014\"}, {\"date_block_num\": \"November 2014\", \"month\": \"November\", \"shop_id\": 26, \"sum\": 2061.0, \"year\": \"2014\"}, {\"date_block_num\": \"November 2014\", \"month\": \"November\", \"shop_id\": 27, \"sum\": 4675.0, \"year\": \"2014\"}, {\"date_block_num\": \"November 2014\", \"month\": \"November\", \"shop_id\": 28, \"sum\": 5492.0, \"year\": \"2014\"}, {\"date_block_num\": \"November 2014\", \"month\": \"November\", \"shop_id\": 29, \"sum\": 1926.0, \"year\": \"2014\"}, {\"date_block_num\": \"November 2014\", \"month\": \"November\", \"shop_id\": 30, \"sum\": 2044.0, \"year\": \"2014\"}, {\"date_block_num\": \"November 2014\", \"month\": \"November\", \"shop_id\": 31, \"sum\": 9865.0, \"year\": \"2014\"}, {\"date_block_num\": \"November 2014\", \"month\": \"November\", \"shop_id\": 33, \"sum\": 814.0, \"year\": \"2014\"}, {\"date_block_num\": \"November 2014\", \"month\": \"November\", \"shop_id\": 34, \"sum\": 441.0, \"year\": \"2014\"}, {\"date_block_num\": \"November 2014\", \"month\": \"November\", \"shop_id\": 35, \"sum\": 2344.0, \"year\": \"2014\"}, {\"date_block_num\": \"November 2014\", \"month\": \"November\", \"shop_id\": 37, \"sum\": 1496.0, \"year\": \"2014\"}, {\"date_block_num\": \"November 2014\", \"month\": \"November\", \"shop_id\": 38, \"sum\": 1709.0, \"year\": \"2014\"}, {\"date_block_num\": \"November 2014\", \"month\": \"November\", \"shop_id\": 39, \"sum\": 962.0, \"year\": \"2014\"}, {\"date_block_num\": \"November 2014\", \"month\": \"November\", \"shop_id\": 40, \"sum\": 515.0, \"year\": \"2014\"}, {\"date_block_num\": \"November 2014\", \"month\": \"November\", \"shop_id\": 41, \"sum\": 1278.0, \"year\": \"2014\"}, {\"date_block_num\": \"November 2014\", \"month\": \"November\", \"shop_id\": 42, \"sum\": 4896.0, \"year\": \"2014\"}, {\"date_block_num\": \"November 2014\", \"month\": \"November\", \"shop_id\": 43, \"sum\": 2659.0, \"year\": \"2014\"}, {\"date_block_num\": \"November 2014\", \"month\": \"November\", \"shop_id\": 44, \"sum\": 1199.0, \"year\": \"2014\"}, {\"date_block_num\": \"November 2014\", \"month\": \"November\", \"shop_id\": 45, \"sum\": 1251.0, \"year\": \"2014\"}, {\"date_block_num\": \"November 2014\", \"month\": \"November\", \"shop_id\": 46, \"sum\": 2332.0, \"year\": \"2014\"}, {\"date_block_num\": \"November 2014\", \"month\": \"November\", \"shop_id\": 47, \"sum\": 2694.0, \"year\": \"2014\"}, {\"date_block_num\": \"November 2014\", \"month\": \"November\", \"shop_id\": 48, \"sum\": 1535.0, \"year\": \"2014\"}, {\"date_block_num\": \"November 2014\", \"month\": \"November\", \"shop_id\": 49, \"sum\": 825.0, \"year\": \"2014\"}, {\"date_block_num\": \"November 2014\", \"month\": \"November\", \"shop_id\": 50, \"sum\": 1374.0, \"year\": \"2014\"}, {\"date_block_num\": \"November 2014\", \"month\": \"November\", \"shop_id\": 51, \"sum\": 1090.0, \"year\": \"2014\"}, {\"date_block_num\": \"November 2014\", \"month\": \"November\", \"shop_id\": 52, \"sum\": 1401.0, \"year\": \"2014\"}, {\"date_block_num\": \"November 2014\", \"month\": \"November\", \"shop_id\": 53, \"sum\": 1860.0, \"year\": \"2014\"}, {\"date_block_num\": \"November 2014\", \"month\": \"November\", \"shop_id\": 54, \"sum\": 6389.0, \"year\": \"2014\"}, {\"date_block_num\": \"November 2014\", \"month\": \"November\", \"shop_id\": 55, \"sum\": 3724.0, \"year\": \"2014\"}, {\"date_block_num\": \"November 2014\", \"month\": \"November\", \"shop_id\": 56, \"sum\": 2473.0, \"year\": \"2014\"}, {\"date_block_num\": \"November 2014\", \"month\": \"November\", \"shop_id\": 57, \"sum\": 3491.0, \"year\": \"2014\"}, {\"date_block_num\": \"November 2014\", \"month\": \"November\", \"shop_id\": 58, \"sum\": 2303.0, \"year\": \"2014\"}, {\"date_block_num\": \"November 2014\", \"month\": \"November\", \"shop_id\": 59, \"sum\": 1610.0, \"year\": \"2014\"}, {\"date_block_num\": \"December 2014\", \"month\": \"December\", \"shop_id\": 2, \"sum\": 1921.0, \"year\": \"2014\"}, {\"date_block_num\": \"December 2014\", \"month\": \"December\", \"shop_id\": 3, \"sum\": 1275.0, \"year\": \"2014\"}, {\"date_block_num\": \"December 2014\", \"month\": \"December\", \"shop_id\": 4, \"sum\": 2071.0, \"year\": \"2014\"}, {\"date_block_num\": \"December 2014\", \"month\": \"December\", \"shop_id\": 5, \"sum\": 2127.0, \"year\": \"2014\"}, {\"date_block_num\": \"December 2014\", \"month\": \"December\", \"shop_id\": 6, \"sum\": 4115.0, \"year\": \"2014\"}, {\"date_block_num\": \"December 2014\", \"month\": \"December\", \"shop_id\": 7, \"sum\": 3318.0, \"year\": \"2014\"}, {\"date_block_num\": \"December 2014\", \"month\": \"December\", \"shop_id\": 10, \"sum\": 1062.0, \"year\": \"2014\"}, {\"date_block_num\": \"December 2014\", \"month\": \"December\", \"shop_id\": 12, \"sum\": 4275.0, \"year\": \"2014\"}, {\"date_block_num\": \"December 2014\", \"month\": \"December\", \"shop_id\": 14, \"sum\": 1839.0, \"year\": \"2014\"}, {\"date_block_num\": \"December 2014\", \"month\": \"December\", \"shop_id\": 15, \"sum\": 2836.0, \"year\": \"2014\"}, {\"date_block_num\": \"December 2014\", \"month\": \"December\", \"shop_id\": 16, \"sum\": 2516.0, \"year\": \"2014\"}, {\"date_block_num\": \"December 2014\", \"month\": \"December\", \"shop_id\": 17, \"sum\": 1832.0, \"year\": \"2014\"}, {\"date_block_num\": \"December 2014\", \"month\": \"December\", \"shop_id\": 18, \"sum\": 1951.0, \"year\": \"2014\"}, {\"date_block_num\": \"December 2014\", \"month\": \"December\", \"shop_id\": 19, \"sum\": 3177.0, \"year\": \"2014\"}, {\"date_block_num\": \"December 2014\", \"month\": \"December\", \"shop_id\": 21, \"sum\": 3959.0, \"year\": \"2014\"}, {\"date_block_num\": \"December 2014\", \"month\": \"December\", \"shop_id\": 22, \"sum\": 2426.0, \"year\": \"2014\"}, {\"date_block_num\": \"December 2014\", \"month\": \"December\", \"shop_id\": 24, \"sum\": 2765.0, \"year\": \"2014\"}, {\"date_block_num\": \"December 2014\", \"month\": \"December\", \"shop_id\": 25, \"sum\": 12257.0, \"year\": \"2014\"}, {\"date_block_num\": \"December 2014\", \"month\": \"December\", \"shop_id\": 26, \"sum\": 3033.0, \"year\": \"2014\"}, {\"date_block_num\": \"December 2014\", \"month\": \"December\", \"shop_id\": 27, \"sum\": 7896.0, \"year\": \"2014\"}, {\"date_block_num\": \"December 2014\", \"month\": \"December\", \"shop_id\": 28, \"sum\": 7439.0, \"year\": \"2014\"}, {\"date_block_num\": \"December 2014\", \"month\": \"December\", \"shop_id\": 29, \"sum\": 2402.0, \"year\": \"2014\"}, {\"date_block_num\": \"December 2014\", \"month\": \"December\", \"shop_id\": 30, \"sum\": 2700.0, \"year\": \"2014\"}, {\"date_block_num\": \"December 2014\", \"month\": \"December\", \"shop_id\": 31, \"sum\": 14610.0, \"year\": \"2014\"}, {\"date_block_num\": \"December 2014\", \"month\": \"December\", \"shop_id\": 33, \"sum\": 1056.0, \"year\": \"2014\"}, {\"date_block_num\": \"December 2014\", \"month\": \"December\", \"shop_id\": 34, \"sum\": 658.0, \"year\": \"2014\"}, {\"date_block_num\": \"December 2014\", \"month\": \"December\", \"shop_id\": 35, \"sum\": 3499.0, \"year\": \"2014\"}, {\"date_block_num\": \"December 2014\", \"month\": \"December\", \"shop_id\": 37, \"sum\": 1953.0, \"year\": \"2014\"}, {\"date_block_num\": \"December 2014\", \"month\": \"December\", \"shop_id\": 38, \"sum\": 2675.0, \"year\": \"2014\"}, {\"date_block_num\": \"December 2014\", \"month\": \"December\", \"shop_id\": 39, \"sum\": 1459.0, \"year\": \"2014\"}, {\"date_block_num\": \"December 2014\", \"month\": \"December\", \"shop_id\": 40, \"sum\": 1024.0, \"year\": \"2014\"}, {\"date_block_num\": \"December 2014\", \"month\": \"December\", \"shop_id\": 41, \"sum\": 1700.0, \"year\": \"2014\"}, {\"date_block_num\": \"December 2014\", \"month\": \"December\", \"shop_id\": 42, \"sum\": 7256.0, \"year\": \"2014\"}, {\"date_block_num\": \"December 2014\", \"month\": \"December\", \"shop_id\": 43, \"sum\": 3139.0, \"year\": \"2014\"}, {\"date_block_num\": \"December 2014\", \"month\": \"December\", \"shop_id\": 44, \"sum\": 1648.0, \"year\": \"2014\"}, {\"date_block_num\": \"December 2014\", \"month\": \"December\", \"shop_id\": 45, \"sum\": 1551.0, \"year\": \"2014\"}, {\"date_block_num\": \"December 2014\", \"month\": \"December\", \"shop_id\": 46, \"sum\": 3226.0, \"year\": \"2014\"}, {\"date_block_num\": \"December 2014\", \"month\": \"December\", \"shop_id\": 47, \"sum\": 3679.0, \"year\": \"2014\"}, {\"date_block_num\": \"December 2014\", \"month\": \"December\", \"shop_id\": 48, \"sum\": 2425.0, \"year\": \"2014\"}, {\"date_block_num\": \"December 2014\", \"month\": \"December\", \"shop_id\": 49, \"sum\": 1270.0, \"year\": \"2014\"}, {\"date_block_num\": \"December 2014\", \"month\": \"December\", \"shop_id\": 50, \"sum\": 2141.0, \"year\": \"2014\"}, {\"date_block_num\": \"December 2014\", \"month\": \"December\", \"shop_id\": 51, \"sum\": 1652.0, \"year\": \"2014\"}, {\"date_block_num\": \"December 2014\", \"month\": \"December\", \"shop_id\": 52, \"sum\": 2243.0, \"year\": \"2014\"}, {\"date_block_num\": \"December 2014\", \"month\": \"December\", \"shop_id\": 53, \"sum\": 2511.0, \"year\": \"2014\"}, {\"date_block_num\": \"December 2014\", \"month\": \"December\", \"shop_id\": 54, \"sum\": 7677.0, \"year\": \"2014\"}, {\"date_block_num\": \"December 2014\", \"month\": \"December\", \"shop_id\": 55, \"sum\": 3799.0, \"year\": \"2014\"}, {\"date_block_num\": \"December 2014\", \"month\": \"December\", \"shop_id\": 56, \"sum\": 2853.0, \"year\": \"2014\"}, {\"date_block_num\": \"December 2014\", \"month\": \"December\", \"shop_id\": 57, \"sum\": 6839.0, \"year\": \"2014\"}, {\"date_block_num\": \"December 2014\", \"month\": \"December\", \"shop_id\": 58, \"sum\": 5081.0, \"year\": \"2014\"}, {\"date_block_num\": \"December 2014\", \"month\": \"December\", \"shop_id\": 59, \"sum\": 1939.0, \"year\": \"2014\"}, {\"date_block_num\": \"January 2015\", \"month\": \"January\", \"shop_id\": 2, \"sum\": 987.0, \"year\": \"2015\"}, {\"date_block_num\": \"January 2015\", \"month\": \"January\", \"shop_id\": 3, \"sum\": 977.0, \"year\": \"2015\"}, {\"date_block_num\": \"January 2015\", \"month\": \"January\", \"shop_id\": 4, \"sum\": 1188.0, \"year\": \"2015\"}, {\"date_block_num\": \"January 2015\", \"month\": \"January\", \"shop_id\": 5, \"sum\": 1404.0, \"year\": \"2015\"}, {\"date_block_num\": \"January 2015\", \"month\": \"January\", \"shop_id\": 6, \"sum\": 2328.0, \"year\": \"2015\"}, {\"date_block_num\": \"January 2015\", \"month\": \"January\", \"shop_id\": 7, \"sum\": 2084.0, \"year\": \"2015\"}, {\"date_block_num\": \"January 2015\", \"month\": \"January\", \"shop_id\": 10, \"sum\": 628.0, \"year\": \"2015\"}, {\"date_block_num\": \"January 2015\", \"month\": \"January\", \"shop_id\": 12, \"sum\": 2832.0, \"year\": \"2015\"}, {\"date_block_num\": \"January 2015\", \"month\": \"January\", \"shop_id\": 14, \"sum\": 1233.0, \"year\": \"2015\"}, {\"date_block_num\": \"January 2015\", \"month\": \"January\", \"shop_id\": 15, \"sum\": 2046.0, \"year\": \"2015\"}, {\"date_block_num\": \"January 2015\", \"month\": \"January\", \"shop_id\": 16, \"sum\": 1698.0, \"year\": \"2015\"}, {\"date_block_num\": \"January 2015\", \"month\": \"January\", \"shop_id\": 17, \"sum\": 689.0, \"year\": \"2015\"}, {\"date_block_num\": \"January 2015\", \"month\": \"January\", \"shop_id\": 18, \"sum\": 1337.0, \"year\": \"2015\"}, {\"date_block_num\": \"January 2015\", \"month\": \"January\", \"shop_id\": 19, \"sum\": 2108.0, \"year\": \"2015\"}, {\"date_block_num\": \"January 2015\", \"month\": \"January\", \"shop_id\": 21, \"sum\": 1923.0, \"year\": \"2015\"}, {\"date_block_num\": \"January 2015\", \"month\": \"January\", \"shop_id\": 22, \"sum\": 1255.0, \"year\": \"2015\"}, {\"date_block_num\": \"January 2015\", \"month\": \"January\", \"shop_id\": 24, \"sum\": 1750.0, \"year\": \"2015\"}, {\"date_block_num\": \"January 2015\", \"month\": \"January\", \"shop_id\": 25, \"sum\": 6611.0, \"year\": \"2015\"}, {\"date_block_num\": \"January 2015\", \"month\": \"January\", \"shop_id\": 26, \"sum\": 1715.0, \"year\": \"2015\"}, {\"date_block_num\": \"January 2015\", \"month\": \"January\", \"shop_id\": 27, \"sum\": 5660.0, \"year\": \"2015\"}, {\"date_block_num\": \"January 2015\", \"month\": \"January\", \"shop_id\": 28, \"sum\": 6879.0, \"year\": \"2015\"}, {\"date_block_num\": \"January 2015\", \"month\": \"January\", \"shop_id\": 29, \"sum\": 1564.0, \"year\": \"2015\"}, {\"date_block_num\": \"January 2015\", \"month\": \"January\", \"shop_id\": 30, \"sum\": 1842.0, \"year\": \"2015\"}, {\"date_block_num\": \"January 2015\", \"month\": \"January\", \"shop_id\": 31, \"sum\": 8815.0, \"year\": \"2015\"}, {\"date_block_num\": \"January 2015\", \"month\": \"January\", \"shop_id\": 33, \"sum\": 1006.0, \"year\": \"2015\"}, {\"date_block_num\": \"January 2015\", \"month\": \"January\", \"shop_id\": 34, \"sum\": 473.0, \"year\": \"2015\"}, {\"date_block_num\": \"January 2015\", \"month\": \"January\", \"shop_id\": 35, \"sum\": 1993.0, \"year\": \"2015\"}, {\"date_block_num\": \"January 2015\", \"month\": \"January\", \"shop_id\": 37, \"sum\": 1144.0, \"year\": \"2015\"}, {\"date_block_num\": \"January 2015\", \"month\": \"January\", \"shop_id\": 38, \"sum\": 1441.0, \"year\": \"2015\"}, {\"date_block_num\": \"January 2015\", \"month\": \"January\", \"shop_id\": 39, \"sum\": 888.0, \"year\": \"2015\"}, {\"date_block_num\": \"January 2015\", \"month\": \"January\", \"shop_id\": 40, \"sum\": 443.0, \"year\": \"2015\"}, {\"date_block_num\": \"January 2015\", \"month\": \"January\", \"shop_id\": 41, \"sum\": 1314.0, \"year\": \"2015\"}, {\"date_block_num\": \"January 2015\", \"month\": \"January\", \"shop_id\": 42, \"sum\": 4125.0, \"year\": \"2015\"}, {\"date_block_num\": \"January 2015\", \"month\": \"January\", \"shop_id\": 43, \"sum\": 1340.0, \"year\": \"2015\"}, {\"date_block_num\": \"January 2015\", \"month\": \"January\", \"shop_id\": 44, \"sum\": 932.0, \"year\": \"2015\"}, {\"date_block_num\": \"January 2015\", \"month\": \"January\", \"shop_id\": 45, \"sum\": 980.0, \"year\": \"2015\"}, {\"date_block_num\": \"January 2015\", \"month\": \"January\", \"shop_id\": 46, \"sum\": 2100.0, \"year\": \"2015\"}, {\"date_block_num\": \"January 2015\", \"month\": \"January\", \"shop_id\": 47, \"sum\": 2410.0, \"year\": \"2015\"}, {\"date_block_num\": \"January 2015\", \"month\": \"January\", \"shop_id\": 48, \"sum\": 1413.0, \"year\": \"2015\"}, {\"date_block_num\": \"January 2015\", \"month\": \"January\", \"shop_id\": 49, \"sum\": 1138.0, \"year\": \"2015\"}, {\"date_block_num\": \"January 2015\", \"month\": \"January\", \"shop_id\": 50, \"sum\": 1437.0, \"year\": \"2015\"}, {\"date_block_num\": \"January 2015\", \"month\": \"January\", \"shop_id\": 51, \"sum\": 976.0, \"year\": \"2015\"}, {\"date_block_num\": \"January 2015\", \"month\": \"January\", \"shop_id\": 52, \"sum\": 1247.0, \"year\": \"2015\"}, {\"date_block_num\": \"January 2015\", \"month\": \"January\", \"shop_id\": 53, \"sum\": 1747.0, \"year\": \"2015\"}, {\"date_block_num\": \"January 2015\", \"month\": \"January\", \"shop_id\": 54, \"sum\": 6043.0, \"year\": \"2015\"}, {\"date_block_num\": \"January 2015\", \"month\": \"January\", \"shop_id\": 55, \"sum\": 6429.0, \"year\": \"2015\"}, {\"date_block_num\": \"January 2015\", \"month\": \"January\", \"shop_id\": 56, \"sum\": 2444.0, \"year\": \"2015\"}, {\"date_block_num\": \"January 2015\", \"month\": \"January\", \"shop_id\": 57, \"sum\": 4143.0, \"year\": \"2015\"}, {\"date_block_num\": \"January 2015\", \"month\": \"January\", \"shop_id\": 58, \"sum\": 2519.0, \"year\": \"2015\"}, {\"date_block_num\": \"January 2015\", \"month\": \"January\", \"shop_id\": 59, \"sum\": 1293.0, \"year\": \"2015\"}, {\"date_block_num\": \"February 2015\", \"month\": \"February\", \"shop_id\": 2, \"sum\": 907.0, \"year\": \"2015\"}, {\"date_block_num\": \"February 2015\", \"month\": \"February\", \"shop_id\": 3, \"sum\": 738.0, \"year\": \"2015\"}, {\"date_block_num\": \"February 2015\", \"month\": \"February\", \"shop_id\": 4, \"sum\": 980.0, \"year\": \"2015\"}, {\"date_block_num\": \"February 2015\", \"month\": \"February\", \"shop_id\": 5, \"sum\": 1101.0, \"year\": \"2015\"}, {\"date_block_num\": \"February 2015\", \"month\": \"February\", \"shop_id\": 6, \"sum\": 2329.0, \"year\": \"2015\"}, {\"date_block_num\": \"February 2015\", \"month\": \"February\", \"shop_id\": 7, \"sum\": 1847.0, \"year\": \"2015\"}, {\"date_block_num\": \"February 2015\", \"month\": \"February\", \"shop_id\": 11, \"sum\": 572.0, \"year\": \"2015\"}, {\"date_block_num\": \"February 2015\", \"month\": \"February\", \"shop_id\": 12, \"sum\": 1854.0, \"year\": \"2015\"}, {\"date_block_num\": \"February 2015\", \"month\": \"February\", \"shop_id\": 14, \"sum\": 1007.0, \"year\": \"2015\"}, {\"date_block_num\": \"February 2015\", \"month\": \"February\", \"shop_id\": 15, \"sum\": 1528.0, \"year\": \"2015\"}, {\"date_block_num\": \"February 2015\", \"month\": \"February\", \"shop_id\": 16, \"sum\": 1336.0, \"year\": \"2015\"}, {\"date_block_num\": \"February 2015\", \"month\": \"February\", \"shop_id\": 18, \"sum\": 1420.0, \"year\": \"2015\"}, {\"date_block_num\": \"February 2015\", \"month\": \"February\", \"shop_id\": 19, \"sum\": 1779.0, \"year\": \"2015\"}, {\"date_block_num\": \"February 2015\", \"month\": \"February\", \"shop_id\": 21, \"sum\": 1839.0, \"year\": \"2015\"}, {\"date_block_num\": \"February 2015\", \"month\": \"February\", \"shop_id\": 22, \"sum\": 1301.0, \"year\": \"2015\"}, {\"date_block_num\": \"February 2015\", \"month\": \"February\", \"shop_id\": 24, \"sum\": 1309.0, \"year\": \"2015\"}, {\"date_block_num\": \"February 2015\", \"month\": \"February\", \"shop_id\": 25, \"sum\": 5566.0, \"year\": \"2015\"}, {\"date_block_num\": \"February 2015\", \"month\": \"February\", \"shop_id\": 26, \"sum\": 1339.0, \"year\": \"2015\"}, {\"date_block_num\": \"February 2015\", \"month\": \"February\", \"shop_id\": 27, \"sum\": 3839.0, \"year\": \"2015\"}, {\"date_block_num\": \"February 2015\", \"month\": \"February\", \"shop_id\": 28, \"sum\": 4234.0, \"year\": \"2015\"}, {\"date_block_num\": \"February 2015\", \"month\": \"February\", \"shop_id\": 29, \"sum\": 1273.0, \"year\": \"2015\"}, {\"date_block_num\": \"February 2015\", \"month\": \"February\", \"shop_id\": 30, \"sum\": 745.0, \"year\": \"2015\"}, {\"date_block_num\": \"February 2015\", \"month\": \"February\", \"shop_id\": 31, \"sum\": 7404.0, \"year\": \"2015\"}, {\"date_block_num\": \"February 2015\", \"month\": \"February\", \"shop_id\": 33, \"sum\": 792.0, \"year\": \"2015\"}, {\"date_block_num\": \"February 2015\", \"month\": \"February\", \"shop_id\": 34, \"sum\": 390.0, \"year\": \"2015\"}, {\"date_block_num\": \"February 2015\", \"month\": \"February\", \"shop_id\": 35, \"sum\": 1550.0, \"year\": \"2015\"}, {\"date_block_num\": \"February 2015\", \"month\": \"February\", \"shop_id\": 37, \"sum\": 988.0, \"year\": \"2015\"}, {\"date_block_num\": \"February 2015\", \"month\": \"February\", \"shop_id\": 38, \"sum\": 1403.0, \"year\": \"2015\"}, {\"date_block_num\": \"February 2015\", \"month\": \"February\", \"shop_id\": 39, \"sum\": 773.0, \"year\": \"2015\"}, {\"date_block_num\": \"February 2015\", \"month\": \"February\", \"shop_id\": 41, \"sum\": 925.0, \"year\": \"2015\"}, {\"date_block_num\": \"February 2015\", \"month\": \"February\", \"shop_id\": 42, \"sum\": 4063.0, \"year\": \"2015\"}, {\"date_block_num\": \"February 2015\", \"month\": \"February\", \"shop_id\": 44, \"sum\": 917.0, \"year\": \"2015\"}, {\"date_block_num\": \"February 2015\", \"month\": \"February\", \"shop_id\": 45, \"sum\": 796.0, \"year\": \"2015\"}, {\"date_block_num\": \"February 2015\", \"month\": \"February\", \"shop_id\": 46, \"sum\": 1627.0, \"year\": \"2015\"}, {\"date_block_num\": \"February 2015\", \"month\": \"February\", \"shop_id\": 47, \"sum\": 2131.0, \"year\": \"2015\"}, {\"date_block_num\": \"February 2015\", \"month\": \"February\", \"shop_id\": 48, \"sum\": 1103.0, \"year\": \"2015\"}, {\"date_block_num\": \"February 2015\", \"month\": \"February\", \"shop_id\": 49, \"sum\": 753.0, \"year\": \"2015\"}, {\"date_block_num\": \"February 2015\", \"month\": \"February\", \"shop_id\": 50, \"sum\": 1052.0, \"year\": \"2015\"}, {\"date_block_num\": \"February 2015\", \"month\": \"February\", \"shop_id\": 51, \"sum\": 660.0, \"year\": \"2015\"}, {\"date_block_num\": \"February 2015\", \"month\": \"February\", \"shop_id\": 52, \"sum\": 1117.0, \"year\": \"2015\"}, {\"date_block_num\": \"February 2015\", \"month\": \"February\", \"shop_id\": 53, \"sum\": 1342.0, \"year\": \"2015\"}, {\"date_block_num\": \"February 2015\", \"month\": \"February\", \"shop_id\": 54, \"sum\": 4221.0, \"year\": \"2015\"}, {\"date_block_num\": \"February 2015\", \"month\": \"February\", \"shop_id\": 55, \"sum\": 2551.0, \"year\": \"2015\"}, {\"date_block_num\": \"February 2015\", \"month\": \"February\", \"shop_id\": 56, \"sum\": 1691.0, \"year\": \"2015\"}, {\"date_block_num\": \"February 2015\", \"month\": \"February\", \"shop_id\": 57, \"sum\": 3540.0, \"year\": \"2015\"}, {\"date_block_num\": \"February 2015\", \"month\": \"February\", \"shop_id\": 58, \"sum\": 2360.0, \"year\": \"2015\"}, {\"date_block_num\": \"February 2015\", \"month\": \"February\", \"shop_id\": 59, \"sum\": 1206.0, \"year\": \"2015\"}, {\"date_block_num\": \"March 2015\", \"month\": \"March\", \"shop_id\": 2, \"sum\": 762.0, \"year\": \"2015\"}, {\"date_block_num\": \"March 2015\", \"month\": \"March\", \"shop_id\": 3, \"sum\": 741.0, \"year\": \"2015\"}, {\"date_block_num\": \"March 2015\", \"month\": \"March\", \"shop_id\": 4, \"sum\": 978.0, \"year\": \"2015\"}, {\"date_block_num\": \"March 2015\", \"month\": \"March\", \"shop_id\": 5, \"sum\": 1109.0, \"year\": \"2015\"}, {\"date_block_num\": \"March 2015\", \"month\": \"March\", \"shop_id\": 6, \"sum\": 1981.0, \"year\": \"2015\"}, {\"date_block_num\": \"March 2015\", \"month\": \"March\", \"shop_id\": 7, \"sum\": 1430.0, \"year\": \"2015\"}, {\"date_block_num\": \"March 2015\", \"month\": \"March\", \"shop_id\": 10, \"sum\": 565.0, \"year\": \"2015\"}, {\"date_block_num\": \"March 2015\", \"month\": \"March\", \"shop_id\": 12, \"sum\": 1886.0, \"year\": \"2015\"}, {\"date_block_num\": \"March 2015\", \"month\": \"March\", \"shop_id\": 14, \"sum\": 1002.0, \"year\": \"2015\"}, {\"date_block_num\": \"March 2015\", \"month\": \"March\", \"shop_id\": 15, \"sum\": 1384.0, \"year\": \"2015\"}, {\"date_block_num\": \"March 2015\", \"month\": \"March\", \"shop_id\": 16, \"sum\": 1187.0, \"year\": \"2015\"}, {\"date_block_num\": \"March 2015\", \"month\": \"March\", \"shop_id\": 18, \"sum\": 1435.0, \"year\": \"2015\"}, {\"date_block_num\": \"March 2015\", \"month\": \"March\", \"shop_id\": 19, \"sum\": 1547.0, \"year\": \"2015\"}, {\"date_block_num\": \"March 2015\", \"month\": \"March\", \"shop_id\": 21, \"sum\": 1687.0, \"year\": \"2015\"}, {\"date_block_num\": \"March 2015\", \"month\": \"March\", \"shop_id\": 22, \"sum\": 1547.0, \"year\": \"2015\"}, {\"date_block_num\": \"March 2015\", \"month\": \"March\", \"shop_id\": 24, \"sum\": 1284.0, \"year\": \"2015\"}, {\"date_block_num\": \"March 2015\", \"month\": \"March\", \"shop_id\": 25, \"sum\": 6007.0, \"year\": \"2015\"}, {\"date_block_num\": \"March 2015\", \"month\": \"March\", \"shop_id\": 26, \"sum\": 1486.0, \"year\": \"2015\"}, {\"date_block_num\": \"March 2015\", \"month\": \"March\", \"shop_id\": 27, \"sum\": 3634.0, \"year\": \"2015\"}, {\"date_block_num\": \"March 2015\", \"month\": \"March\", \"shop_id\": 28, \"sum\": 4139.0, \"year\": \"2015\"}, {\"date_block_num\": \"March 2015\", \"month\": \"March\", \"shop_id\": 29, \"sum\": 1239.0, \"year\": \"2015\"}, {\"date_block_num\": \"March 2015\", \"month\": \"March\", \"shop_id\": 31, \"sum\": 7294.0, \"year\": \"2015\"}, {\"date_block_num\": \"March 2015\", \"month\": \"March\", \"shop_id\": 33, \"sum\": 505.0, \"year\": \"2015\"}, {\"date_block_num\": \"March 2015\", \"month\": \"March\", \"shop_id\": 34, \"sum\": 431.0, \"year\": \"2015\"}, {\"date_block_num\": \"March 2015\", \"month\": \"March\", \"shop_id\": 35, \"sum\": 1641.0, \"year\": \"2015\"}, {\"date_block_num\": \"March 2015\", \"month\": \"March\", \"shop_id\": 37, \"sum\": 990.0, \"year\": \"2015\"}, {\"date_block_num\": \"March 2015\", \"month\": \"March\", \"shop_id\": 38, \"sum\": 1543.0, \"year\": \"2015\"}, {\"date_block_num\": \"March 2015\", \"month\": \"March\", \"shop_id\": 39, \"sum\": 873.0, \"year\": \"2015\"}, {\"date_block_num\": \"March 2015\", \"month\": \"March\", \"shop_id\": 41, \"sum\": 848.0, \"year\": \"2015\"}, {\"date_block_num\": \"March 2015\", \"month\": \"March\", \"shop_id\": 42, \"sum\": 4133.0, \"year\": \"2015\"}, {\"date_block_num\": \"March 2015\", \"month\": \"March\", \"shop_id\": 44, \"sum\": 913.0, \"year\": \"2015\"}, {\"date_block_num\": \"March 2015\", \"month\": \"March\", \"shop_id\": 45, \"sum\": 740.0, \"year\": \"2015\"}, {\"date_block_num\": \"March 2015\", \"month\": \"March\", \"shop_id\": 46, \"sum\": 1579.0, \"year\": \"2015\"}, {\"date_block_num\": \"March 2015\", \"month\": \"March\", \"shop_id\": 47, \"sum\": 2100.0, \"year\": \"2015\"}, {\"date_block_num\": \"March 2015\", \"month\": \"March\", \"shop_id\": 48, \"sum\": 1171.0, \"year\": \"2015\"}, {\"date_block_num\": \"March 2015\", \"month\": \"March\", \"shop_id\": 49, \"sum\": 679.0, \"year\": \"2015\"}, {\"date_block_num\": \"March 2015\", \"month\": \"March\", \"shop_id\": 50, \"sum\": 981.0, \"year\": \"2015\"}, {\"date_block_num\": \"March 2015\", \"month\": \"March\", \"shop_id\": 51, \"sum\": 545.0, \"year\": \"2015\"}, {\"date_block_num\": \"March 2015\", \"month\": \"March\", \"shop_id\": 52, \"sum\": 1182.0, \"year\": \"2015\"}, {\"date_block_num\": \"March 2015\", \"month\": \"March\", \"shop_id\": 53, \"sum\": 1378.0, \"year\": \"2015\"}, {\"date_block_num\": \"March 2015\", \"month\": \"March\", \"shop_id\": 54, \"sum\": 4625.0, \"year\": \"2015\"}, {\"date_block_num\": \"March 2015\", \"month\": \"March\", \"shop_id\": 55, \"sum\": 2769.0, \"year\": \"2015\"}, {\"date_block_num\": \"March 2015\", \"month\": \"March\", \"shop_id\": 56, \"sum\": 1393.0, \"year\": \"2015\"}, {\"date_block_num\": \"March 2015\", \"month\": \"March\", \"shop_id\": 57, \"sum\": 3113.0, \"year\": \"2015\"}, {\"date_block_num\": \"March 2015\", \"month\": \"March\", \"shop_id\": 58, \"sum\": 2359.0, \"year\": \"2015\"}, {\"date_block_num\": \"March 2015\", \"month\": \"March\", \"shop_id\": 59, \"sum\": 1199.0, \"year\": \"2015\"}, {\"date_block_num\": \"April 2015\", \"month\": \"April\", \"shop_id\": 2, \"sum\": 859.0, \"year\": \"2015\"}, {\"date_block_num\": \"April 2015\", \"month\": \"April\", \"shop_id\": 3, \"sum\": 740.0, \"year\": \"2015\"}, {\"date_block_num\": \"April 2015\", \"month\": \"April\", \"shop_id\": 4, \"sum\": 899.0, \"year\": \"2015\"}, {\"date_block_num\": \"April 2015\", \"month\": \"April\", \"shop_id\": 5, \"sum\": 1054.0, \"year\": \"2015\"}, {\"date_block_num\": \"April 2015\", \"month\": \"April\", \"shop_id\": 6, \"sum\": 1998.0, \"year\": \"2015\"}, {\"date_block_num\": \"April 2015\", \"month\": \"April\", \"shop_id\": 7, \"sum\": 1340.0, \"year\": \"2015\"}, {\"date_block_num\": \"April 2015\", \"month\": \"April\", \"shop_id\": 9, \"sum\": -1.0, \"year\": \"2015\"}, {\"date_block_num\": \"April 2015\", \"month\": \"April\", \"shop_id\": 10, \"sum\": 594.0, \"year\": \"2015\"}, {\"date_block_num\": \"April 2015\", \"month\": \"April\", \"shop_id\": 12, \"sum\": 3244.0, \"year\": \"2015\"}, {\"date_block_num\": \"April 2015\", \"month\": \"April\", \"shop_id\": 14, \"sum\": 1055.0, \"year\": \"2015\"}, {\"date_block_num\": \"April 2015\", \"month\": \"April\", \"shop_id\": 15, \"sum\": 1364.0, \"year\": \"2015\"}, {\"date_block_num\": \"April 2015\", \"month\": \"April\", \"shop_id\": 16, \"sum\": 1110.0, \"year\": \"2015\"}, {\"date_block_num\": \"April 2015\", \"month\": \"April\", \"shop_id\": 18, \"sum\": 1515.0, \"year\": \"2015\"}, {\"date_block_num\": \"April 2015\", \"month\": \"April\", \"shop_id\": 19, \"sum\": 1562.0, \"year\": \"2015\"}, {\"date_block_num\": \"April 2015\", \"month\": \"April\", \"shop_id\": 21, \"sum\": 2053.0, \"year\": \"2015\"}, {\"date_block_num\": \"April 2015\", \"month\": \"April\", \"shop_id\": 22, \"sum\": 1664.0, \"year\": \"2015\"}, {\"date_block_num\": \"April 2015\", \"month\": \"April\", \"shop_id\": 24, \"sum\": 1297.0, \"year\": \"2015\"}, {\"date_block_num\": \"April 2015\", \"month\": \"April\", \"shop_id\": 25, \"sum\": 6135.0, \"year\": \"2015\"}, {\"date_block_num\": \"April 2015\", \"month\": \"April\", \"shop_id\": 26, \"sum\": 1527.0, \"year\": \"2015\"}, {\"date_block_num\": \"April 2015\", \"month\": \"April\", \"shop_id\": 27, \"sum\": 3518.0, \"year\": \"2015\"}, {\"date_block_num\": \"April 2015\", \"month\": \"April\", \"shop_id\": 28, \"sum\": 3686.0, \"year\": \"2015\"}, {\"date_block_num\": \"April 2015\", \"month\": \"April\", \"shop_id\": 29, \"sum\": 1216.0, \"year\": \"2015\"}, {\"date_block_num\": \"April 2015\", \"month\": \"April\", \"shop_id\": 31, \"sum\": 7341.0, \"year\": \"2015\"}, {\"date_block_num\": \"April 2015\", \"month\": \"April\", \"shop_id\": 33, \"sum\": -1.0, \"year\": \"2015\"}, {\"date_block_num\": \"April 2015\", \"month\": \"April\", \"shop_id\": 34, \"sum\": 424.0, \"year\": \"2015\"}, {\"date_block_num\": \"April 2015\", \"month\": \"April\", \"shop_id\": 35, \"sum\": 1570.0, \"year\": \"2015\"}, {\"date_block_num\": \"April 2015\", \"month\": \"April\", \"shop_id\": 37, \"sum\": 1109.0, \"year\": \"2015\"}, {\"date_block_num\": \"April 2015\", \"month\": \"April\", \"shop_id\": 38, \"sum\": 1338.0, \"year\": \"2015\"}, {\"date_block_num\": \"April 2015\", \"month\": \"April\", \"shop_id\": 39, \"sum\": 754.0, \"year\": \"2015\"}, {\"date_block_num\": \"April 2015\", \"month\": \"April\", \"shop_id\": 41, \"sum\": 725.0, \"year\": \"2015\"}, {\"date_block_num\": \"April 2015\", \"month\": \"April\", \"shop_id\": 42, \"sum\": 4648.0, \"year\": \"2015\"}, {\"date_block_num\": \"April 2015\", \"month\": \"April\", \"shop_id\": 44, \"sum\": 887.0, \"year\": \"2015\"}, {\"date_block_num\": \"April 2015\", \"month\": \"April\", \"shop_id\": 45, \"sum\": 862.0, \"year\": \"2015\"}, {\"date_block_num\": \"April 2015\", \"month\": \"April\", \"shop_id\": 46, \"sum\": 1427.0, \"year\": \"2015\"}, {\"date_block_num\": \"April 2015\", \"month\": \"April\", \"shop_id\": 47, \"sum\": 1813.0, \"year\": \"2015\"}, {\"date_block_num\": \"April 2015\", \"month\": \"April\", \"shop_id\": 48, \"sum\": 1081.0, \"year\": \"2015\"}, {\"date_block_num\": \"April 2015\", \"month\": \"April\", \"shop_id\": 49, \"sum\": 542.0, \"year\": \"2015\"}, {\"date_block_num\": \"April 2015\", \"month\": \"April\", \"shop_id\": 50, \"sum\": 895.0, \"year\": \"2015\"}, {\"date_block_num\": \"April 2015\", \"month\": \"April\", \"shop_id\": 51, \"sum\": 494.0, \"year\": \"2015\"}, {\"date_block_num\": \"April 2015\", \"month\": \"April\", \"shop_id\": 52, \"sum\": 1152.0, \"year\": \"2015\"}, {\"date_block_num\": \"April 2015\", \"month\": \"April\", \"shop_id\": 53, \"sum\": 1322.0, \"year\": \"2015\"}, {\"date_block_num\": \"April 2015\", \"month\": \"April\", \"shop_id\": 54, \"sum\": 732.0, \"year\": \"2015\"}, {\"date_block_num\": \"April 2015\", \"month\": \"April\", \"shop_id\": 55, \"sum\": 3422.0, \"year\": \"2015\"}, {\"date_block_num\": \"April 2015\", \"month\": \"April\", \"shop_id\": 56, \"sum\": 1237.0, \"year\": \"2015\"}, {\"date_block_num\": \"April 2015\", \"month\": \"April\", \"shop_id\": 57, \"sum\": 2860.0, \"year\": \"2015\"}, {\"date_block_num\": \"April 2015\", \"month\": \"April\", \"shop_id\": 58, \"sum\": 1710.0, \"year\": \"2015\"}, {\"date_block_num\": \"April 2015\", \"month\": \"April\", \"shop_id\": 59, \"sum\": 1054.0, \"year\": \"2015\"}, {\"date_block_num\": \"May 2015\", \"month\": \"May\", \"shop_id\": 2, \"sum\": 843.0, \"year\": \"2015\"}, {\"date_block_num\": \"May 2015\", \"month\": \"May\", \"shop_id\": 3, \"sum\": 731.0, \"year\": \"2015\"}, {\"date_block_num\": \"May 2015\", \"month\": \"May\", \"shop_id\": 4, \"sum\": 893.0, \"year\": \"2015\"}, {\"date_block_num\": \"May 2015\", \"month\": \"May\", \"shop_id\": 5, \"sum\": 1012.0, \"year\": \"2015\"}, {\"date_block_num\": \"May 2015\", \"month\": \"May\", \"shop_id\": 6, \"sum\": 1748.0, \"year\": \"2015\"}, {\"date_block_num\": \"May 2015\", \"month\": \"May\", \"shop_id\": 7, \"sum\": 1217.0, \"year\": \"2015\"}, {\"date_block_num\": \"May 2015\", \"month\": \"May\", \"shop_id\": 10, \"sum\": 466.0, \"year\": \"2015\"}, {\"date_block_num\": \"May 2015\", \"month\": \"May\", \"shop_id\": 12, \"sum\": 3949.0, \"year\": \"2015\"}, {\"date_block_num\": \"May 2015\", \"month\": \"May\", \"shop_id\": 14, \"sum\": 933.0, \"year\": \"2015\"}, {\"date_block_num\": \"May 2015\", \"month\": \"May\", \"shop_id\": 15, \"sum\": 1277.0, \"year\": \"2015\"}, {\"date_block_num\": \"May 2015\", \"month\": \"May\", \"shop_id\": 16, \"sum\": 1187.0, \"year\": \"2015\"}, {\"date_block_num\": \"May 2015\", \"month\": \"May\", \"shop_id\": 18, \"sum\": 1434.0, \"year\": \"2015\"}, {\"date_block_num\": \"May 2015\", \"month\": \"May\", \"shop_id\": 19, \"sum\": 1459.0, \"year\": \"2015\"}, {\"date_block_num\": \"May 2015\", \"month\": \"May\", \"shop_id\": 21, \"sum\": 1717.0, \"year\": \"2015\"}, {\"date_block_num\": \"May 2015\", \"month\": \"May\", \"shop_id\": 22, \"sum\": 1357.0, \"year\": \"2015\"}, {\"date_block_num\": \"May 2015\", \"month\": \"May\", \"shop_id\": 24, \"sum\": 1137.0, \"year\": \"2015\"}, {\"date_block_num\": \"May 2015\", \"month\": \"May\", \"shop_id\": 25, \"sum\": 5712.0, \"year\": \"2015\"}, {\"date_block_num\": \"May 2015\", \"month\": \"May\", \"shop_id\": 26, \"sum\": 1358.0, \"year\": \"2015\"}, {\"date_block_num\": \"May 2015\", \"month\": \"May\", \"shop_id\": 27, \"sum\": 3786.0, \"year\": \"2015\"}, {\"date_block_num\": \"May 2015\", \"month\": \"May\", \"shop_id\": 28, \"sum\": 3784.0, \"year\": \"2015\"}, {\"date_block_num\": \"May 2015\", \"month\": \"May\", \"shop_id\": 29, \"sum\": 880.0, \"year\": \"2015\"}, {\"date_block_num\": \"May 2015\", \"month\": \"May\", \"shop_id\": 31, \"sum\": 6327.0, \"year\": \"2015\"}, {\"date_block_num\": \"May 2015\", \"month\": \"May\", \"shop_id\": 34, \"sum\": 409.0, \"year\": \"2015\"}, {\"date_block_num\": \"May 2015\", \"month\": \"May\", \"shop_id\": 35, \"sum\": 1537.0, \"year\": \"2015\"}, {\"date_block_num\": \"May 2015\", \"month\": \"May\", \"shop_id\": 37, \"sum\": 979.0, \"year\": \"2015\"}, {\"date_block_num\": \"May 2015\", \"month\": \"May\", \"shop_id\": 38, \"sum\": 1257.0, \"year\": \"2015\"}, {\"date_block_num\": \"May 2015\", \"month\": \"May\", \"shop_id\": 39, \"sum\": 840.0, \"year\": \"2015\"}, {\"date_block_num\": \"May 2015\", \"month\": \"May\", \"shop_id\": 41, \"sum\": 931.0, \"year\": \"2015\"}, {\"date_block_num\": \"May 2015\", \"month\": \"May\", \"shop_id\": 42, \"sum\": 4343.0, \"year\": \"2015\"}, {\"date_block_num\": \"May 2015\", \"month\": \"May\", \"shop_id\": 44, \"sum\": 820.0, \"year\": \"2015\"}, {\"date_block_num\": \"May 2015\", \"month\": \"May\", \"shop_id\": 45, \"sum\": 762.0, \"year\": \"2015\"}, {\"date_block_num\": \"May 2015\", \"month\": \"May\", \"shop_id\": 46, \"sum\": 1464.0, \"year\": \"2015\"}, {\"date_block_num\": \"May 2015\", \"month\": \"May\", \"shop_id\": 47, \"sum\": 1879.0, \"year\": \"2015\"}, {\"date_block_num\": \"May 2015\", \"month\": \"May\", \"shop_id\": 48, \"sum\": 1110.0, \"year\": \"2015\"}, {\"date_block_num\": \"May 2015\", \"month\": \"May\", \"shop_id\": 49, \"sum\": 692.0, \"year\": \"2015\"}, {\"date_block_num\": \"May 2015\", \"month\": \"May\", \"shop_id\": 50, \"sum\": 1073.0, \"year\": \"2015\"}, {\"date_block_num\": \"May 2015\", \"month\": \"May\", \"shop_id\": 51, \"sum\": 758.0, \"year\": \"2015\"}, {\"date_block_num\": \"May 2015\", \"month\": \"May\", \"shop_id\": 52, \"sum\": 894.0, \"year\": \"2015\"}, {\"date_block_num\": \"May 2015\", \"month\": \"May\", \"shop_id\": 53, \"sum\": 1206.0, \"year\": \"2015\"}, {\"date_block_num\": \"May 2015\", \"month\": \"May\", \"shop_id\": 55, \"sum\": 2117.0, \"year\": \"2015\"}, {\"date_block_num\": \"May 2015\", \"month\": \"May\", \"shop_id\": 56, \"sum\": 1315.0, \"year\": \"2015\"}, {\"date_block_num\": \"May 2015\", \"month\": \"May\", \"shop_id\": 57, \"sum\": 2408.0, \"year\": \"2015\"}, {\"date_block_num\": \"May 2015\", \"month\": \"May\", \"shop_id\": 58, \"sum\": 1378.0, \"year\": \"2015\"}, {\"date_block_num\": \"May 2015\", \"month\": \"May\", \"shop_id\": 59, \"sum\": 916.0, \"year\": \"2015\"}, {\"date_block_num\": \"June 2015\", \"month\": \"June\", \"shop_id\": 2, \"sum\": 804.0, \"year\": \"2015\"}, {\"date_block_num\": \"June 2015\", \"month\": \"June\", \"shop_id\": 3, \"sum\": 672.0, \"year\": \"2015\"}, {\"date_block_num\": \"June 2015\", \"month\": \"June\", \"shop_id\": 4, \"sum\": 793.0, \"year\": \"2015\"}, {\"date_block_num\": \"June 2015\", \"month\": \"June\", \"shop_id\": 5, \"sum\": 954.0, \"year\": \"2015\"}, {\"date_block_num\": \"June 2015\", \"month\": \"June\", \"shop_id\": 6, \"sum\": 1539.0, \"year\": \"2015\"}, {\"date_block_num\": \"June 2015\", \"month\": \"June\", \"shop_id\": 7, \"sum\": 1235.0, \"year\": \"2015\"}, {\"date_block_num\": \"June 2015\", \"month\": \"June\", \"shop_id\": 10, \"sum\": 441.0, \"year\": \"2015\"}, {\"date_block_num\": \"June 2015\", \"month\": \"June\", \"shop_id\": 12, \"sum\": 1830.0, \"year\": \"2015\"}, {\"date_block_num\": \"June 2015\", \"month\": \"June\", \"shop_id\": 14, \"sum\": 1019.0, \"year\": \"2015\"}, {\"date_block_num\": \"June 2015\", \"month\": \"June\", \"shop_id\": 15, \"sum\": 1332.0, \"year\": \"2015\"}, {\"date_block_num\": \"June 2015\", \"month\": \"June\", \"shop_id\": 16, \"sum\": 1038.0, \"year\": \"2015\"}, {\"date_block_num\": \"June 2015\", \"month\": \"June\", \"shop_id\": 18, \"sum\": 1212.0, \"year\": \"2015\"}, {\"date_block_num\": \"June 2015\", \"month\": \"June\", \"shop_id\": 19, \"sum\": 1300.0, \"year\": \"2015\"}, {\"date_block_num\": \"June 2015\", \"month\": \"June\", \"shop_id\": 21, \"sum\": 1844.0, \"year\": \"2015\"}, {\"date_block_num\": \"June 2015\", \"month\": \"June\", \"shop_id\": 22, \"sum\": 1102.0, \"year\": \"2015\"}, {\"date_block_num\": \"June 2015\", \"month\": \"June\", \"shop_id\": 24, \"sum\": 882.0, \"year\": \"2015\"}, {\"date_block_num\": \"June 2015\", \"month\": \"June\", \"shop_id\": 25, \"sum\": 5093.0, \"year\": \"2015\"}, {\"date_block_num\": \"June 2015\", \"month\": \"June\", \"shop_id\": 26, \"sum\": 953.0, \"year\": \"2015\"}, {\"date_block_num\": \"June 2015\", \"month\": \"June\", \"shop_id\": 27, \"sum\": 3357.0, \"year\": \"2015\"}, {\"date_block_num\": \"June 2015\", \"month\": \"June\", \"shop_id\": 28, \"sum\": 3921.0, \"year\": \"2015\"}, {\"date_block_num\": \"June 2015\", \"month\": \"June\", \"shop_id\": 31, \"sum\": 6160.0, \"year\": \"2015\"}, {\"date_block_num\": \"June 2015\", \"month\": \"June\", \"shop_id\": 34, \"sum\": 385.0, \"year\": \"2015\"}, {\"date_block_num\": \"June 2015\", \"month\": \"June\", \"shop_id\": 35, \"sum\": 1227.0, \"year\": \"2015\"}, {\"date_block_num\": \"June 2015\", \"month\": \"June\", \"shop_id\": 37, \"sum\": 804.0, \"year\": \"2015\"}, {\"date_block_num\": \"June 2015\", \"month\": \"June\", \"shop_id\": 38, \"sum\": 1141.0, \"year\": \"2015\"}, {\"date_block_num\": \"June 2015\", \"month\": \"June\", \"shop_id\": 39, \"sum\": 642.0, \"year\": \"2015\"}, {\"date_block_num\": \"June 2015\", \"month\": \"June\", \"shop_id\": 41, \"sum\": 680.0, \"year\": \"2015\"}, {\"date_block_num\": \"June 2015\", \"month\": \"June\", \"shop_id\": 42, \"sum\": 3618.0, \"year\": \"2015\"}, {\"date_block_num\": \"June 2015\", \"month\": \"June\", \"shop_id\": 44, \"sum\": 619.0, \"year\": \"2015\"}, {\"date_block_num\": \"June 2015\", \"month\": \"June\", \"shop_id\": 45, \"sum\": 622.0, \"year\": \"2015\"}, {\"date_block_num\": \"June 2015\", \"month\": \"June\", \"shop_id\": 46, \"sum\": 1537.0, \"year\": \"2015\"}, {\"date_block_num\": \"June 2015\", \"month\": \"June\", \"shop_id\": 47, \"sum\": 1740.0, \"year\": \"2015\"}, {\"date_block_num\": \"June 2015\", \"month\": \"June\", \"shop_id\": 48, \"sum\": 990.0, \"year\": \"2015\"}, {\"date_block_num\": \"June 2015\", \"month\": \"June\", \"shop_id\": 49, \"sum\": 789.0, \"year\": \"2015\"}, {\"date_block_num\": \"June 2015\", \"month\": \"June\", \"shop_id\": 50, \"sum\": 900.0, \"year\": \"2015\"}, {\"date_block_num\": \"June 2015\", \"month\": \"June\", \"shop_id\": 51, \"sum\": 659.0, \"year\": \"2015\"}, {\"date_block_num\": \"June 2015\", \"month\": \"June\", \"shop_id\": 52, \"sum\": 820.0, \"year\": \"2015\"}, {\"date_block_num\": \"June 2015\", \"month\": \"June\", \"shop_id\": 53, \"sum\": 1078.0, \"year\": \"2015\"}, {\"date_block_num\": \"June 2015\", \"month\": \"June\", \"shop_id\": 55, \"sum\": 1909.0, \"year\": \"2015\"}, {\"date_block_num\": \"June 2015\", \"month\": \"June\", \"shop_id\": 56, \"sum\": 1566.0, \"year\": \"2015\"}, {\"date_block_num\": \"June 2015\", \"month\": \"June\", \"shop_id\": 57, \"sum\": 2440.0, \"year\": \"2015\"}, {\"date_block_num\": \"June 2015\", \"month\": \"June\", \"shop_id\": 58, \"sum\": 1554.0, \"year\": \"2015\"}, {\"date_block_num\": \"June 2015\", \"month\": \"June\", \"shop_id\": 59, \"sum\": 913.0, \"year\": \"2015\"}, {\"date_block_num\": \"July 2015\", \"month\": \"July\", \"shop_id\": 2, \"sum\": 785.0, \"year\": \"2015\"}, {\"date_block_num\": \"July 2015\", \"month\": \"July\", \"shop_id\": 3, \"sum\": 535.0, \"year\": \"2015\"}, {\"date_block_num\": \"July 2015\", \"month\": \"July\", \"shop_id\": 4, \"sum\": 842.0, \"year\": \"2015\"}, {\"date_block_num\": \"July 2015\", \"month\": \"July\", \"shop_id\": 5, \"sum\": 991.0, \"year\": \"2015\"}, {\"date_block_num\": \"July 2015\", \"month\": \"July\", \"shop_id\": 6, \"sum\": 1484.0, \"year\": \"2015\"}, {\"date_block_num\": \"July 2015\", \"month\": \"July\", \"shop_id\": 7, \"sum\": 1327.0, \"year\": \"2015\"}, {\"date_block_num\": \"July 2015\", \"month\": \"July\", \"shop_id\": 10, \"sum\": 449.0, \"year\": \"2015\"}, {\"date_block_num\": \"July 2015\", \"month\": \"July\", \"shop_id\": 12, \"sum\": 1554.0, \"year\": \"2015\"}, {\"date_block_num\": \"July 2015\", \"month\": \"July\", \"shop_id\": 14, \"sum\": 954.0, \"year\": \"2015\"}, {\"date_block_num\": \"July 2015\", \"month\": \"July\", \"shop_id\": 15, \"sum\": 1316.0, \"year\": \"2015\"}, {\"date_block_num\": \"July 2015\", \"month\": \"July\", \"shop_id\": 16, \"sum\": 1114.0, \"year\": \"2015\"}, {\"date_block_num\": \"July 2015\", \"month\": \"July\", \"shop_id\": 18, \"sum\": 987.0, \"year\": \"2015\"}, {\"date_block_num\": \"July 2015\", \"month\": \"July\", \"shop_id\": 19, \"sum\": 1440.0, \"year\": \"2015\"}, {\"date_block_num\": \"July 2015\", \"month\": \"July\", \"shop_id\": 21, \"sum\": 1741.0, \"year\": \"2015\"}, {\"date_block_num\": \"July 2015\", \"month\": \"July\", \"shop_id\": 22, \"sum\": 993.0, \"year\": \"2015\"}, {\"date_block_num\": \"July 2015\", \"month\": \"July\", \"shop_id\": 24, \"sum\": 1014.0, \"year\": \"2015\"}, {\"date_block_num\": \"July 2015\", \"month\": \"July\", \"shop_id\": 25, \"sum\": 4676.0, \"year\": \"2015\"}, {\"date_block_num\": \"July 2015\", \"month\": \"July\", \"shop_id\": 26, \"sum\": 1007.0, \"year\": \"2015\"}, {\"date_block_num\": \"July 2015\", \"month\": \"July\", \"shop_id\": 27, \"sum\": 2478.0, \"year\": \"2015\"}, {\"date_block_num\": \"July 2015\", \"month\": \"July\", \"shop_id\": 28, \"sum\": 3612.0, \"year\": \"2015\"}, {\"date_block_num\": \"July 2015\", \"month\": \"July\", \"shop_id\": 31, \"sum\": 5987.0, \"year\": \"2015\"}, {\"date_block_num\": \"July 2015\", \"month\": \"July\", \"shop_id\": 34, \"sum\": 460.0, \"year\": \"2015\"}, {\"date_block_num\": \"July 2015\", \"month\": \"July\", \"shop_id\": 35, \"sum\": 1299.0, \"year\": \"2015\"}, {\"date_block_num\": \"July 2015\", \"month\": \"July\", \"shop_id\": 37, \"sum\": 1041.0, \"year\": \"2015\"}, {\"date_block_num\": \"July 2015\", \"month\": \"July\", \"shop_id\": 38, \"sum\": 1354.0, \"year\": \"2015\"}, {\"date_block_num\": \"July 2015\", \"month\": \"July\", \"shop_id\": 39, \"sum\": 638.0, \"year\": \"2015\"}, {\"date_block_num\": \"July 2015\", \"month\": \"July\", \"shop_id\": 41, \"sum\": 737.0, \"year\": \"2015\"}, {\"date_block_num\": \"July 2015\", \"month\": \"July\", \"shop_id\": 42, \"sum\": 3578.0, \"year\": \"2015\"}, {\"date_block_num\": \"July 2015\", \"month\": \"July\", \"shop_id\": 44, \"sum\": 678.0, \"year\": \"2015\"}, {\"date_block_num\": \"July 2015\", \"month\": \"July\", \"shop_id\": 45, \"sum\": 675.0, \"year\": \"2015\"}, {\"date_block_num\": \"July 2015\", \"month\": \"July\", \"shop_id\": 46, \"sum\": 1642.0, \"year\": \"2015\"}, {\"date_block_num\": \"July 2015\", \"month\": \"July\", \"shop_id\": 47, \"sum\": 1700.0, \"year\": \"2015\"}, {\"date_block_num\": \"July 2015\", \"month\": \"July\", \"shop_id\": 48, \"sum\": 1102.0, \"year\": \"2015\"}, {\"date_block_num\": \"July 2015\", \"month\": \"July\", \"shop_id\": 49, \"sum\": 856.0, \"year\": \"2015\"}, {\"date_block_num\": \"July 2015\", \"month\": \"July\", \"shop_id\": 50, \"sum\": 1126.0, \"year\": \"2015\"}, {\"date_block_num\": \"July 2015\", \"month\": \"July\", \"shop_id\": 51, \"sum\": 748.0, \"year\": \"2015\"}, {\"date_block_num\": \"July 2015\", \"month\": \"July\", \"shop_id\": 52, \"sum\": 828.0, \"year\": \"2015\"}, {\"date_block_num\": \"July 2015\", \"month\": \"July\", \"shop_id\": 53, \"sum\": 1257.0, \"year\": \"2015\"}, {\"date_block_num\": \"July 2015\", \"month\": \"July\", \"shop_id\": 55, \"sum\": 1658.0, \"year\": \"2015\"}, {\"date_block_num\": \"July 2015\", \"month\": \"July\", \"shop_id\": 56, \"sum\": 1491.0, \"year\": \"2015\"}, {\"date_block_num\": \"July 2015\", \"month\": \"July\", \"shop_id\": 57, \"sum\": 2352.0, \"year\": \"2015\"}, {\"date_block_num\": \"July 2015\", \"month\": \"July\", \"shop_id\": 58, \"sum\": 1689.0, \"year\": \"2015\"}, {\"date_block_num\": \"July 2015\", \"month\": \"July\", \"shop_id\": 59, \"sum\": 992.0, \"year\": \"2015\"}, {\"date_block_num\": \"August 2015\", \"month\": \"August\", \"shop_id\": 2, \"sum\": 942.0, \"year\": \"2015\"}, {\"date_block_num\": \"August 2015\", \"month\": \"August\", \"shop_id\": 3, \"sum\": 666.0, \"year\": \"2015\"}, {\"date_block_num\": \"August 2015\", \"month\": \"August\", \"shop_id\": 4, \"sum\": 947.0, \"year\": \"2015\"}, {\"date_block_num\": \"August 2015\", \"month\": \"August\", \"shop_id\": 5, \"sum\": 1294.0, \"year\": \"2015\"}, {\"date_block_num\": \"August 2015\", \"month\": \"August\", \"shop_id\": 6, \"sum\": 1575.0, \"year\": \"2015\"}, {\"date_block_num\": \"August 2015\", \"month\": \"August\", \"shop_id\": 7, \"sum\": 1409.0, \"year\": \"2015\"}, {\"date_block_num\": \"August 2015\", \"month\": \"August\", \"shop_id\": 10, \"sum\": 442.0, \"year\": \"2015\"}, {\"date_block_num\": \"August 2015\", \"month\": \"August\", \"shop_id\": 12, \"sum\": 1471.0, \"year\": \"2015\"}, {\"date_block_num\": \"August 2015\", \"month\": \"August\", \"shop_id\": 14, \"sum\": 1061.0, \"year\": \"2015\"}, {\"date_block_num\": \"August 2015\", \"month\": \"August\", \"shop_id\": 15, \"sum\": 1360.0, \"year\": \"2015\"}, {\"date_block_num\": \"August 2015\", \"month\": \"August\", \"shop_id\": 16, \"sum\": 1231.0, \"year\": \"2015\"}, {\"date_block_num\": \"August 2015\", \"month\": \"August\", \"shop_id\": 18, \"sum\": 1184.0, \"year\": \"2015\"}, {\"date_block_num\": \"August 2015\", \"month\": \"August\", \"shop_id\": 19, \"sum\": 1533.0, \"year\": \"2015\"}, {\"date_block_num\": \"August 2015\", \"month\": \"August\", \"shop_id\": 21, \"sum\": 1622.0, \"year\": \"2015\"}, {\"date_block_num\": \"August 2015\", \"month\": \"August\", \"shop_id\": 22, \"sum\": 1044.0, \"year\": \"2015\"}, {\"date_block_num\": \"August 2015\", \"month\": \"August\", \"shop_id\": 24, \"sum\": 1186.0, \"year\": \"2015\"}, {\"date_block_num\": \"August 2015\", \"month\": \"August\", \"shop_id\": 25, \"sum\": 4675.0, \"year\": \"2015\"}, {\"date_block_num\": \"August 2015\", \"month\": \"August\", \"shop_id\": 26, \"sum\": 1189.0, \"year\": \"2015\"}, {\"date_block_num\": \"August 2015\", \"month\": \"August\", \"shop_id\": 28, \"sum\": 3749.0, \"year\": \"2015\"}, {\"date_block_num\": \"August 2015\", \"month\": \"August\", \"shop_id\": 31, \"sum\": 5714.0, \"year\": \"2015\"}, {\"date_block_num\": \"August 2015\", \"month\": \"August\", \"shop_id\": 34, \"sum\": 484.0, \"year\": \"2015\"}, {\"date_block_num\": \"August 2015\", \"month\": \"August\", \"shop_id\": 35, \"sum\": 1653.0, \"year\": \"2015\"}, {\"date_block_num\": \"August 2015\", \"month\": \"August\", \"shop_id\": 37, \"sum\": 1248.0, \"year\": \"2015\"}, {\"date_block_num\": \"August 2015\", \"month\": \"August\", \"shop_id\": 38, \"sum\": 1781.0, \"year\": \"2015\"}, {\"date_block_num\": \"August 2015\", \"month\": \"August\", \"shop_id\": 39, \"sum\": 910.0, \"year\": \"2015\"}, {\"date_block_num\": \"August 2015\", \"month\": \"August\", \"shop_id\": 41, \"sum\": 892.0, \"year\": \"2015\"}, {\"date_block_num\": \"August 2015\", \"month\": \"August\", \"shop_id\": 42, \"sum\": 3832.0, \"year\": \"2015\"}, {\"date_block_num\": \"August 2015\", \"month\": \"August\", \"shop_id\": 44, \"sum\": 769.0, \"year\": \"2015\"}, {\"date_block_num\": \"August 2015\", \"month\": \"August\", \"shop_id\": 45, \"sum\": 710.0, \"year\": \"2015\"}, {\"date_block_num\": \"August 2015\", \"month\": \"August\", \"shop_id\": 46, \"sum\": 1670.0, \"year\": \"2015\"}, {\"date_block_num\": \"August 2015\", \"month\": \"August\", \"shop_id\": 47, \"sum\": 2003.0, \"year\": \"2015\"}, {\"date_block_num\": \"August 2015\", \"month\": \"August\", \"shop_id\": 48, \"sum\": 1308.0, \"year\": \"2015\"}, {\"date_block_num\": \"August 2015\", \"month\": \"August\", \"shop_id\": 49, \"sum\": 966.0, \"year\": \"2015\"}, {\"date_block_num\": \"August 2015\", \"month\": \"August\", \"shop_id\": 50, \"sum\": 1081.0, \"year\": \"2015\"}, {\"date_block_num\": \"August 2015\", \"month\": \"August\", \"shop_id\": 51, \"sum\": 916.0, \"year\": \"2015\"}, {\"date_block_num\": \"August 2015\", \"month\": \"August\", \"shop_id\": 52, \"sum\": 932.0, \"year\": \"2015\"}, {\"date_block_num\": \"August 2015\", \"month\": \"August\", \"shop_id\": 53, \"sum\": 1318.0, \"year\": \"2015\"}, {\"date_block_num\": \"August 2015\", \"month\": \"August\", \"shop_id\": 55, \"sum\": 1976.0, \"year\": \"2015\"}, {\"date_block_num\": \"August 2015\", \"month\": \"August\", \"shop_id\": 56, \"sum\": 1604.0, \"year\": \"2015\"}, {\"date_block_num\": \"August 2015\", \"month\": \"August\", \"shop_id\": 57, \"sum\": 2780.0, \"year\": \"2015\"}, {\"date_block_num\": \"August 2015\", \"month\": \"August\", \"shop_id\": 58, \"sum\": 1738.0, \"year\": \"2015\"}, {\"date_block_num\": \"August 2015\", \"month\": \"August\", \"shop_id\": 59, \"sum\": 1214.0, \"year\": \"2015\"}, {\"date_block_num\": \"September 2015\", \"month\": \"September\", \"shop_id\": 2, \"sum\": 822.0, \"year\": \"2015\"}, {\"date_block_num\": \"September 2015\", \"month\": \"September\", \"shop_id\": 3, \"sum\": 745.0, \"year\": \"2015\"}, {\"date_block_num\": \"September 2015\", \"month\": \"September\", \"shop_id\": 4, \"sum\": 732.0, \"year\": \"2015\"}, {\"date_block_num\": \"September 2015\", \"month\": \"September\", \"shop_id\": 5, \"sum\": 1092.0, \"year\": \"2015\"}, {\"date_block_num\": \"September 2015\", \"month\": \"September\", \"shop_id\": 6, \"sum\": 1725.0, \"year\": \"2015\"}, {\"date_block_num\": \"September 2015\", \"month\": \"September\", \"shop_id\": 7, \"sum\": 1287.0, \"year\": \"2015\"}, {\"date_block_num\": \"September 2015\", \"month\": \"September\", \"shop_id\": 10, \"sum\": 519.0, \"year\": \"2015\"}, {\"date_block_num\": \"September 2015\", \"month\": \"September\", \"shop_id\": 12, \"sum\": 5215.0, \"year\": \"2015\"}, {\"date_block_num\": \"September 2015\", \"month\": \"September\", \"shop_id\": 14, \"sum\": 1094.0, \"year\": \"2015\"}, {\"date_block_num\": \"September 2015\", \"month\": \"September\", \"shop_id\": 15, \"sum\": 1267.0, \"year\": \"2015\"}, {\"date_block_num\": \"September 2015\", \"month\": \"September\", \"shop_id\": 16, \"sum\": 1067.0, \"year\": \"2015\"}, {\"date_block_num\": \"September 2015\", \"month\": \"September\", \"shop_id\": 18, \"sum\": 1404.0, \"year\": \"2015\"}, {\"date_block_num\": \"September 2015\", \"month\": \"September\", \"shop_id\": 19, \"sum\": 1231.0, \"year\": \"2015\"}, {\"date_block_num\": \"September 2015\", \"month\": \"September\", \"shop_id\": 21, \"sum\": 1900.0, \"year\": \"2015\"}, {\"date_block_num\": \"September 2015\", \"month\": \"September\", \"shop_id\": 22, \"sum\": 1432.0, \"year\": \"2015\"}, {\"date_block_num\": \"September 2015\", \"month\": \"September\", \"shop_id\": 24, \"sum\": 1492.0, \"year\": \"2015\"}, {\"date_block_num\": \"September 2015\", \"month\": \"September\", \"shop_id\": 25, \"sum\": 5893.0, \"year\": \"2015\"}, {\"date_block_num\": \"September 2015\", \"month\": \"September\", \"shop_id\": 26, \"sum\": 1553.0, \"year\": \"2015\"}, {\"date_block_num\": \"September 2015\", \"month\": \"September\", \"shop_id\": 27, \"sum\": -1.0, \"year\": \"2015\"}, {\"date_block_num\": \"September 2015\", \"month\": \"September\", \"shop_id\": 28, \"sum\": 2979.0, \"year\": \"2015\"}, {\"date_block_num\": \"September 2015\", \"month\": \"September\", \"shop_id\": 31, \"sum\": 6505.0, \"year\": \"2015\"}, {\"date_block_num\": \"September 2015\", \"month\": \"September\", \"shop_id\": 34, \"sum\": 420.0, \"year\": \"2015\"}, {\"date_block_num\": \"September 2015\", \"month\": \"September\", \"shop_id\": 35, \"sum\": 1548.0, \"year\": \"2015\"}, {\"date_block_num\": \"September 2015\", \"month\": \"September\", \"shop_id\": 37, \"sum\": 978.0, \"year\": \"2015\"}, {\"date_block_num\": \"September 2015\", \"month\": \"September\", \"shop_id\": 38, \"sum\": 1345.0, \"year\": \"2015\"}, {\"date_block_num\": \"September 2015\", \"month\": \"September\", \"shop_id\": 39, \"sum\": 907.0, \"year\": \"2015\"}, {\"date_block_num\": \"September 2015\", \"month\": \"September\", \"shop_id\": 41, \"sum\": 686.0, \"year\": \"2015\"}, {\"date_block_num\": \"September 2015\", \"month\": \"September\", \"shop_id\": 42, \"sum\": 4237.0, \"year\": \"2015\"}, {\"date_block_num\": \"September 2015\", \"month\": \"September\", \"shop_id\": 44, \"sum\": 759.0, \"year\": \"2015\"}, {\"date_block_num\": \"September 2015\", \"month\": \"September\", \"shop_id\": 45, \"sum\": 654.0, \"year\": \"2015\"}, {\"date_block_num\": \"September 2015\", \"month\": \"September\", \"shop_id\": 46, \"sum\": 1357.0, \"year\": \"2015\"}, {\"date_block_num\": \"September 2015\", \"month\": \"September\", \"shop_id\": 47, \"sum\": 1926.0, \"year\": \"2015\"}, {\"date_block_num\": \"September 2015\", \"month\": \"September\", \"shop_id\": 48, \"sum\": 1101.0, \"year\": \"2015\"}, {\"date_block_num\": \"September 2015\", \"month\": \"September\", \"shop_id\": 49, \"sum\": 567.0, \"year\": \"2015\"}, {\"date_block_num\": \"September 2015\", \"month\": \"September\", \"shop_id\": 50, \"sum\": 906.0, \"year\": \"2015\"}, {\"date_block_num\": \"September 2015\", \"month\": \"September\", \"shop_id\": 51, \"sum\": 624.0, \"year\": \"2015\"}, {\"date_block_num\": \"September 2015\", \"month\": \"September\", \"shop_id\": 52, \"sum\": 1086.0, \"year\": \"2015\"}, {\"date_block_num\": \"September 2015\", \"month\": \"September\", \"shop_id\": 53, \"sum\": 1229.0, \"year\": \"2015\"}, {\"date_block_num\": \"September 2015\", \"month\": \"September\", \"shop_id\": 55, \"sum\": 6867.0, \"year\": \"2015\"}, {\"date_block_num\": \"September 2015\", \"month\": \"September\", \"shop_id\": 56, \"sum\": 1194.0, \"year\": \"2015\"}, {\"date_block_num\": \"September 2015\", \"month\": \"September\", \"shop_id\": 57, \"sum\": 2266.0, \"year\": \"2015\"}, {\"date_block_num\": \"September 2015\", \"month\": \"September\", \"shop_id\": 58, \"sum\": 1319.0, \"year\": \"2015\"}, {\"date_block_num\": \"September 2015\", \"month\": \"September\", \"shop_id\": 59, \"sum\": 914.0, \"year\": \"2015\"}, {\"date_block_num\": \"October 2015\", \"month\": \"October\", \"shop_id\": 2, \"sum\": 727.0, \"year\": \"2015\"}, {\"date_block_num\": \"October 2015\", \"month\": \"October\", \"shop_id\": 3, \"sum\": 613.0, \"year\": \"2015\"}, {\"date_block_num\": \"October 2015\", \"month\": \"October\", \"shop_id\": 4, \"sum\": 831.0, \"year\": \"2015\"}, {\"date_block_num\": \"October 2015\", \"month\": \"October\", \"shop_id\": 5, \"sum\": 1052.0, \"year\": \"2015\"}, {\"date_block_num\": \"October 2015\", \"month\": \"October\", \"shop_id\": 6, \"sum\": 1802.0, \"year\": \"2015\"}, {\"date_block_num\": \"October 2015\", \"month\": \"October\", \"shop_id\": 7, \"sum\": 1212.0, \"year\": \"2015\"}, {\"date_block_num\": \"October 2015\", \"month\": \"October\", \"shop_id\": 9, \"sum\": 3186.0, \"year\": \"2015\"}, {\"date_block_num\": \"October 2015\", \"month\": \"October\", \"shop_id\": 10, \"sum\": 428.0, \"year\": \"2015\"}, {\"date_block_num\": \"October 2015\", \"month\": \"October\", \"shop_id\": 12, \"sum\": 4181.0, \"year\": \"2015\"}, {\"date_block_num\": \"October 2015\", \"month\": \"October\", \"shop_id\": 14, \"sum\": 1002.0, \"year\": \"2015\"}, {\"date_block_num\": \"October 2015\", \"month\": \"October\", \"shop_id\": 15, \"sum\": 1243.0, \"year\": \"2015\"}, {\"date_block_num\": \"October 2015\", \"month\": \"October\", \"shop_id\": 16, \"sum\": 963.0, \"year\": \"2015\"}, {\"date_block_num\": \"October 2015\", \"month\": \"October\", \"shop_id\": 18, \"sum\": 1211.0, \"year\": \"2015\"}, {\"date_block_num\": \"October 2015\", \"month\": \"October\", \"shop_id\": 19, \"sum\": 1449.0, \"year\": \"2015\"}, {\"date_block_num\": \"October 2015\", \"month\": \"October\", \"shop_id\": 20, \"sum\": 2611.0, \"year\": \"2015\"}, {\"date_block_num\": \"October 2015\", \"month\": \"October\", \"shop_id\": 21, \"sum\": 1912.0, \"year\": \"2015\"}, {\"date_block_num\": \"October 2015\", \"month\": \"October\", \"shop_id\": 22, \"sum\": 1336.0, \"year\": \"2015\"}, {\"date_block_num\": \"October 2015\", \"month\": \"October\", \"shop_id\": 24, \"sum\": 1227.0, \"year\": \"2015\"}, {\"date_block_num\": \"October 2015\", \"month\": \"October\", \"shop_id\": 25, \"sum\": 6247.0, \"year\": \"2015\"}, {\"date_block_num\": \"October 2015\", \"month\": \"October\", \"shop_id\": 26, \"sum\": 1409.0, \"year\": \"2015\"}, {\"date_block_num\": \"October 2015\", \"month\": \"October\", \"shop_id\": 28, \"sum\": 3018.0, \"year\": \"2015\"}, {\"date_block_num\": \"October 2015\", \"month\": \"October\", \"shop_id\": 31, \"sum\": 6112.0, \"year\": \"2015\"}, {\"date_block_num\": \"October 2015\", \"month\": \"October\", \"shop_id\": 34, \"sum\": 383.0, \"year\": \"2015\"}, {\"date_block_num\": \"October 2015\", \"month\": \"October\", \"shop_id\": 35, \"sum\": 1418.0, \"year\": \"2015\"}, {\"date_block_num\": \"October 2015\", \"month\": \"October\", \"shop_id\": 36, \"sum\": 330.0, \"year\": \"2015\"}, {\"date_block_num\": \"October 2015\", \"month\": \"October\", \"shop_id\": 37, \"sum\": 833.0, \"year\": \"2015\"}, {\"date_block_num\": \"October 2015\", \"month\": \"October\", \"shop_id\": 38, \"sum\": 1110.0, \"year\": \"2015\"}, {\"date_block_num\": \"October 2015\", \"month\": \"October\", \"shop_id\": 39, \"sum\": 997.0, \"year\": \"2015\"}, {\"date_block_num\": \"October 2015\", \"month\": \"October\", \"shop_id\": 41, \"sum\": 742.0, \"year\": \"2015\"}, {\"date_block_num\": \"October 2015\", \"month\": \"October\", \"shop_id\": 42, \"sum\": 4491.0, \"year\": \"2015\"}, {\"date_block_num\": \"October 2015\", \"month\": \"October\", \"shop_id\": 44, \"sum\": 779.0, \"year\": \"2015\"}, {\"date_block_num\": \"October 2015\", \"month\": \"October\", \"shop_id\": 45, \"sum\": 702.0, \"year\": \"2015\"}, {\"date_block_num\": \"October 2015\", \"month\": \"October\", \"shop_id\": 46, \"sum\": 1320.0, \"year\": \"2015\"}, {\"date_block_num\": \"October 2015\", \"month\": \"October\", \"shop_id\": 47, \"sum\": 1776.0, \"year\": \"2015\"}, {\"date_block_num\": \"October 2015\", \"month\": \"October\", \"shop_id\": 48, \"sum\": 1111.0, \"year\": \"2015\"}, {\"date_block_num\": \"October 2015\", \"month\": \"October\", \"shop_id\": 49, \"sum\": 648.0, \"year\": \"2015\"}, {\"date_block_num\": \"October 2015\", \"month\": \"October\", \"shop_id\": 50, \"sum\": 949.0, \"year\": \"2015\"}, {\"date_block_num\": \"October 2015\", \"month\": \"October\", \"shop_id\": 52, \"sum\": 847.0, \"year\": \"2015\"}, {\"date_block_num\": \"October 2015\", \"month\": \"October\", \"shop_id\": 53, \"sum\": 1061.0, \"year\": \"2015\"}, {\"date_block_num\": \"October 2015\", \"month\": \"October\", \"shop_id\": 55, \"sum\": 1972.0, \"year\": \"2015\"}, {\"date_block_num\": \"October 2015\", \"month\": \"October\", \"shop_id\": 56, \"sum\": 1263.0, \"year\": \"2015\"}, {\"date_block_num\": \"October 2015\", \"month\": \"October\", \"shop_id\": 57, \"sum\": 2316.0, \"year\": \"2015\"}, {\"date_block_num\": \"October 2015\", \"month\": \"October\", \"shop_id\": 58, \"sum\": 1446.0, \"year\": \"2015\"}, {\"date_block_num\": \"October 2015\", \"month\": \"October\", \"shop_id\": 59, \"sum\": 790.0, \"year\": \"2015\"}]}, \"vconcat\": [{\"data\": {\"name\": \"data-96320a5673b0f35f146fc7ba704f6a99\"}, \"encoding\": {\"color\": {\"aggregate\": \"mean\", \"field\": \"sum\", \"type\": \"quantitative\"}, \"x\": {\"field\": \"shop_id\", \"type\": \"nominal\"}, \"y\": {\"field\": \"month\", \"type\": \"nominal\"}}, \"mark\": \"rect\"}, {\"data\": {\"name\": \"data-96320a5673b0f35f146fc7ba704f6a99\"}, \"encoding\": {\"color\": {\"aggregate\": \"mean\", \"field\": \"sum\", \"type\": \"quantitative\"}, \"x\": {\"field\": \"shop_id\", \"type\": \"nominal\"}, \"y\": {\"field\": \"year\", \"type\": \"nominal\"}}, \"mark\": \"rect\"}]};     \n",
       "        vegaEmbed(\"#vega-chart-2\", spec, {defaultStyle: true}).catch(console.warn);\n",
       "    });\n",
       "    </script>\n",
       "    "
      ],
      "text/plain": [
       "<IPython.core.display.HTML object>"
      ]
     },
     "execution_count": 118,
     "metadata": {},
     "output_type": "execute_result"
    }
   ],
   "source": [
    "render_alt(chart)"
   ]
  }
 ],
 "metadata": {
  "kernelspec": {
   "display_name": "Python 3",
   "language": "python",
   "name": "python3"
  },
  "language_info": {
   "codemirror_mode": {
    "name": "ipython",
    "version": 3
   },
   "file_extension": ".py",
   "mimetype": "text/x-python",
   "name": "python",
   "nbconvert_exporter": "python",
   "pygments_lexer": "ipython3",
   "version": "3.6.6"
  }
 },
 "nbformat": 4,
 "nbformat_minor": 1
}
