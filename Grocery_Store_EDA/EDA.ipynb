{
 "cells": [
  {
   "cell_type": "code",
   "execution_count": null,
   "id": "fb5a22c9",
   "metadata": {},
   "outputs": [],
   "source": [
    "import pandas as pd \n",
    "import numpy as np "
   ]
  },
  {
   "cell_type": "markdown",
   "id": "b4856a6f",
   "metadata": {},
   "source": [
    "# Open the csv files"
   ]
  },
  {
   "cell_type": "code",
   "execution_count": null,
   "id": "f77e3da7",
   "metadata": {},
   "outputs": [],
   "source": [
    "orders=pd.read_csv(r\"C:\\Users\\Lenovo\\Downloads\\Grocery recommend data\\orders.csv\")\n",
    "order_full_detail=pd.read_csv(r\"C:\\Users\\Lenovo\\Downloads\\Grocery recommend data\\order_products__prior.csv\")\n",
    "train=pd.read_csv(r\"C:\\Users\\Lenovo\\Downloads\\Grocery recommend data\\order_products__train.csv\")\n",
    "departments=pd.read_csv(r\"C:\\Users\\Lenovo\\Downloads\\Grocery recommend data\\departments.csv\")\n",
    "aisles=pd.read_csv(r\"C:\\Users\\Lenovo\\Downloads\\Grocery recommend data\\aisles.csv\")\n",
    "products=pd.read_csv(r\"C:\\Users\\Lenovo\\Downloads\\Grocery recommend data\\products.csv\")"
   ]
  },
  {
   "cell_type": "markdown",
   "id": "2f7e213b",
   "metadata": {},
   "source": [
    "# Look inside of the files"
   ]
  },
  {
   "cell_type": "code",
   "execution_count": null,
   "id": "77d805f4",
   "metadata": {},
   "outputs": [
    {
     "data": {
      "text/html": [
       "<div>\n",
       "<style scoped>\n",
       "    .dataframe tbody tr th:only-of-type {\n",
       "        vertical-align: middle;\n",
       "    }\n",
       "\n",
       "    .dataframe tbody tr th {\n",
       "        vertical-align: top;\n",
       "    }\n",
       "\n",
       "    .dataframe thead th {\n",
       "        text-align: right;\n",
       "    }\n",
       "</style>\n",
       "<table border=\"1\" class=\"dataframe\">\n",
       "  <thead>\n",
       "    <tr style=\"text-align: right;\">\n",
       "      <th></th>\n",
       "      <th>order_id</th>\n",
       "      <th>user_id</th>\n",
       "      <th>eval_set</th>\n",
       "      <th>order_number</th>\n",
       "      <th>order_dow</th>\n",
       "      <th>order_hour_of_day</th>\n",
       "      <th>days_since_prior_order</th>\n",
       "    </tr>\n",
       "  </thead>\n",
       "  <tbody>\n",
       "    <tr>\n",
       "      <th>0</th>\n",
       "      <td>2539329</td>\n",
       "      <td>1</td>\n",
       "      <td>prior</td>\n",
       "      <td>1</td>\n",
       "      <td>2</td>\n",
       "      <td>8</td>\n",
       "      <td>NaN</td>\n",
       "    </tr>\n",
       "    <tr>\n",
       "      <th>1</th>\n",
       "      <td>2398795</td>\n",
       "      <td>1</td>\n",
       "      <td>prior</td>\n",
       "      <td>2</td>\n",
       "      <td>3</td>\n",
       "      <td>7</td>\n",
       "      <td>15.0</td>\n",
       "    </tr>\n",
       "    <tr>\n",
       "      <th>2</th>\n",
       "      <td>473747</td>\n",
       "      <td>1</td>\n",
       "      <td>prior</td>\n",
       "      <td>3</td>\n",
       "      <td>3</td>\n",
       "      <td>12</td>\n",
       "      <td>21.0</td>\n",
       "    </tr>\n",
       "    <tr>\n",
       "      <th>3</th>\n",
       "      <td>2254736</td>\n",
       "      <td>1</td>\n",
       "      <td>prior</td>\n",
       "      <td>4</td>\n",
       "      <td>4</td>\n",
       "      <td>7</td>\n",
       "      <td>29.0</td>\n",
       "    </tr>\n",
       "    <tr>\n",
       "      <th>4</th>\n",
       "      <td>431534</td>\n",
       "      <td>1</td>\n",
       "      <td>prior</td>\n",
       "      <td>5</td>\n",
       "      <td>4</td>\n",
       "      <td>15</td>\n",
       "      <td>28.0</td>\n",
       "    </tr>\n",
       "  </tbody>\n",
       "</table>\n",
       "</div>"
      ],
      "text/plain": [
       "   order_id  user_id eval_set  order_number  order_dow  order_hour_of_day  \\\n",
       "0   2539329        1    prior             1          2                  8   \n",
       "1   2398795        1    prior             2          3                  7   \n",
       "2    473747        1    prior             3          3                 12   \n",
       "3   2254736        1    prior             4          4                  7   \n",
       "4    431534        1    prior             5          4                 15   \n",
       "\n",
       "   days_since_prior_order  \n",
       "0                     NaN  \n",
       "1                    15.0  \n",
       "2                    21.0  \n",
       "3                    29.0  \n",
       "4                    28.0  "
      ]
     },
     "execution_count": 3,
     "metadata": {},
     "output_type": "execute_result"
    }
   ],
   "source": [
    "orders.head()"
   ]
  },
  {
   "cell_type": "code",
   "execution_count": null,
   "id": "9aa7ae16",
   "metadata": {},
   "outputs": [
    {
     "data": {
      "text/html": [
       "<div>\n",
       "<style scoped>\n",
       "    .dataframe tbody tr th:only-of-type {\n",
       "        vertical-align: middle;\n",
       "    }\n",
       "\n",
       "    .dataframe tbody tr th {\n",
       "        vertical-align: top;\n",
       "    }\n",
       "\n",
       "    .dataframe thead th {\n",
       "        text-align: right;\n",
       "    }\n",
       "</style>\n",
       "<table border=\"1\" class=\"dataframe\">\n",
       "  <thead>\n",
       "    <tr style=\"text-align: right;\">\n",
       "      <th></th>\n",
       "      <th>order_id</th>\n",
       "      <th>product_id</th>\n",
       "      <th>add_to_cart_order</th>\n",
       "      <th>reordered</th>\n",
       "    </tr>\n",
       "  </thead>\n",
       "  <tbody>\n",
       "    <tr>\n",
       "      <th>0</th>\n",
       "      <td>2</td>\n",
       "      <td>33120</td>\n",
       "      <td>1</td>\n",
       "      <td>1</td>\n",
       "    </tr>\n",
       "    <tr>\n",
       "      <th>1</th>\n",
       "      <td>2</td>\n",
       "      <td>28985</td>\n",
       "      <td>2</td>\n",
       "      <td>1</td>\n",
       "    </tr>\n",
       "    <tr>\n",
       "      <th>2</th>\n",
       "      <td>2</td>\n",
       "      <td>9327</td>\n",
       "      <td>3</td>\n",
       "      <td>0</td>\n",
       "    </tr>\n",
       "    <tr>\n",
       "      <th>3</th>\n",
       "      <td>2</td>\n",
       "      <td>45918</td>\n",
       "      <td>4</td>\n",
       "      <td>1</td>\n",
       "    </tr>\n",
       "    <tr>\n",
       "      <th>4</th>\n",
       "      <td>2</td>\n",
       "      <td>30035</td>\n",
       "      <td>5</td>\n",
       "      <td>0</td>\n",
       "    </tr>\n",
       "  </tbody>\n",
       "</table>\n",
       "</div>"
      ],
      "text/plain": [
       "   order_id  product_id  add_to_cart_order  reordered\n",
       "0         2       33120                  1          1\n",
       "1         2       28985                  2          1\n",
       "2         2        9327                  3          0\n",
       "3         2       45918                  4          1\n",
       "4         2       30035                  5          0"
      ]
     },
     "execution_count": 4,
     "metadata": {},
     "output_type": "execute_result"
    }
   ],
   "source": [
    "order_full_detail.head()"
   ]
  },
  {
   "cell_type": "code",
   "execution_count": null,
   "id": "6ff44d1e",
   "metadata": {},
   "outputs": [
    {
     "data": {
      "text/html": [
       "<div>\n",
       "<style scoped>\n",
       "    .dataframe tbody tr th:only-of-type {\n",
       "        vertical-align: middle;\n",
       "    }\n",
       "\n",
       "    .dataframe tbody tr th {\n",
       "        vertical-align: top;\n",
       "    }\n",
       "\n",
       "    .dataframe thead th {\n",
       "        text-align: right;\n",
       "    }\n",
       "</style>\n",
       "<table border=\"1\" class=\"dataframe\">\n",
       "  <thead>\n",
       "    <tr style=\"text-align: right;\">\n",
       "      <th></th>\n",
       "      <th>order_id</th>\n",
       "      <th>product_id</th>\n",
       "      <th>add_to_cart_order</th>\n",
       "      <th>reordered</th>\n",
       "    </tr>\n",
       "  </thead>\n",
       "  <tbody>\n",
       "    <tr>\n",
       "      <th>0</th>\n",
       "      <td>1</td>\n",
       "      <td>49302</td>\n",
       "      <td>1</td>\n",
       "      <td>1</td>\n",
       "    </tr>\n",
       "    <tr>\n",
       "      <th>1</th>\n",
       "      <td>1</td>\n",
       "      <td>11109</td>\n",
       "      <td>2</td>\n",
       "      <td>1</td>\n",
       "    </tr>\n",
       "    <tr>\n",
       "      <th>2</th>\n",
       "      <td>1</td>\n",
       "      <td>10246</td>\n",
       "      <td>3</td>\n",
       "      <td>0</td>\n",
       "    </tr>\n",
       "    <tr>\n",
       "      <th>3</th>\n",
       "      <td>1</td>\n",
       "      <td>49683</td>\n",
       "      <td>4</td>\n",
       "      <td>0</td>\n",
       "    </tr>\n",
       "    <tr>\n",
       "      <th>4</th>\n",
       "      <td>1</td>\n",
       "      <td>43633</td>\n",
       "      <td>5</td>\n",
       "      <td>1</td>\n",
       "    </tr>\n",
       "  </tbody>\n",
       "</table>\n",
       "</div>"
      ],
      "text/plain": [
       "   order_id  product_id  add_to_cart_order  reordered\n",
       "0         1       49302                  1          1\n",
       "1         1       11109                  2          1\n",
       "2         1       10246                  3          0\n",
       "3         1       49683                  4          0\n",
       "4         1       43633                  5          1"
      ]
     },
     "execution_count": 5,
     "metadata": {},
     "output_type": "execute_result"
    }
   ],
   "source": [
    "train.head()"
   ]
  },
  {
   "cell_type": "code",
   "execution_count": null,
   "id": "f23534c2",
   "metadata": {},
   "outputs": [
    {
     "data": {
      "text/html": [
       "<div>\n",
       "<style scoped>\n",
       "    .dataframe tbody tr th:only-of-type {\n",
       "        vertical-align: middle;\n",
       "    }\n",
       "\n",
       "    .dataframe tbody tr th {\n",
       "        vertical-align: top;\n",
       "    }\n",
       "\n",
       "    .dataframe thead th {\n",
       "        text-align: right;\n",
       "    }\n",
       "</style>\n",
       "<table border=\"1\" class=\"dataframe\">\n",
       "  <thead>\n",
       "    <tr style=\"text-align: right;\">\n",
       "      <th></th>\n",
       "      <th>department_id</th>\n",
       "      <th>department</th>\n",
       "    </tr>\n",
       "  </thead>\n",
       "  <tbody>\n",
       "    <tr>\n",
       "      <th>0</th>\n",
       "      <td>1</td>\n",
       "      <td>frozen</td>\n",
       "    </tr>\n",
       "    <tr>\n",
       "      <th>1</th>\n",
       "      <td>2</td>\n",
       "      <td>other</td>\n",
       "    </tr>\n",
       "    <tr>\n",
       "      <th>2</th>\n",
       "      <td>3</td>\n",
       "      <td>bakery</td>\n",
       "    </tr>\n",
       "    <tr>\n",
       "      <th>3</th>\n",
       "      <td>4</td>\n",
       "      <td>produce</td>\n",
       "    </tr>\n",
       "    <tr>\n",
       "      <th>4</th>\n",
       "      <td>5</td>\n",
       "      <td>alcohol</td>\n",
       "    </tr>\n",
       "  </tbody>\n",
       "</table>\n",
       "</div>"
      ],
      "text/plain": [
       "   department_id department\n",
       "0              1     frozen\n",
       "1              2      other\n",
       "2              3     bakery\n",
       "3              4    produce\n",
       "4              5    alcohol"
      ]
     },
     "execution_count": 6,
     "metadata": {},
     "output_type": "execute_result"
    }
   ],
   "source": [
    "departments.head()"
   ]
  },
  {
   "cell_type": "code",
   "execution_count": null,
   "id": "62800483",
   "metadata": {},
   "outputs": [
    {
     "data": {
      "text/html": [
       "<div>\n",
       "<style scoped>\n",
       "    .dataframe tbody tr th:only-of-type {\n",
       "        vertical-align: middle;\n",
       "    }\n",
       "\n",
       "    .dataframe tbody tr th {\n",
       "        vertical-align: top;\n",
       "    }\n",
       "\n",
       "    .dataframe thead th {\n",
       "        text-align: right;\n",
       "    }\n",
       "</style>\n",
       "<table border=\"1\" class=\"dataframe\">\n",
       "  <thead>\n",
       "    <tr style=\"text-align: right;\">\n",
       "      <th></th>\n",
       "      <th>aisle_id</th>\n",
       "      <th>aisle</th>\n",
       "    </tr>\n",
       "  </thead>\n",
       "  <tbody>\n",
       "    <tr>\n",
       "      <th>0</th>\n",
       "      <td>1</td>\n",
       "      <td>prepared soups salads</td>\n",
       "    </tr>\n",
       "    <tr>\n",
       "      <th>1</th>\n",
       "      <td>2</td>\n",
       "      <td>specialty cheeses</td>\n",
       "    </tr>\n",
       "    <tr>\n",
       "      <th>2</th>\n",
       "      <td>3</td>\n",
       "      <td>energy granola bars</td>\n",
       "    </tr>\n",
       "    <tr>\n",
       "      <th>3</th>\n",
       "      <td>4</td>\n",
       "      <td>instant foods</td>\n",
       "    </tr>\n",
       "    <tr>\n",
       "      <th>4</th>\n",
       "      <td>5</td>\n",
       "      <td>marinades meat preparation</td>\n",
       "    </tr>\n",
       "  </tbody>\n",
       "</table>\n",
       "</div>"
      ],
      "text/plain": [
       "   aisle_id                       aisle\n",
       "0         1       prepared soups salads\n",
       "1         2           specialty cheeses\n",
       "2         3         energy granola bars\n",
       "3         4               instant foods\n",
       "4         5  marinades meat preparation"
      ]
     },
     "execution_count": 7,
     "metadata": {},
     "output_type": "execute_result"
    }
   ],
   "source": [
    "aisles.head()"
   ]
  },
  {
   "cell_type": "code",
   "execution_count": null,
   "id": "8d5565af",
   "metadata": {},
   "outputs": [
    {
     "data": {
      "text/html": [
       "<div>\n",
       "<style scoped>\n",
       "    .dataframe tbody tr th:only-of-type {\n",
       "        vertical-align: middle;\n",
       "    }\n",
       "\n",
       "    .dataframe tbody tr th {\n",
       "        vertical-align: top;\n",
       "    }\n",
       "\n",
       "    .dataframe thead th {\n",
       "        text-align: right;\n",
       "    }\n",
       "</style>\n",
       "<table border=\"1\" class=\"dataframe\">\n",
       "  <thead>\n",
       "    <tr style=\"text-align: right;\">\n",
       "      <th></th>\n",
       "      <th>product_id</th>\n",
       "      <th>product_name</th>\n",
       "      <th>aisle_id</th>\n",
       "      <th>department_id</th>\n",
       "    </tr>\n",
       "  </thead>\n",
       "  <tbody>\n",
       "    <tr>\n",
       "      <th>0</th>\n",
       "      <td>1</td>\n",
       "      <td>Chocolate Sandwich Cookies</td>\n",
       "      <td>61</td>\n",
       "      <td>19</td>\n",
       "    </tr>\n",
       "    <tr>\n",
       "      <th>1</th>\n",
       "      <td>2</td>\n",
       "      <td>All-Seasons Salt</td>\n",
       "      <td>104</td>\n",
       "      <td>13</td>\n",
       "    </tr>\n",
       "    <tr>\n",
       "      <th>2</th>\n",
       "      <td>3</td>\n",
       "      <td>Robust Golden Unsweetened Oolong Tea</td>\n",
       "      <td>94</td>\n",
       "      <td>7</td>\n",
       "    </tr>\n",
       "    <tr>\n",
       "      <th>3</th>\n",
       "      <td>4</td>\n",
       "      <td>Smart Ones Classic Favorites Mini Rigatoni Wit...</td>\n",
       "      <td>38</td>\n",
       "      <td>1</td>\n",
       "    </tr>\n",
       "    <tr>\n",
       "      <th>4</th>\n",
       "      <td>5</td>\n",
       "      <td>Green Chile Anytime Sauce</td>\n",
       "      <td>5</td>\n",
       "      <td>13</td>\n",
       "    </tr>\n",
       "  </tbody>\n",
       "</table>\n",
       "</div>"
      ],
      "text/plain": [
       "   product_id                                       product_name  aisle_id  \\\n",
       "0           1                         Chocolate Sandwich Cookies        61   \n",
       "1           2                                   All-Seasons Salt       104   \n",
       "2           3               Robust Golden Unsweetened Oolong Tea        94   \n",
       "3           4  Smart Ones Classic Favorites Mini Rigatoni Wit...        38   \n",
       "4           5                          Green Chile Anytime Sauce         5   \n",
       "\n",
       "   department_id  \n",
       "0             19  \n",
       "1             13  \n",
       "2              7  \n",
       "3              1  \n",
       "4             13  "
      ]
     },
     "execution_count": 8,
     "metadata": {},
     "output_type": "execute_result"
    }
   ],
   "source": [
    "products.head()"
   ]
  },
  {
   "cell_type": "code",
   "execution_count": null,
   "id": "5a0037cf",
   "metadata": {},
   "outputs": [
    {
     "data": {
      "text/plain": [
       "(49688, 4)"
      ]
     },
     "execution_count": 9,
     "metadata": {},
     "output_type": "execute_result"
    }
   ],
   "source": [
    "products.shape"
   ]
  },
  {
   "cell_type": "code",
   "execution_count": null,
   "id": "eb7627e2",
   "metadata": {},
   "outputs": [
    {
     "data": {
      "text/plain": [
       "33819106"
      ]
     },
     "execution_count": 10,
     "metadata": {},
     "output_type": "execute_result"
    }
   ],
   "source": [
    "train.shape[0]+order_full_detail.shape[0]"
   ]
  },
  {
   "cell_type": "markdown",
   "id": "c978c43b",
   "metadata": {},
   "source": [
    "# Merging the training and the prior dataset together for full dataset"
   ]
  },
  {
   "cell_type": "code",
   "execution_count": null,
   "id": "dbeb11c6",
   "metadata": {},
   "outputs": [],
   "source": [
    "order_full_detail=pd.concat([train,order_full_detail],ignore_index=True)"
   ]
  },
  {
   "cell_type": "code",
   "execution_count": null,
   "id": "66959f5a",
   "metadata": {},
   "outputs": [
    {
     "data": {
      "text/plain": [
       "(33819106, 4)"
      ]
     },
     "execution_count": 12,
     "metadata": {},
     "output_type": "execute_result"
    }
   ],
   "source": [
    "order_full_detail.shape"
   ]
  },
  {
   "cell_type": "code",
   "execution_count": null,
   "id": "4d1d6665",
   "metadata": {},
   "outputs": [
    {
     "data": {
      "text/html": [
       "<div>\n",
       "<style scoped>\n",
       "    .dataframe tbody tr th:only-of-type {\n",
       "        vertical-align: middle;\n",
       "    }\n",
       "\n",
       "    .dataframe tbody tr th {\n",
       "        vertical-align: top;\n",
       "    }\n",
       "\n",
       "    .dataframe thead th {\n",
       "        text-align: right;\n",
       "    }\n",
       "</style>\n",
       "<table border=\"1\" class=\"dataframe\">\n",
       "  <thead>\n",
       "    <tr style=\"text-align: right;\">\n",
       "      <th></th>\n",
       "      <th>product_id</th>\n",
       "      <th>product_name</th>\n",
       "      <th>aisle_id</th>\n",
       "      <th>department_id</th>\n",
       "      <th>aisle</th>\n",
       "      <th>department</th>\n",
       "    </tr>\n",
       "  </thead>\n",
       "  <tbody>\n",
       "    <tr>\n",
       "      <th>0</th>\n",
       "      <td>1</td>\n",
       "      <td>Chocolate Sandwich Cookies</td>\n",
       "      <td>61</td>\n",
       "      <td>19</td>\n",
       "      <td>cookies cakes</td>\n",
       "      <td>snacks</td>\n",
       "    </tr>\n",
       "    <tr>\n",
       "      <th>1</th>\n",
       "      <td>2</td>\n",
       "      <td>All-Seasons Salt</td>\n",
       "      <td>104</td>\n",
       "      <td>13</td>\n",
       "      <td>spices seasonings</td>\n",
       "      <td>pantry</td>\n",
       "    </tr>\n",
       "    <tr>\n",
       "      <th>2</th>\n",
       "      <td>3</td>\n",
       "      <td>Robust Golden Unsweetened Oolong Tea</td>\n",
       "      <td>94</td>\n",
       "      <td>7</td>\n",
       "      <td>tea</td>\n",
       "      <td>beverages</td>\n",
       "    </tr>\n",
       "    <tr>\n",
       "      <th>3</th>\n",
       "      <td>4</td>\n",
       "      <td>Smart Ones Classic Favorites Mini Rigatoni Wit...</td>\n",
       "      <td>38</td>\n",
       "      <td>1</td>\n",
       "      <td>frozen meals</td>\n",
       "      <td>frozen</td>\n",
       "    </tr>\n",
       "    <tr>\n",
       "      <th>4</th>\n",
       "      <td>5</td>\n",
       "      <td>Green Chile Anytime Sauce</td>\n",
       "      <td>5</td>\n",
       "      <td>13</td>\n",
       "      <td>marinades meat preparation</td>\n",
       "      <td>pantry</td>\n",
       "    </tr>\n",
       "  </tbody>\n",
       "</table>\n",
       "</div>"
      ],
      "text/plain": [
       "   product_id                                       product_name  aisle_id  \\\n",
       "0           1                         Chocolate Sandwich Cookies        61   \n",
       "1           2                                   All-Seasons Salt       104   \n",
       "2           3               Robust Golden Unsweetened Oolong Tea        94   \n",
       "3           4  Smart Ones Classic Favorites Mini Rigatoni Wit...        38   \n",
       "4           5                          Green Chile Anytime Sauce         5   \n",
       "\n",
       "   department_id                       aisle department  \n",
       "0             19               cookies cakes     snacks  \n",
       "1             13           spices seasonings     pantry  \n",
       "2              7                         tea  beverages  \n",
       "3              1                frozen meals     frozen  \n",
       "4             13  marinades meat preparation     pantry  "
      ]
     },
     "execution_count": 13,
     "metadata": {},
     "output_type": "execute_result"
    }
   ],
   "source": [
    "products=products.merge(aisles,on=\"aisle_id\",how=\"left\")\n",
    "products=products.merge(departments,on=\"department_id\",how=\"left\")\n",
    "products.head()"
   ]
  },
  {
   "cell_type": "markdown",
   "id": "dc09a2e3",
   "metadata": {},
   "source": [
    "# We will combine features from other dataset to this one"
   ]
  },
  {
   "cell_type": "code",
   "execution_count": null,
   "id": "ee27692b",
   "metadata": {},
   "outputs": [],
   "source": [
    "dataframe=products.copy()"
   ]
  },
  {
   "cell_type": "markdown",
   "id": "9e41caaa",
   "metadata": {},
   "source": [
    "# Adding new features to the dataframe"
   ]
  },
  {
   "cell_type": "markdown",
   "id": "bdbef279",
   "metadata": {},
   "source": [
    "remove the unneccessary order column"
   ]
  },
  {
   "cell_type": "code",
   "execution_count": null,
   "id": "465509d3",
   "metadata": {},
   "outputs": [
    {
     "data": {
      "text/plain": [
       "order_id             0\n",
       "product_id           0\n",
       "add_to_cart_order    0\n",
       "reordered            0\n",
       "dtype: int64"
      ]
     },
     "execution_count": 15,
     "metadata": {},
     "output_type": "execute_result"
    }
   ],
   "source": [
    "order_full_detail.isnull().sum()"
   ]
  },
  {
   "cell_type": "code",
   "execution_count": null,
   "id": "d93566a2",
   "metadata": {},
   "outputs": [
    {
     "data": {
      "text/plain": [
       "1234416216"
      ]
     },
     "execution_count": 16,
     "metadata": {},
     "output_type": "execute_result"
    }
   ],
   "source": [
    "order_full_detail.product_id.unique().sum()"
   ]
  },
  {
   "cell_type": "code",
   "execution_count": null,
   "id": "1a09b174",
   "metadata": {},
   "outputs": [
    {
     "data": {
      "text/plain": [
       "1234473516"
      ]
     },
     "execution_count": 17,
     "metadata": {},
     "output_type": "execute_result"
    }
   ],
   "source": [
    "products.product_id.sum()"
   ]
  },
  {
   "cell_type": "markdown",
   "id": "bcdff8ab",
   "metadata": {},
   "source": [
    "meaning there are some of the products and their details missing\n",
    "- Products are listed but has not been sold"
   ]
  },
  {
   "cell_type": "code",
   "execution_count": null,
   "id": "c85c5ea0",
   "metadata": {},
   "outputs": [],
   "source": [
    "order_full_detail.drop(columns=[\"add_to_cart_order\"],inplace=True)"
   ]
  },
  {
   "cell_type": "markdown",
   "id": "6dc6f86e",
   "metadata": {},
   "source": [
    "we want to find out how many times the product has been reordered while purchasing"
   ]
  },
  {
   "cell_type": "code",
   "execution_count": null,
   "id": "e1a70964",
   "metadata": {},
   "outputs": [
    {
     "data": {
      "text/html": [
       "<div>\n",
       "<style scoped>\n",
       "    .dataframe tbody tr th:only-of-type {\n",
       "        vertical-align: middle;\n",
       "    }\n",
       "\n",
       "    .dataframe tbody tr th {\n",
       "        vertical-align: top;\n",
       "    }\n",
       "\n",
       "    .dataframe thead th {\n",
       "        text-align: right;\n",
       "    }\n",
       "</style>\n",
       "<table border=\"1\" class=\"dataframe\">\n",
       "  <thead>\n",
       "    <tr style=\"text-align: right;\">\n",
       "      <th></th>\n",
       "      <th>product_id</th>\n",
       "      <th>reordered</th>\n",
       "    </tr>\n",
       "  </thead>\n",
       "  <tbody>\n",
       "    <tr>\n",
       "      <th>0</th>\n",
       "      <td>1</td>\n",
       "      <td>1185</td>\n",
       "    </tr>\n",
       "    <tr>\n",
       "      <th>1</th>\n",
       "      <td>2</td>\n",
       "      <td>13</td>\n",
       "    </tr>\n",
       "    <tr>\n",
       "      <th>2</th>\n",
       "      <td>3</td>\n",
       "      <td>209</td>\n",
       "    </tr>\n",
       "    <tr>\n",
       "      <th>3</th>\n",
       "      <td>4</td>\n",
       "      <td>161</td>\n",
       "    </tr>\n",
       "    <tr>\n",
       "      <th>4</th>\n",
       "      <td>5</td>\n",
       "      <td>10</td>\n",
       "    </tr>\n",
       "    <tr>\n",
       "      <th>...</th>\n",
       "      <td>...</td>\n",
       "      <td>...</td>\n",
       "    </tr>\n",
       "    <tr>\n",
       "      <th>49680</th>\n",
       "      <td>49684</td>\n",
       "      <td>1</td>\n",
       "    </tr>\n",
       "    <tr>\n",
       "      <th>49681</th>\n",
       "      <td>49685</td>\n",
       "      <td>6</td>\n",
       "    </tr>\n",
       "    <tr>\n",
       "      <th>49682</th>\n",
       "      <td>49686</td>\n",
       "      <td>89</td>\n",
       "    </tr>\n",
       "    <tr>\n",
       "      <th>49683</th>\n",
       "      <td>49687</td>\n",
       "      <td>6</td>\n",
       "    </tr>\n",
       "    <tr>\n",
       "      <th>49684</th>\n",
       "      <td>49688</td>\n",
       "      <td>16</td>\n",
       "    </tr>\n",
       "  </tbody>\n",
       "</table>\n",
       "<p>49685 rows × 2 columns</p>\n",
       "</div>"
      ],
      "text/plain": [
       "       product_id  reordered\n",
       "0               1       1185\n",
       "1               2         13\n",
       "2               3        209\n",
       "3               4        161\n",
       "4               5         10\n",
       "...           ...        ...\n",
       "49680       49684          1\n",
       "49681       49685          6\n",
       "49682       49686         89\n",
       "49683       49687          6\n",
       "49684       49688         16\n",
       "\n",
       "[49685 rows x 2 columns]"
      ]
     },
     "execution_count": 19,
     "metadata": {},
     "output_type": "execute_result"
    }
   ],
   "source": [
    "order_full_detail.groupby(by=\"product_id\")[\"reordered\"].sum().reset_index()"
   ]
  },
  {
   "cell_type": "markdown",
   "id": "e181213e",
   "metadata": {},
   "source": [
    "Lets see a sample"
   ]
  },
  {
   "cell_type": "code",
   "execution_count": null,
   "id": "9a5c72b8",
   "metadata": {},
   "outputs": [
    {
     "data": {
      "text/plain": [
       "6"
      ]
     },
     "execution_count": 20,
     "metadata": {},
     "output_type": "execute_result"
    }
   ],
   "source": [
    "order_full_detail[order_full_detail[\"product_id\"]==49685][\"reordered\"].sum()"
   ]
  },
  {
   "cell_type": "markdown",
   "id": "ea29d413",
   "metadata": {},
   "source": [
    "We want to find out how many times the product has been purchased"
   ]
  },
  {
   "cell_type": "code",
   "execution_count": null,
   "id": "98a1bf55",
   "metadata": {},
   "outputs": [
    {
     "data": {
      "text/html": [
       "<div>\n",
       "<style scoped>\n",
       "    .dataframe tbody tr th:only-of-type {\n",
       "        vertical-align: middle;\n",
       "    }\n",
       "\n",
       "    .dataframe tbody tr th {\n",
       "        vertical-align: top;\n",
       "    }\n",
       "\n",
       "    .dataframe thead th {\n",
       "        text-align: right;\n",
       "    }\n",
       "</style>\n",
       "<table border=\"1\" class=\"dataframe\">\n",
       "  <thead>\n",
       "    <tr style=\"text-align: right;\">\n",
       "      <th></th>\n",
       "      <th>product_id</th>\n",
       "      <th>order_id</th>\n",
       "    </tr>\n",
       "  </thead>\n",
       "  <tbody>\n",
       "    <tr>\n",
       "      <th>0</th>\n",
       "      <td>1</td>\n",
       "      <td>1928</td>\n",
       "    </tr>\n",
       "    <tr>\n",
       "      <th>1</th>\n",
       "      <td>2</td>\n",
       "      <td>94</td>\n",
       "    </tr>\n",
       "    <tr>\n",
       "      <th>2</th>\n",
       "      <td>3</td>\n",
       "      <td>283</td>\n",
       "    </tr>\n",
       "    <tr>\n",
       "      <th>3</th>\n",
       "      <td>4</td>\n",
       "      <td>351</td>\n",
       "    </tr>\n",
       "    <tr>\n",
       "      <th>4</th>\n",
       "      <td>5</td>\n",
       "      <td>16</td>\n",
       "    </tr>\n",
       "    <tr>\n",
       "      <th>...</th>\n",
       "      <td>...</td>\n",
       "      <td>...</td>\n",
       "    </tr>\n",
       "    <tr>\n",
       "      <th>49680</th>\n",
       "      <td>49684</td>\n",
       "      <td>9</td>\n",
       "    </tr>\n",
       "    <tr>\n",
       "      <th>49681</th>\n",
       "      <td>49685</td>\n",
       "      <td>49</td>\n",
       "    </tr>\n",
       "    <tr>\n",
       "      <th>49682</th>\n",
       "      <td>49686</td>\n",
       "      <td>127</td>\n",
       "    </tr>\n",
       "    <tr>\n",
       "      <th>49683</th>\n",
       "      <td>49687</td>\n",
       "      <td>14</td>\n",
       "    </tr>\n",
       "    <tr>\n",
       "      <th>49684</th>\n",
       "      <td>49688</td>\n",
       "      <td>93</td>\n",
       "    </tr>\n",
       "  </tbody>\n",
       "</table>\n",
       "<p>49685 rows × 2 columns</p>\n",
       "</div>"
      ],
      "text/plain": [
       "       product_id  order_id\n",
       "0               1      1928\n",
       "1               2        94\n",
       "2               3       283\n",
       "3               4       351\n",
       "4               5        16\n",
       "...           ...       ...\n",
       "49680       49684         9\n",
       "49681       49685        49\n",
       "49682       49686       127\n",
       "49683       49687        14\n",
       "49684       49688        93\n",
       "\n",
       "[49685 rows x 2 columns]"
      ]
     },
     "execution_count": 21,
     "metadata": {},
     "output_type": "execute_result"
    }
   ],
   "source": [
    "order_full_detail.groupby(by=\"product_id\")[\"order_id\"].nunique().reset_index()"
   ]
  },
  {
   "cell_type": "markdown",
   "id": "4a5719bd",
   "metadata": {},
   "source": [
    "We can see  sample"
   ]
  },
  {
   "cell_type": "code",
   "execution_count": null,
   "id": "1254e069",
   "metadata": {},
   "outputs": [
    {
     "data": {
      "text/html": [
       "<div>\n",
       "<style scoped>\n",
       "    .dataframe tbody tr th:only-of-type {\n",
       "        vertical-align: middle;\n",
       "    }\n",
       "\n",
       "    .dataframe tbody tr th {\n",
       "        vertical-align: top;\n",
       "    }\n",
       "\n",
       "    .dataframe thead th {\n",
       "        text-align: right;\n",
       "    }\n",
       "</style>\n",
       "<table border=\"1\" class=\"dataframe\">\n",
       "  <thead>\n",
       "    <tr style=\"text-align: right;\">\n",
       "      <th></th>\n",
       "      <th>order_id</th>\n",
       "      <th>product_id</th>\n",
       "      <th>reordered</th>\n",
       "    </tr>\n",
       "  </thead>\n",
       "  <tbody>\n",
       "    <tr>\n",
       "      <th>6705549</th>\n",
       "      <td>561618</td>\n",
       "      <td>49684</td>\n",
       "      <td>0</td>\n",
       "    </tr>\n",
       "    <tr>\n",
       "      <th>9977484</th>\n",
       "      <td>907116</td>\n",
       "      <td>49684</td>\n",
       "      <td>0</td>\n",
       "    </tr>\n",
       "    <tr>\n",
       "      <th>14344982</th>\n",
       "      <td>1367981</td>\n",
       "      <td>49684</td>\n",
       "      <td>1</td>\n",
       "    </tr>\n",
       "    <tr>\n",
       "      <th>23142864</th>\n",
       "      <td>2295026</td>\n",
       "      <td>49684</td>\n",
       "      <td>0</td>\n",
       "    </tr>\n",
       "    <tr>\n",
       "      <th>25580779</th>\n",
       "      <td>2551882</td>\n",
       "      <td>49684</td>\n",
       "      <td>0</td>\n",
       "    </tr>\n",
       "    <tr>\n",
       "      <th>25880810</th>\n",
       "      <td>2583499</td>\n",
       "      <td>49684</td>\n",
       "      <td>0</td>\n",
       "    </tr>\n",
       "    <tr>\n",
       "      <th>28244457</th>\n",
       "      <td>2832300</td>\n",
       "      <td>49684</td>\n",
       "      <td>0</td>\n",
       "    </tr>\n",
       "    <tr>\n",
       "      <th>29200897</th>\n",
       "      <td>2933365</td>\n",
       "      <td>49684</td>\n",
       "      <td>0</td>\n",
       "    </tr>\n",
       "    <tr>\n",
       "      <th>32059556</th>\n",
       "      <td>3235517</td>\n",
       "      <td>49684</td>\n",
       "      <td>0</td>\n",
       "    </tr>\n",
       "  </tbody>\n",
       "</table>\n",
       "</div>"
      ],
      "text/plain": [
       "          order_id  product_id  reordered\n",
       "6705549     561618       49684          0\n",
       "9977484     907116       49684          0\n",
       "14344982   1367981       49684          1\n",
       "23142864   2295026       49684          0\n",
       "25580779   2551882       49684          0\n",
       "25880810   2583499       49684          0\n",
       "28244457   2832300       49684          0\n",
       "29200897   2933365       49684          0\n",
       "32059556   3235517       49684          0"
      ]
     },
     "execution_count": 22,
     "metadata": {},
     "output_type": "execute_result"
    }
   ],
   "source": [
    "order_full_detail[order_full_detail[\"product_id\"]==49684] # 9 times this product has been purchased"
   ]
  },
  {
   "cell_type": "code",
   "execution_count": null,
   "id": "067e74de",
   "metadata": {},
   "outputs": [
    {
     "data": {
      "text/plain": [
       "(49688, 6)"
      ]
     },
     "execution_count": 23,
     "metadata": {},
     "output_type": "execute_result"
    }
   ],
   "source": [
    "dataframe.shape"
   ]
  },
  {
   "cell_type": "code",
   "execution_count": null,
   "id": "a6930b0e",
   "metadata": {},
   "outputs": [
    {
     "name": "stdout",
     "output_type": "stream",
     "text": [
      "(49685, 2)\n",
      "(49685, 2)\n"
     ]
    }
   ],
   "source": [
    "col1=order_full_detail.groupby(by=\"product_id\")[\"reordered\"].sum().reset_index()\n",
    "col2=order_full_detail.groupby(by=\"product_id\")[\"order_id\"].nunique().reset_index()\n",
    "print(col1.shape)\n",
    "print(col2.shape)"
   ]
  },
  {
   "cell_type": "code",
   "execution_count": null,
   "id": "272fdf84",
   "metadata": {},
   "outputs": [
    {
     "data": {
      "text/html": [
       "<div>\n",
       "<style scoped>\n",
       "    .dataframe tbody tr th:only-of-type {\n",
       "        vertical-align: middle;\n",
       "    }\n",
       "\n",
       "    .dataframe tbody tr th {\n",
       "        vertical-align: top;\n",
       "    }\n",
       "\n",
       "    .dataframe thead th {\n",
       "        text-align: right;\n",
       "    }\n",
       "</style>\n",
       "<table border=\"1\" class=\"dataframe\">\n",
       "  <thead>\n",
       "    <tr style=\"text-align: right;\">\n",
       "      <th></th>\n",
       "      <th>product_id</th>\n",
       "      <th>product_name</th>\n",
       "      <th>aisle_id</th>\n",
       "      <th>department_id</th>\n",
       "      <th>aisle</th>\n",
       "      <th>department</th>\n",
       "      <th>reordered</th>\n",
       "      <th>order_id</th>\n",
       "    </tr>\n",
       "  </thead>\n",
       "  <tbody>\n",
       "    <tr>\n",
       "      <th>0</th>\n",
       "      <td>1</td>\n",
       "      <td>Chocolate Sandwich Cookies</td>\n",
       "      <td>61</td>\n",
       "      <td>19</td>\n",
       "      <td>cookies cakes</td>\n",
       "      <td>snacks</td>\n",
       "      <td>1185.0</td>\n",
       "      <td>1928.0</td>\n",
       "    </tr>\n",
       "    <tr>\n",
       "      <th>1</th>\n",
       "      <td>2</td>\n",
       "      <td>All-Seasons Salt</td>\n",
       "      <td>104</td>\n",
       "      <td>13</td>\n",
       "      <td>spices seasonings</td>\n",
       "      <td>pantry</td>\n",
       "      <td>13.0</td>\n",
       "      <td>94.0</td>\n",
       "    </tr>\n",
       "    <tr>\n",
       "      <th>2</th>\n",
       "      <td>3</td>\n",
       "      <td>Robust Golden Unsweetened Oolong Tea</td>\n",
       "      <td>94</td>\n",
       "      <td>7</td>\n",
       "      <td>tea</td>\n",
       "      <td>beverages</td>\n",
       "      <td>209.0</td>\n",
       "      <td>283.0</td>\n",
       "    </tr>\n",
       "    <tr>\n",
       "      <th>3</th>\n",
       "      <td>4</td>\n",
       "      <td>Smart Ones Classic Favorites Mini Rigatoni Wit...</td>\n",
       "      <td>38</td>\n",
       "      <td>1</td>\n",
       "      <td>frozen meals</td>\n",
       "      <td>frozen</td>\n",
       "      <td>161.0</td>\n",
       "      <td>351.0</td>\n",
       "    </tr>\n",
       "    <tr>\n",
       "      <th>4</th>\n",
       "      <td>5</td>\n",
       "      <td>Green Chile Anytime Sauce</td>\n",
       "      <td>5</td>\n",
       "      <td>13</td>\n",
       "      <td>marinades meat preparation</td>\n",
       "      <td>pantry</td>\n",
       "      <td>10.0</td>\n",
       "      <td>16.0</td>\n",
       "    </tr>\n",
       "  </tbody>\n",
       "</table>\n",
       "</div>"
      ],
      "text/plain": [
       "   product_id                                       product_name  aisle_id  \\\n",
       "0           1                         Chocolate Sandwich Cookies        61   \n",
       "1           2                                   All-Seasons Salt       104   \n",
       "2           3               Robust Golden Unsweetened Oolong Tea        94   \n",
       "3           4  Smart Ones Classic Favorites Mini Rigatoni Wit...        38   \n",
       "4           5                          Green Chile Anytime Sauce         5   \n",
       "\n",
       "   department_id                       aisle department  reordered  order_id  \n",
       "0             19               cookies cakes     snacks     1185.0    1928.0  \n",
       "1             13           spices seasonings     pantry       13.0      94.0  \n",
       "2              7                         tea  beverages      209.0     283.0  \n",
       "3              1                frozen meals     frozen      161.0     351.0  \n",
       "4             13  marinades meat preparation     pantry       10.0      16.0  "
      ]
     },
     "execution_count": 25,
     "metadata": {},
     "output_type": "execute_result"
    }
   ],
   "source": [
    "dataframe=dataframe.merge(col1,on=\"product_id\",how=\"left\")\n",
    "dataframe=dataframe.merge(col2,on=\"product_id\",how=\"left\")\n",
    "\n",
    "dataframe.head()"
   ]
  },
  {
   "cell_type": "markdown",
   "id": "a7d771cb",
   "metadata": {},
   "source": [
    "## Finding and Filling Missing rows"
   ]
  },
  {
   "cell_type": "markdown",
   "id": "cdbcad33",
   "metadata": {},
   "source": [
    "Left Join (how=\"left\"): A left join ensures that all rows from the left DataFrame (products) are retained. If there's a matching row in the right DataFrame (reordered_sum), the corresponding values will be added. If there's no match, the result will have NaN values for columns from the right DataFrame."
   ]
  },
  {
   "cell_type": "code",
   "execution_count": null,
   "id": "b11e3fc6",
   "metadata": {},
   "outputs": [
    {
     "data": {
      "text/html": [
       "<div>\n",
       "<style scoped>\n",
       "    .dataframe tbody tr th:only-of-type {\n",
       "        vertical-align: middle;\n",
       "    }\n",
       "\n",
       "    .dataframe tbody tr th {\n",
       "        vertical-align: top;\n",
       "    }\n",
       "\n",
       "    .dataframe thead th {\n",
       "        text-align: right;\n",
       "    }\n",
       "</style>\n",
       "<table border=\"1\" class=\"dataframe\">\n",
       "  <thead>\n",
       "    <tr style=\"text-align: right;\">\n",
       "      <th></th>\n",
       "      <th>product_id</th>\n",
       "      <th>product_name</th>\n",
       "      <th>aisle_id</th>\n",
       "      <th>department_id</th>\n",
       "      <th>aisle</th>\n",
       "      <th>department</th>\n",
       "      <th>reordered</th>\n",
       "      <th>order_id</th>\n",
       "    </tr>\n",
       "  </thead>\n",
       "  <tbody>\n",
       "    <tr>\n",
       "      <th>3629</th>\n",
       "      <td>3630</td>\n",
       "      <td>Protein Granola Apple Crisp</td>\n",
       "      <td>57</td>\n",
       "      <td>14</td>\n",
       "      <td>granola</td>\n",
       "      <td>breakfast</td>\n",
       "      <td>NaN</td>\n",
       "      <td>NaN</td>\n",
       "    </tr>\n",
       "    <tr>\n",
       "      <th>7044</th>\n",
       "      <td>7045</td>\n",
       "      <td>Unpeeled Apricot Halves in Heavy Syrup</td>\n",
       "      <td>88</td>\n",
       "      <td>13</td>\n",
       "      <td>spreads</td>\n",
       "      <td>pantry</td>\n",
       "      <td>NaN</td>\n",
       "      <td>NaN</td>\n",
       "    </tr>\n",
       "    <tr>\n",
       "      <th>46624</th>\n",
       "      <td>46625</td>\n",
       "      <td>Single Barrel Kentucky Straight Bourbon Whiskey</td>\n",
       "      <td>31</td>\n",
       "      <td>7</td>\n",
       "      <td>refrigerated</td>\n",
       "      <td>beverages</td>\n",
       "      <td>NaN</td>\n",
       "      <td>NaN</td>\n",
       "    </tr>\n",
       "  </tbody>\n",
       "</table>\n",
       "</div>"
      ],
      "text/plain": [
       "       product_id                                     product_name  aisle_id  \\\n",
       "3629         3630                      Protein Granola Apple Crisp        57   \n",
       "7044         7045           Unpeeled Apricot Halves in Heavy Syrup        88   \n",
       "46624       46625  Single Barrel Kentucky Straight Bourbon Whiskey        31   \n",
       "\n",
       "       department_id         aisle department  reordered  order_id  \n",
       "3629              14       granola  breakfast        NaN       NaN  \n",
       "7044              13       spreads     pantry        NaN       NaN  \n",
       "46624              7  refrigerated  beverages        NaN       NaN  "
      ]
     },
     "execution_count": 26,
     "metadata": {},
     "output_type": "execute_result"
    }
   ],
   "source": [
    "dataframe[dataframe.isna().any(axis=1)]"
   ]
  },
  {
   "cell_type": "code",
   "execution_count": null,
   "id": "a048d0da",
   "metadata": {},
   "outputs": [],
   "source": [
    "dataframe.fillna(0,inplace=True)"
   ]
  },
  {
   "cell_type": "code",
   "execution_count": null,
   "id": "099074d1",
   "metadata": {},
   "outputs": [
    {
     "data": {
      "text/html": [
       "<div>\n",
       "<style scoped>\n",
       "    .dataframe tbody tr th:only-of-type {\n",
       "        vertical-align: middle;\n",
       "    }\n",
       "\n",
       "    .dataframe tbody tr th {\n",
       "        vertical-align: top;\n",
       "    }\n",
       "\n",
       "    .dataframe thead th {\n",
       "        text-align: right;\n",
       "    }\n",
       "</style>\n",
       "<table border=\"1\" class=\"dataframe\">\n",
       "  <thead>\n",
       "    <tr style=\"text-align: right;\">\n",
       "      <th></th>\n",
       "      <th>product_id</th>\n",
       "      <th>product_name</th>\n",
       "      <th>aisle_id</th>\n",
       "      <th>department_id</th>\n",
       "      <th>aisle</th>\n",
       "      <th>department</th>\n",
       "      <th>reordered</th>\n",
       "      <th>order_id</th>\n",
       "    </tr>\n",
       "  </thead>\n",
       "  <tbody>\n",
       "  </tbody>\n",
       "</table>\n",
       "</div>"
      ],
      "text/plain": [
       "Empty DataFrame\n",
       "Columns: [product_id, product_name, aisle_id, department_id, aisle, department, reordered, order_id]\n",
       "Index: []"
      ]
     },
     "execution_count": 28,
     "metadata": {},
     "output_type": "execute_result"
    }
   ],
   "source": [
    "dataframe[dataframe.isna().any(axis=1)]"
   ]
  },
  {
   "cell_type": "markdown",
   "id": "5d5fe9a2",
   "metadata": {},
   "source": [
    "## Droping unimportant rows and columns"
   ]
  },
  {
   "cell_type": "code",
   "execution_count": null,
   "id": "e283871f",
   "metadata": {},
   "outputs": [
    {
     "data": {
      "text/plain": [
       "['product_id',\n",
       " 'product_name',\n",
       " 'aisle_id',\n",
       " 'department_id',\n",
       " 'aisle',\n",
       " 'department',\n",
       " 'reordered',\n",
       " 'order_id']"
      ]
     },
     "execution_count": 29,
     "metadata": {},
     "output_type": "execute_result"
    }
   ],
   "source": [
    "old_columns=dataframe.columns.tolist()\n",
    "old_columns"
   ]
  },
  {
   "cell_type": "code",
   "execution_count": null,
   "id": "44c6f96e",
   "metadata": {},
   "outputs": [],
   "source": [
    "new_columns=['product_id','product_name','aisle_id','department_id','aisle','department','reorder_total','order_total']"
   ]
  },
  {
   "cell_type": "code",
   "execution_count": null,
   "id": "88a2fa3c",
   "metadata": {},
   "outputs": [],
   "source": [
    "dataframe.columns=new_columns"
   ]
  },
  {
   "cell_type": "markdown",
   "id": "93f7d4da",
   "metadata": {},
   "source": [
    "**support** is a key metric used to measure the frequency of an item or a combination of items being purchased together.\n",
    "\n",
    "#### **Support in Grocery EDA:**\n",
    "\n",
    "Support is defined as the ratio of transactions that contain a particular item (or a combination of items) to the total number of transactions. Mathematically:\n",
    "\n",
    "$$\n",
    "\\text{Support}(X) = \\frac{\\text{Number of transactions containing item X}}{\\text{Total number of transactions}}\n",
    "$$\n",
    "\n",
    "#### Example:\n",
    "\n",
    "* If your dataset has 100 transactions and an item (say \"Milk\") appears in 40 transactions, then:\n",
    "\n",
    "$$\n",
    "\\text{Support(Milk)} = \\frac{40}{100} = 0.4\n",
    "$$\n",
    "\n",
    "This means **40% of transactions contain \"Milk\"**.\n",
    "\n",
    "* **High Support**: Items that appear frequently in transactions. For example, items like \"Bread\" or \"Rice\" might have high support.\n",
    "* **Low Support**: Items that appear less often, like niche or luxury products.\n",
    "\n",
    "In EDA, **support** helps identify popular items or combinations that are often purchased together, which can be used to suggest **item bundling** or **cross-selling** strategies."
   ]
  },
  {
   "cell_type": "code",
   "execution_count": null,
   "id": "2423dabd",
   "metadata": {},
   "outputs": [],
   "source": [
    "dataframe.dtypes"
   ]
  },
  {
   "cell_type": "code",
   "execution_count": null,
   "id": "3c2f697f",
   "metadata": {},
   "outputs": [],
   "source": [
    "sum_of_reorder=dataframe[\"reorder_total\"].sum()\n",
    "sum_of_order=dataframe[\"order_total\"].sum()\n",
    "\n",
    "def support_reorder(x):\n",
    "    return x / sum_of_reorder\n",
    "\n",
    "def support_order(x):\n",
    "    return x / sum_of_order"
   ]
  },
  {
   "cell_type": "code",
   "execution_count": null,
   "id": "eb48a4f9",
   "metadata": {},
   "outputs": [],
   "source": [
    "dataframe[\"reorder_support\"]=dataframe[\"reorder_total\"].apply(support_reorder)\n",
    "dataframe[\"order_support\"]=dataframe[\"order_total\"].apply(support_order)"
   ]
  },
  {
   "cell_type": "code",
   "execution_count": null,
   "id": "c1709e1f",
   "metadata": {},
   "outputs": [
    {
     "data": {
      "text/html": [
       "<div>\n",
       "<style scoped>\n",
       "    .dataframe tbody tr th:only-of-type {\n",
       "        vertical-align: middle;\n",
       "    }\n",
       "\n",
       "    .dataframe tbody tr th {\n",
       "        vertical-align: top;\n",
       "    }\n",
       "\n",
       "    .dataframe thead th {\n",
       "        text-align: right;\n",
       "    }\n",
       "</style>\n",
       "<table border=\"1\" class=\"dataframe\">\n",
       "  <thead>\n",
       "    <tr style=\"text-align: right;\">\n",
       "      <th></th>\n",
       "      <th>product_id</th>\n",
       "      <th>product_name</th>\n",
       "      <th>aisle_id</th>\n",
       "      <th>department_id</th>\n",
       "      <th>aisle</th>\n",
       "      <th>department</th>\n",
       "      <th>reorder_total</th>\n",
       "      <th>order_total</th>\n",
       "      <th>reorder_support</th>\n",
       "      <th>order_support</th>\n",
       "    </tr>\n",
       "  </thead>\n",
       "  <tbody>\n",
       "    <tr>\n",
       "      <th>0</th>\n",
       "      <td>1</td>\n",
       "      <td>Chocolate Sandwich Cookies</td>\n",
       "      <td>61</td>\n",
       "      <td>19</td>\n",
       "      <td>cookies cakes</td>\n",
       "      <td>snacks</td>\n",
       "      <td>1185.0</td>\n",
       "      <td>1928.0</td>\n",
       "      <td>5.938254e-05</td>\n",
       "      <td>0.000057</td>\n",
       "    </tr>\n",
       "    <tr>\n",
       "      <th>1</th>\n",
       "      <td>2</td>\n",
       "      <td>All-Seasons Salt</td>\n",
       "      <td>104</td>\n",
       "      <td>13</td>\n",
       "      <td>spices seasonings</td>\n",
       "      <td>pantry</td>\n",
       "      <td>13.0</td>\n",
       "      <td>94.0</td>\n",
       "      <td>6.514540e-07</td>\n",
       "      <td>0.000003</td>\n",
       "    </tr>\n",
       "    <tr>\n",
       "      <th>2</th>\n",
       "      <td>3</td>\n",
       "      <td>Robust Golden Unsweetened Oolong Tea</td>\n",
       "      <td>94</td>\n",
       "      <td>7</td>\n",
       "      <td>tea</td>\n",
       "      <td>beverages</td>\n",
       "      <td>209.0</td>\n",
       "      <td>283.0</td>\n",
       "      <td>1.047338e-05</td>\n",
       "      <td>0.000008</td>\n",
       "    </tr>\n",
       "  </tbody>\n",
       "</table>\n",
       "</div>"
      ],
      "text/plain": [
       "   product_id                          product_name  aisle_id  department_id  \\\n",
       "0           1            Chocolate Sandwich Cookies        61             19   \n",
       "1           2                      All-Seasons Salt       104             13   \n",
       "2           3  Robust Golden Unsweetened Oolong Tea        94              7   \n",
       "\n",
       "               aisle department  reorder_total  order_total  reorder_support  \\\n",
       "0      cookies cakes     snacks         1185.0       1928.0     5.938254e-05   \n",
       "1  spices seasonings     pantry           13.0         94.0     6.514540e-07   \n",
       "2                tea  beverages          209.0        283.0     1.047338e-05   \n",
       "\n",
       "   order_support  \n",
       "0       0.000057  \n",
       "1       0.000003  \n",
       "2       0.000008  "
      ]
     },
     "execution_count": 34,
     "metadata": {},
     "output_type": "execute_result"
    }
   ],
   "source": [
    "dataframe.head(3)"
   ]
  },
  {
   "cell_type": "code",
   "execution_count": null,
   "id": "13339514",
   "metadata": {},
   "outputs": [
    {
     "data": {
      "text/plain": [
       "21"
      ]
     },
     "execution_count": 44,
     "metadata": {},
     "output_type": "execute_result"
    }
   ],
   "source": [
    "dataframe.department_id.nunique()"
   ]
  },
  {
   "cell_type": "code",
   "execution_count": null,
   "id": "83fa9e28",
   "metadata": {},
   "outputs": [
    {
     "data": {
      "text/plain": [
       "product_id         0\n",
       "product_name       0\n",
       "aisle_id           0\n",
       "department_id      0\n",
       "aisle              0\n",
       "department         0\n",
       "reorder_total      0\n",
       "order_total        0\n",
       "reorder_support    0\n",
       "order_support      0\n",
       "average_order      0\n",
       "std_order          0\n",
       "dtype: int64"
      ]
     },
     "execution_count": 56,
     "metadata": {},
     "output_type": "execute_result"
    }
   ],
   "source": [
    "dataframe.isnull().sum()"
   ]
  },
  {
   "cell_type": "code",
   "execution_count": null,
   "id": "339e5c5a",
   "metadata": {},
   "outputs": [
    {
     "data": {
      "text/plain": [
       "department_id  product_id  product_name                                                       aisle_id  aisle           department  reorder_total  order_total  reorder_support  order_support  average_order  std_order  \n",
       "1              4           Smart Ones Classic Favorites Mini Rigatoni With Vodka Cream Sauce  38        frozen meals    frozen      161.0          351.0        8.068008e-06     1.037875e-05   583.193911     1948.568424    1\n",
       "               8           Cut Russet Potatoes Steam N' Mash                                  116       frozen produce  frozen      90.0           178.0        4.510066e-06     5.263297e-06   583.193911     1948.568424    1\n",
       "               12          Chocolate Fudge Layer Cake                                         119       frozen dessert  frozen      132.0          259.0        6.614764e-06     7.658393e-06   583.193911     1948.568424    1\n",
       "               18          Pizza for One Suprema  Frozen Pizza                                79        frozen pizza    frozen      84.0           143.0        4.209395e-06     4.228379e-06   583.193911     1948.568424    1\n",
       "               30          Three Cheese Ziti, Marinara with Meatballs                         38        frozen meals    frozen      41.0           91.0         2.054586e-06     2.690787e-06   583.193911     1948.568424    1\n",
       "                                                                                                                                                                                                                             ..\n",
       "21             49553       Organic Plain Skyr                                                 100       missing         missing     4.0            17.0         2.004474e-07     5.026744e-07   61.523052      306.099928     1\n",
       "               49575       Chocolate Vanilla Malt Custard                                     100       missing         missing     30.0           41.0         1.503355e-06     1.212332e-06   61.523052      306.099928     1\n",
       "               49641       8\\\" Pecan Pie                                                      100       missing         missing     0.0            5.0          0.000000e+00     1.478454e-07   61.523052      306.099928     1\n",
       "               49664       Lemon Cayenne Drinking Vinegar                                     100       missing         missing     95.0           201.0        4.760626e-06     5.943386e-06   61.523052      306.099928     1\n",
       "               49669       K Cup Dark Blend                                                   100       missing         missing     2.0            7.0          1.002237e-07     2.069836e-07   61.523052      306.099928     1\n",
       "Name: count, Length: 49688, dtype: int64"
      ]
     },
     "execution_count": 61,
     "metadata": {},
     "output_type": "execute_result"
    }
   ],
   "source": [
    "dataframe.groupby(by=\"department_id\").value_counts()"
   ]
  },
  {
   "cell_type": "code",
   "execution_count": null,
   "id": "37ce2c2f",
   "metadata": {},
   "outputs": [
    {
     "data": {
      "text/html": [
       "<div>\n",
       "<style scoped>\n",
       "    .dataframe tbody tr th:only-of-type {\n",
       "        vertical-align: middle;\n",
       "    }\n",
       "\n",
       "    .dataframe tbody tr th {\n",
       "        vertical-align: top;\n",
       "    }\n",
       "\n",
       "    .dataframe thead th {\n",
       "        text-align: right;\n",
       "    }\n",
       "</style>\n",
       "<table border=\"1\" class=\"dataframe\">\n",
       "  <thead>\n",
       "    <tr style=\"text-align: right;\">\n",
       "      <th></th>\n",
       "      <th>product_id</th>\n",
       "      <th>product_name</th>\n",
       "      <th>aisle_id</th>\n",
       "      <th>department_id</th>\n",
       "      <th>aisle</th>\n",
       "      <th>department</th>\n",
       "      <th>reorder_total</th>\n",
       "      <th>order_total</th>\n",
       "      <th>reorder_support</th>\n",
       "      <th>order_support</th>\n",
       "      <th>average_order</th>\n",
       "      <th>std_order</th>\n",
       "    </tr>\n",
       "  </thead>\n",
       "  <tbody>\n",
       "    <tr>\n",
       "      <th>0</th>\n",
       "      <td>1</td>\n",
       "      <td>Chocolate Sandwich Cookies</td>\n",
       "      <td>61</td>\n",
       "      <td>19</td>\n",
       "      <td>cookies cakes</td>\n",
       "      <td>snacks</td>\n",
       "      <td>1185.0</td>\n",
       "      <td>1928.0</td>\n",
       "      <td>5.938254e-05</td>\n",
       "      <td>5.700919e-05</td>\n",
       "      <td>479.950830</td>\n",
       "      <td>1370.273861</td>\n",
       "    </tr>\n",
       "    <tr>\n",
       "      <th>1</th>\n",
       "      <td>2</td>\n",
       "      <td>All-Seasons Salt</td>\n",
       "      <td>104</td>\n",
       "      <td>13</td>\n",
       "      <td>spices seasonings</td>\n",
       "      <td>pantry</td>\n",
       "      <td>13.0</td>\n",
       "      <td>94.0</td>\n",
       "      <td>6.514540e-07</td>\n",
       "      <td>2.779494e-06</td>\n",
       "      <td>364.330478</td>\n",
       "      <td>1378.163620</td>\n",
       "    </tr>\n",
       "    <tr>\n",
       "      <th>2</th>\n",
       "      <td>3</td>\n",
       "      <td>Robust Golden Unsweetened Oolong Tea</td>\n",
       "      <td>94</td>\n",
       "      <td>7</td>\n",
       "      <td>tea</td>\n",
       "      <td>beverages</td>\n",
       "      <td>209.0</td>\n",
       "      <td>283.0</td>\n",
       "      <td>1.047338e-05</td>\n",
       "      <td>8.368051e-06</td>\n",
       "      <td>642.422680</td>\n",
       "      <td>2717.859168</td>\n",
       "    </tr>\n",
       "    <tr>\n",
       "      <th>3</th>\n",
       "      <td>4</td>\n",
       "      <td>Smart Ones Classic Favorites Mini Rigatoni Wit...</td>\n",
       "      <td>38</td>\n",
       "      <td>1</td>\n",
       "      <td>frozen meals</td>\n",
       "      <td>frozen</td>\n",
       "      <td>161.0</td>\n",
       "      <td>351.0</td>\n",
       "      <td>8.068008e-06</td>\n",
       "      <td>1.037875e-05</td>\n",
       "      <td>583.193911</td>\n",
       "      <td>1948.568424</td>\n",
       "    </tr>\n",
       "    <tr>\n",
       "      <th>4</th>\n",
       "      <td>5</td>\n",
       "      <td>Green Chile Anytime Sauce</td>\n",
       "      <td>5</td>\n",
       "      <td>13</td>\n",
       "      <td>marinades meat preparation</td>\n",
       "      <td>pantry</td>\n",
       "      <td>10.0</td>\n",
       "      <td>16.0</td>\n",
       "      <td>5.011185e-07</td>\n",
       "      <td>4.731054e-07</td>\n",
       "      <td>364.330478</td>\n",
       "      <td>1378.163620</td>\n",
       "    </tr>\n",
       "  </tbody>\n",
       "</table>\n",
       "</div>"
      ],
      "text/plain": [
       "   product_id                                       product_name  aisle_id  \\\n",
       "0           1                         Chocolate Sandwich Cookies        61   \n",
       "1           2                                   All-Seasons Salt       104   \n",
       "2           3               Robust Golden Unsweetened Oolong Tea        94   \n",
       "3           4  Smart Ones Classic Favorites Mini Rigatoni Wit...        38   \n",
       "4           5                          Green Chile Anytime Sauce         5   \n",
       "\n",
       "   department_id                       aisle department  reorder_total  \\\n",
       "0             19               cookies cakes     snacks         1185.0   \n",
       "1             13           spices seasonings     pantry           13.0   \n",
       "2              7                         tea  beverages          209.0   \n",
       "3              1                frozen meals     frozen          161.0   \n",
       "4             13  marinades meat preparation     pantry           10.0   \n",
       "\n",
       "   order_total  reorder_support  order_support  average_order    std_order  \n",
       "0       1928.0     5.938254e-05   5.700919e-05     479.950830  1370.273861  \n",
       "1         94.0     6.514540e-07   2.779494e-06     364.330478  1378.163620  \n",
       "2        283.0     1.047338e-05   8.368051e-06     642.422680  2717.859168  \n",
       "3        351.0     8.068008e-06   1.037875e-05     583.193911  1948.568424  \n",
       "4         16.0     5.011185e-07   4.731054e-07     364.330478  1378.163620  "
      ]
     },
     "execution_count": 38,
     "metadata": {},
     "output_type": "execute_result"
    }
   ],
   "source": [
    "dataframe[\"average_order\"]=dataframe.groupby(\"department_id\")[\"order_total\"].transform(\"mean\")\n",
    "dataframe[\"std_order\"]=dataframe.groupby(\"department_id\")[\"order_total\"].transform(\"std\")\n",
    "dataframe.head()"
   ]
  },
  {
   "cell_type": "code",
   "execution_count": null,
   "id": "bc991aaa",
   "metadata": {},
   "outputs": [],
   "source": [
    "dataframe.drop(columns=[\"product_name\"],inplace=True)\n",
    "dataframe.set_index(\"product_id\",inplace=True)\n",
    "dataframe.head(10)"
   ]
  },
  {
   "cell_type": "markdown",
   "id": "39e3b1a4",
   "metadata": {},
   "source": [
    "## Encode and Standardization and Increasing Columns for Better Clusturing (Neighbour algorithm)"
   ]
  },
  {
   "cell_type": "code",
   "execution_count": null,
   "id": "abad0107",
   "metadata": {},
   "outputs": [],
   "source": [
    "dataframe.dtypes"
   ]
  },
  {
   "cell_type": "code",
   "execution_count": null,
   "id": "21b9bb85",
   "metadata": {},
   "outputs": [],
   "source": [
    "numaric_columns=dataframe.select_dtypes(include=[\"int64\",\"float64\"]).columns.tolist()\n",
    "categorical_columns=dataframe.select_dtypes(include=[\"object\"]).columns.tolist()\n",
    "categorical_columns"
   ]
  },
  {
   "cell_type": "code",
   "execution_count": null,
   "id": "2bb5ca08",
   "metadata": {},
   "outputs": [],
   "source": [
    "from sklearn.pipeline import Pipeline\n",
    "from sklearn.compose import ColumnTransformer\n",
    "from sklearn.preprocessing import OneHotEncoder\n",
    "from sklearn.preprocessing import StandardScaler\n",
    "\n",
    "scaler=StandardScaler()\n",
    "onehot=OneHotEncoder(handle_unknown=\"ignore\")\n",
    "\n",
    "numaric_pipeline=Pipeline(\n",
    "    [\n",
    "        (\"scaler\",scaler)\n",
    "    ]\n",
    ")\n",
    "catagorical_pipeline=Pipeline(\n",
    "    [\n",
    "        (\"onehot\",onehot)\n",
    "    ]\n",
    ")\n",
    "\n",
    "transformer=ColumnTransformer(\n",
    "    [\n",
    "        (\"numaric\",numaric_pipeline,numaric_columns),\n",
    "        (\"onehot\",catagorical_pipeline,categorical_columns),\n",
    "    ]\n",
    ")\n"
   ]
  },
  {
   "cell_type": "code",
   "execution_count": null,
   "id": "9bb9978b",
   "metadata": {},
   "outputs": [],
   "source": [
    "Matrix=transformer.fit_transform(dataframe)\n",
    "\n",
    "Matrix"
   ]
  },
  {
   "cell_type": "code",
   "execution_count": null,
   "id": "5ab898bb",
   "metadata": {},
   "outputs": [],
   "source": [
    "print(Matrix[0])"
   ]
  },
  {
   "cell_type": "markdown",
   "id": "58e4879b",
   "metadata": {},
   "source": [
    "# ML Algorithm Train"
   ]
  },
  {
   "cell_type": "code",
   "execution_count": null,
   "id": "98a60ede",
   "metadata": {},
   "outputs": [],
   "source": [
    "from sklearn.neighbors import NearestNeighbors\n",
    "\n",
    "n_nearest=NearestNeighbors(n_neighbors=5)\n",
    "n_nearest.fit(Matrix)"
   ]
  },
  {
   "cell_type": "code",
   "execution_count": null,
   "id": "472fb86f",
   "metadata": {},
   "outputs": [],
   "source": [
    "dataframe.head()"
   ]
  },
  {
   "cell_type": "code",
   "execution_count": null,
   "id": "f0adc0be",
   "metadata": {},
   "outputs": [],
   "source": [
    "distance, suggestions=n_nearest.kneighbors(Matrix[0],n_neighbors=5)  # distance, row index = model.kneighbours()\n",
    "suggestions"
   ]
  },
  {
   "cell_type": "code",
   "execution_count": null,
   "id": "e5a5c31e",
   "metadata": {},
   "outputs": [],
   "source": [
    "for i in suggestions.ravel():\n",
    "    print(f'''{products.at[i,\"product_name\"]}  ------- {products.at[i,\"aisle\"]}  --------- {products.at[i,\"department\"]}''')"
   ]
  },
  {
   "cell_type": "markdown",
   "id": "18428262",
   "metadata": {},
   "source": [
    "# Function to predict and showing altogether"
   ]
  },
  {
   "cell_type": "code",
   "execution_count": null,
   "id": "b0352c08",
   "metadata": {},
   "outputs": [],
   "source": [
    "items_list=products.copy()\n",
    "items_list.set_index(\"product_id\",inplace=True)"
   ]
  },
  {
   "cell_type": "code",
   "execution_count": null,
   "id": "40370793",
   "metadata": {},
   "outputs": [],
   "source": [
    "items_list[items_list[\"product_name\"]==\"Chocolate Sandwich Cookies\"]"
   ]
  },
  {
   "cell_type": "code",
   "execution_count": null,
   "id": "9a17076f",
   "metadata": {},
   "outputs": [],
   "source": [
    "print(items_list[items_list[\"product_name\"]==\"Chocolate Sandwich Cookies\"].index[0])"
   ]
  },
  {
   "cell_type": "code",
   "execution_count": null,
   "id": "ec15e06b",
   "metadata": {},
   "outputs": [],
   "source": [
    "def suggest_item(data):\n",
    "    index=items_list[items_list[\"product_name\"]==data].index[0]\n",
    "    values=n_nearest.kneighbors(Matrix[index],n_neighbors=5,return_distance=False)\n",
    "\n",
    "    for i in values.ravel():\n",
    "        print(f'''{items_list.at[i,\"product_name\"]}  ------- {items_list.at[i,\"aisle\"]}  --------- {items_list.at[i,\"department\"]}''')\n",
    "        "
   ]
  },
  {
   "cell_type": "code",
   "execution_count": null,
   "id": "5d28d713",
   "metadata": {},
   "outputs": [],
   "source": [
    "products.head()"
   ]
  },
  {
   "cell_type": "code",
   "execution_count": null,
   "id": "5e4cb387",
   "metadata": {},
   "outputs": [],
   "source": [
    "suggest_item(\"Robust Golden Unsweetened Oolong Tea\")"
   ]
  },
  {
   "cell_type": "markdown",
   "id": "411e9e3e",
   "metadata": {},
   "source": [
    "# Working on next item predictor"
   ]
  },
  {
   "cell_type": "code",
   "execution_count": null,
   "id": "d45c9e6f",
   "metadata": {},
   "outputs": [],
   "source": [
    "order_full_detail.sort_values(by=\"order_id\",inplace=True)\n",
    "order_full_detail.head(10)"
   ]
  },
  {
   "cell_type": "code",
   "execution_count": null,
   "id": "0b8cdb6c",
   "metadata": {},
   "outputs": [],
   "source": [
    "dictionary={\n",
    "    1:list()\n",
    "}\n",
    "dictionary[1].append(4)\n",
    "dictionary[1].append(5)\n",
    "dictionary"
   ]
  },
  {
   "cell_type": "code",
   "execution_count": null,
   "id": "68298a53",
   "metadata": {},
   "outputs": [],
   "source": [
    "order_full_detail.order_id.max()"
   ]
  },
  {
   "cell_type": "code",
   "execution_count": null,
   "id": "59b7b9b1",
   "metadata": {},
   "outputs": [],
   "source": [
    "products[products[\"product_id\"]==1]"
   ]
  },
  {
   "cell_type": "code",
   "execution_count": null,
   "id": "67805aa5",
   "metadata": {},
   "outputs": [],
   "source": [
    "products[products[\"product_id\"]==1][\"aisle_id\"].values[0]"
   ]
  },
  {
   "cell_type": "code",
   "execution_count": null,
   "id": "e54913ff",
   "metadata": {},
   "outputs": [],
   "source": [
    "order_full_detail.head()"
   ]
  },
  {
   "cell_type": "markdown",
   "id": "db2097a8",
   "metadata": {},
   "source": [
    "## Caution for running this\n",
    "\n",
    "If this file has been run once, then skip the next part as they take so much time and load the modified csv and start working"
   ]
  },
  {
   "cell_type": "code",
   "execution_count": null,
   "id": "0031cf39",
   "metadata": {},
   "outputs": [],
   "source": [
    "purchase_list_dictionary={}\n",
    "\n",
    "for i in range(1,order_full_detail.order_id.max()+1):\n",
    "    purchase_list_dictionary[i]=list()\n",
    "\n",
    "for row in order_full_detail.values:\n",
    "   purchase_list_dictionary[row[0]].append(row[1])"
   ]
  },
  {
   "cell_type": "code",
   "execution_count": null,
   "id": "ee95746c",
   "metadata": {},
   "outputs": [],
   "source": [
    "order_id_column=purchase_list_dictionary.keys()\n",
    "purchase_aisle_column=purchase_list_dictionary.values()"
   ]
  },
  {
   "cell_type": "code",
   "execution_count": null,
   "id": "4e05e086",
   "metadata": {},
   "outputs": [],
   "source": [
    "converted_dic=pd.DataFrame()\n",
    "converted_dic[\"order_id\"]=order_id_column\n",
    "converted_dic[\"purchase_list\"]=purchase_aisle_column"
   ]
  },
  {
   "cell_type": "code",
   "execution_count": null,
   "id": "fd62ab27",
   "metadata": {},
   "outputs": [],
   "source": [
    "converted_dic.head()"
   ]
  },
  {
   "cell_type": "code",
   "execution_count": null,
   "id": "b2fedfb7",
   "metadata": {},
   "outputs": [],
   "source": [
    "converted_dic[\"total_product\"]=converted_dic[\"purchase_list\"].apply(len)"
   ]
  },
  {
   "cell_type": "code",
   "execution_count": null,
   "id": "ca556a27",
   "metadata": {},
   "outputs": [],
   "source": [
    "converted_dic[(converted_dic[\"total_product\"]>=10) & (converted_dic[\"total_product\"]<=20)].head()"
   ]
  },
  {
   "cell_type": "code",
   "execution_count": null,
   "id": "0303b4a4",
   "metadata": {},
   "outputs": [],
   "source": [
    "converted_dic.to_csv(\"test.csv\")"
   ]
  },
  {
   "cell_type": "code",
   "execution_count": null,
   "id": "0ae3e2cd",
   "metadata": {},
   "outputs": [],
   "source": [
    "max_purchase=converted_dic.total_product.max()"
   ]
  },
  {
   "cell_type": "code",
   "execution_count": null,
   "id": "5af0c81a",
   "metadata": {},
   "outputs": [],
   "source": [
    "target_df=converted_dic[(converted_dic[\"total_product\"]>=10) & (converted_dic[\"total_product\"]<=20)].copy()\n",
    "target_df.shape"
   ]
  },
  {
   "cell_type": "code",
   "execution_count": null,
   "id": "59a6a2e5",
   "metadata": {},
   "outputs": [],
   "source": [
    "dataframe[dataframe.index==4][\"department_id\"]"
   ]
  },
  {
   "cell_type": "code",
   "execution_count": null,
   "id": "e2faa13c",
   "metadata": {},
   "outputs": [],
   "source": [
    "l1=target_df[\"purchase_list\"].values[0]"
   ]
  },
  {
   "cell_type": "code",
   "execution_count": null,
   "id": "d11d97b8",
   "metadata": {},
   "outputs": [],
   "source": [
    "target_df.head()"
   ]
  },
  {
   "cell_type": "code",
   "execution_count": null,
   "id": "5558fda8",
   "metadata": {},
   "outputs": [],
   "source": [
    "\n",
    "def collect_department(list_data):\n",
    "    modified_list = []\n",
    "    for i,value in enumerate(list_data):\n",
    "        dept=dataframe[dataframe.index==value][\"department_id\"].values[0]\n",
    "        modified_list.append(dept)\n",
    "    return modified_list\n",
    "\n",
    "target_df[\"purchase_dept\"]=target_df[\"purchase_list\"].apply(collect_department)"
   ]
  },
  {
   "cell_type": "code",
   "execution_count": null,
   "id": "3b0f4eb9",
   "metadata": {},
   "outputs": [],
   "source": [
    "target_df.to_csv(\"target_df.csv\",index=False)"
   ]
  },
  {
   "cell_type": "markdown",
   "id": "977f338b",
   "metadata": {},
   "source": [
    "## Run from here"
   ]
  },
  {
   "cell_type": "code",
   "execution_count": null,
   "id": "56478771",
   "metadata": {},
   "outputs": [
    {
     "data": {
      "text/html": [
       "<div>\n",
       "<style scoped>\n",
       "    .dataframe tbody tr th:only-of-type {\n",
       "        vertical-align: middle;\n",
       "    }\n",
       "\n",
       "    .dataframe tbody tr th {\n",
       "        vertical-align: top;\n",
       "    }\n",
       "\n",
       "    .dataframe thead th {\n",
       "        text-align: right;\n",
       "    }\n",
       "</style>\n",
       "<table border=\"1\" class=\"dataframe\">\n",
       "  <thead>\n",
       "    <tr style=\"text-align: right;\">\n",
       "      <th></th>\n",
       "      <th>order_id</th>\n",
       "      <th>purchase_list</th>\n",
       "      <th>total_product</th>\n",
       "      <th>purchase_dept</th>\n",
       "    </tr>\n",
       "  </thead>\n",
       "  <tbody>\n",
       "    <tr>\n",
       "      <th>0</th>\n",
       "      <td>4</td>\n",
       "      <td>[21351, 41276, 32645, 25146, 17616, 40285, 348...</td>\n",
       "      <td>13</td>\n",
       "      <td>[14, 7, 7, 7, 19, 19, 19, 19, 14, 14, 11, 3, 14]</td>\n",
       "    </tr>\n",
       "    <tr>\n",
       "      <th>1</th>\n",
       "      <td>9</td>\n",
       "      <td>[14992, 14183, 3990, 432, 27366, 18362, 23288,...</td>\n",
       "      <td>15</td>\n",
       "      <td>[4, 14, 16, 16, 7, 3, 7, 13, 19, 4, 4, 4, 3, 1...</td>\n",
       "    </tr>\n",
       "    <tr>\n",
       "      <th>2</th>\n",
       "      <td>10</td>\n",
       "      <td>[3464, 25720, 26842, 49235, 27156, 34134, 2212...</td>\n",
       "      <td>15</td>\n",
       "      <td>[4, 4, 12, 16, 15, 18, 18, 4, 4, 4, 4, 4, 4, 4...</td>\n",
       "    </tr>\n",
       "    <tr>\n",
       "      <th>3</th>\n",
       "      <td>12</td>\n",
       "      <td>[37215, 34335, 37886, 25213, 15221, 30597, 316...</td>\n",
       "      <td>15</td>\n",
       "      <td>[7, 7, 16, 19, 16, 16, 7, 4, 15, 7, 19, 19, 1,...</td>\n",
       "    </tr>\n",
       "    <tr>\n",
       "      <th>4</th>\n",
       "      <td>13</td>\n",
       "      <td>[36086, 25952, 3800, 23020, 33198, 41290, 2578...</td>\n",
       "      <td>13</td>\n",
       "      <td>[16, 19, 16, 7, 7, 7, 7, 7, 13, 7, 5, 13, 5]</td>\n",
       "    </tr>\n",
       "  </tbody>\n",
       "</table>\n",
       "</div>"
      ],
      "text/plain": [
       "   order_id                                      purchase_list  total_product  \\\n",
       "0         4  [21351, 41276, 32645, 25146, 17616, 40285, 348...             13   \n",
       "1         9  [14992, 14183, 3990, 432, 27366, 18362, 23288,...             15   \n",
       "2        10  [3464, 25720, 26842, 49235, 27156, 34134, 2212...             15   \n",
       "3        12  [37215, 34335, 37886, 25213, 15221, 30597, 316...             15   \n",
       "4        13  [36086, 25952, 3800, 23020, 33198, 41290, 2578...             13   \n",
       "\n",
       "                                       purchase_dept  \n",
       "0   [14, 7, 7, 7, 19, 19, 19, 19, 14, 14, 11, 3, 14]  \n",
       "1  [4, 14, 16, 16, 7, 3, 7, 13, 19, 4, 4, 4, 3, 1...  \n",
       "2  [4, 4, 12, 16, 15, 18, 18, 4, 4, 4, 4, 4, 4, 4...  \n",
       "3  [7, 7, 16, 19, 16, 16, 7, 4, 15, 7, 19, 19, 1,...  \n",
       "4       [16, 19, 16, 7, 7, 7, 7, 7, 13, 7, 5, 13, 5]  "
      ]
     },
     "execution_count": 2,
     "metadata": {},
     "output_type": "execute_result"
    }
   ],
   "source": [
    "import pandas as pd\n",
    "target_df=pd.read_csv(\"target_df.csv\")\n",
    "target_df.head()"
   ]
  },
  {
   "cell_type": "code",
   "execution_count": null,
   "id": "78ea297b",
   "metadata": {},
   "outputs": [
    {
     "data": {
      "text/html": [
       "<div>\n",
       "<style scoped>\n",
       "    .dataframe tbody tr th:only-of-type {\n",
       "        vertical-align: middle;\n",
       "    }\n",
       "\n",
       "    .dataframe tbody tr th {\n",
       "        vertical-align: top;\n",
       "    }\n",
       "\n",
       "    .dataframe thead th {\n",
       "        text-align: right;\n",
       "    }\n",
       "</style>\n",
       "<table border=\"1\" class=\"dataframe\">\n",
       "  <thead>\n",
       "    <tr style=\"text-align: right;\">\n",
       "      <th></th>\n",
       "      <th>order_id</th>\n",
       "      <th>purchase_list</th>\n",
       "      <th>total_product</th>\n",
       "      <th>purchase_dept</th>\n",
       "    </tr>\n",
       "  </thead>\n",
       "  <tbody>\n",
       "    <tr>\n",
       "      <th>0</th>\n",
       "      <td>4</td>\n",
       "      <td>[21351, 41276, 32645, 25146, 17616, 40285, 348...</td>\n",
       "      <td>13</td>\n",
       "      <td>[14, 7, 7, 7, 19, 19, 19, 19, 14, 14, 11, 3, 14]</td>\n",
       "    </tr>\n",
       "    <tr>\n",
       "      <th>1</th>\n",
       "      <td>9</td>\n",
       "      <td>[14992, 14183, 3990, 432, 27366, 18362, 23288,...</td>\n",
       "      <td>15</td>\n",
       "      <td>[4, 14, 16, 16, 7, 3, 7, 13, 19, 4, 4, 4, 3, 1...</td>\n",
       "    </tr>\n",
       "    <tr>\n",
       "      <th>2</th>\n",
       "      <td>10</td>\n",
       "      <td>[3464, 25720, 26842, 49235, 27156, 34134, 2212...</td>\n",
       "      <td>15</td>\n",
       "      <td>[4, 4, 12, 16, 15, 18, 18, 4, 4, 4, 4, 4, 4, 4...</td>\n",
       "    </tr>\n",
       "    <tr>\n",
       "      <th>3</th>\n",
       "      <td>12</td>\n",
       "      <td>[37215, 34335, 37886, 25213, 15221, 30597, 316...</td>\n",
       "      <td>15</td>\n",
       "      <td>[7, 7, 16, 19, 16, 16, 7, 4, 15, 7, 19, 19, 1,...</td>\n",
       "    </tr>\n",
       "    <tr>\n",
       "      <th>4</th>\n",
       "      <td>13</td>\n",
       "      <td>[36086, 25952, 3800, 23020, 33198, 41290, 2578...</td>\n",
       "      <td>13</td>\n",
       "      <td>[16, 19, 16, 7, 7, 7, 7, 7, 13, 7, 5, 13, 5]</td>\n",
       "    </tr>\n",
       "  </tbody>\n",
       "</table>\n",
       "</div>"
      ],
      "text/plain": [
       "   order_id                                      purchase_list  total_product  \\\n",
       "0         4  [21351, 41276, 32645, 25146, 17616, 40285, 348...             13   \n",
       "1         9  [14992, 14183, 3990, 432, 27366, 18362, 23288,...             15   \n",
       "2        10  [3464, 25720, 26842, 49235, 27156, 34134, 2212...             15   \n",
       "3        12  [37215, 34335, 37886, 25213, 15221, 30597, 316...             15   \n",
       "4        13  [36086, 25952, 3800, 23020, 33198, 41290, 2578...             13   \n",
       "\n",
       "                                       purchase_dept  \n",
       "0   [14, 7, 7, 7, 19, 19, 19, 19, 14, 14, 11, 3, 14]  \n",
       "1  [4, 14, 16, 16, 7, 3, 7, 13, 19, 4, 4, 4, 3, 1...  \n",
       "2  [4, 4, 12, 16, 15, 18, 18, 4, 4, 4, 4, 4, 4, 4...  \n",
       "3  [7, 7, 16, 19, 16, 16, 7, 4, 15, 7, 19, 19, 1,...  \n",
       "4       [16, 19, 16, 7, 7, 7, 7, 7, 13, 7, 5, 13, 5]  "
      ]
     },
     "execution_count": 3,
     "metadata": {},
     "output_type": "execute_result"
    }
   ],
   "source": [
    "import ast\n",
    "target_df['purchase_dept'] = target_df['purchase_dept'].apply(lambda x: ast.literal_eval(x))\n",
    "target_df.head()"
   ]
  },
  {
   "cell_type": "code",
   "execution_count": null,
   "id": "16d52fc7",
   "metadata": {},
   "outputs": [],
   "source": [
    "training_set=[]\n",
    "for seq in target_df[\"purchase_dept\"].values:\n",
    "    for val in range(1,len(seq)):\n",
    "        training_set.append(seq[:val+1])"
   ]
  },
  {
   "cell_type": "code",
   "execution_count": null,
   "id": "3cef5d08",
   "metadata": {},
   "outputs": [
    {
     "data": {
      "text/plain": [
       "[[14, 7],\n",
       " [14, 7, 7],\n",
       " [14, 7, 7, 7],\n",
       " [14, 7, 7, 7, 19],\n",
       " [14, 7, 7, 7, 19, 19],\n",
       " [14, 7, 7, 7, 19, 19, 19],\n",
       " [14, 7, 7, 7, 19, 19, 19, 19],\n",
       " [14, 7, 7, 7, 19, 19, 19, 19, 14],\n",
       " [14, 7, 7, 7, 19, 19, 19, 19, 14, 14],\n",
       " [14, 7, 7, 7, 19, 19, 19, 19, 14, 14, 11],\n",
       " [14, 7, 7, 7, 19, 19, 19, 19, 14, 14, 11, 3],\n",
       " [14, 7, 7, 7, 19, 19, 19, 19, 14, 14, 11, 3, 14],\n",
       " [4, 14],\n",
       " [4, 14, 16],\n",
       " [4, 14, 16, 16],\n",
       " [4, 14, 16, 16, 7],\n",
       " [4, 14, 16, 16, 7, 3],\n",
       " [4, 14, 16, 16, 7, 3, 7],\n",
       " [4, 14, 16, 16, 7, 3, 7, 13],\n",
       " [4, 14, 16, 16, 7, 3, 7, 13, 19],\n",
       " [4, 14, 16, 16, 7, 3, 7, 13, 19, 4],\n",
       " [4, 14, 16, 16, 7, 3, 7, 13, 19, 4, 4],\n",
       " [4, 14, 16, 16, 7, 3, 7, 13, 19, 4, 4, 4],\n",
       " [4, 14, 16, 16, 7, 3, 7, 13, 19, 4, 4, 4, 3],\n",
       " [4, 14, 16, 16, 7, 3, 7, 13, 19, 4, 4, 4, 3, 15],\n",
       " [4, 14, 16, 16, 7, 3, 7, 13, 19, 4, 4, 4, 3, 15, 16],\n",
       " [4, 4],\n",
       " [4, 4, 12],\n",
       " [4, 4, 12, 16],\n",
       " [4, 4, 12, 16, 15],\n",
       " [4, 4, 12, 16, 15, 18],\n",
       " [4, 4, 12, 16, 15, 18, 18],\n",
       " [4, 4, 12, 16, 15, 18, 18, 4],\n",
       " [4, 4, 12, 16, 15, 18, 18, 4, 4],\n",
       " [4, 4, 12, 16, 15, 18, 18, 4, 4, 4],\n",
       " [4, 4, 12, 16, 15, 18, 18, 4, 4, 4, 4],\n",
       " [4, 4, 12, 16, 15, 18, 18, 4, 4, 4, 4, 4],\n",
       " [4, 4, 12, 16, 15, 18, 18, 4, 4, 4, 4, 4, 4],\n",
       " [4, 4, 12, 16, 15, 18, 18, 4, 4, 4, 4, 4, 4, 4],\n",
       " [4, 4, 12, 16, 15, 18, 18, 4, 4, 4, 4, 4, 4, 4, 4],\n",
       " [7, 7],\n",
       " [7, 7, 16],\n",
       " [7, 7, 16, 19],\n",
       " [7, 7, 16, 19, 16],\n",
       " [7, 7, 16, 19, 16, 16],\n",
       " [7, 7, 16, 19, 16, 16, 7],\n",
       " [7, 7, 16, 19, 16, 16, 7, 4],\n",
       " [7, 7, 16, 19, 16, 16, 7, 4, 15],\n",
       " [7, 7, 16, 19, 16, 16, 7, 4, 15, 7],\n",
       " [7, 7, 16, 19, 16, 16, 7, 4, 15, 7, 19]]"
      ]
     },
     "execution_count": 5,
     "metadata": {},
     "output_type": "execute_result"
    }
   ],
   "source": [
    "training_set[:50]"
   ]
  },
  {
   "cell_type": "code",
   "execution_count": null,
   "id": "83c8146c",
   "metadata": {},
   "outputs": [
    {
     "data": {
      "text/plain": [
       "20"
      ]
     },
     "execution_count": 6,
     "metadata": {},
     "output_type": "execute_result"
    }
   ],
   "source": [
    "maxlen = max(len(seq) for seq in training_set)\n",
    "maxlen"
   ]
  },
  {
   "cell_type": "code",
   "execution_count": null,
   "id": "d7871299",
   "metadata": {},
   "outputs": [],
   "source": [
    "import tensorflow as tf\n",
    "from tensorflow.keras.preprocessing.sequence import pad_sequences\n",
    "\n",
    "padded_training_set=pad_sequences(training_set,maxlen=maxlen+1,padding=\"pre\")"
   ]
  },
  {
   "cell_type": "code",
   "execution_count": null,
   "id": "3563cbc1",
   "metadata": {},
   "outputs": [
    {
     "data": {
      "text/plain": [
       "array([[ 0,  0,  0,  0,  0,  0,  0,  0,  0,  0,  0,  0,  0,  0,  0,  0,\n",
       "         0,  0,  0, 14,  7],\n",
       "       [ 0,  0,  0,  0,  0,  0,  0,  0,  0,  0,  0,  0,  0,  0,  0,  0,\n",
       "         0,  0, 14,  7,  7],\n",
       "       [ 0,  0,  0,  0,  0,  0,  0,  0,  0,  0,  0,  0,  0,  0,  0,  0,\n",
       "         0, 14,  7,  7,  7],\n",
       "       [ 0,  0,  0,  0,  0,  0,  0,  0,  0,  0,  0,  0,  0,  0,  0,  0,\n",
       "        14,  7,  7,  7, 19],\n",
       "       [ 0,  0,  0,  0,  0,  0,  0,  0,  0,  0,  0,  0,  0,  0,  0, 14,\n",
       "         7,  7,  7, 19, 19]])"
      ]
     },
     "execution_count": 8,
     "metadata": {},
     "output_type": "execute_result"
    }
   ],
   "source": [
    "padded_training_set[:5]"
   ]
  },
  {
   "cell_type": "code",
   "execution_count": null,
   "id": "4f1b218b",
   "metadata": {},
   "outputs": [],
   "source": [
    "X_train = padded_training_set[:, :-1]  # All columns except the last one (input sequence)\n",
    "y_train = padded_training_set[:, -1]   # The last column (next product to predict)"
   ]
  },
  {
   "cell_type": "code",
   "execution_count": null,
   "id": "48cc9466",
   "metadata": {},
   "outputs": [
    {
     "data": {
      "text/plain": [
       "21"
      ]
     },
     "execution_count": 13,
     "metadata": {},
     "output_type": "execute_result"
    }
   ],
   "source": [
    "import numpy as np\n",
    "np.max(padded_training_set)"
   ]
  },
  {
   "cell_type": "code",
   "execution_count": null,
   "id": "9ec0ae41",
   "metadata": {},
   "outputs": [],
   "source": [
    "from tensorflow.keras.utils import to_categorical\n",
    "\n",
    "y_train = to_categorical(y_train, num_classes=np.max(padded_training_set) + 1)  # +1 for zero-padding"
   ]
  },
  {
   "cell_type": "code",
   "execution_count": null,
   "id": "1925beba",
   "metadata": {},
   "outputs": [
    {
     "name": "stderr",
     "output_type": "stream",
     "text": [
      "c:\\Users\\Lenovo\\AppData\\Local\\Programs\\Python\\Python311\\Lib\\site-packages\\keras\\src\\layers\\core\\embedding.py:90: UserWarning: Argument `input_length` is deprecated. Just remove it.\n",
      "  warnings.warn(\n"
     ]
    },
    {
     "data": {
      "text/html": [
       "<pre style=\"white-space:pre;overflow-x:auto;line-height:normal;font-family:Menlo,'DejaVu Sans Mono',consolas,'Courier New',monospace\"><span style=\"font-weight: bold\">Model: \"sequential\"</span>\n",
       "</pre>\n"
      ],
      "text/plain": [
       "\u001b[1mModel: \"sequential\"\u001b[0m\n"
      ]
     },
     "metadata": {},
     "output_type": "display_data"
    },
    {
     "data": {
      "text/html": [
       "<pre style=\"white-space:pre;overflow-x:auto;line-height:normal;font-family:Menlo,'DejaVu Sans Mono',consolas,'Courier New',monospace\">┏━━━━━━━━━━━━━━━━━━━━━━━━━━━━━━━━━┳━━━━━━━━━━━━━━━━━━━━━━━━┳━━━━━━━━━━━━━━━┓\n",
       "┃<span style=\"font-weight: bold\"> Layer (type)                    </span>┃<span style=\"font-weight: bold\"> Output Shape           </span>┃<span style=\"font-weight: bold\">       Param # </span>┃\n",
       "┡━━━━━━━━━━━━━━━━━━━━━━━━━━━━━━━━━╇━━━━━━━━━━━━━━━━━━━━━━━━╇━━━━━━━━━━━━━━━┩\n",
       "│ embedding (<span style=\"color: #0087ff; text-decoration-color: #0087ff\">Embedding</span>)           │ (<span style=\"color: #00d7ff; text-decoration-color: #00d7ff\">None</span>, <span style=\"color: #00af00; text-decoration-color: #00af00\">20</span>, <span style=\"color: #00af00; text-decoration-color: #00af00\">64</span>)         │         <span style=\"color: #00af00; text-decoration-color: #00af00\">1,408</span> │\n",
       "├─────────────────────────────────┼────────────────────────┼───────────────┤\n",
       "│ lstm (<span style=\"color: #0087ff; text-decoration-color: #0087ff\">LSTM</span>)                     │ (<span style=\"color: #00d7ff; text-decoration-color: #00d7ff\">None</span>, <span style=\"color: #00af00; text-decoration-color: #00af00\">20</span>, <span style=\"color: #00af00; text-decoration-color: #00af00\">128</span>)        │        <span style=\"color: #00af00; text-decoration-color: #00af00\">98,816</span> │\n",
       "├─────────────────────────────────┼────────────────────────┼───────────────┤\n",
       "│ dropout (<span style=\"color: #0087ff; text-decoration-color: #0087ff\">Dropout</span>)               │ (<span style=\"color: #00d7ff; text-decoration-color: #00d7ff\">None</span>, <span style=\"color: #00af00; text-decoration-color: #00af00\">20</span>, <span style=\"color: #00af00; text-decoration-color: #00af00\">128</span>)        │             <span style=\"color: #00af00; text-decoration-color: #00af00\">0</span> │\n",
       "├─────────────────────────────────┼────────────────────────┼───────────────┤\n",
       "│ lstm_1 (<span style=\"color: #0087ff; text-decoration-color: #0087ff\">LSTM</span>)                   │ (<span style=\"color: #00d7ff; text-decoration-color: #00d7ff\">None</span>, <span style=\"color: #00af00; text-decoration-color: #00af00\">64</span>)             │        <span style=\"color: #00af00; text-decoration-color: #00af00\">49,408</span> │\n",
       "├─────────────────────────────────┼────────────────────────┼───────────────┤\n",
       "│ dense (<span style=\"color: #0087ff; text-decoration-color: #0087ff\">Dense</span>)                   │ (<span style=\"color: #00d7ff; text-decoration-color: #00d7ff\">None</span>, <span style=\"color: #00af00; text-decoration-color: #00af00\">32</span>)             │         <span style=\"color: #00af00; text-decoration-color: #00af00\">2,080</span> │\n",
       "├─────────────────────────────────┼────────────────────────┼───────────────┤\n",
       "│ dense_1 (<span style=\"color: #0087ff; text-decoration-color: #0087ff\">Dense</span>)                 │ (<span style=\"color: #00d7ff; text-decoration-color: #00d7ff\">None</span>, <span style=\"color: #00af00; text-decoration-color: #00af00\">22</span>)             │           <span style=\"color: #00af00; text-decoration-color: #00af00\">726</span> │\n",
       "└─────────────────────────────────┴────────────────────────┴───────────────┘\n",
       "</pre>\n"
      ],
      "text/plain": [
       "┏━━━━━━━━━━━━━━━━━━━━━━━━━━━━━━━━━┳━━━━━━━━━━━━━━━━━━━━━━━━┳━━━━━━━━━━━━━━━┓\n",
       "┃\u001b[1m \u001b[0m\u001b[1mLayer (type)                   \u001b[0m\u001b[1m \u001b[0m┃\u001b[1m \u001b[0m\u001b[1mOutput Shape          \u001b[0m\u001b[1m \u001b[0m┃\u001b[1m \u001b[0m\u001b[1m      Param #\u001b[0m\u001b[1m \u001b[0m┃\n",
       "┡━━━━━━━━━━━━━━━━━━━━━━━━━━━━━━━━━╇━━━━━━━━━━━━━━━━━━━━━━━━╇━━━━━━━━━━━━━━━┩\n",
       "│ embedding (\u001b[38;5;33mEmbedding\u001b[0m)           │ (\u001b[38;5;45mNone\u001b[0m, \u001b[38;5;34m20\u001b[0m, \u001b[38;5;34m64\u001b[0m)         │         \u001b[38;5;34m1,408\u001b[0m │\n",
       "├─────────────────────────────────┼────────────────────────┼───────────────┤\n",
       "│ lstm (\u001b[38;5;33mLSTM\u001b[0m)                     │ (\u001b[38;5;45mNone\u001b[0m, \u001b[38;5;34m20\u001b[0m, \u001b[38;5;34m128\u001b[0m)        │        \u001b[38;5;34m98,816\u001b[0m │\n",
       "├─────────────────────────────────┼────────────────────────┼───────────────┤\n",
       "│ dropout (\u001b[38;5;33mDropout\u001b[0m)               │ (\u001b[38;5;45mNone\u001b[0m, \u001b[38;5;34m20\u001b[0m, \u001b[38;5;34m128\u001b[0m)        │             \u001b[38;5;34m0\u001b[0m │\n",
       "├─────────────────────────────────┼────────────────────────┼───────────────┤\n",
       "│ lstm_1 (\u001b[38;5;33mLSTM\u001b[0m)                   │ (\u001b[38;5;45mNone\u001b[0m, \u001b[38;5;34m64\u001b[0m)             │        \u001b[38;5;34m49,408\u001b[0m │\n",
       "├─────────────────────────────────┼────────────────────────┼───────────────┤\n",
       "│ dense (\u001b[38;5;33mDense\u001b[0m)                   │ (\u001b[38;5;45mNone\u001b[0m, \u001b[38;5;34m32\u001b[0m)             │         \u001b[38;5;34m2,080\u001b[0m │\n",
       "├─────────────────────────────────┼────────────────────────┼───────────────┤\n",
       "│ dense_1 (\u001b[38;5;33mDense\u001b[0m)                 │ (\u001b[38;5;45mNone\u001b[0m, \u001b[38;5;34m22\u001b[0m)             │           \u001b[38;5;34m726\u001b[0m │\n",
       "└─────────────────────────────────┴────────────────────────┴───────────────┘\n"
      ]
     },
     "metadata": {},
     "output_type": "display_data"
    },
    {
     "data": {
      "text/html": [
       "<pre style=\"white-space:pre;overflow-x:auto;line-height:normal;font-family:Menlo,'DejaVu Sans Mono',consolas,'Courier New',monospace\"><span style=\"font-weight: bold\"> Total params: </span><span style=\"color: #00af00; text-decoration-color: #00af00\">152,438</span> (595.46 KB)\n",
       "</pre>\n"
      ],
      "text/plain": [
       "\u001b[1m Total params: \u001b[0m\u001b[38;5;34m152,438\u001b[0m (595.46 KB)\n"
      ]
     },
     "metadata": {},
     "output_type": "display_data"
    },
    {
     "data": {
      "text/html": [
       "<pre style=\"white-space:pre;overflow-x:auto;line-height:normal;font-family:Menlo,'DejaVu Sans Mono',consolas,'Courier New',monospace\"><span style=\"font-weight: bold\"> Trainable params: </span><span style=\"color: #00af00; text-decoration-color: #00af00\">152,438</span> (595.46 KB)\n",
       "</pre>\n"
      ],
      "text/plain": [
       "\u001b[1m Trainable params: \u001b[0m\u001b[38;5;34m152,438\u001b[0m (595.46 KB)\n"
      ]
     },
     "metadata": {},
     "output_type": "display_data"
    },
    {
     "data": {
      "text/html": [
       "<pre style=\"white-space:pre;overflow-x:auto;line-height:normal;font-family:Menlo,'DejaVu Sans Mono',consolas,'Courier New',monospace\"><span style=\"font-weight: bold\"> Non-trainable params: </span><span style=\"color: #00af00; text-decoration-color: #00af00\">0</span> (0.00 B)\n",
       "</pre>\n"
      ],
      "text/plain": [
       "\u001b[1m Non-trainable params: \u001b[0m\u001b[38;5;34m0\u001b[0m (0.00 B)\n"
      ]
     },
     "metadata": {},
     "output_type": "display_data"
    }
   ],
   "source": [
    "from tensorflow.keras.models import Sequential\n",
    "from tensorflow.keras.layers import Embedding, LSTM, Dense, Dropout \n",
    "\n",
    "model=Sequential(\n",
    "    [\n",
    "        Embedding(input_dim=np.max(padded_training_set) + 1, output_dim=64, input_length=maxlen),\n",
    "        LSTM(128, return_sequences=True),\n",
    "        Dropout(0.2),\n",
    "        LSTM(64),\n",
    "        Dense(32, activation='relu'),\n",
    "        Dense(np.max(padded_training_set) + 1, activation='softmax')  # Output layer for multi-class classification\n",
    "    ]\n",
    ")\n",
    "model.build(input_shape=(None, maxlen))\n",
    "model.compile(optimizer='adam', loss='categorical_crossentropy', metrics=['accuracy'])\n",
    "model.summary()"
   ]
  },
  {
   "cell_type": "code",
   "execution_count": null,
   "id": "f31d1218",
   "metadata": {},
   "outputs": [],
   "source": [
    "history = model.fit(X_train, y_train, epochs=10, batch_size=32, validation_split=0.2)"
   ]
  },
  {
   "cell_type": "code",
   "execution_count": null,
   "id": "628f3c7d",
   "metadata": {},
   "outputs": [],
   "source": [
    "from sklearn.metrics.pairwise import cosine_similarity\n",
    "cosine_similarity()"
   ]
  }
 ],
 "metadata": {
  "kernelspec": {
   "display_name": "Python 3",
   "language": "python",
   "name": "python3"
  },
  "language_info": {
   "codemirror_mode": {
    "name": "ipython",
    "version": 3
   },
   "file_extension": ".py",
   "mimetype": "text/x-python",
   "name": "python",
   "nbconvert_exporter": "python",
   "pygments_lexer": "ipython3",
   "version": "3.11.8"
  }
 },
 "nbformat": 4,
 "nbformat_minor": 5
}
