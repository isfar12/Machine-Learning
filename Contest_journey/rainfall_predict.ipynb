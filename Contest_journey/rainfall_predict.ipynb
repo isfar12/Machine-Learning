{
 "cells": [
  {
   "cell_type": "code",
   "execution_count": 187,
   "metadata": {},
   "outputs": [],
   "source": [
    "import pandas as pd\n",
    "import numpy as np\n",
    "import matplotlib.pyplot as plt\n",
    "import seaborn as sns\n",
    "import tensorflow as tf\n",
    "import ydf"
   ]
  },
  {
   "cell_type": "code",
   "execution_count": 188,
   "metadata": {},
   "outputs": [],
   "source": [
    "df=pd.read_csv(\"../Dataset/rainfall_predict_train.csv\")\n",
    "df_test=pd.read_csv(\"../Dataset/rainfall_predict_test.csv\")"
   ]
  },
  {
   "cell_type": "code",
   "execution_count": 189,
   "metadata": {},
   "outputs": [
    {
     "data": {
      "text/html": [
       "<div>\n",
       "<style scoped>\n",
       "    .dataframe tbody tr th:only-of-type {\n",
       "        vertical-align: middle;\n",
       "    }\n",
       "\n",
       "    .dataframe tbody tr th {\n",
       "        vertical-align: top;\n",
       "    }\n",
       "\n",
       "    .dataframe thead th {\n",
       "        text-align: right;\n",
       "    }\n",
       "</style>\n",
       "<table border=\"1\" class=\"dataframe\">\n",
       "  <thead>\n",
       "    <tr style=\"text-align: right;\">\n",
       "      <th></th>\n",
       "      <th>id</th>\n",
       "      <th>day</th>\n",
       "      <th>pressure</th>\n",
       "      <th>maxtemp</th>\n",
       "      <th>temparature</th>\n",
       "      <th>mintemp</th>\n",
       "      <th>dewpoint</th>\n",
       "      <th>humidity</th>\n",
       "      <th>cloud</th>\n",
       "      <th>sunshine</th>\n",
       "      <th>winddirection</th>\n",
       "      <th>windspeed</th>\n",
       "      <th>rainfall</th>\n",
       "    </tr>\n",
       "  </thead>\n",
       "  <tbody>\n",
       "    <tr>\n",
       "      <th>0</th>\n",
       "      <td>0</td>\n",
       "      <td>1</td>\n",
       "      <td>1017.4</td>\n",
       "      <td>21.2</td>\n",
       "      <td>20.6</td>\n",
       "      <td>19.9</td>\n",
       "      <td>19.4</td>\n",
       "      <td>87.0</td>\n",
       "      <td>88.0</td>\n",
       "      <td>1.1</td>\n",
       "      <td>60.0</td>\n",
       "      <td>17.2</td>\n",
       "      <td>1</td>\n",
       "    </tr>\n",
       "    <tr>\n",
       "      <th>1</th>\n",
       "      <td>1</td>\n",
       "      <td>2</td>\n",
       "      <td>1019.5</td>\n",
       "      <td>16.2</td>\n",
       "      <td>16.9</td>\n",
       "      <td>15.8</td>\n",
       "      <td>15.4</td>\n",
       "      <td>95.0</td>\n",
       "      <td>91.0</td>\n",
       "      <td>0.0</td>\n",
       "      <td>50.0</td>\n",
       "      <td>21.9</td>\n",
       "      <td>1</td>\n",
       "    </tr>\n",
       "    <tr>\n",
       "      <th>2</th>\n",
       "      <td>2</td>\n",
       "      <td>3</td>\n",
       "      <td>1024.1</td>\n",
       "      <td>19.4</td>\n",
       "      <td>16.1</td>\n",
       "      <td>14.6</td>\n",
       "      <td>9.3</td>\n",
       "      <td>75.0</td>\n",
       "      <td>47.0</td>\n",
       "      <td>8.3</td>\n",
       "      <td>70.0</td>\n",
       "      <td>18.1</td>\n",
       "      <td>1</td>\n",
       "    </tr>\n",
       "  </tbody>\n",
       "</table>\n",
       "</div>"
      ],
      "text/plain": [
       "   id  day  pressure  maxtemp  temparature  mintemp  dewpoint  humidity  \\\n",
       "0   0    1    1017.4     21.2         20.6     19.9      19.4      87.0   \n",
       "1   1    2    1019.5     16.2         16.9     15.8      15.4      95.0   \n",
       "2   2    3    1024.1     19.4         16.1     14.6       9.3      75.0   \n",
       "\n",
       "   cloud  sunshine  winddirection  windspeed  rainfall  \n",
       "0   88.0       1.1           60.0       17.2         1  \n",
       "1   91.0       0.0           50.0       21.9         1  \n",
       "2   47.0       8.3           70.0       18.1         1  "
      ]
     },
     "execution_count": 189,
     "metadata": {},
     "output_type": "execute_result"
    }
   ],
   "source": [
    "df.head(3)"
   ]
  },
  {
   "cell_type": "code",
   "execution_count": 190,
   "metadata": {},
   "outputs": [
    {
     "data": {
      "text/html": [
       "<div>\n",
       "<style scoped>\n",
       "    .dataframe tbody tr th:only-of-type {\n",
       "        vertical-align: middle;\n",
       "    }\n",
       "\n",
       "    .dataframe tbody tr th {\n",
       "        vertical-align: top;\n",
       "    }\n",
       "\n",
       "    .dataframe thead th {\n",
       "        text-align: right;\n",
       "    }\n",
       "</style>\n",
       "<table border=\"1\" class=\"dataframe\">\n",
       "  <thead>\n",
       "    <tr style=\"text-align: right;\">\n",
       "      <th></th>\n",
       "      <th>id</th>\n",
       "      <th>day</th>\n",
       "      <th>pressure</th>\n",
       "      <th>maxtemp</th>\n",
       "      <th>temparature</th>\n",
       "      <th>mintemp</th>\n",
       "      <th>dewpoint</th>\n",
       "      <th>humidity</th>\n",
       "      <th>cloud</th>\n",
       "      <th>sunshine</th>\n",
       "      <th>winddirection</th>\n",
       "      <th>windspeed</th>\n",
       "    </tr>\n",
       "  </thead>\n",
       "  <tbody>\n",
       "    <tr>\n",
       "      <th>0</th>\n",
       "      <td>2190</td>\n",
       "      <td>1</td>\n",
       "      <td>1019.5</td>\n",
       "      <td>17.5</td>\n",
       "      <td>15.8</td>\n",
       "      <td>12.7</td>\n",
       "      <td>14.9</td>\n",
       "      <td>96.0</td>\n",
       "      <td>99.0</td>\n",
       "      <td>0.0</td>\n",
       "      <td>50.0</td>\n",
       "      <td>24.3</td>\n",
       "    </tr>\n",
       "    <tr>\n",
       "      <th>1</th>\n",
       "      <td>2191</td>\n",
       "      <td>2</td>\n",
       "      <td>1016.5</td>\n",
       "      <td>17.5</td>\n",
       "      <td>16.5</td>\n",
       "      <td>15.8</td>\n",
       "      <td>15.1</td>\n",
       "      <td>97.0</td>\n",
       "      <td>99.0</td>\n",
       "      <td>0.0</td>\n",
       "      <td>50.0</td>\n",
       "      <td>35.3</td>\n",
       "    </tr>\n",
       "    <tr>\n",
       "      <th>2</th>\n",
       "      <td>2192</td>\n",
       "      <td>3</td>\n",
       "      <td>1023.9</td>\n",
       "      <td>11.2</td>\n",
       "      <td>10.4</td>\n",
       "      <td>9.4</td>\n",
       "      <td>8.9</td>\n",
       "      <td>86.0</td>\n",
       "      <td>96.0</td>\n",
       "      <td>0.0</td>\n",
       "      <td>40.0</td>\n",
       "      <td>16.9</td>\n",
       "    </tr>\n",
       "  </tbody>\n",
       "</table>\n",
       "</div>"
      ],
      "text/plain": [
       "     id  day  pressure  maxtemp  temparature  mintemp  dewpoint  humidity  \\\n",
       "0  2190    1    1019.5     17.5         15.8     12.7      14.9      96.0   \n",
       "1  2191    2    1016.5     17.5         16.5     15.8      15.1      97.0   \n",
       "2  2192    3    1023.9     11.2         10.4      9.4       8.9      86.0   \n",
       "\n",
       "   cloud  sunshine  winddirection  windspeed  \n",
       "0   99.0       0.0           50.0       24.3  \n",
       "1   99.0       0.0           50.0       35.3  \n",
       "2   96.0       0.0           40.0       16.9  "
      ]
     },
     "execution_count": 190,
     "metadata": {},
     "output_type": "execute_result"
    }
   ],
   "source": [
    "df_test.head(3)"
   ]
  },
  {
   "cell_type": "code",
   "execution_count": 191,
   "metadata": {},
   "outputs": [],
   "source": [
    "df=df.drop(columns=[\"id\",\"day\"])\n",
    "test=df_test.drop(columns=[\"id\",\"day\"])"
   ]
  },
  {
   "cell_type": "code",
   "execution_count": 192,
   "metadata": {},
   "outputs": [
    {
     "data": {
      "text/plain": [
       "<Axes: >"
      ]
     },
     "execution_count": 192,
     "metadata": {},
     "output_type": "execute_result"
    },
    {
     "data": {
      "image/png": "[encoded data removed]",
      "text/plain": [
       "<Figure size 640x480 with 2 Axes>"
      ]
     },
     "metadata": {},
     "output_type": "display_data"
    }
   ],
   "source": [
    "sns.heatmap(df.corr())"
   ]
  },
  {
   "cell_type": "code",
   "execution_count": 193,
   "metadata": {},
   "outputs": [
    {
     "data": {
      "text/plain": [
       "rainfall\n",
       "1    1650\n",
       "0     540\n",
       "Name: count, dtype: int64"
      ]
     },
     "execution_count": 193,
     "metadata": {},
     "output_type": "execute_result"
    }
   ],
   "source": [
    "df.rainfall.value_counts()"
   ]
  },
  {
   "cell_type": "code",
   "execution_count": 194,
   "metadata": {},
   "outputs": [
    {
     "data": {
      "text/plain": [
       "<Axes: xlabel='rainfall', ylabel='count'>"
      ]
     },
     "execution_count": 194,
     "metadata": {},
     "output_type": "execute_result"
    },
    {
     "data": {
      "image/png": "[encoded data removed]",
      "text/plain": [
       "<Figure size 640x480 with 1 Axes>"
      ]
     },
     "metadata": {},
     "output_type": "display_data"
    }
   ],
   "source": [
    "sns.barplot(df[\"rainfall\"].value_counts())"
   ]
  },
  {
   "cell_type": "code",
   "execution_count": 195,
   "metadata": {},
   "outputs": [
    {
     "data": {
      "text/plain": [
       "['pressure',\n",
       " 'maxtemp',\n",
       " 'temparature',\n",
       " 'mintemp',\n",
       " 'dewpoint',\n",
       " 'humidity',\n",
       " 'cloud',\n",
       " 'sunshine',\n",
       " 'winddirection',\n",
       " 'windspeed',\n",
       " 'rainfall']"
      ]
     },
     "execution_count": 195,
     "metadata": {},
     "output_type": "execute_result"
    }
   ],
   "source": [
    "x=df.select_dtypes(include=[\"float64\",\"int64\"])\n",
    "x.columns.tolist()"
   ]
  },
  {
   "cell_type": "code",
   "execution_count": 196,
   "metadata": {},
   "outputs": [
    {
     "data": {
      "text/plain": [
       "(2190, 11)"
      ]
     },
     "execution_count": 196,
     "metadata": {},
     "output_type": "execute_result"
    }
   ],
   "source": [
    "df.shape"
   ]
  },
  {
   "cell_type": "code",
   "execution_count": 197,
   "metadata": {},
   "outputs": [],
   "source": [
    "# def remove_outliers(df):\n",
    "#     # Calculate Q1, Q3, and IQR\n",
    "#     columns=df.select_dtypes(include=[\"float64\",\"int64\"]).columns.tolist()\n",
    "#     for i in columns:\n",
    "#         Q1 = df[i].quantile(0.25)\n",
    "#         Q3 = df[i].quantile(0.75)\n",
    "#         IQR = Q3 - Q1\n",
    "\n",
    "#         # Define the outlier range\n",
    "#         lower_bound = Q1 - 1.5 * IQR\n",
    "#         upper_bound = Q3 + 1.5 * IQR\n",
    "\n",
    "#         # Filter out the outliers\n",
    "#         df = df[(df[i] >= lower_bound) & (df[i] <= upper_bound)]\n",
    "#     return df"
   ]
  },
  {
   "cell_type": "code",
   "execution_count": 198,
   "metadata": {},
   "outputs": [],
   "source": [
    "# df=remove_outliers(df)"
   ]
  },
  {
   "cell_type": "code",
   "execution_count": 199,
   "metadata": {},
   "outputs": [],
   "source": [
    "X=df.drop(columns=[\"rainfall\"])\n",
    "Y=df[\"rainfall\"]"
   ]
  },
  {
   "cell_type": "code",
   "execution_count": 200,
   "metadata": {},
   "outputs": [
    {
     "data": {
      "text/plain": [
       "(2190, 10)"
      ]
     },
     "execution_count": 200,
     "metadata": {},
     "output_type": "execute_result"
    }
   ],
   "source": [
    "X.shape"
   ]
  },
  {
   "cell_type": "code",
   "execution_count": 201,
   "metadata": {},
   "outputs": [
    {
     "data": {
      "text/html": [
       "<div>\n",
       "<style scoped>\n",
       "    .dataframe tbody tr th:only-of-type {\n",
       "        vertical-align: middle;\n",
       "    }\n",
       "\n",
       "    .dataframe tbody tr th {\n",
       "        vertical-align: top;\n",
       "    }\n",
       "\n",
       "    .dataframe thead th {\n",
       "        text-align: right;\n",
       "    }\n",
       "</style>\n",
       "<table border=\"1\" class=\"dataframe\">\n",
       "  <thead>\n",
       "    <tr style=\"text-align: right;\">\n",
       "      <th></th>\n",
       "      <th>pressure</th>\n",
       "      <th>maxtemp</th>\n",
       "      <th>temparature</th>\n",
       "      <th>mintemp</th>\n",
       "      <th>dewpoint</th>\n",
       "      <th>humidity</th>\n",
       "      <th>cloud</th>\n",
       "      <th>sunshine</th>\n",
       "      <th>winddirection</th>\n",
       "      <th>windspeed</th>\n",
       "    </tr>\n",
       "  </thead>\n",
       "  <tbody>\n",
       "    <tr>\n",
       "      <th>0</th>\n",
       "      <td>1017.4</td>\n",
       "      <td>21.2</td>\n",
       "      <td>20.6</td>\n",
       "      <td>19.9</td>\n",
       "      <td>19.4</td>\n",
       "      <td>87.0</td>\n",
       "      <td>88.0</td>\n",
       "      <td>1.1</td>\n",
       "      <td>60.0</td>\n",
       "      <td>17.2</td>\n",
       "    </tr>\n",
       "    <tr>\n",
       "      <th>1</th>\n",
       "      <td>1019.5</td>\n",
       "      <td>16.2</td>\n",
       "      <td>16.9</td>\n",
       "      <td>15.8</td>\n",
       "      <td>15.4</td>\n",
       "      <td>95.0</td>\n",
       "      <td>91.0</td>\n",
       "      <td>0.0</td>\n",
       "      <td>50.0</td>\n",
       "      <td>21.9</td>\n",
       "    </tr>\n",
       "    <tr>\n",
       "      <th>2</th>\n",
       "      <td>1024.1</td>\n",
       "      <td>19.4</td>\n",
       "      <td>16.1</td>\n",
       "      <td>14.6</td>\n",
       "      <td>9.3</td>\n",
       "      <td>75.0</td>\n",
       "      <td>47.0</td>\n",
       "      <td>8.3</td>\n",
       "      <td>70.0</td>\n",
       "      <td>18.1</td>\n",
       "    </tr>\n",
       "  </tbody>\n",
       "</table>\n",
       "</div>"
      ],
      "text/plain": [
       "   pressure  maxtemp  temparature  mintemp  dewpoint  humidity  cloud  \\\n",
       "0    1017.4     21.2         20.6     19.9      19.4      87.0   88.0   \n",
       "1    1019.5     16.2         16.9     15.8      15.4      95.0   91.0   \n",
       "2    1024.1     19.4         16.1     14.6       9.3      75.0   47.0   \n",
       "\n",
       "   sunshine  winddirection  windspeed  \n",
       "0       1.1           60.0       17.2  \n",
       "1       0.0           50.0       21.9  \n",
       "2       8.3           70.0       18.1  "
      ]
     },
     "execution_count": 201,
     "metadata": {},
     "output_type": "execute_result"
    }
   ],
   "source": [
    "X.head(3)"
   ]
  },
  {
   "cell_type": "code",
   "execution_count": 202,
   "metadata": {},
   "outputs": [],
   "source": [
    "from sklearn.preprocessing import StandardScaler\n",
    "scaler=StandardScaler()\n",
    "X=scaler.fit_transform(X)\n",
    "test=scaler.transform(test)"
   ]
  },
  {
   "cell_type": "code",
   "execution_count": 203,
   "metadata": {},
   "outputs": [
    {
     "data": {
      "text/plain": [
       "(2190, 10)"
      ]
     },
     "execution_count": 203,
     "metadata": {},
     "output_type": "execute_result"
    }
   ],
   "source": [
    "X.shape"
   ]
  },
  {
   "cell_type": "code",
   "execution_count": 204,
   "metadata": {},
   "outputs": [
    {
     "data": {
      "text/plain": [
       "0       1\n",
       "1       1\n",
       "2       1\n",
       "3       1\n",
       "4       0\n",
       "       ..\n",
       "2185    1\n",
       "2186    1\n",
       "2187    1\n",
       "2188    1\n",
       "2189    1\n",
       "Name: rainfall, Length: 2190, dtype: int64"
      ]
     },
     "execution_count": 204,
     "metadata": {},
     "output_type": "execute_result"
    }
   ],
   "source": [
    "Y"
   ]
  },
  {
   "cell_type": "code",
   "execution_count": 205,
   "metadata": {},
   "outputs": [],
   "source": [
    "from sklearn.model_selection import train_test_split\n",
    "x_test,x_train,y_train,y_test=train_test_split(X,Y,test_size=.2)"
   ]
  },
  {
   "cell_type": "code",
   "execution_count": null,
   "metadata": {},
   "outputs": [
    {
     "name": "stderr",
     "output_type": "stream",
     "text": [
      "c:\\Users\\Lenovo\\AppData\\Local\\Programs\\Python\\Python311\\Lib\\site-packages\\keras\\src\\layers\\core\\dense.py:87: UserWarning: Do not pass an `input_shape`/`input_dim` argument to a layer. When using Sequential models, prefer using an `Input(shape)` object as the first layer in the model instead.\n",
      "  super().__init__(activity_regularizer=activity_regularizer, **kwargs)\n"
     ]
    }
   ],
   "source": [
    "from tensorflow.keras.layers import Dense,Dropout,BatchNormalization\n",
    "\n",
    "tf_model=tf.keras.Sequential([\n",
    "    Dense(32, activation='relu', input_shape=(X.shape[1],)),  # Input layer\n",
    "    Dense(16, activation='relu'),  # Hidden layer\n",
    "    Dense(8, activation='relu'),   # Another hidden layer\n",
    "    Dense(1, activation='sigmoid')  # Output layer (sigmoid for binary classification\n",
    "])\n"
   ]
  },
  {
   "cell_type": "code",
   "execution_count": 207,
   "metadata": {},
   "outputs": [
    {
     "data": {
      "text/html": [
       "<pre style=\"white-space:pre;overflow-x:auto;line-height:normal;font-family:Menlo,'DejaVu Sans Mono',consolas,'Courier New',monospace\"><span style=\"font-weight: bold\">Model: \"sequential_10\"</span>\n",
       "</pre>\n"
      ],
      "text/plain": [
       "\u001b[1mModel: \"sequential_10\"\u001b[0m\n"
      ]
     },
     "metadata": {},
     "output_type": "display_data"
    },
    {
     "data": {
      "text/html": [
       "<pre style=\"white-space:pre;overflow-x:auto;line-height:normal;font-family:Menlo,'DejaVu Sans Mono',consolas,'Courier New',monospace\">┏━━━━━━━━━━━━━━━━━━━━━━━━━━━━━━━━━┳━━━━━━━━━━━━━━━━━━━━━━━━┳━━━━━━━━━━━━━━━┓\n",
       "┃<span style=\"font-weight: bold\"> Layer (type)                    </span>┃<span style=\"font-weight: bold\"> Output Shape           </span>┃<span style=\"font-weight: bold\">       Param # </span>┃\n",
       "┡━━━━━━━━━━━━━━━━━━━━━━━━━━━━━━━━━╇━━━━━━━━━━━━━━━━━━━━━━━━╇━━━━━━━━━━━━━━━┩\n",
       "│ dense_35 (<span style=\"color: #0087ff; text-decoration-color: #0087ff\">Dense</span>)                │ (<span style=\"color: #00d7ff; text-decoration-color: #00d7ff\">None</span>, <span style=\"color: #00af00; text-decoration-color: #00af00\">15</span>)             │           <span style=\"color: #00af00; text-decoration-color: #00af00\">165</span> │\n",
       "├─────────────────────────────────┼────────────────────────┼───────────────┤\n",
       "│ dense_36 (<span style=\"color: #0087ff; text-decoration-color: #0087ff\">Dense</span>)                │ (<span style=\"color: #00d7ff; text-decoration-color: #00d7ff\">None</span>, <span style=\"color: #00af00; text-decoration-color: #00af00\">10</span>)             │           <span style=\"color: #00af00; text-decoration-color: #00af00\">160</span> │\n",
       "├─────────────────────────────────┼────────────────────────┼───────────────┤\n",
       "│ dense_37 (<span style=\"color: #0087ff; text-decoration-color: #0087ff\">Dense</span>)                │ (<span style=\"color: #00d7ff; text-decoration-color: #00d7ff\">None</span>, <span style=\"color: #00af00; text-decoration-color: #00af00\">5</span>)              │            <span style=\"color: #00af00; text-decoration-color: #00af00\">55</span> │\n",
       "├─────────────────────────────────┼────────────────────────┼───────────────┤\n",
       "│ dense_38 (<span style=\"color: #0087ff; text-decoration-color: #0087ff\">Dense</span>)                │ (<span style=\"color: #00d7ff; text-decoration-color: #00d7ff\">None</span>, <span style=\"color: #00af00; text-decoration-color: #00af00\">1</span>)              │             <span style=\"color: #00af00; text-decoration-color: #00af00\">6</span> │\n",
       "└─────────────────────────────────┴────────────────────────┴───────────────┘\n",
       "</pre>\n"
      ],
      "text/plain": [
       "┏━━━━━━━━━━━━━━━━━━━━━━━━━━━━━━━━━┳━━━━━━━━━━━━━━━━━━━━━━━━┳━━━━━━━━━━━━━━━┓\n",
       "┃\u001b[1m \u001b[0m\u001b[1mLayer (type)                   \u001b[0m\u001b[1m \u001b[0m┃\u001b[1m \u001b[0m\u001b[1mOutput Shape          \u001b[0m\u001b[1m \u001b[0m┃\u001b[1m \u001b[0m\u001b[1m      Param #\u001b[0m\u001b[1m \u001b[0m┃\n",
       "┡━━━━━━━━━━━━━━━━━━━━━━━━━━━━━━━━━╇━━━━━━━━━━━━━━━━━━━━━━━━╇━━━━━━━━━━━━━━━┩\n",
       "│ dense_35 (\u001b[38;5;33mDense\u001b[0m)                │ (\u001b[38;5;45mNone\u001b[0m, \u001b[38;5;34m15\u001b[0m)             │           \u001b[38;5;34m165\u001b[0m │\n",
       "├─────────────────────────────────┼────────────────────────┼───────────────┤\n",
       "│ dense_36 (\u001b[38;5;33mDense\u001b[0m)                │ (\u001b[38;5;45mNone\u001b[0m, \u001b[38;5;34m10\u001b[0m)             │           \u001b[38;5;34m160\u001b[0m │\n",
       "├─────────────────────────────────┼────────────────────────┼───────────────┤\n",
       "│ dense_37 (\u001b[38;5;33mDense\u001b[0m)                │ (\u001b[38;5;45mNone\u001b[0m, \u001b[38;5;34m5\u001b[0m)              │            \u001b[38;5;34m55\u001b[0m │\n",
       "├─────────────────────────────────┼────────────────────────┼───────────────┤\n",
       "│ dense_38 (\u001b[38;5;33mDense\u001b[0m)                │ (\u001b[38;5;45mNone\u001b[0m, \u001b[38;5;34m1\u001b[0m)              │             \u001b[38;5;34m6\u001b[0m │\n",
       "└─────────────────────────────────┴────────────────────────┴───────────────┘\n"
      ]
     },
     "metadata": {},
     "output_type": "display_data"
    },
    {
     "data": {
      "text/html": [
       "<pre style=\"white-space:pre;overflow-x:auto;line-height:normal;font-family:Menlo,'DejaVu Sans Mono',consolas,'Courier New',monospace\"><span style=\"font-weight: bold\"> Total params: </span><span style=\"color: #00af00; text-decoration-color: #00af00\">386</span> (1.51 KB)\n",
       "</pre>\n"
      ],
      "text/plain": [
       "\u001b[1m Total params: \u001b[0m\u001b[38;5;34m386\u001b[0m (1.51 KB)\n"
      ]
     },
     "metadata": {},
     "output_type": "display_data"
    },
    {
     "data": {
      "text/html": [
       "<pre style=\"white-space:pre;overflow-x:auto;line-height:normal;font-family:Menlo,'DejaVu Sans Mono',consolas,'Courier New',monospace\"><span style=\"font-weight: bold\"> Trainable params: </span><span style=\"color: #00af00; text-decoration-color: #00af00\">386</span> (1.51 KB)\n",
       "</pre>\n"
      ],
      "text/plain": [
       "\u001b[1m Trainable params: \u001b[0m\u001b[38;5;34m386\u001b[0m (1.51 KB)\n"
      ]
     },
     "metadata": {},
     "output_type": "display_data"
    },
    {
     "data": {
      "text/html": [
       "<pre style=\"white-space:pre;overflow-x:auto;line-height:normal;font-family:Menlo,'DejaVu Sans Mono',consolas,'Courier New',monospace\"><span style=\"font-weight: bold\"> Non-trainable params: </span><span style=\"color: #00af00; text-decoration-color: #00af00\">0</span> (0.00 B)\n",
       "</pre>\n"
      ],
      "text/plain": [
       "\u001b[1m Non-trainable params: \u001b[0m\u001b[38;5;34m0\u001b[0m (0.00 B)\n"
      ]
     },
     "metadata": {},
     "output_type": "display_data"
    }
   ],
   "source": [
    "tf_model.summary()"
   ]
  },
  {
   "cell_type": "code",
   "execution_count": 208,
   "metadata": {},
   "outputs": [],
   "source": [
    "tf_model.compile(optimizer=tf.keras.optimizers.Adam(.01),loss=tf.keras.losses.BinaryCrossentropy(from_logits=False),metrics=['accuracy', 'AUC', 'Precision', 'Recall'])"
   ]
  },
  {
   "cell_type": "code",
   "execution_count": 209,
   "metadata": {},
   "outputs": [],
   "source": [
    "lr_scheduler = tf.keras.callbacks.ReduceLROnPlateau(\n",
    "    monitor='accuracy', factor=0.3, patience=10, min_lr=1e-6\n",
    ")\n",
    "early_stopping = tf.keras.callbacks.EarlyStopping(\n",
    "    monitor='accuracy', patience=35, restore_best_weights=True\n",
    ")"
   ]
  },
  {
   "cell_type": "code",
   "execution_count": null,
   "metadata": {},
   "outputs": [
    {
     "name": "stdout",
     "output_type": "stream",
     "text": [
      "Epoch 1/200\n",
      "\u001b[1m52/52\u001b[0m \u001b[32m━━━━━━━━━━━━━━━━━━━━\u001b[0m\u001b[37m\u001b[0m \u001b[1m1s\u001b[0m 8ms/step - AUC: 0.7347 - Precision: 0.8579 - Recall: 0.7255 - accuracy: 0.7218 - loss: 0.6609 - val_AUC: 0.8077 - val_Precision: 0.8981 - val_Recall: 0.9129 - val_accuracy: 0.8522 - val_loss: 0.5412 - learning_rate: 0.0100\n",
      "Epoch 2/200\n",
      "\u001b[1m52/52\u001b[0m \u001b[32m━━━━━━━━━━━━━━━━━━━━\u001b[0m\u001b[37m\u001b[0m \u001b[1m0s\u001b[0m 3ms/step - AUC: 0.8256 - Precision: 0.8958 - Recall: 0.9386 - accuracy: 0.8700 - loss: 0.5048 - val_AUC: 0.7713 - val_Precision: 0.8712 - val_Recall: 0.9553 - val_accuracy: 0.8558 - val_loss: 0.4675 - learning_rate: 0.0100\n",
      "Epoch 3/200\n",
      "\u001b[1m52/52\u001b[0m \u001b[32m━━━━━━━━━━━━━━━━━━━━\u001b[0m\u001b[37m\u001b[0m \u001b[1m0s\u001b[0m 3ms/step - AUC: 0.8320 - Precision: 0.8772 - Recall: 0.9365 - accuracy: 0.8564 - loss: 0.4494 - val_AUC: 0.8416 - val_Precision: 0.9085 - val_Recall: 0.9341 - val_accuracy: 0.8759 - val_loss: 0.4053 - learning_rate: 0.0100\n",
      "Epoch 4/200\n",
      "\u001b[1m52/52\u001b[0m \u001b[32m━━━━━━━━━━━━━━━━━━━━\u001b[0m\u001b[37m\u001b[0m \u001b[1m0s\u001b[0m 2ms/step - AUC: 0.8763 - Precision: 0.9122 - Recall: 0.9448 - accuracy: 0.8899 - loss: 0.3779 - val_AUC: 0.8394 - val_Precision: 0.9023 - val_Recall: 0.9341 - val_accuracy: 0.8704 - val_loss: 0.3781 - learning_rate: 0.0100\n",
      "Epoch 5/200\n",
      "\u001b[1m52/52\u001b[0m \u001b[32m━━━━━━━━━━━━━━━━━━━━\u001b[0m\u001b[37m\u001b[0m \u001b[1m0s\u001b[0m 3ms/step - AUC: 0.8740 - Precision: 0.8864 - Recall: 0.9418 - accuracy: 0.8695 - loss: 0.3799 - val_AUC: 0.8423 - val_Precision: 0.9043 - val_Recall: 0.9341 - val_accuracy: 0.8723 - val_loss: 0.3673 - learning_rate: 0.0100\n",
      "Epoch 6/200\n",
      "\u001b[1m52/52\u001b[0m \u001b[32m━━━━━━━━━━━━━━━━━━━━\u001b[0m\u001b[37m\u001b[0m \u001b[1m0s\u001b[0m 3ms/step - AUC: 0.8598 - Precision: 0.8946 - Recall: 0.9370 - accuracy: 0.8711 - loss: 0.3664 - val_AUC: 0.8477 - val_Precision: 0.9041 - val_Recall: 0.9318 - val_accuracy: 0.8704 - val_loss: 0.3611 - learning_rate: 0.0100\n",
      "Epoch 7/200\n",
      "\u001b[1m52/52\u001b[0m \u001b[32m━━━━━━━━━━━━━━━━━━━━\u001b[0m\u001b[37m\u001b[0m \u001b[1m0s\u001b[0m 3ms/step - AUC: 0.8578 - Precision: 0.8971 - Recall: 0.9365 - accuracy: 0.8702 - loss: 0.3500 - val_AUC: 0.8302 - val_Precision: 0.8904 - val_Recall: 0.9365 - val_accuracy: 0.8613 - val_loss: 0.3701 - learning_rate: 0.0100\n",
      "Epoch 8/200\n",
      "\u001b[1m52/52\u001b[0m \u001b[32m━━━━━━━━━━━━━━━━━━━━\u001b[0m\u001b[37m\u001b[0m \u001b[1m0s\u001b[0m 2ms/step - AUC: 0.8871 - Precision: 0.8892 - Recall: 0.9375 - accuracy: 0.8692 - loss: 0.3532 - val_AUC: 0.8274 - val_Precision: 0.8852 - val_Recall: 0.9435 - val_accuracy: 0.8613 - val_loss: 0.3617 - learning_rate: 0.0100\n",
      "Epoch 9/200\n",
      "\u001b[1m52/52\u001b[0m \u001b[32m━━━━━━━━━━━━━━━━━━━━\u001b[0m\u001b[37m\u001b[0m \u001b[1m0s\u001b[0m 3ms/step - AUC: 0.8718 - Precision: 0.8794 - Recall: 0.9387 - accuracy: 0.8594 - loss: 0.3579 - val_AUC: 0.8585 - val_Precision: 0.9138 - val_Recall: 0.9224 - val_accuracy: 0.8723 - val_loss: 0.3590 - learning_rate: 0.0100\n",
      "Epoch 10/200\n",
      "\u001b[1m52/52\u001b[0m \u001b[32m━━━━━━━━━━━━━━━━━━━━\u001b[0m\u001b[37m\u001b[0m \u001b[1m0s\u001b[0m 2ms/step - AUC: 0.8815 - Precision: 0.8961 - Recall: 0.9348 - accuracy: 0.8708 - loss: 0.3375 - val_AUC: 0.8400 - val_Precision: 0.9062 - val_Recall: 0.9318 - val_accuracy: 0.8723 - val_loss: 0.3590 - learning_rate: 0.0100\n",
      "Epoch 11/200\n",
      "\u001b[1m52/52\u001b[0m \u001b[32m━━━━━━━━━━━━━━━━━━━━\u001b[0m\u001b[37m\u001b[0m \u001b[1m0s\u001b[0m 3ms/step - AUC: 0.8869 - Precision: 0.8984 - Recall: 0.9351 - accuracy: 0.8719 - loss: 0.3294 - val_AUC: 0.8349 - val_Precision: 0.8989 - val_Recall: 0.9200 - val_accuracy: 0.8577 - val_loss: 0.3672 - learning_rate: 0.0100\n",
      "Epoch 12/200\n",
      "\u001b[1m52/52\u001b[0m \u001b[32m━━━━━━━━━━━━━━━━━━━━\u001b[0m\u001b[37m\u001b[0m \u001b[1m0s\u001b[0m 3ms/step - AUC: 0.8861 - Precision: 0.8970 - Recall: 0.9336 - accuracy: 0.8740 - loss: 0.3467 - val_AUC: 0.8437 - val_Precision: 0.9018 - val_Recall: 0.9294 - val_accuracy: 0.8668 - val_loss: 0.3598 - learning_rate: 0.0100\n",
      "Epoch 13/200\n",
      "\u001b[1m52/52\u001b[0m \u001b[32m━━━━━━━━━━━━━━━━━━━━\u001b[0m\u001b[37m\u001b[0m \u001b[1m0s\u001b[0m 3ms/step - AUC: 0.8599 - Precision: 0.8715 - Recall: 0.9415 - accuracy: 0.8535 - loss: 0.3651 - val_AUC: 0.8294 - val_Precision: 0.8959 - val_Recall: 0.9318 - val_accuracy: 0.8631 - val_loss: 0.3627 - learning_rate: 0.0100\n",
      "Epoch 14/200\n",
      "\u001b[1m52/52\u001b[0m \u001b[32m━━━━━━━━━━━━━━━━━━━━\u001b[0m\u001b[37m\u001b[0m \u001b[1m0s\u001b[0m 3ms/step - AUC: 0.8972 - Precision: 0.8986 - Recall: 0.9348 - accuracy: 0.8757 - loss: 0.3207 - val_AUC: 0.8231 - val_Precision: 0.8886 - val_Recall: 0.9388 - val_accuracy: 0.8613 - val_loss: 0.3718 - learning_rate: 0.0100\n",
      "Epoch 15/200\n",
      "\u001b[1m52/52\u001b[0m \u001b[32m━━━━━━━━━━━━━━━━━━━━\u001b[0m\u001b[37m\u001b[0m \u001b[1m0s\u001b[0m 3ms/step - AUC: 0.8922 - Precision: 0.8915 - Recall: 0.9428 - accuracy: 0.8719 - loss: 0.3301 - val_AUC: 0.8429 - val_Precision: 0.9076 - val_Recall: 0.9247 - val_accuracy: 0.8686 - val_loss: 0.3574 - learning_rate: 0.0100\n",
      "Epoch 16/200\n",
      "\u001b[1m52/52\u001b[0m \u001b[32m━━━━━━━━━━━━━━━━━━━━\u001b[0m\u001b[37m\u001b[0m \u001b[1m0s\u001b[0m 3ms/step - AUC: 0.9091 - Precision: 0.9133 - Recall: 0.9399 - accuracy: 0.8885 - loss: 0.2944 - val_AUC: 0.8362 - val_Precision: 0.8962 - val_Recall: 0.9341 - val_accuracy: 0.8650 - val_loss: 0.3681 - learning_rate: 0.0100\n",
      "Epoch 17/200\n",
      "\u001b[1m52/52\u001b[0m \u001b[32m━━━━━━━━━━━━━━━━━━━━\u001b[0m\u001b[37m\u001b[0m \u001b[1m0s\u001b[0m 3ms/step - AUC: 0.8833 - Precision: 0.8868 - Recall: 0.9339 - accuracy: 0.8603 - loss: 0.3355 - val_AUC: 0.8537 - val_Precision: 0.9108 - val_Recall: 0.9129 - val_accuracy: 0.8631 - val_loss: 0.3673 - learning_rate: 0.0100\n",
      "Epoch 18/200\n",
      "\u001b[1m52/52\u001b[0m \u001b[32m━━━━━━━━━━━━━━━━━━━━\u001b[0m\u001b[37m\u001b[0m \u001b[1m0s\u001b[0m 3ms/step - AUC: 0.8852 - Precision: 0.9007 - Recall: 0.9359 - accuracy: 0.8772 - loss: 0.3399 - val_AUC: 0.8536 - val_Precision: 0.9141 - val_Recall: 0.9012 - val_accuracy: 0.8577 - val_loss: 0.3790 - learning_rate: 0.0100\n",
      "Epoch 19/200\n",
      "\u001b[1m52/52\u001b[0m \u001b[32m━━━━━━━━━━━━━━━━━━━━\u001b[0m\u001b[37m\u001b[0m \u001b[1m0s\u001b[0m 2ms/step - AUC: 0.8895 - Precision: 0.9054 - Recall: 0.9316 - accuracy: 0.8759 - loss: 0.3203 - val_AUC: 0.8364 - val_Precision: 0.9026 - val_Recall: 0.9153 - val_accuracy: 0.8577 - val_loss: 0.3723 - learning_rate: 0.0100\n",
      "Epoch 20/200\n",
      "\u001b[1m52/52\u001b[0m \u001b[32m━━━━━━━━━━━━━━━━━━━━\u001b[0m\u001b[37m\u001b[0m \u001b[1m0s\u001b[0m 3ms/step - AUC: 0.8804 - Precision: 0.9053 - Recall: 0.9251 - accuracy: 0.8728 - loss: 0.3299 - val_AUC: 0.8201 - val_Precision: 0.9054 - val_Recall: 0.9012 - val_accuracy: 0.8504 - val_loss: 0.3906 - learning_rate: 0.0100\n",
      "Epoch 21/200\n",
      "\u001b[1m52/52\u001b[0m \u001b[32m━━━━━━━━━━━━━━━━━━━━\u001b[0m\u001b[37m\u001b[0m \u001b[1m0s\u001b[0m 3ms/step - AUC: 0.8826 - Precision: 0.9009 - Recall: 0.9237 - accuracy: 0.8689 - loss: 0.3344 - val_AUC: 0.8432 - val_Precision: 0.9153 - val_Recall: 0.8894 - val_accuracy: 0.8504 - val_loss: 0.4039 - learning_rate: 0.0100\n",
      "Epoch 22/200\n",
      "\u001b[1m52/52\u001b[0m \u001b[32m━━━━━━━━━━━━━━━━━━━━\u001b[0m\u001b[37m\u001b[0m \u001b[1m0s\u001b[0m 3ms/step - AUC: 0.8981 - Precision: 0.9083 - Recall: 0.9223 - accuracy: 0.8755 - loss: 0.3223 - val_AUC: 0.8194 - val_Precision: 0.8977 - val_Recall: 0.9082 - val_accuracy: 0.8485 - val_loss: 0.3894 - learning_rate: 0.0100\n",
      "Epoch 23/200\n",
      "\u001b[1m52/52\u001b[0m \u001b[32m━━━━━━━━━━━━━━━━━━━━\u001b[0m\u001b[37m\u001b[0m \u001b[1m0s\u001b[0m 3ms/step - AUC: 0.8909 - Precision: 0.9183 - Recall: 0.9420 - accuracy: 0.8937 - loss: 0.3166 - val_AUC: 0.8185 - val_Precision: 0.8932 - val_Recall: 0.9247 - val_accuracy: 0.8558 - val_loss: 0.3750 - learning_rate: 0.0100\n",
      "Epoch 24/200\n",
      "\u001b[1m52/52\u001b[0m \u001b[32m━━━━━━━━━━━━━━━━━━━━\u001b[0m\u001b[37m\u001b[0m \u001b[1m0s\u001b[0m 2ms/step - AUC: 0.8881 - Precision: 0.9089 - Recall: 0.9461 - accuracy: 0.8902 - loss: 0.3191 - val_AUC: 0.8469 - val_Precision: 0.9011 - val_Recall: 0.9224 - val_accuracy: 0.8613 - val_loss: 0.3606 - learning_rate: 0.0100\n",
      "Epoch 25/200\n",
      "\u001b[1m52/52\u001b[0m \u001b[32m━━━━━━━━━━━━━━━━━━━━\u001b[0m\u001b[37m\u001b[0m \u001b[1m0s\u001b[0m 3ms/step - AUC: 0.8934 - Precision: 0.9078 - Recall: 0.9380 - accuracy: 0.8823 - loss: 0.3160 - val_AUC: 0.8229 - val_Precision: 0.8912 - val_Recall: 0.9247 - val_accuracy: 0.8540 - val_loss: 0.3777 - learning_rate: 0.0100\n",
      "Epoch 26/200\n",
      "\u001b[1m52/52\u001b[0m \u001b[32m━━━━━━━━━━━━━━━━━━━━\u001b[0m\u001b[37m\u001b[0m \u001b[1m0s\u001b[0m 3ms/step - AUC: 0.8886 - Precision: 0.9034 - Recall: 0.9338 - accuracy: 0.8765 - loss: 0.3310 - val_AUC: 0.8268 - val_Precision: 0.8986 - val_Recall: 0.9176 - val_accuracy: 0.8558 - val_loss: 0.3813 - learning_rate: 0.0100\n",
      "Epoch 27/200\n",
      "\u001b[1m52/52\u001b[0m \u001b[32m━━━━━━━━━━━━━━━━━━━━\u001b[0m\u001b[37m\u001b[0m \u001b[1m0s\u001b[0m 3ms/step - AUC: 0.8825 - Precision: 0.9029 - Recall: 0.9384 - accuracy: 0.8794 - loss: 0.3253 - val_AUC: 0.8403 - val_Precision: 0.9072 - val_Recall: 0.9200 - val_accuracy: 0.8650 - val_loss: 0.3649 - learning_rate: 0.0100\n",
      "Epoch 28/200\n",
      "\u001b[1m52/52\u001b[0m \u001b[32m━━━━━━━━━━━━━━━━━━━━\u001b[0m\u001b[37m\u001b[0m \u001b[1m0s\u001b[0m 4ms/step - AUC: 0.8905 - Precision: 0.9115 - Recall: 0.9344 - accuracy: 0.8814 - loss: 0.3088 - val_AUC: 0.8384 - val_Precision: 0.9068 - val_Recall: 0.9153 - val_accuracy: 0.8613 - val_loss: 0.3669 - learning_rate: 0.0100\n",
      "Epoch 29/200\n",
      "\u001b[1m52/52\u001b[0m \u001b[32m━━━━━━━━━━━━━━━━━━━━\u001b[0m\u001b[37m\u001b[0m \u001b[1m0s\u001b[0m 4ms/step - AUC: 0.9018 - Precision: 0.9128 - Recall: 0.9417 - accuracy: 0.8863 - loss: 0.2965 - val_AUC: 0.8261 - val_Precision: 0.8988 - val_Recall: 0.8988 - val_accuracy: 0.8431 - val_loss: 0.3858 - learning_rate: 0.0100\n",
      "Epoch 30/200\n",
      "\u001b[1m52/52\u001b[0m \u001b[32m━━━━━━━━━━━━━━━━━━━━\u001b[0m\u001b[37m\u001b[0m \u001b[1m0s\u001b[0m 4ms/step - AUC: 0.8807 - Precision: 0.9079 - Recall: 0.9250 - accuracy: 0.8747 - loss: 0.3212 - val_AUC: 0.8485 - val_Precision: 0.8973 - val_Recall: 0.9247 - val_accuracy: 0.8595 - val_loss: 0.3596 - learning_rate: 0.0100\n",
      "Epoch 31/200\n",
      "\u001b[1m52/52\u001b[0m \u001b[32m━━━━━━━━━━━━━━━━━━━━\u001b[0m\u001b[37m\u001b[0m \u001b[1m0s\u001b[0m 4ms/step - AUC: 0.8850 - Precision: 0.9049 - Recall: 0.9438 - accuracy: 0.8855 - loss: 0.3207 - val_AUC: 0.8389 - val_Precision: 0.9108 - val_Recall: 0.9129 - val_accuracy: 0.8631 - val_loss: 0.3701 - learning_rate: 0.0100\n",
      "Epoch 32/200\n",
      "\u001b[1m52/52\u001b[0m \u001b[32m━━━━━━━━━━━━━━━━━━━━\u001b[0m\u001b[37m\u001b[0m \u001b[1m0s\u001b[0m 4ms/step - AUC: 0.8977 - Precision: 0.9164 - Recall: 0.9278 - accuracy: 0.8814 - loss: 0.3000 - val_AUC: 0.8388 - val_Precision: 0.9087 - val_Recall: 0.9129 - val_accuracy: 0.8613 - val_loss: 0.3740 - learning_rate: 0.0100\n",
      "Epoch 33/200\n",
      "\u001b[1m52/52\u001b[0m \u001b[32m━━━━━━━━━━━━━━━━━━━━\u001b[0m\u001b[37m\u001b[0m \u001b[1m0s\u001b[0m 4ms/step - AUC: 0.9036 - Precision: 0.9074 - Recall: 0.9433 - accuracy: 0.8867 - loss: 0.2997 - val_AUC: 0.8489 - val_Precision: 0.9053 - val_Recall: 0.9224 - val_accuracy: 0.8650 - val_loss: 0.3564 - learning_rate: 0.0100\n",
      "Epoch 34/200\n",
      "\u001b[1m52/52\u001b[0m \u001b[32m━━━━━━━━━━━━━━━━━━━━\u001b[0m\u001b[37m\u001b[0m \u001b[1m0s\u001b[0m 4ms/step - AUC: 0.8941 - Precision: 0.9136 - Recall: 0.9376 - accuracy: 0.8864 - loss: 0.3067 - val_AUC: 0.8393 - val_Precision: 0.9127 - val_Recall: 0.9106 - val_accuracy: 0.8631 - val_loss: 0.3795 - learning_rate: 0.0030\n",
      "Epoch 35/200\n",
      "\u001b[1m52/52\u001b[0m \u001b[32m━━━━━━━━━━━━━━━━━━━━\u001b[0m\u001b[37m\u001b[0m \u001b[1m0s\u001b[0m 4ms/step - AUC: 0.8948 - Precision: 0.9089 - Recall: 0.9267 - accuracy: 0.8773 - loss: 0.3104 - val_AUC: 0.8283 - val_Precision: 0.9028 - val_Recall: 0.9176 - val_accuracy: 0.8595 - val_loss: 0.3753 - learning_rate: 0.0030\n",
      "Epoch 36/200\n",
      "\u001b[1m52/52\u001b[0m \u001b[32m━━━━━━━━━━━━━━━━━━━━\u001b[0m\u001b[37m\u001b[0m \u001b[1m0s\u001b[0m 4ms/step - AUC: 0.9111 - Precision: 0.9224 - Recall: 0.9339 - accuracy: 0.8927 - loss: 0.2863 - val_AUC: 0.8321 - val_Precision: 0.9068 - val_Recall: 0.9153 - val_accuracy: 0.8613 - val_loss: 0.3746 - learning_rate: 0.0030\n",
      "Epoch 37/200\n",
      "\u001b[1m52/52\u001b[0m \u001b[32m━━━━━━━━━━━━━━━━━━━━\u001b[0m\u001b[37m\u001b[0m \u001b[1m0s\u001b[0m 4ms/step - AUC: 0.8974 - Precision: 0.9124 - Recall: 0.9339 - accuracy: 0.8850 - loss: 0.2995 - val_AUC: 0.8235 - val_Precision: 0.9061 - val_Recall: 0.9082 - val_accuracy: 0.8558 - val_loss: 0.3901 - learning_rate: 0.0030\n",
      "Epoch 38/200\n",
      "\u001b[1m52/52\u001b[0m \u001b[32m━━━━━━━━━━━━━━━━━━━━\u001b[0m\u001b[37m\u001b[0m \u001b[1m0s\u001b[0m 4ms/step - AUC: 0.9096 - Precision: 0.9242 - Recall: 0.9389 - accuracy: 0.8958 - loss: 0.2802 - val_AUC: 0.8284 - val_Precision: 0.9042 - val_Recall: 0.9106 - val_accuracy: 0.8558 - val_loss: 0.3769 - learning_rate: 0.0030\n",
      "Epoch 39/200\n",
      "\u001b[1m52/52\u001b[0m \u001b[32m━━━━━━━━━━━━━━━━━━━━\u001b[0m\u001b[37m\u001b[0m \u001b[1m0s\u001b[0m 4ms/step - AUC: 0.9027 - Precision: 0.9094 - Recall: 0.9407 - accuracy: 0.8890 - loss: 0.3008 - val_AUC: 0.8233 - val_Precision: 0.9002 - val_Recall: 0.9129 - val_accuracy: 0.8540 - val_loss: 0.3777 - learning_rate: 0.0030\n",
      "Epoch 40/200\n",
      "\u001b[1m52/52\u001b[0m \u001b[32m━━━━━━━━━━━━━━━━━━━━\u001b[0m\u001b[37m\u001b[0m \u001b[1m0s\u001b[0m 4ms/step - AUC: 0.8948 - Precision: 0.9126 - Recall: 0.9543 - accuracy: 0.8966 - loss: 0.2850 - val_AUC: 0.8244 - val_Precision: 0.9021 - val_Recall: 0.9106 - val_accuracy: 0.8540 - val_loss: 0.3908 - learning_rate: 0.0030\n",
      "Epoch 41/200\n",
      "\u001b[1m52/52\u001b[0m \u001b[32m━━━━━━━━━━━━━━━━━━━━\u001b[0m\u001b[37m\u001b[0m \u001b[1m0s\u001b[0m 4ms/step - AUC: 0.9183 - Precision: 0.9188 - Recall: 0.9395 - accuracy: 0.8925 - loss: 0.2685 - val_AUC: 0.8249 - val_Precision: 0.9065 - val_Recall: 0.9129 - val_accuracy: 0.8595 - val_loss: 0.3876 - learning_rate: 0.0030\n",
      "Epoch 42/200\n",
      "\u001b[1m52/52\u001b[0m \u001b[32m━━━━━━━━━━━━━━━━━━━━\u001b[0m\u001b[37m\u001b[0m \u001b[1m0s\u001b[0m 4ms/step - AUC: 0.9044 - Precision: 0.9114 - Recall: 0.9345 - accuracy: 0.8829 - loss: 0.2940 - val_AUC: 0.8239 - val_Precision: 0.9063 - val_Recall: 0.9106 - val_accuracy: 0.8577 - val_loss: 0.3889 - learning_rate: 0.0030\n",
      "Epoch 43/200\n",
      "\u001b[1m52/52\u001b[0m \u001b[32m━━━━━━━━━━━━━━━━━━━━\u001b[0m\u001b[37m\u001b[0m \u001b[1m0s\u001b[0m 4ms/step - AUC: 0.9057 - Precision: 0.9143 - Recall: 0.9442 - accuracy: 0.8928 - loss: 0.2853 - val_AUC: 0.8218 - val_Precision: 0.9000 - val_Recall: 0.9106 - val_accuracy: 0.8522 - val_loss: 0.3864 - learning_rate: 0.0030\n",
      "Epoch 44/200\n",
      "\u001b[1m52/52\u001b[0m \u001b[32m━━━━━━━━━━━━━━━━━━━━\u001b[0m\u001b[37m\u001b[0m \u001b[1m0s\u001b[0m 4ms/step - AUC: 0.8944 - Precision: 0.9034 - Recall: 0.9436 - accuracy: 0.8851 - loss: 0.3078 - val_AUC: 0.8223 - val_Precision: 0.9063 - val_Recall: 0.9106 - val_accuracy: 0.8577 - val_loss: 0.3932 - learning_rate: 0.0030\n",
      "Epoch 45/200\n",
      "\u001b[1m52/52\u001b[0m \u001b[32m━━━━━━━━━━━━━━━━━━━━\u001b[0m\u001b[37m\u001b[0m \u001b[1m0s\u001b[0m 4ms/step - AUC: 0.9097 - Precision: 0.9142 - Recall: 0.9363 - accuracy: 0.8889 - loss: 0.2932 - val_AUC: 0.8229 - val_Precision: 0.9082 - val_Recall: 0.9082 - val_accuracy: 0.8577 - val_loss: 0.3910 - learning_rate: 0.0030\n",
      "Epoch 46/200\n",
      "\u001b[1m52/52\u001b[0m \u001b[32m━━━━━━━━━━━━━━━━━━━━\u001b[0m\u001b[37m\u001b[0m \u001b[1m0s\u001b[0m 5ms/step - AUC: 0.9146 - Precision: 0.9332 - Recall: 0.9358 - accuracy: 0.9012 - loss: 0.2685 - val_AUC: 0.8234 - val_Precision: 0.9087 - val_Recall: 0.9129 - val_accuracy: 0.8613 - val_loss: 0.3973 - learning_rate: 0.0030\n",
      "Epoch 47/200\n",
      "\u001b[1m52/52\u001b[0m \u001b[32m━━━━━━━━━━━━━━━━━━━━\u001b[0m\u001b[37m\u001b[0m \u001b[1m0s\u001b[0m 4ms/step - AUC: 0.9269 - Precision: 0.9321 - Recall: 0.9368 - accuracy: 0.9034 - loss: 0.2602 - val_AUC: 0.8207 - val_Precision: 0.8961 - val_Recall: 0.9129 - val_accuracy: 0.8504 - val_loss: 0.3925 - learning_rate: 0.0030\n",
      "Epoch 48/200\n",
      "\u001b[1m52/52\u001b[0m \u001b[32m━━━━━━━━━━━━━━━━━━━━\u001b[0m\u001b[37m\u001b[0m \u001b[1m0s\u001b[0m 4ms/step - AUC: 0.9129 - Precision: 0.9247 - Recall: 0.9353 - accuracy: 0.8949 - loss: 0.2793 - val_AUC: 0.8275 - val_Precision: 0.9151 - val_Recall: 0.9129 - val_accuracy: 0.8668 - val_loss: 0.3981 - learning_rate: 0.0030\n",
      "Epoch 49/200\n",
      "\u001b[1m52/52\u001b[0m \u001b[32m━━━━━━━━━━━━━━━━━━━━\u001b[0m\u001b[37m\u001b[0m \u001b[1m0s\u001b[0m 4ms/step - AUC: 0.8989 - Precision: 0.9236 - Recall: 0.9268 - accuracy: 0.8876 - loss: 0.2931 - val_AUC: 0.8167 - val_Precision: 0.9047 - val_Recall: 0.9153 - val_accuracy: 0.8595 - val_loss: 0.4008 - learning_rate: 0.0030\n",
      "Epoch 50/200\n",
      "\u001b[1m52/52\u001b[0m \u001b[32m━━━━━━━━━━━━━━━━━━━━\u001b[0m\u001b[37m\u001b[0m \u001b[1m0s\u001b[0m 4ms/step - AUC: 0.9256 - Precision: 0.9334 - Recall: 0.9361 - accuracy: 0.9044 - loss: 0.2638 - val_AUC: 0.8209 - val_Precision: 0.8943 - val_Recall: 0.9153 - val_accuracy: 0.8504 - val_loss: 0.3995 - learning_rate: 0.0030\n",
      "Epoch 51/200\n",
      "\u001b[1m52/52\u001b[0m \u001b[32m━━━━━━━━━━━━━━━━━━━━\u001b[0m\u001b[37m\u001b[0m \u001b[1m0s\u001b[0m 4ms/step - AUC: 0.9167 - Precision: 0.9192 - Recall: 0.9376 - accuracy: 0.8935 - loss: 0.2772 - val_AUC: 0.8248 - val_Precision: 0.9108 - val_Recall: 0.9129 - val_accuracy: 0.8631 - val_loss: 0.4025 - learning_rate: 0.0030\n",
      "Epoch 52/200\n",
      "\u001b[1m52/52\u001b[0m \u001b[32m━━━━━━━━━━━━━━━━━━━━\u001b[0m\u001b[37m\u001b[0m \u001b[1m0s\u001b[0m 4ms/step - AUC: 0.9038 - Precision: 0.9307 - Recall: 0.9373 - accuracy: 0.8983 - loss: 0.2809 - val_AUC: 0.8288 - val_Precision: 0.9110 - val_Recall: 0.9153 - val_accuracy: 0.8650 - val_loss: 0.3950 - learning_rate: 0.0030\n",
      "Epoch 53/200\n",
      "\u001b[1m52/52\u001b[0m \u001b[32m━━━━━━━━━━━━━━━━━━━━\u001b[0m\u001b[37m\u001b[0m \u001b[1m0s\u001b[0m 4ms/step - AUC: 0.9222 - Precision: 0.9356 - Recall: 0.9464 - accuracy: 0.9117 - loss: 0.2588 - val_AUC: 0.8221 - val_Precision: 0.9044 - val_Recall: 0.9129 - val_accuracy: 0.8577 - val_loss: 0.3980 - learning_rate: 0.0030\n",
      "Epoch 54/200\n",
      "\u001b[1m52/52\u001b[0m \u001b[32m━━━━━━━━━━━━━━━━━━━━\u001b[0m\u001b[37m\u001b[0m \u001b[1m0s\u001b[0m 4ms/step - AUC: 0.9117 - Precision: 0.9251 - Recall: 0.9478 - accuracy: 0.9053 - loss: 0.2714 - val_AUC: 0.8210 - val_Precision: 0.9065 - val_Recall: 0.9129 - val_accuracy: 0.8595 - val_loss: 0.4031 - learning_rate: 0.0030\n",
      "Epoch 55/200\n",
      "\u001b[1m52/52\u001b[0m \u001b[32m━━━━━━━━━━━━━━━━━━━━\u001b[0m\u001b[37m\u001b[0m \u001b[1m0s\u001b[0m 4ms/step - AUC: 0.9143 - Precision: 0.9212 - Recall: 0.9366 - accuracy: 0.8914 - loss: 0.2672 - val_AUC: 0.8237 - val_Precision: 0.9151 - val_Recall: 0.9129 - val_accuracy: 0.8668 - val_loss: 0.4075 - learning_rate: 0.0030\n",
      "Epoch 56/200\n",
      "\u001b[1m52/52\u001b[0m \u001b[32m━━━━━━━━━━━━━━━━━━━━\u001b[0m\u001b[37m\u001b[0m \u001b[1m0s\u001b[0m 4ms/step - AUC: 0.9039 - Precision: 0.9213 - Recall: 0.9478 - accuracy: 0.9025 - loss: 0.2776 - val_AUC: 0.8135 - val_Precision: 0.9044 - val_Recall: 0.9129 - val_accuracy: 0.8577 - val_loss: 0.4027 - learning_rate: 0.0030\n",
      "Epoch 57/200\n",
      "\u001b[1m52/52\u001b[0m \u001b[32m━━━━━━━━━━━━━━━━━━━━\u001b[0m\u001b[37m\u001b[0m \u001b[1m0s\u001b[0m 4ms/step - AUC: 0.8948 - Precision: 0.9121 - Recall: 0.9415 - accuracy: 0.8878 - loss: 0.2926 - val_AUC: 0.8194 - val_Precision: 0.9108 - val_Recall: 0.9129 - val_accuracy: 0.8631 - val_loss: 0.4180 - learning_rate: 0.0030\n",
      "Epoch 58/200\n",
      "\u001b[1m52/52\u001b[0m \u001b[32m━━━━━━━━━━━━━━━━━━━━\u001b[0m\u001b[37m\u001b[0m \u001b[1m0s\u001b[0m 5ms/step - AUC: 0.8923 - Precision: 0.9150 - Recall: 0.9441 - accuracy: 0.8933 - loss: 0.2971 - val_AUC: 0.8273 - val_Precision: 0.9149 - val_Recall: 0.9106 - val_accuracy: 0.8650 - val_loss: 0.4083 - learning_rate: 0.0030\n",
      "Epoch 59/200\n",
      "\u001b[1m52/52\u001b[0m \u001b[32m━━━━━━━━━━━━━━━━━━━━\u001b[0m\u001b[37m\u001b[0m \u001b[1m0s\u001b[0m 4ms/step - AUC: 0.9008 - Precision: 0.9314 - Recall: 0.9354 - accuracy: 0.9001 - loss: 0.2838 - val_AUC: 0.8139 - val_Precision: 0.9089 - val_Recall: 0.9153 - val_accuracy: 0.8631 - val_loss: 0.4181 - learning_rate: 0.0030\n",
      "Epoch 60/200\n",
      "\u001b[1m52/52\u001b[0m \u001b[32m━━━━━━━━━━━━━━━━━━━━\u001b[0m\u001b[37m\u001b[0m \u001b[1m0s\u001b[0m 4ms/step - AUC: 0.9070 - Precision: 0.9264 - Recall: 0.9357 - accuracy: 0.8954 - loss: 0.2817 - val_AUC: 0.8216 - val_Precision: 0.9147 - val_Recall: 0.9082 - val_accuracy: 0.8631 - val_loss: 0.4266 - learning_rate: 0.0030\n",
      "Epoch 61/200\n",
      "\u001b[1m52/52\u001b[0m \u001b[32m━━━━━━━━━━━━━━━━━━━━\u001b[0m\u001b[37m\u001b[0m \u001b[1m0s\u001b[0m 4ms/step - AUC: 0.9124 - Precision: 0.9317 - Recall: 0.9407 - accuracy: 0.9034 - loss: 0.2652 - val_AUC: 0.8123 - val_Precision: 0.9026 - val_Recall: 0.9153 - val_accuracy: 0.8577 - val_loss: 0.4280 - learning_rate: 0.0030\n",
      "Epoch 62/200\n",
      "\u001b[1m52/52\u001b[0m \u001b[32m━━━━━━━━━━━━━━━━━━━━\u001b[0m\u001b[37m\u001b[0m \u001b[1m0s\u001b[0m 4ms/step - AUC: 0.9143 - Precision: 0.9196 - Recall: 0.9351 - accuracy: 0.8902 - loss: 0.2774 - val_AUC: 0.8084 - val_Precision: 0.9085 - val_Recall: 0.9106 - val_accuracy: 0.8595 - val_loss: 0.4243 - learning_rate: 0.0030\n",
      "Epoch 63/200\n",
      "\u001b[1m52/52\u001b[0m \u001b[32m━━━━━━━━━━━━━━━━━━━━\u001b[0m\u001b[37m\u001b[0m \u001b[1m0s\u001b[0m 4ms/step - AUC: 0.9027 - Precision: 0.9255 - Recall: 0.9454 - accuracy: 0.9015 - loss: 0.2786 - val_AUC: 0.8097 - val_Precision: 0.9044 - val_Recall: 0.9129 - val_accuracy: 0.8577 - val_loss: 0.4310 - learning_rate: 0.0030\n",
      "Epoch 64/200\n",
      "\u001b[1m52/52\u001b[0m \u001b[32m━━━━━━━━━━━━━━━━━━━━\u001b[0m\u001b[37m\u001b[0m \u001b[1m0s\u001b[0m 4ms/step - AUC: 0.9169 - Precision: 0.9359 - Recall: 0.9398 - accuracy: 0.9061 - loss: 0.2596 - val_AUC: 0.8107 - val_Precision: 0.9151 - val_Recall: 0.9129 - val_accuracy: 0.8668 - val_loss: 0.4364 - learning_rate: 0.0030\n",
      "Epoch 65/200\n",
      "\u001b[1m52/52\u001b[0m \u001b[32m━━━━━━━━━━━━━━━━━━━━\u001b[0m\u001b[37m\u001b[0m \u001b[1m0s\u001b[0m 4ms/step - AUC: 0.9142 - Precision: 0.9322 - Recall: 0.9402 - accuracy: 0.9049 - loss: 0.2659 - val_AUC: 0.8114 - val_Precision: 0.9049 - val_Recall: 0.9176 - val_accuracy: 0.8613 - val_loss: 0.4189 - learning_rate: 0.0030\n",
      "Epoch 66/200\n",
      "\u001b[1m52/52\u001b[0m \u001b[32m━━━━━━━━━━━━━━━━━━━━\u001b[0m\u001b[37m\u001b[0m \u001b[1m0s\u001b[0m 4ms/step - AUC: 0.9100 - Precision: 0.9254 - Recall: 0.9499 - accuracy: 0.9055 - loss: 0.2745 - val_AUC: 0.8071 - val_Precision: 0.9082 - val_Recall: 0.9082 - val_accuracy: 0.8577 - val_loss: 0.4757 - learning_rate: 0.0030\n",
      "Epoch 67/200\n",
      "\u001b[1m52/52\u001b[0m \u001b[32m━━━━━━━━━━━━━━━━━━━━\u001b[0m\u001b[37m\u001b[0m \u001b[1m0s\u001b[0m 4ms/step - AUC: 0.9204 - Precision: 0.9363 - Recall: 0.9404 - accuracy: 0.9086 - loss: 0.2623 - val_AUC: 0.8013 - val_Precision: 0.8963 - val_Recall: 0.9153 - val_accuracy: 0.8522 - val_loss: 0.4583 - learning_rate: 0.0030\n",
      "Epoch 68/200\n",
      "\u001b[1m52/52\u001b[0m \u001b[32m━━━━━━━━━━━━━━━━━━━━\u001b[0m\u001b[37m\u001b[0m \u001b[1m0s\u001b[0m 4ms/step - AUC: 0.8968 - Precision: 0.9159 - Recall: 0.9397 - accuracy: 0.8914 - loss: 0.2957 - val_AUC: 0.8090 - val_Precision: 0.9061 - val_Recall: 0.9082 - val_accuracy: 0.8558 - val_loss: 0.4603 - learning_rate: 0.0030\n",
      "Epoch 69/200\n",
      "\u001b[1m52/52\u001b[0m \u001b[32m━━━━━━━━━━━━━━━━━━━━\u001b[0m\u001b[37m\u001b[0m \u001b[1m0s\u001b[0m 4ms/step - AUC: 0.8998 - Precision: 0.9122 - Recall: 0.9541 - accuracy: 0.8991 - loss: 0.2874 - val_AUC: 0.8217 - val_Precision: 0.9104 - val_Recall: 0.9082 - val_accuracy: 0.8595 - val_loss: 0.4329 - learning_rate: 0.0030\n",
      "Epoch 70/200\n",
      "\u001b[1m52/52\u001b[0m \u001b[32m━━━━━━━━━━━━━━━━━━━━\u001b[0m\u001b[37m\u001b[0m \u001b[1m0s\u001b[0m 4ms/step - AUC: 0.9123 - Precision: 0.9275 - Recall: 0.9518 - accuracy: 0.9083 - loss: 0.2639 - val_AUC: 0.8137 - val_Precision: 0.9023 - val_Recall: 0.9129 - val_accuracy: 0.8558 - val_loss: 0.4490 - learning_rate: 0.0030\n",
      "Epoch 71/200\n",
      "\u001b[1m52/52\u001b[0m \u001b[32m━━━━━━━━━━━━━━━━━━━━\u001b[0m\u001b[37m\u001b[0m \u001b[1m0s\u001b[0m 4ms/step - AUC: 0.9211 - Precision: 0.9268 - Recall: 0.9488 - accuracy: 0.9073 - loss: 0.2635 - val_AUC: 0.8023 - val_Precision: 0.9021 - val_Recall: 0.9106 - val_accuracy: 0.8540 - val_loss: 0.4730 - learning_rate: 0.0030\n",
      "Epoch 72/200\n",
      "\u001b[1m52/52\u001b[0m \u001b[32m━━━━━━━━━━━━━━━━━━━━\u001b[0m\u001b[37m\u001b[0m \u001b[1m0s\u001b[0m 4ms/step - AUC: 0.9256 - Precision: 0.9322 - Recall: 0.9579 - accuracy: 0.9167 - loss: 0.2478 - val_AUC: 0.8171 - val_Precision: 0.9040 - val_Recall: 0.9082 - val_accuracy: 0.8540 - val_loss: 0.4560 - learning_rate: 0.0030\n",
      "Epoch 73/200\n",
      "\u001b[1m52/52\u001b[0m \u001b[32m━━━━━━━━━━━━━━━━━━━━\u001b[0m\u001b[37m\u001b[0m \u001b[1m0s\u001b[0m 4ms/step - AUC: 0.9144 - Precision: 0.9329 - Recall: 0.9517 - accuracy: 0.9121 - loss: 0.2621 - val_AUC: 0.8067 - val_Precision: 0.9054 - val_Recall: 0.9012 - val_accuracy: 0.8504 - val_loss: 0.4926 - learning_rate: 0.0030\n",
      "Epoch 74/200\n",
      "\u001b[1m52/52\u001b[0m \u001b[32m━━━━━━━━━━━━━━━━━━━━\u001b[0m\u001b[37m\u001b[0m \u001b[1m0s\u001b[0m 4ms/step - AUC: 0.9237 - Precision: 0.9413 - Recall: 0.9416 - accuracy: 0.9132 - loss: 0.2544 - val_AUC: 0.8127 - val_Precision: 0.8956 - val_Recall: 0.9082 - val_accuracy: 0.8467 - val_loss: 0.4686 - learning_rate: 0.0030\n",
      "Epoch 75/200\n",
      "\u001b[1m52/52\u001b[0m \u001b[32m━━━━━━━━━━━━━━━━━━━━\u001b[0m\u001b[37m\u001b[0m \u001b[1m0s\u001b[0m 4ms/step - AUC: 0.8962 - Precision: 0.9203 - Recall: 0.9357 - accuracy: 0.8920 - loss: 0.3012 - val_AUC: 0.8124 - val_Precision: 0.9102 - val_Recall: 0.9059 - val_accuracy: 0.8577 - val_loss: 0.4461 - learning_rate: 0.0030\n",
      "Epoch 76/200\n",
      "\u001b[1m52/52\u001b[0m \u001b[32m━━━━━━━━━━━━━━━━━━━━\u001b[0m\u001b[37m\u001b[0m \u001b[1m0s\u001b[0m 4ms/step - AUC: 0.9127 - Precision: 0.9300 - Recall: 0.9503 - accuracy: 0.9093 - loss: 0.2674 - val_AUC: 0.8141 - val_Precision: 0.9143 - val_Recall: 0.9035 - val_accuracy: 0.8595 - val_loss: 0.4568 - learning_rate: 0.0030\n",
      "Epoch 77/200\n",
      "\u001b[1m52/52\u001b[0m \u001b[32m━━━━━━━━━━━━━━━━━━━━\u001b[0m\u001b[37m\u001b[0m \u001b[1m0s\u001b[0m 4ms/step - AUC: 0.9149 - Precision: 0.9277 - Recall: 0.9350 - accuracy: 0.8987 - loss: 0.2748 - val_AUC: 0.8135 - val_Precision: 0.9127 - val_Recall: 0.9106 - val_accuracy: 0.8631 - val_loss: 0.4602 - learning_rate: 0.0030\n",
      "Epoch 78/200\n",
      "\u001b[1m52/52\u001b[0m \u001b[32m━━━━━━━━━━━━━━━━━━━━\u001b[0m\u001b[37m\u001b[0m \u001b[1m0s\u001b[0m 4ms/step - AUC: 0.9351 - Precision: 0.9380 - Recall: 0.9416 - accuracy: 0.9104 - loss: 0.2395 - val_AUC: 0.8143 - val_Precision: 0.9104 - val_Recall: 0.9082 - val_accuracy: 0.8595 - val_loss: 0.4599 - learning_rate: 0.0030\n",
      "Epoch 79/200\n",
      "\u001b[1m52/52\u001b[0m \u001b[32m━━━━━━━━━━━━━━━━━━━━\u001b[0m\u001b[37m\u001b[0m \u001b[1m0s\u001b[0m 4ms/step - AUC: 0.9086 - Precision: 0.9241 - Recall: 0.9444 - accuracy: 0.8995 - loss: 0.2754 - val_AUC: 0.8040 - val_Precision: 0.9117 - val_Recall: 0.8988 - val_accuracy: 0.8540 - val_loss: 0.4924 - learning_rate: 0.0030\n",
      "Epoch 80/200\n",
      "\u001b[1m52/52\u001b[0m \u001b[32m━━━━━━━━━━━━━━━━━━━━\u001b[0m\u001b[37m\u001b[0m \u001b[1m0s\u001b[0m 4ms/step - AUC: 0.9182 - Precision: 0.9312 - Recall: 0.9436 - accuracy: 0.9063 - loss: 0.2644 - val_AUC: 0.8076 - val_Precision: 0.9100 - val_Recall: 0.9035 - val_accuracy: 0.8558 - val_loss: 0.4793 - learning_rate: 0.0030\n",
      "Epoch 81/200\n",
      "\u001b[1m52/52\u001b[0m \u001b[32m━━━━━━━━━━━━━━━━━━━━\u001b[0m\u001b[37m\u001b[0m \u001b[1m0s\u001b[0m 4ms/step - AUC: 0.9238 - Precision: 0.9364 - Recall: 0.9512 - accuracy: 0.9146 - loss: 0.2443 - val_AUC: 0.8153 - val_Precision: 0.9061 - val_Recall: 0.9082 - val_accuracy: 0.8558 - val_loss: 0.4746 - learning_rate: 0.0030\n",
      "Epoch 82/200\n",
      "\u001b[1m52/52\u001b[0m \u001b[32m━━━━━━━━━━━━━━━━━━━━\u001b[0m\u001b[37m\u001b[0m \u001b[1m0s\u001b[0m 4ms/step - AUC: 0.9286 - Precision: 0.9312 - Recall: 0.9473 - accuracy: 0.9094 - loss: 0.2475 - val_AUC: 0.8070 - val_Precision: 0.8940 - val_Recall: 0.9129 - val_accuracy: 0.8485 - val_loss: 0.4986 - learning_rate: 0.0030\n",
      "Epoch 83/200\n",
      "\u001b[1m52/52\u001b[0m \u001b[32m━━━━━━━━━━━━━━━━━━━━\u001b[0m\u001b[37m\u001b[0m \u001b[1m0s\u001b[0m 4ms/step - AUC: 0.9307 - Precision: 0.9401 - Recall: 0.9494 - accuracy: 0.9150 - loss: 0.2437 - val_AUC: 0.8142 - val_Precision: 0.9091 - val_Recall: 0.8941 - val_accuracy: 0.8485 - val_loss: 0.4981 - learning_rate: 0.0030\n",
      "Epoch 84/200\n",
      "\u001b[1m52/52\u001b[0m \u001b[32m━━━━━━━━━━━━━━━━━━━━\u001b[0m\u001b[37m\u001b[0m \u001b[1m0s\u001b[0m 4ms/step - AUC: 0.9357 - Precision: 0.9454 - Recall: 0.9526 - accuracy: 0.9242 - loss: 0.2297 - val_AUC: 0.8068 - val_Precision: 0.9002 - val_Recall: 0.9129 - val_accuracy: 0.8540 - val_loss: 0.5052 - learning_rate: 0.0030\n",
      "Epoch 85/200\n",
      "\u001b[1m52/52\u001b[0m \u001b[32m━━━━━━━━━━━━━━━━━━━━\u001b[0m\u001b[37m\u001b[0m \u001b[1m0s\u001b[0m 3ms/step - AUC: 0.9074 - Precision: 0.9339 - Recall: 0.9310 - accuracy: 0.8987 - loss: 0.2933 - val_AUC: 0.8014 - val_Precision: 0.9057 - val_Recall: 0.9035 - val_accuracy: 0.8522 - val_loss: 0.5118 - learning_rate: 0.0030\n",
      "Epoch 86/200\n",
      "\u001b[1m52/52\u001b[0m \u001b[32m━━━━━━━━━━━━━━━━━━━━\u001b[0m\u001b[37m\u001b[0m \u001b[1m0s\u001b[0m 4ms/step - AUC: 0.9282 - Precision: 0.9308 - Recall: 0.9543 - accuracy: 0.9139 - loss: 0.2512 - val_AUC: 0.8105 - val_Precision: 0.9040 - val_Recall: 0.9082 - val_accuracy: 0.8540 - val_loss: 0.4868 - learning_rate: 9.0000e-04\n",
      "Epoch 87/200\n",
      "\u001b[1m52/52\u001b[0m \u001b[32m━━━━━━━━━━━━━━━━━━━━\u001b[0m\u001b[37m\u001b[0m \u001b[1m0s\u001b[0m 4ms/step - AUC: 0.9142 - Precision: 0.9227 - Recall: 0.9576 - accuracy: 0.9091 - loss: 0.2631 - val_AUC: 0.8080 - val_Precision: 0.8995 - val_Recall: 0.9059 - val_accuracy: 0.8485 - val_loss: 0.4961 - learning_rate: 9.0000e-04\n",
      "Epoch 88/200\n",
      "\u001b[1m52/52\u001b[0m \u001b[32m━━━━━━━━━━━━━━━━━━━━\u001b[0m\u001b[37m\u001b[0m \u001b[1m0s\u001b[0m 4ms/step - AUC: 0.9232 - Precision: 0.9398 - Recall: 0.9437 - accuracy: 0.9114 - loss: 0.2510 - val_AUC: 0.8110 - val_Precision: 0.9059 - val_Recall: 0.9059 - val_accuracy: 0.8540 - val_loss: 0.5057 - learning_rate: 9.0000e-04\n",
      "Epoch 89/200\n",
      "\u001b[1m52/52\u001b[0m \u001b[32m━━━━━━━━━━━━━━━━━━━━\u001b[0m\u001b[37m\u001b[0m \u001b[1m0s\u001b[0m 4ms/step - AUC: 0.9406 - Precision: 0.9434 - Recall: 0.9583 - accuracy: 0.9245 - loss: 0.2193 - val_AUC: 0.8109 - val_Precision: 0.8995 - val_Recall: 0.9059 - val_accuracy: 0.8485 - val_loss: 0.5018 - learning_rate: 9.0000e-04\n",
      "Epoch 90/200\n",
      "\u001b[1m52/52\u001b[0m \u001b[32m━━━━━━━━━━━━━━━━━━━━\u001b[0m\u001b[37m\u001b[0m \u001b[1m0s\u001b[0m 4ms/step - AUC: 0.9259 - Precision: 0.9224 - Recall: 0.9573 - accuracy: 0.9101 - loss: 0.2570 - val_AUC: 0.8048 - val_Precision: 0.8993 - val_Recall: 0.9035 - val_accuracy: 0.8467 - val_loss: 0.5040 - learning_rate: 9.0000e-04\n",
      "Epoch 91/200\n",
      "\u001b[1m52/52\u001b[0m \u001b[32m━━━━━━━━━━━━━━━━━━━━\u001b[0m\u001b[37m\u001b[0m \u001b[1m0s\u001b[0m 4ms/step - AUC: 0.9305 - Precision: 0.9388 - Recall: 0.9528 - accuracy: 0.9181 - loss: 0.2389 - val_AUC: 0.8059 - val_Precision: 0.8995 - val_Recall: 0.9059 - val_accuracy: 0.8485 - val_loss: 0.5127 - learning_rate: 9.0000e-04\n",
      "Epoch 92/200\n",
      "\u001b[1m52/52\u001b[0m \u001b[32m━━━━━━━━━━━━━━━━━━━━\u001b[0m\u001b[37m\u001b[0m \u001b[1m0s\u001b[0m 5ms/step - AUC: 0.9300 - Precision: 0.9364 - Recall: 0.9531 - accuracy: 0.9171 - loss: 0.2409 - val_AUC: 0.8111 - val_Precision: 0.9038 - val_Recall: 0.9059 - val_accuracy: 0.8522 - val_loss: 0.5091 - learning_rate: 9.0000e-04\n",
      "Epoch 93/200\n",
      "\u001b[1m52/52\u001b[0m \u001b[32m━━━━━━━━━━━━━━━━━━━━\u001b[0m\u001b[37m\u001b[0m \u001b[1m0s\u001b[0m 4ms/step - AUC: 0.9254 - Precision: 0.9350 - Recall: 0.9643 - accuracy: 0.9224 - loss: 0.2398 - val_AUC: 0.8066 - val_Precision: 0.8995 - val_Recall: 0.9059 - val_accuracy: 0.8485 - val_loss: 0.5141 - learning_rate: 9.0000e-04\n",
      "Epoch 94/200\n",
      "\u001b[1m52/52\u001b[0m \u001b[32m━━━━━━━━━━━━━━━━━━━━\u001b[0m\u001b[37m\u001b[0m \u001b[1m0s\u001b[0m 4ms/step - AUC: 0.9294 - Precision: 0.9330 - Recall: 0.9581 - accuracy: 0.9186 - loss: 0.2463 - val_AUC: 0.8088 - val_Precision: 0.9035 - val_Recall: 0.9035 - val_accuracy: 0.8504 - val_loss: 0.5152 - learning_rate: 9.0000e-04\n",
      "Epoch 95/200\n",
      "\u001b[1m52/52\u001b[0m \u001b[32m━━━━━━━━━━━━━━━━━━━━\u001b[0m\u001b[37m\u001b[0m \u001b[1m0s\u001b[0m 4ms/step - AUC: 0.9278 - Precision: 0.9391 - Recall: 0.9543 - accuracy: 0.9195 - loss: 0.2391 - val_AUC: 0.8071 - val_Precision: 0.8995 - val_Recall: 0.9059 - val_accuracy: 0.8485 - val_loss: 0.5147 - learning_rate: 9.0000e-04\n",
      "Epoch 96/200\n",
      "\u001b[1m52/52\u001b[0m \u001b[32m━━━━━━━━━━━━━━━━━━━━\u001b[0m\u001b[37m\u001b[0m \u001b[1m0s\u001b[0m 4ms/step - AUC: 0.9301 - Precision: 0.9405 - Recall: 0.9623 - accuracy: 0.9268 - loss: 0.2354 - val_AUC: 0.8082 - val_Precision: 0.9038 - val_Recall: 0.9059 - val_accuracy: 0.8522 - val_loss: 0.5103 - learning_rate: 9.0000e-04\n",
      "Epoch 97/200\n",
      "\u001b[1m52/52\u001b[0m \u001b[32m━━━━━━━━━━━━━━━━━━━━\u001b[0m\u001b[37m\u001b[0m \u001b[1m0s\u001b[0m 4ms/step - AUC: 0.9323 - Precision: 0.9360 - Recall: 0.9539 - accuracy: 0.9179 - loss: 0.2388 - val_AUC: 0.8083 - val_Precision: 0.9038 - val_Recall: 0.9059 - val_accuracy: 0.8522 - val_loss: 0.5147 - learning_rate: 9.0000e-04\n",
      "Epoch 98/200\n",
      "\u001b[1m52/52\u001b[0m \u001b[32m━━━━━━━━━━━━━━━━━━━━\u001b[0m\u001b[37m\u001b[0m \u001b[1m0s\u001b[0m 4ms/step - AUC: 0.9261 - Precision: 0.9463 - Recall: 0.9420 - accuracy: 0.9146 - loss: 0.2462 - val_AUC: 0.8047 - val_Precision: 0.9033 - val_Recall: 0.9012 - val_accuracy: 0.8485 - val_loss: 0.5241 - learning_rate: 9.0000e-04\n",
      "Epoch 99/200\n",
      "\u001b[1m52/52\u001b[0m \u001b[32m━━━━━━━━━━━━━━━━━━━━\u001b[0m\u001b[37m\u001b[0m \u001b[1m0s\u001b[0m 4ms/step - AUC: 0.9408 - Precision: 0.9485 - Recall: 0.9541 - accuracy: 0.9282 - loss: 0.2237 - val_AUC: 0.8099 - val_Precision: 0.8995 - val_Recall: 0.9059 - val_accuracy: 0.8485 - val_loss: 0.5167 - learning_rate: 9.0000e-04\n",
      "Epoch 100/200\n",
      "\u001b[1m52/52\u001b[0m \u001b[32m━━━━━━━━━━━━━━━━━━━━\u001b[0m\u001b[37m\u001b[0m \u001b[1m0s\u001b[0m 4ms/step - AUC: 0.9262 - Precision: 0.9423 - Recall: 0.9471 - accuracy: 0.9163 - loss: 0.2461 - val_AUC: 0.8085 - val_Precision: 0.8995 - val_Recall: 0.9059 - val_accuracy: 0.8485 - val_loss: 0.5186 - learning_rate: 9.0000e-04\n",
      "Epoch 101/200\n",
      "\u001b[1m52/52\u001b[0m \u001b[32m━━━━━━━━━━━━━━━━━━━━\u001b[0m\u001b[37m\u001b[0m \u001b[1m0s\u001b[0m 4ms/step - AUC: 0.9419 - Precision: 0.9492 - Recall: 0.9547 - accuracy: 0.9280 - loss: 0.2214 - val_AUC: 0.8073 - val_Precision: 0.8995 - val_Recall: 0.9059 - val_accuracy: 0.8485 - val_loss: 0.5253 - learning_rate: 9.0000e-04\n",
      "Epoch 102/200\n",
      "\u001b[1m52/52\u001b[0m \u001b[32m━━━━━━━━━━━━━━━━━━━━\u001b[0m\u001b[37m\u001b[0m \u001b[1m0s\u001b[0m 4ms/step - AUC: 0.9155 - Precision: 0.9315 - Recall: 0.9544 - accuracy: 0.9139 - loss: 0.2637 - val_AUC: 0.8063 - val_Precision: 0.8974 - val_Recall: 0.9059 - val_accuracy: 0.8467 - val_loss: 0.5243 - learning_rate: 9.0000e-04\n",
      "Epoch 103/200\n",
      "\u001b[1m52/52\u001b[0m \u001b[32m━━━━━━━━━━━━━━━━━━━━\u001b[0m\u001b[37m\u001b[0m \u001b[1m0s\u001b[0m 4ms/step - AUC: 0.9240 - Precision: 0.9349 - Recall: 0.9609 - accuracy: 0.9205 - loss: 0.2404 - val_AUC: 0.8009 - val_Precision: 0.8974 - val_Recall: 0.9059 - val_accuracy: 0.8467 - val_loss: 0.5343 - learning_rate: 9.0000e-04\n",
      "Epoch 104/200\n",
      "\u001b[1m52/52\u001b[0m \u001b[32m━━━━━━━━━━━━━━━━━━━━\u001b[0m\u001b[37m\u001b[0m \u001b[1m0s\u001b[0m 4ms/step - AUC: 0.9072 - Precision: 0.9301 - Recall: 0.9558 - accuracy: 0.9124 - loss: 0.2691 - val_AUC: 0.8065 - val_Precision: 0.8972 - val_Recall: 0.9035 - val_accuracy: 0.8449 - val_loss: 0.5308 - learning_rate: 9.0000e-04\n",
      "Epoch 105/200\n",
      "\u001b[1m52/52\u001b[0m \u001b[32m━━━━━━━━━━━━━━━━━━━━\u001b[0m\u001b[37m\u001b[0m \u001b[1m0s\u001b[0m 4ms/step - AUC: 0.9309 - Precision: 0.9391 - Recall: 0.9560 - accuracy: 0.9207 - loss: 0.2354 - val_AUC: 0.8075 - val_Precision: 0.8998 - val_Recall: 0.9082 - val_accuracy: 0.8504 - val_loss: 0.5239 - learning_rate: 9.0000e-04\n",
      "Epoch 106/200\n",
      "\u001b[1m52/52\u001b[0m \u001b[32m━━━━━━━━━━━━━━━━━━━━\u001b[0m\u001b[37m\u001b[0m \u001b[1m0s\u001b[0m 4ms/step - AUC: 0.9405 - Precision: 0.9427 - Recall: 0.9693 - accuracy: 0.9330 - loss: 0.2167 - val_AUC: 0.8032 - val_Precision: 0.8977 - val_Recall: 0.9082 - val_accuracy: 0.8485 - val_loss: 0.5308 - learning_rate: 9.0000e-04\n",
      "Epoch 107/200\n",
      "\u001b[1m52/52\u001b[0m \u001b[32m━━━━━━━━━━━━━━━━━━━━\u001b[0m\u001b[37m\u001b[0m \u001b[1m0s\u001b[0m 4ms/step - AUC: 0.9277 - Precision: 0.9368 - Recall: 0.9460 - accuracy: 0.9126 - loss: 0.2463 - val_AUC: 0.8072 - val_Precision: 0.8995 - val_Recall: 0.9059 - val_accuracy: 0.8485 - val_loss: 0.5357 - learning_rate: 9.0000e-04\n",
      "Epoch 108/200\n",
      "\u001b[1m52/52\u001b[0m \u001b[32m━━━━━━━━━━━━━━━━━━━━\u001b[0m\u001b[37m\u001b[0m \u001b[1m0s\u001b[0m 4ms/step - AUC: 0.9261 - Precision: 0.9354 - Recall: 0.9503 - accuracy: 0.9129 - loss: 0.2458 - val_AUC: 0.8034 - val_Precision: 0.8974 - val_Recall: 0.9059 - val_accuracy: 0.8467 - val_loss: 0.5408 - learning_rate: 9.0000e-04\n",
      "Epoch 109/200\n",
      "\u001b[1m52/52\u001b[0m \u001b[32m━━━━━━━━━━━━━━━━━━━━\u001b[0m\u001b[37m\u001b[0m \u001b[1m0s\u001b[0m 4ms/step - AUC: 0.9415 - Precision: 0.9472 - Recall: 0.9580 - accuracy: 0.9288 - loss: 0.2170 - val_AUC: 0.8042 - val_Precision: 0.8998 - val_Recall: 0.9082 - val_accuracy: 0.8504 - val_loss: 0.5379 - learning_rate: 9.0000e-04\n",
      "Epoch 110/200\n",
      "\u001b[1m52/52\u001b[0m \u001b[32m━━━━━━━━━━━━━━━━━━━━\u001b[0m\u001b[37m\u001b[0m \u001b[1m0s\u001b[0m 3ms/step - AUC: 0.9266 - Precision: 0.9363 - Recall: 0.9516 - accuracy: 0.9164 - loss: 0.2477 - val_AUC: 0.8053 - val_Precision: 0.8993 - val_Recall: 0.9035 - val_accuracy: 0.8467 - val_loss: 0.5396 - learning_rate: 9.0000e-04\n",
      "Epoch 111/200\n",
      "\u001b[1m52/52\u001b[0m \u001b[32m━━━━━━━━━━━━━━━━━━━━\u001b[0m\u001b[37m\u001b[0m \u001b[1m0s\u001b[0m 4ms/step - AUC: 0.9360 - Precision: 0.9406 - Recall: 0.9620 - accuracy: 0.9276 - loss: 0.2304 - val_AUC: 0.8050 - val_Precision: 0.8977 - val_Recall: 0.9082 - val_accuracy: 0.8485 - val_loss: 0.5417 - learning_rate: 9.0000e-04\n",
      "Epoch 112/200\n",
      "\u001b[1m52/52\u001b[0m \u001b[32m━━━━━━━━━━━━━━━━━━━━\u001b[0m\u001b[37m\u001b[0m \u001b[1m0s\u001b[0m 4ms/step - AUC: 0.9304 - Precision: 0.9310 - Recall: 0.9523 - accuracy: 0.9115 - loss: 0.2459 - val_AUC: 0.8063 - val_Precision: 0.8995 - val_Recall: 0.9059 - val_accuracy: 0.8485 - val_loss: 0.5457 - learning_rate: 9.0000e-04\n",
      "Epoch 113/200\n",
      "\u001b[1m52/52\u001b[0m \u001b[32m━━━━━━━━━━━━━━━━━━━━\u001b[0m\u001b[37m\u001b[0m \u001b[1m0s\u001b[0m 4ms/step - AUC: 0.9255 - Precision: 0.9433 - Recall: 0.9533 - accuracy: 0.9225 - loss: 0.2460 - val_AUC: 0.8068 - val_Precision: 0.8998 - val_Recall: 0.9082 - val_accuracy: 0.8504 - val_loss: 0.5487 - learning_rate: 9.0000e-04\n",
      "Epoch 114/200\n",
      "\u001b[1m52/52\u001b[0m \u001b[32m━━━━━━━━━━━━━━━━━━━━\u001b[0m\u001b[37m\u001b[0m \u001b[1m0s\u001b[0m 4ms/step - AUC: 0.9293 - Precision: 0.9401 - Recall: 0.9552 - accuracy: 0.9208 - loss: 0.2333 - val_AUC: 0.8071 - val_Precision: 0.8977 - val_Recall: 0.9082 - val_accuracy: 0.8485 - val_loss: 0.5527 - learning_rate: 9.0000e-04\n",
      "Epoch 115/200\n",
      "\u001b[1m52/52\u001b[0m \u001b[32m━━━━━━━━━━━━━━━━━━━━\u001b[0m\u001b[37m\u001b[0m \u001b[1m0s\u001b[0m 4ms/step - AUC: 0.9230 - Precision: 0.9408 - Recall: 0.9590 - accuracy: 0.9228 - loss: 0.2351 - val_AUC: 0.8066 - val_Precision: 0.8998 - val_Recall: 0.9082 - val_accuracy: 0.8504 - val_loss: 0.5443 - learning_rate: 9.0000e-04\n",
      "Epoch 116/200\n",
      "\u001b[1m52/52\u001b[0m \u001b[32m━━━━━━━━━━━━━━━━━━━━\u001b[0m\u001b[37m\u001b[0m \u001b[1m0s\u001b[0m 4ms/step - AUC: 0.9178 - Precision: 0.9274 - Recall: 0.9635 - accuracy: 0.9163 - loss: 0.2533 - val_AUC: 0.8053 - val_Precision: 0.9019 - val_Recall: 0.9082 - val_accuracy: 0.8522 - val_loss: 0.5491 - learning_rate: 9.0000e-04\n",
      "Epoch 117/200\n",
      "\u001b[1m52/52\u001b[0m \u001b[32m━━━━━━━━━━━━━━━━━━━━\u001b[0m\u001b[37m\u001b[0m \u001b[1m0s\u001b[0m 5ms/step - AUC: 0.9285 - Precision: 0.9434 - Recall: 0.9502 - accuracy: 0.9199 - loss: 0.2397 - val_AUC: 0.8057 - val_Precision: 0.8972 - val_Recall: 0.9035 - val_accuracy: 0.8449 - val_loss: 0.5515 - learning_rate: 9.0000e-04\n",
      "Epoch 118/200\n",
      "\u001b[1m52/52\u001b[0m \u001b[32m━━━━━━━━━━━━━━━━━━━━\u001b[0m\u001b[37m\u001b[0m \u001b[1m0s\u001b[0m 4ms/step - AUC: 0.9308 - Precision: 0.9403 - Recall: 0.9480 - accuracy: 0.9160 - loss: 0.2406 - val_AUC: 0.8055 - val_Precision: 0.8977 - val_Recall: 0.9082 - val_accuracy: 0.8485 - val_loss: 0.5507 - learning_rate: 9.0000e-04\n",
      "Epoch 119/200\n",
      "\u001b[1m52/52\u001b[0m \u001b[32m━━━━━━━━━━━━━━━━━━━━\u001b[0m\u001b[37m\u001b[0m \u001b[1m0s\u001b[0m 4ms/step - AUC: 0.9315 - Precision: 0.9452 - Recall: 0.9506 - accuracy: 0.9208 - loss: 0.2304 - val_AUC: 0.8055 - val_Precision: 0.9038 - val_Recall: 0.9059 - val_accuracy: 0.8522 - val_loss: 0.5535 - learning_rate: 9.0000e-04\n",
      "Epoch 120/200\n",
      "\u001b[1m52/52\u001b[0m \u001b[32m━━━━━━━━━━━━━━━━━━━━\u001b[0m\u001b[37m\u001b[0m \u001b[1m0s\u001b[0m 4ms/step - AUC: 0.9173 - Precision: 0.9318 - Recall: 0.9479 - accuracy: 0.9094 - loss: 0.2630 - val_AUC: 0.8046 - val_Precision: 0.9019 - val_Recall: 0.9082 - val_accuracy: 0.8522 - val_loss: 0.5545 - learning_rate: 9.0000e-04\n",
      "Epoch 121/200\n",
      "\u001b[1m52/52\u001b[0m \u001b[32m━━━━━━━━━━━━━━━━━━━━\u001b[0m\u001b[37m\u001b[0m \u001b[1m0s\u001b[0m 4ms/step - AUC: 0.9189 - Precision: 0.9282 - Recall: 0.9585 - accuracy: 0.9150 - loss: 0.2554 - val_AUC: 0.8055 - val_Precision: 0.8998 - val_Recall: 0.9082 - val_accuracy: 0.8504 - val_loss: 0.5455 - learning_rate: 9.0000e-04\n",
      "Epoch 122/200\n",
      "\u001b[1m52/52\u001b[0m \u001b[32m━━━━━━━━━━━━━━━━━━━━\u001b[0m\u001b[37m\u001b[0m \u001b[1m0s\u001b[0m 4ms/step - AUC: 0.9326 - Precision: 0.9385 - Recall: 0.9472 - accuracy: 0.9150 - loss: 0.2427 - val_AUC: 0.8073 - val_Precision: 0.8977 - val_Recall: 0.9082 - val_accuracy: 0.8485 - val_loss: 0.5514 - learning_rate: 2.7000e-04\n",
      "Epoch 123/200\n",
      "\u001b[1m52/52\u001b[0m \u001b[32m━━━━━━━━━━━━━━━━━━━━\u001b[0m\u001b[37m\u001b[0m \u001b[1m0s\u001b[0m 4ms/step - AUC: 0.9415 - Precision: 0.9518 - Recall: 0.9544 - accuracy: 0.9284 - loss: 0.2139 - val_AUC: 0.8044 - val_Precision: 0.8977 - val_Recall: 0.9082 - val_accuracy: 0.8485 - val_loss: 0.5572 - learning_rate: 2.7000e-04\n",
      "Epoch 124/200\n",
      "\u001b[1m52/52\u001b[0m \u001b[32m━━━━━━━━━━━━━━━━━━━━\u001b[0m\u001b[37m\u001b[0m \u001b[1m0s\u001b[0m 4ms/step - AUC: 0.9337 - Precision: 0.9393 - Recall: 0.9556 - accuracy: 0.9225 - loss: 0.2344 - val_AUC: 0.8051 - val_Precision: 0.8977 - val_Recall: 0.9082 - val_accuracy: 0.8485 - val_loss: 0.5636 - learning_rate: 2.7000e-04\n",
      "Epoch 125/200\n",
      "\u001b[1m52/52\u001b[0m \u001b[32m━━━━━━━━━━━━━━━━━━━━\u001b[0m\u001b[37m\u001b[0m \u001b[1m0s\u001b[0m 4ms/step - AUC: 0.9276 - Precision: 0.9363 - Recall: 0.9559 - accuracy: 0.9196 - loss: 0.2422 - val_AUC: 0.8056 - val_Precision: 0.8977 - val_Recall: 0.9082 - val_accuracy: 0.8485 - val_loss: 0.5649 - learning_rate: 2.7000e-04\n",
      "Epoch 126/200\n",
      "\u001b[1m52/52\u001b[0m \u001b[32m━━━━━━━━━━━━━━━━━━━━\u001b[0m\u001b[37m\u001b[0m \u001b[1m0s\u001b[0m 4ms/step - AUC: 0.9267 - Precision: 0.9392 - Recall: 0.9434 - accuracy: 0.9117 - loss: 0.2486 - val_AUC: 0.8052 - val_Precision: 0.8998 - val_Recall: 0.9082 - val_accuracy: 0.8504 - val_loss: 0.5624 - learning_rate: 2.7000e-04\n",
      "Epoch 127/200\n",
      "\u001b[1m52/52\u001b[0m \u001b[32m━━━━━━━━━━━━━━━━━━━━\u001b[0m\u001b[37m\u001b[0m \u001b[1m0s\u001b[0m 4ms/step - AUC: 0.9383 - Precision: 0.9523 - Recall: 0.9521 - accuracy: 0.9278 - loss: 0.2252 - val_AUC: 0.8061 - val_Precision: 0.8977 - val_Recall: 0.9082 - val_accuracy: 0.8485 - val_loss: 0.5617 - learning_rate: 2.7000e-04\n",
      "Epoch 128/200\n",
      "\u001b[1m52/52\u001b[0m \u001b[32m━━━━━━━━━━━━━━━━━━━━\u001b[0m\u001b[37m\u001b[0m \u001b[1m0s\u001b[0m 4ms/step - AUC: 0.9361 - Precision: 0.9428 - Recall: 0.9572 - accuracy: 0.9249 - loss: 0.2311 - val_AUC: 0.8057 - val_Precision: 0.8977 - val_Recall: 0.9082 - val_accuracy: 0.8485 - val_loss: 0.5667 - learning_rate: 2.7000e-04\n",
      "Epoch 129/200\n",
      "\u001b[1m52/52\u001b[0m \u001b[32m━━━━━━━━━━━━━━━━━━━━\u001b[0m\u001b[37m\u001b[0m \u001b[1m0s\u001b[0m 4ms/step - AUC: 0.9307 - Precision: 0.9326 - Recall: 0.9517 - accuracy: 0.9140 - loss: 0.2457 - val_AUC: 0.8059 - val_Precision: 0.8998 - val_Recall: 0.9082 - val_accuracy: 0.8504 - val_loss: 0.5651 - learning_rate: 2.7000e-04\n",
      "Epoch 130/200\n",
      "\u001b[1m52/52\u001b[0m \u001b[32m━━━━━━━━━━━━━━━━━━━━\u001b[0m\u001b[37m\u001b[0m \u001b[1m0s\u001b[0m 4ms/step - AUC: 0.9400 - Precision: 0.9450 - Recall: 0.9478 - accuracy: 0.9187 - loss: 0.2252 - val_AUC: 0.8048 - val_Precision: 0.8998 - val_Recall: 0.9082 - val_accuracy: 0.8504 - val_loss: 0.5665 - learning_rate: 2.7000e-04\n",
      "Epoch 131/200\n",
      "\u001b[1m52/52\u001b[0m \u001b[32m━━━━━━━━━━━━━━━━━━━━\u001b[0m\u001b[37m\u001b[0m \u001b[1m0s\u001b[0m 4ms/step - AUC: 0.9353 - Precision: 0.9422 - Recall: 0.9554 - accuracy: 0.9226 - loss: 0.2256 - val_AUC: 0.8052 - val_Precision: 0.8998 - val_Recall: 0.9082 - val_accuracy: 0.8504 - val_loss: 0.5690 - learning_rate: 2.7000e-04\n",
      "Epoch 132/200\n",
      "\u001b[1m52/52\u001b[0m \u001b[32m━━━━━━━━━━━━━━━━━━━━\u001b[0m\u001b[37m\u001b[0m \u001b[1m0s\u001b[0m 4ms/step - AUC: 0.9298 - Precision: 0.9428 - Recall: 0.9651 - accuracy: 0.9291 - loss: 0.2233 - val_AUC: 0.8053 - val_Precision: 0.8998 - val_Recall: 0.9082 - val_accuracy: 0.8504 - val_loss: 0.5693 - learning_rate: 8.1000e-05\n",
      "Epoch 133/200\n",
      "\u001b[1m52/52\u001b[0m \u001b[32m━━━━━━━━━━━━━━━━━━━━\u001b[0m\u001b[37m\u001b[0m \u001b[1m0s\u001b[0m 4ms/step - AUC: 0.9391 - Precision: 0.9461 - Recall: 0.9529 - accuracy: 0.9241 - loss: 0.2250 - val_AUC: 0.8056 - val_Precision: 0.8998 - val_Recall: 0.9082 - val_accuracy: 0.8504 - val_loss: 0.5696 - learning_rate: 8.1000e-05\n",
      "Epoch 134/200\n",
      "\u001b[1m52/52\u001b[0m \u001b[32m━━━━━━━━━━━━━━━━━━━━\u001b[0m\u001b[37m\u001b[0m \u001b[1m0s\u001b[0m 4ms/step - AUC: 0.9261 - Precision: 0.9369 - Recall: 0.9617 - accuracy: 0.9225 - loss: 0.2422 - val_AUC: 0.8058 - val_Precision: 0.8998 - val_Recall: 0.9082 - val_accuracy: 0.8504 - val_loss: 0.5692 - learning_rate: 8.1000e-05\n",
      "Epoch 135/200\n",
      "\u001b[1m52/52\u001b[0m \u001b[32m━━━━━━━━━━━━━━━━━━━━\u001b[0m\u001b[37m\u001b[0m \u001b[1m0s\u001b[0m 4ms/step - AUC: 0.9262 - Precision: 0.9334 - Recall: 0.9656 - accuracy: 0.9218 - loss: 0.2391 - val_AUC: 0.8060 - val_Precision: 0.8998 - val_Recall: 0.9082 - val_accuracy: 0.8504 - val_loss: 0.5703 - learning_rate: 8.1000e-05\n",
      "Epoch 136/200\n",
      "\u001b[1m52/52\u001b[0m \u001b[32m━━━━━━━━━━━━━━━━━━━━\u001b[0m\u001b[37m\u001b[0m \u001b[1m0s\u001b[0m 4ms/step - AUC: 0.9260 - Precision: 0.9361 - Recall: 0.9481 - accuracy: 0.9137 - loss: 0.2538 - val_AUC: 0.8060 - val_Precision: 0.8998 - val_Recall: 0.9082 - val_accuracy: 0.8504 - val_loss: 0.5696 - learning_rate: 8.1000e-05\n",
      "Epoch 137/200\n",
      "\u001b[1m52/52\u001b[0m \u001b[32m━━━━━━━━━━━━━━━━━━━━\u001b[0m\u001b[37m\u001b[0m \u001b[1m0s\u001b[0m 4ms/step - AUC: 0.9334 - Precision: 0.9412 - Recall: 0.9630 - accuracy: 0.9272 - loss: 0.2285 - val_AUC: 0.8057 - val_Precision: 0.8998 - val_Recall: 0.9082 - val_accuracy: 0.8504 - val_loss: 0.5702 - learning_rate: 8.1000e-05\n",
      "Epoch 138/200\n",
      "\u001b[1m52/52\u001b[0m \u001b[32m━━━━━━━━━━━━━━━━━━━━\u001b[0m\u001b[37m\u001b[0m \u001b[1m0s\u001b[0m 4ms/step - AUC: 0.9379 - Precision: 0.9449 - Recall: 0.9560 - accuracy: 0.9260 - loss: 0.2291 - val_AUC: 0.8059 - val_Precision: 0.8998 - val_Recall: 0.9082 - val_accuracy: 0.8504 - val_loss: 0.5707 - learning_rate: 8.1000e-05\n",
      "Epoch 139/200\n",
      "\u001b[1m52/52\u001b[0m \u001b[32m━━━━━━━━━━━━━━━━━━━━\u001b[0m\u001b[37m\u001b[0m \u001b[1m0s\u001b[0m 4ms/step - AUC: 0.9158 - Precision: 0.9192 - Recall: 0.9516 - accuracy: 0.9048 - loss: 0.2761 - val_AUC: 0.8058 - val_Precision: 0.8998 - val_Recall: 0.9082 - val_accuracy: 0.8504 - val_loss: 0.5715 - learning_rate: 8.1000e-05\n",
      "Epoch 140/200\n",
      "\u001b[1m52/52\u001b[0m \u001b[32m━━━━━━━━━━━━━━━━━━━━\u001b[0m\u001b[37m\u001b[0m \u001b[1m0s\u001b[0m 4ms/step - AUC: 0.9301 - Precision: 0.9345 - Recall: 0.9531 - accuracy: 0.9164 - loss: 0.2463 - val_AUC: 0.8060 - val_Precision: 0.8998 - val_Recall: 0.9082 - val_accuracy: 0.8504 - val_loss: 0.5711 - learning_rate: 8.1000e-05\n",
      "Epoch 141/200\n",
      "\u001b[1m52/52\u001b[0m \u001b[32m━━━━━━━━━━━━━━━━━━━━\u001b[0m\u001b[37m\u001b[0m \u001b[1m0s\u001b[0m 4ms/step - AUC: 0.9345 - Precision: 0.9377 - Recall: 0.9539 - accuracy: 0.9176 - loss: 0.2365 - val_AUC: 0.8061 - val_Precision: 0.8998 - val_Recall: 0.9082 - val_accuracy: 0.8504 - val_loss: 0.5716 - learning_rate: 8.1000e-05\n",
      "Epoch 142/200\n",
      "\u001b[1m52/52\u001b[0m \u001b[32m━━━━━━━━━━━━━━━━━━━━\u001b[0m\u001b[37m\u001b[0m \u001b[1m0s\u001b[0m 5ms/step - AUC: 0.9313 - Precision: 0.9402 - Recall: 0.9506 - accuracy: 0.9186 - loss: 0.2395 - val_AUC: 0.8057 - val_Precision: 0.8998 - val_Recall: 0.9082 - val_accuracy: 0.8504 - val_loss: 0.5722 - learning_rate: 8.1000e-05\n",
      "Epoch 143/200\n",
      "\u001b[1m52/52\u001b[0m \u001b[32m━━━━━━━━━━━━━━━━━━━━\u001b[0m\u001b[37m\u001b[0m \u001b[1m0s\u001b[0m 4ms/step - AUC: 0.9406 - Precision: 0.9549 - Recall: 0.9524 - accuracy: 0.9301 - loss: 0.2223 - val_AUC: 0.8058 - val_Precision: 0.8998 - val_Recall: 0.9082 - val_accuracy: 0.8504 - val_loss: 0.5723 - learning_rate: 8.1000e-05\n",
      "Epoch 144/200\n",
      "\u001b[1m52/52\u001b[0m \u001b[32m━━━━━━━━━━━━━━━━━━━━\u001b[0m\u001b[37m\u001b[0m \u001b[1m0s\u001b[0m 4ms/step - AUC: 0.9286 - Precision: 0.9353 - Recall: 0.9529 - accuracy: 0.9168 - loss: 0.2496 - val_AUC: 0.8059 - val_Precision: 0.8998 - val_Recall: 0.9082 - val_accuracy: 0.8504 - val_loss: 0.5724 - learning_rate: 8.1000e-05\n",
      "Epoch 145/200\n",
      "\u001b[1m52/52\u001b[0m \u001b[32m━━━━━━━━━━━━━━━━━━━━\u001b[0m\u001b[37m\u001b[0m \u001b[1m0s\u001b[0m 4ms/step - AUC: 0.9361 - Precision: 0.9392 - Recall: 0.9627 - accuracy: 0.9258 - loss: 0.2268 - val_AUC: 0.8059 - val_Precision: 0.8998 - val_Recall: 0.9082 - val_accuracy: 0.8504 - val_loss: 0.5728 - learning_rate: 2.4300e-05\n",
      "Epoch 146/200\n",
      "\u001b[1m52/52\u001b[0m \u001b[32m━━━━━━━━━━━━━━━━━━━━\u001b[0m\u001b[37m\u001b[0m \u001b[1m0s\u001b[0m 4ms/step - AUC: 0.9133 - Precision: 0.9279 - Recall: 0.9585 - accuracy: 0.9122 - loss: 0.2601 - val_AUC: 0.8059 - val_Precision: 0.8998 - val_Recall: 0.9082 - val_accuracy: 0.8504 - val_loss: 0.5732 - learning_rate: 2.4300e-05\n",
      "Epoch 147/200\n",
      "\u001b[1m52/52\u001b[0m \u001b[32m━━━━━━━━━━━━━━━━━━━━\u001b[0m\u001b[37m\u001b[0m \u001b[1m0s\u001b[0m 4ms/step - AUC: 0.9328 - Precision: 0.9421 - Recall: 0.9578 - accuracy: 0.9245 - loss: 0.2320 - val_AUC: 0.8059 - val_Precision: 0.8998 - val_Recall: 0.9082 - val_accuracy: 0.8504 - val_loss: 0.5731 - learning_rate: 2.4300e-05\n",
      "Epoch 148/200\n",
      "\u001b[1m52/52\u001b[0m \u001b[32m━━━━━━━━━━━━━━━━━━━━\u001b[0m\u001b[37m\u001b[0m \u001b[1m0s\u001b[0m 4ms/step - AUC: 0.9272 - Precision: 0.9388 - Recall: 0.9516 - accuracy: 0.9174 - loss: 0.2452 - val_AUC: 0.8060 - val_Precision: 0.8998 - val_Recall: 0.9082 - val_accuracy: 0.8504 - val_loss: 0.5731 - learning_rate: 2.4300e-05\n",
      "Epoch 149/200\n",
      "\u001b[1m52/52\u001b[0m \u001b[32m━━━━━━━━━━━━━━━━━━━━\u001b[0m\u001b[37m\u001b[0m \u001b[1m0s\u001b[0m 4ms/step - AUC: 0.9277 - Precision: 0.9408 - Recall: 0.9608 - accuracy: 0.9247 - loss: 0.2354 - val_AUC: 0.8060 - val_Precision: 0.8998 - val_Recall: 0.9082 - val_accuracy: 0.8504 - val_loss: 0.5730 - learning_rate: 2.4300e-05\n",
      "Epoch 150/200\n",
      "\u001b[1m52/52\u001b[0m \u001b[32m━━━━━━━━━━━━━━━━━━━━\u001b[0m\u001b[37m\u001b[0m \u001b[1m0s\u001b[0m 5ms/step - AUC: 0.9432 - Precision: 0.9421 - Recall: 0.9543 - accuracy: 0.9235 - loss: 0.2215 - val_AUC: 0.8059 - val_Precision: 0.8998 - val_Recall: 0.9082 - val_accuracy: 0.8504 - val_loss: 0.5733 - learning_rate: 2.4300e-05\n",
      "Epoch 151/200\n",
      "\u001b[1m52/52\u001b[0m \u001b[32m━━━━━━━━━━━━━━━━━━━━\u001b[0m\u001b[37m\u001b[0m \u001b[1m0s\u001b[0m 5ms/step - AUC: 0.9181 - Precision: 0.9357 - Recall: 0.9531 - accuracy: 0.9139 - loss: 0.2456 - val_AUC: 0.8062 - val_Precision: 0.8998 - val_Recall: 0.9082 - val_accuracy: 0.8504 - val_loss: 0.5734 - learning_rate: 2.4300e-05\n",
      "Epoch 152/200\n",
      "\u001b[1m52/52\u001b[0m \u001b[32m━━━━━━━━━━━━━━━━━━━━\u001b[0m\u001b[37m\u001b[0m \u001b[1m0s\u001b[0m 4ms/step - AUC: 0.9285 - Precision: 0.9314 - Recall: 0.9561 - accuracy: 0.9156 - loss: 0.2476 - val_AUC: 0.8059 - val_Precision: 0.8998 - val_Recall: 0.9082 - val_accuracy: 0.8504 - val_loss: 0.5733 - learning_rate: 2.4300e-05\n",
      "Epoch 153/200\n",
      "\u001b[1m52/52\u001b[0m \u001b[32m━━━━━━━━━━━━━━━━━━━━\u001b[0m\u001b[37m\u001b[0m \u001b[1m0s\u001b[0m 4ms/step - AUC: 0.9317 - Precision: 0.9421 - Recall: 0.9531 - accuracy: 0.9218 - loss: 0.2372 - val_AUC: 0.8059 - val_Precision: 0.8998 - val_Recall: 0.9082 - val_accuracy: 0.8504 - val_loss: 0.5735 - learning_rate: 2.4300e-05\n",
      "Epoch 154/200\n",
      "\u001b[1m52/52\u001b[0m \u001b[32m━━━━━━━━━━━━━━━━━━━━\u001b[0m\u001b[37m\u001b[0m \u001b[1m0s\u001b[0m 4ms/step - AUC: 0.9319 - Precision: 0.9372 - Recall: 0.9551 - accuracy: 0.9190 - loss: 0.2411 - val_AUC: 0.8059 - val_Precision: 0.8998 - val_Recall: 0.9082 - val_accuracy: 0.8504 - val_loss: 0.5736 - learning_rate: 2.4300e-05\n",
      "Epoch 155/200\n",
      "\u001b[1m52/52\u001b[0m \u001b[32m━━━━━━━━━━━━━━━━━━━━\u001b[0m\u001b[37m\u001b[0m \u001b[1m0s\u001b[0m 4ms/step - AUC: 0.9288 - Precision: 0.9412 - Recall: 0.9449 - accuracy: 0.9134 - loss: 0.2458 - val_AUC: 0.8059 - val_Precision: 0.8998 - val_Recall: 0.9082 - val_accuracy: 0.8504 - val_loss: 0.5736 - learning_rate: 7.2900e-06\n",
      "Epoch 156/200\n",
      "\u001b[1m52/52\u001b[0m \u001b[32m━━━━━━━━━━━━━━━━━━━━\u001b[0m\u001b[37m\u001b[0m \u001b[1m0s\u001b[0m 4ms/step - AUC: 0.9381 - Precision: 0.9375 - Recall: 0.9604 - accuracy: 0.9235 - loss: 0.2317 - val_AUC: 0.8059 - val_Precision: 0.8998 - val_Recall: 0.9082 - val_accuracy: 0.8504 - val_loss: 0.5737 - learning_rate: 7.2900e-06\n",
      "Epoch 157/200\n",
      "\u001b[1m52/52\u001b[0m \u001b[32m━━━━━━━━━━━━━━━━━━━━\u001b[0m\u001b[37m\u001b[0m \u001b[1m0s\u001b[0m 4ms/step - AUC: 0.9391 - Precision: 0.9367 - Recall: 0.9652 - accuracy: 0.9267 - loss: 0.2274 - val_AUC: 0.8059 - val_Precision: 0.8998 - val_Recall: 0.9082 - val_accuracy: 0.8504 - val_loss: 0.5737 - learning_rate: 7.2900e-06\n",
      "Epoch 158/200\n",
      "\u001b[1m52/52\u001b[0m \u001b[32m━━━━━━━━━━━━━━━━━━━━\u001b[0m\u001b[37m\u001b[0m \u001b[1m0s\u001b[0m 5ms/step - AUC: 0.9283 - Precision: 0.9379 - Recall: 0.9590 - accuracy: 0.9213 - loss: 0.2400 - val_AUC: 0.8059 - val_Precision: 0.8998 - val_Recall: 0.9082 - val_accuracy: 0.8504 - val_loss: 0.5737 - learning_rate: 7.2900e-06\n",
      "Epoch 159/200\n",
      "\u001b[1m52/52\u001b[0m \u001b[32m━━━━━━━━━━━━━━━━━━━━\u001b[0m\u001b[37m\u001b[0m \u001b[1m0s\u001b[0m 4ms/step - AUC: 0.9446 - Precision: 0.9439 - Recall: 0.9626 - accuracy: 0.9310 - loss: 0.2214 - val_AUC: 0.8059 - val_Precision: 0.8998 - val_Recall: 0.9082 - val_accuracy: 0.8504 - val_loss: 0.5738 - learning_rate: 7.2900e-06\n",
      "Epoch 160/200\n",
      "\u001b[1m52/52\u001b[0m \u001b[32m━━━━━━━━━━━━━━━━━━━━\u001b[0m\u001b[37m\u001b[0m \u001b[1m0s\u001b[0m 4ms/step - AUC: 0.9301 - Precision: 0.9351 - Recall: 0.9601 - accuracy: 0.9213 - loss: 0.2410 - val_AUC: 0.8059 - val_Precision: 0.8998 - val_Recall: 0.9082 - val_accuracy: 0.8504 - val_loss: 0.5738 - learning_rate: 7.2900e-06\n",
      "Epoch 161/200\n",
      "\u001b[1m52/52\u001b[0m \u001b[32m━━━━━━━━━━━━━━━━━━━━\u001b[0m\u001b[37m\u001b[0m \u001b[1m0s\u001b[0m 4ms/step - AUC: 0.9391 - Precision: 0.9445 - Recall: 0.9530 - accuracy: 0.9234 - loss: 0.2248 - val_AUC: 0.8059 - val_Precision: 0.8998 - val_Recall: 0.9082 - val_accuracy: 0.8504 - val_loss: 0.5738 - learning_rate: 7.2900e-06\n",
      "Epoch 162/200\n",
      "\u001b[1m52/52\u001b[0m \u001b[32m━━━━━━━━━━━━━━━━━━━━\u001b[0m\u001b[37m\u001b[0m \u001b[1m0s\u001b[0m 4ms/step - AUC: 0.9434 - Precision: 0.9497 - Recall: 0.9560 - accuracy: 0.9298 - loss: 0.2176 - val_AUC: 0.8059 - val_Precision: 0.8998 - val_Recall: 0.9082 - val_accuracy: 0.8504 - val_loss: 0.5738 - learning_rate: 7.2900e-06\n",
      "Epoch 163/200\n",
      "\u001b[1m52/52\u001b[0m \u001b[32m━━━━━━━━━━━━━━━━━━━━\u001b[0m\u001b[37m\u001b[0m \u001b[1m0s\u001b[0m 4ms/step - AUC: 0.9312 - Precision: 0.9310 - Recall: 0.9592 - accuracy: 0.9157 - loss: 0.2405 - val_AUC: 0.8060 - val_Precision: 0.8998 - val_Recall: 0.9082 - val_accuracy: 0.8504 - val_loss: 0.5739 - learning_rate: 7.2900e-06\n",
      "Epoch 164/200\n",
      "\u001b[1m52/52\u001b[0m \u001b[32m━━━━━━━━━━━━━━━━━━━━\u001b[0m\u001b[37m\u001b[0m \u001b[1m0s\u001b[0m 4ms/step - AUC: 0.9350 - Precision: 0.9410 - Recall: 0.9559 - accuracy: 0.9224 - loss: 0.2295 - val_AUC: 0.8060 - val_Precision: 0.8998 - val_Recall: 0.9082 - val_accuracy: 0.8504 - val_loss: 0.5739 - learning_rate: 7.2900e-06\n",
      "Epoch 165/200\n",
      "\u001b[1m52/52\u001b[0m \u001b[32m━━━━━━━━━━━━━━━━━━━━\u001b[0m\u001b[37m\u001b[0m \u001b[1m0s\u001b[0m 4ms/step - AUC: 0.9440 - Precision: 0.9481 - Recall: 0.9540 - accuracy: 0.9276 - loss: 0.2205 - val_AUC: 0.8059 - val_Precision: 0.8998 - val_Recall: 0.9082 - val_accuracy: 0.8504 - val_loss: 0.5739 - learning_rate: 2.1870e-06\n",
      "Epoch 166/200\n",
      "\u001b[1m52/52\u001b[0m \u001b[32m━━━━━━━━━━━━━━━━━━━━\u001b[0m\u001b[37m\u001b[0m \u001b[1m0s\u001b[0m 5ms/step - AUC: 0.9305 - Precision: 0.9357 - Recall: 0.9560 - accuracy: 0.9180 - loss: 0.2417 - val_AUC: 0.8059 - val_Precision: 0.8998 - val_Recall: 0.9082 - val_accuracy: 0.8504 - val_loss: 0.5739 - learning_rate: 2.1870e-06\n",
      "Epoch 167/200\n",
      "\u001b[1m52/52\u001b[0m \u001b[32m━━━━━━━━━━━━━━━━━━━━\u001b[0m\u001b[37m\u001b[0m \u001b[1m0s\u001b[0m 4ms/step - AUC: 0.9380 - Precision: 0.9462 - Recall: 0.9453 - accuracy: 0.9198 - loss: 0.2368 - val_AUC: 0.8059 - val_Precision: 0.8998 - val_Recall: 0.9082 - val_accuracy: 0.8504 - val_loss: 0.5739 - learning_rate: 2.1870e-06\n",
      "Epoch 168/200\n",
      "\u001b[1m52/52\u001b[0m \u001b[32m━━━━━━━━━━━━━━━━━━━━\u001b[0m\u001b[37m\u001b[0m \u001b[1m0s\u001b[0m 4ms/step - AUC: 0.9413 - Precision: 0.9462 - Recall: 0.9541 - accuracy: 0.9266 - loss: 0.2277 - val_AUC: 0.8060 - val_Precision: 0.8998 - val_Recall: 0.9082 - val_accuracy: 0.8504 - val_loss: 0.5739 - learning_rate: 2.1870e-06\n",
      "Epoch 169/200\n",
      "\u001b[1m52/52\u001b[0m \u001b[32m━━━━━━━━━━━━━━━━━━━━\u001b[0m\u001b[37m\u001b[0m \u001b[1m0s\u001b[0m 4ms/step - AUC: 0.9291 - Precision: 0.9366 - Recall: 0.9535 - accuracy: 0.9171 - loss: 0.2443 - val_AUC: 0.8060 - val_Precision: 0.8998 - val_Recall: 0.9082 - val_accuracy: 0.8504 - val_loss: 0.5740 - learning_rate: 2.1870e-06\n"
     ]
    }
   ],
   "source": [
    "history=tf_model.fit(X,Y,epochs=200,validation_split=0.25,callbacks=[early_stopping,lr_scheduler],verbose=1)"
   ]
  },
  {
   "cell_type": "code",
   "execution_count": 211,
   "metadata": {},
   "outputs": [
    {
     "data": {
      "text/plain": [
       "[<matplotlib.lines.Line2D at 0x18a02609fd0>]"
      ]
     },
     "execution_count": 211,
     "metadata": {},
     "output_type": "execute_result"
    },
    {
     "data": {
      "image/png": "[encoded data removed]",
      "text/plain": [
       "<Figure size 640x480 with 1 Axes>"
      ]
     },
     "metadata": {},
     "output_type": "display_data"
    }
   ],
   "source": [
    "\n",
    "plt.plot(history.history[\"loss\"])\n",
    "plt.plot(history.history[\"accuracy\"])"
   ]
  },
  {
   "cell_type": "code",
   "execution_count": 212,
   "metadata": {},
   "outputs": [
    {
     "name": "stdout",
     "output_type": "stream",
     "text": [
      "Train model on 2190 examples\n",
      "Model trained in 0:00:00.490226\n"
     ]
    }
   ],
   "source": [
    "ydf_model=ydf.RandomForestLearner(\n",
    "    label=\"rainfall\",\n",
    "    split_axis=\"SPARSE_OBLIQUE\",\n",
    "    sparse_oblique_normalization=\"MIN_MAX\",\n",
    "    sparse_oblique_num_projections_exponent=1.0,\n",
    "    growing_strategy=\"BEST_FIRST_GLOBAL\",\n",
    "    num_candidate_attributes_ratio=0.9,\n",
    "    task=ydf.Task.CLASSIFICATION\n",
    "    ).train(df)"
   ]
  },
  {
   "cell_type": "code",
   "execution_count": 213,
   "metadata": {},
   "outputs": [
    {
     "data": {
      "text/html": [
       "\n",
       "<style>\n",
       "\n",
       ".tab_block .header {\n",
       "    flex-direction: row;\n",
       "    display: flex;\n",
       "}\n",
       "\n",
       ".tab_block .header .tab {\n",
       "    cursor: pointer;\n",
       "    background-color: #F6F5F5;\n",
       "    text-decoration: none;\n",
       "    text-align: center;\n",
       "    padding: 4px 12px;\n",
       "    color: black;\n",
       "}\n",
       "\n",
       ".tab_block .header .tab.selected {\n",
       "    border-bottom: 2px solid #2F80ED;\n",
       "}\n",
       "\n",
       ".tab_block .header .tab:hover {\n",
       "    text-decoration: none;\n",
       "    background-color: #DCDCDC;\n",
       "}\n",
       "\n",
       ".tab_block .body .tab_content {\n",
       "    display: none;\n",
       "    padding: 5px;\n",
       "}\n",
       "\n",
       ".tab_block .body .tab_content.selected {\n",
       "    display: block;\n",
       "}\n",
       "\n",
       ".ydf_pre {\n",
       "    font-size: medium;\n",
       "}\n",
       "\n",
       "\n",
       "\n",
       ".variable_importance {\n",
       "}\n",
       "\n",
       ".variable_importance select {\n",
       "}\n",
       "\n",
       ".variable_importance .content {\n",
       "  display: none;\n",
       "}\n",
       "\n",
       ".variable_importance .content.selected {\n",
       "  display: block;\n",
       "}\n",
       "\n",
       ".ydf_tuning_table {\n",
       "  border-collapse: collapse;\n",
       "  border: 1px solid lightgray;\n",
       "}\n",
       "\n",
       ".ydf_tuning_table th {\n",
       "  background-color: #ededed;\n",
       "  font-weight: bold;\n",
       "  text-align: left;\n",
       "  padding: 3px 4px;\n",
       "  border: 1px solid lightgray;\n",
       "}\n",
       "\n",
       ".ydf_tuning_table td {\n",
       "  text-align: right;\n",
       "  padding: 3px 4px;\n",
       "  border: 1px solid lightgray;\n",
       "}\n",
       "\n",
       ".ydf_tuning_table .best {\n",
       "  background-color: khaki;\n",
       "}\n",
       "\n",
       "</style>\n",
       "\n",
       "<script>\n",
       "\n",
       "function ydfShowTab(block_id, item) {\n",
       "    const block = document.getElementById(block_id);\n",
       "    \n",
       "    \n",
       "    console.log(\"HIDE first of:\",block.getElementsByClassName(\"tab selected\"));\n",
       "    console.log(\"HIDE first of:\",block.getElementsByClassName(\"tab_content selected\"));\n",
       "    \n",
       "    block.getElementsByClassName(\"tab selected\")[0].classList.remove(\"selected\");\n",
       "    block.getElementsByClassName(\"tab_content selected\")[0].classList.remove(\"selected\");\n",
       "    document.getElementById(block_id + \"_\" + item).classList.add(\"selected\");\n",
       "    document.getElementById(block_id + \"_body_\" + item).classList.add(\"selected\");\n",
       "}\n",
       "  \n",
       "\n",
       "function ydfShowVariableImportance(block_id) {\n",
       "    const block = document.getElementById(block_id);\n",
       "    const item = block.getElementsByTagName(\"select\")[0].value;\n",
       "    block.getElementsByClassName(\"content selected\")[0].classList.remove(\"selected\");\n",
       "    document.getElementById(block_id + \"_body_\" + item).classList.add(\"selected\");\n",
       "}\n",
       "\n",
       "</script>\n",
       "  <div class=\"tab_block\" id=\"20e8-7d2f-d57d-7569\"><div class=\"header\"><a id=\"20e8-7d2f-d57d-7569_model\" class=\"tab selected\" onclick=\"ydfShowTab('20e8-7d2f-d57d-7569', 'model')\">Model</a><a id=\"20e8-7d2f-d57d-7569_dataspec\" class=\"tab\" onclick=\"ydfShowTab('20e8-7d2f-d57d-7569', 'dataspec')\">Dataspec</a><a id=\"20e8-7d2f-d57d-7569_training\" class=\"tab\" onclick=\"ydfShowTab('20e8-7d2f-d57d-7569', 'training')\">Training</a><a id=\"20e8-7d2f-d57d-7569_variable_importance\" class=\"tab\" onclick=\"ydfShowTab('20e8-7d2f-d57d-7569', 'variable_importance')\">Variable importances</a><a id=\"20e8-7d2f-d57d-7569_structure\" class=\"tab\" onclick=\"ydfShowTab('20e8-7d2f-d57d-7569', 'structure')\">Structure</a></div><div class=\"body\"><div id=\"20e8-7d2f-d57d-7569_body_model\" class=\"tab_content selected\"><b>Name</b> : RANDOM_FOREST<br><b>Task</b> : CLASSIFICATION<br><b>Label</b> : rainfall<br><b>Features (10)</b> : pressure maxtemp temparature mintemp dewpoint humidity cloud sunshine winddirection windspeed<br><b>Weights</b> : None<br><b>Trained with tuner</b> : No<br><b>Model size</b> : 5518 kB<br></div><div id=\"20e8-7d2f-d57d-7569_body_dataspec\" class=\"tab_content\"><pre class=\"ydf_pre\">Number of records: 2190\n",
       "Number of columns: 11\n",
       "\n",
       "Number of columns by type:\n",
       "\tNUMERICAL: 10 (90.9091%)\n",
       "\tCATEGORICAL: 1 (9.09091%)\n",
       "\n",
       "Columns:\n",
       "\n",
       "NUMERICAL: 10 (90.9091%)\n",
       "\t1: &quot;pressure&quot; NUMERICAL mean:1013.6 min:999 max:1034.6 sd:5.65404 dtype:DTYPE_FLOAT64\n",
       "\t2: &quot;maxtemp&quot; NUMERICAL mean:26.3658 min:10.4 max:36 sd:5.65304 dtype:DTYPE_FLOAT64\n",
       "\t3: &quot;temparature&quot; NUMERICAL mean:23.9531 min:7.4 max:31.5 sd:5.22122 dtype:DTYPE_FLOAT64\n",
       "\t4: &quot;mintemp&quot; NUMERICAL mean:22.1701 min:4 max:29.8 sd:5.05796 dtype:DTYPE_FLOAT64\n",
       "\t5: &quot;dewpoint&quot; NUMERICAL mean:20.4546 min:-0.3 max:26.7 sd:5.2872 dtype:DTYPE_FLOAT64\n",
       "\t6: &quot;humidity&quot; NUMERICAL mean:82.0365 min:39 max:98 sd:7.79887 dtype:DTYPE_FLOAT64\n",
       "\t7: &quot;cloud&quot; NUMERICAL mean:75.7219 min:2 max:100 sd:18.0224 dtype:DTYPE_FLOAT64\n",
       "\t8: &quot;sunshine&quot; NUMERICAL mean:3.74443 min:0 max:12.1 sd:3.6255 dtype:DTYPE_FLOAT64\n",
       "\t9: &quot;winddirection&quot; NUMERICAL mean:104.863 min:10 max:300 sd:79.9841 dtype:DTYPE_FLOAT64\n",
       "\t10: &quot;windspeed&quot; NUMERICAL mean:21.8047 min:4.4 max:59.5 sd:9.8964 dtype:DTYPE_FLOAT64\n",
       "\n",
       "CATEGORICAL: 1 (9.09091%)\n",
       "\t0: &quot;rainfall&quot; CATEGORICAL has-dict vocab-size:3 zero-ood-items most-frequent:&quot;1&quot; 1650 (75.3425%) dtype:DTYPE_INT64\n",
       "\n",
       "Terminology:\n",
       "\tnas: Number of non-available (i.e. missing) values.\n",
       "\tood: Out of dictionary.\n",
       "\tmanually-defined: Attribute whose type is manually defined by the user, i.e., the type was not automatically inferred.\n",
       "\ttokenized: The attribute value is obtained through tokenization.\n",
       "\thas-dict: The attribute is attached to a string dictionary e.g. a categorical attribute stored as a string.\n",
       "\tvocab-size: Number of unique values.\n",
       "</pre></div><div id=\"20e8-7d2f-d57d-7569_body_training\" class=\"tab_content\"><p>The following evaluation is computed on the validation or out-of-bag dataset.</p><pre class=\"ydf_pre\">Number of predictions (without weights): 2190\n",
       "Number of predictions (with weights): 2190\n",
       "Task: CLASSIFICATION\n",
       "Label: rainfall\n",
       "\n",
       "Accuracy: 0.869406  CI95[W][0.856967 0.881107]\n",
       "LogLoss: : 0.695865\n",
       "ErrorRate: : 0.130594\n",
       "\n",
       "Default Accuracy: : 0.753425\n",
       "Default LogLoss: : 0.558541\n",
       "Default ErrorRate: : 0.246575\n",
       "\n",
       "Confusion Table:\n",
       "truth\\prediction\n",
       "         0     1\n",
       "    0  360   180\n",
       "    1  106  1544\n",
       "Total: 2190\n",
       "\n",
       "</pre><div style='display: grid; gap: 0px; grid-auto-columns: min-content;'><div style='grid-row:1 / span 1; grid-column:1 / span 1;'><script src='https://www.gstatic.com/external_hosted/plotly/plotly.min.js'></script>\n",
       "<div id=\"chart_20e8_7d2f_d57d_7569self_eval_item0\" style=\"display: inline-block;\" ></div>\n",
       "<script>\n",
       "  Plotly.newPlot(\n",
       "    'chart_20e8_7d2f_d57d_7569self_eval_item0',\n",
       "    [{\n",
       "x: [1,11,21,31,41,51,61,71,81,91,101,111,121,131,141,151,161,171,181,191,201,211,221,231,241,251,261,271,281,291,300],\n",
       "y: [0.829814,0.857863,0.866667,0.86758,0.869863,0.867123,0.867123,0.865753,0.864384,0.86758,0.869863,0.869863,0.86758,0.868493,0.86758,0.86758,0.868037,0.86895,0.86621,0.86758,0.868037,0.868493,0.868493,0.86895,0.869406,0.866667,0.86758,0.86758,0.86758,0.86758,0.869406],\n",
       "type: 'scatter',\n",
       "mode: 'lines',\n",
       "line: {\n",
       "  dash: 'solid',\n",
       "  width: 1\n",
       "},\n",
       "},\n",
       "],\n",
       "    {\n",
       "      width: 600,\n",
       "      height: 400,\n",
       "      title: '',\n",
       "      showlegend: true,\n",
       "      xaxis: {\n",
       "        ticks: 'outside',\n",
       "        showgrid: true,\n",
       "        zeroline: false,\n",
       "        showline: true,\n",
       "        title: 'num trees',\n",
       "        },\n",
       "      font: {\n",
       "        size: 10,\n",
       "        },\n",
       "      yaxis: {\n",
       "        ticks: 'outside',\n",
       "        showgrid: true,\n",
       "        zeroline: false,\n",
       "        showline: true,\n",
       "        title: 'accuracy',\n",
       "        },\n",
       "      margin: {\n",
       "        l: 50,\n",
       "        r: 50,\n",
       "        b: 50,\n",
       "        t: 50,\n",
       "      },\n",
       "    },\n",
       "    {\n",
       "      modeBarButtonsToRemove: ['sendDataToCloud'],\n",
       "      displaylogo: false,displayModeBar: false,\n",
       "    }\n",
       "  );\n",
       "</script>\n",
       "</div></div></div><div id=\"20e8-7d2f-d57d-7569_body_variable_importance\" class=\"tab_content\"><p><a target=\"_blank\" href=\"https://ydf.readthedocs.io/en/latest/cli_user_manual#variable-importances\">Variable importances</a> measure the importance of an input feature for a model.</p><div id=\"20e8-7d2f-d57d-7569_vi\" class=\"variable_importance\"><select onchange=\"ydfShowVariableImportance('20e8-7d2f-d57d-7569_vi')\"><option value=\"INV_MEAN_MIN_DEPTH\">INV_MEAN_MIN_DEPTH</option><option value=\"NUM_AS_ROOT\">NUM_AS_ROOT</option><option value=\"NUM_NODES\">NUM_NODES</option><option value=\"SUM_SCORE\">SUM_SCORE</option></select><div id=\"20e8-7d2f-d57d-7569_vi_body_INV_MEAN_MIN_DEPTH\" class=\"content selected\"><pre class=\"ydf_pre\">    1.         &quot;cloud&quot;  0.330784 ################\n",
       "    2.      &quot;pressure&quot;  0.236137 #######\n",
       "    3.      &quot;humidity&quot;  0.220202 ######\n",
       "    4.       &quot;maxtemp&quot;  0.209106 #####\n",
       "    5.   &quot;temparature&quot;  0.192141 ###\n",
       "    6.      &quot;sunshine&quot;  0.190585 ###\n",
       "    7.      &quot;dewpoint&quot;  0.186837 ###\n",
       "    8.       &quot;mintemp&quot;  0.183541 ###\n",
       "    9.     &quot;windspeed&quot;  0.150817 \n",
       "   10. &quot;winddirection&quot;  0.149034 \n",
       "</pre></div><div id=\"20e8-7d2f-d57d-7569_vi_body_NUM_AS_ROOT\" class=\"content\"><pre class=\"ydf_pre\">    1.       &quot;cloud&quot; 104.000000 ################\n",
       "    2.    &quot;humidity&quot; 46.000000 ######\n",
       "    3.    &quot;pressure&quot; 38.000000 ####\n",
       "    4.    &quot;sunshine&quot; 38.000000 ####\n",
       "    5.     &quot;maxtemp&quot; 29.000000 ###\n",
       "    6. &quot;temparature&quot; 20.000000 #\n",
       "    7.     &quot;mintemp&quot; 14.000000 \n",
       "    8.    &quot;dewpoint&quot; 11.000000 \n",
       "</pre></div><div id=\"20e8-7d2f-d57d-7569_vi_body_NUM_NODES\" class=\"content\"><pre class=\"ydf_pre\">    1.      &quot;pressure&quot; 1853.000000 ################\n",
       "    2.       &quot;maxtemp&quot; 1426.000000 ###########\n",
       "    3.         &quot;cloud&quot; 1130.000000 #########\n",
       "    4.   &quot;temparature&quot; 1030.000000 ########\n",
       "    5.       &quot;mintemp&quot; 916.000000 ######\n",
       "    6.      &quot;dewpoint&quot; 861.000000 ######\n",
       "    7.      &quot;humidity&quot; 796.000000 #####\n",
       "    8.      &quot;sunshine&quot; 539.000000 ###\n",
       "    9.     &quot;windspeed&quot; 252.000000 \n",
       "   10. &quot;winddirection&quot; 197.000000 \n",
       "</pre></div><div id=\"20e8-7d2f-d57d-7569_vi_body_SUM_SCORE\" class=\"content\"><pre class=\"ydf_pre\">    1.         &quot;cloud&quot; 62133.677892 ################\n",
       "    2.      &quot;pressure&quot; 32107.849677 ########\n",
       "    3.      &quot;humidity&quot; 24458.561362 ######\n",
       "    4.       &quot;maxtemp&quot; 23356.275305 #####\n",
       "    5.   &quot;temparature&quot; 17495.828203 ####\n",
       "    6.      &quot;sunshine&quot; 17282.989492 ####\n",
       "    7.       &quot;mintemp&quot; 14724.117049 ###\n",
       "    8.      &quot;dewpoint&quot; 14165.471824 ###\n",
       "    9.     &quot;windspeed&quot; 2084.610277 \n",
       "   10. &quot;winddirection&quot; 1646.177029 \n",
       "</pre></div></div><p>Those variable importances are computed during training. More, and possibly more informative, variable importances are available when analyzing a model on a test dataset.</p></div><div id=\"20e8-7d2f-d57d-7569_body_structure\" class=\"tab_content\"><b>Num trees</b> : 300<br><p>Only printing the first tree.</p><pre class=\"ydf_pre\">Tree #0:\n",
       "    &quot;sunshine&quot;x1&gt;=7.15 [s:0.13468 n:2190 np:526 miss:0] ; val:&quot;1&quot; prob:[0.254338, 0.745662]\n",
       "        ├─(pos)─ &quot;maxtemp&quot;x-0.0390625+&quot;cloud&quot;x-0.0102041&gt;=-1.81441 [s:0.0940648 n:526 np:358 miss:0] ; val:&quot;0&quot; prob:[0.674905, 0.325095]\n",
       "        |        ├─(pos)─ &quot;cloud&quot;x0.0102041+&quot;sunshine&quot;x-0.0826446&gt;=-0.326193 [s:0.0565988 n:358 np:176 miss:0] ; val:&quot;0&quot; prob:[0.815642, 0.184358]\n",
       "        |        |        ├─(pos)─ &quot;pressure&quot;x0.0280899+&quot;winddirection&quot;x0.00344828&gt;=28.8522 [s:0.0429457 n:176 np:51 miss:0] ; val:&quot;0&quot; prob:[0.6875, 0.3125]\n",
       "        |        |        |        ├─(pos)─ &quot;pressure&quot;x-0.0280899+&quot;maxtemp&quot;x-0.0390625&gt;=-29.6602 [s:0.122463 n:51 np:38 miss:0] ; val:&quot;1&quot; prob:[0.470588, 0.529412]\n",
       "        |        |        |        |        ├─(pos)─ val:&quot;0&quot; prob:[0.605263, 0.394737]\n",
       "        |        |        |        |        └─(neg)─ val:&quot;1&quot; prob:[0.0769231, 0.923077]\n",
       "        |        |        |        └─(neg)─ &quot;cloud&quot;x1&gt;=74 [s:0.0628388 n:125 np:5 miss:0] ; val:&quot;0&quot; prob:[0.776, 0.224]\n",
       "        |        |        |                 ├─(pos)─ val:&quot;1&quot; prob:[0, 1]\n",
       "        |        |        |                 └─(neg)─ &quot;temparature&quot;x0.0414938+&quot;mintemp&quot;x0.0387597+&quot;humidity&quot;x-0.0169492&gt;=0.274317 [s:0.057507 n:120 np:92 miss:0] ; val:&quot;0&quot; prob:[0.808333, 0.191667]\n",
       "        |        |        |                          ├─(pos)─ &quot;maxtemp&quot;x-0.0390625+&quot;winddirection&quot;x-0.00344828&gt;=-1.41716 [s:0.0596335 n:92 np:66 miss:0] ; val:&quot;0&quot; prob:[0.75, 0.25]\n",
       "        |        |        |                          |        ├─(pos)─ val:&quot;0&quot; prob:[0.666667, 0.333333]\n",
       "        |        |        |                          |        └─(neg)─ val:&quot;0&quot; prob:[0.961538, 0.0384615]\n",
       "        |        |        |                          └─(neg)─ val:&quot;0&quot; prob:[1, 0]\n",
       "        |        |        └─(neg)─ val:&quot;0&quot; prob:[0.93956, 0.0604396]\n",
       "        |        └─(neg)─ &quot;pressure&quot;x1&gt;=1006.55 [s:0.038803 n:168 np:146 miss:0] ; val:&quot;1&quot; prob:[0.375, 0.625]\n",
       "        |                 ├─(pos)─ &quot;maxtemp&quot;x-0.0390625+&quot;mintemp&quot;x0.0387597+&quot;cloud&quot;x0.0102041+&quot;winddirection&quot;x-0.00344828&gt;=-0.19741 [s:0.0758078 n:146 np:81 miss:0] ; val:&quot;1&quot; prob:[0.321918, 0.678082]\n",
       "        |                 |        ├─(pos)─ val:&quot;1&quot; prob:[0.160494, 0.839506]\n",
       "        |                 |        └─(neg)─ &quot;pressure&quot;x0.0280899+&quot;mintemp&quot;x-0.0387597&gt;=27.3706 [s:0.0998634 n:65 np:9 miss:0] ; val:&quot;0&quot; prob:[0.523077, 0.476923]\n",
       "        |                 |                 ├─(pos)─ val:&quot;0&quot; prob:[1, 0]\n",
       "        |                 |                 └─(neg)─ &quot;maxtemp&quot;x0.0390625+&quot;temparature&quot;x0.0414938+&quot;mintemp&quot;x0.0387597+&quot;dewpoint&quot;x0.037037+&quot;humidity&quot;x0.0169492&gt;=5.99579 [s:0.107359 n:56 np:9 miss:0] ; val:&quot;1&quot; prob:[0.446429, 0.553571]\n",
       "        |                 |                          ├─(pos)─ val:&quot;1&quot; prob:[0, 1]\n",
       "        |                 |                          └─(neg)─ &quot;maxtemp&quot;x-0.0390625+&quot;dewpoint&quot;x0.037037+&quot;cloud&quot;x0.0102041+&quot;sunshine&quot;x-0.0826446&gt;=-0.311172 [s:0.203047 n:47 np:14 miss:0] ; val:&quot;0&quot; prob:[0.531915, 0.468085]\n",
       "        |                 |                                   ├─(pos)─ val:&quot;1&quot; prob:[0.0714286, 0.928571]\n",
       "        |                 |                                   └─(neg)─ &quot;maxtemp&quot;x-0.0390625+&quot;temparature&quot;x0.0414938+&quot;cloud&quot;x-0.0102041&gt;=-0.653879 [s:0.168899 n:33 np:13 miss:0] ; val:&quot;0&quot; prob:[0.727273, 0.272727]\n",
       "        |                 |                                            ├─(pos)─ val:&quot;0&quot; prob:[1, 0]\n",
       "        |                 |                                            └─(neg)─ &quot;dewpoint&quot;x0.037037+&quot;humidity&quot;x-0.0169492&gt;=-0.305304 [s:0.324433 n:20 np:6 miss:0] ; val:&quot;0&quot; prob:[0.55, 0.45]\n",
       "        |                 |                                                     ├─(pos)─ val:&quot;1&quot; prob:[0, 1]\n",
       "        |                 |                                                     └─(neg)─ val:&quot;0&quot; prob:[0.785714, 0.214286]\n",
       "        |                 └─(neg)─ &quot;winddirection&quot;x1&gt;=225 [s:0.381467 n:22 np:8 miss:0] ; val:&quot;0&quot; prob:[0.727273, 0.272727]\n",
       "        |                          ├─(pos)─ val:&quot;1&quot; prob:[0.25, 0.75]\n",
       "        |                          └─(neg)─ val:&quot;0&quot; prob:[1, 0]\n",
       "        └─(neg)─ &quot;humidity&quot;x1&gt;=78.5 [s:0.0396242 n:1664 np:1332 miss:0] ; val:&quot;1&quot; prob:[0.121394, 0.878606]\n",
       "                 ├─(pos)─ &quot;cloud&quot;x1&gt;=87.5 [s:0.0221089 n:1332 np:593 miss:0] ; val:&quot;1&quot; prob:[0.0705706, 0.929429]\n",
       "                 |        ├─(pos)─ &quot;pressure&quot;x1&gt;=1023.4 [s:0.00933665 n:593 np:16 miss:0] ; val:&quot;1&quot; prob:[0.0151771, 0.984823]\n",
       "                 |        |        ├─(pos)─ val:&quot;1&quot; prob:[0.1875, 0.8125]\n",
       "                 |        |        └─(neg)─ val:&quot;1&quot; prob:[0.0103986, 0.989601]\n",
       "                 |        └─(neg)─ &quot;pressure&quot;x0.0280899+&quot;humidity&quot;x-0.0169492+&quot;sunshine&quot;x0.0826446&gt;=27.3383 [s:0.0277607 n:739 np:251 miss:0] ; val:&quot;1&quot; prob:[0.11502, 0.88498]\n",
       "                 |                 ├─(pos)─ &quot;sunshine&quot;x1&gt;=2.1 [s:0.042001 n:251 np:230 miss:0] ; val:&quot;1&quot; prob:[0.223108, 0.776892]\n",
       "                 |                 |        ├─(pos)─ val:&quot;1&quot; prob:[0.182609, 0.817391]\n",
       "                 |                 |        └─(neg)─ val:&quot;0&quot; prob:[0.666667, 0.333333]\n",
       "                 |                 └─(neg)─ &quot;temparature&quot;x0.0414938+&quot;humidity&quot;x0.0169492+&quot;cloud&quot;x0.0102041&gt;=3.14742 [s:0.0142417 n:488 np:439 miss:0] ; val:&quot;1&quot; prob:[0.0594262, 0.940574]\n",
       "                 |                          ├─(pos)─ val:&quot;1&quot; prob:[0.0432802, 0.95672]\n",
       "                 |                          └─(neg)─ val:&quot;1&quot; prob:[0.204082, 0.795918]\n",
       "                 └─(neg)─ &quot;sunshine&quot;x1&gt;=1.85 [s:0.0661403 n:332 np:187 miss:0] ; val:&quot;1&quot; prob:[0.325301, 0.674699]\n",
       "                          ├─(pos)─ &quot;pressure&quot;x0.0280899+&quot;mintemp&quot;x-0.0387597&gt;=27.5493 [s:0.109307 n:187 np:106 miss:0] ; val:&quot;1&quot; prob:[0.470588, 0.529412]\n",
       "                          |        ├─(pos)─ &quot;cloud&quot;x1&gt;=81.5 [s:0.10398 n:106 np:27 miss:0] ; val:&quot;0&quot; prob:[0.669811, 0.330189]\n",
       "                          |        |        ├─(pos)─ val:&quot;1&quot; prob:[0.296296, 0.703704]\n",
       "                          |        |        └─(neg)─ val:&quot;0&quot; prob:[0.797468, 0.202532]\n",
       "                          |        └─(neg)─ &quot;cloud&quot;x-0.0102041+&quot;windspeed&quot;x-0.0181488&gt;=-0.761871 [s:0.266492 n:81 np:17 miss:0] ; val:&quot;1&quot; prob:[0.209877, 0.790123]\n",
       "                          |                 ├─(pos)─ val:&quot;0&quot; prob:[0.823529, 0.176471]\n",
       "                          |                 └─(neg)─ &quot;mintemp&quot;x-0.0387597+&quot;humidity&quot;x0.0169492&gt;=0.217186 [s:0.0837711 n:64 np:52 miss:0] ; val:&quot;1&quot; prob:[0.046875, 0.953125]\n",
       "                          |                          ├─(pos)─ val:&quot;1&quot; prob:[0, 1]\n",
       "                          |                          └─(neg)─ val:&quot;1&quot; prob:[0.25, 0.75]\n",
       "                          └─(neg)─ &quot;pressure&quot;x0.0280899+&quot;temparature&quot;x0.0414938&gt;=29.4532 [s:0.0560848 n:145 np:45 miss:0] ; val:&quot;1&quot; prob:[0.137931, 0.862069]\n",
       "                                   ├─(pos)─ val:&quot;1&quot; prob:[0, 1]\n",
       "                                   └─(neg)─ &quot;pressure&quot;x-0.0280899+&quot;temparature&quot;x0.0414938+&quot;humidity&quot;x0.0169492+&quot;sunshine&quot;x-0.0826446&gt;=-26.9897 [s:0.0505343 n:100 np:80 miss:0] ; val:&quot;1&quot; prob:[0.2, 0.8]\n",
       "                                            ├─(pos)─ &quot;dewpoint&quot;x-0.037037+&quot;cloud&quot;x-0.0102041+&quot;winddirection&quot;x-0.00344828&gt;=-1.43259 [s:0.101403 n:80 np:17 miss:0] ; val:&quot;1&quot; prob:[0.25, 0.75]\n",
       "                                            |        ├─(pos)─ val:&quot;0&quot; prob:[0.647059, 0.352941]\n",
       "                                            |        └─(neg)─ val:&quot;1&quot; prob:[0.142857, 0.857143]\n",
       "                                            └─(neg)─ val:&quot;1&quot; prob:[0, 1]\n",
       "</pre></div></div></div>"
      ],
      "text/plain": [
       "<ydf.utils.html.HtmlNotebookDisplay at 0x18a03713710>"
      ]
     },
     "execution_count": 213,
     "metadata": {},
     "output_type": "execute_result"
    }
   ],
   "source": [
    "ydf_model.describe()"
   ]
  },
  {
   "cell_type": "code",
   "execution_count": 214,
   "metadata": {},
   "outputs": [
    {
     "data": {
      "text/plain": [
       "['0', '1']"
      ]
     },
     "execution_count": 214,
     "metadata": {},
     "output_type": "execute_result"
    }
   ],
   "source": [
    "ydf_model.label_classes()"
   ]
  },
  {
   "cell_type": "code",
   "execution_count": 215,
   "metadata": {},
   "outputs": [
    {
     "name": "stdout",
     "output_type": "stream",
     "text": [
      "\u001b[1m23/23\u001b[0m \u001b[32m━━━━━━━━━━━━━━━━━━━━\u001b[0m\u001b[37m\u001b[0m \u001b[1m0s\u001b[0m 4ms/step\n"
     ]
    }
   ],
   "source": [
    "predicted_y=tf_model.predict(test)\n",
    "\n",
    "predicted_y=predicted_y>.5\n",
    "\n",
    "\n",
    "predicted_y=predicted_y.astype(int)"
   ]
  },
  {
   "cell_type": "code",
   "execution_count": 216,
   "metadata": {},
   "outputs": [
    {
     "name": "stderr",
     "output_type": "stream",
     "text": [
      "C:\\Users\\Lenovo\\AppData\\Local\\Temp\\ipykernel_14600\\3002817882.py:2: FutureWarning: Series.ravel is deprecated. The underlying array is already 1D, so ravel is not necessary.  Use `to_numpy()` for conversion to a numpy array instead.\n",
      "  ID=df_test[\"id\"].ravel()\n"
     ]
    }
   ],
   "source": [
    "predicted_y=predicted_y.ravel()\n",
    "ID=df_test[\"id\"].ravel()"
   ]
  },
  {
   "cell_type": "code",
   "execution_count": 217,
   "metadata": {},
   "outputs": [
    {
     "data": {
      "text/html": [
       "<div>\n",
       "<style scoped>\n",
       "    .dataframe tbody tr th:only-of-type {\n",
       "        vertical-align: middle;\n",
       "    }\n",
       "\n",
       "    .dataframe tbody tr th {\n",
       "        vertical-align: top;\n",
       "    }\n",
       "\n",
       "    .dataframe thead th {\n",
       "        text-align: right;\n",
       "    }\n",
       "</style>\n",
       "<table border=\"1\" class=\"dataframe\">\n",
       "  <thead>\n",
       "    <tr style=\"text-align: right;\">\n",
       "      <th></th>\n",
       "      <th>id</th>\n",
       "      <th>rainfall</th>\n",
       "    </tr>\n",
       "  </thead>\n",
       "  <tbody>\n",
       "    <tr>\n",
       "      <th>0</th>\n",
       "      <td>2190</td>\n",
       "      <td>1</td>\n",
       "    </tr>\n",
       "    <tr>\n",
       "      <th>1</th>\n",
       "      <td>2191</td>\n",
       "      <td>1</td>\n",
       "    </tr>\n",
       "    <tr>\n",
       "      <th>2</th>\n",
       "      <td>2192</td>\n",
       "      <td>1</td>\n",
       "    </tr>\n",
       "    <tr>\n",
       "      <th>3</th>\n",
       "      <td>2193</td>\n",
       "      <td>0</td>\n",
       "    </tr>\n",
       "    <tr>\n",
       "      <th>4</th>\n",
       "      <td>2194</td>\n",
       "      <td>0</td>\n",
       "    </tr>\n",
       "  </tbody>\n",
       "</table>\n",
       "</div>"
      ],
      "text/plain": [
       "     id  rainfall\n",
       "0  2190         1\n",
       "1  2191         1\n",
       "2  2192         1\n",
       "3  2193         0\n",
       "4  2194         0"
      ]
     },
     "execution_count": 217,
     "metadata": {},
     "output_type": "execute_result"
    }
   ],
   "source": [
    "submission = pd.DataFrame({\n",
    "    \"id\": ID,\n",
    "    \"rainfall\": predicted_y\n",
    "})\n",
    "submission.head()"
   ]
  },
  {
   "cell_type": "code",
   "execution_count": 218,
   "metadata": {},
   "outputs": [
    {
     "data": {
      "text/plain": [
       "(730, 2)"
      ]
     },
     "execution_count": 218,
     "metadata": {},
     "output_type": "execute_result"
    }
   ],
   "source": [
    "submission.shape"
   ]
  },
  {
   "cell_type": "code",
   "execution_count": 219,
   "metadata": {},
   "outputs": [],
   "source": [
    "submission.to_csv(\"rainfall_predict.csv\",index=False)"
   ]
  }
 ],
 "metadata": {
  "kernelspec": {
   "display_name": "Python 3",
   "language": "python",
   "name": "python3"
  },
  "language_info": {
   "codemirror_mode": {
    "name": "ipython",
    "version": 3
   },
   "file_extension": ".py",
   "mimetype": "text/x-python",
   "name": "python",
   "nbconvert_exporter": "python",
   "pygments_lexer": "ipython3",
   "version": "3.11.8"
  }
 },
 "nbformat": 4,
 "nbformat_minor": 2
}
