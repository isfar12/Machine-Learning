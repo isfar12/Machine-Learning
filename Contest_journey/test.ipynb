{
 "cells": [
  {
   "cell_type": "code",
   "execution_count": 3,
   "id": "c0ec7d15",
   "metadata": {},
   "outputs": [],
   "source": [
    "import pandas as pd\n",
    "import numpy as np\n",
    "import seaborn as sns\n",
    "import matplotlib.pyplot as plt\n",
    "import warnings as w\n",
    "w.filterwarnings('ignore')"
   ]
  },
  {
   "cell_type": "code",
   "execution_count": 4,
   "id": "37ac9e36",
   "metadata": {},
   "outputs": [],
   "source": [
    "train=pd.read_csv(\"../Dataset/podcast_listen_time_train.csv\")\n",
    "test=pd.read_csv(\"../Dataset/podcast_listen_time_test.csv\")"
   ]
  },
  {
   "cell_type": "code",
   "execution_count": 5,
   "id": "77a0331c",
   "metadata": {},
   "outputs": [],
   "source": [
    "# For train\n",
    "train['Number_of_Ads'].fillna(train['Number_of_Ads'].mean(),inplace=True)\n",
    "train['Guest_Popularity_percentage'].fillna(train['Guest_Popularity_percentage'].mean(),inplace=True)\n",
    "train['Episode_Length_minutes'].fillna(train['Episode_Length_minutes'].median(),inplace=True)\n",
    "train.drop(columns=['id'], inplace=True)\n",
    "# For test\n",
    "test['Number_of_Ads'].fillna(test['Number_of_Ads'].mean(),inplace=True)\n",
    "test['Guest_Popularity_percentage'].fillna(test['Guest_Popularity_percentage'].mean(),inplace=True)\n",
    "test['Episode_Length_minutes'].fillna(test['Episode_Length_minutes'].median(),inplace=True)\n",
    "test.drop(columns=['id'], inplace=True)"
   ]
  },
  {
   "cell_type": "code",
   "execution_count": 6,
   "id": "29c160ea",
   "metadata": {},
   "outputs": [],
   "source": [
    "num_cols=train.select_dtypes(include=(['int64','float64'])).columns.tolist()\n",
    "cat_cols=train.select_dtypes(include=(['object'])).columns.tolist()"
   ]
  },
  {
   "cell_type": "code",
   "execution_count": null,
   "id": "f5008047",
   "metadata": {},
   "outputs": [],
   "source": []
  },
  {
   "cell_type": "code",
   "execution_count": 7,
   "id": "306ce674",
   "metadata": {},
   "outputs": [
    {
     "name": "stdout",
     "output_type": "stream",
     "text": [
      "MSE: 164.80\n",
      "R2 score 77.60\n",
      "RMSC = 12.8374\n",
      "Actual: 20.92   | Predicted: 32.19\n",
      "Actual: 42.66   | Predicted: 37.40\n",
      "Actual: 43.30   | Predicted: 36.05\n",
      "Actual: 48.56   | Predicted: 48.77\n",
      "Actual: 48.54   | Predicted: 53.14\n",
      "Actual: 61.73   | Predicted: 61.62\n",
      "Actual: 56.90   | Predicted: 53.55\n",
      "Actual: 29.46   | Predicted: 32.01\n",
      "Actual: 45.41   | Predicted: 32.99\n",
      "Actual: 55.05   | Predicted: 68.47\n"
     ]
    }
   ],
   "source": [
    "from sklearn.model_selection import cross_val_score,train_test_split\n",
    "from sklearn.preprocessing import StandardScaler,OneHotEncoder\n",
    "from sklearn.impute import SimpleImputer\n",
    "from sklearn.compose import ColumnTransformer\n",
    "from sklearn.pipeline import Pipeline,make_pipeline\n",
    "import lightgbm as lgb\n",
    "from sklearn.metrics import mean_squared_error,make_scorer,r2_score\n",
    "target='Listening_Time_minutes'\n",
    "train.drop(columns=['id'],inplace=True,errors='ignore')\n",
    "x=train.drop(target,axis=1)\n",
    "y=train[target]\n",
    "\n",
    "x_train, x_test, y_train, y_test = train_test_split(x, y, test_size=0.2, random_state=42)\n",
    "\n",
    "num_cols=x.select_dtypes(include=(['int64','float64'])).columns.tolist()\n",
    "cat_cols=x.select_dtypes(include=(['object'])).columns.tolist()\n",
    "num_pipeline=Pipeline([('Impute',SimpleImputer(strategy='mean')),\n",
    "                       ('scaler',StandardScaler())])\n",
    "\n",
    "cat_pipeline=Pipeline([('Impute',SimpleImputer(strategy='most_frequent')),\n",
    "                       ('scaler',OneHotEncoder(handle_unknown='ignore',drop='first',\n",
    "                                              sparse_output=False))])\n",
    "\n",
    "col_transformer=ColumnTransformer([('num',num_pipeline,num_cols),\n",
    "                        ('cat',cat_pipeline,cat_cols)])\n",
    "\n",
    "lg=lgb.LGBMRegressor(n_estimators=6000,\n",
    "    max_depth=15,\n",
    "    learning_rate=0.1,\n",
    "    subsample=0.9,\n",
    "    colsample_bytree=0.9,\n",
    "    random_state=6,\n",
    "    n_jobs=-1,\n",
    "    verbose=-1)\n",
    "model=Pipeline([('pre',col_transformer),\n",
    "               ('lg',lg)])\n",
    "model.fit(x_train,y_train)\n",
    "y_pred=model.predict(x_test)\n",
    "print(f'MSE: {mean_squared_error(y_test,y_pred) :.2f}')\n",
    "print(f'R2 score {r2_score(y_test,y_pred) * 100 :.2f}')\n",
    "rmsc=np.sqrt(mean_squared_error(y_test,y_pred))\n",
    "print(f'RMSC = {rmsc :.4f}')\n",
    "for actual,pred in zip(y_test[:10],y_pred[:10]):\n",
    "    print(f'Actual: {actual :.2f}   | Predicted: {pred :.2f}')"
   ]
  },
  {
   "cell_type": "code",
   "execution_count": 8,
   "id": "a8698332",
   "metadata": {},
   "outputs": [],
   "source": [
    "test_predictions = model.predict(test)\n",
    "\n",
    "test_ids = pd.read_csv('../Dataset/podcast_listen_time_test.csv')['id']\n",
    "# Prepare submission DataFrame\n",
    "submission = pd.DataFrame({\n",
    "    'id': test_ids,\n",
    "    'Listening_Time_minutes': test_predictions\n",
    "})\n",
    "\n",
    "# Save to CSV for submission\n",
    "submission.to_csv('submission.csv', index=False)"
   ]
  },
  {
   "cell_type": "code",
   "execution_count": null,
   "id": "fb2a947c",
   "metadata": {},
   "outputs": [],
   "source": []
  }
 ],
 "metadata": {
  "kernelspec": {
   "display_name": "Python 3",
   "language": "python",
   "name": "python3"
  },
  "language_info": {
   "codemirror_mode": {
    "name": "ipython",
    "version": 3
   },
   "file_extension": ".py",
   "mimetype": "text/x-python",
   "name": "python",
   "nbconvert_exporter": "python",
   "pygments_lexer": "ipython3",
   "version": "3.11.8"
  }
 },
 "nbformat": 4,
 "nbformat_minor": 5
}
