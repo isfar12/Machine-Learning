{
 "cells": [
  {
   "cell_type": "code",
   "execution_count": 2,
   "id": "5ebb00de",
   "metadata": {},
   "outputs": [],
   "source": [
    "import mlflow"
   ]
  },
  {
   "cell_type": "markdown",
   "id": "e96b887c",
   "metadata": {},
   "source": [
    "# This is send the Log information to the tracking server"
   ]
  },
  {
   "cell_type": "code",
   "execution_count": 3,
   "id": "b898cb19",
   "metadata": {},
   "outputs": [],
   "source": [
    "mlflow.set_tracking_uri(\"http://127.0.0.1:5000\")"
   ]
  },
  {
   "cell_type": "markdown",
   "id": "c290cd5b",
   "metadata": {},
   "source": [
    "# Sets the Name of the experiment"
   ]
  },
  {
   "cell_type": "code",
   "execution_count": 4,
   "id": "b1d67cfa",
   "metadata": {},
   "outputs": [
    {
     "data": {
      "text/plain": [
       "<Experiment: artifact_location='mlflow-artifacts:/343514837932543735', creation_time=1749065022032, experiment_id='343514837932543735', last_update_time=1749065022032, lifecycle_stage='active', name='Checking Connection', tags={}>"
      ]
     },
     "execution_count": 4,
     "metadata": {},
     "output_type": "execute_result"
    }
   ],
   "source": [
    "mlflow.set_experiment(\"Checking Connection\")"
   ]
  },
  {
   "cell_type": "markdown",
   "id": "40e7ccda",
   "metadata": {},
   "source": [
    "# Starts logging this partucular experiment"
   ]
  },
  {
   "cell_type": "code",
   "execution_count": 5,
   "id": "32485690",
   "metadata": {},
   "outputs": [
    {
     "name": "stdout",
     "output_type": "stream",
     "text": [
      "🏃 View run clean-hound-813 at: http://127.0.0.1:5000/#/experiments/343514837932543735/runs/caf1fc339ef646beb84032a2fe60854e\n",
      "🧪 View experiment at: http://127.0.0.1:5000/#/experiments/343514837932543735\n"
     ]
    }
   ],
   "source": [
    "with mlflow.start_run():\n",
    "    mlflow.log_metric(\"test\",1)\n",
    "    mlflow.log_metric(\"hello world\",2)"
   ]
  },
  {
   "cell_type": "code",
   "execution_count": 7,
   "id": "904121af",
   "metadata": {},
   "outputs": [],
   "source": [
    "mlflow.log_metric(\"Another Update\",3)"
   ]
  },
  {
   "cell_type": "code",
   "execution_count": null,
   "id": "438d6b51",
   "metadata": {},
   "outputs": [],
   "source": []
  },
  {
   "cell_type": "code",
   "execution_count": null,
   "id": "622915a3",
   "metadata": {},
   "outputs": [],
   "source": []
  }
 ],
 "metadata": {
  "kernelspec": {
   "display_name": "Python 3",
   "language": "python",
   "name": "python3"
  },
  "language_info": {
   "codemirror_mode": {
    "name": "ipython",
    "version": 3
   },
   "file_extension": ".py",
   "mimetype": "text/x-python",
   "name": "python",
   "nbconvert_exporter": "python",
   "pygments_lexer": "ipython3",
   "version": "3.11.8"
  }
 },
 "nbformat": 4,
 "nbformat_minor": 5
}
