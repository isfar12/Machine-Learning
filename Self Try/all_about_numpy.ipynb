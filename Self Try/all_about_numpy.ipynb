{
 "cells": [
  {
   "cell_type": "code",
   "execution_count": 1,
   "id": "c45a4bb7-a136-4b46-8b96-22ec4091f028",
   "metadata": {},
   "outputs": [],
   "source": [
    "import numpy as np"
   ]
  },
  {
   "cell_type": "markdown",
   "id": "51e340d8-bf06-43ea-a204-2fba6f45c605",
   "metadata": {},
   "source": [
    "# array definations"
   ]
  },
  {
   "cell_type": "code",
   "execution_count": 3,
   "id": "03e275b5-705d-4e33-bc87-fdcb1aa3310e",
   "metadata": {},
   "outputs": [
    {
     "name": "stdout",
     "output_type": "stream",
     "text": [
      "[1, 2, 3, 4, 5]\n",
      "[1 2 3 4]\n"
     ]
    }
   ],
   "source": [
    "ll=[1,2,3,4,5] # regular list\n",
    "a=np.array([1,2,3,4]) # numpy array\n",
    "b=np.array([[1,2,3],[4,5,6]])\n",
    "c=np.array([[1,2,3],[4,5,6]],dtype=np.int16)\n",
    "\n",
    "print(ll)\n",
    "print(a)"
   ]
  },
  {
   "cell_type": "markdown",
   "id": "5c538475-70f1-4f84-94a8-5fd01e23059b",
   "metadata": {},
   "source": [
    "# basic operations"
   ]
  },
  {
   "cell_type": "code",
   "execution_count": 5,
   "id": "7e3ba6cc-6e06-4764-95d1-9097df90363a",
   "metadata": {},
   "outputs": [
    {
     "name": "stdout",
     "output_type": "stream",
     "text": [
      "<class 'numpy.ndarray'>\n",
      "4\n",
      "(4,)\n",
      "(2, 3)\n"
     ]
    }
   ],
   "source": [
    "print(type(a)) #which type the array is\n",
    "print(a.size) #attribute size gives total size\n",
    "print(a.shape)#shape(row,column)\n",
    "\n",
    "print(b.shape)"
   ]
  },
  {
   "cell_type": "code",
   "execution_count": 6,
   "id": "6823fc91-69f2-455d-bc58-4859e5e8972b",
   "metadata": {},
   "outputs": [
    {
     "name": "stdout",
     "output_type": "stream",
     "text": [
      "int32\n",
      "int32\n"
     ]
    }
   ],
   "source": [
    "print(a.dtype)\n",
    "print(b.dtype)"
   ]
  },
  {
   "cell_type": "code",
   "execution_count": 7,
   "id": "1462f86d-9e01-458d-8171-9cc4a52b46d6",
   "metadata": {},
   "outputs": [
    {
     "name": "stdout",
     "output_type": "stream",
     "text": [
      "[[1 2 3]\n",
      " [4 5 6]]\n",
      "After\n",
      "[[1 4]\n",
      " [2 5]\n",
      " [3 6]]\n"
     ]
    }
   ],
   "source": [
    "print(c)\n",
    "print(\"After\")\n",
    "print(c.transpose())"
   ]
  },
  {
   "cell_type": "markdown",
   "id": "673ebc04-be50-4a8d-8715-8f4ce6056aec",
   "metadata": {},
   "source": [
    "# common ways to create arrays"
   ]
  },
  {
   "cell_type": "code",
   "execution_count": 9,
   "id": "cfac7d30-75c8-408a-a404-bad1b5abafa2",
   "metadata": {},
   "outputs": [
    {
     "data": {
      "text/plain": [
       "array([[0., 0., 0.],\n",
       "       [0., 0., 0.],\n",
       "       [0., 0., 0.]])"
      ]
     },
     "execution_count": 9,
     "metadata": {},
     "output_type": "execute_result"
    }
   ],
   "source": [
    "arr=np.empty((3,3)) #by default np arrays with empty ones and zeros is float. we can specify dtype\n",
    "arr"
   ]
  },
  {
   "cell_type": "code",
   "execution_count": 10,
   "id": "ce9a5ffc-7247-45f2-9faf-7b8e2414977d",
   "metadata": {},
   "outputs": [
    {
     "data": {
      "text/plain": [
       "array([1, 1, 1, 1, 1])"
      ]
     },
     "execution_count": 10,
     "metadata": {},
     "output_type": "execute_result"
    }
   ],
   "source": [
    "arr2=np.ones(5,dtype=int) #create array with only 1 in the array\n",
    "arr2"
   ]
  },
  {
   "cell_type": "code",
   "execution_count": 11,
   "id": "4b3940b0-765a-4e1d-a66e-41325a95fb57",
   "metadata": {},
   "outputs": [
    {
     "data": {
      "text/plain": [
       "array([ 0,  1,  2,  3,  4,  5,  6,  7,  8,  9, 10, 11, 12, 13, 14, 15, 16,\n",
       "       17, 18, 19])"
      ]
     },
     "execution_count": 11,
     "metadata": {},
     "output_type": "execute_result"
    }
   ],
   "source": [
    "x=np.arange(20) #create an array from 1 to before the limit like range value\n",
    "x"
   ]
  },
  {
   "cell_type": "code",
   "execution_count": 12,
   "id": "590c5f42-ccd7-4e96-ae84-c1a1e1856a1c",
   "metadata": {},
   "outputs": [
    {
     "data": {
      "text/plain": [
       "array([ 5, 10, 15])"
      ]
     },
     "execution_count": 12,
     "metadata": {},
     "output_type": "execute_result"
    }
   ],
   "source": [
    "x1=np.arange(5,20,5) # start,end,step\n",
    "x1"
   ]
  },
  {
   "cell_type": "markdown",
   "id": "649f04bf-edfc-4037-9fcc-2ed2bd256ff8",
   "metadata": {},
   "source": [
    "# array manipulation"
   ]
  },
  {
   "cell_type": "code",
   "execution_count": 14,
   "id": "de2a9ab6-4e7e-4c0b-93ed-94d15d58fbb8",
   "metadata": {},
   "outputs": [
    {
     "data": {
      "text/plain": [
       "array([[ 0,  1,  2,  3,  4],\n",
       "       [ 5,  6,  7,  8,  9],\n",
       "       [10, 11, 12, 13, 14],\n",
       "       [15, 16, 17, 18, 19]])"
      ]
     },
     "execution_count": 14,
     "metadata": {},
     "output_type": "execute_result"
    }
   ],
   "source": [
    "x.reshape((4,5))"
   ]
  },
  {
   "cell_type": "code",
   "execution_count": 15,
   "id": "90cfc2a4-72b3-4bd7-bf25-c40ac8171559",
   "metadata": {},
   "outputs": [
    {
     "data": {
      "text/plain": [
       "array([ 0,  1,  2,  3,  4,  5,  6,  7,  8,  9, 10, 11, 12, 13, 14, 15, 16,\n",
       "       17, 18, 19])"
      ]
     },
     "execution_count": 15,
     "metadata": {},
     "output_type": "execute_result"
    }
   ],
   "source": [
    "x # reshape just creates a clone of an array with changed dimension, doesnt affect main array"
   ]
  },
  {
   "cell_type": "code",
   "execution_count": 16,
   "id": "fafba5f6-f236-413e-b107-190dc5f88a81",
   "metadata": {},
   "outputs": [],
   "source": [
    "x=x.reshape((4,5))\n",
    "x=x.flatten() # reverse process of reshape"
   ]
  },
  {
   "cell_type": "code",
   "execution_count": 17,
   "id": "d63c1b6d-a073-42c7-87a3-7ec37019ff47",
   "metadata": {},
   "outputs": [
    {
     "data": {
      "text/plain": [
       "15"
      ]
     },
     "execution_count": 17,
     "metadata": {},
     "output_type": "execute_result"
    }
   ],
   "source": [
    "x[15] # 15th element in the array"
   ]
  },
  {
   "cell_type": "code",
   "execution_count": 18,
   "id": "4d8a1304-68d0-4a0c-bba0-595b91bb91d2",
   "metadata": {},
   "outputs": [
    {
     "data": {
      "text/plain": [
       "array([ 8,  9, 10, 11, 12, 13, 14, 15, 16, 17, 18, 19])"
      ]
     },
     "execution_count": 18,
     "metadata": {},
     "output_type": "execute_result"
    }
   ],
   "source": [
    "x[8:] #from 8 index to end"
   ]
  },
  {
   "cell_type": "code",
   "execution_count": 19,
   "id": "26717c96-4dec-4a2d-b841-1935c673fac2",
   "metadata": {},
   "outputs": [
    {
     "data": {
      "text/plain": [
       "array([7, 8])"
      ]
     },
     "execution_count": 19,
     "metadata": {},
     "output_type": "execute_result"
    }
   ],
   "source": [
    "x[7:9] #from 7 index to before 9 index"
   ]
  },
  {
   "cell_type": "markdown",
   "id": "6e69c48b-401f-49a7-ae50-d16282376d37",
   "metadata": {},
   "source": [
    "# mathematical operations"
   ]
  },
  {
   "cell_type": "code",
   "execution_count": 21,
   "id": "39498495-923f-4da6-a786-ede743f3ef42",
   "metadata": {},
   "outputs": [],
   "source": [
    "array1=np.arange(20).reshape(4,5)\n",
    "array2=np.arange(20,40).reshape(4,5)"
   ]
  },
  {
   "cell_type": "code",
   "execution_count": 22,
   "id": "9ea72ecf-af37-44c8-8a34-0e8245bd686b",
   "metadata": {},
   "outputs": [
    {
     "name": "stdout",
     "output_type": "stream",
     "text": [
      "[[ 0  1  2  3  4]\n",
      " [ 5  6  7  8  9]\n",
      " [10 11 12 13 14]\n",
      " [15 16 17 18 19]]\n",
      "[[20 21 22 23 24]\n",
      " [25 26 27 28 29]\n",
      " [30 31 32 33 34]\n",
      " [35 36 37 38 39]]\n"
     ]
    }
   ],
   "source": [
    "print(array1)\n",
    "print(array2)"
   ]
  },
  {
   "cell_type": "code",
   "execution_count": 23,
   "id": "95f3ea81-4295-4cd9-b081-5dc76363fa89",
   "metadata": {},
   "outputs": [
    {
     "data": {
      "text/plain": [
       "array([[20, 22, 24, 26, 28],\n",
       "       [30, 32, 34, 36, 38],\n",
       "       [40, 42, 44, 46, 48],\n",
       "       [50, 52, 54, 56, 58]])"
      ]
     },
     "execution_count": 23,
     "metadata": {},
     "output_type": "execute_result"
    }
   ],
   "source": [
    "array1+array2 # adds two arrrays"
   ]
  },
  {
   "cell_type": "code",
   "execution_count": 24,
   "id": "58606b55-57c9-4623-a1e6-31dff7083a75",
   "metadata": {},
   "outputs": [
    {
     "data": {
      "text/plain": [
       "array([[-20, -20, -20, -20, -20],\n",
       "       [-20, -20, -20, -20, -20],\n",
       "       [-20, -20, -20, -20, -20],\n",
       "       [-20, -20, -20, -20, -20]])"
      ]
     },
     "execution_count": 24,
     "metadata": {},
     "output_type": "execute_result"
    }
   ],
   "source": [
    "array1-array2"
   ]
  },
  {
   "cell_type": "code",
   "execution_count": 25,
   "id": "37c30ee1-b520-4755-ae4c-b45d77541dcd",
   "metadata": {},
   "outputs": [
    {
     "data": {
      "text/plain": [
       "array([[  0,  21,  44,  69,  96],\n",
       "       [125, 156, 189, 224, 261],\n",
       "       [300, 341, 384, 429, 476],\n",
       "       [525, 576, 629, 684, 741]])"
      ]
     },
     "execution_count": 25,
     "metadata": {},
     "output_type": "execute_result"
    }
   ],
   "source": [
    "np.multiply(array1,array2) #this is dot multiplications. means just multiply index values and create new array"
   ]
  },
  {
   "cell_type": "code",
   "execution_count": null,
   "id": "4e582ea9-7f5b-4367-b63a-40a5ada3c1f4",
   "metadata": {},
   "outputs": [],
   "source": []
  },
  {
   "cell_type": "code",
   "execution_count": 26,
   "id": "a9f8b49e-6a52-4e4d-a177-59af805950c9",
   "metadata": {},
   "outputs": [
    {
     "name": "stdout",
     "output_type": "stream",
     "text": [
      "[[1 2 3]\n",
      " [4 5 6]]\n",
      "[[ 7  8]\n",
      " [ 9 10]\n",
      " [11 12]]\n",
      "\n",
      "\n",
      "[[ 58  64]\n",
      " [139 154]]\n"
     ]
    }
   ],
   "source": [
    "a=np.arange(1,7).reshape(2,3)\n",
    "b=np.arange(7,13).reshape(3,2)\n",
    "print(a)\n",
    "print(b)\n",
    "print(\"\\n\")\n",
    "print(a@b) # matrix multiplication actual way"
   ]
  },
  {
   "cell_type": "code",
   "execution_count": 27,
   "id": "c8ba5d9a-9a36-4cd4-9588-48787fe0c0f0",
   "metadata": {},
   "outputs": [
    {
     "name": "stdout",
     "output_type": "stream",
     "text": [
      "Cross product:\n",
      " [[-6 12 -6]\n",
      " [-6 12 -6]]\n"
     ]
    }
   ],
   "source": [
    "import numpy as np\n",
    "\n",
    "# Define two 2D arrays where each row is a vector\n",
    "a = np.array([[1, 2, 3], [4, 5, 6]])\n",
    "b = np.array([[7, 8, 9], [10, 11, 12]])\n",
    "\n",
    "# Compute the cross product for each pair of vectors\n",
    "cross_product = np.cross(a, b)\n",
    "\n",
    "print(\"Cross product:\\n\", cross_product)\n"
   ]
  },
  {
   "cell_type": "code",
   "execution_count": 28,
   "id": "b57cb3db-5365-497f-a418-f91ad2bd0d47",
   "metadata": {},
   "outputs": [
    {
     "data": {
      "text/plain": [
       "0"
      ]
     },
     "execution_count": 28,
     "metadata": {},
     "output_type": "execute_result"
    }
   ],
   "source": [
    "array1.min()"
   ]
  },
  {
   "cell_type": "code",
   "execution_count": 29,
   "id": "ce8eed0c-0afd-4bbc-8711-ce160d3f188f",
   "metadata": {},
   "outputs": [
    {
     "data": {
      "text/plain": [
       "19"
      ]
     },
     "execution_count": 29,
     "metadata": {},
     "output_type": "execute_result"
    }
   ],
   "source": [
    "array1.max()"
   ]
  },
  {
   "cell_type": "code",
   "execution_count": 30,
   "id": "2b6b559c-2974-418a-8bfe-41d5bf7e62b7",
   "metadata": {},
   "outputs": [
    {
     "data": {
      "text/plain": [
       "190"
      ]
     },
     "execution_count": 30,
     "metadata": {},
     "output_type": "execute_result"
    }
   ],
   "source": [
    "np.sum(array1)"
   ]
  },
  {
   "cell_type": "code",
   "execution_count": 31,
   "id": "0a3570f0-d44a-46fc-8b6d-5e76ac2901e5",
   "metadata": {},
   "outputs": [
    {
     "data": {
      "text/plain": [
       "array([10, 35, 60, 85])"
      ]
     },
     "execution_count": 31,
     "metadata": {},
     "output_type": "execute_result"
    }
   ],
   "source": [
    "np.sum(array1,1)"
   ]
  },
  {
   "cell_type": "code",
   "execution_count": 73,
   "id": "2587d4cb-4380-4fdc-86c9-afebf9b13195",
   "metadata": {},
   "outputs": [
    {
     "data": {
      "text/plain": [
       "15"
      ]
     },
     "execution_count": 73,
     "metadata": {},
     "output_type": "execute_result"
    }
   ],
   "source": [
    "np.sum(arr[1,:]) #sum every value of index 1 in the array"
   ]
  },
  {
   "cell_type": "markdown",
   "id": "37532b93-d71e-498e-afb0-4e6dec63958e",
   "metadata": {},
   "source": [
    "# working with random values in numpy"
   ]
  },
  {
   "cell_type": "code",
   "execution_count": 33,
   "id": "52878a91-c91c-47c5-98bb-91f73e660731",
   "metadata": {},
   "outputs": [
    {
     "data": {
      "text/plain": [
       "array([0.16292432, 0.20553647, 0.14389939, 0.89144771, 0.32825885])"
      ]
     },
     "execution_count": 33,
     "metadata": {},
     "output_type": "execute_result"
    }
   ],
   "source": [
    "arr=np.random.random(5)\n",
    "arr"
   ]
  },
  {
   "cell_type": "code",
   "execution_count": 34,
   "id": "ad2edfdf-1895-464c-ac9b-c8b8e66f93b2",
   "metadata": {},
   "outputs": [
    {
     "data": {
      "text/plain": [
       "array([[ 9,  5,  6, 10],\n",
       "       [ 3, 10,  4,  9],\n",
       "       [ 9,  4,  3,  6],\n",
       "       [ 4, 10,  5,  6]])"
      ]
     },
     "execution_count": 34,
     "metadata": {},
     "output_type": "execute_result"
    }
   ],
   "source": [
    "arr=np.random.randint(3,11,size=(4,4))\n",
    "arr"
   ]
  },
  {
   "cell_type": "code",
   "execution_count": 35,
   "id": "f237e249-45f2-4905-a88c-a2e45151df1f",
   "metadata": {},
   "outputs": [
    {
     "name": "stdout",
     "output_type": "stream",
     "text": [
      "[0.66897485 0.02408981 0.12837864 0.65967033 0.41055148]\n",
      "0.024089808403249258\n"
     ]
    }
   ],
   "source": [
    "x=np.random.random(5)\n",
    "print(x)\n",
    "print(np.random.choice(x))"
   ]
  },
  {
   "cell_type": "code",
   "execution_count": 36,
   "id": "0bceeb1c-1045-4a15-bcec-287d6c8c67b7",
   "metadata": {},
   "outputs": [
    {
     "data": {
      "text/plain": [
       "array([[1, 2, 3],\n",
       "       [4, 5, 6],\n",
       "       [7, 8, 9]])"
      ]
     },
     "execution_count": 36,
     "metadata": {},
     "output_type": "execute_result"
    }
   ],
   "source": [
    "arr=np.array([[1,2,3],[4,5,6],[7,8,9]])\n",
    "arr"
   ]
  },
  {
   "cell_type": "code",
   "execution_count": 71,
   "id": "24f1ed7d-2c4a-4ece-80de-6248bca88eb5",
   "metadata": {},
   "outputs": [
    {
     "data": {
      "text/plain": [
       "15"
      ]
     },
     "execution_count": 71,
     "metadata": {},
     "output_type": "execute_result"
    }
   ],
   "source": []
  },
  {
   "cell_type": "code",
   "execution_count": null,
   "id": "7467ccf5-7a9a-407a-9bf0-5423028d812a",
   "metadata": {},
   "outputs": [],
   "source": []
  }
 ],
 "metadata": {
  "kernelspec": {
   "display_name": "Python 3 (ipykernel)",
   "language": "python",
   "name": "python3"
  },
  "language_info": {
   "codemirror_mode": {
    "name": "ipython",
    "version": 3
   },
   "file_extension": ".py",
   "mimetype": "text/x-python",
   "name": "python",
   "nbconvert_exporter": "python",
   "pygments_lexer": "ipython3",
   "version": "3.11.7"
  }
 },
 "nbformat": 4,
 "nbformat_minor": 5
}
