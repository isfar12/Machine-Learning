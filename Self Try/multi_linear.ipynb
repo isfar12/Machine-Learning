{
 "cells": [
  {
   "cell_type": "code",
   "execution_count": 12,
   "metadata": {},
   "outputs": [],
   "source": [
    "import pandas as pd\n",
    "import numpy as np\n",
    "import seaborn as sns\n",
    "import matplotlib.pyplot as plt\n",
    "from sklearn.linear_model import LinearRegression"
   ]
  },
  {
   "cell_type": "code",
   "execution_count": 2,
   "metadata": {},
   "outputs": [
    {
     "data": {
      "text/html": [
       "<div>\n",
       "<style scoped>\n",
       "    .dataframe tbody tr th:only-of-type {\n",
       "        vertical-align: middle;\n",
       "    }\n",
       "\n",
       "    .dataframe tbody tr th {\n",
       "        vertical-align: top;\n",
       "    }\n",
       "\n",
       "    .dataframe thead th {\n",
       "        text-align: right;\n",
       "    }\n",
       "</style>\n",
       "<table border=\"1\" class=\"dataframe\">\n",
       "  <thead>\n",
       "    <tr style=\"text-align: right;\">\n",
       "      <th></th>\n",
       "      <th>Year</th>\n",
       "      <th>Unnamed: 1</th>\n",
       "      <th>Unnamed: 2</th>\n",
       "      <th>Unnamed: 3</th>\n",
       "      <th>Unnamed: 4</th>\n",
       "      <th>Unnamed: 5</th>\n",
       "      <th>Total Europe</th>\n",
       "      <th>Unnamed: 7</th>\n",
       "      <th>Unnamed: 8</th>\n",
       "      <th>Unnamed: 9</th>\n",
       "      <th>...</th>\n",
       "      <th>Unnamed: 83</th>\n",
       "      <th>Unnamed: 84</th>\n",
       "      <th>Unnamed: 85</th>\n",
       "      <th>Unnamed: 86</th>\n",
       "      <th>Unnamed: 87</th>\n",
       "      <th>Unnamed: 88</th>\n",
       "      <th>Unnamed: 89</th>\n",
       "      <th>Unnamed: 90</th>\n",
       "      <th>Unnamed: 91</th>\n",
       "      <th>Unnamed: 92</th>\n",
       "    </tr>\n",
       "  </thead>\n",
       "  <tbody>\n",
       "    <tr>\n",
       "      <th>0</th>\n",
       "      <td>1665</td>\n",
       "      <td>0.903596</td>\n",
       "      <td>NaN</td>\n",
       "      <td>NaN</td>\n",
       "      <td>NaN</td>\n",
       "      <td>NaN</td>\n",
       "      <td>0.903596</td>\n",
       "      <td>0.0</td>\n",
       "      <td>NaN</td>\n",
       "      <td>NaN</td>\n",
       "      <td>...</td>\n",
       "      <td>NaN</td>\n",
       "      <td>NaN</td>\n",
       "      <td>NaN</td>\n",
       "      <td>NaN</td>\n",
       "      <td>NaN</td>\n",
       "      <td>NaN</td>\n",
       "      <td>NaN</td>\n",
       "      <td>NaN</td>\n",
       "      <td>NaN</td>\n",
       "      <td>NaN</td>\n",
       "    </tr>\n",
       "    <tr>\n",
       "      <th>1</th>\n",
       "      <td>1666</td>\n",
       "      <td>NaN</td>\n",
       "      <td>NaN</td>\n",
       "      <td>NaN</td>\n",
       "      <td>NaN</td>\n",
       "      <td>NaN</td>\n",
       "      <td>0.901691</td>\n",
       "      <td>NaN</td>\n",
       "      <td>NaN</td>\n",
       "      <td>NaN</td>\n",
       "      <td>...</td>\n",
       "      <td>NaN</td>\n",
       "      <td>NaN</td>\n",
       "      <td>NaN</td>\n",
       "      <td>NaN</td>\n",
       "      <td>NaN</td>\n",
       "      <td>NaN</td>\n",
       "      <td>NaN</td>\n",
       "      <td>NaN</td>\n",
       "      <td>NaN</td>\n",
       "      <td>NaN</td>\n",
       "    </tr>\n",
       "    <tr>\n",
       "      <th>2</th>\n",
       "      <td>1667</td>\n",
       "      <td>NaN</td>\n",
       "      <td>NaN</td>\n",
       "      <td>NaN</td>\n",
       "      <td>NaN</td>\n",
       "      <td>NaN</td>\n",
       "      <td>0.899786</td>\n",
       "      <td>NaN</td>\n",
       "      <td>NaN</td>\n",
       "      <td>NaN</td>\n",
       "      <td>...</td>\n",
       "      <td>NaN</td>\n",
       "      <td>NaN</td>\n",
       "      <td>NaN</td>\n",
       "      <td>NaN</td>\n",
       "      <td>NaN</td>\n",
       "      <td>NaN</td>\n",
       "      <td>NaN</td>\n",
       "      <td>NaN</td>\n",
       "      <td>NaN</td>\n",
       "      <td>NaN</td>\n",
       "    </tr>\n",
       "    <tr>\n",
       "      <th>3</th>\n",
       "      <td>1668</td>\n",
       "      <td>NaN</td>\n",
       "      <td>NaN</td>\n",
       "      <td>NaN</td>\n",
       "      <td>NaN</td>\n",
       "      <td>NaN</td>\n",
       "      <td>0.897881</td>\n",
       "      <td>NaN</td>\n",
       "      <td>NaN</td>\n",
       "      <td>NaN</td>\n",
       "      <td>...</td>\n",
       "      <td>NaN</td>\n",
       "      <td>NaN</td>\n",
       "      <td>NaN</td>\n",
       "      <td>NaN</td>\n",
       "      <td>NaN</td>\n",
       "      <td>NaN</td>\n",
       "      <td>NaN</td>\n",
       "      <td>NaN</td>\n",
       "      <td>NaN</td>\n",
       "      <td>NaN</td>\n",
       "    </tr>\n",
       "    <tr>\n",
       "      <th>4</th>\n",
       "      <td>1669</td>\n",
       "      <td>NaN</td>\n",
       "      <td>NaN</td>\n",
       "      <td>NaN</td>\n",
       "      <td>NaN</td>\n",
       "      <td>NaN</td>\n",
       "      <td>0.895975</td>\n",
       "      <td>NaN</td>\n",
       "      <td>NaN</td>\n",
       "      <td>NaN</td>\n",
       "      <td>...</td>\n",
       "      <td>NaN</td>\n",
       "      <td>NaN</td>\n",
       "      <td>NaN</td>\n",
       "      <td>NaN</td>\n",
       "      <td>NaN</td>\n",
       "      <td>NaN</td>\n",
       "      <td>NaN</td>\n",
       "      <td>NaN</td>\n",
       "      <td>NaN</td>\n",
       "      <td>NaN</td>\n",
       "    </tr>\n",
       "  </tbody>\n",
       "</table>\n",
       "<p>5 rows × 93 columns</p>\n",
       "</div>"
      ],
      "text/plain": [
       "   Year  Unnamed: 1  Unnamed: 2  Unnamed: 3  Unnamed: 4  Unnamed: 5  \\\n",
       "0  1665    0.903596         NaN         NaN         NaN         NaN   \n",
       "1  1666         NaN         NaN         NaN         NaN         NaN   \n",
       "2  1667         NaN         NaN         NaN         NaN         NaN   \n",
       "3  1668         NaN         NaN         NaN         NaN         NaN   \n",
       "4  1669         NaN         NaN         NaN         NaN         NaN   \n",
       "\n",
       "   Total Europe  Unnamed: 7  Unnamed: 8  Unnamed: 9  ...  Unnamed: 83  \\\n",
       "0      0.903596         0.0         NaN         NaN  ...          NaN   \n",
       "1      0.901691         NaN         NaN         NaN  ...          NaN   \n",
       "2      0.899786         NaN         NaN         NaN  ...          NaN   \n",
       "3      0.897881         NaN         NaN         NaN  ...          NaN   \n",
       "4      0.895975         NaN         NaN         NaN  ...          NaN   \n",
       "\n",
       "   Unnamed: 84  Unnamed: 85  Unnamed: 86  Unnamed: 87  Unnamed: 88  \\\n",
       "0          NaN          NaN          NaN          NaN          NaN   \n",
       "1          NaN          NaN          NaN          NaN          NaN   \n",
       "2          NaN          NaN          NaN          NaN          NaN   \n",
       "3          NaN          NaN          NaN          NaN          NaN   \n",
       "4          NaN          NaN          NaN          NaN          NaN   \n",
       "\n",
       "   Unnamed: 89  Unnamed: 90  Unnamed: 91  Unnamed: 92  \n",
       "0          NaN          NaN          NaN          NaN  \n",
       "1          NaN          NaN          NaN          NaN  \n",
       "2          NaN          NaN          NaN          NaN  \n",
       "3          NaN          NaN          NaN          NaN  \n",
       "4          NaN          NaN          NaN          NaN  \n",
       "\n",
       "[5 rows x 93 columns]"
      ]
     },
     "execution_count": 2,
     "metadata": {},
     "output_type": "execute_result"
    }
   ],
   "source": [
    "df=pd.read_excel(\"../Pandas Dataset/uk_export_wordwide(1665-2015).xlsx\")\n",
    "df.head()"
   ]
  },
  {
   "cell_type": "code",
   "execution_count": 3,
   "metadata": {},
   "outputs": [
    {
     "data": {
      "text/html": [
       "<div>\n",
       "<style scoped>\n",
       "    .dataframe tbody tr th:only-of-type {\n",
       "        vertical-align: middle;\n",
       "    }\n",
       "\n",
       "    .dataframe tbody tr th {\n",
       "        vertical-align: top;\n",
       "    }\n",
       "\n",
       "    .dataframe thead th {\n",
       "        text-align: right;\n",
       "    }\n",
       "</style>\n",
       "<table border=\"1\" class=\"dataframe\">\n",
       "  <thead>\n",
       "    <tr style=\"text-align: right;\">\n",
       "      <th></th>\n",
       "      <th>Year</th>\n",
       "      <th>Total Europe</th>\n",
       "      <th>Africa</th>\n",
       "      <th>Asia</th>\n",
       "      <th>North America incl. West Indies to 1972</th>\n",
       "      <th>South and Central America</th>\n",
       "      <th>Australia</th>\n",
       "      <th>Check</th>\n",
       "    </tr>\n",
       "  </thead>\n",
       "  <tbody>\n",
       "    <tr>\n",
       "      <th>0</th>\n",
       "      <td>1665</td>\n",
       "      <td>0.903596</td>\n",
       "      <td>0.0</td>\n",
       "      <td>0.014985</td>\n",
       "      <td>0.081419</td>\n",
       "      <td>0.0</td>\n",
       "      <td>0.0</td>\n",
       "      <td>1.0</td>\n",
       "    </tr>\n",
       "    <tr>\n",
       "      <th>1</th>\n",
       "      <td>1666</td>\n",
       "      <td>0.901691</td>\n",
       "      <td>0.0</td>\n",
       "      <td>0.015199</td>\n",
       "      <td>0.083110</td>\n",
       "      <td>0.0</td>\n",
       "      <td>0.0</td>\n",
       "      <td>1.0</td>\n",
       "    </tr>\n",
       "    <tr>\n",
       "      <th>2</th>\n",
       "      <td>1667</td>\n",
       "      <td>0.899786</td>\n",
       "      <td>0.0</td>\n",
       "      <td>0.015413</td>\n",
       "      <td>0.084801</td>\n",
       "      <td>0.0</td>\n",
       "      <td>0.0</td>\n",
       "      <td>1.0</td>\n",
       "    </tr>\n",
       "    <tr>\n",
       "      <th>3</th>\n",
       "      <td>1668</td>\n",
       "      <td>0.897881</td>\n",
       "      <td>0.0</td>\n",
       "      <td>0.015627</td>\n",
       "      <td>0.086493</td>\n",
       "      <td>0.0</td>\n",
       "      <td>0.0</td>\n",
       "      <td>1.0</td>\n",
       "    </tr>\n",
       "    <tr>\n",
       "      <th>4</th>\n",
       "      <td>1669</td>\n",
       "      <td>0.895975</td>\n",
       "      <td>0.0</td>\n",
       "      <td>0.015841</td>\n",
       "      <td>0.088184</td>\n",
       "      <td>0.0</td>\n",
       "      <td>0.0</td>\n",
       "      <td>1.0</td>\n",
       "    </tr>\n",
       "  </tbody>\n",
       "</table>\n",
       "</div>"
      ],
      "text/plain": [
       "   Year  Total Europe  Africa      Asia  \\\n",
       "0  1665      0.903596     0.0  0.014985   \n",
       "1  1666      0.901691     0.0  0.015199   \n",
       "2  1667      0.899786     0.0  0.015413   \n",
       "3  1668      0.897881     0.0  0.015627   \n",
       "4  1669      0.895975     0.0  0.015841   \n",
       "\n",
       "   North America incl. West Indies to 1972  South and Central America  \\\n",
       "0                                 0.081419                        0.0   \n",
       "1                                 0.083110                        0.0   \n",
       "2                                 0.084801                        0.0   \n",
       "3                                 0.086493                        0.0   \n",
       "4                                 0.088184                        0.0   \n",
       "\n",
       "   Australia  Check   \n",
       "0        0.0     1.0  \n",
       "1        0.0     1.0  \n",
       "2        0.0     1.0  \n",
       "3        0.0     1.0  \n",
       "4        0.0     1.0  "
      ]
     },
     "execution_count": 3,
     "metadata": {},
     "output_type": "execute_result"
    }
   ],
   "source": [
    "df.dropna(axis=1,inplace=True)\n",
    "df.head()"
   ]
  },
  {
   "cell_type": "code",
   "execution_count": 4,
   "metadata": {},
   "outputs": [
    {
     "data": {
      "text/html": [
       "<div>\n",
       "<style scoped>\n",
       "    .dataframe tbody tr th:only-of-type {\n",
       "        vertical-align: middle;\n",
       "    }\n",
       "\n",
       "    .dataframe tbody tr th {\n",
       "        vertical-align: top;\n",
       "    }\n",
       "\n",
       "    .dataframe thead th {\n",
       "        text-align: right;\n",
       "    }\n",
       "</style>\n",
       "<table border=\"1\" class=\"dataframe\">\n",
       "  <thead>\n",
       "    <tr style=\"text-align: right;\">\n",
       "      <th></th>\n",
       "      <th>Year</th>\n",
       "      <th>Total Europe</th>\n",
       "      <th>Africa</th>\n",
       "      <th>Asia</th>\n",
       "      <th>North America incl. West Indies to 1972</th>\n",
       "      <th>South and Central America</th>\n",
       "      <th>Australia</th>\n",
       "      <th>Check</th>\n",
       "    </tr>\n",
       "  </thead>\n",
       "  <tbody>\n",
       "    <tr>\n",
       "      <th>346</th>\n",
       "      <td>2011</td>\n",
       "      <td>0.603230</td>\n",
       "      <td>0.037194</td>\n",
       "      <td>0.175555</td>\n",
       "      <td>0.145614</td>\n",
       "      <td>0.022160</td>\n",
       "      <td>0.016247</td>\n",
       "      <td>1.000000</td>\n",
       "    </tr>\n",
       "    <tr>\n",
       "      <th>347</th>\n",
       "      <td>2012</td>\n",
       "      <td>0.572951</td>\n",
       "      <td>0.039311</td>\n",
       "      <td>0.194734</td>\n",
       "      <td>0.150603</td>\n",
       "      <td>0.024319</td>\n",
       "      <td>0.018082</td>\n",
       "      <td>1.000000</td>\n",
       "    </tr>\n",
       "    <tr>\n",
       "      <th>348</th>\n",
       "      <td>2013</td>\n",
       "      <td>0.568678</td>\n",
       "      <td>0.035920</td>\n",
       "      <td>0.209337</td>\n",
       "      <td>0.143867</td>\n",
       "      <td>0.025631</td>\n",
       "      <td>0.016566</td>\n",
       "      <td>1.000000</td>\n",
       "    </tr>\n",
       "    <tr>\n",
       "      <th>349</th>\n",
       "      <td>2014</td>\n",
       "      <td>0.576710</td>\n",
       "      <td>0.031455</td>\n",
       "      <td>0.219083</td>\n",
       "      <td>0.137743</td>\n",
       "      <td>0.020250</td>\n",
       "      <td>0.014760</td>\n",
       "      <td>1.000000</td>\n",
       "    </tr>\n",
       "    <tr>\n",
       "      <th>350</th>\n",
       "      <td>2015</td>\n",
       "      <td>0.532902</td>\n",
       "      <td>0.030162</td>\n",
       "      <td>0.209890</td>\n",
       "      <td>0.178275</td>\n",
       "      <td>0.023158</td>\n",
       "      <td>0.016124</td>\n",
       "      <td>0.990511</td>\n",
       "    </tr>\n",
       "  </tbody>\n",
       "</table>\n",
       "</div>"
      ],
      "text/plain": [
       "     Year  Total Europe    Africa      Asia  \\\n",
       "346  2011      0.603230  0.037194  0.175555   \n",
       "347  2012      0.572951  0.039311  0.194734   \n",
       "348  2013      0.568678  0.035920  0.209337   \n",
       "349  2014      0.576710  0.031455  0.219083   \n",
       "350  2015      0.532902  0.030162  0.209890   \n",
       "\n",
       "     North America incl. West Indies to 1972  South and Central America  \\\n",
       "346                                 0.145614                   0.022160   \n",
       "347                                 0.150603                   0.024319   \n",
       "348                                 0.143867                   0.025631   \n",
       "349                                 0.137743                   0.020250   \n",
       "350                                 0.178275                   0.023158   \n",
       "\n",
       "     Australia    Check   \n",
       "346   0.016247  1.000000  \n",
       "347   0.018082  1.000000  \n",
       "348   0.016566  1.000000  \n",
       "349   0.014760  1.000000  \n",
       "350   0.016124  0.990511  "
      ]
     },
     "execution_count": 4,
     "metadata": {},
     "output_type": "execute_result"
    }
   ],
   "source": [
    "df.tail()"
   ]
  },
  {
   "cell_type": "code",
   "execution_count": 5,
   "metadata": {},
   "outputs": [],
   "source": [
    "def multi_by_100(data):\n",
    "    return data*100\n",
    "\n",
    "\n",
    "df[\"Australia\"]=df[\"Australia\"].apply(multi_by_100)\n",
    "df[\"Africa\"]=df[\"Africa\"].apply(multi_by_100)\n",
    "df[\"Asia\"]=df[\"Asia\"].apply(multi_by_100)\n",
    "df[\"North America incl. West Indies to 1972\"]=df[\"North America incl. West Indies to 1972\"].apply(multi_by_100)\n",
    "df[\"South and Central America\"]=df[\"South and Central America\"].apply(multi_by_100)\n",
    "df[\"Total Europe\"]=df[\"Total Europe\"].apply(multi_by_100)"
   ]
  },
  {
   "cell_type": "code",
   "execution_count": 6,
   "metadata": {},
   "outputs": [
    {
     "data": {
      "text/html": [
       "<div>\n",
       "<style scoped>\n",
       "    .dataframe tbody tr th:only-of-type {\n",
       "        vertical-align: middle;\n",
       "    }\n",
       "\n",
       "    .dataframe tbody tr th {\n",
       "        vertical-align: top;\n",
       "    }\n",
       "\n",
       "    .dataframe thead th {\n",
       "        text-align: right;\n",
       "    }\n",
       "</style>\n",
       "<table border=\"1\" class=\"dataframe\">\n",
       "  <thead>\n",
       "    <tr style=\"text-align: right;\">\n",
       "      <th></th>\n",
       "      <th>Year</th>\n",
       "      <th>Total Europe</th>\n",
       "      <th>Africa</th>\n",
       "      <th>Asia</th>\n",
       "      <th>North America incl. West Indies to 1972</th>\n",
       "      <th>South and Central America</th>\n",
       "      <th>Australia</th>\n",
       "      <th>Check</th>\n",
       "    </tr>\n",
       "  </thead>\n",
       "  <tbody>\n",
       "    <tr>\n",
       "      <th>346</th>\n",
       "      <td>2011</td>\n",
       "      <td>60.323002</td>\n",
       "      <td>3.719364</td>\n",
       "      <td>17.555513</td>\n",
       "      <td>14.561396</td>\n",
       "      <td>2.215977</td>\n",
       "      <td>1.624747</td>\n",
       "      <td>1.000000</td>\n",
       "    </tr>\n",
       "    <tr>\n",
       "      <th>347</th>\n",
       "      <td>2012</td>\n",
       "      <td>57.295082</td>\n",
       "      <td>3.931092</td>\n",
       "      <td>19.473445</td>\n",
       "      <td>15.060291</td>\n",
       "      <td>2.431860</td>\n",
       "      <td>1.808230</td>\n",
       "      <td>1.000000</td>\n",
       "    </tr>\n",
       "    <tr>\n",
       "      <th>348</th>\n",
       "      <td>2013</td>\n",
       "      <td>56.867790</td>\n",
       "      <td>3.591987</td>\n",
       "      <td>20.933738</td>\n",
       "      <td>14.386750</td>\n",
       "      <td>2.563113</td>\n",
       "      <td>1.656622</td>\n",
       "      <td>1.000000</td>\n",
       "    </tr>\n",
       "    <tr>\n",
       "      <th>349</th>\n",
       "      <td>2014</td>\n",
       "      <td>57.671035</td>\n",
       "      <td>3.145507</td>\n",
       "      <td>21.908267</td>\n",
       "      <td>13.774266</td>\n",
       "      <td>2.024965</td>\n",
       "      <td>1.475961</td>\n",
       "      <td>1.000000</td>\n",
       "    </tr>\n",
       "    <tr>\n",
       "      <th>350</th>\n",
       "      <td>2015</td>\n",
       "      <td>53.290169</td>\n",
       "      <td>3.016162</td>\n",
       "      <td>20.988998</td>\n",
       "      <td>17.827487</td>\n",
       "      <td>2.315845</td>\n",
       "      <td>1.612398</td>\n",
       "      <td>0.990511</td>\n",
       "    </tr>\n",
       "  </tbody>\n",
       "</table>\n",
       "</div>"
      ],
      "text/plain": [
       "     Year  Total Europe    Africa       Asia  \\\n",
       "346  2011     60.323002  3.719364  17.555513   \n",
       "347  2012     57.295082  3.931092  19.473445   \n",
       "348  2013     56.867790  3.591987  20.933738   \n",
       "349  2014     57.671035  3.145507  21.908267   \n",
       "350  2015     53.290169  3.016162  20.988998   \n",
       "\n",
       "     North America incl. West Indies to 1972  South and Central America  \\\n",
       "346                                14.561396                   2.215977   \n",
       "347                                15.060291                   2.431860   \n",
       "348                                14.386750                   2.563113   \n",
       "349                                13.774266                   2.024965   \n",
       "350                                17.827487                   2.315845   \n",
       "\n",
       "     Australia    Check   \n",
       "346   1.624747  1.000000  \n",
       "347   1.808230  1.000000  \n",
       "348   1.656622  1.000000  \n",
       "349   1.475961  1.000000  \n",
       "350   1.612398  0.990511  "
      ]
     },
     "execution_count": 6,
     "metadata": {},
     "output_type": "execute_result"
    }
   ],
   "source": [
    "df.tail()"
   ]
  },
  {
   "cell_type": "code",
   "execution_count": 7,
   "metadata": {},
   "outputs": [
    {
     "data": {
      "text/plain": [
       "Year                                       0\n",
       "Total Europe                               0\n",
       "Africa                                     0\n",
       "Asia                                       0\n",
       "North America incl. West Indies to 1972    0\n",
       "South and Central America                  0\n",
       "Australia                                  0\n",
       "Check                                      0\n",
       "dtype: int64"
      ]
     },
     "execution_count": 7,
     "metadata": {},
     "output_type": "execute_result"
    }
   ],
   "source": [
    "df.isnull().sum()"
   ]
  },
  {
   "cell_type": "code",
   "execution_count": 8,
   "metadata": {},
   "outputs": [
    {
     "data": {
      "text/plain": [
       "Year                                       0\n",
       "Total Europe                               0\n",
       "Africa                                     0\n",
       "Asia                                       0\n",
       "North America incl. West Indies to 1972    0\n",
       "South and Central America                  0\n",
       "Australia                                  0\n",
       "Check                                      0\n",
       "dtype: int64"
      ]
     },
     "execution_count": 8,
     "metadata": {},
     "output_type": "execute_result"
    }
   ],
   "source": [
    "df.isna().sum()"
   ]
  },
  {
   "cell_type": "code",
   "execution_count": 9,
   "metadata": {},
   "outputs": [
    {
     "data": {
      "text/plain": [
       "(351, 8)"
      ]
     },
     "execution_count": 9,
     "metadata": {},
     "output_type": "execute_result"
    }
   ],
   "source": [
    "df.shape"
   ]
  },
  {
   "cell_type": "code",
   "execution_count": 10,
   "metadata": {},
   "outputs": [
    {
     "data": {
      "text/plain": [
       "<bound method IndexOpsMixin.tolist of Index(['Year', 'Total Europe', 'Africa', 'Asia',\n",
       "       'North America incl. West Indies to 1972', 'South and Central America',\n",
       "       'Australia', 'Check '],\n",
       "      dtype='object')>"
      ]
     },
     "execution_count": 10,
     "metadata": {},
     "output_type": "execute_result"
    }
   ],
   "source": [
    "df.columns.tolist"
   ]
  },
  {
   "cell_type": "code",
   "execution_count": 14,
   "metadata": {},
   "outputs": [],
   "source": [
    "x=df[['Year', 'Africa', 'Asia',\n",
    "       'North America incl. West Indies to 1972', 'South and Central America',\n",
    "       'Australia',]]\n",
    "\n",
    "y=df[\"Total Europe\"]"
   ]
  },
  {
   "cell_type": "code",
   "execution_count": 15,
   "metadata": {},
   "outputs": [
    {
     "data": {
      "text/html": [
       "<style>#sk-container-id-1 {color: black;}#sk-container-id-1 pre{padding: 0;}#sk-container-id-1 div.sk-toggleable {background-color: white;}#sk-container-id-1 label.sk-toggleable__label {cursor: pointer;display: block;width: 100%;margin-bottom: 0;padding: 0.3em;box-sizing: border-box;text-align: center;}#sk-container-id-1 label.sk-toggleable__label-arrow:before {content: \"▸\";float: left;margin-right: 0.25em;color: #696969;}#sk-container-id-1 label.sk-toggleable__label-arrow:hover:before {color: black;}#sk-container-id-1 div.sk-estimator:hover label.sk-toggleable__label-arrow:before {color: black;}#sk-container-id-1 div.sk-toggleable__content {max-height: 0;max-width: 0;overflow: hidden;text-align: left;background-color: #f0f8ff;}#sk-container-id-1 div.sk-toggleable__content pre {margin: 0.2em;color: black;border-radius: 0.25em;background-color: #f0f8ff;}#sk-container-id-1 input.sk-toggleable__control:checked~div.sk-toggleable__content {max-height: 200px;max-width: 100%;overflow: auto;}#sk-container-id-1 input.sk-toggleable__control:checked~label.sk-toggleable__label-arrow:before {content: \"▾\";}#sk-container-id-1 div.sk-estimator input.sk-toggleable__control:checked~label.sk-toggleable__label {background-color: #d4ebff;}#sk-container-id-1 div.sk-label input.sk-toggleable__control:checked~label.sk-toggleable__label {background-color: #d4ebff;}#sk-container-id-1 input.sk-hidden--visually {border: 0;clip: rect(1px 1px 1px 1px);clip: rect(1px, 1px, 1px, 1px);height: 1px;margin: -1px;overflow: hidden;padding: 0;position: absolute;width: 1px;}#sk-container-id-1 div.sk-estimator {font-family: monospace;background-color: #f0f8ff;border: 1px dotted black;border-radius: 0.25em;box-sizing: border-box;margin-bottom: 0.5em;}#sk-container-id-1 div.sk-estimator:hover {background-color: #d4ebff;}#sk-container-id-1 div.sk-parallel-item::after {content: \"\";width: 100%;border-bottom: 1px solid gray;flex-grow: 1;}#sk-container-id-1 div.sk-label:hover label.sk-toggleable__label {background-color: #d4ebff;}#sk-container-id-1 div.sk-serial::before {content: \"\";position: absolute;border-left: 1px solid gray;box-sizing: border-box;top: 0;bottom: 0;left: 50%;z-index: 0;}#sk-container-id-1 div.sk-serial {display: flex;flex-direction: column;align-items: center;background-color: white;padding-right: 0.2em;padding-left: 0.2em;position: relative;}#sk-container-id-1 div.sk-item {position: relative;z-index: 1;}#sk-container-id-1 div.sk-parallel {display: flex;align-items: stretch;justify-content: center;background-color: white;position: relative;}#sk-container-id-1 div.sk-item::before, #sk-container-id-1 div.sk-parallel-item::before {content: \"\";position: absolute;border-left: 1px solid gray;box-sizing: border-box;top: 0;bottom: 0;left: 50%;z-index: -1;}#sk-container-id-1 div.sk-parallel-item {display: flex;flex-direction: column;z-index: 1;position: relative;background-color: white;}#sk-container-id-1 div.sk-parallel-item:first-child::after {align-self: flex-end;width: 50%;}#sk-container-id-1 div.sk-parallel-item:last-child::after {align-self: flex-start;width: 50%;}#sk-container-id-1 div.sk-parallel-item:only-child::after {width: 0;}#sk-container-id-1 div.sk-dashed-wrapped {border: 1px dashed gray;margin: 0 0.4em 0.5em 0.4em;box-sizing: border-box;padding-bottom: 0.4em;background-color: white;}#sk-container-id-1 div.sk-label label {font-family: monospace;font-weight: bold;display: inline-block;line-height: 1.2em;}#sk-container-id-1 div.sk-label-container {text-align: center;}#sk-container-id-1 div.sk-container {/* jupyter's `normalize.less` sets `[hidden] { display: none; }` but bootstrap.min.css set `[hidden] { display: none !important; }` so we also need the `!important` here to be able to override the default hidden behavior on the sphinx rendered scikit-learn.org. See: https://github.com/scikit-learn/scikit-learn/issues/21755 */display: inline-block !important;position: relative;}#sk-container-id-1 div.sk-text-repr-fallback {display: none;}</style><div id=\"sk-container-id-1\" class=\"sk-top-container\"><div class=\"sk-text-repr-fallback\"><pre>LinearRegression()</pre><b>In a Jupyter environment, please rerun this cell to show the HTML representation or trust the notebook. <br />On GitHub, the HTML representation is unable to render, please try loading this page with nbviewer.org.</b></div><div class=\"sk-container\" hidden><div class=\"sk-item\"><div class=\"sk-estimator sk-toggleable\"><input class=\"sk-toggleable__control sk-hidden--visually\" id=\"sk-estimator-id-1\" type=\"checkbox\" checked><label for=\"sk-estimator-id-1\" class=\"sk-toggleable__label sk-toggleable__label-arrow\">LinearRegression</label><div class=\"sk-toggleable__content\"><pre>LinearRegression()</pre></div></div></div></div></div>"
      ],
      "text/plain": [
       "LinearRegression()"
      ]
     },
     "execution_count": 15,
     "metadata": {},
     "output_type": "execute_result"
    }
   ],
   "source": [
    "reg=LinearRegression()\n",
    "reg.fit(x,y)"
   ]
  },
  {
   "cell_type": "code",
   "execution_count": 16,
   "metadata": {},
   "outputs": [
    {
     "data": {
      "text/plain": [
       "array([90.36387846, 90.17331292, 89.98274739, 89.79218185, 89.60161632,\n",
       "       89.41105079, 89.22048525, 89.02991972, 88.83935419, 88.64878865,\n",
       "       88.45822312, 88.26765759, 88.07709205, 87.88652652, 87.69596098,\n",
       "       87.50539545, 87.31482992, 87.12426438, 86.93369885, 86.74313332,\n",
       "       86.55256778, 86.36200225, 86.17143672, 85.98087118, 85.79030565,\n",
       "       85.59974011, 85.40917458, 85.21860905, 85.02804351, 84.83747798,\n",
       "       84.64691245, 84.45634691, 84.26578138, 84.07521585, 83.88465031,\n",
       "       83.69408478, 84.08846878, 84.48285277, 84.87723677, 85.27162077,\n",
       "       85.66600476, 86.06038876, 86.45477276, 86.84915676, 87.24354075,\n",
       "       87.63792475, 86.15245116, 87.25439825, 84.97330571, 86.83698556,\n",
       "       82.12933878, 83.20293855, 82.48467756, 79.74379178, 86.00924881,\n",
       "       87.00386568, 85.95210628, 81.26145664, 80.68881468, 80.52616856,\n",
       "       77.41988151, 83.11624525, 83.43187834, 84.12965992, 81.62875846,\n",
       "       78.70842113, 82.09338893, 78.41398181, 85.21336396, 83.8675823 ,\n",
       "       82.72909734, 82.32307854, 80.374682  , 82.41153063, 79.88679278,\n",
       "       79.17784462, 72.66822297, 72.73350527, 75.28682962, 78.2858556 ,\n",
       "       80.95019621, 72.29157061, 76.45150458, 83.84912443, 75.78358974,\n",
       "       77.08928675, 73.3621604 , 73.49439978, 68.92617976, 71.46106217,\n",
       "       70.62187911, 73.75641901, 64.87973575, 63.4176946 , 63.82539644,\n",
       "       57.93504131, 68.16572153, 62.95936065, 66.67425417, 65.6140779 ,\n",
       "       63.37809739, 61.82751121, 57.58609267, 59.38430345, 59.40903277,\n",
       "       57.8447014 , 51.14986551, 54.89082933, 57.46921099, 58.50571494,\n",
       "       67.6435145 , 69.04287295, 62.97726185, 64.65953398, 64.76035847,\n",
       "       51.65172587, 58.40062381, 56.87364887, 52.92561853, 46.86358538,\n",
       "       46.94780929, 46.09273987, 45.23767045, 44.38260102, 43.5275316 ,\n",
       "       42.67246217, 41.81739275, 40.96232332, 40.1072539 , 39.25218448,\n",
       "       38.39711505, 38.97840319, 39.55969133, 40.14097946, 40.7222676 ,\n",
       "       41.30355574, 41.88484388, 42.46613201, 43.04742015, 43.62870829,\n",
       "       44.20999643, 45.62597012, 47.04194382, 48.45791752, 49.87389121,\n",
       "       51.28986491, 52.70583861, 54.1218123 , 55.537786  , 56.9537597 ,\n",
       "       58.36973339, 57.14759325, 55.9254531 , 54.70331296, 53.48117282,\n",
       "       52.25903267, 51.03689253, 49.81475238, 48.59261224, 47.3704721 ,\n",
       "       46.14833195, 45.94334876, 45.73836556, 45.53338236, 45.32839916,\n",
       "       45.12341597, 44.91843277, 44.71344957, 44.50846638, 44.30348318,\n",
       "       44.09849998, 44.12159136, 44.14468273, 44.16777411, 44.19086549,\n",
       "       44.21395686, 44.23704824, 44.26013961, 44.28323099, 44.30632237,\n",
       "       44.32941374, 43.34075461, 42.35209547, 41.36343633, 40.3747772 ,\n",
       "       39.38611806, 38.39745893, 37.40879979, 36.42014066, 35.43148152,\n",
       "       42.16111612, 42.08046008, 42.39890071, 42.15853399, 37.53600943,\n",
       "       41.6292255 , 49.58524555, 48.23365765, 47.29042557, 45.94387636,\n",
       "       47.10843079, 42.76017279, 45.28167533, 47.25862482, 47.9414995 ,\n",
       "       45.17439735, 50.39009817, 46.84407639, 48.71018815, 48.24596056,\n",
       "       49.01873126, 50.70112367, 46.53730572, 47.51750233, 47.6282688 ,\n",
       "       42.93179163, 42.57903374, 42.24818625, 42.79717039, 43.29600872,\n",
       "       41.69409168, 39.64329075, 39.64486451, 38.58615151, 39.46136716,\n",
       "       39.35601976, 39.91275883, 40.56387459, 40.15067774, 42.83623343,\n",
       "       42.48309112, 40.69053372, 41.07601057, 43.60074716, 43.7594366 ,\n",
       "       41.97300153, 41.76662588, 38.42884127, 39.03379645, 37.98816732,\n",
       "       37.41954753, 36.84085115, 37.95189095, 41.39888367, 39.29067554,\n",
       "       38.52312176, 38.91411992, 38.27708196, 38.40409036, 36.88953977,\n",
       "       44.16611044, 44.2124031 , 48.52912833, 45.99194544, 57.68757203,\n",
       "       40.92596789, 36.1573609 , 38.47856348, 38.1199079 , 38.52896395,\n",
       "       37.52850921, 32.44140763, 35.82732455, 35.05235628, 36.8602387 ,\n",
       "       39.73963875, 42.79345071, 41.77518379, 39.65224571, 39.34882096,\n",
       "       38.12192859, 36.59570776, 36.25101009, 37.37104878, 34.73161261,\n",
       "       18.38687623, 12.48152463, 23.11960879, 24.6192061 , 26.9335988 ,\n",
       "       31.23475496, 36.10426861, 30.22098677, 28.81720173, 27.49236258,\n",
       "       29.64473646, 28.16456456, 28.87787133, 30.94101329, 31.51073585,\n",
       "       31.18656879, 32.53912587, 32.16730267, 31.11274371, 31.58815806,\n",
       "       33.67372052, 38.04994549, 41.49053685, 42.90116099, 42.79540979,\n",
       "       41.75070385, 43.07208457, 43.81812965, 43.307481  , 44.98891945,\n",
       "       48.00795619, 46.51600322, 51.87206078, 52.90235249, 54.03573027,\n",
       "       53.24739289, 55.96976155, 57.66918123, 57.14803175, 62.35261854,\n",
       "       63.18463985, 59.21674688, 59.01177746, 60.99199342, 61.63745075,\n",
       "       62.21656393, 61.7846688 , 62.42694778, 63.55660885, 63.55543147,\n",
       "       65.39994311, 67.83495861, 65.69920591, 63.00496094, 63.21489427,\n",
       "       64.88575356, 64.54618529, 63.46842723, 65.99747274, 66.73128742,\n",
       "       65.55253894, 66.07972714, 67.20384017, 64.16089865, 63.64655933,\n",
       "       63.74564659, 67.19286926, 63.46015143, 62.45211453, 60.43199515,\n",
       "       60.09230583, 60.3131311 , 57.28222572, 56.85251069, 57.65294101,\n",
       "       54.22254904])"
      ]
     },
     "execution_count": 16,
     "metadata": {},
     "output_type": "execute_result"
    }
   ],
   "source": [
    "predicted_y=reg.predict(x)\n",
    "predicted_y"
   ]
  },
  {
   "cell_type": "code",
   "execution_count": 24,
   "metadata": {},
   "outputs": [
    {
     "data": {
      "text/html": [
       "<div>\n",
       "<style scoped>\n",
       "    .dataframe tbody tr th:only-of-type {\n",
       "        vertical-align: middle;\n",
       "    }\n",
       "\n",
       "    .dataframe tbody tr th {\n",
       "        vertical-align: top;\n",
       "    }\n",
       "\n",
       "    .dataframe thead th {\n",
       "        text-align: right;\n",
       "    }\n",
       "</style>\n",
       "<table border=\"1\" class=\"dataframe\">\n",
       "  <thead>\n",
       "    <tr style=\"text-align: right;\">\n",
       "      <th></th>\n",
       "      <th>Year</th>\n",
       "      <th>Total Europe</th>\n",
       "      <th>Africa</th>\n",
       "      <th>Asia</th>\n",
       "      <th>North America incl. West Indies to 1972</th>\n",
       "      <th>South and Central America</th>\n",
       "      <th>Australia</th>\n",
       "      <th>Check</th>\n",
       "    </tr>\n",
       "  </thead>\n",
       "  <tbody>\n",
       "    <tr>\n",
       "      <th>346</th>\n",
       "      <td>2011</td>\n",
       "      <td>60.323002</td>\n",
       "      <td>3.719364</td>\n",
       "      <td>17.555513</td>\n",
       "      <td>14.561396</td>\n",
       "      <td>2.215977</td>\n",
       "      <td>1.624747</td>\n",
       "      <td>1.000000</td>\n",
       "    </tr>\n",
       "    <tr>\n",
       "      <th>347</th>\n",
       "      <td>2012</td>\n",
       "      <td>57.295082</td>\n",
       "      <td>3.931092</td>\n",
       "      <td>19.473445</td>\n",
       "      <td>15.060291</td>\n",
       "      <td>2.431860</td>\n",
       "      <td>1.808230</td>\n",
       "      <td>1.000000</td>\n",
       "    </tr>\n",
       "    <tr>\n",
       "      <th>348</th>\n",
       "      <td>2013</td>\n",
       "      <td>56.867790</td>\n",
       "      <td>3.591987</td>\n",
       "      <td>20.933738</td>\n",
       "      <td>14.386750</td>\n",
       "      <td>2.563113</td>\n",
       "      <td>1.656622</td>\n",
       "      <td>1.000000</td>\n",
       "    </tr>\n",
       "    <tr>\n",
       "      <th>349</th>\n",
       "      <td>2014</td>\n",
       "      <td>57.671035</td>\n",
       "      <td>3.145507</td>\n",
       "      <td>21.908267</td>\n",
       "      <td>13.774266</td>\n",
       "      <td>2.024965</td>\n",
       "      <td>1.475961</td>\n",
       "      <td>1.000000</td>\n",
       "    </tr>\n",
       "    <tr>\n",
       "      <th>350</th>\n",
       "      <td>2015</td>\n",
       "      <td>53.290169</td>\n",
       "      <td>3.016162</td>\n",
       "      <td>20.988998</td>\n",
       "      <td>17.827487</td>\n",
       "      <td>2.315845</td>\n",
       "      <td>1.612398</td>\n",
       "      <td>0.990511</td>\n",
       "    </tr>\n",
       "  </tbody>\n",
       "</table>\n",
       "</div>"
      ],
      "text/plain": [
       "     Year  Total Europe    Africa       Asia  \\\n",
       "346  2011     60.323002  3.719364  17.555513   \n",
       "347  2012     57.295082  3.931092  19.473445   \n",
       "348  2013     56.867790  3.591987  20.933738   \n",
       "349  2014     57.671035  3.145507  21.908267   \n",
       "350  2015     53.290169  3.016162  20.988998   \n",
       "\n",
       "     North America incl. West Indies to 1972  South and Central America  \\\n",
       "346                                14.561396                   2.215977   \n",
       "347                                15.060291                   2.431860   \n",
       "348                                14.386750                   2.563113   \n",
       "349                                13.774266                   2.024965   \n",
       "350                                17.827487                   2.315845   \n",
       "\n",
       "     Australia    Check   \n",
       "346   1.624747  1.000000  \n",
       "347   1.808230  1.000000  \n",
       "348   1.656622  1.000000  \n",
       "349   1.475961  1.000000  \n",
       "350   1.612398  0.990511  "
      ]
     },
     "execution_count": 24,
     "metadata": {},
     "output_type": "execute_result"
    }
   ],
   "source": [
    "df.tail()"
   ]
  },
  {
   "cell_type": "code",
   "execution_count": 23,
   "metadata": {},
   "outputs": [
    {
     "name": "stderr",
     "output_type": "stream",
     "text": [
      "c:\\Users\\isfar\\AppData\\Local\\Programs\\Python\\Python311\\Lib\\site-packages\\sklearn\\base.py:464: UserWarning: X does not have valid feature names, but LinearRegression was fitted with feature names\n",
      "  warnings.warn(\n"
     ]
    },
    {
     "data": {
      "text/plain": [
       "array([57.65294044])"
      ]
     },
     "execution_count": 23,
     "metadata": {},
     "output_type": "execute_result"
    }
   ],
   "source": [
    "reg.predict([[2014,\t3.145507,\t21.908267,\t13.774266,\t2.024965,\t1.475961\t]])"
   ]
  },
  {
   "cell_type": "code",
   "execution_count": 28,
   "metadata": {},
   "outputs": [],
   "source": [
    "m=reg.coef_\n",
    "c=reg.intercept_\n"
   ]
  },
  {
   "cell_type": "code",
   "execution_count": 29,
   "metadata": {},
   "outputs": [
    {
     "data": {
      "text/plain": [
       "array([ 3.06367618e-05, -9.99916862e-01, -1.00182372e+00, -1.00020304e+00,\n",
       "       -9.98164349e-01, -9.99076722e-01])"
      ]
     },
     "execution_count": 29,
     "metadata": {},
     "output_type": "execute_result"
    }
   ],
   "source": [
    "m"
   ]
  },
  {
   "cell_type": "code",
   "execution_count": 27,
   "metadata": {},
   "outputs": [
    {
     "data": {
      "text/plain": [
       "99.95761384539574"
      ]
     },
     "execution_count": 27,
     "metadata": {},
     "output_type": "execute_result"
    }
   ],
   "source": [
    "c"
   ]
  },
  {
   "cell_type": "code",
   "execution_count": 36,
   "metadata": {},
   "outputs": [
    {
     "data": {
      "text/plain": [
       "[<matplotlib.lines.Line2D at 0x1ea5ce9a310>]"
      ]
     },
     "execution_count": 36,
     "metadata": {},
     "output_type": "execute_result"
    },
    {
     "data": {
      "image/png": "[encoded data removed]",
      "text/plain": [
       "<Figure size 640x480 with 1 Axes>"
      ]
     },
     "metadata": {},
     "output_type": "display_data"
    }
   ],
   "source": [
    "plt.scatter(x[\"Year\"],y)\n",
    "plt.plot(x[\"Year\"],predicted_y,\"r\")"
   ]
  },
  {
   "cell_type": "code",
   "execution_count": 37,
   "metadata": {},
   "outputs": [
    {
     "data": {
      "text/plain": [
       "0.01026611927724038"
      ]
     },
     "execution_count": 37,
     "metadata": {},
     "output_type": "execute_result"
    }
   ],
   "source": [
    "from sklearn.metrics import mean_absolute_error\n",
    "\n",
    "\n",
    "mean_absolute_error(predicted_y,y)"
   ]
  }
 ],
 "metadata": {
  "kernelspec": {
   "display_name": "Python 3",
   "language": "python",
   "name": "python3"
  },
  "language_info": {
   "codemirror_mode": {
    "name": "ipython",
    "version": 3
   },
   "file_extension": ".py",
   "mimetype": "text/x-python",
   "name": "python",
   "nbconvert_exporter": "python",
   "pygments_lexer": "ipython3",
   "version": "3.11.4"
  }
 },
 "nbformat": 4,
 "nbformat_minor": 2
}
